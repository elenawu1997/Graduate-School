{
 "cells": [
  {
   "cell_type": "code",
   "execution_count": 1,
   "metadata": {
    "id": "0u2wvE70ZewU"
   },
   "outputs": [],
   "source": [
    "#讀檔相關 (PA2已用過)\n",
    "import os\n",
    "import urllib.request \n",
    "import pandas as pd\n",
    "import numpy as np\n",
    "\n",
    "#SVM訓練相關\n",
    "from sklearn.model_selection import train_test_split\n",
    "from sklearn.svm import SVC\n",
    "\n",
    "#evaluation相關\n",
    "from sklearn import metrics\n",
    "from sklearn.preprocessing import label_binarize\n",
    "from sklearn.metrics import precision_recall_curve\n",
    "import matplotlib.pyplot as plt"
   ]
  },
  {
   "cell_type": "code",
   "execution_count": null,
   "metadata": {
    "colab": {
     "base_uri": "https://localhost:8080/"
    },
    "id": "GoICp_to4Viz",
    "outputId": "783dc919-e87c-4d04-94e5-635b59405470"
   },
   "outputs": [],
   "source": [
    "# BERT相關\n",
    "from keras_bert import extract_embeddings\n",
    "from keras_bert import load_vocabulary\n",
    "from keras_bert import Tokenizer"
   ]
  },
  {
   "cell_type": "code",
   "execution_count": 5,
   "metadata": {},
   "outputs": [],
   "source": [
    "def index_2d(myList, v):\n",
    "    for i, x in enumerate(myList):\n",
    "        if v in x:\n",
    "            return (i, x.index(v))"
   ]
  },
  {
   "cell_type": "code",
   "execution_count": 3,
   "metadata": {},
   "outputs": [
    {
     "data": {
      "text/plain": [
       "'/Users/wuyunwei/Desktop/碩二上/TM/PA3'"
      ]
     },
     "execution_count": 3,
     "metadata": {},
     "output_type": "execute_result"
    }
   ],
   "source": [
    "os.getcwd()"
   ]
  },
  {
   "cell_type": "code",
   "execution_count": 8,
   "metadata": {
    "id": "UGPo0Z--4eO-"
   },
   "outputs": [],
   "source": [
    "model_path = os.getcwd() + \"/uncased_L-12_H-768_A-12\"\n",
    "dict_path = os.getcwd() + \"/uncased_L-12_H-768_A-12/vocab.txt\""
   ]
  },
  {
   "cell_type": "code",
   "execution_count": 9,
   "metadata": {
    "id": "8_RIM9v55iXc"
   },
   "outputs": [],
   "source": [
    "bert_token_dict = load_vocabulary(dict_path)\n",
    "bert_tokenizer = Tokenizer(bert_token_dict)"
   ]
  },
  {
   "cell_type": "code",
   "execution_count": 3,
   "metadata": {
    "id": "N9_dfWQY5yxC"
   },
   "outputs": [],
   "source": [
    "documents = []\n",
    "data_path = os.getcwd() + \"/data/\"\n",
    "for i in range(1,1096):\n",
    "    f = open(data_path + str(i)+'.txt', 'r')\n",
    "    text = \"\"\n",
    "    for line in f.readlines():\n",
    "        text = text + (line.strip ('\\n'))\n",
    "    documents.append(text)\n",
    "    f.close()\n",
    "#print(len(documents))"
   ]
  },
  {
   "cell_type": "code",
   "execution_count": 11,
   "metadata": {
    "id": "0RIkxqB_5zFT"
   },
   "outputs": [],
   "source": [
    "embeddings = extract_embeddings(model_path, documents)"
   ]
  },
  {
   "cell_type": "code",
   "execution_count": 12,
   "metadata": {
    "colab": {
     "base_uri": "https://localhost:8080/"
    },
    "collapsed": true,
    "id": "nYsI_Npc5zIG",
    "jupyter": {
     "outputs_hidden": true
    },
    "outputId": "2db28362-323e-461d-e637-c7811590a0f5"
   },
   "outputs": [
    {
     "name": "stdout",
     "output_type": "stream",
     "text": [
      "1095\n",
      "379\n",
      "768\n",
      "[ 1.03948462e+00  1.32736355e-01  3.11212271e-01  1.30065978e-01\n",
      " -3.02166879e-01 -1.97313786e-01 -4.06274825e-01 -1.68459207e-01\n",
      " -1.33179531e-01  3.95210743e-01 -8.84482861e-01  3.47435176e-01\n",
      " -4.86092329e-01  4.84456494e-02  4.30262864e-01  9.61344168e-02\n",
      "  3.23823839e-02 -6.10297695e-02  1.00069404e+00  1.60364881e-01\n",
      "  6.25343740e-01 -9.80581790e-02  3.78990233e-01 -4.27817143e-02\n",
      "  6.19700432e-01  7.10278377e-02  3.02796543e-01 -1.24017191e+00\n",
      " -5.06845236e-01  5.01507282e-01 -2.23473683e-02 -1.46548882e-01\n",
      "  4.51703310e-01 -6.56047881e-01  1.36566430e-01  1.04092777e+00\n",
      "  5.88564515e-01 -1.18914604e-01 -2.36045778e-01 -3.32842737e-01\n",
      "  5.17041862e-01 -8.12072635e-01  3.46537530e-01 -2.48751849e-01\n",
      "  6.50545120e-01  4.05502796e-01 -1.81663960e-01  6.06033742e-01\n",
      " -1.04891405e-01 -4.53448892e-01  3.55572224e-01 -7.84113884e-01\n",
      "  1.30654633e+00  4.74160165e-01  1.13123953e-01 -1.06457718e-01\n",
      "  5.23678958e-01  5.05462170e-01  1.99973941e-01 -1.15680307e-01\n",
      " -7.83320144e-02 -1.75275072e-01 -1.88179180e-01 -4.72170025e-01\n",
      " -3.50373089e-01 -3.80262285e-02  3.22660625e-01  5.84799349e-01\n",
      "  2.12140590e-01 -6.00855313e-02  1.36489958e-01 -2.10680142e-01\n",
      " -1.24483669e+00  2.25659147e-01 -8.81948292e-01  5.08862555e-01\n",
      "  1.09947771e-02  8.31861019e-01 -7.55473971e-01 -7.37959445e-01\n",
      " -2.40854457e-01  5.29982090e-01 -6.16657019e-01  1.70440227e-01\n",
      "  7.10835159e-02  6.52879775e-01  5.19759238e-01  1.07352614e+00\n",
      " -3.84885699e-01  1.72531754e-01  7.73250639e-01  5.54189682e-01\n",
      "  2.32014418e-01  5.39727747e-01  1.57457307e-01 -6.27346933e-01\n",
      "  5.93753457e-01 -3.51681590e-01 -6.25844955e-01 -2.77870715e-01\n",
      " -6.33829176e-01 -1.88687146e-02 -3.79555315e-01  6.95274711e-01\n",
      "  8.03003252e-01 -1.47240341e-01  4.35650349e-01  5.29526293e-01\n",
      " -8.51351172e-02  5.37735522e-01  7.39709318e-01  1.09475625e+00\n",
      " -1.43119663e-01  1.81331784e-02 -2.82570720e-01 -1.14440143e-01\n",
      " -1.80883512e-01  3.30726326e-01  3.06150645e-01 -6.69333339e-02\n",
      " -1.01874971e+00  2.57631093e-01 -7.22173452e-02  6.23920739e-01\n",
      "  1.56858623e-01 -6.63876012e-02 -2.55136192e-01  3.69909137e-01\n",
      "  2.30338156e-01  3.51395845e-01 -5.77047586e-01  7.91851699e-01\n",
      "  2.56267637e-01 -1.19970813e-02 -7.74097741e-02  3.50813493e-02\n",
      " -1.69275030e-02  2.19336823e-01  4.31397796e-01 -2.75170803e-01\n",
      "  7.95803964e-04  5.38702130e-01  9.51976180e-02  1.98748440e-01\n",
      " -4.01109219e-01  2.54393339e-01  4.45577234e-01  1.63890012e-02\n",
      " -7.92070329e-02  4.20093745e-01 -2.27389365e-01 -3.34227532e-01\n",
      " -4.61838663e-01  8.10598016e-01  5.91880977e-02 -2.46597320e-01\n",
      "  6.05622292e-01 -5.24914078e-02 -4.40911800e-01 -3.20117831e-01\n",
      " -8.30976218e-02  1.89790368e-01 -4.14259940e-01 -4.07278985e-01\n",
      "  6.53970838e-01  3.24380510e-02 -2.19823718e-01  2.49471724e-01\n",
      " -4.00796793e-02 -2.68420260e-02  1.28963470e-01  7.75594473e-01\n",
      "  2.47572213e-01 -2.66208947e-01 -1.26825064e-01 -7.92892456e-01\n",
      " -1.95204020e-01 -6.15370452e-01 -3.96271318e-01 -1.61554217e-01\n",
      " -2.28506178e-02 -8.37753043e-02 -1.26590937e-01  6.33279681e-01\n",
      " -4.42717262e-02 -7.63001740e-02 -3.05475950e-01 -2.33515486e-01\n",
      "  5.16903877e-01 -4.14047390e-02 -3.46585140e-02 -4.23672497e-01\n",
      "  2.78615087e-01 -5.73672891e-01 -1.60421669e-01 -1.91729486e-01\n",
      " -3.57596636e-01 -5.85017085e-01  4.07866910e-02  2.14140326e-01\n",
      " -1.39823988e-01 -3.58113885e-01  6.02857657e-02  1.45911366e-01\n",
      "  2.31611729e-03  1.36149943e-01  9.59572434e-01 -2.61787534e-01\n",
      " -3.89238566e-01 -2.76435077e-01 -9.37509000e-01  1.98758483e-01\n",
      " -6.04236647e-02  1.42604411e-01  1.34335071e-01 -1.11307633e+00\n",
      " -2.92193949e-01  1.57805637e-01  2.52678007e-01  1.77961624e+00\n",
      "  1.86214611e-01  2.91778147e-03 -9.95174274e-02 -3.86323839e-01\n",
      "  2.00318515e-01  5.26116848e-01 -1.92697272e-01  4.87843275e-01\n",
      "  1.10902154e+00 -3.23141426e-01  3.46319854e-01 -1.81742892e-01\n",
      " -3.85452330e-01  7.71323740e-01  1.24729104e-01  7.93750525e-01\n",
      "  2.01317191e-01 -2.77891666e-01  8.15355122e-01 -1.03637815e+00\n",
      "  4.97161627e-01 -8.32454860e-02  1.98299676e-01  3.25240314e-01\n",
      " -2.59507447e-01 -1.78258151e-01  2.37305716e-01 -9.78674710e-01\n",
      "  1.17500618e-01  9.79532599e-01  7.92525709e-02 -3.81109059e-01\n",
      " -2.88243711e-01  1.23582050e-01 -3.87832373e-01 -9.11373675e-01\n",
      "  1.94390163e-01 -1.21920832e-01 -7.77261615e-01 -3.38587999e-01\n",
      "  5.99292576e-01  6.04027867e-01  9.72077310e-01 -1.92844540e-01\n",
      " -4.01614130e-01 -3.65028828e-01 -3.67612541e-02 -3.08274068e-02\n",
      "  5.80018699e-01  4.72874552e-01 -6.15204036e-01  7.02072918e-01\n",
      "  3.47560585e-01  1.15455091e+00 -1.18806116e-01 -5.51700234e-01\n",
      "  4.00390059e-01  7.42608726e-01 -4.71422374e-01  3.16821992e-01\n",
      "  1.84884772e-01 -2.81125531e-02 -4.02144670e-01  4.69628215e-01\n",
      "  1.28114104e-01  1.59231320e-01 -1.08649418e-01 -7.64824748e-02\n",
      "  6.32414341e-01 -3.35465878e-01 -7.77020678e-03  8.33746433e-01\n",
      "  3.60259712e-01 -1.83514833e-01 -1.17379785e-01  3.04351956e-01\n",
      "  9.48206335e-02 -1.13775998e-01  6.29515290e-01  5.82888961e-01\n",
      " -4.37993884e-01 -6.43165857e-02 -2.81331092e-01  8.65350142e-02\n",
      " -2.34131068e-01 -5.05335510e-01  1.75073236e-01  3.71619225e-01\n",
      "  8.72142799e-03  5.72733760e-01  3.14561456e-01  9.63888466e-02\n",
      " -1.77736104e-01 -5.53802490e-01 -6.62729800e-01  5.15541732e-01\n",
      "  8.69770765e-01 -2.26357013e-01 -4.50284094e-01  7.18080223e-01\n",
      " -4.06350754e-02  1.13412410e-01  8.12656432e-02  9.20334280e-01\n",
      " -3.90215635e-01 -1.00061548e+00  9.63613242e-02 -5.58197200e-01\n",
      " -7.14002699e-02  1.22537002e-01  1.79764628e-01 -5.22799492e-01\n",
      " -6.89257026e-01  2.27213785e-01 -2.51525968e-01 -1.29223153e-01\n",
      " -6.56021535e-01  9.32708085e-02 -1.60352275e-01  9.54588056e-01\n",
      "  7.71162033e-01  1.23432614e-01  3.62953722e-01 -9.84560773e-02\n",
      "  1.50908798e-01  5.48624396e-01 -9.38302040e-01 -1.35065347e-01\n",
      "  8.26600790e-02 -8.04795325e-03  6.56272292e-01 -4.25481409e-01\n",
      "  2.09242404e-02  3.35265845e-01  9.79957432e-02 -3.80271822e-01\n",
      " -7.08992720e-01 -6.56004310e-01  3.16849142e-01  2.78692842e-02\n",
      "  3.88893396e-01 -5.13253435e-02 -9.65325832e-02 -2.68745482e-01\n",
      "  3.47559184e-01 -5.18728554e-01  6.15136176e-02  3.37495804e-01\n",
      "  1.99510217e-01  5.89769542e-01 -6.78454518e-01 -4.20565873e-01\n",
      "  9.66316536e-02  5.15236333e-02  5.14823139e-01 -5.14072955e-01\n",
      " -2.66818315e-01  2.09602296e-01  1.29366547e-01  6.41164124e-01\n",
      "  3.58820796e-01 -3.38095576e-01  1.83118358e-01  5.47821224e-01\n",
      "  1.14143491e-02 -5.00499129e-01  1.97170675e-01  4.76309657e-02\n",
      " -3.20561051e-01 -5.19731939e-01 -7.89006591e-01 -1.18372180e-01\n",
      "  4.14673835e-01  4.18143779e-01  1.21924251e-01 -1.60677344e-01\n",
      "  3.13489884e-01  7.59291276e-02  6.38059855e-01 -2.45489672e-01\n",
      " -7.45121956e-01 -1.08492590e-01 -3.76700550e-01 -6.98978007e-02\n",
      "  3.79261911e-01  9.03792500e-01  3.72121245e-01  2.78249353e-01\n",
      " -1.85202777e-01  2.08589390e-01 -2.40452021e-01 -6.75804257e-01\n",
      " -4.02083993e-02 -6.60571337e-01  4.19415832e-01 -2.63497263e-01\n",
      "  2.62215912e-01  6.19989932e-01 -9.01640877e-02 -7.51501918e-01\n",
      " -5.00108123e-01  2.46588379e-01 -1.24773741e-01 -5.84692657e-01\n",
      "  9.16924191e+00 -6.69782460e-02 -2.00853392e-01 -9.34780240e-01\n",
      " -2.60399550e-01  1.85326532e-01  1.97515458e-01  4.03485507e-01\n",
      "  1.74393743e-01 -2.10454866e-01 -4.24294412e-01  3.90090883e-01\n",
      " -1.40243724e-01  1.34285823e-01 -7.27922618e-01 -6.66536689e-02\n",
      " -3.66042703e-02  3.00870389e-01 -2.67956108e-01 -1.27992436e-01\n",
      " -8.08918953e-01 -5.25808811e-01 -8.74667287e-01  1.09649211e-01\n",
      " -5.87611556e-01  5.44505477e-01 -5.57684898e-01  3.58711541e-01\n",
      "  3.59672934e-01  3.62656899e-02  5.14809489e-01  1.23307213e-01\n",
      " -2.38480657e-01  1.01390350e+00 -2.97644913e-01 -5.41052401e-01\n",
      "  6.20773494e-01  3.37023377e-01 -3.42128694e-01 -4.57062095e-01\n",
      "  7.73123145e-01  1.33795723e-01  8.87343287e-02 -5.47768548e-03\n",
      "  1.55231923e-01 -4.93695349e-01  3.12153399e-01  1.06472865e-01\n",
      "  1.49333611e-01 -6.69024348e-01  9.38216627e-01 -1.09442043e+00\n",
      "  3.04144144e-01 -2.65262574e-02  2.35921174e-01  2.53613353e-01\n",
      "  5.84553659e-01  3.70815933e-01 -1.01508760e+00 -5.18829405e-01\n",
      " -2.90701777e-01  3.60140920e-01 -2.92841256e-01  8.21308047e-02\n",
      "  6.46115914e-02  6.71302378e-02  2.29710564e-01 -9.37138438e-01\n",
      "  7.40516007e-01  6.74780190e-01 -4.77357626e-01 -4.01335984e-01\n",
      " -7.65692770e-01  6.30814493e-01  2.23328382e-01 -1.03876567e+00\n",
      " -2.77784646e-01  5.68116128e-01 -4.17760700e-01 -2.34233797e-01\n",
      " -1.01511478e-01  4.38253641e-01 -2.18848109e-01  5.57216331e-02\n",
      " -1.80582494e-01 -2.07496732e-01  1.01400435e-01  1.35176092e-01\n",
      "  3.75646889e-01  5.49824178e-01 -8.22147429e-01  3.69379222e-02\n",
      " -8.59034896e-01  8.64612341e-01  3.85625929e-01 -4.60970402e-01\n",
      " -6.02510050e-02 -4.42979574e-01 -5.57680011e-01  6.19942546e-01\n",
      " -3.54346871e-01  3.99382591e-01 -3.00483406e-01 -7.75071084e-02\n",
      " -2.32324883e-01 -6.67994171e-02 -4.28453952e-01  1.11605600e-01\n",
      "  2.45919317e-01 -2.05180839e-01  2.31256261e-02  1.92801937e-01\n",
      "  7.47021973e-01  3.51011425e-01 -5.39408028e-01  3.19666296e-01\n",
      " -1.30341753e-01  5.27868271e-01  2.49379545e-01 -5.05677164e-01\n",
      "  1.33986250e-01 -5.90583682e-02 -7.92291835e-02  8.61590505e-02\n",
      "  2.58710295e-01  5.40515304e-01 -2.76727647e-01  5.04511297e-01\n",
      "  2.14884743e-01  3.84877801e-01 -2.82494962e-01 -6.00938499e-01\n",
      "  3.79199475e-01  5.48004329e-01 -5.35222054e-01  2.39914358e-01\n",
      "  7.87404656e-01  2.32129723e-01 -8.66609871e-01 -6.28422573e-02\n",
      "  2.16075316e-01 -9.58745107e-02  5.13737977e-01  7.76522398e-01\n",
      "  5.34824371e-01 -2.16037393e-01 -4.50293005e-01 -1.45470709e-01\n",
      "  1.04021966e-01  8.72125700e-02  1.41254216e-01  6.44025654e-02\n",
      "  7.27064908e-05  2.68236458e-01 -3.12442273e-01 -4.97494489e-01\n",
      "  2.12631583e-01 -5.34135878e-01 -2.69930094e-01 -2.74803996e-01\n",
      "  1.14490278e-01 -1.38680190e-02 -2.45854512e-01 -3.68607283e-01\n",
      "  6.47937238e-01  1.55348722e-02  4.72875059e-01 -1.17515460e-01\n",
      " -6.10654280e-02 -7.61831403e-02 -3.30679327e-01 -3.55067313e-01\n",
      "  5.75754881e-01  1.88890234e-01  1.96321700e-02 -2.97989547e-01\n",
      "  4.71311696e-02  2.70224214e-01 -9.69691455e-01 -5.95554769e-01\n",
      "  5.55077076e-01  4.35961317e-03 -1.26616836e+00 -1.55338913e-01\n",
      "  2.95378268e-03 -6.26578033e-01 -2.55583972e-01 -1.50179476e-01\n",
      " -7.50929296e-01 -1.58798397e-01  2.59615123e-01 -2.17484489e-01\n",
      " -6.62130535e-01 -3.46677750e-01 -3.10604990e-01  7.52523065e-01\n",
      " -3.61603469e-01 -1.97613358e-01 -8.57671142e-01  6.80322945e-01\n",
      "  5.32884061e-01 -5.47332615e-02 -1.80691108e-01 -6.48596644e-01\n",
      " -4.90369171e-01  3.71698737e-02 -5.59887826e-01 -3.27259302e-01\n",
      "  2.76534893e-02 -6.90321565e-01 -6.19655967e-01 -2.08111823e-01\n",
      "  1.70099199e-01 -6.15238070e-01 -2.01397091e-01  4.49475884e-01\n",
      "  7.12341815e-02  5.08460939e-01 -1.86128110e-01  4.08751965e-01\n",
      "  4.46209759e-02 -3.23691815e-01  6.87998891e-01 -5.29415727e-01\n",
      "  2.45253608e-01 -2.11337969e-01 -4.79014426e-01  6.47204816e-01\n",
      "  1.78298596e-02 -5.35281718e-01 -7.10579276e-01  1.02740765e+00\n",
      " -3.39381933e-01 -3.69726084e-02  7.01409698e-01  1.90550625e-01\n",
      "  3.11208397e-01  3.62449288e-01  1.58582509e-01 -9.45465207e-01\n",
      " -2.42691576e-01 -3.91498446e-01 -8.87864828e-02 -1.21427014e-01\n",
      "  1.72793671e-01 -5.69967553e-02 -2.10327059e-01  1.86841026e-01\n",
      "  4.13331002e-01 -6.62255585e-01 -1.79166675e-01  2.13601440e-01\n",
      "  6.31966367e-02  1.58337876e-02  3.69263053e-01 -3.84263039e-01\n",
      "  7.16805577e-01 -1.09164372e-01  7.24508166e-01 -5.94091751e-02\n",
      "  2.11082816e-01 -6.30128384e-02 -5.75342238e-01 -6.24432147e-01\n",
      "  3.02459627e-01 -1.34627894e-02 -2.39327043e-01 -2.85421610e-01\n",
      "  2.77276486e-01  1.08262524e-01 -5.24688423e-01  3.26431960e-01\n",
      "  4.22698468e-01 -9.59428132e-01  1.71533853e-01  2.96401441e-01\n",
      " -2.85317183e-01  2.32810378e-01  1.05284052e-02 -4.54513580e-01\n",
      " -1.14929402e+00 -2.50624061e-01  2.04075798e-01  2.22059935e-01\n",
      " -4.86987084e-01  3.55578363e-01  1.46471292e-01 -1.10076196e-01\n",
      " -4.17994589e-01  1.64403081e-01 -2.74993420e-01  2.07555249e-01\n",
      "  1.22844708e+00  3.85078818e-01  1.10100724e-01 -3.84489387e-01\n",
      "  4.91735265e-02  1.94616914e-01  1.66919649e-01 -7.17397332e-01\n",
      "  4.76287901e-01 -8.41054678e-01  3.27767015e-01 -4.48948205e-01\n",
      "  9.47590113e-01 -3.09529305e-02 -4.57256734e-01  2.57912785e-01\n",
      " -2.33523846e-01  7.61388391e-02 -6.62741125e-01  3.25348228e-01\n",
      "  8.34616125e-02 -3.43010426e-01  7.51136124e-01  4.61068094e-01\n",
      " -1.55952396e-02 -2.62400031e-01  4.91923511e-01 -1.01064193e+00\n",
      " -2.48684868e-01 -5.43945134e-01 -1.69378996e-01  4.32484806e-01\n",
      "  5.25871933e-01  1.11930810e-01  3.89961571e-01  8.45107198e-01\n",
      " -2.77874500e-01  4.14919585e-01 -2.83143044e-01  6.66983008e-01\n",
      " -3.23519200e-01 -1.03281009e+00  9.87878144e-02  7.53763735e-01\n",
      "  2.45849192e-01  7.78991207e-02 -1.37613595e-01 -3.54103923e-01\n",
      " -7.85526097e-01 -3.70680720e-01  2.17041895e-01 -1.74086839e-02]\n"
     ]
    }
   ],
   "source": [
    "#print(len(embeddings))\n",
    "#print(len(embeddings[0]))\n",
    "#print(len(embeddings[0][0]))\n",
    "#print(embeddings[0][0])"
   ]
  },
  {
   "cell_type": "code",
   "execution_count": 34,
   "metadata": {},
   "outputs": [],
   "source": [
    "target_url = \"https://ceiba.ntu.edu.tw/course/88ca22/content/training.txt\" \n",
    "data = urllib.request.urlopen(target_url) # it's a file like object and works just like a file\n",
    "\n",
    "train_ids = []\n",
    "train_labels = []\n",
    "for line in data:\n",
    "    ids = str(line).split()[1:-1]\n",
    "    ids = [int(id) for id in ids]\n",
    "    train_ids += ids\n",
    "    train_labels.append(ids)"
   ]
  },
  {
   "cell_type": "code",
   "execution_count": 35,
   "metadata": {},
   "outputs": [],
   "source": [
    "train_label = []\n",
    "train_embeddings = []\n",
    "for i in range(1095):\n",
    "    id = i+1\n",
    "    if id in train_ids:\n",
    "        label = index_2d(train_labels, id)[0] + 1\n",
    "        train_label.append(label)\n",
    "        temp_e = [sum(x)/len(embeddings[i]) for x in zip(*embeddings[i])]\n",
    "        train_embeddings.append(temp_e)"
   ]
  },
  {
   "cell_type": "code",
   "execution_count": 36,
   "metadata": {},
   "outputs": [],
   "source": [
    "X_train, X_val, y_train, y_val = train_test_split(train_embeddings, train_label, \\\n",
    "                                                  test_size=0.1, random_state=14)"
   ]
  },
  {
   "cell_type": "code",
   "execution_count": 37,
   "metadata": {},
   "outputs": [
    {
     "data": {
      "text/plain": [
       "SVC(C=1, kernel='linear', probability=True)"
      ]
     },
     "execution_count": 37,
     "metadata": {},
     "output_type": "execute_result"
    }
   ],
   "source": [
    "model = SVC(kernel = 'linear',C = 1, probability = True)\n",
    "model.fit(X_train, y_train)"
   ]
  },
  {
   "cell_type": "code",
   "execution_count": 38,
   "metadata": {},
   "outputs": [],
   "source": [
    "y_pred = model.predict(X_val)\n",
    "y_probs = model.predict_proba(X_val)"
   ]
  },
  {
   "cell_type": "code",
   "execution_count": 39,
   "metadata": {},
   "outputs": [
    {
     "name": "stdout",
     "output_type": "stream",
     "text": [
      "              precision    recall  f1-score   support\n",
      "\n",
      "           1       1.00      1.00      1.00         1\n",
      "           2       1.00      1.00      1.00         3\n",
      "           3       1.00      1.00      1.00         1\n",
      "           5       1.00      1.00      1.00         3\n",
      "           6       1.00      1.00      1.00         1\n",
      "           7       1.00      1.00      1.00         1\n",
      "           8       1.00      1.00      1.00         2\n",
      "          10       1.00      1.00      1.00         2\n",
      "          11       1.00      1.00      1.00         4\n",
      "          12       1.00      1.00      1.00         1\n",
      "          13       1.00      1.00      1.00         1\n",
      "\n",
      "    accuracy                           1.00        20\n",
      "   macro avg       1.00      1.00      1.00        20\n",
      "weighted avg       1.00      1.00      1.00        20\n",
      "\n"
     ]
    }
   ],
   "source": [
    "print(metrics.classification_report(y_val, y_pred))"
   ]
  },
  {
   "cell_type": "code",
   "execution_count": 40,
   "metadata": {},
   "outputs": [],
   "source": [
    "train_label_B = label_binarize(train_label, classes=[*range(1,14)])\n",
    "\n",
    "X_train, X_val, y_train, y_val = train_test_split(train_embeddings, train_label_B, \\\n",
    "                                                  test_size=0.1, random_state = 14)"
   ]
  },
  {
   "cell_type": "code",
   "execution_count": 45,
   "metadata": {
    "colab": {
     "base_uri": "https://localhost:8080/",
     "height": 363
    },
    "id": "h2VWhWZJPTfC",
    "outputId": "bab40c73-628b-4638-fec4-f77c29422dee"
   },
   "outputs": [
    {
     "name": "stderr",
     "output_type": "stream",
     "text": [
      "/usr/local/lib/python3.7/dist-packages/sklearn/metrics/_ranking.py:864: RuntimeWarning: invalid value encountered in true_divide\n",
      "  recall = tps / tps[-1]\n",
      "/usr/local/lib/python3.7/dist-packages/sklearn/metrics/_ranking.py:864: RuntimeWarning: invalid value encountered in true_divide\n",
      "  recall = tps / tps[-1]\n"
     ]
    },
    {
     "data": {
      "image/png": "[encoded data removed]",
      "text/plain": [
       "<Figure size 432x288 with 1 Axes>"
      ]
     },
     "metadata": {
      "needs_background": "light"
     },
     "output_type": "display_data"
    }
   ],
   "source": [
    "precision = dict()\n",
    "recall = dict()\n",
    "for i in range(13):\n",
    "    precision[i], recall[i], _ = precision_recall_curve(y_val[:, i], y_probs[:, i])\n",
    "    plt.plot(recall[i], precision[i], lw=2, label='class {}'.format(i+1))\n",
    "    \n",
    "plt.xlabel(\"recall\")\n",
    "plt.ylabel(\"precision\")\n",
    "plt.legend(loc=\"best\")\n",
    "plt.title(\"precision vs. recall curve\")\n",
    "plt.show()"
   ]
  },
  {
   "cell_type": "code",
   "execution_count": 46,
   "metadata": {
    "colab": {
     "base_uri": "https://localhost:8080/",
     "height": 419
    },
    "collapsed": true,
    "id": "QMl2ntajPVTH",
    "jupyter": {
     "outputs_hidden": true
    },
    "outputId": "b5f32f60-3bc8-480a-85ba-0ced962fabc0"
   },
   "outputs": [
    {
     "data": {
      "text/html": [
       "\n",
       "  <div id=\"df-3c98c3f0-671d-4a00-9be4-99f9981512bb\">\n",
       "    <div class=\"colab-df-container\">\n",
       "      <div>\n",
       "<style scoped>\n",
       "    .dataframe tbody tr th:only-of-type {\n",
       "        vertical-align: middle;\n",
       "    }\n",
       "\n",
       "    .dataframe tbody tr th {\n",
       "        vertical-align: top;\n",
       "    }\n",
       "\n",
       "    .dataframe thead th {\n",
       "        text-align: right;\n",
       "    }\n",
       "</style>\n",
       "<table border=\"1\" class=\"dataframe\">\n",
       "  <thead>\n",
       "    <tr style=\"text-align: right;\">\n",
       "      <th></th>\n",
       "      <th>Id</th>\n",
       "      <th>Value</th>\n",
       "    </tr>\n",
       "  </thead>\n",
       "  <tbody>\n",
       "    <tr>\n",
       "      <th>0</th>\n",
       "      <td>17</td>\n",
       "      <td>0</td>\n",
       "    </tr>\n",
       "    <tr>\n",
       "      <th>1</th>\n",
       "      <td>18</td>\n",
       "      <td>0</td>\n",
       "    </tr>\n",
       "    <tr>\n",
       "      <th>2</th>\n",
       "      <td>20</td>\n",
       "      <td>0</td>\n",
       "    </tr>\n",
       "    <tr>\n",
       "      <th>3</th>\n",
       "      <td>21</td>\n",
       "      <td>0</td>\n",
       "    </tr>\n",
       "    <tr>\n",
       "      <th>4</th>\n",
       "      <td>22</td>\n",
       "      <td>0</td>\n",
       "    </tr>\n",
       "    <tr>\n",
       "      <th>...</th>\n",
       "      <td>...</td>\n",
       "      <td>...</td>\n",
       "    </tr>\n",
       "    <tr>\n",
       "      <th>895</th>\n",
       "      <td>1091</td>\n",
       "      <td>0</td>\n",
       "    </tr>\n",
       "    <tr>\n",
       "      <th>896</th>\n",
       "      <td>1092</td>\n",
       "      <td>0</td>\n",
       "    </tr>\n",
       "    <tr>\n",
       "      <th>897</th>\n",
       "      <td>1093</td>\n",
       "      <td>0</td>\n",
       "    </tr>\n",
       "    <tr>\n",
       "      <th>898</th>\n",
       "      <td>1094</td>\n",
       "      <td>0</td>\n",
       "    </tr>\n",
       "    <tr>\n",
       "      <th>899</th>\n",
       "      <td>1095</td>\n",
       "      <td>0</td>\n",
       "    </tr>\n",
       "  </tbody>\n",
       "</table>\n",
       "<p>900 rows × 2 columns</p>\n",
       "</div>\n",
       "      <button class=\"colab-df-convert\" onclick=\"convertToInteractive('df-3c98c3f0-671d-4a00-9be4-99f9981512bb')\"\n",
       "              title=\"Convert this dataframe to an interactive table.\"\n",
       "              style=\"display:none;\">\n",
       "        \n",
       "  <svg xmlns=\"http://www.w3.org/2000/svg\" height=\"24px\"viewBox=\"0 0 24 24\"\n",
       "       width=\"24px\">\n",
       "    <path d=\"M0 0h24v24H0V0z\" fill=\"none\"/>\n",
       "    <path d=\"M18.56 5.44l.94 2.06.94-2.06 2.06-.94-2.06-.94-.94-2.06-.94 2.06-2.06.94zm-11 1L8.5 8.5l.94-2.06 2.06-.94-2.06-.94L8.5 2.5l-.94 2.06-2.06.94zm10 10l.94 2.06.94-2.06 2.06-.94-2.06-.94-.94-2.06-.94 2.06-2.06.94z\"/><path d=\"M17.41 7.96l-1.37-1.37c-.4-.4-.92-.59-1.43-.59-.52 0-1.04.2-1.43.59L10.3 9.45l-7.72 7.72c-.78.78-.78 2.05 0 2.83L4 21.41c.39.39.9.59 1.41.59.51 0 1.02-.2 1.41-.59l7.78-7.78 2.81-2.81c.8-.78.8-2.07 0-2.86zM5.41 20L4 18.59l7.72-7.72 1.47 1.35L5.41 20z\"/>\n",
       "  </svg>\n",
       "      </button>\n",
       "      \n",
       "  <style>\n",
       "    .colab-df-container {\n",
       "      display:flex;\n",
       "      flex-wrap:wrap;\n",
       "      gap: 12px;\n",
       "    }\n",
       "\n",
       "    .colab-df-convert {\n",
       "      background-color: #E8F0FE;\n",
       "      border: none;\n",
       "      border-radius: 50%;\n",
       "      cursor: pointer;\n",
       "      display: none;\n",
       "      fill: #1967D2;\n",
       "      height: 32px;\n",
       "      padding: 0 0 0 0;\n",
       "      width: 32px;\n",
       "    }\n",
       "\n",
       "    .colab-df-convert:hover {\n",
       "      background-color: #E2EBFA;\n",
       "      box-shadow: 0px 1px 2px rgba(60, 64, 67, 0.3), 0px 1px 3px 1px rgba(60, 64, 67, 0.15);\n",
       "      fill: #174EA6;\n",
       "    }\n",
       "\n",
       "    [theme=dark] .colab-df-convert {\n",
       "      background-color: #3B4455;\n",
       "      fill: #D2E3FC;\n",
       "    }\n",
       "\n",
       "    [theme=dark] .colab-df-convert:hover {\n",
       "      background-color: #434B5C;\n",
       "      box-shadow: 0px 1px 3px 1px rgba(0, 0, 0, 0.15);\n",
       "      filter: drop-shadow(0px 1px 2px rgba(0, 0, 0, 0.3));\n",
       "      fill: #FFFFFF;\n",
       "    }\n",
       "  </style>\n",
       "\n",
       "      <script>\n",
       "        const buttonEl =\n",
       "          document.querySelector('#df-3c98c3f0-671d-4a00-9be4-99f9981512bb button.colab-df-convert');\n",
       "        buttonEl.style.display =\n",
       "          google.colab.kernel.accessAllowed ? 'block' : 'none';\n",
       "\n",
       "        async function convertToInteractive(key) {\n",
       "          const element = document.querySelector('#df-3c98c3f0-671d-4a00-9be4-99f9981512bb');\n",
       "          const dataTable =\n",
       "            await google.colab.kernel.invokeFunction('convertToInteractive',\n",
       "                                                     [key], {});\n",
       "          if (!dataTable) return;\n",
       "\n",
       "          const docLinkHtml = 'Like what you see? Visit the ' +\n",
       "            '<a target=\"_blank\" href=https://colab.research.google.com/notebooks/data_table.ipynb>data table notebook</a>'\n",
       "            + ' to learn more about interactive tables.';\n",
       "          element.innerHTML = '';\n",
       "          dataTable['output_type'] = 'display_data';\n",
       "          await google.colab.output.renderOutput(dataTable, element);\n",
       "          const docLink = document.createElement('div');\n",
       "          docLink.innerHTML = docLinkHtml;\n",
       "          element.appendChild(docLink);\n",
       "        }\n",
       "      </script>\n",
       "    </div>\n",
       "  </div>\n",
       "  "
      ],
      "text/plain": [
       "       Id  Value\n",
       "0      17      0\n",
       "1      18      0\n",
       "2      20      0\n",
       "3      21      0\n",
       "4      22      0\n",
       "..    ...    ...\n",
       "895  1091      0\n",
       "896  1092      0\n",
       "897  1093      0\n",
       "898  1094      0\n",
       "899  1095      0\n",
       "\n",
       "[900 rows x 2 columns]"
      ]
     },
     "execution_count": 46,
     "metadata": {},
     "output_type": "execute_result"
    }
   ],
   "source": [
    "df_pred = pd.read_csv(\"hw3_sam.csv\")\n",
    "df_pred"
   ]
  },
  {
   "cell_type": "code",
   "execution_count": 50,
   "metadata": {
    "id": "s_25St3HPbvH"
   },
   "outputs": [],
   "source": [
    "for i in range(len(df_pred)):\n",
    "    id = df_pred[\"Id\"][i]\n",
    "    temp_e = [sum(x)/len(embeddings[id-1]) for x in zip(*embeddings[id-1])]\n",
    "    pred = model.predict([temp_e])\n",
    "    df_pred[\"Value\"][i] = pred"
   ]
  },
  {
   "cell_type": "code",
   "execution_count": 52,
   "metadata": {
    "colab": {
     "base_uri": "https://localhost:8080/",
     "height": 419
    },
    "id": "xQsctjH0dc3e",
    "outputId": "41ba0edd-4c74-44f8-81fb-2bf01dc97771"
   },
   "outputs": [
    {
     "data": {
      "text/html": [
       "\n",
       "  <div id=\"df-a5856e9a-05fd-4f24-aa3a-e27de3382e9e\">\n",
       "    <div class=\"colab-df-container\">\n",
       "      <div>\n",
       "<style scoped>\n",
       "    .dataframe tbody tr th:only-of-type {\n",
       "        vertical-align: middle;\n",
       "    }\n",
       "\n",
       "    .dataframe tbody tr th {\n",
       "        vertical-align: top;\n",
       "    }\n",
       "\n",
       "    .dataframe thead th {\n",
       "        text-align: right;\n",
       "    }\n",
       "</style>\n",
       "<table border=\"1\" class=\"dataframe\">\n",
       "  <thead>\n",
       "    <tr style=\"text-align: right;\">\n",
       "      <th></th>\n",
       "      <th>Id</th>\n",
       "      <th>Value</th>\n",
       "    </tr>\n",
       "  </thead>\n",
       "  <tbody>\n",
       "    <tr>\n",
       "      <th>0</th>\n",
       "      <td>17</td>\n",
       "      <td>2</td>\n",
       "    </tr>\n",
       "    <tr>\n",
       "      <th>1</th>\n",
       "      <td>18</td>\n",
       "      <td>2</td>\n",
       "    </tr>\n",
       "    <tr>\n",
       "      <th>2</th>\n",
       "      <td>20</td>\n",
       "      <td>2</td>\n",
       "    </tr>\n",
       "    <tr>\n",
       "      <th>3</th>\n",
       "      <td>21</td>\n",
       "      <td>2</td>\n",
       "    </tr>\n",
       "    <tr>\n",
       "      <th>4</th>\n",
       "      <td>22</td>\n",
       "      <td>2</td>\n",
       "    </tr>\n",
       "    <tr>\n",
       "      <th>...</th>\n",
       "      <td>...</td>\n",
       "      <td>...</td>\n",
       "    </tr>\n",
       "    <tr>\n",
       "      <th>895</th>\n",
       "      <td>1091</td>\n",
       "      <td>6</td>\n",
       "    </tr>\n",
       "    <tr>\n",
       "      <th>896</th>\n",
       "      <td>1092</td>\n",
       "      <td>6</td>\n",
       "    </tr>\n",
       "    <tr>\n",
       "      <th>897</th>\n",
       "      <td>1093</td>\n",
       "      <td>6</td>\n",
       "    </tr>\n",
       "    <tr>\n",
       "      <th>898</th>\n",
       "      <td>1094</td>\n",
       "      <td>6</td>\n",
       "    </tr>\n",
       "    <tr>\n",
       "      <th>899</th>\n",
       "      <td>1095</td>\n",
       "      <td>9</td>\n",
       "    </tr>\n",
       "  </tbody>\n",
       "</table>\n",
       "<p>900 rows × 2 columns</p>\n",
       "</div>\n",
       "      <button class=\"colab-df-convert\" onclick=\"convertToInteractive('df-a5856e9a-05fd-4f24-aa3a-e27de3382e9e')\"\n",
       "              title=\"Convert this dataframe to an interactive table.\"\n",
       "              style=\"display:none;\">\n",
       "        \n",
       "  <svg xmlns=\"http://www.w3.org/2000/svg\" height=\"24px\"viewBox=\"0 0 24 24\"\n",
       "       width=\"24px\">\n",
       "    <path d=\"M0 0h24v24H0V0z\" fill=\"none\"/>\n",
       "    <path d=\"M18.56 5.44l.94 2.06.94-2.06 2.06-.94-2.06-.94-.94-2.06-.94 2.06-2.06.94zm-11 1L8.5 8.5l.94-2.06 2.06-.94-2.06-.94L8.5 2.5l-.94 2.06-2.06.94zm10 10l.94 2.06.94-2.06 2.06-.94-2.06-.94-.94-2.06-.94 2.06-2.06.94z\"/><path d=\"M17.41 7.96l-1.37-1.37c-.4-.4-.92-.59-1.43-.59-.52 0-1.04.2-1.43.59L10.3 9.45l-7.72 7.72c-.78.78-.78 2.05 0 2.83L4 21.41c.39.39.9.59 1.41.59.51 0 1.02-.2 1.41-.59l7.78-7.78 2.81-2.81c.8-.78.8-2.07 0-2.86zM5.41 20L4 18.59l7.72-7.72 1.47 1.35L5.41 20z\"/>\n",
       "  </svg>\n",
       "      </button>\n",
       "      \n",
       "  <style>\n",
       "    .colab-df-container {\n",
       "      display:flex;\n",
       "      flex-wrap:wrap;\n",
       "      gap: 12px;\n",
       "    }\n",
       "\n",
       "    .colab-df-convert {\n",
       "      background-color: #E8F0FE;\n",
       "      border: none;\n",
       "      border-radius: 50%;\n",
       "      cursor: pointer;\n",
       "      display: none;\n",
       "      fill: #1967D2;\n",
       "      height: 32px;\n",
       "      padding: 0 0 0 0;\n",
       "      width: 32px;\n",
       "    }\n",
       "\n",
       "    .colab-df-convert:hover {\n",
       "      background-color: #E2EBFA;\n",
       "      box-shadow: 0px 1px 2px rgba(60, 64, 67, 0.3), 0px 1px 3px 1px rgba(60, 64, 67, 0.15);\n",
       "      fill: #174EA6;\n",
       "    }\n",
       "\n",
       "    [theme=dark] .colab-df-convert {\n",
       "      background-color: #3B4455;\n",
       "      fill: #D2E3FC;\n",
       "    }\n",
       "\n",
       "    [theme=dark] .colab-df-convert:hover {\n",
       "      background-color: #434B5C;\n",
       "      box-shadow: 0px 1px 3px 1px rgba(0, 0, 0, 0.15);\n",
       "      filter: drop-shadow(0px 1px 2px rgba(0, 0, 0, 0.3));\n",
       "      fill: #FFFFFF;\n",
       "    }\n",
       "  </style>\n",
       "\n",
       "      <script>\n",
       "        const buttonEl =\n",
       "          document.querySelector('#df-a5856e9a-05fd-4f24-aa3a-e27de3382e9e button.colab-df-convert');\n",
       "        buttonEl.style.display =\n",
       "          google.colab.kernel.accessAllowed ? 'block' : 'none';\n",
       "\n",
       "        async function convertToInteractive(key) {\n",
       "          const element = document.querySelector('#df-a5856e9a-05fd-4f24-aa3a-e27de3382e9e');\n",
       "          const dataTable =\n",
       "            await google.colab.kernel.invokeFunction('convertToInteractive',\n",
       "                                                     [key], {});\n",
       "          if (!dataTable) return;\n",
       "\n",
       "          const docLinkHtml = 'Like what you see? Visit the ' +\n",
       "            '<a target=\"_blank\" href=https://colab.research.google.com/notebooks/data_table.ipynb>data table notebook</a>'\n",
       "            + ' to learn more about interactive tables.';\n",
       "          element.innerHTML = '';\n",
       "          dataTable['output_type'] = 'display_data';\n",
       "          await google.colab.output.renderOutput(dataTable, element);\n",
       "          const docLink = document.createElement('div');\n",
       "          docLink.innerHTML = docLinkHtml;\n",
       "          element.appendChild(docLink);\n",
       "        }\n",
       "      </script>\n",
       "    </div>\n",
       "  </div>\n",
       "  "
      ],
      "text/plain": [
       "       Id  Value\n",
       "0      17      2\n",
       "1      18      2\n",
       "2      20      2\n",
       "3      21      2\n",
       "4      22      2\n",
       "..    ...    ...\n",
       "895  1091      6\n",
       "896  1092      6\n",
       "897  1093      6\n",
       "898  1094      6\n",
       "899  1095      9\n",
       "\n",
       "[900 rows x 2 columns]"
      ]
     },
     "execution_count": 52,
     "metadata": {},
     "output_type": "execute_result"
    }
   ],
   "source": [
    "df_pred"
   ]
  },
  {
   "cell_type": "code",
   "execution_count": 51,
   "metadata": {
    "id": "CE_PYkfCdGeK"
   },
   "outputs": [],
   "source": [
    "df_pred.to_csv(\"result_avg.csv\", index = False)"
   ]
  },
  {
   "cell_type": "code",
   "execution_count": null,
   "metadata": {
    "id": "9fk-zyxId55r"
   },
   "outputs": [],
   "source": []
  }
 ],
 "metadata": {
  "colab": {
   "name": "text_mining_PA3.ipynb",
   "provenance": []
  },
  "kernelspec": {
   "display_name": "Python 3",
   "language": "python",
   "name": "python3"
  },
  "language_info": {
   "codemirror_mode": {
    "name": "ipython",
    "version": 3
   },
   "file_extension": ".py",
   "mimetype": "text/x-python",
   "name": "python",
   "nbconvert_exporter": "python",
   "pygments_lexer": "ipython3",
   "version": "3.8.5"
  }
 },
 "nbformat": 4,
 "nbformat_minor": 4
}
