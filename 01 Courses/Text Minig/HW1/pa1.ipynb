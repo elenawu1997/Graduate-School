{
 "cells": [
  {
   "cell_type": "code",
   "execution_count": 1,
   "metadata": {},
   "outputs": [],
   "source": [
    "import os\n",
    "import pandas as pd\n",
    "import numpy as np\n",
    "from sklearn.feature_extraction.text import TfidfVectorizer\n",
    "from sklearn.metrics.pairwise import cosine_similarity\n",
    "from sklearn.feature_extraction.text import CountVectorizer"
   ]
  },
  {
   "cell_type": "code",
   "execution_count": 2,
   "metadata": {},
   "outputs": [],
   "source": [
    "data_path = os.path.abspath(os.getcwd())+'/PA1-data/'\n",
    "files = [f for f in os.listdir(data_path)]"
   ]
  },
  {
   "cell_type": "code",
   "execution_count": 3,
   "metadata": {},
   "outputs": [],
   "source": [
    "documents = []\n",
    "for file in files:\n",
    "    f = open(data_path + file, 'r')\n",
    "    text = \"\"\n",
    "    for line in f.readlines():\n",
    "        text = text + (line.strip ('\\n'))\n",
    "    documents.append(text)\n",
    "    f.close()"
   ]
  },
  {
   "cell_type": "code",
   "execution_count": 4,
   "metadata": {},
   "outputs": [
    {
     "data": {
      "text/plain": [
       "(1095, 19130)"
      ]
     },
     "execution_count": 4,
     "metadata": {},
     "output_type": "execute_result"
    }
   ],
   "source": [
    "TFIDF_vectorizer = TfidfVectorizer(lowercase = True, stop_words = 'english')\n",
    "TFIDF_vectors = TFIDF_vectorizer.fit_transform(documents)\n",
    "TFIDF_vectors.shape"
   ]
  },
  {
   "cell_type": "code",
   "execution_count": 5,
   "metadata": {},
   "outputs": [],
   "source": [
    "for i in range(1095):\n",
    "    \n",
    "    # doc的原始檔案名稱\n",
    "    file_original_name = files[i]\n",
    "    \n",
    "    # 該doc內含的 term id 與對應 tdidf值的表格\n",
    "    df = pd.DataFrame(TFIDF_vectors[i].data)\n",
    "    df.index = TFIDF_vectors[i].indices\n",
    "    df.sort_index(inplace = True)\n",
    "\n",
    "    # 建立該doc的tfidf檔案\n",
    "    file_tfidf_name = 'doc' + file_original_name\n",
    "    with open(file_tfidf_name, 'a') as the_file:\n",
    "    \n",
    "        #先寫入該doc內含的term數量\n",
    "        term_length = len(df)\n",
    "        the_file.write(str(term_length) + '\\n')\n",
    "\n",
    "        #逐行寫入該doc內含的 term id 與對應 tdidf值的\n",
    "        the_file.write('t_index,tf-idf \\n')\n",
    "        for i in range(term_length):\n",
    "            line = str(df.index[i]) + ', ' + str(df.iloc[i][0])\n",
    "            the_file.write(line + '\\n')"
   ]
  },
  {
   "cell_type": "code",
   "execution_count": null,
   "metadata": {},
   "outputs": [],
   "source": [
    "# 建立該doc的tfidf檔案\n",
    "file_tfidf_name = 'doc' + file_original_name\n",
    "with open(file_tfidf_name, 'a') as the_file:\n",
    "\n",
    "    #先寫入該doc內含的term數量\n",
    "    term_length = len(df)\n",
    "    the_file.write(str(term_length) + '\\n')\n",
    "\n",
    "    #逐行寫入該doc內含的 term id 與對應 tdidf值的\n",
    "    the_file.write('t_index,tf-idf \\n')\n",
    "    for i in range(term_length):\n",
    "        line = str(df.index[i]) + ', ' + str(df.iloc[i][0])\n",
    "        the_file.write(line + '\\n')"
   ]
  },
  {
   "cell_type": "code",
   "execution_count": 6,
   "metadata": {},
   "outputs": [],
   "source": [
    "TF_cevtorizer = CountVectorizer(lowercase = True, stop_words = 'english')\n",
    "TF_vectors = TF_cevtorizer.fit_transform(documents)"
   ]
  },
  {
   "cell_type": "code",
   "execution_count": 7,
   "metadata": {},
   "outputs": [
    {
     "name": "stdout",
     "output_type": "stream",
     "text": [
      "(1095, 19130)\n"
     ]
    }
   ],
   "source": [
    "print(TF_vectors.shape)"
   ]
  },
  {
   "cell_type": "code",
   "execution_count": 8,
   "metadata": {},
   "outputs": [],
   "source": [
    "def doc_to_vec(docID):\n",
    "    vec = np.zeros(19130)\n",
    "    \n",
    "    doc_name = \"doc\" + str(docID) + '.txt'\n",
    "    f = open(doc_name, 'r')\n",
    "    for line in f.readlines():\n",
    "        if ', ' not in line:\n",
    "            continue\n",
    "        else:\n",
    "            ele = line.split(', ')\n",
    "            index = int(ele[0])\n",
    "            tfidf = float(ele[1])\n",
    "            vec[index] = tfidf\n",
    "    f.close()\n",
    "    \n",
    "    return vec"
   ]
  },
  {
   "cell_type": "code",
   "execution_count": 9,
   "metadata": {},
   "outputs": [],
   "source": [
    "vec1 = np.array(doc_to_vec(1)).reshape(1, -1)\n",
    "vec2 = np.array(doc_to_vec(2)).reshape(1, -1)"
   ]
  },
  {
   "cell_type": "code",
   "execution_count": 10,
   "metadata": {},
   "outputs": [
    {
     "name": "stdout",
     "output_type": "stream",
     "text": [
      "0.19991361508978645\n"
     ]
    }
   ],
   "source": [
    "print(cosine_similarity(vec1, vec2).flatten()[0])"
   ]
  },
  {
   "cell_type": "code",
   "execution_count": null,
   "metadata": {},
   "outputs": [],
   "source": []
  }
 ],
 "metadata": {
  "kernelspec": {
   "display_name": "Python 3",
   "language": "python",
   "name": "python3"
  },
  "language_info": {
   "codemirror_mode": {
    "name": "ipython",
    "version": 3
   },
   "file_extension": ".py",
   "mimetype": "text/x-python",
   "name": "python",
   "nbconvert_exporter": "python",
   "pygments_lexer": "ipython3",
   "version": "3.8.5"
  }
 },
 "nbformat": 4,
 "nbformat_minor": 4
}
