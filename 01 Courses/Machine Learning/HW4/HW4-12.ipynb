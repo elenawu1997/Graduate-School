{
 "cells": [
  {
   "cell_type": "code",
   "execution_count": 1,
   "metadata": {},
   "outputs": [],
   "source": [
    "def err(x):\n",
    "    e1 = (12/(x+3))**2\n",
    "    e2 = (12/(x-3))**2\n",
    "    \n",
    "    return e1+e2"
   ]
  },
  {
   "cell_type": "code",
   "execution_count": 2,
   "metadata": {},
   "outputs": [],
   "source": [
    "x1 = (4+9*(6**(1/2)))**(1/2)\n",
    "x2 = (16+81*(6**(1/2)))**(1/2)\n",
    "x3 = (9+4*(6**(1/2)))**(1/2)\n",
    "x4 = (36+16*(6**(1/2)))**(1/2)\n",
    "x5 = (81+36*(6**(1/2)))**(1/2)"
   ]
  },
  {
   "cell_type": "code",
   "execution_count": 3,
   "metadata": {},
   "outputs": [
    {
     "name": "stdout",
     "output_type": "stream",
     "text": [
      "a 34.73832055148175\n",
      "b 1.5249477785038594\n",
      "c 83.39387691339813\n",
      "d 5.5341842502131975\n",
      "e 2.0\n"
     ]
    }
   ],
   "source": [
    "print('a',err(x1))\n",
    "print('b',err(x2))\n",
    "print('c',err(x3))\n",
    "print('d',err(x4))\n",
    "print('e',err(x5))"
   ]
  }
 ],
 "metadata": {
  "kernelspec": {
   "display_name": "Python 3",
   "language": "python",
   "name": "python3"
  },
  "language_info": {
   "codemirror_mode": {
    "name": "ipython",
    "version": 3
   },
   "file_extension": ".py",
   "mimetype": "text/x-python",
   "name": "python",
   "nbconvert_exporter": "python",
   "pygments_lexer": "ipython3",
   "version": "3.8.5"
  }
 },
 "nbformat": 4,
 "nbformat_minor": 4
}
