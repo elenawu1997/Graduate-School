{
 "cells": [
  {
   "cell_type": "code",
   "execution_count": 2,
   "metadata": {},
   "outputs": [],
   "source": [
    "import numpy as np\n",
    "import random\n",
    "from sklearn.model_selection import train_test_split\n",
    "import statistics\n",
    "import time"
   ]
  },
  {
   "cell_type": "code",
   "execution_count": 3,
   "metadata": {},
   "outputs": [],
   "source": [
    "def GenerateData(SampleSize, bias):\n",
    "    \n",
    "    data = np.random.uniform(-1,1,100000)\n",
    "\n",
    "    data_y = []\n",
    "    noise = np.random.binomial(1, bias, 100000)\n",
    "    for d in data:\n",
    "        data_y.append([d,np.sign(d)*(-1)])\n",
    "    for i in range(100000):\n",
    "        if noise[i]==1:\n",
    "            data_y[i][1]=data_y[i][1]*(-1)\n",
    "    \n",
    "    train, test = train_test_split(data_y, test_size=(1-SampleSize/100000), random_state=random.randint(0, 10000))\n",
    "    train.sort()\n",
    "    \n",
    "    return train, test"
   ]
  },
  {
   "cell_type": "code",
   "execution_count": 11,
   "metadata": {},
   "outputs": [],
   "source": [
    "def FindG(sample):\n",
    "    theta,s = -1, -1\n",
    "\n",
    "    H = []\n",
    "    H.append([-1,-1])\n",
    "    H.append([-1,1])\n",
    "    \n",
    "    for i in range(len(sample)-1):\n",
    "        t = (sample[i][0] + sample[i+1][0]) / 2\n",
    "        H.append([t, -1])\n",
    "        H.append([t, 1])\n",
    "    \n",
    "    Ein = 1\n",
    "    \n",
    "    for h in H:\n",
    "        if (Error(sample, h[0], h[1]) <= Ein) :\n",
    "            Ein = Error(sample, h[0], h[1])\n",
    "            theta = h[0]\n",
    "            s = h[1]\n",
    "        if (Error(sample, h[0], h[1]) == Ein) and (( h[0]+ h[1]) <(theta + s)):\n",
    "            Ein = Error(sample, h[0], h[1])\n",
    "            theta = h[0]\n",
    "            s = h[1]\n",
    "\n",
    "    return Ein, theta, s"
   ]
  },
  {
   "cell_type": "code",
   "execution_count": 12,
   "metadata": {},
   "outputs": [],
   "source": [
    "def FindG(sample):\n",
    "    theta,s = -1, -1\n",
    "\n",
    "    H = []\n",
    "    H.append([-1,-1])\n",
    "    H.append([-1,1])\n",
    "    \n",
    "    for i in range(len(sample)-1):\n",
    "        t = (sample[i][0] + sample[i+1][0]) / 2\n",
    "        H.append([t, -1])\n",
    "        H.append([t, 1])\n",
    "    \n",
    "    Ein = 1\n",
    "    \n",
    "    for h in H:\n",
    "        error_h = Error(sample, h[0], h[1])\n",
    "        if error_h <= Ein :\n",
    "            Ein = error_h\n",
    "            theta = h[0]\n",
    "            s = h[1]\n",
    "        if (error_h == Ein) and (( h[0]+ h[1]) <(theta + s)):\n",
    "            Ein = error_h\n",
    "            theta = h[0]\n",
    "            s = h[1]\n",
    "\n",
    "    return Ein, theta, s"
   ]
  },
  {
   "cell_type": "code",
   "execution_count": 13,
   "metadata": {},
   "outputs": [],
   "source": [
    "def Error(sample, theta, s):\n",
    "    error = 0\n",
    "    for d in sample:\n",
    "        if d[1] != (s * np.sign(d[0] - theta)):\n",
    "            error+=1\n",
    "            \n",
    "    return error/len(sample)"
   ]
  },
  {
   "cell_type": "code",
   "execution_count": 14,
   "metadata": {},
   "outputs": [],
   "source": [
    "def Eout_Ein(SampleSize, Bias):\n",
    "    train, test = GenerateData(SampleSize, Bias)\n",
    "    Ein, theta, s = FindG(train)\n",
    "    Eout = Error(test, theta, s)\n",
    "    return (Eout - Ein)"
   ]
  },
  {
   "cell_type": "code",
   "execution_count": 15,
   "metadata": {},
   "outputs": [],
   "source": [
    "def mean(SampleSize, Bias):\n",
    "    diff = []\n",
    "    for i in range(1000):\n",
    "        diff.append(Eout_Ein(SampleSize, Bias))\n",
    "        \n",
    "    return statistics.mean(diff)"
   ]
  },
  {
   "cell_type": "code",
   "execution_count": 16,
   "metadata": {},
   "outputs": [],
   "source": [
    "start_time = time.time()"
   ]
  },
  {
   "cell_type": "code",
   "execution_count": 17,
   "metadata": {},
   "outputs": [
    {
     "name": "stdout",
     "output_type": "stream",
     "text": [
      "0.37112289245784913\n",
      "1200.9018580913544\n",
      "0.37196256925138504\n",
      "2388.680950164795\n",
      "0.3643643972879458\n",
      "3575.547803401947\n",
      "0.37317140342806854\n",
      "4804.782177686691\n",
      "0.36391089821796435\n",
      "5808.904564619064\n",
      "0.36045316906338126\n",
      "7552.526170015335\n",
      "0.3666170423408468\n",
      "8461.182592868805\n",
      "0.3642463049260985\n",
      "9485.90152144432\n",
      "0.3688769375387508\n",
      "10390.288067102432\n",
      "0.37656463129262585\n",
      "11283.05692410469\n"
     ]
    }
   ],
   "source": [
    "#2-16\n",
    "for i in range(10):\n",
    "    print(mean(2,0.1))\n",
    "    print(time.time()-start_time)\n",
    "    "
   ]
  },
  {
   "cell_type": "code",
   "execution_count": null,
   "metadata": {},
   "outputs": [],
   "source": [
    "#2-17\n",
    "print(mean(20,0))"
   ]
  },
  {
   "cell_type": "code",
   "execution_count": null,
   "metadata": {},
   "outputs": [],
   "source": [
    "#2-18\n",
    "print(mean(2,0.1))"
   ]
  },
  {
   "cell_type": "code",
   "execution_count": null,
   "metadata": {},
   "outputs": [],
   "source": [
    "#2-19\n",
    "print(mean(20,0.1))"
   ]
  },
  {
   "cell_type": "code",
   "execution_count": null,
   "metadata": {},
   "outputs": [],
   "source": [
    "#2-20\n",
    "print(mean(200,0.1))"
   ]
  },
  {
   "cell_type": "code",
   "execution_count": null,
   "metadata": {},
   "outputs": [],
   "source": []
  }
 ],
 "metadata": {
  "kernelspec": {
   "display_name": "Python 3",
   "language": "python",
   "name": "python3"
  },
  "language_info": {
   "codemirror_mode": {
    "name": "ipython",
    "version": 3
   },
   "file_extension": ".py",
   "mimetype": "text/x-python",
   "name": "python",
   "nbconvert_exporter": "python",
   "pygments_lexer": "ipython3",
   "version": "3.8.5"
  }
 },
 "nbformat": 4,
 "nbformat_minor": 4
}
