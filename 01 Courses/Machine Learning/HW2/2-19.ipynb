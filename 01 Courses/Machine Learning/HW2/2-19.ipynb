{
 "cells": [
  {
   "cell_type": "code",
   "execution_count": 1,
   "metadata": {},
   "outputs": [],
   "source": [
    "import numpy as np\n",
    "import random\n",
    "from sklearn.model_selection import train_test_split\n",
    "import statistics\n",
    "import time"
   ]
  },
  {
   "cell_type": "code",
   "execution_count": 2,
   "metadata": {},
   "outputs": [],
   "source": [
    "def GenerateData(SampleSize, bias):\n",
    "    \n",
    "    data = np.random.uniform(-1,1,100000)\n",
    "\n",
    "    data_y = []\n",
    "    noise = np.random.binomial(1, bias, 100000)\n",
    "    for d in data:\n",
    "        data_y.append([d,np.sign(d)*(-1)])\n",
    "    for i in range(100000):\n",
    "        if noise[i]==1:\n",
    "            data_y[i][1]=data_y[i][1]*(-1)\n",
    "    \n",
    "    train, test = train_test_split(data_y, test_size=(1-SampleSize/100000), random_state=random.randint(0, 10000))\n",
    "    train.sort()\n",
    "    \n",
    "    return train, test"
   ]
  },
  {
   "cell_type": "code",
   "execution_count": 3,
   "metadata": {},
   "outputs": [],
   "source": [
    "def FindG(sample):\n",
    "    theta,s = -1, -1\n",
    "\n",
    "    H = []\n",
    "    H.append([-1,-1])\n",
    "    H.append([-1,1])\n",
    "    \n",
    "    for i in range(len(sample)-1):\n",
    "        t = (sample[i][0] + sample[i+1][0]) / 2\n",
    "        H.append([t, -1])\n",
    "        H.append([t, 1])\n",
    "    \n",
    "    Ein = 1\n",
    "    \n",
    "    for h in H:\n",
    "        if (Error(sample, h[0], h[1]) <= Ein) :\n",
    "            Ein = Error(sample, h[0], h[1])\n",
    "            theta = h[0]\n",
    "            s = h[1]\n",
    "        if (Error(sample, h[0], h[1]) == Ein) and (( h[0]+ h[1]) <(theta + s)):\n",
    "            Ein = Error(sample, h[0], h[1])\n",
    "            theta = h[0]\n",
    "            s = h[1]\n",
    "\n",
    "    return Ein, theta, s"
   ]
  },
  {
   "cell_type": "code",
   "execution_count": 4,
   "metadata": {},
   "outputs": [],
   "source": [
    "def FindG(sample):\n",
    "    theta,s = -1, -1\n",
    "\n",
    "    H = []\n",
    "    H.append([-1,-1])\n",
    "    H.append([-1,1])\n",
    "    \n",
    "    for i in range(len(sample)-1):\n",
    "        t = (sample[i][0] + sample[i+1][0]) / 2\n",
    "        H.append([t, -1])\n",
    "        H.append([t, 1])\n",
    "    \n",
    "    Ein = 1\n",
    "    \n",
    "    for h in H:\n",
    "        error_h = Error(sample, h[0], h[1])\n",
    "        if error_h <= Ein :\n",
    "            Ein = error_h\n",
    "            theta = h[0]\n",
    "            s = h[1]\n",
    "        if (error_h == Ein) and (( h[0]+ h[1]) <(theta + s)):\n",
    "            Ein = error_h\n",
    "            theta = h[0]\n",
    "            s = h[1]\n",
    "\n",
    "    return Ein, theta, s"
   ]
  },
  {
   "cell_type": "code",
   "execution_count": 5,
   "metadata": {},
   "outputs": [],
   "source": [
    "def Error(sample, theta, s):\n",
    "    error = 0\n",
    "    for d in sample:\n",
    "        if d[1] != (s * np.sign(d[0] - theta)):\n",
    "            error+=1\n",
    "            \n",
    "    return error/len(sample)"
   ]
  },
  {
   "cell_type": "code",
   "execution_count": 6,
   "metadata": {},
   "outputs": [],
   "source": [
    "def Eout_Ein(SampleSize, Bias):\n",
    "    train, test = GenerateData(SampleSize, Bias)\n",
    "    Ein, theta, s = FindG(train)\n",
    "    Eout = Error(test, theta, s)\n",
    "    return (Eout - Ein)"
   ]
  },
  {
   "cell_type": "code",
   "execution_count": 7,
   "metadata": {},
   "outputs": [],
   "source": [
    "def mean(SampleSize, Bias):\n",
    "    diff = []\n",
    "    for i in range(10000):\n",
    "        diff.append(Eout_Ein(SampleSize, Bias))\n",
    "        if i%100 ==0:\n",
    "            print(i,statistics.mean(diff), \"--- %s seconds ---\" % (time.time() - start_time))\n",
    "    return statistics.mean(diff)"
   ]
  },
  {
   "cell_type": "code",
   "execution_count": 8,
   "metadata": {},
   "outputs": [],
   "source": [
    "start_time = time.time()"
   ]
  },
  {
   "cell_type": "code",
   "execution_count": 9,
   "metadata": {},
   "outputs": [
    {
     "name": "stdout",
     "output_type": "stream",
     "text": [
      "0 0.05057011402280456 --- 2.506019353866577 seconds ---\n",
      "100 0.048917704332945795 --- 172.31347227096558 seconds ---\n",
      "200 0.0517170100686804 --- 299.15982699394226 seconds ---\n",
      "300 0.052555527716839044 --- 370.28627920150757 seconds ---\n",
      "400 0.05382398175395677 --- 441.0303452014923 seconds ---\n",
      "500 0.05555392515628874 --- 515.7467973232269 seconds ---\n",
      "600 0.05426328194091397 --- 599.3107016086578 seconds ---\n",
      "700 0.05298721655886098 --- 681.7735514640808 seconds ---\n",
      "800 0.053578818135662086 --- 763.4858601093292 seconds ---\n",
      "900 0.0522464204272597 --- 850.8581118583679 seconds ---\n",
      "1000 0.053520394388568024 --- 937.2260444164276 seconds ---\n",
      "1100 0.052999282872014906 --- 1023.8050272464752 seconds ---\n",
      "1200 0.05308906077635177 --- 1112.2631742954254 seconds ---\n",
      "1300 0.05381713544861163 --- 1209.0461268424988 seconds ---\n",
      "1400 0.053576339821854446 --- 1325.8935732841492 seconds ---\n",
      "1500 0.053495989004596387 --- 1491.9349632263184 seconds ---\n",
      "1600 0.05430547696047641 --- 1658.0856478214264 seconds ---\n",
      "1700 0.05471170659763934 --- 1820.5030574798584 seconds ---\n",
      "1800 0.05486083335489974 --- 1986.5289585590363 seconds ---\n",
      "1900 0.055164183809934 --- 2152.2106382846832 seconds ---\n",
      "2000 0.05457670744543711 --- 2323.2528252601624 seconds ---\n",
      "2100 0.0541949037118228 --- 2492.4933235645294 seconds ---\n",
      "2200 0.05351814115662751 --- 2662.829757452011 seconds ---\n",
      "2300 0.05326072602612656 --- 2830.8315484523773 seconds ---\n",
      "2400 0.05323169173609815 --- 2999.382547855377 seconds ---\n",
      "2500 0.052863991430833146 --- 3167.253087759018 seconds ---\n",
      "2600 0.05241646176217173 --- 3316.1795687675476 seconds ---\n",
      "2700 0.0522035099356043 --- 3391.4143917560577 seconds ---\n",
      "2800 0.05230339891612738 --- 3469.4992451667786 seconds ---\n",
      "2900 0.05284822562582148 --- 3554.7850370407104 seconds ---\n",
      "3000 0.052840844743423855 --- 3640.397054195404 seconds ---\n",
      "3100 0.052555257907434434 --- 3721.562935590744 seconds ---\n",
      "3200 0.05257351064089731 --- 3807.142784833908 seconds ---\n",
      "3300 0.052626611356806345 --- 3894.541201353073 seconds ---\n",
      "3400 0.052777871069656444 --- 3984.4468398094177 seconds ---\n",
      "3500 0.052796469033881036 --- 4073.1062064170837 seconds ---\n",
      "3600 0.05257644697503788 --- 4169.235799074173 seconds ---\n",
      "3700 0.052454676290567485 --- 4268.6106133461 seconds ---\n",
      "3800 0.052411347831260544 --- 4367.021628379822 seconds ---\n",
      "3900 0.052194096855772074 --- 4472.985077142715 seconds ---\n",
      "4000 0.05178235597131923 --- 4571.748015165329 seconds ---\n",
      "4100 0.051959987218121506 --- 4671.307574033737 seconds ---\n",
      "4200 0.05208219458697738 --- 4772.6488654613495 seconds ---\n",
      "4300 0.051868999700893446 --- 4871.133483409882 seconds ---\n",
      "4400 0.05161255836716082 --- 4969.74750494957 seconds ---\n",
      "4500 0.05165584772142164 --- 5064.2034957408905 seconds ---\n",
      "4600 0.05124034152624917 --- 5165.155575037003 seconds ---\n",
      "4700 0.0512889942379031 --- 5258.154709100723 seconds ---\n",
      "4800 0.05148448769112289 --- 5349.322727918625 seconds ---\n",
      "4900 0.05158509155411984 --- 5436.321835041046 seconds ---\n",
      "5000 0.05138864805554592 --- 5523.117162227631 seconds ---\n",
      "5100 0.05133124448845856 --- 5610.493797540665 seconds ---\n",
      "5200 0.051532340692326116 --- 5695.526620388031 seconds ---\n",
      "5300 0.051267223827712156 --- 5782.3470454216 seconds ---\n",
      "5400 0.05116781549237083 --- 5867.958124637604 seconds ---\n",
      "5500 0.051222393178872096 --- 5955.204518079758 seconds ---\n",
      "5600 0.051154528352555 --- 6043.80631685257 seconds ---\n",
      "5700 0.051077717736145015 --- 6130.087252855301 seconds ---\n",
      "5800 0.05120014004524746 --- 6215.836938858032 seconds ---\n",
      "5900 0.05125090939218177 --- 6304.81995677948 seconds ---\n",
      "6000 0.051325615898050465 --- 6390.935558080673 seconds ---\n",
      "6100 0.05137100686814956 --- 6479.252815723419 seconds ---\n",
      "6200 0.051220411797244146 --- 6565.910868406296 seconds ---\n",
      "6300 0.05107501741579866 --- 6650.975756645203 seconds ---\n",
      "6400 0.051097251164027524 --- 6737.351904153824 seconds ---\n",
      "6500 0.0510101651156258 --- 6824.932564496994 seconds ---\n",
      "6600 0.05111896186236187 --- 6912.846964359283 seconds ---\n",
      "6700 0.05099950298968912 --- 6990.435330152512 seconds ---\n",
      "6800 0.05099374675699733 --- 7054.059251070023 seconds ---\n",
      "6900 0.050948463855935947 --- 7117.737847328186 seconds ---\n",
      "7000 0.05095124438400035 --- 7181.129464864731 seconds ---\n",
      "7100 0.05112531448692217 --- 7245.4084379673 seconds ---\n",
      "7200 0.051052121269969865 --- 7309.1346180438995 seconds ---\n",
      "7300 0.05120318543916974 --- 7372.260298728943 seconds ---\n",
      "7400 0.05125023653561951 --- 7435.346085309982 seconds ---\n",
      "7500 0.0513184879343553 --- 7499.046386957169 seconds ---\n",
      "7600 0.051275296501215775 --- 7561.370137453079 seconds ---\n",
      "7700 0.05119958285904681 --- 7624.397832393646 seconds ---\n",
      "7800 0.05124937562823422 --- 7686.85555434227 seconds ---\n",
      "7900 0.05116272463453581 --- 7749.3587102890015 seconds ---\n",
      "8000 0.051199738760400494 --- 7811.494970560074 seconds ---\n",
      "8100 0.051162981639655915 --- 7873.256418704987 seconds ---\n",
      "8200 0.051140950053198055 --- 7935.127115488052 seconds ---\n",
      "8300 0.05123098707200782 --- 8000.998160123825 seconds ---\n",
      "8400 0.0512206119357427 --- 8063.6426882743835 seconds ---\n",
      "8500 0.05124181053126282 --- 8126.3051726818085 seconds ---\n",
      "8600 0.05136277691534121 --- 8188.174970626831 seconds ---\n",
      "8700 0.05122600086044102 --- 8251.56288099289 seconds ---\n",
      "8800 0.05121864731996507 --- 8314.673134565353 seconds ---\n",
      "8900 0.05117661775249106 --- 8376.914308071136 seconds ---\n",
      "9000 0.051046390813547664 --- 8439.347399950027 seconds ---\n",
      "9100 0.05100185843124014 --- 8501.327507257462 seconds ---\n",
      "9200 0.05102536864290584 --- 8563.620972156525 seconds ---\n",
      "9300 0.05115029779421103 --- 8626.726703882217 seconds ---\n",
      "9400 0.05099175776012558 --- 8688.894274234772 seconds ---\n",
      "9500 0.0509439399720803 --- 8751.342980861664 seconds ---\n",
      "9600 0.05095177769019068 --- 8813.481229305267 seconds ---\n",
      "9700 0.05093691452443669 --- 8875.288489103317 seconds ---\n",
      "9800 0.050978095833430534 --- 8938.180057525635 seconds ---\n",
      "9900 0.050918125247107794 --- 9001.545928239822 seconds ---\n",
      "0.050938170634126825\n"
     ]
    }
   ],
   "source": [
    "#2-16\n",
    "print(mean(20,0.1))"
   ]
  },
  {
   "cell_type": "code",
   "execution_count": null,
   "metadata": {},
   "outputs": [],
   "source": [
    "#2-17\n",
    "print(mean(20,0))"
   ]
  },
  {
   "cell_type": "code",
   "execution_count": null,
   "metadata": {},
   "outputs": [],
   "source": [
    "#2-18\n",
    "print(mean(2,0.1))"
   ]
  },
  {
   "cell_type": "code",
   "execution_count": null,
   "metadata": {},
   "outputs": [],
   "source": [
    "#2-19\n",
    "print(mean(20,0.1))"
   ]
  },
  {
   "cell_type": "code",
   "execution_count": null,
   "metadata": {},
   "outputs": [],
   "source": [
    "#2-20\n",
    "print(mean(200,0.1))"
   ]
  },
  {
   "cell_type": "code",
   "execution_count": null,
   "metadata": {},
   "outputs": [],
   "source": []
  }
 ],
 "metadata": {
  "kernelspec": {
   "display_name": "Python 3",
   "language": "python",
   "name": "python3"
  },
  "language_info": {
   "codemirror_mode": {
    "name": "ipython",
    "version": 3
   },
   "file_extension": ".py",
   "mimetype": "text/x-python",
   "name": "python",
   "nbconvert_exporter": "python",
   "pygments_lexer": "ipython3",
   "version": "3.8.5"
  }
 },
 "nbformat": 4,
 "nbformat_minor": 4
}
