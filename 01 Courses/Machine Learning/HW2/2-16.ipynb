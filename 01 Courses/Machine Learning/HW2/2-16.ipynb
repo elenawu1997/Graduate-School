{
 "cells": [
  {
   "cell_type": "code",
   "execution_count": 1,
   "metadata": {},
   "outputs": [],
   "source": [
    "import numpy as np\n",
    "import random\n",
    "from sklearn.model_selection import train_test_split\n",
    "import statistics\n",
    "import time"
   ]
  },
  {
   "cell_type": "code",
   "execution_count": 2,
   "metadata": {},
   "outputs": [],
   "source": [
    "#視 SampleSize, bias 產生data\n",
    "def GenerateData(SampleSize, bias):\n",
    "    \n",
    "    #利用random.uniform產生data\n",
    "    data = np.random.uniform(-1,1,100000)\n",
    "\n",
    "    #以 bias為 bionomial的 p值，決定對應某x的y是否變號\n",
    "    data_y = []\n",
    "    noise = np.random.binomial(1, bias, 100000)\n",
    "    for d in data:\n",
    "        data_y.append([d,np.sign(d)*(-1)])\n",
    "    for i in range(100000):\n",
    "        if noise[i]==1:\n",
    "            data_y[i][1]=data_y[i][1]*(-1)\n",
    "    \n",
    "    #分割 train set, test set\n",
    "    train, test = train_test_split(data_y, test_size=(1-SampleSize/100000), \\\n",
    "                                   random_state=random.randint(0, 10000))\n",
    "    train.sort()\n",
    "    \n",
    "    return train, test"
   ]
  },
  {
   "cell_type": "code",
   "execution_count": 4,
   "metadata": {},
   "outputs": [],
   "source": [
    "def FindG(sample):\n",
    "\n",
    "    #將各對 theta, s加入hypothesis list\n",
    "    theta,s = -1, -1\n",
    "\n",
    "    H = []\n",
    "    H.append([-1,-1])\n",
    "    H.append([-1,1])\n",
    "    \n",
    "    for i in range(len(sample)-1):\n",
    "        t = (sample[i][0] + sample[i+1][0]) / 2\n",
    "        H.append([t, -1])\n",
    "        H.append([t, 1])\n",
    "    \n",
    "    Ein = 1\n",
    "    \n",
    "    #測試hypothesis list中的各對 theta, s\n",
    "    #取滿足ein最小且同ein時 theta+s最小的組合\n",
    "    \n",
    "    for h in H:\n",
    "        error_h = Error(sample, h[0], h[1])\n",
    "        if error_h <= Ein :\n",
    "            Ein = error_h\n",
    "            theta = h[0]\n",
    "            s = h[1]\n",
    "        if (error_h == Ein) and (( h[0]+ h[1]) <(theta + s)):\n",
    "            Ein = error_h\n",
    "            theta = h[0]\n",
    "            s = h[1]\n",
    "\n",
    "    #回傳 Ein, theta, s\n",
    "    return Ein, theta, s"
   ]
  },
  {
   "cell_type": "code",
   "execution_count": 5,
   "metadata": {},
   "outputs": [],
   "source": [
    "#計算ein/eout用，即計算 y!= h_theta, s(x)的比例\n",
    "def Error(sample, theta, s):\n",
    "    \n",
    "    error = 0\n",
    "    for d in sample:\n",
    "        if d[1] != (s * np.sign(d[0] - theta)):\n",
    "            error+=1\n",
    "            \n",
    "    return error/len(sample)"
   ]
  },
  {
   "cell_type": "code",
   "execution_count": 6,
   "metadata": {},
   "outputs": [],
   "source": [
    "def Eout_Ein(SampleSize, Bias):\n",
    "    \n",
    "    #生成 train, test set\n",
    "    train, test = GenerateData(SampleSize, Bias)\n",
    "    \n",
    "    #找到符合ein最小的function G，回傳 G 的Ein, theta, s\n",
    "    Ein, theta, s = FindG(train)\n",
    "    \n",
    "    #代入 G ，計算 Eout\n",
    "    Eout = Error(test, theta, s)\n",
    "    \n",
    "    #回傳Eout - Ein\n",
    "    return (Eout - Ein)"
   ]
  },
  {
   "cell_type": "code",
   "execution_count": 7,
   "metadata": {},
   "outputs": [],
   "source": [
    "#重複實驗100000次並計算mean\n",
    "def mean(SampleSize, Bias):\n",
    "    diff = []\n",
    "    for i in range(10000):\n",
    "        diff.append(Eout_Ein(SampleSize, Bias))\n",
    "    return statistics.mean(diff)"
   ]
  },
  {
   "cell_type": "code",
   "execution_count": null,
   "metadata": {},
   "outputs": [],
   "source": [
    "#因為要跑太久這次就不重新執行了\n",
    "\n",
    "#2-16\n",
    "print(mean(2,0))\n",
    "\n",
    "#之前跑的結果0.2956868137362747\n",
    "#選 d 0.3"
   ]
  },
  {
   "cell_type": "code",
   "execution_count": null,
   "metadata": {},
   "outputs": [],
   "source": [
    "#2-17\n",
    "print(mean(20,0))\n",
    "\n",
    "#之前跑的結果0.024131007201440288\n",
    "#選 b 0.02"
   ]
  },
  {
   "cell_type": "code",
   "execution_count": null,
   "metadata": {},
   "outputs": [],
   "source": [
    "#2-18\n",
    "print(mean(2,0.1))\n",
    "\n",
    "#之前跑的結果0.37656463129262585\n",
    "#選 e 0.4"
   ]
  },
  {
   "cell_type": "code",
   "execution_count": null,
   "metadata": {},
   "outputs": [],
   "source": [
    "#2-19\n",
    "print(mean(20,0.1))\n",
    "\n",
    "#之前跑的結果0.050938170634126825\n",
    "#選 c 0.05"
   ]
  },
  {
   "cell_type": "code",
   "execution_count": null,
   "metadata": {},
   "outputs": [],
   "source": [
    "#2-20\n",
    "print(mean(200,0.1))\n",
    "\n",
    "#之前跑的結果0.0051518086172344674\n",
    "#選 a 0.00"
   ]
  }
 ],
 "metadata": {
  "kernelspec": {
   "display_name": "Python 3",
   "language": "python",
   "name": "python3"
  },
  "language_info": {
   "codemirror_mode": {
    "name": "ipython",
    "version": 3
   },
   "file_extension": ".py",
   "mimetype": "text/x-python",
   "name": "python",
   "nbconvert_exporter": "python",
   "pygments_lexer": "ipython3",
   "version": "3.8.5"
  }
 },
 "nbformat": 4,
 "nbformat_minor": 4
}
