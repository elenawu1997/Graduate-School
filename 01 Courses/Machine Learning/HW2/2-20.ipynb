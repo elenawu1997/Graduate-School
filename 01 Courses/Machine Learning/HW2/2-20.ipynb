{
 "cells": [
  {
   "cell_type": "code",
   "execution_count": 1,
   "metadata": {},
   "outputs": [],
   "source": [
    "import numpy as np\n",
    "import random\n",
    "from sklearn.model_selection import train_test_split\n",
    "import statistics\n",
    "import time"
   ]
  },
  {
   "cell_type": "code",
   "execution_count": 2,
   "metadata": {},
   "outputs": [],
   "source": [
    "def GenerateData(SampleSize, bias):\n",
    "    \n",
    "    data = np.random.uniform(-1,1,100000)\n",
    "\n",
    "    data_y = []\n",
    "    noise = np.random.binomial(1, bias, 100000)\n",
    "    for d in data:\n",
    "        data_y.append([d,np.sign(d)*(-1)])\n",
    "    for i in range(100000):\n",
    "        if noise[i]==1:\n",
    "            data_y[i][1]=data_y[i][1]*(-1)\n",
    "    \n",
    "    train, test = train_test_split(data_y, test_size=(1-SampleSize/100000), random_state=random.randint(0, 10000))\n",
    "    train.sort()\n",
    "    \n",
    "    return train, test"
   ]
  },
  {
   "cell_type": "code",
   "execution_count": 3,
   "metadata": {},
   "outputs": [],
   "source": [
    "def FindG(sample):\n",
    "    theta,s = -1, -1\n",
    "\n",
    "    H = []\n",
    "    H.append([-1,-1])\n",
    "    H.append([-1,1])\n",
    "    \n",
    "    for i in range(len(sample)-1):\n",
    "        t = (sample[i][0] + sample[i+1][0]) / 2\n",
    "        H.append([t, -1])\n",
    "        H.append([t, 1])\n",
    "    \n",
    "    Ein = 1\n",
    "    \n",
    "    for h in H:\n",
    "        if (Error(sample, h[0], h[1]) <= Ein) :\n",
    "            Ein = Error(sample, h[0], h[1])\n",
    "            theta = h[0]\n",
    "            s = h[1]\n",
    "        if (Error(sample, h[0], h[1]) == Ein) and (( h[0]+ h[1]) <(theta + s)):\n",
    "            Ein = Error(sample, h[0], h[1])\n",
    "            theta = h[0]\n",
    "            s = h[1]\n",
    "\n",
    "    return Ein, theta, s"
   ]
  },
  {
   "cell_type": "code",
   "execution_count": 4,
   "metadata": {},
   "outputs": [],
   "source": [
    "def FindG(sample):\n",
    "    theta,s = -1, -1\n",
    "\n",
    "    H = []\n",
    "    H.append([-1,-1])\n",
    "    H.append([-1,1])\n",
    "    \n",
    "    for i in range(len(sample)-1):\n",
    "        t = (sample[i][0] + sample[i+1][0]) / 2\n",
    "        H.append([t, -1])\n",
    "        H.append([t, 1])\n",
    "    \n",
    "    Ein = 1\n",
    "    \n",
    "    for h in H:\n",
    "        error_h = Error(sample, h[0], h[1])\n",
    "        if error_h <= Ein :\n",
    "            Ein = error_h\n",
    "            theta = h[0]\n",
    "            s = h[1]\n",
    "        if (error_h == Ein) and (( h[0]+ h[1]) <(theta + s)):\n",
    "            Ein = error_h\n",
    "            theta = h[0]\n",
    "            s = h[1]\n",
    "\n",
    "    return Ein, theta, s"
   ]
  },
  {
   "cell_type": "code",
   "execution_count": 5,
   "metadata": {},
   "outputs": [],
   "source": [
    "def Error(sample, theta, s):\n",
    "    error = 0\n",
    "    for d in sample:\n",
    "        if d[1] != (s * np.sign(d[0] - theta)):\n",
    "            error+=1\n",
    "            \n",
    "    return error/len(sample)"
   ]
  },
  {
   "cell_type": "code",
   "execution_count": 6,
   "metadata": {},
   "outputs": [],
   "source": [
    "def Eout_Ein(SampleSize, Bias):\n",
    "    train, test = GenerateData(SampleSize, Bias)\n",
    "    Ein, theta, s = FindG(train)\n",
    "    Eout = Error(test, theta, s)\n",
    "    return (Eout - Ein)"
   ]
  },
  {
   "cell_type": "code",
   "execution_count": 7,
   "metadata": {},
   "outputs": [],
   "source": [
    "def mean(SampleSize, Bias):\n",
    "    diff = []\n",
    "    for i in range(10000):\n",
    "        diff.append(Eout_Ein(SampleSize, Bias))\n",
    "        if i%100 ==0:\n",
    "            print(i,statistics.mean(diff), \"--- %s seconds ---\" % (time.time() - start_time))\n",
    "    return statistics.mean(diff)"
   ]
  },
  {
   "cell_type": "code",
   "execution_count": 8,
   "metadata": {},
   "outputs": [],
   "source": [
    "start_time = time.time()"
   ]
  },
  {
   "cell_type": "code",
   "execution_count": 9,
   "metadata": {},
   "outputs": [
    {
     "name": "stdout",
     "output_type": "stream",
     "text": [
      "0 0.004649298597194387 --- 3.925532579421997 seconds ---\n",
      "100 0.005046826325919165 --- 216.42273020744324 seconds ---\n",
      "200 0.006017657204957177 --- 412.9953558444977 seconds ---\n",
      "300 0.00530869047064228 --- 504.2916798591614 seconds ---\n",
      "400 0.005169516089535678 --- 596.0585298538208 seconds ---\n",
      "500 0.00455695822783291 --- 698.8793070316315 seconds ---\n",
      "600 0.004257133234855734 --- 807.5471024513245 seconds ---\n",
      "700 0.004294866480464494 --- 914.7788548469543 seconds ---\n",
      "800 0.004394907167643651 --- 1027.8778562545776 seconds ---\n",
      "900 0.004535486066472566 --- 1136.3045129776 seconds ---\n",
      "1000 0.004597366561294416 --- 1250.6132593154907 seconds ---\n",
      "1100 0.004242035387760078 --- 1373.800835609436 seconds ---\n",
      "1200 0.0043637733418543986 --- 1568.7958359718323 seconds ---\n",
      "1300 0.00413084431738188 --- 1782.6775658130646 seconds ---\n",
      "1400 0.0044271984368451376 --- 1994.4364943504333 seconds ---\n",
      "1500 0.00448465218244617 --- 2211.936564683914 seconds ---\n",
      "1600 0.004816697730251257 --- 2431.533812046051 seconds ---\n",
      "1700 0.004641734969056277 --- 2652.109953403473 seconds ---\n",
      "1800 0.0047139921152688485 --- 2874.350384235382 seconds ---\n",
      "1900 0.004868558790384555 --- 3094.737688064575 seconds ---\n",
      "2000 0.005001572360112528 --- 3316.015077829361 seconds ---\n",
      "2100 0.004885563606985507 --- 3476.848434448242 seconds ---\n",
      "2200 0.004860985032309051 --- 3571.084861755371 seconds ---\n",
      "2300 0.0047964638533912664 --- 3680.5587527751923 seconds ---\n",
      "2400 0.0048000624322364 --- 3787.6706380844116 seconds ---\n",
      "2500 0.004919595288137249 --- 3894.744148015976 seconds ---\n",
      "2600 0.004988966784010156 --- 4004.748195171356 seconds ---\n",
      "2700 0.004899309911937906 --- 4119.995861053467 seconds ---\n",
      "2800 0.004928800836231548 --- 4240.231002092361 seconds ---\n",
      "2900 0.004956583280314506 --- 4366.114396572113 seconds ---\n",
      "3000 0.005041402364876369 --- 4488.7774746418 seconds ---\n",
      "3100 0.005131452844418277 --- 4619.7859473228455 seconds ---\n",
      "3200 0.005107437618129103 --- 4749.320511579514 seconds ---\n",
      "3300 0.005119396624208732 --- 4880.655912399292 seconds ---\n",
      "3400 0.0052043929081332305 --- 5009.478062152863 seconds ---\n",
      "3500 0.004967149380165643 --- 5137.019222736359 seconds ---\n",
      "3600 0.004918643173600741 --- 5265.5445194244385 seconds ---\n",
      "3700 0.004843992226549829 --- 5383.016295671463 seconds ---\n",
      "3800 0.00480849096245635 --- 5499.940988540649 seconds ---\n",
      "3900 0.004749229296840283 --- 5611.969616174698 seconds ---\n",
      "4000 0.004736546324340757 --- 5724.281794548035 seconds ---\n",
      "4100 0.004789598704846903 --- 5837.062702178955 seconds ---\n",
      "4200 0.004816588664117093 --- 5948.143361330032 seconds ---\n",
      "4300 0.004825146689566064 --- 6058.481157302856 seconds ---\n",
      "4400 0.004824718739911087 --- 6169.206960439682 seconds ---\n",
      "4500 0.004871918910026227 --- 6280.523027181625 seconds ---\n",
      "4600 0.004883376838441062 --- 6392.7453446388245 seconds ---\n",
      "4700 0.004920374678307902 --- 6503.227297782898 seconds ---\n",
      "4800 0.0048382559745610764 --- 6612.343956947327 seconds ---\n",
      "4900 0.004791474399523388 --- 6724.717745065689 seconds ---\n",
      "5000 0.004757283012335407 --- 6837.139257192612 seconds ---\n",
      "5100 0.004773648453543038 --- 6947.031677246094 seconds ---\n",
      "5200 0.004778661341140268 --- 7058.802390575409 seconds ---\n",
      "5300 0.0046996766594876215 --- 7149.181714773178 seconds ---\n",
      "5400 0.00469365503827503 --- 7230.425297737122 seconds ---\n",
      "5500 0.0047513441717100795 --- 7312.027148723602 seconds ---\n",
      "5600 0.004730124415944904 --- 7393.333611249924 seconds ---\n",
      "5700 0.004754436077909194 --- 7473.404233455658 seconds ---\n",
      "5800 0.004758548298113205 --- 7554.819097280502 seconds ---\n",
      "5900 0.0048240320668450935 --- 7636.755890130997 seconds ---\n",
      "6000 0.004794329535591762 --- 7719.049860715866 seconds ---\n",
      "6100 0.00478445827895752 --- 7798.533700704575 seconds ---\n",
      "6200 0.004808911485283095 --- 7878.499420166016 seconds ---\n",
      "6300 0.004824416329882427 --- 7957.51699256897 seconds ---\n",
      "6400 0.0048609920982411615 --- 8037.513771772385 seconds ---\n",
      "6500 0.004856411792975274 --- 8116.8926820755005 seconds ---\n",
      "6600 0.004867517188596249 --- 8200.308620929718 seconds ---\n",
      "6700 0.004804917998958668 --- 8279.856963634491 seconds ---\n",
      "6800 0.004829525246640906 --- 8360.003738880157 seconds ---\n",
      "6900 0.0048165523918435324 --- 8440.588378190994 seconds ---\n",
      "7000 0.004910852987219975 --- 8520.169472932816 seconds ---\n",
      "7100 0.0049241871999173665 --- 8599.395558834076 seconds ---\n",
      "7200 0.004923773390413655 --- 8678.720884561539 seconds ---\n",
      "7300 0.004953551809824277 --- 8762.673272132874 seconds ---\n",
      "7400 0.00493188511870383 --- 8842.22738981247 seconds ---\n",
      "7500 0.004923089747018366 --- 8921.752089262009 seconds ---\n",
      "7600 0.004941491982781507 --- 9001.9216735363 seconds ---\n",
      "7700 0.004953101892656887 --- 9081.742265701294 seconds ---\n",
      "7800 0.004997711099676599 --- 9160.316599607468 seconds ---\n",
      "7900 0.005000982854203533 --- 9230.759736537933 seconds ---\n",
      "8000 0.004989969941132107 --- 9294.84337067604 seconds ---\n",
      "8100 0.005019865678771441 --- 9358.776901483536 seconds ---\n",
      "8200 0.00496282651878565 --- 9422.915591478348 seconds ---\n",
      "8300 0.0050439537067147175 --- 9487.287533521652 seconds ---\n",
      "8400 0.0050284761881816235 --- 9551.417931318283 seconds ---\n",
      "8500 0.005007497644388882 --- 9615.015709877014 seconds ---\n",
      "8600 0.005018232022701372 --- 9679.46639084816 seconds ---\n",
      "8700 0.005051810321021308 --- 9743.541499614716 seconds ---\n",
      "8800 0.005089808067447244 --- 9807.443853616714 seconds ---\n",
      "8900 0.005102549779932857 --- 9871.41067147255 seconds ---\n",
      "9000 0.005108852300757497 --- 9935.505268096924 seconds ---\n",
      "9100 0.00512407079844779 --- 9999.435188770294 seconds ---\n",
      "9200 0.005111015422868342 --- 10063.35424399376 seconds ---\n",
      "9300 0.005101904701780724 --- 10127.147334814072 seconds ---\n",
      "9400 0.0050985494017499935 --- 10191.179020404816 seconds ---\n",
      "9500 0.005088206093272746 --- 10255.650475025177 seconds ---\n",
      "9600 0.005103252020132337 --- 10319.609116315842 seconds ---\n",
      "9700 0.0050951154964294105 --- 10383.511996507645 seconds ---\n",
      "9800 0.005129914967165224 --- 10447.554891109467 seconds ---\n",
      "9900 0.005149848226905279 --- 10511.785900592804 seconds ---\n",
      "0.0051518086172344674\n"
     ]
    }
   ],
   "source": [
    "#2-16\n",
    "print(mean(200,0.1))"
   ]
  },
  {
   "cell_type": "code",
   "execution_count": null,
   "metadata": {},
   "outputs": [],
   "source": [
    "#2-17\n",
    "print(mean(20,0))"
   ]
  },
  {
   "cell_type": "code",
   "execution_count": null,
   "metadata": {},
   "outputs": [],
   "source": [
    "#2-18\n",
    "print(mean(2,0.1))"
   ]
  },
  {
   "cell_type": "code",
   "execution_count": null,
   "metadata": {},
   "outputs": [],
   "source": [
    "#2-19\n",
    "print(mean(20,0.1))"
   ]
  },
  {
   "cell_type": "code",
   "execution_count": null,
   "metadata": {},
   "outputs": [],
   "source": [
    "#2-20\n",
    "print(mean(200,0.1))"
   ]
  },
  {
   "cell_type": "code",
   "execution_count": null,
   "metadata": {},
   "outputs": [],
   "source": []
  }
 ],
 "metadata": {
  "kernelspec": {
   "display_name": "Python 3",
   "language": "python",
   "name": "python3"
  },
  "language_info": {
   "codemirror_mode": {
    "name": "ipython",
    "version": 3
   },
   "file_extension": ".py",
   "mimetype": "text/x-python",
   "name": "python",
   "nbconvert_exporter": "python",
   "pygments_lexer": "ipython3",
   "version": "3.8.5"
  }
 },
 "nbformat": 4,
 "nbformat_minor": 4
}
