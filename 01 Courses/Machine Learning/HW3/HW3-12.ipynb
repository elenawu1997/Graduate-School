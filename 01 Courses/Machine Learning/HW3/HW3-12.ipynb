{
 "cells": [
  {
   "cell_type": "code",
   "execution_count": 5,
   "metadata": {},
   "outputs": [
    {
     "name": "stdout",
     "output_type": "stream",
     "text": [
      "5\n"
     ]
    }
   ],
   "source": [
    "#ex 12\n",
    "\n",
    "import numpy as np\n",
    "\n",
    "X = [[0,1], [1,-0.5], [-1,0], [-1,2], [2,0], [1,-1.5], [0,-2]]\n",
    "y = [-1,-1,-1,1,1,1,1]\n",
    "fi = [[-9,-1,0,2,-2,3], [-5,-1,2,3,-7,2], [9,-1,4,2,-2,-3], [2,1,-4,-2,7,-4], [-7,0,0,2,-1,3]]\n",
    "\n",
    "#驗證每一個fi，是否能達成sign(fi*x)=y，若可則print該fi index\n",
    "for i in range(len(fi)):\n",
    "    for j in range(len(X)):\n",
    "        z = 0\n",
    "        z += fi[i][0]\n",
    "        z += fi[i][1]*X[j][0]\n",
    "        z += fi[i][2]*X[j][1]\n",
    "        z += fi[i][3]*(X[j][0]**2)\n",
    "        z += fi[i][4]*X[j][0]*X[j][1]\n",
    "        z += fi[i][5]*(X[j][1]**2)\n",
    "        \n",
    "        if np.sign(z)!= np.sign(y[j]):\n",
    "            break\n",
    "        if j==(len(X)-1):\n",
    "            print(i+1)\n",
    "        "
   ]
  }
 ],
 "metadata": {
  "kernelspec": {
   "display_name": "Python 3",
   "language": "python",
   "name": "python3"
  },
  "language_info": {
   "codemirror_mode": {
    "name": "ipython",
    "version": 3
   },
   "file_extension": ".py",
   "mimetype": "text/x-python",
   "name": "python",
   "nbconvert_exporter": "python",
   "pygments_lexer": "ipython3",
   "version": "3.8.5"
  }
 },
 "nbformat": 4,
 "nbformat_minor": 4
}
