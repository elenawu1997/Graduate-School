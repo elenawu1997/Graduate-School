{
 "cells": [
  {
   "cell_type": "code",
   "execution_count": 1,
   "metadata": {},
   "outputs": [],
   "source": [
    "import numpy as np\n",
    "import random"
   ]
  },
  {
   "cell_type": "code",
   "execution_count": 2,
   "metadata": {},
   "outputs": [],
   "source": [
    "#generate X,y with certain file and Q\n",
    "def generateXY(file,x0,Q):\n",
    "    X = []\n",
    "    y = []\n",
    "    for i in open(file).readlines():\n",
    "        row = i.strip().split()\n",
    "        row2 = [x0]\n",
    "        \n",
    "        for j in range(Q):\n",
    "            for k in range(len(row)-1):\n",
    "                row2.append(float(row[k])**(j+1))\n",
    "            \n",
    "        X.append(row2)\n",
    "        \n",
    "    for i in open(file).readlines():\n",
    "        row = i.strip().split()\n",
    "        y.append(float(row[-1]))\n",
    "    \n",
    "    X = np.mat(X)\n",
    "    y = np.mat(y).T\n",
    "\n",
    "    return X,y"
   ]
  },
  {
   "cell_type": "code",
   "execution_count": 4,
   "metadata": {},
   "outputs": [],
   "source": [
    "#apply Wlin=(X^TX)^(-1)X^Ty\n",
    "def Wlin(X,y):\n",
    "    T = X.T\n",
    "    A = T.dot(X)\n",
    "    B = np.linalg.inv(A)\n",
    "    C = B.dot(T)\n",
    "    W = C.dot(y)\n",
    "    return W"
   ]
  },
  {
   "cell_type": "code",
   "execution_count": 5,
   "metadata": {},
   "outputs": [],
   "source": [
    "#calculate 0/1 error\n",
    "def err(X,y,W):\n",
    "    XW = X.dot(W)\n",
    "    sum = 0\n",
    "    for i in range(len(y)):\n",
    "        if np.sign(XW[i])!=y[i]:\n",
    "            sum+=1\n",
    "    return (sum/len(y))"
   ]
  },
  {
   "cell_type": "code",
   "execution_count": 9,
   "metadata": {},
   "outputs": [
    {
     "name": "stdout",
     "output_type": "stream",
     "text": [
      "|ein-eout|= 0.37366666666666665\n"
     ]
    }
   ],
   "source": [
    "#ex 19 with Q=3\n",
    "X, y = generateXY(\"hw3_train.dat\",1,3)\n",
    "X_test, y_test = generateXY(\"hw3_test.dat\",1,3)\n",
    "\n",
    "W = Wlin(X,y)\n",
    "print('|ein-eout|=',np.absolute(err(X,y,W)-err(X_test,y_test,W)))"
   ]
  },
  {
   "cell_type": "code",
   "execution_count": 10,
   "metadata": {},
   "outputs": [
    {
     "name": "stdout",
     "output_type": "stream",
     "text": [
      "|ein-eout|= 0.44666666666666666\n"
     ]
    }
   ],
   "source": [
    "#ex 20 with Q=10\n",
    "X, y = generateXY(\"hw3_train.dat\",1,10)\n",
    "X_test, y_test = generateXY(\"hw3_test.dat\",1,10)\n",
    "\n",
    "W = Wlin(X,y)\n",
    "print('|ein-eout|=',np.absolute(err(X,y,W)-err(X_test,y_test,W)))"
   ]
  }
 ],
 "metadata": {
  "kernelspec": {
   "display_name": "Python 3",
   "language": "python",
   "name": "python3"
  },
  "language_info": {
   "codemirror_mode": {
    "name": "ipython",
    "version": 3
   },
   "file_extension": ".py",
   "mimetype": "text/x-python",
   "name": "python",
   "nbconvert_exporter": "python",
   "pygments_lexer": "ipython3",
   "version": "3.8.5"
  }
 },
 "nbformat": 4,
 "nbformat_minor": 4
}
