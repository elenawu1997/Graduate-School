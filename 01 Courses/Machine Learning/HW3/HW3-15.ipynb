{
 "cells": [
  {
   "cell_type": "code",
   "execution_count": 1,
   "metadata": {},
   "outputs": [],
   "source": [
    "#ex 15\n",
    "import numpy as np\n",
    "import random"
   ]
  },
  {
   "cell_type": "code",
   "execution_count": 2,
   "metadata": {},
   "outputs": [],
   "source": [
    "#generate X,y with certain file\n",
    "def generateXY(file,x0):\n",
    "    X = []\n",
    "    y = []\n",
    "    for i in open(file).readlines():\n",
    "        row = i.strip().split()\n",
    "        row2 = [x0]\n",
    "        for i in row:\n",
    "            row2.append(float(i))\n",
    "        X.append(row2[0:11])\n",
    "        y.append(row2[11])\n",
    "        \n",
    "    X = np.mat(X)\n",
    "    y = np.mat(y).T\n",
    "\n",
    "    return X,y"
   ]
  },
  {
   "cell_type": "code",
   "execution_count": 3,
   "metadata": {},
   "outputs": [],
   "source": [
    "def CEerr(X,y,W):\n",
    "    XW = X.dot(W)\n",
    "    sum = 0\n",
    "    for i in range(len(y)):\n",
    "        sum+=np.log(1+math.exp(XW[i]*(-1)*y[i]))\n",
    "    return (sum/len(y))"
   ]
  },
  {
   "cell_type": "code",
   "execution_count": 4,
   "metadata": {},
   "outputs": [],
   "source": [
    "def sqrerr(X,y,W):\n",
    "    sum = 0\n",
    "    for i in range(len(y)):\n",
    "        sum+=((X.dot(W)[i]-y[i]))**2\n",
    "    return (sum/len(y))"
   ]
  },
  {
   "cell_type": "code",
   "execution_count": 5,
   "metadata": {},
   "outputs": [],
   "source": [
    "#apply Wlin=(X^TX)^(-1)X^Ty \n",
    "\n",
    "def Wlin(X,y):\n",
    "    T = X.T\n",
    "    A = T.dot(X)\n",
    "    B = np.linalg.inv(A)\n",
    "    C = B.dot(T)\n",
    "    W = C.dot(y)\n",
    "    \n",
    "    return W"
   ]
  },
  {
   "cell_type": "code",
   "execution_count": 6,
   "metadata": {},
   "outputs": [],
   "source": [
    "def SGD(file,x0):\n",
    "    # generate X,y and W0\n",
    "    X,y = generateXY(file,x0)\n",
    "    \n",
    "    W = np.mat(np.zeros(11))\n",
    "    wlin = Wlin(X,y)\n",
    "    \n",
    "    #get squ err of Wlin\n",
    "    linerr = sqrerr(X,y,wlin) * 1.01\n",
    "\n",
    "    #count iteration\n",
    "    iteration = 0\n",
    "    \n",
    "    while(1):\n",
    "        #pick Xn,yn randomly for each iteration\n",
    "        rand = random.randint(0,len(y)-1)\n",
    "        Xn = X[rand]\n",
    "        yn = y[rand]\n",
    "        \n",
    "        #calculate adjust vector for W\n",
    "        XW=Xn.dot(W.T)\n",
    "        s = 2*(yn-(XW))*Xn\n",
    "        W += 0.001*s\n",
    "        \n",
    "        #get squ err of adjusted W\n",
    "        err = sqrerr(X,y,W.T)\n",
    "\n",
    "        iteration += 1\n",
    "            \n",
    "        if  (err <= linerr) :\n",
    "            print(iteration,err)\n",
    "            break\n",
    "                \n",
    "    return iteration  "
   ]
  },
  {
   "cell_type": "code",
   "execution_count": null,
   "metadata": {},
   "outputs": [],
   "source": [
    "it = 0\n",
    "for i in range(1000):\n",
    "    iteration = SGD(\"hw3_train.dat\",1)\n",
    "    it += iteration\n",
    "print(it/1000)"
   ]
  }
 ],
 "metadata": {
  "kernelspec": {
   "display_name": "Python 3",
   "language": "python",
   "name": "python3"
  },
  "language_info": {
   "codemirror_mode": {
    "name": "ipython",
    "version": 3
   },
   "file_extension": ".py",
   "mimetype": "text/x-python",
   "name": "python",
   "nbconvert_exporter": "python",
   "pygments_lexer": "ipython3",
   "version": "3.8.5"
  }
 },
 "nbformat": 4,
 "nbformat_minor": 4
}
