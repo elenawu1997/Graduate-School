{
 "cells": [
  {
   "cell_type": "code",
   "execution_count": 7,
   "metadata": {},
   "outputs": [],
   "source": [
    "import numpy as np\n",
    "import random"
   ]
  },
  {
   "cell_type": "code",
   "execution_count": 8,
   "metadata": {},
   "outputs": [],
   "source": [
    "#generate X,y with certain file\n",
    "def generateXY(file,x0):\n",
    "    X = []\n",
    "    y = []\n",
    "    for i in open(file).readlines():\n",
    "        row = i.strip().split()\n",
    "        row2 = [x0]\n",
    "        for i in row:\n",
    "            row2.append(float(i))\n",
    "        X.append(row2[0:11])\n",
    "        y.append(row2[11])\n",
    "        \n",
    "    X = np.mat(X)\n",
    "    y = np.mat(y).T\n",
    "    \n",
    "    return X,y"
   ]
  },
  {
   "cell_type": "code",
   "execution_count": 9,
   "metadata": {},
   "outputs": [],
   "source": [
    "#calculate 0/1 error\n",
    "def err(X,y,W):\n",
    "    XW = X.dot(W)\n",
    "    sum = 0\n",
    "    for i in range(len(y)):\n",
    "        if np.sign(XW[i])!=y[i]:\n",
    "            sum+=1\n",
    "    return (sum/len(y))"
   ]
  },
  {
   "cell_type": "code",
   "execution_count": 10,
   "metadata": {},
   "outputs": [],
   "source": [
    "#apply Wlin=(X^TX)^(-1)X^Ty\n",
    "def Wlin(X,y):\n",
    "    T = X.T\n",
    "    A = T.dot(X)\n",
    "    B = np.linalg.inv(A)\n",
    "    C = B.dot(T)\n",
    "    W = C.dot(y)\n",
    "    return W"
   ]
  },
  {
   "cell_type": "code",
   "execution_count": 11,
   "metadata": {},
   "outputs": [
    {
     "name": "stdout",
     "output_type": "stream",
     "text": [
      "|ein-eout|= 0.3226666666666666\n"
     ]
    }
   ],
   "source": [
    "X_in,y_in = generateXY(\"hw3_train.dat\",1)\n",
    "X_out,y_out = generateXY(\"hw3_test.dat\",1)\n",
    "\n",
    "W = Wlin(X_in,y_in)\n",
    "print('|ein-eout|=',np.absolute(err(X_in,y_in,W)-err(X_out,y_out,W)))"
   ]
  },
  {
   "cell_type": "code",
   "execution_count": null,
   "metadata": {},
   "outputs": [],
   "source": []
  }
 ],
 "metadata": {
  "kernelspec": {
   "display_name": "Python 3",
   "language": "python",
   "name": "python3"
  },
  "language_info": {
   "codemirror_mode": {
    "name": "ipython",
    "version": 3
   },
   "file_extension": ".py",
   "mimetype": "text/x-python",
   "name": "python",
   "nbconvert_exporter": "python",
   "pygments_lexer": "ipython3",
   "version": "3.8.5"
  }
 },
 "nbformat": 4,
 "nbformat_minor": 4
}
