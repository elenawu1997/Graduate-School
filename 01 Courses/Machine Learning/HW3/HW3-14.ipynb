{
 "cells": [
  {
   "cell_type": "code",
   "execution_count": 1,
   "metadata": {},
   "outputs": [],
   "source": [
    "#ex 14\n",
    "import numpy as np"
   ]
  },
  {
   "cell_type": "code",
   "execution_count": 2,
   "metadata": {},
   "outputs": [],
   "source": [
    "#generate X,y with certain file\n",
    "\n",
    "def generateXY(file,x0):\n",
    "    X = []\n",
    "    y = []\n",
    "    for i in open(file).readlines():\n",
    "        row = i.strip().split()\n",
    "        row2 = [x0]\n",
    "        for i in row:\n",
    "            row2.append(float(i))\n",
    "        X.append(row2[0:11])\n",
    "        y.append(row2[11])\n",
    "        \n",
    "    X = np.mat(X)\n",
    "    y = np.mat(y).T\n",
    "    \n",
    "    return X,y"
   ]
  },
  {
   "cell_type": "code",
   "execution_count": 3,
   "metadata": {},
   "outputs": [],
   "source": [
    "#calculate CE err\n",
    "\n",
    "def sqrerr(X,y,W):\n",
    "    XW = X.dot(W)\n",
    "    sum = 0\n",
    "    for i in range(len(y)):\n",
    "        sum+=(XW[i]-y[i])**2\n",
    "    return (sum/len(y))"
   ]
  },
  {
   "cell_type": "code",
   "execution_count": 4,
   "metadata": {},
   "outputs": [],
   "source": [
    "#apply Wlin=(X^TX)^(-1)X^Ty \n",
    "\n",
    "def Wlin(X,y):\n",
    "    T = X.T\n",
    "    A = T.dot(X)\n",
    "    B = np.linalg.inv(A)\n",
    "    C = B.dot(T)\n",
    "    W = C.dot(y)\n",
    "    \n",
    "    return W"
   ]
  },
  {
   "cell_type": "code",
   "execution_count": 6,
   "metadata": {},
   "outputs": [
    {
     "name": "stdout",
     "output_type": "stream",
     "text": [
      "[[0.60532238]]\n"
     ]
    }
   ],
   "source": [
    "X,y = generateXY(\"hw3_train.dat\",1)\n",
    "W = Wlin(X,y)\n",
    "err = sqrerr(X,y,W)\n",
    "print(err)"
   ]
  }
 ],
 "metadata": {
  "kernelspec": {
   "display_name": "Python 3",
   "language": "python",
   "name": "python3"
  },
  "language_info": {
   "codemirror_mode": {
    "name": "ipython",
    "version": 3
   },
   "file_extension": ".py",
   "mimetype": "text/x-python",
   "name": "python",
   "nbconvert_exporter": "python",
   "pygments_lexer": "ipython3",
   "version": "3.8.5"
  }
 },
 "nbformat": 4,
 "nbformat_minor": 4
}
