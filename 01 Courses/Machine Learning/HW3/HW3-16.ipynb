{
 "cells": [
  {
   "cell_type": "code",
   "execution_count": 1,
   "metadata": {},
   "outputs": [],
   "source": [
    "import numpy as np\n",
    "import random"
   ]
  },
  {
   "cell_type": "code",
   "execution_count": 2,
   "metadata": {},
   "outputs": [],
   "source": [
    "#generate X,y with certain file\n",
    "def generateXY(file,x0):\n",
    "    X = []\n",
    "    y = []\n",
    "    for i in open(file).readlines():\n",
    "        row = i.strip().split()\n",
    "        row2 = [x0]\n",
    "        for i in row:\n",
    "            row2.append(float(i))\n",
    "        X.append(row2[0:11])\n",
    "        y.append(row2[11])\n",
    "        \n",
    "    X = np.mat(X)\n",
    "    y = np.mat(y).T\n",
    "\n",
    "    return X,y"
   ]
  },
  {
   "cell_type": "code",
   "execution_count": 3,
   "metadata": {},
   "outputs": [],
   "source": [
    "#calculate CE err\n",
    "def CEerr(X,y,W):\n",
    "    XW = X.dot(W)\n",
    "    sum = 0\n",
    "    for i in range(len(y)):\n",
    "        sum+=np.log(1+math.exp(XW[i]*(-1)*y[i]))\n",
    "    return (sum/len(y))"
   ]
  },
  {
   "cell_type": "code",
   "execution_count": 4,
   "metadata": {},
   "outputs": [],
   "source": [
    "#apply SGD with W0 = 0 and adjust with CE error for 500 times adjustment\n",
    "def SGD(file,x0):\n",
    "    # generate X,y and W0\n",
    "    X,y = generateXY(file,x0)\n",
    "    W = np.mat(np.zeros(11))\n",
    "    \n",
    "    #adjust 500 times\n",
    "    i = 0\n",
    "    while(i<500):\n",
    "        i += 1\n",
    "        \n",
    "        #pick Xn,yn randomly for each iteration\n",
    "        rand = random.randint(0,len(y)-1)\n",
    "        Xn = X[rand]\n",
    "        yn = y[rand]\n",
    "        \n",
    "        #calculate adjust vector for W\n",
    "        s = (-1)*yn*(Xn.dot(W.T))\n",
    "        theta = (1+math.exp(s*(-1)))**(-1)\n",
    "        \n",
    "        W += 0.001*theta*(yn*Xn)\n",
    "            \n",
    "    err = CEerr(X,y,W.T)\n",
    "    return err"
   ]
  },
  {
   "cell_type": "code",
   "execution_count": 6,
   "metadata": {},
   "outputs": [
    {
     "name": "stdout",
     "output_type": "stream",
     "text": [
      "0.5689305907458123\n"
     ]
    }
   ],
   "source": [
    "#repeat experiment 1000 times to get mean CEerr\n",
    "it = 0\n",
    "for i in range(1000):\n",
    "    err = SGD(\"hw3_train.dat\",1)\n",
    "    it += err\n",
    "print(it/1000)"
   ]
  }
 ],
 "metadata": {
  "kernelspec": {
   "display_name": "Python 3",
   "language": "python",
   "name": "python3"
  },
  "language_info": {
   "codemirror_mode": {
    "name": "ipython",
    "version": 3
   },
   "file_extension": ".py",
   "mimetype": "text/x-python",
   "name": "python",
   "nbconvert_exporter": "python",
   "pygments_lexer": "ipython3",
   "version": "3.8.5"
  }
 },
 "nbformat": 4,
 "nbformat_minor": 4
}
