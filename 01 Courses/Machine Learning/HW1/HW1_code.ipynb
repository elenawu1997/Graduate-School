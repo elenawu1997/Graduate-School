{
 "cells": [
  {
   "cell_type": "code",
   "execution_count": 59,
   "metadata": {},
   "outputs": [],
   "source": [
    "import pandas as pd\n",
    "import numpy as np\n",
    "import random\n",
    "from sklearn.utils import shuffle"
   ]
  },
  {
   "cell_type": "code",
   "execution_count": 60,
   "metadata": {},
   "outputs": [],
   "source": [
    "#data for ex16,17\n",
    "\n",
    "data_1617 = []\n",
    "for i in open(\"hw1_train.dat\").readlines():\n",
    "    row = i.strip().split()\n",
    "    row2 = [1]\n",
    "    for i in row:\n",
    "        row2.append(float(i))\n",
    "    data_1617.append([row2[0:11],row2[11]])"
   ]
  },
  {
   "cell_type": "code",
   "execution_count": 61,
   "metadata": {},
   "outputs": [],
   "source": [
    "#data for ex18\n",
    "\n",
    "data_18 = []\n",
    "for i in open(\"hw1_train.dat\").readlines():\n",
    "    row = i.strip().split()\n",
    "    row2 = [10]\n",
    "    for i in row:\n",
    "        row2.append(float(i))\n",
    "    data_18.append([row2[0:11],row2[11]])"
   ]
  },
  {
   "cell_type": "code",
   "execution_count": 62,
   "metadata": {},
   "outputs": [],
   "source": [
    "#data for ex19\n",
    "\n",
    "data_19 = []\n",
    "for i in open(\"hw1_train.dat\").readlines():\n",
    "    row = i.strip().split()\n",
    "    row2 = [0]\n",
    "    for i in row:\n",
    "        row2.append(float(i))\n",
    "    data_19.append([row2[0:11],row2[11]])"
   ]
  },
  {
   "cell_type": "code",
   "execution_count": 63,
   "metadata": {},
   "outputs": [],
   "source": [
    "#data for ex20\n",
    "\n",
    "data_20 = []\n",
    "for i in open(\"hw1_train.dat\").readlines():\n",
    "    row = i.strip().split()\n",
    "    row2 = [0]\n",
    "    for i in row:\n",
    "        row2.append(float(i)/4)\n",
    "    data_20.append([row2[0:11],row2[11]])"
   ]
  },
  {
   "cell_type": "code",
   "execution_count": 64,
   "metadata": {},
   "outputs": [],
   "source": [
    "#check if wx!=y, if not, return x,y for PLA to adjust w\n",
    "\n",
    "def check_error(w, dataset,x,y):\n",
    "    result = None\n",
    "    stop=0\n",
    "    if x is not None and y is not None:\n",
    "        if int(np.sign(w.T.dot(x))) != y:\n",
    "            result =  x, y\n",
    "            return result\n",
    "    for x, y in shuffle(dataset, random_state=random.randint(0,10000)):\n",
    "        if stop==500:\n",
    "            return result\n",
    "        x = np.array(x)\n",
    "        if int(np.sign(w.T.dot(x))) != y:\n",
    "            result =  x, y\n",
    "            return result\n",
    "        else:\n",
    "            stop+=1"
   ]
  },
  {
   "cell_type": "code",
   "execution_count": 65,
   "metadata": {},
   "outputs": [],
   "source": [
    "#PLA implement: adjust w when wx!=y\n",
    "\n",
    "def pla(dataset,times,x,y):\n",
    "    w = np.zeros(11)\n",
    "    count=0\n",
    "    while check_error(w, dataset,x,y) is not None:\n",
    "        count+=1\n",
    "        x, y = check_error(w, dataset,x,y)\n",
    "        w += y * x\n",
    "    times.append(count)\n",
    "    return w,times"
   ]
  },
  {
   "cell_type": "code",
   "execution_count": 66,
   "metadata": {},
   "outputs": [
    {
     "name": "stdout",
     "output_type": "stream",
     "text": [
      "ex16: 11.0\n",
      "ex17: -7.0\n"
     ]
    }
   ],
   "source": [
    "#ex16,17 implement\n",
    "times = []\n",
    "ws = []\n",
    "for i in range(0,1000):\n",
    "    w,times = pla(data_1617, times,None,None)\n",
    "    ws.append(w)\n",
    "ws=pd.DataFrame(ws)\n",
    "\n",
    "print(\"ex16:\",np.median(times))\n",
    "print(\"ex17:\",ws[0].median())"
   ]
  },
  {
   "cell_type": "code",
   "execution_count": 67,
   "metadata": {},
   "outputs": [
    {
     "name": "stdout",
     "output_type": "stream",
     "text": [
      "ex18: 15.0\n"
     ]
    }
   ],
   "source": [
    "#ex18 implement\n",
    "times = []\n",
    "for i in range(0,1000):\n",
    "    w,times = pla(data_18, times,None,None)\n",
    "\n",
    "print(\"ex18:\",np.median(times))"
   ]
  },
  {
   "cell_type": "code",
   "execution_count": 68,
   "metadata": {},
   "outputs": [
    {
     "name": "stdout",
     "output_type": "stream",
     "text": [
      "ex19: 17.0\n"
     ]
    }
   ],
   "source": [
    "#ex19 implement\n",
    "times = []\n",
    "for i in range(0,1000):\n",
    "    w,times = pla(data_19, times,None,None)\n",
    "\n",
    "print(\"ex19:\",np.median(times))"
   ]
  },
  {
   "cell_type": "code",
   "execution_count": null,
   "metadata": {},
   "outputs": [],
   "source": [
    "#ex20 implement\n",
    "times = []\n",
    "for i in range(0,1000):\n",
    "    w,times = pla(data_20, times,None,None)\n",
    "\n",
    "print(\"ex20:\",times)"
   ]
  },
  {
   "cell_type": "markdown",
   "metadata": {},
   "source": [
    "自首一下這題我沒跑完QQ太久了，但是根據Ex3的結果，我覺得Ex20是Ex19 scale down by a factoe of 4的結果，次數應該跟ex19一樣是17。"
   ]
  },
  {
   "cell_type": "code",
   "execution_count": null,
   "metadata": {},
   "outputs": [],
   "source": []
  }
 ],
 "metadata": {
  "kernelspec": {
   "display_name": "Python 3",
   "language": "python",
   "name": "python3"
  },
  "language_info": {
   "codemirror_mode": {
    "name": "ipython",
    "version": 3
   },
   "file_extension": ".py",
   "mimetype": "text/x-python",
   "name": "python",
   "nbconvert_exporter": "python",
   "pygments_lexer": "ipython3",
   "version": "3.8.5"
  }
 },
 "nbformat": 4,
 "nbformat_minor": 4
}
