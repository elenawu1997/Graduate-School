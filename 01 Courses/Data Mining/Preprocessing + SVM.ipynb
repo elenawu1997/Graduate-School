{
 "cells": [
  {
   "cell_type": "markdown",
   "metadata": {
    "id": "NxYdNR9PsoXo"
   },
   "source": [
    "# Packages used"
   ]
  },
  {
   "cell_type": "code",
   "execution_count": null,
   "metadata": {
    "id": "osbVQ7E2MFcz"
   },
   "outputs": [],
   "source": [
    "import numpy as np\n",
    "import pandas as pd\n",
    "import shutil\n",
    "import os, sys\n",
    "import matplotlib.pyplot as plt\n",
    "\n",
    "from sklearn.metrics import confusion_matrix\n",
    "from sklearn.metrics import accuracy_score\n",
    "from sklearn.metrics import precision_score\n",
    "from sklearn.metrics import recall_score\n",
    "from sklearn.metrics import f1_score\n",
    "from sklearn.model_selection import cross_validate\n",
    "from sklearn.model_selection import train_test_split\n",
    "from sklearn.svm import SVC\n",
    "from sklearn.decomposition import PCA\n",
    "from sklearn.model_selection import GridSearchCV"
   ]
  },
  {
   "cell_type": "code",
   "execution_count": null,
   "metadata": {
    "id": "0NFHApcWLIzI"
   },
   "outputs": [],
   "source": [
    "import tensorflow as tf\n",
    "from IPython.display import display\n",
    "from IPython.display import Image as _Imgdis\n",
    "from PIL import Image\n",
    "import cv2\n",
    "from keras.preprocessing.image import load_img\n",
    "from keras.preprocessing.image import save_img\n",
    "from keras.preprocessing.image import img_to_array\n",
    "from keras.preprocessing.image import ImageDataGenerator, array_to_img\n",
    "from tensorflow.image import resize"
   ]
  },
  {
   "cell_type": "markdown",
   "metadata": {
    "id": "CxhKN73xst-N"
   },
   "source": [
    "# Functions define"
   ]
  },
  {
   "cell_type": "code",
   "execution_count": null,
   "metadata": {
    "id": "bpdG6G28low7"
   },
   "outputs": [],
   "source": [
    "# 把圖片轉成陣列\n",
    "def imgtoarray(f, size):\n",
    "  img = load_img(f, color_mode = \"grayscale\")\n",
    "\n",
    "  array = tf.keras.preprocessing.image.img_to_array(img)\n",
    "  array = resize(array, [size, size], method='nearest')\n",
    "  array = array/255.0\n",
    "  arr = array.numpy().ravel()\n",
    "  \n",
    "  return arr"
   ]
  },
  {
   "cell_type": "code",
   "execution_count": null,
   "metadata": {
    "id": "mbwwQPokpXIi"
   },
   "outputs": [],
   "source": [
    "# 處理各個資料夾的圖片檔案\n",
    "def imgpreprocessing(foldername, labels, size):\n",
    "\n",
    "  data = []\n",
    "  for l in labels:\n",
    "    #folder = dir + foldername + '/' +l + '/'\n",
    "    folder = '/content/drive/MyDrive/DM/'+ foldername + '/' +l + '/'\n",
    "    onlyfiles = [f for f in os.listdir(folder) if os.path.isfile(os.path.join(folder, f))]\n",
    "    \n",
    "    for i in range(len(onlyfiles)):\n",
    "      f = folder + onlyfiles[i]\n",
    "      a = imgtoarray(f, size)\n",
    "      a = np.append(a, l[0])\n",
    "      data.append(a)\n",
    "\n",
    "      if i%20 == 0:\n",
    "        print(i, 'imgs are done.')\n",
    "    print(l+' is done.')\n",
    "\n",
    "  return data"
   ]
  },
  {
   "cell_type": "code",
   "execution_count": null,
   "metadata": {
    "id": "J0VQPR8qyEHk"
   },
   "outputs": [],
   "source": [
    "# 處理各個資料夾的圖片檔案(分類別版)\n",
    "def imgpreprocessing2(label, size):\n",
    "\n",
    "  data = []\n",
    "\n",
    "  folder = '/content/drive/MyDrive/DM/train_DG_more/' + label +'/'\n",
    "  onlyfiles = [f for f in os.listdir(folder) if os.path.isfile(os.path.join(folder, f))]\n",
    "\n",
    "  for i in range(len(onlyfiles)):\n",
    "    f = folder + onlyfiles[i]\n",
    "    a = imgtoarray(f, size)\n",
    "    a = np.append(a, label[0])\n",
    "    data.append(a)\n",
    "\n",
    "    if i%20 == 0:\n",
    "      print(i, 'imgs are done.')\n",
    "  print(label+' is done.')\n",
    "\n",
    "  return data"
   ]
  },
  {
   "cell_type": "code",
   "execution_count": null,
   "metadata": {
    "id": "YJOxR8UsvYRT"
   },
   "outputs": [],
   "source": [
    "# Data Augmentation (單張 image) \n",
    "def imagegenerate(f):\n",
    "  img = load_img(f)\n",
    "  plt.imshow(img)\n",
    "  data = img_to_array(img)\n",
    "  samples = np.expand_dims(data, 0)\n",
    "  datagen = ImageDataGenerator(    \n",
    "      rotation_range=5,\n",
    "      width_shift_range=0.05,\n",
    "      height_shift_range=0.05,\n",
    "      zoom_range=0.05)\n",
    "  \n",
    "  datagen.fit(samples)\n",
    "\n",
    "  it = datagen.flow(samples, batch_size=1)\n",
    "  batch = it.next()\n",
    "  image = batch[0].astype('uint8')\n",
    "  img2 = array_to_img(image)\n",
    "  \n",
    "  return img2"
   ]
  },
  {
   "cell_type": "code",
   "execution_count": null,
   "metadata": {
    "id": "mdep_zOn57KL"
   },
   "outputs": [],
   "source": [
    "# 儲存產生的images\n",
    "def DataAugmentation(label, quantity):\n",
    "  folder = '/content/drive/MyDrive/DM/train/' + label +'/'\n",
    "  folder_save = '/content/drive/MyDrive/DM/train_DG_more/' + label + '/'\n",
    "  onlyfiles = [f for f in os.listdir(folder) if os.path.isfile(os.path.join(folder, f))]\n",
    "\n",
    "  i = quantity\n",
    "  while(i):\n",
    "    j = np.random.randint(len(onlyfiles))\n",
    "    f = folder + onlyfiles[j]\n",
    "    img = imagegenerate(f)\n",
    "    img.save(folder_save + 'DG' + str(quantity-i) +'.jpg', 'JPEG')\n",
    "    i = i-1"
   ]
  },
  {
   "cell_type": "markdown",
   "metadata": {
    "id": "V0FBPuxKs0xQ"
   },
   "source": [
    "# Main Code - Data preprocessing"
   ]
  },
  {
   "cell_type": "markdown",
   "metadata": {
    "id": "HbkrlNYwTpDV"
   },
   "source": [
    "查看原始資料，並定義資料路徑"
   ]
  },
  {
   "cell_type": "code",
   "execution_count": null,
   "metadata": {
    "id": "OK_kBx0rmPhG"
   },
   "outputs": [],
   "source": [
    "# files' path\n",
    "dir = \"/content/drive/Shareddrives/DataMining_2021/Term Project/Data/\"\n",
    "labels = ['Covid', 'Viral Pneumonia', 'Normal']"
   ]
  },
  {
   "cell_type": "code",
   "execution_count": null,
   "metadata": {
    "colab": {
     "base_uri": "https://localhost:8080/",
     "height": 282
    },
    "id": "r0GGXlO4mQQ1",
    "outputId": "03ff3899-b924-46d2-b3f3-744210b05b66"
   },
   "outputs": [
    {
     "name": "stdout",
     "output_type": "stream",
     "text": [
      "[111, 70, 70]\n"
     ]
    },
    {
     "data": {
      "image/png": "[encoded data removed]",
      "text/plain": [
       "<Figure size 432x288 with 1 Axes>"
      ]
     },
     "metadata": {
      "needs_background": "light",
      "tags": []
     },
     "output_type": "display_data"
    }
   ],
   "source": [
    "# 檢查data個分類之平衡問題\n",
    "train_C_num = len(os.listdir(dir + 'train/Covid'))\n",
    "train_V_num = len(os.listdir(dir + 'train/Viral Pneumonia'))\n",
    "train_N_num = len(os.listdir(dir + 'train/Normal'))\n",
    "\n",
    "nums = [train_C_num, train_V_num, train_N_num]\n",
    "print(nums)\n",
    "plt.bar(labels, nums, )\n",
    "plt.show()"
   ]
  },
  {
   "cell_type": "markdown",
   "metadata": {
    "id": "nzkBOwlzUB9t"
   },
   "source": [
    "將原始train, test 資料及之圖檔轉換為256*256的陣列"
   ]
  },
  {
   "cell_type": "code",
   "execution_count": null,
   "metadata": {
    "id": "npe6QwHR1GEB"
   },
   "outputs": [],
   "source": [
    "# define column names as each pixel and label\n",
    "col = []\n",
    "for i in range(256*256):\n",
    "  col.append('pixel'+str(i+1))\n",
    "col.append('label')"
   ]
  },
  {
   "cell_type": "code",
   "execution_count": null,
   "metadata": {
    "id": "WwKM8nYcvDPc"
   },
   "outputs": [],
   "source": [
    "# train data generating\n",
    "train = imgpreprocessing('train', labels, 256)\n",
    "df_train = pd.DataFrame(train, columns = col)\n",
    "df_train.to_csv('/content/drive/Shareddrives/DataMining_2021/Term Project/Data/train.csv', index=True)"
   ]
  },
  {
   "cell_type": "code",
   "execution_count": null,
   "metadata": {
    "id": "Olsw9JKmLyBV"
   },
   "outputs": [],
   "source": [
    "# test data generating\n",
    "test = imgpreprocessing('test', labels, 256)\n",
    "df_test = pd.DataFrame(test, columns = col)\n",
    "df_test.to_csv('/content/drive/Shareddrives/DataMining_2021/Term Project/Data/test.csv', index=True)"
   ]
  },
  {
   "cell_type": "markdown",
   "metadata": {
    "id": "UtO8HvoJUBHT"
   },
   "source": [
    "處理train 內資料不平衡的問題，將各類別的資料生至統一111個圖檔（旋轉＋縮放），並將圖檔轉成256*256的陣列"
   ]
  },
  {
   "cell_type": "code",
   "execution_count": null,
   "metadata": {
    "id": "_BUELQL9UrGM"
   },
   "outputs": [],
   "source": [
    "# train data with Data Augmentation generating (Rotation, shift, zoom)\n",
    "DataAugmentation('Viral Pneumonia', 111-70)\n",
    "DataAugmentation('Normal', 111-70)"
   ]
  },
  {
   "cell_type": "code",
   "execution_count": null,
   "metadata": {
    "id": "D6ec1dcpUs29"
   },
   "outputs": [],
   "source": [
    "train_DG_ = imgpreprocessing('train_DG', 256)\n",
    "df_train_DG = pd.DataFrame(train_DG, columns = col)\n",
    "df_train_DG.to_csv('/content/drive/Shareddrives/DataMining_2021/Term Project/Data/train_DG.csv', index=True)"
   ]
  },
  {
   "cell_type": "markdown",
   "metadata": {
    "id": "cPSWJKj1UtfH"
   },
   "source": [
    "處理train 內資料不平衡的問題，將各類別的資料生至統一500個圖檔（旋轉＋縮放），並將圖檔轉成256*256的陣列"
   ]
  },
  {
   "cell_type": "code",
   "execution_count": null,
   "metadata": {
    "id": "BV_aFaLPCRSp"
   },
   "outputs": [],
   "source": [
    "# train data with Data Augmentation generating (Rotation, shift, zoom)\n",
    "DataAugmentation('Covid', 500-111)\n",
    "DataAugmentation('Viral Pneumonia', 500-70)\n",
    "DataAugmentation('Normal', 500-70)"
   ]
  },
  {
   "cell_type": "code",
   "execution_count": null,
   "metadata": {
    "id": "b2npzWjc0LNQ"
   },
   "outputs": [],
   "source": [
    "# 因為ram不夠所以各類別先分開處理\n",
    "train_DG_500_C = imgpreprocessing2('Covid', 256)\n",
    "df_train_DG_500_C = pd.DataFrame(train_DG_500_C, columns = col)\n",
    "df_train_DG_500_C.to_csv('/content/drive/MyDrive/DM/train_DG_500_C.csv', index=True)\n",
    "\n",
    "train_DG_500_V = imgpreprocessing2('Viral Pneumonia', 256)\n",
    "df_train_DG_500_V = pd.DataFrame(train_DG_500_V, columns = col)\n",
    "df_train_DG_500_V.to_csv('/content/drive/MyDrive/DM/train_DG_500_V.csv', index=True)\n",
    "\n",
    "train_DG_500_N = imgpreprocessing2('Normal', 256)\n",
    "df_train_DG_500_N = pd.DataFrame(train_DG_500_N, columns = col)\n",
    "df_train_DG_500_N.to_csv('/content/drive/MyDrive/DM/train_DG_500_N.csv', index=True)\n"
   ]
  },
  {
   "cell_type": "code",
   "execution_count": null,
   "metadata": {
    "id": "T_02siAEGs4a"
   },
   "outputs": [],
   "source": [
    "# 合併三個類別的資料\n",
    "df_train_DG_500_C = pd.read_csv('/content/drive/MyDrive/DM/train_DG_500_C.csv')\n",
    "df_train_DG_500_V = pd.read_csv('/content/drive/MyDrive/DM/train_DG_500_V.csv')\n",
    "df_train_DG_500_N = pd.read_csv('/content/drive/MyDrive/DM/train_DG_500_N.csv')\n",
    "\n",
    "df_train_DG_500_C = df_train_DG_500_C.drop(df_train_DG_500_C.columns[0], axis=1)\n",
    "df_train_DG_500_V = df_train_DG_500_V.drop(df_train_DG_500_V.columns[0], axis=1)\n",
    "df_train_DG_500_N = df_train_DG_500_N.drop(df_train_DG_500_N.columns[0], axis=1)\n",
    "\n",
    "df_train_DG_500 = [df_train_DG_500_C, df_train_DG_500_V, df_train_DG_500_N]\n",
    "df_train_DG_500 = pd.concat(df_train_DG_500).reset_index()\n",
    "df_train_DG_500 = df_train_DG_500.drop(df_train_DG_500.columns[0], axis=1)\n",
    "df_train_DG_500.to_csv('/content/drive/Shareddrives/DataMining_2021/Term Project/Data/train_DG_500.csv', index=True)"
   ]
  },
  {
   "cell_type": "markdown",
   "metadata": {
    "id": "iR97ZUuaVHDW"
   },
   "source": [
    "處理train 內資料不平衡的問題，將各類別的資料生至統一485個圖檔（加上ZCA_whitening的參數），並將圖檔轉成80*80的陣列"
   ]
  },
  {
   "cell_type": "code",
   "execution_count": null,
   "metadata": {
    "id": "stC7yO2zKzEL"
   },
   "outputs": [],
   "source": [
    "# train data with Data Augmentation generating (with ZCA whitening)\n",
    "gen_tr_batches = 251\n",
    "\n",
    "# Generator for the network's training generator.\n",
    "gen_train = (ImageDataGenerator(rescale=1. / 255.)\n",
    "             .flow_from_directory(dir,\n",
    "                                  target_size=(80, 80),\n",
    "                                  batch_size=1,\n",
    "                                  shuffle=False))\n",
    "gen_tr_x = np.vstack(next(gen_train)[0] for _ in range(gen_tr_batches))\n",
    "\n",
    "# Actual generator for the network's training.\n",
    "g = ImageDataGenerator(rescale=1. / 255.,\n",
    "                       zca_whitening=True)\n",
    "g.fit(gen_tr_x)\n"
   ]
  },
  {
   "cell_type": "code",
   "execution_count": null,
   "metadata": {
    "id": "0JyrgaP-WWig"
   },
   "outputs": [],
   "source": [
    "# 對照檔案名稱確定圖檔之label\n",
    "filenames = []\n",
    "j = 0\n",
    "for i in gen_train:\n",
    "    j = j+1\n",
    "    idx = (gen_train.batch_index - 1) * gen_train.batch_size\n",
    "    print(j, ' ', gen_train.filenames[idx : idx + gen_train.batch_size])\n",
    "    filenames.append(gen_train.filenames[idx : idx + gen_train.batch_size])\n",
    "    if j == 251:\n",
    "      break\n",
    "y_train = []\n",
    "for i in range(251):\n",
    "  if i <111:\n",
    "    y_train.append('C')\n",
    "  elif i <181 :\n",
    "    y_train.append('N')\n",
    "  else:\n",
    "    y_train.append('V')"
   ]
  },
  {
   "cell_type": "code",
   "execution_count": null,
   "metadata": {
    "id": "lYb4lqZngKMt"
   },
   "outputs": [],
   "source": [
    "# 生資料\n",
    "for x, y in zip(g.flow(X_train, y_train,  \n",
    "                       batch_size=20, #image we chose\n",
    "        save_to_dir='/content/drive/MyDrive/DM/ZCA',    \n",
    "         save_prefix='aug',      \n",
    "        save_format='jpg'),range(10)) :   \n",
    "  pass"
   ]
  },
  {
   "cell_type": "code",
   "execution_count": null,
   "metadata": {
    "id": "zf9z4iK-Lx_C"
   },
   "outputs": [],
   "source": [
    "# 將生完的圖檔依照類別移到不同資料夾\n",
    "\n",
    "onlyfiles = [f for f in os.listdir(dir) if os.path.isfile(os.path.join(dir, f))]\n",
    "\n",
    "for f in onlyfiles:\n",
    "  file = dir + f\n",
    "  if int(f.split('_')[1])<111:\n",
    "    destination = \"/content/drive/MyDrive/DM/ZCA_500/Covid\"\n",
    "  elif int(f.split('_')[1])<181:\n",
    "    destination = \"/content/drive/MyDrive/DM/ZCA_500/Viral Pneumonia\"\n",
    "  else:\n",
    "    destination = \"/content/drive/MyDrive/DM/ZCA_500/Normal\"\n",
    "\n",
    "  new_path = shutil.move(file, destination)\n",
    "  #print(file)\n",
    "  #print(f.split('_')[1])"
   ]
  },
  {
   "cell_type": "code",
   "execution_count": null,
   "metadata": {
    "id": "LZogh1iHLxV8"
   },
   "outputs": [],
   "source": [
    "# 移除過多的資料，使各類資料數量一樣\n",
    "remove = 2\n",
    "while(remove):\n",
    "  dir = \"/content/drive/MyDrive/DM/ZCA_500/Normal/\"\n",
    "  destination = \"/content/drive/MyDrive/DM/throw\"\n",
    "\n",
    "  onlyfiles = [f for f in os.listdir(dir) if os.path.isfile(os.path.join(dir, f))]\n",
    "  r = np.random.randint(len(onlyfiles))\n",
    "  file = dir + onlyfiles[r]\n",
    "\n",
    "  new_path = shutil.move(file, destination)\n",
    "  remove = remove-1"
   ]
  },
  {
   "cell_type": "code",
   "execution_count": null,
   "metadata": {
    "id": "aPADysC8MjXF"
   },
   "outputs": [],
   "source": [
    "# define column names as each pixel and label with size = 80*80\n",
    "col2 = []\n",
    "for i in range(80*80):\n",
    "  col2.append('pixel'+str(i+1))\n",
    "col2.append('label')\n"
   ]
  },
  {
   "cell_type": "code",
   "execution_count": null,
   "metadata": {
    "id": "e-4_wfCCTlju"
   },
   "outputs": [],
   "source": [
    "# 轉成80*80的陣列\n",
    "ZCA_500 = imgpreprocessing('ZCA_500', labels, 80)\n",
    "df_ZCA_500 = pd.DataFrame(ZCA_500, columns = col2)\n",
    "df_ZCA_500.to_csv('/content/drive/Shareddrives/DataMining_2021/Term Project/Data/ZCA_500.csv', index=True)\n",
    "\n",
    "ZCA_test = imgpreprocessing('ZCA_test', labels, 80)\n",
    "df_ZCA_test = pd.DataFrame(ZCA_test, columns = col2)\n",
    "df_ZCA_test.to_csv('/content/drive/Shareddrives/DataMining_2021/Term Project/Data/ZCA_test.csv', index=True)"
   ]
  },
  {
   "cell_type": "markdown",
   "metadata": {
    "id": "MWx0rG6atGlY"
   },
   "source": [
    "# Main Code - SVM classification"
   ]
  },
  {
   "cell_type": "markdown",
   "metadata": {
    "id": "JZvanHPIV3aZ"
   },
   "source": [
    "### 原train, 原test"
   ]
  },
  {
   "cell_type": "code",
   "execution_count": null,
   "metadata": {
    "id": "gkBK142zV8SH"
   },
   "outputs": [],
   "source": [
    "# reading data\n",
    "df_train = pd.read_csv('/content/drive/Shareddrives/DataMining_2021/Term Project/Data/train.csv')\n",
    "X_train = df_train.iloc[: , 1:-1]\n",
    "y_train = df_train.iloc[: , -1:].values.ravel()\n",
    "\n",
    "df_test = pd.read_csv('/content/drive/Shareddrives/DataMining_2021/Term Project/Data/test.csv')\n",
    "X_test = df_test.iloc[: , 1:-1]\n",
    "y_test = df_test.iloc[: , -1:].values.ravel()"
   ]
  },
  {
   "cell_type": "code",
   "execution_count": null,
   "metadata": {
    "id": "7oKAbGoeLbGK"
   },
   "outputs": [],
   "source": [
    "clf_ = SVC(kernel='rbf')\n",
    "Cs = [ 0.01, 0.1, 1, 10, 100]\n",
    "Gammas = [ 1,  100, 'scale']\n",
    "grid = GridSearchCV(clf_,\n",
    "            dict(C=Cs,\n",
    "                 gamma=Gammas),\n",
    "                 cv=5,\n",
    "                 scoring='accuracy',\n",
    "                 n_jobs = 1,\n",
    "                 verbose=1)\n",
    "\n",
    "grid.fit(X_train, y_train)"
   ]
  },
  {
   "cell_type": "code",
   "execution_count": null,
   "metadata": {
    "colab": {
     "base_uri": "https://localhost:8080/"
    },
    "id": "hlOQSwSWPg5E",
    "outputId": "34e225d2-399c-4a38-dfec-d4436317ddbf"
   },
   "outputs": [
    {
     "name": "stdout",
     "output_type": "stream",
     "text": [
      "{'C': 1, 'gamma': 'scale'}\n",
      "0.916470588235294\n"
     ]
    }
   ],
   "source": [
    "print(grid.best_params_)\n",
    "print(grid.best_score_)"
   ]
  },
  {
   "cell_type": "code",
   "execution_count": null,
   "metadata": {
    "colab": {
     "base_uri": "https://localhost:8080/"
    },
    "id": "P7eSsF6MTO07",
    "outputId": "42791918-579f-490f-8ce6-fdd1ee1c0a74"
   },
   "outputs": [
    {
     "name": "stdout",
     "output_type": "stream",
     "text": [
      "accuracy: 0.8636363636363636\n",
      "precision: 0.85984126984127\n",
      "recall: 0.8615384615384616\n",
      "f1: 0.8604096923322175\n",
      "confusion matrix\n"
     ]
    },
    {
     "data": {
      "text/plain": [
       "array([[23,  3,  0],\n",
       "       [ 0, 17,  3],\n",
       "       [ 2,  1, 17]])"
      ]
     },
     "execution_count": 8,
     "metadata": {
      "tags": []
     },
     "output_type": "execute_result"
    }
   ],
   "source": [
    "# predict test dataset\n",
    "clf = SVC(C = 1, gamma = 'scale')\n",
    "clf.fit(X_train, y_train)\n",
    "y_pred = clf.predict(X_test)\n",
    "\n",
    "accuracy = accuracy_score(y_test, y_pred)\n",
    "print('accuracy:', accuracy)\n",
    "precision = precision_score(y_test, y_pred, average = 'macro')\n",
    "print('precision:', precision)\n",
    "recall = recall_score(y_test, y_pred, average = 'macro')\n",
    "print('recall:', recall)\n",
    "f1 = f1_score(y_test, y_pred, average = 'macro')\n",
    "print('f1:',f1)\n",
    "cm = confusion_matrix(y_test, y_pred)\n",
    "print('confusion matrix')\n",
    "cm"
   ]
  },
  {
   "cell_type": "markdown",
   "metadata": {
    "id": "tMLlJxyLWYlo"
   },
   "source": [
    "### 平衡的train(各類各111個), 原test\n"
   ]
  },
  {
   "cell_type": "code",
   "execution_count": null,
   "metadata": {
    "id": "pzJHWolkWmUg"
   },
   "outputs": [],
   "source": [
    "df_train_DG = pd.read_csv('/content/drive/Shareddrives/DataMining_2021/Term Project/Data/train_DG.csv')\n",
    "X_train_DG = df_train_DG.iloc[: , 1:-1]\n",
    "y_train_DG = df_train_DG.iloc[: , -1:].values.ravel()"
   ]
  },
  {
   "cell_type": "code",
   "execution_count": null,
   "metadata": {
    "id": "RCCqhxt_aexj"
   },
   "outputs": [],
   "source": [
    "clf_ = SVC(kernel='rbf')\n",
    "Cs = [ 0.01, 1, 10, 100, 1000]\n",
    "Gammas = [ 1,  100, 'scale']\n",
    "grid = GridSearchCV(clf_,\n",
    "            dict(C=Cs,\n",
    "                 gamma=Gammas),\n",
    "                 cv=5,\n",
    "                 scoring='accuracy',\n",
    "                 n_jobs = 1,\n",
    "                 verbose=2)\n",
    "\n",
    "grid.fit(X_train_DG, y_train_DG)"
   ]
  },
  {
   "cell_type": "code",
   "execution_count": null,
   "metadata": {
    "colab": {
     "base_uri": "https://localhost:8080/"
    },
    "id": "DadifSiFavPI",
    "outputId": "1f2272ff-f5b9-4476-9109-2fea6703caaf"
   },
   "outputs": [
    {
     "name": "stdout",
     "output_type": "stream",
     "text": [
      "{'C': 10, 'gamma': 'scale'}\n",
      "0.9128448665762099\n"
     ]
    }
   ],
   "source": [
    "print(grid.best_params_)\n",
    "print(grid.best_score_)"
   ]
  },
  {
   "cell_type": "code",
   "execution_count": null,
   "metadata": {
    "colab": {
     "base_uri": "https://localhost:8080/"
    },
    "id": "ZJOGIp93cs76",
    "outputId": "d496fac0-1e1d-4878-8426-b0d252474d87"
   },
   "outputs": [
    {
     "name": "stdout",
     "output_type": "stream",
     "text": [
      "accuracy: 0.9090909090909091\n",
      "precision: 0.9120370370370369\n",
      "recall: 0.9076923076923077\n",
      "f1: 0.9061244019138757\n",
      "confusion matrix\n"
     ]
    },
    {
     "data": {
      "text/plain": [
       "array([[24,  2,  0],\n",
       "       [ 0, 19,  1],\n",
       "       [ 0,  3, 17]])"
      ]
     },
     "execution_count": 10,
     "metadata": {
      "tags": []
     },
     "output_type": "execute_result"
    }
   ],
   "source": [
    "# predict test dataset\n",
    "clf = SVC(C = 10, gamma = 'scale')\n",
    "clf.fit(X_train_DG, y_train_DG)\n",
    "y_pred = clf.predict(X_test)\n",
    "\n",
    "accuracy = accuracy_score(y_test, y_pred)\n",
    "print('accuracy:', accuracy)\n",
    "precision = precision_score(y_test, y_pred, average = 'macro')\n",
    "print('precision:', precision)\n",
    "recall = recall_score(y_test, y_pred, average = 'macro')\n",
    "print('recall:', recall)\n",
    "f1 = f1_score(y_test, y_pred, average = 'macro')\n",
    "print('f1:',f1)\n",
    "cm = confusion_matrix(y_test, y_pred)\n",
    "print('confusion matrix')\n",
    "cm"
   ]
  },
  {
   "cell_type": "markdown",
   "metadata": {
    "id": "egSCa5WqWv7Y"
   },
   "source": [
    "### 平衡的train(各類各500個), 原test"
   ]
  },
  {
   "cell_type": "code",
   "execution_count": null,
   "metadata": {
    "id": "5pITwqbPW0Rz"
   },
   "outputs": [],
   "source": [
    "df_train_500= pd.read_csv('/content/drive/Shareddrives/DataMining_2021/Term Project/Data/train_DG_500.csv')\n",
    "X_train_500 = df_train_500.iloc[: , 1:-1]\n",
    "y_train_500 = df_train_500.iloc[: , -1:].values.ravel()"
   ]
  },
  {
   "cell_type": "code",
   "execution_count": null,
   "metadata": {
    "id": "cmyEstyqffXh"
   },
   "outputs": [],
   "source": [
    "clf_ = SVC(kernel='rbf')\n",
    "Cs = [ 0.01, 1, 10, 100, 1000]\n",
    "Gammas = ['scale']\n",
    "grid = GridSearchCV(clf_,\n",
    "            dict(C=Cs,\n",
    "                 gamma=Gammas),\n",
    "                 cv=3,\n",
    "                 scoring='accuracy',\n",
    "                 n_jobs = 1,\n",
    "                 verbose=2)\n",
    "\n",
    "grid.fit(X_train_500, y_train_500)"
   ]
  },
  {
   "cell_type": "code",
   "execution_count": null,
   "metadata": {
    "colab": {
     "base_uri": "https://localhost:8080/"
    },
    "id": "Rp6tefUal26m",
    "outputId": "d5ac9435-9b8b-4297-f0be-073479fa5de9"
   },
   "outputs": [
    {
     "name": "stdout",
     "output_type": "stream",
     "text": [
      "{'C': 10, 'gamma': 'scale'}\n",
      "0.9866666666666667\n"
     ]
    }
   ],
   "source": [
    "print(grid.best_params_)\n",
    "print(grid.best_score_)"
   ]
  },
  {
   "cell_type": "code",
   "execution_count": null,
   "metadata": {
    "colab": {
     "base_uri": "https://localhost:8080/"
    },
    "id": "Hj5LfFCFk6ss",
    "outputId": "882932f3-0ec9-4a93-d871-d18e1c1f9246"
   },
   "outputs": [
    {
     "name": "stdout",
     "output_type": "stream",
     "text": [
      "accuracy: 0.9393939393939394\n",
      "precision: 0.9440559440559441\n",
      "recall: 0.9410256410256411\n",
      "f1: 0.9409420988368357\n",
      "confusion matrix\n"
     ]
    },
    {
     "data": {
      "text/plain": [
       "array([[24,  2,  0],\n",
       "       [ 0, 20,  0],\n",
       "       [ 2,  0, 18]])"
      ]
     },
     "execution_count": 12,
     "metadata": {
      "tags": []
     },
     "output_type": "execute_result"
    }
   ],
   "source": [
    "# predict test dataset\n",
    "clf = SVC(C = 10, gamma = 'scale')\n",
    "clf.fit(X_train_500, y_train_500)\n",
    "y_pred = clf.predict(X_test)\n",
    "\n",
    "accuracy = accuracy_score(y_test, y_pred)\n",
    "print('accuracy:', accuracy)\n",
    "precision = precision_score(y_test, y_pred, average = 'macro')\n",
    "print('precision:', precision)\n",
    "recall = recall_score(y_test, y_pred, average = 'macro')\n",
    "print('recall:', recall)\n",
    "f1 = f1_score(y_test, y_pred, average = 'macro')\n",
    "print('f1:',f1)\n",
    "cm = confusion_matrix(y_test, y_pred)\n",
    "print('confusion matrix')\n",
    "cm"
   ]
  },
  {
   "cell_type": "markdown",
   "metadata": {
    "id": "rkAviNhqX5iR"
   },
   "source": [
    "### ZCA的train（各類各485個）, ZCA的test"
   ]
  },
  {
   "cell_type": "code",
   "execution_count": null,
   "metadata": {
    "id": "1_HWqYlsYT8U"
   },
   "outputs": [],
   "source": [
    "df_ZCA_500= pd.read_csv('/content/drive/Shareddrives/DataMining_2021/Term Project/Data/ZCA_500.csv')\n",
    "X_ZCA_500 = df_ZCA_500.iloc[: , 1:-1]\n",
    "y_ZCA_500 = df_ZCA_500.iloc[: , -1:].values.ravel()\n",
    "\n",
    "df_ZCA_test= pd.read_csv('/content/drive/Shareddrives/DataMining_2021/Term Project/Data/ZCA_test.csv')\n",
    "X_ZCA_test = df_ZCA_test.iloc[: , 1:-1]\n",
    "y_ZCA_test = df_ZCA_test.iloc[: , -1:].values.ravel()"
   ]
  },
  {
   "cell_type": "code",
   "execution_count": null,
   "metadata": {
    "id": "FqSu-GboPw_D"
   },
   "outputs": [],
   "source": [
    "clf_ = SVC(kernel='rbf')\n",
    "Cs = [ 0.01, 1, 10, 100, 1000]\n",
    "Gammas = [ 1,  100, 'scale']\n",
    "grid = GridSearchCV(clf_,\n",
    "            dict(C=Cs,\n",
    "                 gamma=Gammas),\n",
    "                 cv=5,\n",
    "                 scoring='accuracy',\n",
    "                 n_jobs = 1,\n",
    "                 verbose=2)\n",
    "\n",
    "grid.fit(X_ZCA_500, y_ZCA_500)"
   ]
  },
  {
   "cell_type": "code",
   "execution_count": null,
   "metadata": {
    "colab": {
     "base_uri": "https://localhost:8080/"
    },
    "id": "aomE_LLobSYq",
    "outputId": "c761ee0d-997f-431e-9906-e9bdcc43ed1f"
   },
   "outputs": [
    {
     "name": "stdout",
     "output_type": "stream",
     "text": [
      "{'C': 10, 'gamma': 'scale'}\n",
      "0.8927835051546392\n"
     ]
    }
   ],
   "source": [
    "print(grid2.best_params_)\n",
    "print(grid2.best_score_)"
   ]
  },
  {
   "cell_type": "code",
   "execution_count": null,
   "metadata": {
    "colab": {
     "base_uri": "https://localhost:8080/"
    },
    "id": "kSAI9mGhZfhU",
    "outputId": "90c17b9c-24b2-4b09-952b-6b999048b910"
   },
   "outputs": [
    {
     "name": "stdout",
     "output_type": "stream",
     "text": [
      "accuracy: 0.696969696969697\n",
      "precision: 0.7024087024087023\n",
      "recall: 0.6935897435897435\n",
      "f1: 0.6918065090261886\n",
      "confusion matrix\n"
     ]
    },
    {
     "data": {
      "text/plain": [
       "array([[19,  2,  5],\n",
       "       [ 2, 12,  6],\n",
       "       [ 1,  4, 15]])"
      ]
     },
     "execution_count": 16,
     "metadata": {
      "tags": []
     },
     "output_type": "execute_result"
    }
   ],
   "source": [
    "# predict test dataset\n",
    "clf = SVC(C = 10, gamma = 'scale')\n",
    "clf.fit(X_ZCA_500, y_ZCA_500)\n",
    "y_ZCA_pred = clf.predict(X_ZCA_test)\n",
    "\n",
    "accuracy = accuracy_score(y_ZCA_test, y_ZCA_pred)\n",
    "print('accuracy:', accuracy)\n",
    "precision = precision_score(y_ZCA_test, y_ZCA_pred, average = 'macro')\n",
    "print('precision:', precision)\n",
    "recall = recall_score(y_ZCA_test, y_ZCA_pred, average = 'macro')\n",
    "print('recall:', recall)\n",
    "f1 = f1_score(y_ZCA_test, y_ZCA_pred, average = 'macro')\n",
    "print('f1:',f1)\n",
    "cm = confusion_matrix(y_ZCA_test, y_ZCA_pred)\n",
    "print('confusion matrix')\n",
    "cm"
   ]
  }
 ],
 "metadata": {
  "colab": {
   "collapsed_sections": [],
   "name": "preprocessing + SVM 0624",
   "provenance": []
  },
  "kernelspec": {
   "display_name": "Python 3",
   "language": "python",
   "name": "python3"
  },
  "language_info": {
   "codemirror_mode": {
    "name": "ipython",
    "version": 3
   },
   "file_extension": ".py",
   "mimetype": "text/x-python",
   "name": "python",
   "nbconvert_exporter": "python",
   "pygments_lexer": "ipython3",
   "version": "3.8.5"
  }
 },
 "nbformat": 4,
 "nbformat_minor": 4
}
