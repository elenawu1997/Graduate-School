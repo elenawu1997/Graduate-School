{
 "cells": [
  {
   "cell_type": "code",
   "execution_count": 1,
   "metadata": {},
   "outputs": [],
   "source": [
    "#使用到的套件\n",
    "import pandas as pd\n",
    "import numpy as np\n",
    "import statsmodels.api as sm\n",
    "import statsmodels.formula.api as smf"
   ]
  },
  {
   "cell_type": "code",
   "execution_count": 2,
   "metadata": {},
   "outputs": [],
   "source": [
    "#讀 Var_Name sheet以求headers\n",
    "headers = pd.read_excel ('MDS_Assignment2_Steelplates.xlsx', header=None, sheet_name = 'Var_Name')\n",
    "headers = headers.transpose()\n",
    "headers = list(headers.iloc[0])\n",
    "\n",
    "#定義X,y\n",
    "df = pd.read_excel ('MDS_Assignment2_Steelplates.xlsx', header=None, names=headers,sheet_name = 'Faults' )\n",
    "X = df.iloc[ : , 0:26 ]\n",
    "y = df['Bumps']"
   ]
  },
  {
   "cell_type": "code",
   "execution_count": 3,
   "metadata": {},
   "outputs": [
    {
     "name": "stdout",
     "output_type": "stream",
     "text": [
      "                            OLS Regression Results                            \n",
      "==============================================================================\n",
      "Dep. Variable:                  Bumps   R-squared:                       0.234\n",
      "Model:                            OLS   Adj. R-squared:                  0.224\n",
      "Method:                 Least Squares   F-statistic:                     23.36\n",
      "Date:                Tue, 10 Nov 2020   Prob (F-statistic):           1.75e-92\n",
      "Time:                        16:20:29   Log-Likelihood:                -742.54\n",
      "No. Observations:                1941   AIC:                             1537.\n",
      "Df Residuals:                    1915   BIC:                             1682.\n",
      "Df Model:                          25                                         \n",
      "Covariance Type:            nonrobust                                         \n",
      "=========================================================================================\n",
      "                            coef    std err          t      P>|t|      [0.025      0.975]\n",
      "-----------------------------------------------------------------------------------------\n",
      "const                    -0.9932      0.185     -5.375      0.000      -1.356      -0.631\n",
      "X_Minimum                 0.0060      0.003      1.881      0.060      -0.000       0.012\n",
      "X_Maximum                -0.0059      0.003     -1.859      0.063      -0.012       0.000\n",
      "Y_Minimum                 0.0017      0.001      2.807      0.005       0.001       0.003\n",
      "Y_Maximum                -0.0017      0.001     -2.807      0.005      -0.003      -0.001\n",
      "Pixels_Areas          -6.981e-05   3.43e-05     -2.033      0.042      -0.000   -2.45e-06\n",
      "X_Perimeter              -0.0012      0.000     -3.381      0.001      -0.002      -0.000\n",
      "Y_Perimeter               0.0026      0.001      3.524      0.000       0.001       0.004\n",
      "Sum_of_Luminosity      4.387e-07   3.01e-07      1.455      0.146   -1.53e-07    1.03e-06\n",
      "Minimum_of_Luminosity     0.0013      0.001      1.727      0.084      -0.000       0.003\n",
      "Maximum_of_Luminosity     0.0026      0.001      2.465      0.014       0.001       0.005\n",
      "Length_of_Conveyer        0.0003   7.79e-05      3.490      0.000       0.000       0.000\n",
      "TypeOfSteel_A300         -0.4273      0.095     -4.476      0.000      -0.615      -0.240\n",
      "TypeOfSteel_A400         -0.5659      0.090     -6.258      0.000      -0.743      -0.389\n",
      "Steel_Plate_Thickness    -0.0004      0.000     -2.503      0.012      -0.001   -8.98e-05\n",
      "Edges_Index               0.1611      0.031      5.207      0.000       0.100       0.222\n",
      "Empty_Index              -0.1686      0.302     -0.558      0.577      -0.761       0.424\n",
      "Square_Index              0.3120      0.041      7.693      0.000       0.232       0.392\n",
      "Outside_X_Index           8.6896      4.348      1.998      0.046       0.161      17.218\n",
      "Edges_X_Index            -0.1144      0.079     -1.444      0.149      -0.270       0.041\n",
      "Edges_Y_Index             0.4501      0.106      4.236      0.000       0.242       0.658\n",
      "Outside_Global_Index      0.0501      0.040      1.246      0.213      -0.029       0.129\n",
      "LogOfAreas                0.0657      0.352      0.187      0.852      -0.624       0.756\n",
      "Log_X_Index               0.2362      0.373      0.633      0.527      -0.495       0.968\n",
      "Log_Y_Index              -0.1237      0.359     -0.344      0.731      -0.828       0.581\n",
      "Orientation_Index        -0.0745      0.100     -0.748      0.454      -0.270       0.121\n",
      "Luminosity_Index         -0.5512      0.194     -2.838      0.005      -0.932      -0.170\n",
      "==============================================================================\n",
      "Omnibus:                      215.297   Durbin-Watson:                   0.157\n",
      "Prob(Omnibus):                  0.000   Jarque-Bera (JB):              290.631\n",
      "Skew:                           0.941   Prob(JB):                     7.77e-64\n",
      "Kurtosis:                       3.235   Cond. No.                     2.79e+15\n",
      "==============================================================================\n",
      "\n",
      "Warnings:\n",
      "[1] Standard Errors assume that the covariance matrix of the errors is correctly specified.\n",
      "[2] The smallest eigenvalue is 2.93e-15. This might indicate that there are\n",
      "strong multicollinearity problems or that the design matrix is singular.\n"
     ]
    }
   ],
   "source": [
    "#用 X,  fit OLS\n",
    "X = sm.add_constant(X)\n",
    "model = sm.OLS(y, X)\n",
    "results = model.fit()\n",
    "print(results.summary())"
   ]
  },
  {
   "cell_type": "code",
   "execution_count": 4,
   "metadata": {},
   "outputs": [
    {
     "name": "stdout",
     "output_type": "stream",
     "text": [
      "const                 8.598540e-08\n",
      "Y_Minimum             5.047454e-03\n",
      "Y_Maximum             5.047950e-03\n",
      "X_Perimeter           7.356327e-04\n",
      "Y_Perimeter           4.356610e-04\n",
      "Length_of_Conveyer    4.940961e-04\n",
      "TypeOfSteel_A300      8.049098e-06\n",
      "TypeOfSteel_A400      4.799347e-10\n",
      "Edges_Index           2.126004e-07\n",
      "Square_Index          2.292454e-14\n",
      "Edges_Y_Index         2.385020e-05\n",
      "Luminosity_Index      4.586082e-03\n",
      "dtype: float64\n"
     ]
    }
   ],
   "source": [
    "#將小於0.01的 pvalue由小到大排序\n",
    "results.pvalues.sort_values(ascending=True)\n",
    "sigpar = results.pvalues.where(results.pvalues < 0.01).dropna()\n",
    "print(sigpar)"
   ]
  },
  {
   "cell_type": "code",
   "execution_count": 14,
   "metadata": {},
   "outputs": [],
   "source": [
    "#stepwise_forward regression\n",
    "def forward_regression(X, y,threshold_in,verbose=False):\n",
    "    \n",
    "    #define included(list) 為選進的variable\n",
    "    included = []\n",
    "    while True:\n",
    "        changed=False\n",
    "        \n",
    "        #define excluded(list)為included以外的variables\n",
    "        excluded = list(set(X.columns)-set(included))\n",
    "        new_pval = pd.Series(index=excluded,dtype=np.dtype(\"float64\"))\n",
    "        \n",
    "        #測試現有include內的variable和各個excluded內的variable一起跑OLS的狀況\n",
    "        #選擇最小的pvalues作為best pvalue\n",
    "        for new_column in excluded:\n",
    "            model = sm.OLS(y, sm.add_constant(pd.DataFrame(X[included+[new_column]]))).fit()\n",
    "            new_pval[new_column] = model.pvalues[new_column]\n",
    "        best_pval = new_pval.min()\n",
    "        \n",
    "        #若best pvalue小於threshold_in，則將達成該best pvalue的excluded內的variable加入至include\n",
    "        if best_pval < threshold_in:\n",
    "            best_feature = new_pval.idxmin()\n",
    "            included.append(best_feature)\n",
    "            changed=True\n",
    "            print('Add  {:30} with p-value {:.6}'.format(best_feature, best_pval))\n",
    "        else:\n",
    "            break\n",
    "    \n",
    "    return included"
   ]
  },
  {
   "cell_type": "code",
   "execution_count": 15,
   "metadata": {},
   "outputs": [
    {
     "name": "stdout",
     "output_type": "stream",
     "text": [
      "Add  const                          with p-value 6.85051e-100\n",
      "Add  TypeOfSteel_A300               with p-value 1.84163e-43\n",
      "Add  Square_Index                   with p-value 1.19799e-23\n",
      "Add  TypeOfSteel_A400               with p-value 1.5167e-22\n",
      "Add  Edges_Index                    with p-value 1.98419e-16\n",
      "Add  X_Minimum                      with p-value 3.18385e-10\n",
      "Add  Y_Minimum                      with p-value 7.81275e-07\n",
      "Add  Empty_Index                    with p-value 4.62997e-05\n",
      "Add  Length_of_Conveyer             with p-value 0.00178672\n",
      "Add  Edges_Y_Index                  with p-value 0.00826611\n",
      "Add  Log_X_Index                    with p-value 0.000273934\n",
      "Add  Sum_of_Luminosity              with p-value 0.00785379\n"
     ]
    }
   ],
   "source": [
    "#令X2為選取stepwise後挑選之variable的X資料\n",
    "X2=X[forward_regression(X,y,0.01)]"
   ]
  },
  {
   "cell_type": "code",
   "execution_count": 17,
   "metadata": {},
   "outputs": [
    {
     "name": "stdout",
     "output_type": "stream",
     "text": [
      "0.21415778289786813\n"
     ]
    }
   ],
   "source": [
    "#利用stepwise選出的重要變數跑OLS並印出adjusted R2\n",
    "X2 = sm.add_constant(X2)\n",
    "model = sm.OLS(y, X2)\n",
    "results = model.fit()\n",
    "print(results.rsquared_adj)"
   ]
  },
  {
   "cell_type": "code",
   "execution_count": 18,
   "metadata": {},
   "outputs": [
    {
     "name": "stdout",
     "output_type": "stream",
     "text": [
      "0.20153804780511153\n"
     ]
    }
   ],
   "source": [
    "#利用OLS之pvalue選出的重要變數跑OLS並印出adjusted R2\n",
    "sigpar1=['const' ,'Y_Minimum','Y_Maximum','X_Perimeter' ,'Length_of_Conveyer',\n",
    " 'TypeOfSteel_A300','TypeOfSteel_A400' ,'Edges_Index','Square_Index','Edges_Y_Index','Luminosity_Index']\n",
    "X3=X[sigpar1]\n",
    "X3 = sm.add_constant(X3)\n",
    "model = sm.OLS(y, X3)\n",
    "results = model.fit()\n",
    "print(results.rsquared_adj)"
   ]
  },
  {
   "cell_type": "code",
   "execution_count": null,
   "metadata": {},
   "outputs": [],
   "source": []
  }
 ],
 "metadata": {
  "kernelspec": {
   "display_name": "Python 3",
   "language": "python",
   "name": "python3"
  },
  "language_info": {
   "codemirror_mode": {
    "name": "ipython",
    "version": 3
   },
   "file_extension": ".py",
   "mimetype": "text/x-python",
   "name": "python",
   "nbconvert_exporter": "python",
   "pygments_lexer": "ipython3",
   "version": "3.8.5"
  }
 },
 "nbformat": 4,
 "nbformat_minor": 4
}
