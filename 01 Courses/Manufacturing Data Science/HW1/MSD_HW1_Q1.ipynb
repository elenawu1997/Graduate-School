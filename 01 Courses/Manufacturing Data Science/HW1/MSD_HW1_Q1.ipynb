{
 "cells": [
  {
   "cell_type": "code",
   "execution_count": 1,
   "metadata": {},
   "outputs": [],
   "source": [
    "import pandas as pd\n",
    "import numpy as np\n",
    "import statsmodels.api as sm\n",
    "import matplotlib.pyplot as plt\n",
    "from scipy import stats\n",
    "from sklearn.model_selection import train_test_split\n",
    "from statsmodels.stats.diagnostic import het_white\n",
    "from statsmodels.stats.stattools import durbin_watson"
   ]
  },
  {
   "cell_type": "code",
   "execution_count": 2,
   "metadata": {},
   "outputs": [],
   "source": [
    "df = pd.read_excel ('MDS_Assignment1_winequality.xlsx')"
   ]
  },
  {
   "cell_type": "code",
   "execution_count": 3,
   "metadata": {},
   "outputs": [],
   "source": [
    "X = df[df.columns[0:-1]]\n",
    "y = df[df.columns[-1]]"
   ]
  },
  {
   "cell_type": "code",
   "execution_count": 4,
   "metadata": {},
   "outputs": [
    {
     "name": "stdout",
     "output_type": "stream",
     "text": [
      "                            OLS Regression Results                            \n",
      "==============================================================================\n",
      "Dep. Variable:                quality   R-squared:                       0.361\n",
      "Model:                            OLS   Adj. R-squared:                  0.356\n",
      "Method:                 Least Squares   F-statistic:                     81.35\n",
      "Date:                Sun, 11 Oct 2020   Prob (F-statistic):          1.79e-145\n",
      "Time:                        21:49:54   Log-Likelihood:                -1569.1\n",
      "No. Observations:                1599   AIC:                             3162.\n",
      "Df Residuals:                    1587   BIC:                             3227.\n",
      "Df Model:                          11                                         \n",
      "Covariance Type:            nonrobust                                         \n",
      "========================================================================================\n",
      "                           coef    std err          t      P>|t|      [0.025      0.975]\n",
      "----------------------------------------------------------------------------------------\n",
      "const                   21.9652     21.195      1.036      0.300     -19.607      63.538\n",
      "fixed acidity            0.0250      0.026      0.963      0.336      -0.026       0.076\n",
      "volatile acidity        -1.0836      0.121     -8.948      0.000      -1.321      -0.846\n",
      "citric acid             -0.1826      0.147     -1.240      0.215      -0.471       0.106\n",
      "residual sugar           0.0163      0.015      1.089      0.276      -0.013       0.046\n",
      "chlorides               -1.8742      0.419     -4.470      0.000      -2.697      -1.052\n",
      "free sulfur dioxide      0.0044      0.002      2.009      0.045       0.000       0.009\n",
      "total sulfur dioxide    -0.0033      0.001     -4.480      0.000      -0.005      -0.002\n",
      "density                -17.8812     21.633     -0.827      0.409     -60.314      24.551\n",
      "pH                      -0.4137      0.192     -2.159      0.031      -0.789      -0.038\n",
      "sulphates                0.9163      0.114      8.014      0.000       0.692       1.141\n",
      "alcohol                  0.2762      0.026     10.429      0.000       0.224       0.328\n",
      "==============================================================================\n",
      "Omnibus:                       27.376   Durbin-Watson:                   1.757\n",
      "Prob(Omnibus):                  0.000   Jarque-Bera (JB):               40.965\n",
      "Skew:                          -0.168   Prob(JB):                     1.27e-09\n",
      "Kurtosis:                       3.708   Cond. No.                     1.13e+05\n",
      "==============================================================================\n",
      "\n",
      "Warnings:\n",
      "[1] Standard Errors assume that the covariance matrix of the errors is correctly specified.\n",
      "[2] The condition number is large, 1.13e+05. This might indicate that there are\n",
      "strong multicollinearity or other numerical problems.\n"
     ]
    }
   ],
   "source": [
    "X = sm.add_constant(X)\n",
    "model = sm.OLS(y, X)\n",
    "results = model.fit()\n",
    "print(results.summary())"
   ]
  },
  {
   "cell_type": "code",
   "execution_count": 5,
   "metadata": {},
   "outputs": [
    {
     "name": "stdout",
     "output_type": "stream",
     "text": [
      "volatile acidity        9.872361e-19\n",
      "chlorides               8.373953e-06\n",
      "total sulfur dioxide    8.004610e-06\n",
      "sulphates               2.127228e-15\n",
      "alcohol                 1.123029e-24\n",
      "dtype: float64\n"
     ]
    }
   ],
   "source": [
    "results.pvalues.sort_values(ascending=True)\n",
    "print(results.pvalues.where(results.pvalues < 0.01).dropna())"
   ]
  },
  {
   "cell_type": "code",
   "execution_count": 6,
   "metadata": {},
   "outputs": [],
   "source": [
    "y_pred = results.get_prediction(X)\n",
    "y_pred_sum = y_pred.summary_frame()"
   ]
  },
  {
   "cell_type": "code",
   "execution_count": 7,
   "metadata": {},
   "outputs": [
    {
     "data": {
      "text/html": [
       "<div>\n",
       "<style scoped>\n",
       "    .dataframe tbody tr th:only-of-type {\n",
       "        vertical-align: middle;\n",
       "    }\n",
       "\n",
       "    .dataframe tbody tr th {\n",
       "        vertical-align: top;\n",
       "    }\n",
       "\n",
       "    .dataframe thead th {\n",
       "        text-align: right;\n",
       "    }\n",
       "</style>\n",
       "<table border=\"1\" class=\"dataframe\">\n",
       "  <thead>\n",
       "    <tr style=\"text-align: right;\">\n",
       "      <th></th>\n",
       "      <th>mean</th>\n",
       "      <th>mean_se</th>\n",
       "      <th>mean_ci_lower</th>\n",
       "      <th>mean_ci_upper</th>\n",
       "      <th>obs_ci_lower</th>\n",
       "      <th>obs_ci_upper</th>\n",
       "    </tr>\n",
       "  </thead>\n",
       "  <tbody>\n",
       "    <tr>\n",
       "      <th>0</th>\n",
       "      <td>5.032850</td>\n",
       "      <td>0.039440</td>\n",
       "      <td>4.955491</td>\n",
       "      <td>5.110210</td>\n",
       "      <td>3.759450</td>\n",
       "      <td>6.306250</td>\n",
       "    </tr>\n",
       "    <tr>\n",
       "      <th>1</th>\n",
       "      <td>5.137880</td>\n",
       "      <td>0.049528</td>\n",
       "      <td>5.040733</td>\n",
       "      <td>5.235027</td>\n",
       "      <td>3.863125</td>\n",
       "      <td>6.412635</td>\n",
       "    </tr>\n",
       "    <tr>\n",
       "      <th>2</th>\n",
       "      <td>5.209895</td>\n",
       "      <td>0.034944</td>\n",
       "      <td>5.141354</td>\n",
       "      <td>5.278435</td>\n",
       "      <td>3.937000</td>\n",
       "      <td>6.482789</td>\n",
       "    </tr>\n",
       "    <tr>\n",
       "      <th>3</th>\n",
       "      <td>5.693858</td>\n",
       "      <td>0.047092</td>\n",
       "      <td>5.601488</td>\n",
       "      <td>5.786227</td>\n",
       "      <td>4.419458</td>\n",
       "      <td>6.968258</td>\n",
       "    </tr>\n",
       "    <tr>\n",
       "      <th>4</th>\n",
       "      <td>5.032850</td>\n",
       "      <td>0.039440</td>\n",
       "      <td>4.955491</td>\n",
       "      <td>5.110210</td>\n",
       "      <td>3.759450</td>\n",
       "      <td>6.306250</td>\n",
       "    </tr>\n",
       "    <tr>\n",
       "      <th>...</th>\n",
       "      <td>...</td>\n",
       "      <td>...</td>\n",
       "      <td>...</td>\n",
       "      <td>...</td>\n",
       "      <td>...</td>\n",
       "      <td>...</td>\n",
       "    </tr>\n",
       "    <tr>\n",
       "      <th>1594</th>\n",
       "      <td>5.529771</td>\n",
       "      <td>0.043248</td>\n",
       "      <td>5.444941</td>\n",
       "      <td>5.614600</td>\n",
       "      <td>4.255895</td>\n",
       "      <td>6.803646</td>\n",
       "    </tr>\n",
       "    <tr>\n",
       "      <th>1595</th>\n",
       "      <td>5.961613</td>\n",
       "      <td>0.056646</td>\n",
       "      <td>5.850504</td>\n",
       "      <td>6.072721</td>\n",
       "      <td>4.685717</td>\n",
       "      <td>7.237508</td>\n",
       "    </tr>\n",
       "    <tr>\n",
       "      <th>1596</th>\n",
       "      <td>5.943043</td>\n",
       "      <td>0.046492</td>\n",
       "      <td>5.851851</td>\n",
       "      <td>6.034235</td>\n",
       "      <td>4.668727</td>\n",
       "      <td>7.217358</td>\n",
       "    </tr>\n",
       "    <tr>\n",
       "      <th>1597</th>\n",
       "      <td>5.470756</td>\n",
       "      <td>0.051357</td>\n",
       "      <td>5.370022</td>\n",
       "      <td>5.571490</td>\n",
       "      <td>4.195723</td>\n",
       "      <td>6.745790</td>\n",
       "    </tr>\n",
       "    <tr>\n",
       "      <th>1598</th>\n",
       "      <td>6.008196</td>\n",
       "      <td>0.059052</td>\n",
       "      <td>5.892368</td>\n",
       "      <td>6.124025</td>\n",
       "      <td>4.731882</td>\n",
       "      <td>7.284511</td>\n",
       "    </tr>\n",
       "  </tbody>\n",
       "</table>\n",
       "<p>1599 rows × 6 columns</p>\n",
       "</div>"
      ],
      "text/plain": [
       "          mean   mean_se  mean_ci_lower  mean_ci_upper  obs_ci_lower  \\\n",
       "0     5.032850  0.039440       4.955491       5.110210      3.759450   \n",
       "1     5.137880  0.049528       5.040733       5.235027      3.863125   \n",
       "2     5.209895  0.034944       5.141354       5.278435      3.937000   \n",
       "3     5.693858  0.047092       5.601488       5.786227      4.419458   \n",
       "4     5.032850  0.039440       4.955491       5.110210      3.759450   \n",
       "...        ...       ...            ...            ...           ...   \n",
       "1594  5.529771  0.043248       5.444941       5.614600      4.255895   \n",
       "1595  5.961613  0.056646       5.850504       6.072721      4.685717   \n",
       "1596  5.943043  0.046492       5.851851       6.034235      4.668727   \n",
       "1597  5.470756  0.051357       5.370022       5.571490      4.195723   \n",
       "1598  6.008196  0.059052       5.892368       6.124025      4.731882   \n",
       "\n",
       "      obs_ci_upper  \n",
       "0         6.306250  \n",
       "1         6.412635  \n",
       "2         6.482789  \n",
       "3         6.968258  \n",
       "4         6.306250  \n",
       "...            ...  \n",
       "1594      6.803646  \n",
       "1595      7.237508  \n",
       "1596      7.217358  \n",
       "1597      6.745790  \n",
       "1598      7.284511  \n",
       "\n",
       "[1599 rows x 6 columns]"
      ]
     },
     "execution_count": 7,
     "metadata": {},
     "output_type": "execute_result"
    }
   ],
   "source": [
    "y_pred_sum "
   ]
  },
  {
   "cell_type": "code",
   "execution_count": 8,
   "metadata": {},
   "outputs": [],
   "source": [
    "resid = y - y_pred_sum['mean']"
   ]
  },
  {
   "cell_type": "code",
   "execution_count": 9,
   "metadata": {},
   "outputs": [
    {
     "data": {
      "text/plain": [
       "<AxesSubplot:>"
      ]
     },
     "execution_count": 9,
     "metadata": {},
     "output_type": "execute_result"
    },
    {
     "data": {
      "image/png": "[encoded data removed]",
      "text/plain": [
       "<Figure size 432x288 with 1 Axes>"
      ]
     },
     "metadata": {
      "needs_background": "light"
     },
     "output_type": "display_data"
    }
   ],
   "source": [
    "resid.hist(bins=100)"
   ]
  },
  {
   "cell_type": "code",
   "execution_count": 11,
   "metadata": {},
   "outputs": [
    {
     "data": {
      "text/plain": [
       "KstestResult(statistic=0.13239369299047485, pvalue=6.696988677321033e-25)"
      ]
     },
     "execution_count": 11,
     "metadata": {},
     "output_type": "execute_result"
    }
   ],
   "source": [
    "stats.kstest(resid,'norm')"
   ]
  },
  {
   "cell_type": "code",
   "execution_count": 15,
   "metadata": {},
   "outputs": [
    {
     "data": {
      "text/plain": [
       "1.757140188879304"
      ]
     },
     "execution_count": 15,
     "metadata": {},
     "output_type": "execute_result"
    }
   ],
   "source": [
    "durbin_watson(resid)"
   ]
  },
  {
   "cell_type": "code",
   "execution_count": 12,
   "metadata": {},
   "outputs": [],
   "source": [
    "results = het_white(resid, X)\n",
    "df={'Lagrange Multiplier statistic':[float(results[0])], 'LM test\\'s p-value':[float(results[1])],\n",
    "    'F-statistic':[float(results[2])], 'F-test\\'s p-value':[float(results[3])]}"
   ]
  },
  {
   "cell_type": "code",
   "execution_count": 13,
   "metadata": {},
   "outputs": [
    {
     "data": {
      "text/html": [
       "<div>\n",
       "<style scoped>\n",
       "    .dataframe tbody tr th:only-of-type {\n",
       "        vertical-align: middle;\n",
       "    }\n",
       "\n",
       "    .dataframe tbody tr th {\n",
       "        vertical-align: top;\n",
       "    }\n",
       "\n",
       "    .dataframe thead th {\n",
       "        text-align: right;\n",
       "    }\n",
       "</style>\n",
       "<table border=\"1\" class=\"dataframe\">\n",
       "  <thead>\n",
       "    <tr style=\"text-align: right;\">\n",
       "      <th></th>\n",
       "      <th>Lagrange Multiplier statistic</th>\n",
       "      <th>LM test's p-value</th>\n",
       "      <th>F-statistic</th>\n",
       "      <th>F-test's p-value</th>\n",
       "    </tr>\n",
       "  </thead>\n",
       "  <tbody>\n",
       "    <tr>\n",
       "      <th>0</th>\n",
       "      <td>290.012989</td>\n",
       "      <td>1.896220e-26</td>\n",
       "      <td>4.376436</td>\n",
       "      <td>5.329214e-30</td>\n",
       "    </tr>\n",
       "  </tbody>\n",
       "</table>\n",
       "</div>"
      ],
      "text/plain": [
       "   Lagrange Multiplier statistic  LM test's p-value  F-statistic  \\\n",
       "0                     290.012989       1.896220e-26     4.376436   \n",
       "\n",
       "   F-test's p-value  \n",
       "0      5.329214e-30  "
      ]
     },
     "execution_count": 13,
     "metadata": {},
     "output_type": "execute_result"
    }
   ],
   "source": [
    "pd.DataFrame(df)"
   ]
  }
 ],
 "metadata": {
  "kernelspec": {
   "display_name": "Python 3",
   "language": "python",
   "name": "python3"
  },
  "language_info": {
   "codemirror_mode": {
    "name": "ipython",
    "version": 3
   },
   "file_extension": ".py",
   "mimetype": "text/x-python",
   "name": "python",
   "nbconvert_exporter": "python",
   "pygments_lexer": "ipython3",
   "version": "3.8.5"
  }
 },
 "nbformat": 4,
 "nbformat_minor": 4
}
