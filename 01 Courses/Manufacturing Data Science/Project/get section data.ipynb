{
 "cells": [
  {
   "cell_type": "code",
   "execution_count": 22,
   "metadata": {},
   "outputs": [],
   "source": [
    "from selenium import webdriver\n",
    "from selenium.webdriver.common.by import By\n",
    "from selenium.webdriver.support.ui import WebDriverWait\n",
    "from selenium.webdriver.support import expected_conditions as EC\n",
    "from selenium.common.exceptions import TimeoutException\n",
    "\n",
    "from bs4 import BeautifulSoup\n",
    "import time\n",
    "import urllib\n",
    "import math\n",
    "import csv\n",
    "import getpass\n",
    "import os\n",
    "import sys\n",
    "import subprocess\n",
    "import random\n",
    "\n",
    "import pandas as pd"
   ]
  },
  {
   "cell_type": "code",
   "execution_count": 20,
   "metadata": {},
   "outputs": [],
   "source": [
    "def open_browser():\n",
    "\n",
    "    # disable chrome alter\n",
    "    chrome_options = webdriver.ChromeOptions()\n",
    "    prefs = {\"profile.default_content_setting_values.notifications\" : 2}\n",
    "    chrome_options.add_experimental_option(\"prefs\",prefs)\n",
    "\n",
    "    # 執行 chromedriver.exe\n",
    "    cmd = os.getcwd() + \"\\\\Tool\\\\chromedriver.exe\"\n",
    "    # print cmd\n",
    "    proc = subprocess.Popen(cmd, shell=True, stdin=subprocess.PIPE, stdout=subprocess.PIPE, stderr=subprocess.PIPE)\n",
    "    driver = webdriver.Chrome(executable_path = \"C:\\Program Files (x86)\\Google\\Chrome\\Application\\chromedriver.exe\",\\\n",
    "                              chrome_options=chrome_options)\n",
    "    # 打開瀏覽器\n",
    "    driver.get(\"https://rent.housefun.com.tw/rentprice/printlist.aspx?sid=119428508\")\n",
    "\n",
    "    return driver"
   ]
  },
  {
   "cell_type": "code",
   "execution_count": 52,
   "metadata": {},
   "outputs": [
    {
     "name": "stderr",
     "output_type": "stream",
     "text": [
      "<ipython-input-20-6c19b82df2ba>:12: DeprecationWarning: use options instead of chrome_options\n",
      "  driver = webdriver.Chrome(executable_path = \"C:\\Program Files (x86)\\Google\\Chrome\\Application\\chromedriver.exe\",\\\n"
     ]
    }
   ],
   "source": [
    "main(\"文山區\")"
   ]
  },
  {
   "cell_type": "code",
   "execution_count": 32,
   "metadata": {},
   "outputs": [],
   "source": [
    "# 打開瀏覽器\n",
    "#time decending, time ascending, price decending, price ascending\n",
    "\n",
    "def main(section):\n",
    "    \n",
    "    driver = open_browser()\n",
    "    time.sleep(10)\n",
    "    soup = BeautifulSoup(driver.page_source,\"html.parser\")\n",
    "    driver.close()\n",
    "    \n",
    "    time1 = soup.find_all('td','time')\n",
    "    timelist = []\n",
    "    for t in time1:\n",
    "        if t.text != \"成交時間\":\n",
    "            timelist.append(t.text)\n",
    "\n",
    "    use = soup.find_all('td','use')\n",
    "    uselist = []\n",
    "    for t in use:\n",
    "        if t.text != \"用途\":\n",
    "            uselist.append(t.text)\n",
    "\n",
    "    form = soup.find_all('td','form')\n",
    "    formlist = []\n",
    "    for t in form:\n",
    "        if t.text != \"型態\":\n",
    "            formlist.append(t.text)\n",
    "\n",
    "    addr = soup.find_all('td','addr')\n",
    "    addrlist = []\n",
    "    for t in addr:\n",
    "        if t.text != \"路段\":\n",
    "            addrlist.append(t.text)\n",
    "\n",
    "    level = soup.find_all('td','level')\n",
    "    levellist = []\n",
    "    for t in level:\n",
    "        if t.text != \"坪數\":\n",
    "            levellist.append(t.text)\n",
    "\n",
    "    price = soup.find_all('td','price')\n",
    "    pricelist = []\n",
    "    for t in price:\n",
    "        if t.text != \"租金\":\n",
    "            pricelist.append(t.text)\n",
    "\n",
    "    floor = soup.find_all('td','floor')\n",
    "    floorlist = []\n",
    "    for t in floor:\n",
    "        if t.text != \"樓層\":\n",
    "            f = t.text.replace('/','by').replace('／','by')\n",
    "            floorlist.append(f)\n",
    "            \n",
    "    data = []\n",
    "    for i in range(len(timelist)):\n",
    "        data.append([timelist[i],uselist[i],formlist[i],addrlist[i],levellist[i], pricelist[i],str(floorlist[i])])\n",
    "    df = pd.DataFrame(data)\n",
    "    df.to_csv('好房網'+section+'.csv',index=False,encoding=\"utf-8-sig\",header = [\"成交時間\",\"用途\",\"型態\",\"路段\",\"坪數\",\"租金\",\"樓層\"])\n",
    "                   "
   ]
  },
  {
   "cell_type": "code",
   "execution_count": 8,
   "metadata": {},
   "outputs": [],
   "source": []
  },
  {
   "cell_type": "code",
   "execution_count": 9,
   "metadata": {},
   "outputs": [],
   "source": []
  },
  {
   "cell_type": "code",
   "execution_count": 10,
   "metadata": {},
   "outputs": [],
   "source": []
  },
  {
   "cell_type": "code",
   "execution_count": 11,
   "metadata": {},
   "outputs": [],
   "source": []
  },
  {
   "cell_type": "code",
   "execution_count": 12,
   "metadata": {},
   "outputs": [],
   "source": []
  },
  {
   "cell_type": "code",
   "execution_count": 13,
   "metadata": {},
   "outputs": [],
   "source": []
  },
  {
   "cell_type": "code",
   "execution_count": 14,
   "metadata": {},
   "outputs": [],
   "source": []
  },
  {
   "cell_type": "code",
   "execution_count": 15,
   "metadata": {},
   "outputs": [],
   "source": []
  },
  {
   "cell_type": "code",
   "execution_count": 16,
   "metadata": {},
   "outputs": [],
   "source": []
  },
  {
   "cell_type": "code",
   "execution_count": 17,
   "metadata": {},
   "outputs": [],
   "source": []
  }
 ],
 "metadata": {
  "kernelspec": {
   "display_name": "Python 3",
   "language": "python",
   "name": "python3"
  },
  "language_info": {
   "codemirror_mode": {
    "name": "ipython",
    "version": 3
   },
   "file_extension": ".py",
   "mimetype": "text/x-python",
   "name": "python",
   "nbconvert_exporter": "python",
   "pygments_lexer": "ipython3",
   "version": "3.8.5"
  }
 },
 "nbformat": 4,
 "nbformat_minor": 4
}
