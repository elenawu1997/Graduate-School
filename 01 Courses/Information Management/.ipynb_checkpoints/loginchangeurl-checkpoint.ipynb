{
 "cells": [
  {
   "cell_type": "code",
   "execution_count": 1,
   "metadata": {},
   "outputs": [],
   "source": [
    "from selenium import webdriver\n",
    "from selenium.webdriver.common.by import By\n",
    "from selenium.webdriver.support.ui import WebDriverWait\n",
    "from selenium.webdriver.support import expected_conditions as EC\n",
    "from selenium.common.exceptions import TimeoutException\n",
    "from bs4 import BeautifulSoup\n",
    "import time\n",
    "import urllib\n",
    "import math\n",
    "import csv\n",
    "import getpass\n",
    "import os\n",
    "import sys\n",
    "import subprocess\n",
    "import random\n"
   ]
  },
  {
   "cell_type": "code",
   "execution_count": 2,
   "metadata": {},
   "outputs": [],
   "source": [
    "def open_browser():\n",
    "    '''打開瀏覽器\n",
    "    '''\n",
    "\n",
    "    # disable chrome alter\n",
    "    chrome_options = webdriver.ChromeOptions()\n",
    "    prefs = {\"profile.default_content_setting_values.notifications\" : 2}\n",
    "    chrome_options.add_experimental_option(\"prefs\",prefs)\n",
    "\n",
    "    # 執行 chromedriver.exe\n",
    "    cmd = os.getcwd() + \"\\\\Tool\\\\chromedriver.exe\"\n",
    "    # print cmd\n",
    "    proc = subprocess.Popen(cmd, shell=True, stdin=subprocess.PIPE, stdout=subprocess.PIPE, stderr=subprocess.PIPE)\n",
    "    driver = webdriver.Chrome(executable_path = \"C:\\Program Files (x86)\\Google\\Chrome\\Application\\chromedriver.exe\",\\\n",
    "                              chrome_options=chrome_options)\n",
    "    # 打開瀏覽器\n",
    "    driver.get(\"https://www.facebook.com/\")\n",
    "\n",
    "    return driver"
   ]
  },
  {
   "cell_type": "code",
   "execution_count": 9,
   "metadata": {},
   "outputs": [],
   "source": [
    "def login(driver, usr, pwd):\n",
    "    '''登入臉書帳號\n",
    "    '''\n",
    "\n",
    "    # login facebook\n",
    "    elem = driver.find_element_by_id(\"email\")\n",
    "    elem.send_keys(usr)\n",
    "    elem = driver.find_element_by_id(\"pass\")\n",
    "    elem.send_keys(pwd)\n",
    "\n",
    "    # click longin button\n",
    "    try:\n",
    "        elem = driver.find_element_by_id(\"u_0_b\")\n",
    "        print('b')\n",
    "        elem.click()\n",
    "    except:\n",
    "        elem = driver.find_element_by_id(\"u_0_w\")\n",
    "        print('w')\n",
    "        elem.click()\n",
    "\n",
    "    return driver"
   ]
  },
  {
   "cell_type": "code",
   "execution_count": 4,
   "metadata": {},
   "outputs": [],
   "source": [
    "def get_post_class(driver):\n",
    "    '''獲取每個登入帳號看到的po文人的資料 class\n",
    "    '''\n",
    "    soup = BeautifulSoup(driver.page_source, \"html.parser\")\n",
    "    \n",
    "    links = soup.select(\"head\")[0].select(\"link\")\n",
    "    for link in links:\n",
    "    \ttry:\n",
    "    \t\tif link[\"data-bootloader-hash\"] == \"TvoAA\":\n",
    "    \t\t\tscript = link\n",
    "    \t\t\tbreak\n",
    "    \texcept:\n",
    "    \t\tcontinue\n",
    "    # print script\n",
    "\n",
    "    # 獲取class    \n",
    "    start = str(script).find(\"utf-8,.\")\n",
    "    end = str(script).find(\"{margin-bottom\")\n",
    "    class_length = end - start - 7\n",
    "    start = 102+class_length-11\n",
    "    post_class = str(script)[start:(start+class_length)]\n",
    "    # print post_class\n",
    "\n",
    "    return post_class"
   ]
  },
  {
   "cell_type": "code",
   "execution_count": 38,
   "metadata": {},
   "outputs": [],
   "source": [
    "def main():\n",
    "\n",
    "    # user login information \n",
    "    print (\"登入臉書以開始爬取團購社團資訊......\")\n",
    "    usr = 'mama123082@gmail.com'\n",
    "    pwd = 'benvolia821230'\n",
    "    # 地區關鍵字\n",
    "    places = ['台北']\n",
    "\n",
    "    # 打開瀏覽器\n",
    "    driver = open_browser()\n",
    "    # Login\n",
    "    driver = login(driver, usr, pwd)\n",
    "    time.sleep(3)\n",
    "\n",
    "    # 獲得登入帳號po文人的資料class\n",
    "    driver.get(\"https://facebook.com/watch?v=661481457954226\")\n",
    "    #ele = driver.find_element_by_xpath('//*[@id=\"mount_0_0\"]/div/div[1]/div[1]/div[3]/div/div/div[1]/div[1]/div[2]/div/div[2]/div[1]/div[3]/div/div/div/div[2]/div/div[1]/span/span/span[1]/span/span/div')\n",
    "    \n",
    "    #print(ele)\n",
    "    time.sleep(2)\n",
    "    soup = BeautifulSoup(driver.page_source,\"html.parser\")\n",
    "    ele = soup.find_all(class_ =\"tojvnm2t a6sixzi8 abs2jz4q a8s20v7p t1p8iaqh k5wvi7nf q3lfd5jv pk4s997a bipmatt0 cebpdrjk qowsmv63 owwhemhu dp1hu0rb dhp61c6y iyyx5f41\")\n",
    "    ele1 = soup.find_all(class_ =\"oajrlxb2 g5ia77u1 qu0x051f esr5mh6w e9989ue4 r7d6kgcz rq0escxv nhd2j8a9 nc684nl6 p7hjln8o kvgmc6g5 cxmmr5t8 oygrvhab hcukyx3x jb3vyjys rz4wbd8a qt6c0cv9 a8nywdso i1ao9s8h esuyzwwr f1sip0of lzcic4wl l9j0dhe7 abiwlrkh p8dawk7l\")\n",
    "    #for e in ele:\n",
    "     #   print(e)\n",
    "      #  print('\\n')\n",
    "    for e in ele1:\n",
    "        print(e[\"aria-label\"])\n",
    "        print('\\n')\n",
    "    #time.sleep(100)\n",
    "    # 關閉瀏覽器\n",
    "    #driver.close()\n",
    "    \n"
   ]
  },
  {
   "cell_type": "code",
   "execution_count": 39,
   "metadata": {},
   "outputs": [
    {
     "name": "stdout",
     "output_type": "stream",
     "text": [
      "登入臉書以開始爬取團購社團資訊......\n"
     ]
    },
    {
     "name": "stderr",
     "output_type": "stream",
     "text": [
      "<ipython-input-2-157be1b6d62e>:14: DeprecationWarning: use options instead of chrome_options\n",
      "  driver = webdriver.Chrome(executable_path = \"C:\\Program Files (x86)\\Google\\Chrome\\Application\\chromedriver.exe\",\\\n"
     ]
    },
    {
     "name": "stdout",
     "output_type": "stream",
     "text": [
      "b\n",
      "讚好：309人\n",
      "\n",
      "\n",
      "勁正：11人\n",
      "\n",
      "\n",
      "更多\n",
      "\n",
      "\n",
      "讚好：7人\n",
      "\n",
      "\n",
      "勁正：3人\n",
      "\n",
      "\n",
      "嬲嬲：2人\n",
      "\n",
      "\n",
      "更多\n",
      "\n",
      "\n",
      "讚好：77人\n",
      "\n",
      "\n",
      "勁正：39人\n",
      "\n",
      "\n",
      "哈哈：1 人\n",
      "\n",
      "\n",
      "更多\n",
      "\n",
      "\n",
      "讚好：210人\n",
      "\n",
      "\n",
      "勁正：84人\n",
      "\n",
      "\n",
      "哈哈：17人\n",
      "\n",
      "\n",
      "更多\n",
      "\n",
      "\n",
      "讚好：201人\n",
      "\n",
      "\n",
      "勁正：162人\n",
      "\n",
      "\n",
      "哈哈：31人\n",
      "\n",
      "\n",
      "更多\n",
      "\n",
      "\n",
      "讚好：538人\n",
      "\n",
      "\n",
      "勁正：206人\n",
      "\n",
      "\n",
      "加油：3人\n",
      "\n",
      "\n",
      "更多\n",
      "\n",
      "\n",
      "讚好：184人\n",
      "\n",
      "\n",
      "勁正：16人\n",
      "\n",
      "\n",
      "哈哈：2人\n",
      "\n",
      "\n"
     ]
    }
   ],
   "source": [
    "main()"
   ]
  },
  {
   "cell_type": "code",
   "execution_count": 13,
   "metadata": {},
   "outputs": [
    {
     "name": "stderr",
     "output_type": "stream",
     "text": [
      "<ipython-input-2-157be1b6d62e>:14: DeprecationWarning: use options instead of chrome_options\n",
      "  driver = webdriver.Chrome(executable_path = \"C:\\Program Files (x86)\\Google\\Chrome\\Application\\chromedriver.exe\",\\\n"
     ]
    },
    {
     "data": {
      "text/plain": [
       "<selenium.webdriver.chrome.webdriver.WebDriver (session=\"e4211ed0f32b204cbf368193dff97d5d\")>"
      ]
     },
     "execution_count": 13,
     "metadata": {},
     "output_type": "execute_result"
    }
   ],
   "source": [
    "open_browser()"
   ]
  },
  {
   "cell_type": "code",
   "execution_count": null,
   "metadata": {},
   "outputs": [],
   "source": []
  }
 ],
 "metadata": {
  "kernelspec": {
   "display_name": "Python 3",
   "language": "python",
   "name": "python3"
  },
  "language_info": {
   "codemirror_mode": {
    "name": "ipython",
    "version": 3
   },
   "file_extension": ".py",
   "mimetype": "text/x-python",
   "name": "python",
   "nbconvert_exporter": "python",
   "pygments_lexer": "ipython3",
   "version": "3.8.5"
  }
 },
 "nbformat": 4,
 "nbformat_minor": 4
}
