{
 "cells": [
  {
   "cell_type": "code",
   "execution_count": 1,
   "metadata": {},
   "outputs": [],
   "source": [
    "import os\n",
    "import pandas as pd\n",
    "import numpy as np\n",
    "import re\n",
    "from datetime import datetime\n",
    "from bs4 import BeautifulSoup\n",
    "\n",
    "import nltk\n",
    "from nltk.stem import PorterStemmer\n",
    "import string"
   ]
  },
  {
   "cell_type": "markdown",
   "metadata": {},
   "source": [
    "# Doc preprocess"
   ]
  },
  {
   "cell_type": "code",
   "execution_count": 2,
   "metadata": {},
   "outputs": [
    {
     "name": "stderr",
     "output_type": "stream",
     "text": [
      "/Users/wuyunwei/opt/anaconda3/lib/python3.8/site-packages/IPython/core/interactiveshell.py:3418: DtypeWarning: Columns (21) have mixed types.Specify dtype option on import or set low_memory=False.\n",
      "  exec(code_obj, self.user_global_ns, self.user_ns)\n"
     ]
    }
   ],
   "source": [
    "df_Q = pd.read_csv(\"Q.csv\")\n",
    "df_A = pd.read_csv(\"A.csv\")"
   ]
  },
  {
   "cell_type": "code",
   "execution_count": 5,
   "metadata": {},
   "outputs": [],
   "source": [
    "nltk.download('stopwords')\n",
    "nltk_stopwords = nltk.corpus.stopwords.words('english')\n",
    "\n",
    "def RemoveLink(text):\n",
    "    group = re.findall(r'<a href=(.*)</a>', text)\n",
    "    for g in group:\n",
    "        link = '<a href=' + g + '</a>'\n",
    "        text = text.replace(link, '')\n",
    "    text = text.replace('\\n', ' ')\n",
    "    return text\n",
    "\n",
    "def RemoveCode(text):\n",
    "    text = str(text)\n",
    "    text = text.replace('<pre>', '\\n<pre>')\n",
    "    code = re.findall(r'<pre>(.*)</pre>', text)\n",
    "    for c in code:\n",
    "        c = '<pre>' + c +'</pre>'\n",
    "        text = text.replace(c, '')\n",
    "    text = text.replace('\\n', '')\n",
    "    return text, bool(code)\n",
    "\n",
    "def RemoveTag(text):\n",
    "    return BeautifulSoup(text, \"lxml\").text\n",
    "\n",
    "def Preprocess(text):\n",
    "    text = text.lower()\n",
    "    for c in string.punctuation:\n",
    "        text = text.replace(c,\" \")\n",
    "    \n",
    "    doc = \"\"\n",
    "    \n",
    "    terms = text.split()\n",
    "    for t in terms:\n",
    "        if t not in nltk_stopwords:\n",
    "            doc = doc + PorterStemmer().stem(t) + ' ' \n",
    "            \n",
    "    return doc"
   ]
  },
  {
   "cell_type": "code",
   "execution_count": 6,
   "metadata": {},
   "outputs": [],
   "source": [
    "df_QA = df_Q.copy()\n",
    "df_QA[\"TBAA\"] = \"\"\n",
    "df_QA[\"TBAA_RL\"] = \"\"\n",
    "df_QA[\"TBAA_RL_P\"] = \"\""
   ]
  },
  {
   "cell_type": "code",
   "execution_count": null,
   "metadata": {},
   "outputs": [],
   "source": [
    "for i in range(len(df_Q)):\n",
    "    if i%10000 == 9999:\n",
    "        print(i, \"--- %s seconds ---\" % (time.time() - start_time))\n",
    "        \n",
    "    if i%100000 == 99999:\n",
    "        print('save file at ',i)\n",
    "        df_QA[\"TBAA\"].to_csv('TBAA.csv', index = False)\n",
    "        df_QA[\"TBAA_RL\"].to_csv('TBAA_RL.csv', index = False)\n",
    "        df_QA[\"TBAA_RL_P\"].to_csv('TBAA_RL_P.csv', index = False)\n",
    "        \n",
    "        \n",
    "    QId = df_QA[\"Id\"][i]\n",
    "    \n",
    "    #Title, Body, AcceptedAnswer\n",
    "    AABody = df_A[(df_A[\"Id\"] == QId) & (df_A[\"AcceptedAnswerId\"] == df_A[\"Id.1\"])][\"Body\"].tolist()\n",
    "    if AABody:\n",
    "        TBAA = df_QA[\"Title\"][i] + ' ' + df_QA[\"Body\"][i] + ' ' + AABody[0]\n",
    "    else:\n",
    "        TBAA = df_QA[\"Title\"][i] + ' ' + df_QA[\"Body\"][i]\n",
    "        \n",
    "    TBAA_RL = RemoveLink(TBAA)\n",
    "    TBAA_RL = RemoveTag(TBAA_RL)\n",
    "    \n",
    "    TBAA_RL_P = Preprocess(TBAA_RL)\n",
    "    \n",
    "    df_QA[\"TBAA\"][i] = TBAA\n",
    "    df_QA[\"TBAA_RL\"][i] = TBAA_RL\n",
    "    df_QA[\"TBAA_RL_P\"][i] = TBAA_RL_P"
   ]
  }
 ],
 "metadata": {
  "kernelspec": {
   "display_name": "Python 3",
   "language": "python",
   "name": "python3"
  },
  "language_info": {
   "codemirror_mode": {
    "name": "ipython",
    "version": 3
   },
   "file_extension": ".py",
   "mimetype": "text/x-python",
   "name": "python",
   "nbconvert_exporter": "python",
   "pygments_lexer": "ipython3",
   "version": "3.8.5"
  }
 },
 "nbformat": 4,
 "nbformat_minor": 4
}
