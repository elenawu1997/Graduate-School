{
 "cells": [
  {
   "cell_type": "code",
   "execution_count": 1,
   "metadata": {},
   "outputs": [],
   "source": [
    "#載入所需函示庫\n",
    "\n",
    "from matplotlib import pyplot as plt\n",
    "%matplotlib inline\n",
    "# 設定圖形大小; DPI越大圖越大\n",
    "plt.rcParams[\"figure.dpi\"] = 120\n",
    "\n",
    "import pandas as pd\n",
    "import numpy as np\n",
    "import scipy.stats as stats\n",
    "import statsmodels.api as sm\n",
    "import statsmodels.stats.api as sms\n",
    "import statsmodels.formula.api as smf\n",
    "import statsmodels.stats.multicomp as smm\n",
    "import statsmodels\n",
    "import scipy"
   ]
  },
  {
   "cell_type": "markdown",
   "metadata": {},
   "source": [
    "### 評分標準\n",
    "\n",
    "每題16% : \n",
    "- H0H1 2% (15.12 15.19沒直接寫出各組期望機率-1%，15.36 15.43沒寫independent-1%)\n",
    "- 計算 5% （錯一個值-2%）\n",
    "- RejectH0 2% (pvalue/critical value判斷1%，reject or not 1%)\n",
    "- Conclusion 2%  \n",
    "- Rules of 5 5% (若只有display freq_e -2%)\n"
   ]
  },
  {
   "cell_type": "markdown",
   "metadata": {},
   "source": [
    "### 15.12 \n",
    "\n",
    "Let p1, p2, p3, p4 be the expected proportions of account receivable for group1(0-14), group2(15-29), group3(30-59), group4(>60).  \n",
    "\n",
    "H0: p1 = .72, p2 = .15, p3 = .10, p4 = .03  \n",
    "H1: At least one pi is not equal to its specified value.  \n",
    "\n",
    "Alpha = 0.05"
   ]
  },
  {
   "cell_type": "code",
   "execution_count": 2,
   "metadata": {},
   "outputs": [
    {
     "data": {
      "text/html": [
       "<div>\n",
       "<style scoped>\n",
       "    .dataframe tbody tr th:only-of-type {\n",
       "        vertical-align: middle;\n",
       "    }\n",
       "\n",
       "    .dataframe tbody tr th {\n",
       "        vertical-align: top;\n",
       "    }\n",
       "\n",
       "    .dataframe thead th {\n",
       "        text-align: right;\n",
       "    }\n",
       "</style>\n",
       "<table border=\"1\" class=\"dataframe\">\n",
       "  <thead>\n",
       "    <tr style=\"text-align: right;\">\n",
       "      <th></th>\n",
       "      <th>Accounts Receivable</th>\n",
       "    </tr>\n",
       "  </thead>\n",
       "  <tbody>\n",
       "    <tr>\n",
       "      <th>0</th>\n",
       "      <td>3</td>\n",
       "    </tr>\n",
       "    <tr>\n",
       "      <th>1</th>\n",
       "      <td>1</td>\n",
       "    </tr>\n",
       "    <tr>\n",
       "      <th>2</th>\n",
       "      <td>1</td>\n",
       "    </tr>\n",
       "    <tr>\n",
       "      <th>3</th>\n",
       "      <td>1</td>\n",
       "    </tr>\n",
       "    <tr>\n",
       "      <th>4</th>\n",
       "      <td>1</td>\n",
       "    </tr>\n",
       "    <tr>\n",
       "      <th>...</th>\n",
       "      <td>...</td>\n",
       "    </tr>\n",
       "    <tr>\n",
       "      <th>245</th>\n",
       "      <td>1</td>\n",
       "    </tr>\n",
       "    <tr>\n",
       "      <th>246</th>\n",
       "      <td>2</td>\n",
       "    </tr>\n",
       "    <tr>\n",
       "      <th>247</th>\n",
       "      <td>1</td>\n",
       "    </tr>\n",
       "    <tr>\n",
       "      <th>248</th>\n",
       "      <td>1</td>\n",
       "    </tr>\n",
       "    <tr>\n",
       "      <th>249</th>\n",
       "      <td>1</td>\n",
       "    </tr>\n",
       "  </tbody>\n",
       "</table>\n",
       "<p>250 rows × 1 columns</p>\n",
       "</div>"
      ],
      "text/plain": [
       "     Accounts Receivable\n",
       "0                      3\n",
       "1                      1\n",
       "2                      1\n",
       "3                      1\n",
       "4                      1\n",
       "..                   ...\n",
       "245                    1\n",
       "246                    2\n",
       "247                    1\n",
       "248                    1\n",
       "249                    1\n",
       "\n",
       "[250 rows x 1 columns]"
      ]
     },
     "metadata": {},
     "output_type": "display_data"
    }
   ],
   "source": [
    "data12 = pd.read_excel(\"Xr15-12.xlsx\")\n",
    "display(data12)"
   ]
  },
  {
   "cell_type": "code",
   "execution_count": 3,
   "metadata": {},
   "outputs": [
    {
     "name": "stdout",
     "output_type": "stream",
     "text": [
      "[180.   37.5  25.    7.5]\n",
      "   Accounts Receivable\n",
      "1                  159\n",
      "3                   47\n",
      "2                   28\n",
      "4                   16 \n",
      "\n",
      "Rule of five is met. \n",
      "\n",
      "Chi-squared test: statistics = 33.8500, p-value = 0.0000\n",
      "Critical value = 7.8147 (degree of freedom = 3)\n"
     ]
    }
   ],
   "source": [
    "nobs = len(data12)\n",
    "alpha = 0.05\n",
    "prob_e = np.array([0.72, 0.15, 0.10, 0.03])\n",
    "freq_e = nobs * prob_e\n",
    "print(freq_e)\n",
    "\n",
    "freq = data12.apply(pd.value_counts)\n",
    "\n",
    "#注意value counts 後的類別排序\n",
    "print(freq,'\\n')\n",
    "freq_o = freq.sort_index().iloc[:,0].values\n",
    "\n",
    "if np.sum(freq_e < 5) > 0:\n",
    "    print(\"Rule of five is not met. \\n\")\n",
    "else:\n",
    "    print(\"Rule of five is met. \\n\")\n",
    "    stat, pvalue = stats.chisquare(freq_o, freq_e)\n",
    "    print(\"Chi-squared test: statistics = %0.4f, p-value = %0.04f\" % (stat, pvalue))\n",
    "\n",
    "    df = freq_o.shape[0]-1\n",
    "    crit_value = stats.chi2.ppf(1 - alpha, df)\n",
    "    print(\"Critical value = %0.4f (degree of freedom = %d)\" % (crit_value, df))"
   ]
  },
  {
   "cell_type": "markdown",
   "metadata": {},
   "source": [
    "Since p-value = 0 < alpha = 0.05, we can reject the null hypothesis at a significance level of 0.05.  \n",
    "There is enough evidence to infer that the aging schedule has changed."
   ]
  },
  {
   "cell_type": "markdown",
   "metadata": {},
   "source": [
    "### 15.19 \n",
    "\n",
    "Let pi be the expected percentages of monthly number of tornadoes for the ith month in a year.  \n",
    "\n",
    "H0: p1 = .024, p2 = .030, p3 = .067, p4 = .169, p5 = .212, P6 = .174, p7 = .080, p8 = .057, p9 = .059, p10 = .049, p11 = .049, p12 = .028  \n",
    "H1: At least one pi is not equal to its specified value.\n",
    "\n",
    "\n",
    "Alpha = 0.05"
   ]
  },
  {
   "cell_type": "code",
   "execution_count": 4,
   "metadata": {},
   "outputs": [
    {
     "name": "stdout",
     "output_type": "stream",
     "text": [
      "Head of dataset:\n"
     ]
    },
    {
     "data": {
      "text/html": [
       "<div>\n",
       "<style scoped>\n",
       "    .dataframe tbody tr th:only-of-type {\n",
       "        vertical-align: middle;\n",
       "    }\n",
       "\n",
       "    .dataframe tbody tr th {\n",
       "        vertical-align: top;\n",
       "    }\n",
       "\n",
       "    .dataframe thead th {\n",
       "        text-align: right;\n",
       "    }\n",
       "</style>\n",
       "<table border=\"1\" class=\"dataframe\">\n",
       "  <thead>\n",
       "    <tr style=\"text-align: right;\">\n",
       "      <th></th>\n",
       "      <th>Month</th>\n",
       "      <th>Number of tornadoes</th>\n",
       "    </tr>\n",
       "  </thead>\n",
       "  <tbody>\n",
       "    <tr>\n",
       "      <th>0</th>\n",
       "      <td>January</td>\n",
       "      <td>26</td>\n",
       "    </tr>\n",
       "    <tr>\n",
       "      <th>1</th>\n",
       "      <td>February</td>\n",
       "      <td>2</td>\n",
       "    </tr>\n",
       "    <tr>\n",
       "      <th>2</th>\n",
       "      <td>March</td>\n",
       "      <td>13</td>\n",
       "    </tr>\n",
       "    <tr>\n",
       "      <th>3</th>\n",
       "      <td>April</td>\n",
       "      <td>185</td>\n",
       "    </tr>\n",
       "    <tr>\n",
       "      <th>4</th>\n",
       "      <td>May</td>\n",
       "      <td>414</td>\n",
       "    </tr>\n",
       "    <tr>\n",
       "      <th>5</th>\n",
       "      <td>June</td>\n",
       "      <td>184</td>\n",
       "    </tr>\n",
       "    <tr>\n",
       "      <th>6</th>\n",
       "      <td>July</td>\n",
       "      <td>122</td>\n",
       "    </tr>\n",
       "    <tr>\n",
       "      <th>7</th>\n",
       "      <td>August</td>\n",
       "      <td>44</td>\n",
       "    </tr>\n",
       "    <tr>\n",
       "      <th>8</th>\n",
       "      <td>September</td>\n",
       "      <td>24</td>\n",
       "    </tr>\n",
       "    <tr>\n",
       "      <th>9</th>\n",
       "      <td>October</td>\n",
       "      <td>57</td>\n",
       "    </tr>\n",
       "    <tr>\n",
       "      <th>10</th>\n",
       "      <td>November</td>\n",
       "      <td>95</td>\n",
       "    </tr>\n",
       "    <tr>\n",
       "      <th>11</th>\n",
       "      <td>December</td>\n",
       "      <td>93</td>\n",
       "    </tr>\n",
       "  </tbody>\n",
       "</table>\n",
       "</div>"
      ],
      "text/plain": [
       "        Month  Number of tornadoes\n",
       "0     January                   26\n",
       "1    February                    2\n",
       "2       March                   13\n",
       "3       April                  185\n",
       "4         May                  414\n",
       "5        June                  184\n",
       "6        July                  122\n",
       "7      August                   44\n",
       "8   September                   24\n",
       "9     October                   57\n",
       "10   November                   95\n",
       "11   December                   93"
      ]
     },
     "metadata": {},
     "output_type": "display_data"
    }
   ],
   "source": [
    "data19 = pd.read_excel(\"Xr15-19.xlsx\")\n",
    "print('Head of dataset:')\n",
    "display(data19)"
   ]
  },
  {
   "cell_type": "code",
   "execution_count": 5,
   "metadata": {},
   "outputs": [
    {
     "name": "stdout",
     "output_type": "stream",
     "text": [
      "[ 30.216  37.77   84.353 212.771 266.908 219.066 100.72   71.763  74.281\n",
      "  61.691  61.691  35.252]\n",
      "Rule of five is met. \n",
      "\n",
      "Chi-squared test: statistics = 347.3334, p-value = 0.0000000000\n",
      "Critical value = 19.6751 (degree of freedom = 11)\n"
     ]
    }
   ],
   "source": [
    "nobs = sum(data19.iloc[:,1].values)\n",
    "alpha = 0.05\n",
    "\n",
    "prob = [0.024, 0.030, 0.067, 0.169, 0.212, 0.174, \\\n",
    "        0.080, 0.057, 0.059, 0.049, 0.049, 0.028]\n",
    "prob_e = np.array(prob)\n",
    "freq_e = nobs * prob_e\n",
    "print(freq_e)\n",
    "\n",
    "freq_o = data19.iloc[:,1].values\n",
    "\n",
    "\n",
    "if np.sum(freq_e < 5) > 0:\n",
    "    print(\"Rule of five is not met. \\n\")\n",
    "else:\n",
    "    print(\"Rule of five is met. \\n\")\n",
    "    stat, pvalue = stats.chisquare(freq_o, freq_e)\n",
    "    print(\"Chi-squared test: statistics = %0.4f, p-value = %0.10f\" % (stat, pvalue))\n",
    "\n",
    "    df = freq_o.shape[0]-1\n",
    "    crit_value = stats.chi2.ppf(1 - alpha, df)\n",
    "    print(\"Critical value = %0.4f (degree of freedom = %d)\" % (crit_value, df))"
   ]
  },
  {
   "cell_type": "markdown",
   "metadata": {},
   "source": [
    "Since p-value = 0 < alpha = 0.05, we can reject the null hypothesis at a significance level of 0.05.  \n",
    "There is enough evidence to infer that the percentages have changed."
   ]
  },
  {
   "cell_type": "markdown",
   "metadata": {},
   "source": [
    "### 15.36 \n",
    "\n",
    "H0: The two variables (remedy/placebo and side effects) are independent.  \n",
    "H1: The two variables are dependent.  \n",
    "\n",
    "Alpha = 0.05"
   ]
  },
  {
   "cell_type": "code",
   "execution_count": 6,
   "metadata": {},
   "outputs": [
    {
     "name": "stdout",
     "output_type": "stream",
     "text": [
      "Head of dataset:\n"
     ]
    },
    {
     "data": {
      "text/html": [
       "<div>\n",
       "<style scoped>\n",
       "    .dataframe tbody tr th:only-of-type {\n",
       "        vertical-align: middle;\n",
       "    }\n",
       "\n",
       "    .dataframe tbody tr th {\n",
       "        vertical-align: top;\n",
       "    }\n",
       "\n",
       "    .dataframe thead th {\n",
       "        text-align: right;\n",
       "    }\n",
       "</style>\n",
       "<table border=\"1\" class=\"dataframe\">\n",
       "  <thead>\n",
       "    <tr style=\"text-align: right;\">\n",
       "      <th></th>\n",
       "      <th>Cold Remedy</th>\n",
       "      <th>Placebo</th>\n",
       "    </tr>\n",
       "  </thead>\n",
       "  <tbody>\n",
       "    <tr>\n",
       "      <th>0</th>\n",
       "      <td>4</td>\n",
       "      <td>4</td>\n",
       "    </tr>\n",
       "    <tr>\n",
       "      <th>1</th>\n",
       "      <td>4</td>\n",
       "      <td>3</td>\n",
       "    </tr>\n",
       "    <tr>\n",
       "      <th>2</th>\n",
       "      <td>4</td>\n",
       "      <td>4</td>\n",
       "    </tr>\n",
       "    <tr>\n",
       "      <th>3</th>\n",
       "      <td>4</td>\n",
       "      <td>4</td>\n",
       "    </tr>\n",
       "    <tr>\n",
       "      <th>4</th>\n",
       "      <td>4</td>\n",
       "      <td>4</td>\n",
       "    </tr>\n",
       "    <tr>\n",
       "      <th>...</th>\n",
       "      <td>...</td>\n",
       "      <td>...</td>\n",
       "    </tr>\n",
       "    <tr>\n",
       "      <th>245</th>\n",
       "      <td>4</td>\n",
       "      <td>4</td>\n",
       "    </tr>\n",
       "    <tr>\n",
       "      <th>246</th>\n",
       "      <td>4</td>\n",
       "      <td>4</td>\n",
       "    </tr>\n",
       "    <tr>\n",
       "      <th>247</th>\n",
       "      <td>4</td>\n",
       "      <td>4</td>\n",
       "    </tr>\n",
       "    <tr>\n",
       "      <th>248</th>\n",
       "      <td>4</td>\n",
       "      <td>4</td>\n",
       "    </tr>\n",
       "    <tr>\n",
       "      <th>249</th>\n",
       "      <td>3</td>\n",
       "      <td>4</td>\n",
       "    </tr>\n",
       "  </tbody>\n",
       "</table>\n",
       "<p>250 rows × 2 columns</p>\n",
       "</div>"
      ],
      "text/plain": [
       "     Cold Remedy  Placebo\n",
       "0              4        4\n",
       "1              4        3\n",
       "2              4        4\n",
       "3              4        4\n",
       "4              4        4\n",
       "..           ...      ...\n",
       "245            4        4\n",
       "246            4        4\n",
       "247            4        4\n",
       "248            4        4\n",
       "249            3        4\n",
       "\n",
       "[250 rows x 2 columns]"
      ]
     },
     "metadata": {},
     "output_type": "display_data"
    }
   ],
   "source": [
    "data36 = pd.read_excel(\"Xr15-36.xlsx\")\n",
    "print('Head of dataset:')\n",
    "display(data36)"
   ]
  },
  {
   "cell_type": "code",
   "execution_count": 7,
   "metadata": {},
   "outputs": [
    {
     "name": "stdout",
     "output_type": "stream",
     "text": [
      "Contingency Table:\n"
     ]
    },
    {
     "data": {
      "text/plain": [
       "[array([ 19,  23,  14, 194]), array([ 17,  18,  16, 199])]"
      ]
     },
     "metadata": {},
     "output_type": "display_data"
    }
   ],
   "source": [
    "# 列出Contingency Table\n",
    "freq_o = [data36.apply(pd.value_counts).sort_index().iloc[:,0].values,\\\n",
    "          data36.apply(pd.value_counts).sort_index().iloc[:,1].values]\n",
    "print(\"Contingency Table:\")\n",
    "display(freq_o)"
   ]
  },
  {
   "cell_type": "code",
   "execution_count": 8,
   "metadata": {},
   "outputs": [
    {
     "name": "stdout",
     "output_type": "stream",
     "text": [
      "Chi-squared Statistics = 0.9178\n",
      "Degree of freedom = 3.0000\n",
      "p-value = 0.8211\n",
      "\n",
      "Expected Frequency:\n",
      "[[ 18.   20.5  15.  196.5]\n",
      " [ 18.   20.5  15.  196.5]]\n",
      "Rule of five is met. \n"
     ]
    }
   ],
   "source": [
    "chi2, p, dof, ex =stats.chi2_contingency(freq_o, correction = False)\n",
    "print(\"Chi-squared Statistics = %0.4f\" % chi2)\n",
    "print(\"Degree of freedom = %0.4f\" % dof)\n",
    "print(\"p-value = %0.4f\" % p)\n",
    "\n",
    "print(\"\\nExpected Frequency:\")\n",
    "print(ex)\n",
    "if np.sum(ex < 5) > 0:\n",
    "    print(\"Rule of five is not met. \")\n",
    "else:\n",
    "    print(\"Rule of five is met. \")\n"
   ]
  },
  {
   "cell_type": "markdown",
   "metadata": {},
   "source": [
    "Since p-value = 0.8211 > alpha = 0.05. We can not reject the null hypothesis at a significance level of 0.05.  \n",
    "There is not enough evidence to infer that the reported side effects differ, which means the two variables (remedy/placebo and side effects) are independent."
   ]
  },
  {
   "cell_type": "markdown",
   "metadata": {},
   "source": [
    "### 15.43 \n",
    "\n",
    "H0: The two variables (year and weapon) are independent.  \n",
    "H1: The two variables are dependent.  \n",
    "\n",
    "Alpha = 0.05"
   ]
  },
  {
   "cell_type": "code",
   "execution_count": 9,
   "metadata": {},
   "outputs": [
    {
     "name": "stdout",
     "output_type": "stream",
     "text": [
      "Head of dataset:\n"
     ]
    },
    {
     "data": {
      "text/html": [
       "<div>\n",
       "<style scoped>\n",
       "    .dataframe tbody tr th:only-of-type {\n",
       "        vertical-align: middle;\n",
       "    }\n",
       "\n",
       "    .dataframe tbody tr th {\n",
       "        vertical-align: top;\n",
       "    }\n",
       "\n",
       "    .dataframe thead th {\n",
       "        text-align: right;\n",
       "    }\n",
       "</style>\n",
       "<table border=\"1\" class=\"dataframe\">\n",
       "  <thead>\n",
       "    <tr style=\"text-align: right;\">\n",
       "      <th></th>\n",
       "      <th>Year 2000</th>\n",
       "      <th>Year 2005</th>\n",
       "      <th>Year 2010</th>\n",
       "    </tr>\n",
       "  </thead>\n",
       "  <tbody>\n",
       "    <tr>\n",
       "      <th>0</th>\n",
       "      <td>3.0</td>\n",
       "      <td>1</td>\n",
       "      <td>4.0</td>\n",
       "    </tr>\n",
       "    <tr>\n",
       "      <th>1</th>\n",
       "      <td>4.0</td>\n",
       "      <td>4</td>\n",
       "      <td>4.0</td>\n",
       "    </tr>\n",
       "    <tr>\n",
       "      <th>2</th>\n",
       "      <td>1.0</td>\n",
       "      <td>3</td>\n",
       "      <td>2.0</td>\n",
       "    </tr>\n",
       "    <tr>\n",
       "      <th>3</th>\n",
       "      <td>1.0</td>\n",
       "      <td>2</td>\n",
       "      <td>4.0</td>\n",
       "    </tr>\n",
       "    <tr>\n",
       "      <th>4</th>\n",
       "      <td>4.0</td>\n",
       "      <td>1</td>\n",
       "      <td>1.0</td>\n",
       "    </tr>\n",
       "    <tr>\n",
       "      <th>...</th>\n",
       "      <td>...</td>\n",
       "      <td>...</td>\n",
       "      <td>...</td>\n",
       "    </tr>\n",
       "    <tr>\n",
       "      <th>412</th>\n",
       "      <td>NaN</td>\n",
       "      <td>1</td>\n",
       "      <td>NaN</td>\n",
       "    </tr>\n",
       "    <tr>\n",
       "      <th>413</th>\n",
       "      <td>NaN</td>\n",
       "      <td>4</td>\n",
       "      <td>NaN</td>\n",
       "    </tr>\n",
       "    <tr>\n",
       "      <th>414</th>\n",
       "      <td>NaN</td>\n",
       "      <td>4</td>\n",
       "      <td>NaN</td>\n",
       "    </tr>\n",
       "    <tr>\n",
       "      <th>415</th>\n",
       "      <td>NaN</td>\n",
       "      <td>4</td>\n",
       "      <td>NaN</td>\n",
       "    </tr>\n",
       "    <tr>\n",
       "      <th>416</th>\n",
       "      <td>NaN</td>\n",
       "      <td>4</td>\n",
       "      <td>NaN</td>\n",
       "    </tr>\n",
       "  </tbody>\n",
       "</table>\n",
       "<p>417 rows × 3 columns</p>\n",
       "</div>"
      ],
      "text/plain": [
       "     Year 2000  Year 2005  Year 2010\n",
       "0          3.0          1        4.0\n",
       "1          4.0          4        4.0\n",
       "2          1.0          3        2.0\n",
       "3          1.0          2        4.0\n",
       "4          4.0          1        1.0\n",
       "..         ...        ...        ...\n",
       "412        NaN          1        NaN\n",
       "413        NaN          4        NaN\n",
       "414        NaN          4        NaN\n",
       "415        NaN          4        NaN\n",
       "416        NaN          4        NaN\n",
       "\n",
       "[417 rows x 3 columns]"
      ]
     },
     "metadata": {},
     "output_type": "display_data"
    }
   ],
   "source": [
    "data43 = pd.read_excel(\"Xr15-43.xlsx\")\n",
    "print('Head of dataset:')\n",
    "display(data43)"
   ]
  },
  {
   "cell_type": "code",
   "execution_count": 10,
   "metadata": {},
   "outputs": [
    {
     "name": "stdout",
     "output_type": "stream",
     "text": [
      "Contingency Table:\n"
     ]
    },
    {
     "data": {
      "text/plain": [
       "[array([161,  36,  53, 159]),\n",
       " array([175,  37,  39, 166]),\n",
       " array([131,  24,  27, 126])]"
      ]
     },
     "metadata": {},
     "output_type": "display_data"
    }
   ],
   "source": [
    "# 列出Contingency Table\n",
    "freq_o = [data43.apply(pd.value_counts).sort_index().iloc[:,0].values,\\\n",
    "          data43.apply(pd.value_counts).sort_index().iloc[:,1].values,\\\n",
    "          data43.apply(pd.value_counts).sort_index().iloc[:,2].values]\n",
    "\n",
    "print(\"Contingency Table:\")\n",
    "display(freq_o)"
   ]
  },
  {
   "cell_type": "code",
   "execution_count": 11,
   "metadata": {},
   "outputs": [
    {
     "name": "stdout",
     "output_type": "stream",
     "text": [
      "Chi-squared Statistics = 4.7588\n",
      "Degree of freedom = 6.0000\n",
      "p-value = 0.5751\n",
      "\n",
      "Expected Frequency:\n",
      "[[168.4329806   34.98500882  42.91975309 162.6622575 ]\n",
      " [171.72751323  35.66931217  43.75925926 165.84391534]\n",
      " [126.83950617  26.34567901  32.32098765 122.49382716]]\n",
      "Rule of five is met. \n"
     ]
    }
   ],
   "source": [
    "chi2, p, dof, ex =stats.chi2_contingency(freq_o, correction = False)\n",
    "print(\"Chi-squared Statistics = %0.4f\" % chi2)\n",
    "print(\"Degree of freedom = %0.4f\" % dof)\n",
    "print(\"p-value = %0.4f\" % p)\n",
    "\n",
    "print(\"\\nExpected Frequency:\")\n",
    "print(ex)\n",
    "if np.sum(ex < 5) > 0:\n",
    "    print(\"Rule of five is not met. \")\n",
    "else:\n",
    "    print(\"Rule of five is met. \")"
   ]
  },
  {
   "cell_type": "markdown",
   "metadata": {},
   "source": [
    "Since p-value = 0.5751 > alpha = 0.05. We can not reject the null hypothesis at a significance level of 0.05.  \n",
    "There is not sufficient evidence to infer that the frequency of the use of weapons in robberies differed over the three years, which means the two variables are independent."
   ]
  },
  {
   "cell_type": "markdown",
   "metadata": {},
   "source": [
    "### 15.80 \n",
    "\n",
    "H0:The data are normally distributed.  \n",
    "H1:The data are not normally distributed.  \n",
    "\n",
    "Alpha = 0.10"
   ]
  },
  {
   "cell_type": "code",
   "execution_count": 12,
   "metadata": {},
   "outputs": [
    {
     "name": "stdout",
     "output_type": "stream",
     "text": [
      "Rule of five is met. \n",
      "\n",
      "Chi-squared test: statistics = 9.8701, p-value = 0.0016798788\n",
      "Critical value = 2.7055 (degree of freedom = 1)\n"
     ]
    }
   ],
   "source": [
    "freq_o = [6, 27, 14, 3]\n",
    "nobs = sum(freq_o)\n",
    "alpha = 0.10\n",
    "\n",
    "prob = []\n",
    "prob.append(stats.norm.cdf(-1))\n",
    "prob.append(stats.norm.cdf(0)-stats.norm.cdf(-1))\n",
    "prob.append(stats.norm.cdf(1)-stats.norm.cdf(0))\n",
    "prob.append(1 - stats.norm.cdf(1))\n",
    "#print(prob)\n",
    "\n",
    "prob_e = np.array(prob)\n",
    "freq_e = nobs * prob_e\n",
    "#print(freq_e)\n",
    "\n",
    "\n",
    "if np.sum(freq_e < 5) > 0:\n",
    "    print(\"Rule of five is not met. \\n\")\n",
    "else:\n",
    "    print(\"Rule of five is met. \\n\")\n",
    "    stat, pvalue = stats.chisquare(freq_o, freq_e,  ddof = 2)\n",
    "    print(\"Chi-squared test: statistics = %0.4f, p-value = %0.10f\" % (stat, pvalue))\n",
    "\n",
    "    df = len(freq_o)-1-2\n",
    "    crit_value = stats.chi2.ppf(1 - alpha, df)\n",
    "    print(\"Critical value = %0.4f (degree of freedom = %d)\" % (crit_value, df))"
   ]
  },
  {
   "cell_type": "markdown",
   "metadata": {},
   "source": [
    "Since p-value = 0.0017 < alpha = 0.10. We can reject the null hypothesis at a significance level of 0.10.  \n",
    "There is sufficient evidence to infer that the data are not normally distributed."
   ]
  },
  {
   "cell_type": "markdown",
   "metadata": {},
   "source": [
    "### 15.85  \n",
    "\n",
    "H0:Matched pairs differences of sales are normally distributed.  \n",
    "H1:Matched pairs differences of sales are not normally distributed.  \n",
    "\n",
    "\n",
    "Alpha = 0.10"
   ]
  },
  {
   "cell_type": "code",
   "execution_count": 13,
   "metadata": {},
   "outputs": [
    {
     "name": "stdout",
     "output_type": "stream",
     "text": [
      "Head of dataset:\n"
     ]
    },
    {
     "data": {
      "text/html": [
       "<div>\n",
       "<style scoped>\n",
       "    .dataframe tbody tr th:only-of-type {\n",
       "        vertical-align: middle;\n",
       "    }\n",
       "\n",
       "    .dataframe tbody tr th {\n",
       "        vertical-align: top;\n",
       "    }\n",
       "\n",
       "    .dataframe thead th {\n",
       "        text-align: right;\n",
       "    }\n",
       "</style>\n",
       "<table border=\"1\" class=\"dataframe\">\n",
       "  <thead>\n",
       "    <tr style=\"text-align: right;\">\n",
       "      <th></th>\n",
       "      <th>Method 1</th>\n",
       "      <th>Method 2</th>\n",
       "    </tr>\n",
       "  </thead>\n",
       "  <tbody>\n",
       "    <tr>\n",
       "      <th>0</th>\n",
       "      <td>8.8</td>\n",
       "      <td>9.2</td>\n",
       "    </tr>\n",
       "    <tr>\n",
       "      <th>1</th>\n",
       "      <td>9.6</td>\n",
       "      <td>9.4</td>\n",
       "    </tr>\n",
       "    <tr>\n",
       "      <th>2</th>\n",
       "      <td>8.4</td>\n",
       "      <td>8.9</td>\n",
       "    </tr>\n",
       "    <tr>\n",
       "      <th>3</th>\n",
       "      <td>9.0</td>\n",
       "      <td>9.6</td>\n",
       "    </tr>\n",
       "    <tr>\n",
       "      <th>4</th>\n",
       "      <td>8.3</td>\n",
       "      <td>9.7</td>\n",
       "    </tr>\n",
       "    <tr>\n",
       "      <th>5</th>\n",
       "      <td>9.2</td>\n",
       "      <td>8.4</td>\n",
       "    </tr>\n",
       "    <tr>\n",
       "      <th>6</th>\n",
       "      <td>9.0</td>\n",
       "      <td>8.8</td>\n",
       "    </tr>\n",
       "    <tr>\n",
       "      <th>7</th>\n",
       "      <td>8.7</td>\n",
       "      <td>8.9</td>\n",
       "    </tr>\n",
       "    <tr>\n",
       "      <th>8</th>\n",
       "      <td>8.5</td>\n",
       "      <td>9.0</td>\n",
       "    </tr>\n",
       "    <tr>\n",
       "      <th>9</th>\n",
       "      <td>9.4</td>\n",
       "      <td>9.7</td>\n",
       "    </tr>\n",
       "  </tbody>\n",
       "</table>\n",
       "</div>"
      ],
      "text/plain": [
       "   Method 1  Method 2\n",
       "0       8.8       9.2\n",
       "1       9.6       9.4\n",
       "2       8.4       8.9\n",
       "3       9.0       9.6\n",
       "4       8.3       9.7\n",
       "5       9.2       8.4\n",
       "6       9.0       8.8\n",
       "7       8.7       8.9\n",
       "8       8.5       9.0\n",
       "9       9.4       9.7"
      ]
     },
     "metadata": {},
     "output_type": "display_data"
    }
   ],
   "source": [
    "data85 = pd.read_excel(\"Xr13-115.xlsx\")\n",
    "print('Head of dataset:')\n",
    "display(data85)"
   ]
  },
  {
   "cell_type": "markdown",
   "metadata": {},
   "source": [
    "To fulfill rule of 5, we devide the data into two parts. However, this causes the problem of degree of freedom falls to -1, which is not calculatable."
   ]
  }
 ],
 "metadata": {
  "kernelspec": {
   "display_name": "Python 3",
   "language": "python",
   "name": "python3"
  },
  "language_info": {
   "codemirror_mode": {
    "name": "ipython",
    "version": 3
   },
   "file_extension": ".py",
   "mimetype": "text/x-python",
   "name": "python",
   "nbconvert_exporter": "python",
   "pygments_lexer": "ipython3",
   "version": "3.8.5"
  }
 },
 "nbformat": 4,
 "nbformat_minor": 4
}
