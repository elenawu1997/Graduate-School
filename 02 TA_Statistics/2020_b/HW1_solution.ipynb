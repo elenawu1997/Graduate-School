{
 "cells": [
  {
   "cell_type": "code",
   "execution_count": 1,
   "metadata": {},
   "outputs": [],
   "source": [
    "from matplotlib import pyplot as plt\n",
    "%matplotlib inline\n",
    "# 設定圖形大小; DPI越大圖越大\n",
    "plt.rcParams[\"figure.dpi\"] = 80\n",
    "\n",
    "import pandas as pd\n",
    "import numpy as np\n",
    "import scipy.stats as stats\n",
    "import statsmodels.stats.api as sms"
   ]
  },
  {
   "cell_type": "markdown",
   "metadata": {},
   "source": [
    "### 評分標準\n",
    "\n",
    "#### 13.33~13.37 (25%)  \n",
    "    population number notation（ex:令 $\\mu_1$ 為new的均數;  $\\mu_2$ 為existing的均數) 1%  \n",
    "    t-test：H0H1 2%, t statistics or p value 9%(視過程酌量給分), reject H0 or not 2%, conclusion 2%  \n",
    "    F-test：H0H1 1%, f statistics or p value 6%(視過程酌量給分), reject H0 or not 1%, conclusion 1%  \n",
    "    \n",
    "#### 13.115~13.117 (25%)  \n",
    "    population number notation（ex:令 $\\sigma_1$ 為Week1的變異數;  $\\sigma_2$ 為Week2的變異數） 1%      \n",
    "    F-test：H0H1 3%, f statistics or p value 14%(視過程酌量給分), reject H0 or not 3%, conclusion 3%  "
   ]
  },
  {
   "cell_type": "markdown",
   "metadata": {},
   "source": [
    "### 13.33 (25%)\n",
    "\n",
    "令 $\\mu_1$ 為new的均數;  $\\mu_2$ 為existing的均數\n",
    "\n",
    "Null Hypothesis: $\\mu_1 - \\mu_2 <= 0$  \n",
    "Alternative Hypothesis: $\\mu_1 - \\mu_2 > 0$\n",
    "\n",
    "Alpha = 0.05"
   ]
  },
  {
   "cell_type": "code",
   "execution_count": 2,
   "metadata": {},
   "outputs": [],
   "source": [
    "data33 = pd.read_excel(\"Xr13-33.xlsx\")\n",
    "\n",
    "# 轉換成numpy array\n",
    "sample1 = data33['New'].values\n",
    "sample2 = data33['Existing'].values\n",
    "\n",
    "# 移除nan\n",
    "sample1 = sample1[~np.isnan(sample1)]\n",
    "sample2 = sample2[~np.isnan(sample2)]\n",
    "\n",
    "#自由度計算\n",
    "v1 = sample1.shape[0] - 1\n",
    "v2 = sample2.shape[0] - 1"
   ]
  },
  {
   "cell_type": "code",
   "execution_count": 3,
   "metadata": {},
   "outputs": [
    {
     "data": {
      "image/png": "[encoded data removed]",
      "text/plain": [
       "<Figure size 480x320 with 1 Axes>"
      ]
     },
     "metadata": {
      "needs_background": "light"
     },
     "output_type": "display_data"
    }
   ],
   "source": [
    "fig = plt.hist(sample1, bins = 'auto')\n",
    "plt.title('New')\n",
    "plt.ylabel('Frequency')\n",
    "plt.xlabel('Miles')\n",
    "plt.show()"
   ]
  },
  {
   "cell_type": "code",
   "execution_count": 4,
   "metadata": {},
   "outputs": [
    {
     "data": {
      "image/png": "[encoded data removed]",
      "text/plain": [
       "<Figure size 480x320 with 1 Axes>"
      ]
     },
     "metadata": {
      "needs_background": "light"
     },
     "output_type": "display_data"
    }
   ],
   "source": [
    "fig = plt.hist(sample2, bins = 'auto')\n",
    "plt.title('Existing')\n",
    "plt.ylabel('Frequency')\n",
    "plt.xlabel('Miles')\n",
    "plt.show()"
   ]
  },
  {
   "cell_type": "markdown",
   "metadata": {},
   "source": [
    "Based on the histograms, both samples appear to be normally distributed. \n",
    "\n",
    "t檢定前，先檢驗變異數是否相同  \n",
    "令 $\\sigma_1^2$ 為new的變異數;  $\\sigma_2^2$ 為existing的變異數\n",
    "\n",
    "Null Hypothesis: $\\sigma_1^2 / \\sigma_2^2 = 1$ <br>\n",
    "Alternative Hypothesis: $\\sigma_1^2 / \\sigma_2^2 \\ne 1$  \n",
    "\n",
    "雙尾檢定，alpha = 0.05"
   ]
  },
  {
   "cell_type": "code",
   "execution_count": 5,
   "metadata": {},
   "outputs": [
    {
     "name": "stdout",
     "output_type": "stream",
     "text": [
      "var_ratio (F value) = 1.0732\n",
      "p_value = 0.8792\n"
     ]
    }
   ],
   "source": [
    "var_ratio = stats.describe(sample1).variance / stats.describe(sample2).variance\n",
    "print(f\"var_ratio (F value) = {var_ratio:.4f}\")\n",
    "\n",
    "#stats.f.cdf計算 f 從 0~var_ratio 的機率，此題為雙尾檢定且Ｆvalue>1(右)，須調整為(1-pvalue)*2\n",
    "ptmp = stats.f.cdf(var_ratio, v1, v2)\n",
    "p_value = (1-ptmp)*2\n",
    "print(f\"p_value = {p_value:.4f}\")"
   ]
  },
  {
   "cell_type": "markdown",
   "metadata": {},
   "source": [
    "The p-value is larger than the required 0.05 significance level, there is no sufficient evidence to reject the null hypothesis of $\\sigma_1^2 / \\sigma_2^2 = 1$ <br>\n",
    "As a result, we assume that the two populations have equal variance and apply equal-variance t-test on $\\mu_1 - \\mu_2 = 0$. "
   ]
  },
  {
   "cell_type": "code",
   "execution_count": 6,
   "metadata": {},
   "outputs": [
    {
     "data": {
      "text/html": [
       "<table class=\"simpletable\">\n",
       "<caption>Test for equality of means</caption>\n",
       "<tr>\n",
       "      <td></td>         <th>coef</th>     <th>std err</th>      <th>t</th>      <th>P>|t|</th>  <th>[0.025</th>    <th>0.975]</th>  \n",
       "</tr>\n",
       "<tr>\n",
       "  <th>subset #1</th> <td>    4.4000</td> <td>    4.849</td> <td>    0.907</td> <td> 0.370</td> <td>   -5.416</td> <td>   14.216</td>\n",
       "</tr>\n",
       "</table>"
      ],
      "text/plain": [
       "<class 'statsmodels.iolib.table.SimpleTable'>"
      ]
     },
     "execution_count": 6,
     "metadata": {},
     "output_type": "execute_result"
    }
   ],
   "source": [
    "# t-test using sms.CompareMeans\n",
    "cm = sms.CompareMeans(sms.DescrStatsW(sample1), sms.DescrStatsW(sample2))\n",
    "# usevarstr, ‘pooled’ or ‘unequal’\n",
    "cm.summary(usevar='pooled', alpha = 0.05)"
   ]
  },
  {
   "cell_type": "markdown",
   "metadata": {},
   "source": [
    "Based on the above result, the one-sided p-value 0.370/2 is larger than 0.05. Thus we can not reject the null hypothesis at a significance level of 0.05. \n",
    "\n",
    "Thus, there is not enough evidence to infer that the new design tire lasts longer than the existing design tire."
   ]
  },
  {
   "cell_type": "markdown",
   "metadata": {},
   "source": [
    "### 13.34 (25%)\n",
    "\n",
    "令 $\\mu_1$ 為commission的平均月表現;  $\\mu_2$ 為fixed的平均月表現\n",
    "\n",
    "Null Hypothesis: $\\mu_1 - \\mu_2 <= 0$  \n",
    "Alternative Hypothesis: $\\mu_1 - \\mu_2 > 0$\n",
    "\n",
    "Alpha = 0.05"
   ]
  },
  {
   "cell_type": "code",
   "execution_count": 7,
   "metadata": {},
   "outputs": [],
   "source": [
    "data34 = pd.read_excel(\"Xr13-34.xlsx\")\n",
    "\n",
    "# 轉換成numpy array\n",
    "sample1 = data34['Commission'].values\n",
    "sample2 = data34['Fixed'].values\n",
    "\n",
    "# 移除nan\n",
    "sample1 = sample1[~np.isnan(sample1)]\n",
    "sample2 = sample2[~np.isnan(sample2)]\n",
    "\n",
    "#自由度計算\n",
    "v1 = sample1.shape[0] - 1\n",
    "v2 = sample2.shape[0] - 1"
   ]
  },
  {
   "cell_type": "code",
   "execution_count": 8,
   "metadata": {},
   "outputs": [
    {
     "data": {
      "image/png": "[encoded data removed]",
      "text/plain": [
       "<Figure size 480x320 with 1 Axes>"
      ]
     },
     "metadata": {
      "needs_background": "light"
     },
     "output_type": "display_data"
    }
   ],
   "source": [
    "fig = plt.hist(sample1, bins = 'auto')\n",
    "plt.title('Commission')\n",
    "plt.ylabel('Frequency')\n",
    "plt.xlabel(\"Total dollar in 1 month's sale\")\n",
    "plt.show()"
   ]
  },
  {
   "cell_type": "code",
   "execution_count": 9,
   "metadata": {},
   "outputs": [
    {
     "data": {
      "image/png": "[encoded data removed]",
      "text/plain": [
       "<Figure size 480x320 with 1 Axes>"
      ]
     },
     "metadata": {
      "needs_background": "light"
     },
     "output_type": "display_data"
    }
   ],
   "source": [
    "fig = plt.hist(sample2, bins = 'auto')\n",
    "plt.title('Fixed')\n",
    "plt.ylabel('Frequency')\n",
    "plt.xlabel(\"Total dollar in 1 month's sale\")\n",
    "plt.show()"
   ]
  },
  {
   "cell_type": "markdown",
   "metadata": {},
   "source": [
    "Based on the histograms, both samples appear to be normally distributed. \n",
    "\n",
    "t檢定前，先檢驗變異數是否相同  \n",
    "令 $\\sigma_1^2$ 為commission的變異數;  $\\sigma_2^2$ 為fixed的變異數\n",
    "\n",
    "Null Hypothesis: $\\sigma_1^2 / \\sigma_2^2 = 1$ <br>\n",
    "Alternative Hypothesis: $\\sigma_1^2 / \\sigma_2^2 \\ne 1$  \n",
    "\n",
    "雙尾檢定，alpha = 0.05"
   ]
  },
  {
   "cell_type": "code",
   "execution_count": 10,
   "metadata": {},
   "outputs": [
    {
     "name": "stdout",
     "output_type": "stream",
     "text": [
      "var_ratio (F value) = 1.0481\n",
      "p_value = 0.8252\n"
     ]
    }
   ],
   "source": [
    "var_ratio = stats.describe(sample1).variance / stats.describe(sample2).variance\n",
    "print(f\"var_ratio (F value) = {var_ratio:.4f}\")\n",
    "\n",
    "#stats.f.cdf計算 f 從 0~var_ratio 的機率，此題為雙尾檢定且Ｆvalue>1(右)，須調整為(1-pvalue)*2\n",
    "ptmp = stats.f.cdf(var_ratio, v1, v2)\n",
    "p_value = (1-ptmp)*2\n",
    "print(f\"p_value = {p_value:.4f}\")"
   ]
  },
  {
   "cell_type": "markdown",
   "metadata": {},
   "source": [
    "The p-value is larger than the required 0.05 significance level, there is no sufficient evidence to reject the null hypothesis of $\\sigma_1^2 / \\sigma_2^2 = 1$ <br>\n",
    "As a result, we assume that the two populations have equal variance and apply equal-variance t-test on $\\mu_1 - \\mu_2 = 0$. "
   ]
  },
  {
   "cell_type": "code",
   "execution_count": 11,
   "metadata": {},
   "outputs": [
    {
     "data": {
      "text/html": [
       "<table class=\"simpletable\">\n",
       "<caption>Test for equality of means</caption>\n",
       "<tr>\n",
       "      <td></td>         <th>coef</th>     <th>std err</th>      <th>t</th>      <th>P>|t|</th>  <th>[0.025</th>    <th>0.975]</th>  \n",
       "</tr>\n",
       "<tr>\n",
       "  <th>subset #1</th> <td> 3317.8111</td> <td> 1584.821</td> <td>    2.093</td> <td> 0.038</td> <td>  190.356</td> <td> 6445.266</td>\n",
       "</tr>\n",
       "</table>"
      ],
      "text/plain": [
       "<class 'statsmodels.iolib.table.SimpleTable'>"
      ]
     },
     "execution_count": 11,
     "metadata": {},
     "output_type": "execute_result"
    }
   ],
   "source": [
    "# t-test using sms.CompareMeans\n",
    "cm = sms.CompareMeans(sms.DescrStatsW(sample1), sms.DescrStatsW(sample2))\n",
    "# usevarstr, ‘pooled’ or ‘unequal’\n",
    "cm.summary(usevar='pooled', alpha = 0.05)"
   ]
  },
  {
   "cell_type": "markdown",
   "metadata": {},
   "source": [
    "Based on the above result, the two-sided p-value < 0.05. Thus the one-sided p-value should be less than 0.025. Thus we can reject the null hypothesis at a significance level of 0.05. \n",
    "\n",
    "Thus, there is enough evidence to conclude that commission salespeople outperform fixed-salary salespersons."
   ]
  },
  {
   "cell_type": "markdown",
   "metadata": {},
   "source": [
    "### 13.37 (25%)\n",
    "\n",
    "令 $\\mu_1$ 為after的平均分數;  $\\mu_2$ 為before的平均分數\n",
    "\n",
    "Null Hypothesis: $\\mu_1 - \\mu_2 <= 0$  \n",
    "Alternative Hypothesis: $\\mu_1 - \\mu_2 > 0$\n",
    "\n",
    "Alpha = 0.05"
   ]
  },
  {
   "cell_type": "code",
   "execution_count": 12,
   "metadata": {},
   "outputs": [],
   "source": [
    "data37 = pd.read_excel(\"Xr13-37.xlsx\")\n",
    "\n",
    "# 轉換成numpy array\n",
    "sample1 = data37['After'].values\n",
    "sample2 = data37['Before'].values\n",
    "\n",
    "sample1 = sample1[~np.isnan(sample1)]\n",
    "sample2 = sample2[~np.isnan(sample2)]\n",
    "\n",
    "#自由度計算\n",
    "v1 = sample1.shape[0] - 1\n",
    "v2 = sample2.shape[0] - 1"
   ]
  },
  {
   "cell_type": "code",
   "execution_count": 13,
   "metadata": {},
   "outputs": [
    {
     "data": {
      "image/png": "[encoded data removed]",
      "text/plain": [
       "<Figure size 480x320 with 1 Axes>"
      ]
     },
     "metadata": {
      "needs_background": "light"
     },
     "output_type": "display_data"
    }
   ],
   "source": [
    "fig = plt.hist(sample1, bins = 'auto')\n",
    "plt.title('After')\n",
    "plt.ylabel('Frequency')\n",
    "plt.xlabel('SAT scores')\n",
    "plt.show()"
   ]
  },
  {
   "cell_type": "code",
   "execution_count": 14,
   "metadata": {},
   "outputs": [
    {
     "data": {
      "image/png": "[encoded data removed]",
      "text/plain": [
       "<Figure size 480x320 with 1 Axes>"
      ]
     },
     "metadata": {
      "needs_background": "light"
     },
     "output_type": "display_data"
    }
   ],
   "source": [
    "fig = plt.hist(sample2, bins = 'auto')\n",
    "plt.title('Before')\n",
    "plt.ylabel('Frequency')\n",
    "plt.xlabel('SAT scores')\n",
    "plt.show()"
   ]
  },
  {
   "cell_type": "markdown",
   "metadata": {},
   "source": [
    "Based on the histograms, both samples appear to be normally distributed. \n",
    "\n",
    "t檢定前，先檢驗變異數是否相同  \n",
    "令 $\\sigma_1^2$ 為after的變異數;  $\\sigma_2^2$ 為before的變異數\n",
    "\n",
    "Null Hypothesis: $\\sigma_1^2 / \\sigma_2^2 = 1$ <br>\n",
    "Alternative Hypothesis: $\\sigma_1^2 / \\sigma_2^2 \\ne 1$  \n",
    "\n",
    "雙尾檢定，alpha = 0.05"
   ]
  },
  {
   "cell_type": "code",
   "execution_count": 15,
   "metadata": {},
   "outputs": [
    {
     "name": "stdout",
     "output_type": "stream",
     "text": [
      "var_ratio (F value) = 0.8763\n",
      "p_value = 0.2429\n"
     ]
    }
   ],
   "source": [
    "var_ratio = stats.describe(sample1).variance / stats.describe(sample2).variance\n",
    "print(f\"var_ratio (F value) = {var_ratio:.4f}\")\n",
    "\n",
    "#stats.f.cdf計算 f 從 0~var_ratio 的機率，此題為雙尾檢定且Ｆvalue<1(左)，須調整為pvalue*2\n",
    "ptmp = stats.f.cdf(var_ratio, v1, v2)\n",
    "p_value = ptmp*2\n",
    "print(f\"p_value = {p_value:.4f}\")"
   ]
  },
  {
   "cell_type": "markdown",
   "metadata": {},
   "source": [
    "The p-value is larger than the required 0.05 significance level, there is no sufficient evidence to reject the null hypothesis of $\\sigma_1^2 / \\sigma_2^2 = 1$ <br>\n",
    "As a result, we assume that the two populations have equal variance and apply equal-variance t-test on $\\mu_1 - \\mu_2 = 0$. "
   ]
  },
  {
   "cell_type": "code",
   "execution_count": 16,
   "metadata": {},
   "outputs": [
    {
     "data": {
      "text/html": [
       "<table class=\"simpletable\">\n",
       "<caption>Test for equality of means</caption>\n",
       "<tr>\n",
       "      <td></td>         <th>coef</th>     <th>std err</th>      <th>t</th>      <th>P>|t|</th>  <th>[0.025</th>    <th>0.975]</th>  \n",
       "</tr>\n",
       "<tr>\n",
       "  <th>subset #1</th> <td>   14.4212</td> <td>    5.686</td> <td>    2.536</td> <td> 0.011</td> <td>    3.255</td> <td>   25.588</td>\n",
       "</tr>\n",
       "</table>"
      ],
      "text/plain": [
       "<class 'statsmodels.iolib.table.SimpleTable'>"
      ]
     },
     "execution_count": 16,
     "metadata": {},
     "output_type": "execute_result"
    }
   ],
   "source": [
    "# t-test using sms.CompareMeans\n",
    "cm = sms.CompareMeans(sms.DescrStatsW(sample1), sms.DescrStatsW(sample2))\n",
    "# usevarstr, ‘pooled’ or ‘unequal’\n",
    "cm.summary(usevar='pooled', alpha = 0.05)"
   ]
  },
  {
   "cell_type": "markdown",
   "metadata": {},
   "source": [
    "Based on the above result, the two-sided p-value < 0.05. Thus the one-sided p-value should be less than 0.025. Thus we can reject the null hypothesis at a significance level of 0.05. \n",
    "\n",
    "Thus, there is enough evidence to conclude that SAT scores increased after the change in school start time."
   ]
  },
  {
   "cell_type": "markdown",
   "metadata": {},
   "source": [
    "### 13.115 (25%)\n",
    "\n",
    "令 $\\sigma_1^2$ 為method1的變異數;  $\\sigma_2^2$ 為method2的變異數\n",
    "\n",
    "Null Hypothesis: $\\sigma_1^2 / \\sigma_2^2 = 1$ <br>\n",
    "Alternative Hypothesis: $\\sigma_1^2 / \\sigma_2^2 > 1$  \n",
    "\n",
    "右尾檢定，Alpha = 0.05"
   ]
  },
  {
   "cell_type": "code",
   "execution_count": 17,
   "metadata": {},
   "outputs": [],
   "source": [
    "data115 = pd.read_excel(\"Xr13-115.xlsx\")\n",
    "\n",
    "# 轉換成numpy array\n",
    "sample1 = data115['Method 1'].values\n",
    "sample2 = data115['Method 2'].values\n",
    "\n",
    "# 移除nan\n",
    "sample1 = sample1[~np.isnan(sample1)]\n",
    "sample2 = sample2[~np.isnan(sample2)]\n",
    "\n",
    "#自由度計算\n",
    "v1 = sample1.shape[0] - 1\n",
    "v2 = sample2.shape[0] - 1"
   ]
  },
  {
   "cell_type": "code",
   "execution_count": 18,
   "metadata": {},
   "outputs": [
    {
     "data": {
      "image/png": "[encoded data removed]",
      "text/plain": [
       "<Figure size 480x320 with 1 Axes>"
      ]
     },
     "metadata": {
      "needs_background": "light"
     },
     "output_type": "display_data"
    }
   ],
   "source": [
    "fig = plt.hist(sample1, bins = [8,8.5,9,9.5,10])\n",
    "plt.title('Method 1')\n",
    "plt.ylabel('Frequency')\n",
    "plt.xlabel('seconds')\n",
    "plt.show()"
   ]
  },
  {
   "cell_type": "code",
   "execution_count": 19,
   "metadata": {},
   "outputs": [
    {
     "data": {
      "image/png": "[encoded data removed]",
      "text/plain": [
       "<Figure size 480x320 with 1 Axes>"
      ]
     },
     "metadata": {
      "needs_background": "light"
     },
     "output_type": "display_data"
    }
   ],
   "source": [
    "fig = plt.hist(sample2, bins = [8,8.5,9,9.5,10])\n",
    "plt.title('Method 2')\n",
    "plt.ylabel('Frequency')\n",
    "plt.xlabel('seconds')\n",
    "plt.show()"
   ]
  },
  {
   "cell_type": "markdown",
   "metadata": {},
   "source": [
    "Based on the histograms, both samples appear to be normally distributed. "
   ]
  },
  {
   "cell_type": "code",
   "execution_count": 20,
   "metadata": {},
   "outputs": [
    {
     "name": "stdout",
     "output_type": "stream",
     "text": [
      "var_ratio (F value) = 0.9795\n",
      "p_value = 0.5121\n"
     ]
    }
   ],
   "source": [
    "var_ratio = stats.describe(sample1).variance / stats.describe(sample2).variance\n",
    "print(f\"var_ratio (F value) = {var_ratio:.4f}\")\n",
    "\n",
    "#stats.f.cdf計算 f 從 0~var_ratio 的機率，因此題為右尾檢定，須調整為1-pvalue\n",
    "ptmp = stats.f.cdf(var_ratio, v1, v2)\n",
    "p_value = 1 - ptmp\n",
    "print(f\"p_value = {p_value:.4f}\")"
   ]
  },
  {
   "cell_type": "markdown",
   "metadata": {},
   "source": [
    "The p-value is larger than the required 0.05 significance level, there is no sufficient evidence to reject the null hypothesis of $\\sigma_1^2 / \\sigma_2^2 = 1$ <br>\n",
    "Thus, there is no sufficient evidence at the 5% significance level to conclude that the second method is more consistent than the first one."
   ]
  },
  {
   "cell_type": "markdown",
   "metadata": {},
   "source": [
    "### 13.116 (25%)\n",
    "\n",
    "令 $\\sigma_1^2$ 為class1的變異數;  $\\sigma_2^2$ 為class2的變異數\n",
    "\n",
    "Null Hypothesis: $\\sigma_1^2 / \\sigma_2^2 = 1$ <br>\n",
    "Alternative Hypothesis: $\\sigma_1^2 / \\sigma_2^2 \\ne 1$  \n",
    "\n",
    "雙尾檢定，Alpha = 0.05"
   ]
  },
  {
   "cell_type": "code",
   "execution_count": 21,
   "metadata": {},
   "outputs": [],
   "source": [
    "data116 = pd.read_excel(\"Xr13-116.xlsx\")\n",
    "\n",
    "# 轉換成numpy array\n",
    "sample1 = data116['Class 1'].values\n",
    "sample2 = data116['Class 2'].values\n",
    "\n",
    "# 移除nan\n",
    "sample1 = sample1[~np.isnan(sample1)]\n",
    "sample2 = sample2[~np.isnan(sample2)]\n",
    "\n",
    "#自由度計算\n",
    "v1 = sample1.shape[0] - 1\n",
    "v2 = sample2.shape[0] - 1"
   ]
  },
  {
   "cell_type": "code",
   "execution_count": 22,
   "metadata": {},
   "outputs": [
    {
     "data": {
      "image/png": "[encoded data removed]",
      "text/plain": [
       "<Figure size 480x320 with 1 Axes>"
      ]
     },
     "metadata": {
      "needs_background": "light"
     },
     "output_type": "display_data"
    }
   ],
   "source": [
    "fig = plt.hist(sample1, bins = [40,60,80,100])\n",
    "plt.title('Class 1')\n",
    "plt.ylabel('Frequency')\n",
    "plt.xlabel('score')\n",
    "plt.show()"
   ]
  },
  {
   "cell_type": "code",
   "execution_count": 23,
   "metadata": {},
   "outputs": [
    {
     "data": {
      "image/png": "[encoded data removed]",
      "text/plain": [
       "<Figure size 480x320 with 1 Axes>"
      ]
     },
     "metadata": {
      "needs_background": "light"
     },
     "output_type": "display_data"
    }
   ],
   "source": [
    "fig = plt.hist(sample2, bins = [40,60,80,100])\n",
    "plt.title('Class 2')\n",
    "plt.ylabel('Frequency')\n",
    "plt.xlabel('score')\n",
    "plt.show()"
   ]
  },
  {
   "cell_type": "markdown",
   "metadata": {},
   "source": [
    "Based on the histograms, both samples appear to be normally distributed. "
   ]
  },
  {
   "cell_type": "code",
   "execution_count": 24,
   "metadata": {},
   "outputs": [
    {
     "name": "stdout",
     "output_type": "stream",
     "text": [
      "var_ratio (F value) = 3.2279\n",
      "p_value = 0.0783\n"
     ]
    }
   ],
   "source": [
    "var_ratio = stats.describe(sample1).variance / stats.describe(sample2).variance\n",
    "print(f\"var_ratio (F value) = {var_ratio:.4f}\")\n",
    "\n",
    "#stats.f.cdf計算 f 從 0~var_ratio 的機率，此題為雙尾檢定且Ｆvalue>1(右)，須調整為(1-pvalue)*2\n",
    "ptmp = stats.f.cdf(var_ratio, v1, v2)\n",
    "p_value = (1-ptmp)*2\n",
    "print(f\"p_value = {p_value:.4f}\")"
   ]
  },
  {
   "cell_type": "markdown",
   "metadata": {},
   "source": [
    "The p-value is larger than the required 0.05 significance level, there is no sufficient evidence to reject the null hypothesis of $\\sigma_1^2 / \\sigma_2^2 = 1$ <br>\n",
    "Thus, there is no sufficient evidence at the 5% significance level to conclude that the variences of the marks differ between the two sections."
   ]
  },
  {
   "cell_type": "markdown",
   "metadata": {},
   "source": [
    "### 13.117 (25%)\n",
    "\n",
    "令 $\\sigma_1^2$ 為Week1的變異數;  $\\sigma_2^2$ 為Week2的變異數\n",
    "\n",
    "Null Hypothesis: $\\sigma_1^2 / \\sigma_2^2 = 1$ <br>\n",
    "Alternative Hypothesis: $\\sigma_1^2 / \\sigma_2^2 > 1$  \n",
    "\n",
    "右尾檢定，Alpha = 0.05"
   ]
  },
  {
   "cell_type": "code",
   "execution_count": 25,
   "metadata": {},
   "outputs": [],
   "source": [
    "data117 = pd.read_excel(\"Xr13-117.xlsx\")\n",
    "\n",
    "# 轉換成numpy array\n",
    "sample1 = data117['Week 1'].values\n",
    "sample2 = data117['Week 2'].values\n",
    "\n",
    "# 移除nan\n",
    "sample1 = sample1[~np.isnan(sample1)]\n",
    "sample2 = sample2[~np.isnan(sample2)]\n",
    "\n",
    "#自由度計算\n",
    "v1 = sample1.shape[0] - 1\n",
    "v2 = sample2.shape[0] - 1"
   ]
  },
  {
   "cell_type": "code",
   "execution_count": 26,
   "metadata": {},
   "outputs": [
    {
     "data": {
      "image/png": "[encoded data removed]",
      "text/plain": [
       "<Figure size 480x320 with 1 Axes>"
      ]
     },
     "metadata": {
      "needs_background": "light"
     },
     "output_type": "display_data"
    }
   ],
   "source": [
    "fig = plt.hist(sample1, bins = 'auto')\n",
    "plt.title('Week 1')\n",
    "plt.ylabel('Frequency')\n",
    "plt.xlabel('speeds')\n",
    "plt.show()"
   ]
  },
  {
   "cell_type": "code",
   "execution_count": 27,
   "metadata": {},
   "outputs": [
    {
     "data": {
      "image/png": "[encoded data removed]",
      "text/plain": [
       "<Figure size 480x320 with 1 Axes>"
      ]
     },
     "metadata": {
      "needs_background": "light"
     },
     "output_type": "display_data"
    }
   ],
   "source": [
    "fig = plt.hist(sample2, bins = 'auto')\n",
    "plt.title('Week 2')\n",
    "plt.ylabel('Frequency')\n",
    "plt.xlabel('speeds')\n",
    "plt.show()"
   ]
  },
  {
   "cell_type": "markdown",
   "metadata": {},
   "source": [
    "Based on the histograms, both samples appear to be normally distributed. "
   ]
  },
  {
   "cell_type": "code",
   "execution_count": 28,
   "metadata": {},
   "outputs": [
    {
     "name": "stdout",
     "output_type": "stream",
     "text": [
      "var_ratio (F value) = 1.5261\n",
      "p_value = 0.0183\n"
     ]
    }
   ],
   "source": [
    "var_ratio = stats.describe(sample1).variance / stats.describe(sample2).variance\n",
    "print(f\"var_ratio (F value) = {var_ratio:.4f}\")\n",
    "\n",
    "#stats.f.cdf計算 f 從 0~var_ratio 的機率，因此題為右尾檢定，須調整為1-pvalue\n",
    "ptmp = stats.f.cdf(var_ratio, v1, v2)\n",
    "p_value = 1 - ptmp\n",
    "print(f\"p_value = {p_value:.4f}\")"
   ]
  },
  {
   "cell_type": "markdown",
   "metadata": {},
   "source": [
    "The p-value is less than the required 0.05 significance level, there is sufficient evidence to reject the null hypothesis of $\\sigma_1^2 / \\sigma_2^2 = 1$ <br>\n",
    "Thus, there is sufficient evidence at the 5% significance level to conclude that limiting the minimum and maximum speeds reduces the variation on speeds."
   ]
  }
 ],
 "metadata": {
  "kernelspec": {
   "display_name": "Python 3",
   "language": "python",
   "name": "python3"
  },
  "language_info": {
   "codemirror_mode": {
    "name": "ipython",
    "version": 3
   },
   "file_extension": ".py",
   "mimetype": "text/x-python",
   "name": "python",
   "nbconvert_exporter": "python",
   "pygments_lexer": "ipython3",
   "version": "3.8.5"
  }
 },
 "nbformat": 4,
 "nbformat_minor": 4
}
