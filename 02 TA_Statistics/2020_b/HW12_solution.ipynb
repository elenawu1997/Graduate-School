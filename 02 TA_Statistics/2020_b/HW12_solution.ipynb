{
 "cells": [
  {
   "cell_type": "code",
   "execution_count": 1,
   "metadata": {},
   "outputs": [],
   "source": [
    "#載入所需函示庫\n",
    "\n",
    "#載入所需函示庫\n",
    "from matplotlib import pyplot as plt\n",
    "%matplotlib inline\n",
    "# 設定圖形大小; DPI越大圖越大\n",
    "plt.rcParams[\"figure.dpi\"] = 60\n",
    "import seaborn as sns\n",
    "import pandas as pd\n",
    "import numpy as np\n",
    "import scipy.stats as stats\n",
    "import statsmodels.api as sm\n",
    "import statsmodels.stats.api as sms\n",
    "import statsmodels.formula.api as smf\n",
    "import statsmodels.stats.multicomp as smm\n",
    "import statsmodels.stats.outliers_influence as sso\n",
    "import statsmodels\n",
    "import statistics\n",
    "import math"
   ]
  },
  {
   "cell_type": "code",
   "execution_count": 2,
   "metadata": {},
   "outputs": [],
   "source": [
    "def runsTest(l, l_median): \n",
    "    runs, n1, n2 = 1, 0, 0\n",
    "    if(l[0]) >= l_median:\n",
    "        n1 += 1   \n",
    "    else:\n",
    "        n2 += 1   \n",
    "    for i in range(1, len(l)): \n",
    "        if (l[i] >= l_median and l[i-1] < l_median) or (l[i] < l_median and l[i-1] >= l_median):\n",
    "            runs += 1  \n",
    "        if(l[i]) >= l_median: \n",
    "            n1 += 1   \n",
    "        else: \n",
    "            n2 += 1   \n",
    "    runs_exp = ((2*n1*n2)/(n1+n2)) + 1\n",
    "    stan_dev = math.sqrt((2*n1*n2*(2*n1*n2-n1-n2))/(((n1+n2)**2)*(n1+n2-1))) \n",
    "    z = (runs-runs_exp)/stan_dev\n",
    "    pval_z = stats.norm.sf(abs(z)) * 2\n",
    "    print('runs = ', runs)\n",
    "    print('n1 = ', n1)\n",
    "    print('n2 = ', n2)\n",
    "    print('runs_exp = ', runs_exp)\n",
    "    print('stan_dev = ', stan_dev)\n",
    "    print('z = ', z)\n",
    "    print('pval_z = ', pval_z)\n",
    "    return pval_z"
   ]
  },
  {
   "cell_type": "code",
   "execution_count": 3,
   "metadata": {},
   "outputs": [],
   "source": [
    "def Durbin_Watson_test(x):\n",
    "    x_square_sum = np.vdot(x, x)\n",
    "    print(\"x_square_sum = \", x_square_sum)\n",
    "    size = x.size\n",
    "    print(\"size = \", size)\n",
    "    x_d = np.zeros((size))\n",
    "    print(\"x_d = \", x_d)\n",
    "    l_size = size - 1\n",
    "    for i in range(l_size):\n",
    "        x_d[i + 1] = x[i + 1] - x[i]\n",
    "    print(\"x_d = \", x_d)\n",
    "    d = np.vdot(x_d, x_d) / x_square_sum\n",
    "    print(\"d = \", d)\n",
    "    return(d)"
   ]
  },
  {
   "cell_type": "markdown",
   "metadata": {},
   "source": [
    "### 評分標準：  \n",
    "本次作業因為本週重點在於類別資料的分析，故不要求同學做出前兩週的所有檢定，但同學有寫這部分的話我還是有批改，有問題的部分圈出但不扣分，參考解答也有全部寫出來，可以自行參考。\n",
    "*  18.17: regression model 10%, (b)~(d)各 4%  \n",
    "*  18.21: regression model 10%, (b)~(c)各 4%  \n",
    "*  18.35: regression model 10%, (b)~(c)各 4%  \n",
    "*  18.39: regression model(17.17) 10%, regression model(stepwise) 10%, (b) 4%  \n",
    "*  18.47: regression model 10%, (b) 4%  \n",
    "另外，每題的regression model部分，若散佈圖沒畫或有誤 -3%。  \n",
    "\n",
    "### 常見問題：  \n",
    "1.  independent variable, dependent variable 千萬不要再忘記了，最好一開始就寫，全錯很可惜，期末考沒寫我們也不會手軟會直接給全錯。\n",
    "2.  Run test applying normal dist. 使用時機：n1>20 or n1>20，注意要「大於」，等於的情況還是可以用Run table。\n",
    "3.  Durbin_Watson_test查表要小心，單尾查5%的表、雙尾查2.5%的表，另外也要注意查的表K有沒有includes intercept。\n",
    "4.  針對independent variable的檢定單尾雙尾不同，（可參考18.17(c)(d)），兩種情況的H0H1, pvalue都不同，無法互用，單尾的檢定不可以直接用summary中的pvalue，而是要將其/2才是單尾的pvalue，這次很多單尾的檢定，卻只有少數同學做出來，大家要再多注意題目的意思。\n",
    "5.  請「獨立」完成作業，也不要在那邊東湊西湊，自己理解寫出來考試的時候才會是自己的！"
   ]
  },
  {
   "cell_type": "markdown",
   "metadata": {},
   "source": [
    "# 18.17  \n",
    "X(independent variable) - Yest Att(x1), I1(x2), I2(x3), I3(x4)   \n",
    "y(dependent variable) - Attendence\n",
    "\n",
    "I1 = 1 if weekend, = 0 if not.  \n",
    "I2 = 1 if mostly sunny is predicted, = 0 if not.  \n",
    "I3 = 1 if rain is predicted, = 0 if not."
   ]
  },
  {
   "cell_type": "code",
   "execution_count": 4,
   "metadata": {},
   "outputs": [
    {
     "name": "stdout",
     "output_type": "stream",
     "text": [
      "Dataset(head):\n"
     ]
    },
    {
     "data": {
      "text/html": [
       "<div>\n",
       "<style scoped>\n",
       "    .dataframe tbody tr th:only-of-type {\n",
       "        vertical-align: middle;\n",
       "    }\n",
       "\n",
       "    .dataframe tbody tr th {\n",
       "        vertical-align: top;\n",
       "    }\n",
       "\n",
       "    .dataframe thead th {\n",
       "        text-align: right;\n",
       "    }\n",
       "</style>\n",
       "<table border=\"1\" class=\"dataframe\">\n",
       "  <thead>\n",
       "    <tr style=\"text-align: right;\">\n",
       "      <th></th>\n",
       "      <th>Attendance</th>\n",
       "      <th>Yest Att</th>\n",
       "      <th>I1</th>\n",
       "      <th>I2</th>\n",
       "      <th>I3</th>\n",
       "    </tr>\n",
       "  </thead>\n",
       "  <tbody>\n",
       "    <tr>\n",
       "      <th>0</th>\n",
       "      <td>7882</td>\n",
       "      <td>8876</td>\n",
       "      <td>0</td>\n",
       "      <td>1</td>\n",
       "      <td>0</td>\n",
       "    </tr>\n",
       "    <tr>\n",
       "      <th>1</th>\n",
       "      <td>6115</td>\n",
       "      <td>7203</td>\n",
       "      <td>0</td>\n",
       "      <td>0</td>\n",
       "      <td>0</td>\n",
       "    </tr>\n",
       "    <tr>\n",
       "      <th>2</th>\n",
       "      <td>5351</td>\n",
       "      <td>4370</td>\n",
       "      <td>0</td>\n",
       "      <td>0</td>\n",
       "      <td>0</td>\n",
       "    </tr>\n",
       "    <tr>\n",
       "      <th>3</th>\n",
       "      <td>8546</td>\n",
       "      <td>7192</td>\n",
       "      <td>1</td>\n",
       "      <td>1</td>\n",
       "      <td>0</td>\n",
       "    </tr>\n",
       "    <tr>\n",
       "      <th>4</th>\n",
       "      <td>6022</td>\n",
       "      <td>6835</td>\n",
       "      <td>0</td>\n",
       "      <td>0</td>\n",
       "      <td>0</td>\n",
       "    </tr>\n",
       "  </tbody>\n",
       "</table>\n",
       "</div>"
      ],
      "text/plain": [
       "   Attendance  Yest Att  I1  I2  I3\n",
       "0        7882      8876   0   1   0\n",
       "1        6115      7203   0   0   0\n",
       "2        5351      4370   0   0   0\n",
       "3        8546      7192   1   1   0\n",
       "4        6022      6835   0   0   0"
      ]
     },
     "metadata": {},
     "output_type": "display_data"
    },
    {
     "name": "stdout",
     "output_type": "stream",
     "text": [
      "Dataset(tail):\n"
     ]
    },
    {
     "data": {
      "text/html": [
       "<div>\n",
       "<style scoped>\n",
       "    .dataframe tbody tr th:only-of-type {\n",
       "        vertical-align: middle;\n",
       "    }\n",
       "\n",
       "    .dataframe tbody tr th {\n",
       "        vertical-align: top;\n",
       "    }\n",
       "\n",
       "    .dataframe thead th {\n",
       "        text-align: right;\n",
       "    }\n",
       "</style>\n",
       "<table border=\"1\" class=\"dataframe\">\n",
       "  <thead>\n",
       "    <tr style=\"text-align: right;\">\n",
       "      <th></th>\n",
       "      <th>Attendance</th>\n",
       "      <th>Yest Att</th>\n",
       "      <th>I1</th>\n",
       "      <th>I2</th>\n",
       "      <th>I3</th>\n",
       "    </tr>\n",
       "  </thead>\n",
       "  <tbody>\n",
       "    <tr>\n",
       "      <th>35</th>\n",
       "      <td>6859</td>\n",
       "      <td>3803</td>\n",
       "      <td>1</td>\n",
       "      <td>1</td>\n",
       "      <td>1</td>\n",
       "    </tr>\n",
       "    <tr>\n",
       "      <th>36</th>\n",
       "      <td>6883</td>\n",
       "      <td>7476</td>\n",
       "      <td>1</td>\n",
       "      <td>1</td>\n",
       "      <td>1</td>\n",
       "    </tr>\n",
       "    <tr>\n",
       "      <th>37</th>\n",
       "      <td>8352</td>\n",
       "      <td>7075</td>\n",
       "      <td>1</td>\n",
       "      <td>1</td>\n",
       "      <td>0</td>\n",
       "    </tr>\n",
       "    <tr>\n",
       "      <th>38</th>\n",
       "      <td>9659</td>\n",
       "      <td>8859</td>\n",
       "      <td>1</td>\n",
       "      <td>1</td>\n",
       "      <td>0</td>\n",
       "    </tr>\n",
       "    <tr>\n",
       "      <th>39</th>\n",
       "      <td>5627</td>\n",
       "      <td>7696</td>\n",
       "      <td>0</td>\n",
       "      <td>1</td>\n",
       "      <td>0</td>\n",
       "    </tr>\n",
       "  </tbody>\n",
       "</table>\n",
       "</div>"
      ],
      "text/plain": [
       "    Attendance  Yest Att  I1  I2  I3\n",
       "35        6859      3803   1   1   1\n",
       "36        6883      7476   1   1   1\n",
       "37        8352      7075   1   1   0\n",
       "38        9659      8859   1   1   0\n",
       "39        5627      7696   0   1   0"
      ]
     },
     "metadata": {},
     "output_type": "display_data"
    }
   ],
   "source": [
    "#讀取資料集\n",
    "df = pd.read_excel('Xr18-17.xlsx')\n",
    "print('Dataset(head):')\n",
    "display(df.head())\n",
    "print('Dataset(tail):')\n",
    "display(df.tail())"
   ]
  },
  {
   "cell_type": "code",
   "execution_count": 5,
   "metadata": {},
   "outputs": [
    {
     "data": {
      "image/png": "[encoded data removed]",
      "text/plain": [
       "<Figure size 360x240 with 1 Axes>"
      ]
     },
     "metadata": {
      "needs_background": "light"
     },
     "output_type": "display_data"
    }
   ],
   "source": [
    "df_I10 = df[df.I1 == 0]\n",
    "df_I11 = df[df.I1 == 1]\n",
    "\n",
    "_ = sns.regplot(x='Yest Att', y= 'Attendance', data = df_I10, color = 'green', ci = None)\n",
    "_ = sns.regplot(x='Yest Att', y= 'Attendance', data = df_I11, color = 'orange', ci = None)\n",
    "plt.legend(labels=['I1 = 0', 'I1 = 1'])\n",
    "plt.title('Scatter Plot for Attendance')\n",
    "plt.xlabel('Test Att')\n",
    "plt.ylabel('Attendance')\n",
    "plt.show()"
   ]
  },
  {
   "cell_type": "code",
   "execution_count": 6,
   "metadata": {},
   "outputs": [
    {
     "data": {
      "image/png": "[encoded data removed]",
      "text/plain": [
       "<Figure size 360x240 with 1 Axes>"
      ]
     },
     "metadata": {
      "needs_background": "light"
     },
     "output_type": "display_data"
    }
   ],
   "source": [
    "df_I20 = df[df.I2 == 0]\n",
    "df_I21 = df[df.I2 == 1]\n",
    "\n",
    "_ = sns.regplot(x='Yest Att', y= 'Attendance', data = df_I20, color = 'green', ci = None)\n",
    "_ = sns.regplot(x='Yest Att', y= 'Attendance', data = df_I21, color = 'orange', ci = None)\n",
    "plt.legend(labels=['I2 = 0', 'I2 = 1'])\n",
    "plt.title('Scatter Plot for Attendance')\n",
    "plt.xlabel('Test Att')\n",
    "plt.ylabel('Attendance')\n",
    "plt.show()"
   ]
  },
  {
   "cell_type": "code",
   "execution_count": 7,
   "metadata": {},
   "outputs": [
    {
     "data": {
      "image/png": "[encoded data removed]",
      "text/plain": [
       "<Figure size 360x240 with 1 Axes>"
      ]
     },
     "metadata": {
      "needs_background": "light"
     },
     "output_type": "display_data"
    }
   ],
   "source": [
    "df_I30 = df[df.I3 == 0]\n",
    "df_I31 = df[df.I3 == 1]\n",
    "\n",
    "_ = sns.regplot(x='Yest Att', y= 'Attendance', data = df_I30, color = 'green', ci = None)\n",
    "_ = sns.regplot(x='Yest Att', y= 'Attendance', data = df_I31, color = 'orange', ci = None)\n",
    "plt.legend(labels=['I3 = 0', 'I3 = 1'])\n",
    "plt.title('Scatter Plot for Attendance')\n",
    "plt.xlabel('Test Att')\n",
    "plt.ylabel('Attendance')\n",
    "plt.show()"
   ]
  },
  {
   "cell_type": "code",
   "execution_count": 8,
   "metadata": {},
   "outputs": [
    {
     "data": {
      "image/png": "[encoded data removed]",
      "text/plain": [
       "<Figure size 360x240 with 2 Axes>"
      ]
     },
     "metadata": {
      "needs_background": "light"
     },
     "output_type": "display_data"
    }
   ],
   "source": [
    "corr = df.corr()\n",
    "_ = sns.heatmap(corr, annot=True)"
   ]
  },
  {
   "cell_type": "markdown",
   "metadata": {},
   "source": [
    "Attendance = $\\beta 0 $ + $\\beta 1 $ x1 + $\\beta 2 $ x2 + $\\beta 3 $ x3 + $\\beta 4 $ x4 + $\\epsilon$"
   ]
  },
  {
   "cell_type": "code",
   "execution_count": 9,
   "metadata": {},
   "outputs": [
    {
     "name": "stdout",
     "output_type": "stream",
     "text": [
      "                            OLS Regression Results                            \n",
      "==============================================================================\n",
      "Dep. Variable:             Attendance   R-squared:                       0.700\n",
      "Model:                            OLS   Adj. R-squared:                  0.666\n",
      "Method:                 Least Squares   F-statistic:                     20.43\n",
      "Date:                Sat, 12 Jun 2021   Prob (F-statistic):           9.28e-09\n",
      "Time:                        18:57:13   Log-Likelihood:                -322.01\n",
      "No. Observations:                  40   AIC:                             654.0\n",
      "Df Residuals:                      35   BIC:                             662.5\n",
      "Df Model:                           4                                         \n",
      "Covariance Type:            nonrobust                                         \n",
      "==============================================================================\n",
      "                 coef    std err          t      P>|t|      [0.025      0.975]\n",
      "------------------------------------------------------------------------------\n",
      "const       3490.4666    469.155      7.440      0.000    2538.031    4442.903\n",
      "Yest Att       0.3685      0.078      4.731      0.000       0.210       0.527\n",
      "I1          1623.0958    492.550      3.295      0.002     623.167    2623.025\n",
      "I2           733.4646    394.372      1.860      0.071     -67.153    1534.082\n",
      "I3          -765.5429    484.662     -1.580      0.123   -1749.459     218.373\n",
      "==============================================================================\n",
      "Omnibus:                        0.750   Durbin-Watson:                   1.693\n",
      "Prob(Omnibus):                  0.687   Jarque-Bera (JB):                0.287\n",
      "Skew:                           0.197   Prob(JB):                        0.866\n",
      "Kurtosis:                       3.130   Cond. No.                     3.04e+04\n",
      "==============================================================================\n",
      "\n",
      "Notes:\n",
      "[1] Standard Errors assume that the covariance matrix of the errors is correctly specified.\n",
      "[2] The condition number is large, 3.04e+04. This might indicate that there are\n",
      "strong multicollinearity or other numerical problems.\n"
     ]
    }
   ],
   "source": [
    "y = df['Attendance']\n",
    "xnames = ['Yest Att', 'I1', 'I2', 'I3']\n",
    "X_ar = np.array([df['Yest Att'], df['I1'], df['I2'], df['I3']])\n",
    "X_T =X_ar.T\n",
    "X = pd.DataFrame(X_T,columns = xnames)\n",
    "X = sm.add_constant(X)\n",
    "\n",
    "olsmod = sm.OLS(y, X)\n",
    "result = olsmod.fit()\n",
    "print(result.summary())"
   ]
  },
  {
   "cell_type": "code",
   "execution_count": 10,
   "metadata": {},
   "outputs": [
    {
     "name": "stdout",
     "output_type": "stream",
     "text": [
      "Estimated model: y = 3490.4666 + 0.3685 x1 + 1623.0958 x2 + 733.4646 x3 - 765.5429 x4 "
     ]
    }
   ],
   "source": [
    "print(\"Estimated model: y = %0.4f\" % (result.params[0]), end = ' ')\n",
    "for c, x in zip(result.params[1:], list(range(1,len(xnames)+1))):\n",
    "    print('+', end = '') if c> 0 else print('-', end = '')\n",
    "    print(\" %0.4f x%d \" % (abs(c), x), end = '') "
   ]
  },
  {
   "cell_type": "markdown",
   "metadata": {},
   "source": [
    "### Requirements check. \n",
    "#### Multicollinearity  \n",
    "The correlation between I1&I2 and I1&I3 are larger than 0.7.  \n",
    "And the signs for I3's correlation coefficients and coefficients are different.  \n",
    "Thus, Multicollinearity prolblem exists.  "
   ]
  },
  {
   "cell_type": "code",
   "execution_count": 11,
   "metadata": {},
   "outputs": [],
   "source": [
    "st, data, ss2 = sso.summary_table(result, alpha=0.05)\n",
    "#Predicted value\n",
    "y_pre = data[:, 2]\n",
    "#Studentized Residual\n",
    "SD = data[:, 10]"
   ]
  },
  {
   "cell_type": "markdown",
   "metadata": {},
   "source": [
    "#### Normality\n",
    "H0 : Normal distributed  \n",
    "H1 : Not normal distributed "
   ]
  },
  {
   "cell_type": "code",
   "execution_count": 12,
   "metadata": {},
   "outputs": [
    {
     "name": "stdout",
     "output_type": "stream",
     "text": [
      "Shapiro Test: Statistics=0.978497, p=0.633872\n"
     ]
    }
   ],
   "source": [
    "stat, p = stats.shapiro(SD)\n",
    "print('Shapiro Test: Statistics=%f, p=%f' % (stat, p))"
   ]
  },
  {
   "cell_type": "markdown",
   "metadata": {},
   "source": [
    "Since p-value > alpha = 0.05, we can not reject H0 at significance level at alpha = 0.05.  \n",
    "There is no evidence to show that it is not normally distributed.  \n",
    "#### Homoscedasticity\n",
    "H0 : Homoscedasticity  \n",
    "H1 : Not Homoscedasticity"
   ]
  },
  {
   "cell_type": "code",
   "execution_count": 13,
   "metadata": {},
   "outputs": [
    {
     "data": {
      "image/png": "[encoded data removed]",
      "text/plain": [
       "<Figure size 360x240 with 1 Axes>"
      ]
     },
     "metadata": {
      "needs_background": "light"
     },
     "output_type": "display_data"
    }
   ],
   "source": [
    "plt.plot(y_pre, SD, 'o', color = 'gray')\n",
    "plt.axhline(y=2, color = 'red', lw = 0.8)\n",
    "plt.axhline(y=0, color = 'blue')\n",
    "plt.axhline(y=-2, color = 'red', lw = 0.8)\n",
    "plt.title('Standardized Residual Plot')\n",
    "plt.xlabel('Predicted y value')\n",
    "plt.ylabel('Standardized Residual')\n",
    "plt.show()"
   ]
  },
  {
   "cell_type": "markdown",
   "metadata": {},
   "source": [
    "We do not reject H0. We can assume the variation is constant and the mean is around 0.\n",
    "#### Independence\n",
    "H0 : Independence  \n",
    "H1 : Not independence  "
   ]
  },
  {
   "cell_type": "code",
   "execution_count": 14,
   "metadata": {},
   "outputs": [
    {
     "data": {
      "image/png": "[encoded data removed]",
      "text/plain": [
       "<Figure size 360x240 with 1 Axes>"
      ]
     },
     "metadata": {
      "needs_background": "light"
     },
     "output_type": "display_data"
    },
    {
     "name": "stdout",
     "output_type": "stream",
     "text": [
      "runs =  22\n",
      "n1 =  20\n",
      "n2 =  20\n",
      "runs_exp =  21.0\n",
      "stan_dev =  3.1214723679042464\n",
      "z =  0.3203616377585937\n",
      "pval_z =  0.7486942029213925\n",
      "p_value for Z-statistic=  0.7486942029213925\n"
     ]
    }
   ],
   "source": [
    "Id = data[:, 0]\n",
    "plt.plot(Id, SD, 'o', color = 'gray')\n",
    "plt.axhline(y=0, color = 'blue')\n",
    "plt.axhline(y=2, color = 'red')\n",
    "plt.axhline(y=-2, color = 'red')\n",
    "plt.title('Standardized Residual Plot')\n",
    "plt.xlabel('Observation No.')\n",
    "plt.ylabel('Standardized Residual')\n",
    "plt.show()\n",
    "\n",
    "SD_median = statistics.median(SD)\n",
    "Z_pval = runsTest(SD, SD_median) \n",
    "print('p_value for Z-statistic= ', Z_pval)"
   ]
  },
  {
   "cell_type": "markdown",
   "metadata": {},
   "source": [
    "Since n1<=20 and n2<=20, we check with run table.  \n",
    "lower bound = 14 < runs = 22 < upper bound =28  \n",
    "Thus, there is no evidence to infer the sample is not random selected.  \n",
    "\n",
    "#### Autocorreltaion\n",
    "H0: The data are not first-order correlated  \n",
    "H1: The data are first-order correlated  "
   ]
  },
  {
   "cell_type": "code",
   "execution_count": 15,
   "metadata": {},
   "outputs": [
    {
     "name": "stdout",
     "output_type": "stream",
     "text": [
      "x_square_sum =  39.36649493261561\n",
      "size =  40\n",
      "x_d =  [0. 0. 0. 0. 0. 0. 0. 0. 0. 0. 0. 0. 0. 0. 0. 0. 0. 0. 0. 0. 0. 0. 0. 0.\n",
      " 0. 0. 0. 0. 0. 0. 0. 0. 0. 0. 0. 0. 0. 0. 0. 0.]\n",
      "x_d =  [ 0.         -0.56921112  0.35640705 -0.25110808 -0.05088851  1.5342232\n",
      " -0.70470211 -1.74162452 -0.510848    1.73041635  0.26719856  0.65074066\n",
      " -0.93286967 -0.57254361 -1.30796309 -0.14628656  2.36967812  0.00703774\n",
      " -0.42941924 -0.60433628  0.22199351  0.12051709  1.91911255 -2.5787227\n",
      "  0.04304334  0.66895494  0.46392508 -1.19537446  1.14772331 -1.04943781\n",
      "  0.52244583  2.6986953  -1.32000477 -2.65189714 -0.04932466  1.92217898\n",
      " -1.80761607  1.15772509  0.91653265 -2.71394816]\n",
      "d =  1.7018516662265162\n",
      "1.7018516662265162\n"
     ]
    }
   ],
   "source": [
    "d = Durbin_Watson_test(SD)\n",
    "print(d)"
   ]
  },
  {
   "cell_type": "markdown",
   "metadata": {},
   "source": [
    "size = 40, k = 5(includes intercept), dL = 1.1971, dU = 1.6264  \n",
    "Since dU < d= 1.7018516662265162 < 4-dU, we can not reject H0.  \n",
    "Thus, there is not enough evidence to infer that first order auto-correlation exist."
   ]
  },
  {
   "cell_type": "markdown",
   "metadata": {},
   "source": [
    "#### Outliers "
   ]
  },
  {
   "cell_type": "code",
   "execution_count": 16,
   "metadata": {},
   "outputs": [
    {
     "name": "stdout",
     "output_type": "stream",
     "text": [
      "Outliers by SD = \n",
      "\n",
      "31    2.607494\n",
      "Name: SD, dtype: float64\n"
     ]
    }
   ],
   "source": [
    "df_c = pd.DataFrame(SD,columns = ['SD'])\n",
    "filter = (df_c['SD'] < -2) | (df_c['SD'] > 2)\n",
    "print(\"Outliers by SD = \\n\")\n",
    "print(df_c['SD'].loc[filter])"
   ]
  },
  {
   "cell_type": "markdown",
   "metadata": {},
   "source": [
    "#### Influential Observations"
   ]
  },
  {
   "cell_type": "code",
   "execution_count": 17,
   "metadata": {},
   "outputs": [
    {
     "name": "stdout",
     "output_type": "stream",
     "text": [
      "h_level =  0.375\n",
      " \n",
      "\n",
      "Influential Observations by hi = \n",
      "\n",
      "Series([], Name: hii, dtype: float64)\n"
     ]
    }
   ],
   "source": [
    "X = np.array(X)\n",
    "H = np.matmul(X, np.linalg.solve(np.matmul(X.T, X), X.T))\n",
    "df['hii'] = np.diagonal(H)\n",
    "df_h = pd.DataFrame(df['hii'])\n",
    "k = result.df_model\n",
    "n = len(df_h['hii'])\n",
    "h_level = 3 * (k+1) / n \n",
    "print(\"h_level = \", h_level)\n",
    "print(\" \\n\")\n",
    "filter = (df_h['hii'] > h_level )\n",
    "print(\"Influential Observations by hi = \\n\")\n",
    "print(df_h['hii'].loc[filter])"
   ]
  },
  {
   "cell_type": "code",
   "execution_count": 18,
   "metadata": {},
   "outputs": [
    {
     "name": "stdout",
     "output_type": "stream",
     "text": [
      "Influential Observations by Cook's Distances = \n",
      "\n",
      "Series([], Name: CD, dtype: float64)\n"
     ]
    }
   ],
   "source": [
    "s2_e = result.mse_resid\n",
    "k = result.df_model\n",
    "y_a = data[:, 1]\n",
    "y_f = data[:, 2]\n",
    "h_i = df['hii']\n",
    "CD_arr = np.square(y_a - y_f) / s2_e / (k - 1) * h_i / np.square(1 - h_i)\n",
    "CD = np.array(CD_arr)\n",
    "df_cd = pd.DataFrame(CD,columns = ['CD'])\n",
    "filter = (df_cd['CD'] > 1 )\n",
    "print(\"Influential Observations by Cook's Distances = \\n\")\n",
    "print(df_cd['CD'].loc[filter])"
   ]
  },
  {
   "cell_type": "markdown",
   "metadata": {},
   "source": [
    "### (b)"
   ]
  },
  {
   "cell_type": "code",
   "execution_count": 19,
   "metadata": {},
   "outputs": [
    {
     "name": "stdout",
     "output_type": "stream",
     "text": [
      "Standard errors: 810.7745532288866\n",
      "Y_bar: 6370.025\n"
     ]
    }
   ],
   "source": [
    "print('Standard errors:', result.mse_resid ** 0.5)\n",
    "print('Y_bar:', df[\"Attendance\"].mean())"
   ]
  },
  {
   "cell_type": "markdown",
   "metadata": {},
   "source": [
    "Compared to y_bar, Se is relatively small. Hence our regression model of is good. "
   ]
  },
  {
   "cell_type": "code",
   "execution_count": 20,
   "metadata": {},
   "outputs": [
    {
     "name": "stdout",
     "output_type": "stream",
     "text": [
      "R2: 0.7001779289206772\n",
      "adjusted R2: 0.6659125493687545\n"
     ]
    }
   ],
   "source": [
    "print(\"R2:\", result.rsquared)\n",
    "print(\"adjusted R2:\", result.rsquared_adj)"
   ]
  },
  {
   "cell_type": "markdown",
   "metadata": {},
   "source": [
    "70.02% of the variation in attendance is explained by the model.  \n",
    "| R2 - adjusted R2 | < 0.06, which indicates model doesn't have problem of over-fitting."
   ]
  },
  {
   "cell_type": "markdown",
   "metadata": {},
   "source": [
    "H0 : $\\beta i $  = 0 for i in [1,4]  \n",
    "H1 : exists at least one $\\beta i$  != 0 for i in [1,4]  \n",
    "$\\alpha$ = 0.05"
   ]
  },
  {
   "cell_type": "code",
   "execution_count": 21,
   "metadata": {},
   "outputs": [
    {
     "name": "stdout",
     "output_type": "stream",
     "text": [
      "F-statistics: 20.433975577585297\n",
      "p-value: 9.277499131522486e-09\n"
     ]
    }
   ],
   "source": [
    "print(\"F-statistics:\", result.fvalue)\n",
    "print(\"p-value:\",result.f_pvalue)"
   ]
  },
  {
   "cell_type": "markdown",
   "metadata": {},
   "source": [
    "Since p-value < alpha = 0.05, we reject H0 at significance level at alpha = 0.05.  \n",
    "There is enough evidence to conclude that the model is valid."
   ]
  },
  {
   "cell_type": "markdown",
   "metadata": {},
   "source": [
    "### (c)  \n",
    "H0 : $\\beta i$  = 0 for i in [1,4]  \n",
    "H1 : $\\beta i$  != 0 for i in [1,4]  \n",
    "$\\alpha$ = 0.05"
   ]
  },
  {
   "cell_type": "code",
   "execution_count": 22,
   "metadata": {},
   "outputs": [
    {
     "name": "stdout",
     "output_type": "stream",
     "text": [
      "p-value of Yest Att = 0.0000\n",
      "  Since p-value < alpha = 0.05, we reject H0 at significance level at alpha = 0.05.\n",
      "p-value of I1 = 0.0023\n",
      "  Since p-value < alpha = 0.05, we reject H0 at significance level at alpha = 0.05.\n",
      "p-value of I2 = 0.0713\n",
      "  Since p-value > alpha = 0.05, we can not reject H0 at significance level at alpha = 0.05.\n",
      "p-value of I3 = 0.1232\n",
      "  Since p-value > alpha = 0.05, we can not reject H0 at significance level at alpha = 0.05.\n"
     ]
    }
   ],
   "source": [
    "for x, p in zip(xnames, result.pvalues[1:]):\n",
    "    print(\"p-value of %s = %0.4f\" % (x, p))\n",
    "    if p < 0.05:\n",
    "        print(\"  Since p-value < alpha = 0.05, we reject H0 at significance level at alpha = 0.05.\")\n",
    "    else:\n",
    "        print(\"  Since p-value > alpha = 0.05, we can not reject H0 at significance level at alpha = 0.05.\")"
   ]
  },
  {
   "cell_type": "markdown",
   "metadata": {},
   "source": [
    "Thus, Yesterday Attendance and Weekend arr not are factors in attendance, while weather is not.  \n",
    "### (d)  \n",
    "H0 : $\\beta 2$  = 0   \n",
    "H1 : $\\beta 2$  > 0   \n",
    "$\\alpha$ = 0.05  \n",
    "Since p-value = .0023/2 = .0012 < 0.05, we can reject H0 at significance level at alpha = 0.05.  \n",
    "There is sufficient evidence to infer that weekend attendance is larger than weekday attendance."
   ]
  },
  {
   "cell_type": "markdown",
   "metadata": {},
   "source": [
    "# 18.21   \n",
    "X(independent variable) - Age(x1), I1(x2), I2(x3)   \n",
    "y(dependent variable) - Cost of repairs (assume unit=dollar)\n",
    "\n",
    "I1 = 1 if welding machine, = 0 otherwise  \n",
    "I2 = 1 if lathe, = 0 otherwise  "
   ]
  },
  {
   "cell_type": "code",
   "execution_count": 23,
   "metadata": {},
   "outputs": [
    {
     "name": "stdout",
     "output_type": "stream",
     "text": [
      "Dataset(head):\n"
     ]
    },
    {
     "data": {
      "text/html": [
       "<div>\n",
       "<style scoped>\n",
       "    .dataframe tbody tr th:only-of-type {\n",
       "        vertical-align: middle;\n",
       "    }\n",
       "\n",
       "    .dataframe tbody tr th {\n",
       "        vertical-align: top;\n",
       "    }\n",
       "\n",
       "    .dataframe thead th {\n",
       "        text-align: right;\n",
       "    }\n",
       "</style>\n",
       "<table border=\"1\" class=\"dataframe\">\n",
       "  <thead>\n",
       "    <tr style=\"text-align: right;\">\n",
       "      <th></th>\n",
       "      <th>Repairs</th>\n",
       "      <th>Age</th>\n",
       "      <th>Machine</th>\n",
       "    </tr>\n",
       "  </thead>\n",
       "  <tbody>\n",
       "    <tr>\n",
       "      <th>0</th>\n",
       "      <td>327.67</td>\n",
       "      <td>110</td>\n",
       "      <td>1</td>\n",
       "    </tr>\n",
       "    <tr>\n",
       "      <th>1</th>\n",
       "      <td>376.68</td>\n",
       "      <td>113</td>\n",
       "      <td>1</td>\n",
       "    </tr>\n",
       "    <tr>\n",
       "      <th>2</th>\n",
       "      <td>392.52</td>\n",
       "      <td>114</td>\n",
       "      <td>1</td>\n",
       "    </tr>\n",
       "    <tr>\n",
       "      <th>3</th>\n",
       "      <td>443.14</td>\n",
       "      <td>134</td>\n",
       "      <td>1</td>\n",
       "    </tr>\n",
       "    <tr>\n",
       "      <th>4</th>\n",
       "      <td>342.62</td>\n",
       "      <td>93</td>\n",
       "      <td>1</td>\n",
       "    </tr>\n",
       "  </tbody>\n",
       "</table>\n",
       "</div>"
      ],
      "text/plain": [
       "   Repairs  Age  Machine\n",
       "0   327.67  110        1\n",
       "1   376.68  113        1\n",
       "2   392.52  114        1\n",
       "3   443.14  134        1\n",
       "4   342.62   93        1"
      ]
     },
     "metadata": {},
     "output_type": "display_data"
    },
    {
     "name": "stdout",
     "output_type": "stream",
     "text": [
      "Dataset(tail):\n"
     ]
    },
    {
     "data": {
      "text/html": [
       "<div>\n",
       "<style scoped>\n",
       "    .dataframe tbody tr th:only-of-type {\n",
       "        vertical-align: middle;\n",
       "    }\n",
       "\n",
       "    .dataframe tbody tr th {\n",
       "        vertical-align: top;\n",
       "    }\n",
       "\n",
       "    .dataframe thead th {\n",
       "        text-align: right;\n",
       "    }\n",
       "</style>\n",
       "<table border=\"1\" class=\"dataframe\">\n",
       "  <thead>\n",
       "    <tr style=\"text-align: right;\">\n",
       "      <th></th>\n",
       "      <th>Repairs</th>\n",
       "      <th>Age</th>\n",
       "      <th>Machine</th>\n",
       "    </tr>\n",
       "  </thead>\n",
       "  <tbody>\n",
       "    <tr>\n",
       "      <th>55</th>\n",
       "      <td>363.88</td>\n",
       "      <td>85</td>\n",
       "      <td>3</td>\n",
       "    </tr>\n",
       "    <tr>\n",
       "      <th>56</th>\n",
       "      <td>309.87</td>\n",
       "      <td>84</td>\n",
       "      <td>3</td>\n",
       "    </tr>\n",
       "    <tr>\n",
       "      <th>57</th>\n",
       "      <td>326.90</td>\n",
       "      <td>68</td>\n",
       "      <td>3</td>\n",
       "    </tr>\n",
       "    <tr>\n",
       "      <th>58</th>\n",
       "      <td>292.97</td>\n",
       "      <td>73</td>\n",
       "      <td>3</td>\n",
       "    </tr>\n",
       "    <tr>\n",
       "      <th>59</th>\n",
       "      <td>354.35</td>\n",
       "      <td>89</td>\n",
       "      <td>3</td>\n",
       "    </tr>\n",
       "  </tbody>\n",
       "</table>\n",
       "</div>"
      ],
      "text/plain": [
       "    Repairs  Age  Machine\n",
       "55   363.88   85        3\n",
       "56   309.87   84        3\n",
       "57   326.90   68        3\n",
       "58   292.97   73        3\n",
       "59   354.35   89        3"
      ]
     },
     "metadata": {},
     "output_type": "display_data"
    }
   ],
   "source": [
    "#讀取資料集\n",
    "df = pd.read_excel('Xr18-21.xlsx')\n",
    "print('Dataset(head):')\n",
    "display(df.head())\n",
    "print('Dataset(tail):')\n",
    "display(df.tail())"
   ]
  },
  {
   "cell_type": "code",
   "execution_count": 24,
   "metadata": {},
   "outputs": [
    {
     "data": {
      "image/png": "[encoded data removed]",
      "text/plain": [
       "<Figure size 360x240 with 1 Axes>"
      ]
     },
     "metadata": {
      "needs_background": "light"
     },
     "output_type": "display_data"
    }
   ],
   "source": [
    "df_M1 = df[df.Machine == 1]\n",
    "df_M2 = df[df.Machine == 2]\n",
    "df_M3 = df[df.Machine == 3]\n",
    "\n",
    "_ = sns.regplot(x='Age', y= 'Repairs', data = df_M1, color = 'green', ci = None)\n",
    "_ = sns.regplot(x='Age', y= 'Repairs', data = df_M2, color = 'orange', ci = None)\n",
    "_ = sns.regplot(x='Age', y= 'Repairs', data = df_M3, color = 'red', ci = None)\n",
    "plt.legend(labels=['welding machine', 'lathe', 'stamping machine'])\n",
    "plt.title('Scatter Plot for Cost of repairs')\n",
    "plt.xlabel('Age')\n",
    "plt.ylabel('cost')\n",
    "plt.show()"
   ]
  },
  {
   "cell_type": "code",
   "execution_count": 25,
   "metadata": {},
   "outputs": [],
   "source": [
    "dummy = pd.get_dummies(df['Machine'], prefix = 'I')\n",
    "df = pd.concat([df, dummy], axis = 1)\n",
    "df = df.drop(columns=['Machine', 'I_3'])"
   ]
  },
  {
   "cell_type": "code",
   "execution_count": 26,
   "metadata": {},
   "outputs": [
    {
     "data": {
      "image/png": "[encoded data removed]",
      "text/plain": [
       "<Figure size 360x240 with 2 Axes>"
      ]
     },
     "metadata": {
      "needs_background": "light"
     },
     "output_type": "display_data"
    }
   ],
   "source": [
    "corr = df.corr()\n",
    "_ = sns.heatmap(corr, annot=True)"
   ]
  },
  {
   "cell_type": "markdown",
   "metadata": {},
   "source": [
    "Cost = $\\beta 0 $ + $\\beta 1 $ x1 + $\\beta 2 $ x2 + $\\beta 3 $ x3 + $\\epsilon$"
   ]
  },
  {
   "cell_type": "code",
   "execution_count": 27,
   "metadata": {},
   "outputs": [
    {
     "name": "stdout",
     "output_type": "stream",
     "text": [
      "                            OLS Regression Results                            \n",
      "==============================================================================\n",
      "Dep. Variable:                Repairs   R-squared:                       0.594\n",
      "Model:                            OLS   Adj. R-squared:                  0.572\n",
      "Method:                 Least Squares   F-statistic:                     27.29\n",
      "Date:                Sat, 12 Jun 2021   Prob (F-statistic):           5.24e-11\n",
      "Time:                        18:57:13   Log-Likelihood:                -316.07\n",
      "No. Observations:                  60   AIC:                             640.1\n",
      "Df Residuals:                      56   BIC:                             648.5\n",
      "Df Model:                           3                                         \n",
      "Covariance Type:            nonrobust                                         \n",
      "==============================================================================\n",
      "                 coef    std err          t      P>|t|      [0.025      0.975]\n",
      "------------------------------------------------------------------------------\n",
      "const        119.2521     35.000      3.407      0.001      49.138     189.366\n",
      "Age            2.5382      0.402      6.309      0.000       1.732       3.344\n",
      "I_1          -11.7553     19.702     -0.597      0.553     -51.223      27.712\n",
      "I_2         -199.3737     30.713     -6.492      0.000    -260.899    -137.848\n",
      "==============================================================================\n",
      "Omnibus:                        1.585   Durbin-Watson:                   2.032\n",
      "Prob(Omnibus):                  0.453   Jarque-Bera (JB):                1.153\n",
      "Skew:                           0.338   Prob(JB):                        0.562\n",
      "Kurtosis:                       3.067   Cond. No.                         854.\n",
      "==============================================================================\n",
      "\n",
      "Notes:\n",
      "[1] Standard Errors assume that the covariance matrix of the errors is correctly specified.\n"
     ]
    }
   ],
   "source": [
    "y = df['Repairs']\n",
    "xnames = ['Age', 'I_1', 'I_2']\n",
    "X_ar = np.array([df['Age'], df['I_1'], df['I_2']])\n",
    "X_T =X_ar.T\n",
    "X = pd.DataFrame(X_T,columns = xnames)\n",
    "X = sm.add_constant(X)\n",
    "\n",
    "olsmod = sm.OLS(y, X)\n",
    "result = olsmod.fit()\n",
    "print(result.summary())"
   ]
  },
  {
   "cell_type": "code",
   "execution_count": 28,
   "metadata": {},
   "outputs": [
    {
     "name": "stdout",
     "output_type": "stream",
     "text": [
      "Estimated model: y = 119.2521 + 2.5382 x1 - 11.7553 x2 - 199.3737 x3 "
     ]
    }
   ],
   "source": [
    "print(\"Estimated model: y = %0.4f\" % (result.params[0]), end = ' ')\n",
    "for c, x in zip(result.params[1:], list(range(1,len(xnames)+1))):\n",
    "    print('+', end = '') if c> 0 else print('-', end = '')\n",
    "    print(\" %0.4f x%d \" % (abs(c), x), end = '') "
   ]
  },
  {
   "cell_type": "markdown",
   "metadata": {},
   "source": [
    "### Requirements check. \n",
    "#### Multicollinearity  \n",
    "The correlation between Age&I2 is larger than 0.7.  \n",
    "And the signs for I1's correlation coefficients and coefficients are different.  \n",
    "Thus, Multicollinearity prolblem exists.  "
   ]
  },
  {
   "cell_type": "code",
   "execution_count": 29,
   "metadata": {},
   "outputs": [],
   "source": [
    "st, data, ss2 = sso.summary_table(result, alpha=0.05)\n",
    "#Predicted value\n",
    "y_pre = data[:, 2]\n",
    "#Studentized Residual\n",
    "SD = data[:, 10]"
   ]
  },
  {
   "cell_type": "markdown",
   "metadata": {},
   "source": [
    "#### Normality\n",
    "H0 : Normal distributed  \n",
    "H1 : Not normal distributed "
   ]
  },
  {
   "cell_type": "code",
   "execution_count": 30,
   "metadata": {},
   "outputs": [
    {
     "name": "stdout",
     "output_type": "stream",
     "text": [
      "Shapiro Test: Statistics=0.989116, p=0.871042\n"
     ]
    }
   ],
   "source": [
    "stat, p = stats.shapiro(SD)\n",
    "print('Shapiro Test: Statistics=%f, p=%f' % (stat, p))"
   ]
  },
  {
   "cell_type": "markdown",
   "metadata": {},
   "source": [
    "Since p-value > alpha = 0.05, we can not reject H0 at significance level at alpha = 0.05.  \n",
    "There is no evidence to show that it is not normally distributed.  \n",
    "#### Homoscedasticity\n",
    "H0 : Homoscedasticity  \n",
    "H1 : Not Homoscedasticity"
   ]
  },
  {
   "cell_type": "code",
   "execution_count": 31,
   "metadata": {},
   "outputs": [
    {
     "data": {
      "image/png": "[encoded data removed]",
      "text/plain": [
       "<Figure size 360x240 with 1 Axes>"
      ]
     },
     "metadata": {
      "needs_background": "light"
     },
     "output_type": "display_data"
    }
   ],
   "source": [
    "plt.plot(y_pre, SD, 'o', color = 'gray')\n",
    "plt.axhline(y=2, color = 'red', lw = 0.8)\n",
    "plt.axhline(y=0, color = 'blue')\n",
    "plt.axhline(y=-2, color = 'red', lw = 0.8)\n",
    "plt.title('Standardized Residual Plot')\n",
    "plt.xlabel('Predicted y value')\n",
    "plt.ylabel('Standardized Residual')\n",
    "plt.show()"
   ]
  },
  {
   "cell_type": "markdown",
   "metadata": {},
   "source": [
    "We do not reject H0. We can assume the variation is constant and the mean is around 0.\n",
    "#### Independence\n",
    "H0 : Independence  \n",
    "H1 : Not independence  "
   ]
  },
  {
   "cell_type": "code",
   "execution_count": 32,
   "metadata": {},
   "outputs": [
    {
     "data": {
      "image/png": "[encoded data removed]",
      "text/plain": [
       "<Figure size 360x240 with 1 Axes>"
      ]
     },
     "metadata": {
      "needs_background": "light"
     },
     "output_type": "display_data"
    },
    {
     "name": "stdout",
     "output_type": "stream",
     "text": [
      "runs =  32\n",
      "n1 =  30\n",
      "n2 =  30\n",
      "runs_exp =  31.0\n",
      "stan_dev =  3.8400211863822324\n",
      "z =  0.2604152298810939\n",
      "pval_z =  0.7945434963754624\n",
      "p_value for Z-statistic=  0.7945434963754624\n"
     ]
    }
   ],
   "source": [
    "Id = data[:, 0]\n",
    "plt.plot(Id, SD, 'o', color = 'gray')\n",
    "plt.axhline(y=0, color = 'blue')\n",
    "plt.axhline(y=2, color = 'red')\n",
    "plt.axhline(y=-2, color = 'red')\n",
    "plt.title('Standardized Residual Plot')\n",
    "plt.xlabel('Observation No.')\n",
    "plt.ylabel('Standardized Residual')\n",
    "plt.show()\n",
    "\n",
    "SD_median = statistics.median(SD)\n",
    "Z_pval = runsTest(SD, SD_median) \n",
    "print('p_value for Z-statistic= ', Z_pval)"
   ]
  },
  {
   "cell_type": "markdown",
   "metadata": {},
   "source": [
    "Since n1>20 and n2>20, we apply run test with normal dist.  \n",
    "The p-value>alpha = 0.05, we can not reject H0.  \n",
    "Thus, there is no evidence to infer the sample is not random selected.  \n",
    "\n",
    "#### Autocorreltaion\n",
    "H0: The data are not first-order correlated  \n",
    "H1: The data are first-order correlated  \n"
   ]
  },
  {
   "cell_type": "code",
   "execution_count": 33,
   "metadata": {},
   "outputs": [
    {
     "name": "stdout",
     "output_type": "stream",
     "text": [
      "x_square_sum =  60.11842077837835\n",
      "size =  60\n",
      "x_d =  [0. 0. 0. 0. 0. 0. 0. 0. 0. 0. 0. 0. 0. 0. 0. 0. 0. 0. 0. 0. 0. 0. 0. 0.\n",
      " 0. 0. 0. 0. 0. 0. 0. 0. 0. 0. 0. 0. 0. 0. 0. 0. 0. 0. 0. 0. 0. 0. 0. 0.\n",
      " 0. 0. 0. 0. 0. 0. 0. 0. 0. 0. 0. 0.]\n",
      "x_d =  [ 0.          0.87454011  0.28085902 -0.00454276  0.07609324  0.25398702\n",
      " -1.81041796  0.30069853  1.99487293  0.55311339 -1.03204448 -0.49012031\n",
      "  0.29026697  0.11800072 -1.16194446  2.77070338 -1.40636982  0.42551599\n",
      "  0.46310029 -2.09416886  2.55564051 -2.40112273  0.21558375 -0.2455575\n",
      " -0.29080268  0.82687545  3.02226677 -3.58670327  1.31751873 -2.8096938\n",
      "  0.27807598  1.72234712  0.2853882  -1.40934607  1.70450369  1.27168208\n",
      " -2.18166374  2.04432086 -1.25524725  1.11573896 -0.3212302  -0.73514863\n",
      " -0.0851587  -0.98139955  1.18814266 -0.92468151 -0.54507406 -0.29131719\n",
      "  1.65271041  0.67243514 -1.62357258  2.63830799 -2.54821831  0.42971759\n",
      " -0.67641193  1.42574898 -1.08694076  1.22293707 -0.99104923  0.43962191]\n",
      "d =  2.0295720763963976\n",
      "2.0295720763963976\n"
     ]
    }
   ],
   "source": [
    "d = Durbin_Watson_test(SD)\n",
    "print(d)"
   ]
  },
  {
   "cell_type": "markdown",
   "metadata": {},
   "source": [
    "size = 60, k = 4(includes intercept), dL = 1.4035, dU = 1.6104  \n",
    "Since dU < d= 2.0295720763963976 < 4-dU, we can not reject H0.  \n",
    "Thus, there is not enough evidence to infer that first order auto-correlation exist."
   ]
  },
  {
   "cell_type": "markdown",
   "metadata": {},
   "source": [
    "#### Outliers "
   ]
  },
  {
   "cell_type": "code",
   "execution_count": 34,
   "metadata": {},
   "outputs": [
    {
     "name": "stdout",
     "output_type": "stream",
     "text": [
      "Outliers by SD = \n",
      "\n",
      "26    2.838088\n",
      "29   -2.240791\n",
      "Name: SD, dtype: float64\n"
     ]
    }
   ],
   "source": [
    "df_c = pd.DataFrame(SD,columns = ['SD'])\n",
    "filter = (df_c['SD'] < -2) | (df_c['SD'] > 2)\n",
    "print(\"Outliers by SD = \\n\")\n",
    "print(df_c['SD'].loc[filter])"
   ]
  },
  {
   "cell_type": "markdown",
   "metadata": {},
   "source": [
    "#### Influential Observations"
   ]
  },
  {
   "cell_type": "code",
   "execution_count": 35,
   "metadata": {},
   "outputs": [
    {
     "name": "stdout",
     "output_type": "stream",
     "text": [
      "h_level =  0.2\n",
      " \n",
      "\n",
      "Influential Observations by hi = \n",
      "\n",
      "Series([], Name: hii, dtype: float64)\n"
     ]
    }
   ],
   "source": [
    "X = np.array(X)\n",
    "H = np.matmul(X, np.linalg.solve(np.matmul(X.T, X), X.T))\n",
    "df['hii'] = np.diagonal(H)\n",
    "df_h = pd.DataFrame(df['hii'])\n",
    "k = result.df_model\n",
    "n = len(df_h['hii'])\n",
    "h_level = 3 * (k+1) / n \n",
    "print(\"h_level = \", h_level)\n",
    "print(\" \\n\")\n",
    "filter = (df_h['hii'] > h_level )\n",
    "print(\"Influential Observations by hi = \\n\")\n",
    "print(df_h['hii'].loc[filter])"
   ]
  },
  {
   "cell_type": "code",
   "execution_count": 36,
   "metadata": {},
   "outputs": [
    {
     "name": "stdout",
     "output_type": "stream",
     "text": [
      "Influential Observations by Cook's Distances = \n",
      "\n",
      "Series([], Name: CD, dtype: float64)\n"
     ]
    }
   ],
   "source": [
    "s2_e = result.mse_resid\n",
    "k = result.df_model\n",
    "y_a = data[:, 1]\n",
    "y_f = data[:, 2]\n",
    "h_i = df['hii']\n",
    "CD_arr = np.square(y_a - y_f) / s2_e / (k - 1) * h_i / np.square(1 - h_i)\n",
    "CD = np.array(CD_arr)\n",
    "df_cd = pd.DataFrame(CD,columns = ['CD'])\n",
    "filter = (df_cd['CD'] > 1 )\n",
    "print(\"Influential Observations by Cook's Distances = \\n\")\n",
    "print(df_cd['CD'].loc[filter])"
   ]
  },
  {
   "cell_type": "markdown",
   "metadata": {},
   "source": [
    "### (b)  \n",
    "b1 = 2.54; in this sample for each additional month repair costs increase on average by 2.54(dollars) provided that the other variable remains constant.  \n",
    "b2 = –11.76; in this sample welding machines cost on average 11.76(dollars) less to repair than stamping machines for the same age of machine.   \n",
    "b3 = –199.4; in this sample lathes cost on average 199.40(dollars) less to repair than stamping machines for the same age of machine.   "
   ]
  },
  {
   "cell_type": "markdown",
   "metadata": {},
   "source": [
    "### (c)  \n",
    "H0 : $\\beta 2$  = 0   \n",
    "H1 : $\\beta 2$  < 0   \n",
    "$\\alpha$ = 0.05  \n",
    "Since p-value .553/2 = .2765, we can not reject H0 at significance level at alpha = 0.05.  \n",
    "There is no evidence to infer that welding machines cost less to repair than stamping machines.  \n",
    "Moreover, the signs for I1's correlation coefficients and coefficients are different.  \n",
    "Thus, the interpretation of the coefficient is doubtful."
   ]
  },
  {
   "cell_type": "markdown",
   "metadata": {},
   "source": [
    "# 18.35  \n",
    "X(independent variable) - Score(x1), Gender(x2)   \n",
    "y(dependent variable) - Pay Rate"
   ]
  },
  {
   "cell_type": "code",
   "execution_count": 37,
   "metadata": {},
   "outputs": [
    {
     "data": {
      "text/html": [
       "<div>\n",
       "<style scoped>\n",
       "    .dataframe tbody tr th:only-of-type {\n",
       "        vertical-align: middle;\n",
       "    }\n",
       "\n",
       "    .dataframe tbody tr th {\n",
       "        vertical-align: top;\n",
       "    }\n",
       "\n",
       "    .dataframe thead th {\n",
       "        text-align: right;\n",
       "    }\n",
       "</style>\n",
       "<table border=\"1\" class=\"dataframe\">\n",
       "  <thead>\n",
       "    <tr style=\"text-align: right;\">\n",
       "      <th></th>\n",
       "      <th>Unnamed: 2</th>\n",
       "      <th>Unnamed: 3</th>\n",
       "      <th>Unnamed: 4</th>\n",
       "      <th>Unnamed: 5</th>\n",
       "      <th>Unnamed: 6</th>\n",
       "      <th>Unnamed: 7</th>\n",
       "      <th>Unnamed: 8</th>\n",
       "      <th>Unnamed: 9</th>\n",
       "    </tr>\n",
       "  </thead>\n",
       "  <tbody>\n",
       "    <tr>\n",
       "      <th>2</th>\n",
       "      <td>1</td>\n",
       "      <td>2</td>\n",
       "      <td>3</td>\n",
       "      <td>9</td>\n",
       "      <td>1</td>\n",
       "      <td>6</td>\n",
       "      <td>4</td>\n",
       "      <td>2</td>\n",
       "    </tr>\n",
       "    <tr>\n",
       "      <th>3</th>\n",
       "      <td>2</td>\n",
       "      <td>7</td>\n",
       "      <td>1</td>\n",
       "      <td>7</td>\n",
       "      <td>2</td>\n",
       "      <td>7</td>\n",
       "      <td>7</td>\n",
       "      <td>2</td>\n",
       "    </tr>\n",
       "    <tr>\n",
       "      <th>4</th>\n",
       "      <td>2</td>\n",
       "      <td>3</td>\n",
       "      <td>1</td>\n",
       "      <td>8</td>\n",
       "      <td>2</td>\n",
       "      <td>6</td>\n",
       "      <td>7</td>\n",
       "      <td>2</td>\n",
       "    </tr>\n",
       "    <tr>\n",
       "      <th>5</th>\n",
       "      <td>7</td>\n",
       "      <td>1</td>\n",
       "      <td>6</td>\n",
       "      <td>4</td>\n",
       "      <td>7</td>\n",
       "      <td>3</td>\n",
       "      <td>2</td>\n",
       "      <td>5</td>\n",
       "    </tr>\n",
       "    <tr>\n",
       "      <th>6</th>\n",
       "      <td>7</td>\n",
       "      <td>4</td>\n",
       "      <td>8</td>\n",
       "      <td>1</td>\n",
       "      <td>5</td>\n",
       "      <td>1</td>\n",
       "      <td>1</td>\n",
       "      <td>6</td>\n",
       "    </tr>\n",
       "  </tbody>\n",
       "</table>\n",
       "</div>"
      ],
      "text/plain": [
       "  Unnamed: 2 Unnamed: 3 Unnamed: 4 Unnamed: 5 Unnamed: 6 Unnamed: 7  \\\n",
       "2          1          2          3          9          1          6   \n",
       "3          2          7          1          7          2          7   \n",
       "4          2          3          1          8          2          6   \n",
       "5          7          1          6          4          7          3   \n",
       "6          7          4          8          1          5          1   \n",
       "\n",
       "  Unnamed: 8 Unnamed: 9  \n",
       "2          4          2  \n",
       "3          7          2  \n",
       "4          7          2  \n",
       "5          2          5  \n",
       "6          1          6  "
      ]
     },
     "execution_count": 37,
     "metadata": {},
     "output_type": "execute_result"
    }
   ],
   "source": [
    "#讀取資料集\n",
    "score = pd.read_excel('Pay Equity.xls')\n",
    "score = score.iloc[2:7, 2:10]\n",
    "weight = [0.15, 0.23, 0.22, 0.15, 0.25]\n",
    "score"
   ]
  },
  {
   "cell_type": "code",
   "execution_count": 38,
   "metadata": {},
   "outputs": [
    {
     "name": "stdout",
     "output_type": "stream",
     "text": [
      "[3.85 3.72 3.8 5.569999999999999 3.35 4.53 4.3 3.45]\n"
     ]
    }
   ],
   "source": [
    "s = score.values.T*weight\n",
    "Total_score = s.sum(axis=1)\n",
    "print(Total_score)"
   ]
  },
  {
   "cell_type": "code",
   "execution_count": 39,
   "metadata": {},
   "outputs": [
    {
     "data": {
      "text/html": [
       "<div>\n",
       "<style scoped>\n",
       "    .dataframe tbody tr th:only-of-type {\n",
       "        vertical-align: middle;\n",
       "    }\n",
       "\n",
       "    .dataframe tbody tr th {\n",
       "        vertical-align: top;\n",
       "    }\n",
       "\n",
       "    .dataframe thead th {\n",
       "        text-align: right;\n",
       "    }\n",
       "</style>\n",
       "<table border=\"1\" class=\"dataframe\">\n",
       "  <thead>\n",
       "    <tr style=\"text-align: right;\">\n",
       "      <th></th>\n",
       "      <th>Pay Rate</th>\n",
       "      <th>Score</th>\n",
       "      <th>Gender</th>\n",
       "    </tr>\n",
       "  </thead>\n",
       "  <tbody>\n",
       "    <tr>\n",
       "      <th>0</th>\n",
       "      <td>13.55</td>\n",
       "      <td>3.85</td>\n",
       "      <td>1.0</td>\n",
       "    </tr>\n",
       "    <tr>\n",
       "      <th>1</th>\n",
       "      <td>15.65</td>\n",
       "      <td>3.72</td>\n",
       "      <td>1.0</td>\n",
       "    </tr>\n",
       "    <tr>\n",
       "      <th>2</th>\n",
       "      <td>13.80</td>\n",
       "      <td>3.80</td>\n",
       "      <td>1.0</td>\n",
       "    </tr>\n",
       "    <tr>\n",
       "      <th>3</th>\n",
       "      <td>19.90</td>\n",
       "      <td>5.57</td>\n",
       "      <td>1.0</td>\n",
       "    </tr>\n",
       "    <tr>\n",
       "      <th>4</th>\n",
       "      <td>11.85</td>\n",
       "      <td>3.35</td>\n",
       "      <td>0.0</td>\n",
       "    </tr>\n",
       "    <tr>\n",
       "      <th>5</th>\n",
       "      <td>14.75</td>\n",
       "      <td>4.53</td>\n",
       "      <td>0.0</td>\n",
       "    </tr>\n",
       "    <tr>\n",
       "      <th>6</th>\n",
       "      <td>18.90</td>\n",
       "      <td>4.30</td>\n",
       "      <td>0.0</td>\n",
       "    </tr>\n",
       "    <tr>\n",
       "      <th>7</th>\n",
       "      <td>13.30</td>\n",
       "      <td>3.45</td>\n",
       "      <td>0.0</td>\n",
       "    </tr>\n",
       "  </tbody>\n",
       "</table>\n",
       "</div>"
      ],
      "text/plain": [
       "   Pay Rate  Score  Gender\n",
       "0     13.55   3.85     1.0\n",
       "1     15.65   3.72     1.0\n",
       "2     13.80   3.80     1.0\n",
       "3     19.90   5.57     1.0\n",
       "4     11.85   3.35     0.0\n",
       "5     14.75   4.53     0.0\n",
       "6     18.90   4.30     0.0\n",
       "7     13.30   3.45     0.0"
      ]
     },
     "execution_count": 39,
     "metadata": {},
     "output_type": "execute_result"
    }
   ],
   "source": [
    "df = pd.read_excel('Pay Equity.xls')\n",
    "df =df.iloc[10:18, 1:4].reset_index(drop=True)\n",
    "df.columns = ['Pay Rate', 'Score', 'Gender']\n",
    "df['Score'] = Total_score\n",
    "df = df.astype(float)\n",
    "df"
   ]
  },
  {
   "cell_type": "code",
   "execution_count": 40,
   "metadata": {},
   "outputs": [
    {
     "data": {
      "image/png": "[encoded data removed]",
      "text/plain": [
       "<Figure size 360x240 with 1 Axes>"
      ]
     },
     "metadata": {
      "needs_background": "light"
     },
     "output_type": "display_data"
    }
   ],
   "source": [
    "df_I10 = df[df.Gender == 0]\n",
    "df_I11 = df[df.Gender == 1]\n",
    "\n",
    "_ = sns.regplot(x='Score', y= 'Pay Rate', data = df_I10, color = 'green', ci = None)\n",
    "_ = sns.regplot(x='Score', y= 'Pay Rate', data = df_I11, color = 'orange', ci = None)\n",
    "plt.legend(labels=['Male dominated job', 'Female dominated job'])\n",
    "plt.title('Scatter Plot for Pay Rate')\n",
    "plt.xlabel('Score')\n",
    "plt.ylabel('Pay Rate')\n",
    "plt.show()"
   ]
  },
  {
   "cell_type": "code",
   "execution_count": 41,
   "metadata": {},
   "outputs": [
    {
     "data": {
      "image/png": "[encoded data removed]",
      "text/plain": [
       "<Figure size 360x240 with 2 Axes>"
      ]
     },
     "metadata": {
      "needs_background": "light"
     },
     "output_type": "display_data"
    }
   ],
   "source": [
    "corr = df.corr()\n",
    "_ = sns.heatmap(corr, annot=True)"
   ]
  },
  {
   "cell_type": "markdown",
   "metadata": {},
   "source": [
    "Pay Rate = $\\beta 0 $ + $\\beta 1 $ x1 + $\\beta 2 $ x2 + $\\epsilon$"
   ]
  },
  {
   "cell_type": "code",
   "execution_count": 42,
   "metadata": {},
   "outputs": [
    {
     "name": "stdout",
     "output_type": "stream",
     "text": [
      "                            OLS Regression Results                            \n",
      "==============================================================================\n",
      "Dep. Variable:               Pay Rate   R-squared:                       0.691\n",
      "Model:                            OLS   Adj. R-squared:                  0.567\n",
      "Method:                 Least Squares   F-statistic:                     5.583\n",
      "Date:                Sat, 12 Jun 2021   Prob (F-statistic):             0.0532\n",
      "Time:                        18:57:14   Log-Likelihood:                -14.420\n",
      "No. Observations:                   8   AIC:                             34.84\n",
      "Df Residuals:                       5   BIC:                             35.08\n",
      "Df Model:                           2                                         \n",
      "Covariance Type:            nonrobust                                         \n",
      "==============================================================================\n",
      "                 coef    std err          t      P>|t|      [0.025      0.975]\n",
      "------------------------------------------------------------------------------\n",
      "const          2.0067      4.016      0.500      0.638      -8.316      12.329\n",
      "Score          3.2484      1.000      3.249      0.023       0.678       5.819\n",
      "Gender        -0.0389      1.353     -0.029      0.978      -3.516       3.439\n",
      "==============================================================================\n",
      "Omnibus:                        1.950   Durbin-Watson:                   2.590\n",
      "Prob(Omnibus):                  0.377   Jarque-Bera (JB):                0.835\n",
      "Skew:                           0.767   Prob(JB):                        0.659\n",
      "Kurtosis:                       2.609   Cond. No.                         26.9\n",
      "==============================================================================\n",
      "\n",
      "Notes:\n",
      "[1] Standard Errors assume that the covariance matrix of the errors is correctly specified.\n"
     ]
    },
    {
     "name": "stderr",
     "output_type": "stream",
     "text": [
      "/Users/wuyunwei/opt/anaconda3/lib/python3.8/site-packages/scipy/stats/stats.py:1603: UserWarning: kurtosistest only valid for n>=20 ... continuing anyway, n=8\n",
      "  warnings.warn(\"kurtosistest only valid for n>=20 ... continuing \"\n"
     ]
    }
   ],
   "source": [
    "y = df['Pay Rate']\n",
    "xnames = ['Score', 'Gender']\n",
    "X_ar = np.array([df['Score'], df['Gender']])\n",
    "X_T =X_ar.T\n",
    "X = pd.DataFrame(X_T,columns = xnames)\n",
    "X = sm.add_constant(X)\n",
    "\n",
    "olsmod = sm.OLS(y, X)\n",
    "result = olsmod.fit()\n",
    "print(result.summary())"
   ]
  },
  {
   "cell_type": "code",
   "execution_count": 43,
   "metadata": {},
   "outputs": [
    {
     "name": "stdout",
     "output_type": "stream",
     "text": [
      "Estimated model: y = 2.0067 + 3.2484 x1 - 0.0389 x2 "
     ]
    }
   ],
   "source": [
    "print(\"Estimated model: y = %0.4f\" % (result.params[0]), end = ' ')\n",
    "for c, x in zip(result.params[1:], list(range(1,len(xnames)+1))):\n",
    "    print('+', end = '') if c> 0 else print('-', end = '')\n",
    "    print(\" %0.4f x%d \" % (abs(c), x), end = '') "
   ]
  },
  {
   "cell_type": "markdown",
   "metadata": {},
   "source": [
    "### Requirements check. \n",
    "The sample size = 8 is too small for building a model with two independent variables.  "
   ]
  },
  {
   "cell_type": "markdown",
   "metadata": {},
   "source": [
    "### (b)  \n",
    "In this case male–dominated jobs are paid on average $.039 (3.9 cents) less than female–dominated jobs after adjusting for the value of each job. \n",
    "### (c)\n",
    "合理都給分"
   ]
  },
  {
   "cell_type": "markdown",
   "metadata": {},
   "source": [
    "# 18.39  \n",
    "X(independent variable) - Number(x1), Nearest(x2), Office Space(x3), Enrollment(x4), Income(x5), Distance(x6)   \n",
    "x1 = Total number of motel and hotel rooms within 3 ,iles of La Quinta inn.  \n",
    "x2 = # of miles to closet competition. \n",
    "x3 = Office space in thousands of square feet in surrounding community.  \n",
    "x4 = College and university enrollment (in thousands) in nearby university or college.  \n",
    "x5 = Median household income(in $thousands) in surrounding community.  \n",
    "x6 = Distance(in miles) to downtown core.   \n",
    "y(dependent variable) - Margin(%)"
   ]
  },
  {
   "cell_type": "code",
   "execution_count": 44,
   "metadata": {},
   "outputs": [
    {
     "name": "stdout",
     "output_type": "stream",
     "text": [
      "Dataset(head):\n"
     ]
    },
    {
     "data": {
      "text/html": [
       "<div>\n",
       "<style scoped>\n",
       "    .dataframe tbody tr th:only-of-type {\n",
       "        vertical-align: middle;\n",
       "    }\n",
       "\n",
       "    .dataframe tbody tr th {\n",
       "        vertical-align: top;\n",
       "    }\n",
       "\n",
       "    .dataframe thead th {\n",
       "        text-align: right;\n",
       "    }\n",
       "</style>\n",
       "<table border=\"1\" class=\"dataframe\">\n",
       "  <thead>\n",
       "    <tr style=\"text-align: right;\">\n",
       "      <th></th>\n",
       "      <th>Margin</th>\n",
       "      <th>Number</th>\n",
       "      <th>Nearest</th>\n",
       "      <th>Office_Space</th>\n",
       "      <th>Enrollment</th>\n",
       "      <th>Income</th>\n",
       "      <th>Distance</th>\n",
       "    </tr>\n",
       "  </thead>\n",
       "  <tbody>\n",
       "    <tr>\n",
       "      <th>0</th>\n",
       "      <td>55.5</td>\n",
       "      <td>3203</td>\n",
       "      <td>4.2</td>\n",
       "      <td>549</td>\n",
       "      <td>8.0</td>\n",
       "      <td>37</td>\n",
       "      <td>2.7</td>\n",
       "    </tr>\n",
       "    <tr>\n",
       "      <th>1</th>\n",
       "      <td>33.8</td>\n",
       "      <td>2810</td>\n",
       "      <td>2.8</td>\n",
       "      <td>496</td>\n",
       "      <td>17.5</td>\n",
       "      <td>35</td>\n",
       "      <td>14.4</td>\n",
       "    </tr>\n",
       "    <tr>\n",
       "      <th>2</th>\n",
       "      <td>49.0</td>\n",
       "      <td>2890</td>\n",
       "      <td>2.4</td>\n",
       "      <td>254</td>\n",
       "      <td>20.0</td>\n",
       "      <td>35</td>\n",
       "      <td>2.6</td>\n",
       "    </tr>\n",
       "    <tr>\n",
       "      <th>3</th>\n",
       "      <td>31.9</td>\n",
       "      <td>3422</td>\n",
       "      <td>3.3</td>\n",
       "      <td>434</td>\n",
       "      <td>15.5</td>\n",
       "      <td>38</td>\n",
       "      <td>12.1</td>\n",
       "    </tr>\n",
       "    <tr>\n",
       "      <th>4</th>\n",
       "      <td>57.4</td>\n",
       "      <td>2687</td>\n",
       "      <td>0.9</td>\n",
       "      <td>678</td>\n",
       "      <td>15.5</td>\n",
       "      <td>42</td>\n",
       "      <td>6.9</td>\n",
       "    </tr>\n",
       "  </tbody>\n",
       "</table>\n",
       "</div>"
      ],
      "text/plain": [
       "   Margin  Number  Nearest  Office_Space  Enrollment  Income  Distance\n",
       "0    55.5    3203      4.2           549         8.0      37       2.7\n",
       "1    33.8    2810      2.8           496        17.5      35      14.4\n",
       "2    49.0    2890      2.4           254        20.0      35       2.6\n",
       "3    31.9    3422      3.3           434        15.5      38      12.1\n",
       "4    57.4    2687      0.9           678        15.5      42       6.9"
      ]
     },
     "metadata": {},
     "output_type": "display_data"
    },
    {
     "name": "stdout",
     "output_type": "stream",
     "text": [
      "Dataset(tail):\n"
     ]
    },
    {
     "data": {
      "text/html": [
       "<div>\n",
       "<style scoped>\n",
       "    .dataframe tbody tr th:only-of-type {\n",
       "        vertical-align: middle;\n",
       "    }\n",
       "\n",
       "    .dataframe tbody tr th {\n",
       "        vertical-align: top;\n",
       "    }\n",
       "\n",
       "    .dataframe thead th {\n",
       "        text-align: right;\n",
       "    }\n",
       "</style>\n",
       "<table border=\"1\" class=\"dataframe\">\n",
       "  <thead>\n",
       "    <tr style=\"text-align: right;\">\n",
       "      <th></th>\n",
       "      <th>Margin</th>\n",
       "      <th>Number</th>\n",
       "      <th>Nearest</th>\n",
       "      <th>Office_Space</th>\n",
       "      <th>Enrollment</th>\n",
       "      <th>Income</th>\n",
       "      <th>Distance</th>\n",
       "    </tr>\n",
       "  </thead>\n",
       "  <tbody>\n",
       "    <tr>\n",
       "      <th>95</th>\n",
       "      <td>53.4</td>\n",
       "      <td>2772</td>\n",
       "      <td>0.8</td>\n",
       "      <td>622</td>\n",
       "      <td>14.5</td>\n",
       "      <td>45</td>\n",
       "      <td>11.3</td>\n",
       "    </tr>\n",
       "    <tr>\n",
       "      <th>96</th>\n",
       "      <td>35.9</td>\n",
       "      <td>2786</td>\n",
       "      <td>1.9</td>\n",
       "      <td>511</td>\n",
       "      <td>15.5</td>\n",
       "      <td>37</td>\n",
       "      <td>8.5</td>\n",
       "    </tr>\n",
       "    <tr>\n",
       "      <th>97</th>\n",
       "      <td>40.0</td>\n",
       "      <td>3397</td>\n",
       "      <td>1.6</td>\n",
       "      <td>855</td>\n",
       "      <td>19.5</td>\n",
       "      <td>32</td>\n",
       "      <td>3.1</td>\n",
       "    </tr>\n",
       "    <tr>\n",
       "      <th>98</th>\n",
       "      <td>39.8</td>\n",
       "      <td>3823</td>\n",
       "      <td>3.6</td>\n",
       "      <td>202</td>\n",
       "      <td>17.0</td>\n",
       "      <td>38</td>\n",
       "      <td>4.8</td>\n",
       "    </tr>\n",
       "    <tr>\n",
       "      <th>99</th>\n",
       "      <td>35.2</td>\n",
       "      <td>3251</td>\n",
       "      <td>1.7</td>\n",
       "      <td>275</td>\n",
       "      <td>13.0</td>\n",
       "      <td>35</td>\n",
       "      <td>4.3</td>\n",
       "    </tr>\n",
       "  </tbody>\n",
       "</table>\n",
       "</div>"
      ],
      "text/plain": [
       "    Margin  Number  Nearest  Office_Space  Enrollment  Income  Distance\n",
       "95    53.4    2772      0.8           622        14.5      45      11.3\n",
       "96    35.9    2786      1.9           511        15.5      37       8.5\n",
       "97    40.0    3397      1.6           855        19.5      32       3.1\n",
       "98    39.8    3823      3.6           202        17.0      38       4.8\n",
       "99    35.2    3251      1.7           275        13.0      35       4.3"
      ]
     },
     "metadata": {},
     "output_type": "display_data"
    }
   ],
   "source": [
    "#讀取資料集\n",
    "df = pd.read_excel('Xr17-17.xlsx')\n",
    "df = df.rename(columns={'Office Space': 'Office_Space'})\n",
    "print('Dataset(head):')\n",
    "display(df.head())\n",
    "print('Dataset(tail):')\n",
    "display(df.tail())"
   ]
  },
  {
   "cell_type": "code",
   "execution_count": 45,
   "metadata": {},
   "outputs": [
    {
     "data": {
      "image/png": "[encoded data removed]",
      "text/plain": [
       "<Figure size 360x240 with 1 Axes>"
      ]
     },
     "metadata": {
      "needs_background": "light"
     },
     "output_type": "display_data"
    },
    {
     "data": {
      "image/png": "[encoded data removed]",
      "text/plain": [
       "<Figure size 360x240 with 1 Axes>"
      ]
     },
     "metadata": {
      "needs_background": "light"
     },
     "output_type": "display_data"
    },
    {
     "data": {
      "image/png": "[encoded data removed]",
      "text/plain": [
       "<Figure size 360x240 with 1 Axes>"
      ]
     },
     "metadata": {
      "needs_background": "light"
     },
     "output_type": "display_data"
    },
    {
     "data": {
      "image/png": "[encoded data removed]",
      "text/plain": [
       "<Figure size 360x240 with 1 Axes>"
      ]
     },
     "metadata": {
      "needs_background": "light"
     },
     "output_type": "display_data"
    },
    {
     "data": {
      "image/png": "[encoded data removed]",
      "text/plain": [
       "<Figure size 360x240 with 1 Axes>"
      ]
     },
     "metadata": {
      "needs_background": "light"
     },
     "output_type": "display_data"
    },
    {
     "data": {
      "image/png": "[encoded data removed]",
      "text/plain": [
       "<Figure size 360x240 with 1 Axes>"
      ]
     },
     "metadata": {
      "needs_background": "light"
     },
     "output_type": "display_data"
    }
   ],
   "source": [
    "y_var = df['Margin'].values\n",
    "xnames = ['Number', 'Nearest', 'Office_Space', 'Enrollment', 'Income', 'Distance']\n",
    "for aname in xnames:\n",
    "    x_var = df[aname].values\n",
    "    _ = sns.regplot(x = x_var, y = y_var, data = df, color = 'b', ci = None)\n",
    "    plt.title('Scatter Plot for Margin')\n",
    "    plt.xlabel(aname)\n",
    "    plt.ylabel('Margin')\n",
    "    plt.show()"
   ]
  },
  {
   "cell_type": "code",
   "execution_count": 46,
   "metadata": {},
   "outputs": [
    {
     "data": {
      "image/png": "[encoded data removed]",
      "text/plain": [
       "<Figure size 360x240 with 2 Axes>"
      ]
     },
     "metadata": {
      "needs_background": "light"
     },
     "output_type": "display_data"
    }
   ],
   "source": [
    "corr = df.corr()\n",
    "_ = sns.heatmap(corr, annot=True)"
   ]
  },
  {
   "cell_type": "markdown",
   "metadata": {},
   "source": [
    "Margin = $\\beta 0 $ + $\\beta 1 $ x1 + $\\beta 2 $ x2 + $\\beta 3 $ x3 + $\\beta 4 $ x4 + $\\beta 5 $ x5 + $\\beta 6 $ x6 + $\\epsilon$"
   ]
  },
  {
   "cell_type": "markdown",
   "metadata": {},
   "source": [
    "### (a) stepwise"
   ]
  },
  {
   "cell_type": "code",
   "execution_count": 47,
   "metadata": {},
   "outputs": [],
   "source": [
    "def forward_selection(input_df, depv=\"y\", indepv = [\"x1\"]):\n",
    "    selected = []\n",
    "    candidates = indepv.copy()\n",
    "    best_adjr2 = -1\n",
    "    best_subset = []\n",
    "    while len(candidates) > 0:\n",
    "        print(\"Current Candidates: \", candidates)\n",
    "        tmp_indep_subset = []\n",
    "        tmp_model_adjr = []\n",
    "        tmp_model_nindep = []\n",
    "        for acandidate in candidates:\n",
    "            tmplist = selected.copy()\n",
    "            tmplist.append(acandidate)\n",
    "            modelstr = depv + \" ~ \" + \"+\".join(tmplist)\n",
    "            result6tmp = smf.ols(modelstr, data=input_df).fit()\n",
    "            tmp_indep_subset.append(tmplist)\n",
    "            tmp_model_adjr.append(result6tmp.rsquared_adj)\n",
    "            tmp_model_nindep.append(len(tmplist))\n",
    "        tmp_adjr2 = np.array(tmp_model_adjr)\n",
    "        tmpind = tmp_adjr2.argmax()\n",
    "        this_adjr2 = tmp_adjr2[tmpind]\n",
    "        selected = tmp_indep_subset[tmpind]\n",
    "        if this_adjr2 <= 0:\n",
    "            raise(\"Encounterd negative Adj R2. Stop.\")\n",
    "        print(\"===============\")\n",
    "        print(\"Current best model: \", selected)\n",
    "        print(\"Current best AdjR2: \", this_adjr2)\n",
    "        if this_adjr2 > best_adjr2:\n",
    "            #print(\" best result updated\")\n",
    "            best_adjr2 = this_adjr2\n",
    "            best_subset = selected\n",
    "        candidates = set(candidates) - set(selected)\n",
    "        candidates = list(candidates)\n",
    "    print(\"best_adjr2 = \", best_adjr2)\n",
    "    print(\"best_subset = \", best_subset)\n",
    "    modelstr = depv + \" ~ \" + \"+\".join(best_subset)\n",
    "    result6b = smf.ols(modelstr, data=input_df).fit()\n",
    "    print(result6b.summary()) "
   ]
  },
  {
   "cell_type": "code",
   "execution_count": 48,
   "metadata": {},
   "outputs": [
    {
     "name": "stdout",
     "output_type": "stream",
     "text": [
      "Current Candidates:  ['Number', 'Nearest', 'Office_Space', 'Enrollment', 'Income', 'Distance']\n",
      "===============\n",
      "Current best model:  ['Office_Space']\n",
      "Current best AdjR2:  0.24379437721655084\n",
      "Current Candidates:  ['Number', 'Distance', 'Income', 'Enrollment', 'Nearest']\n",
      "===============\n",
      "Current best model:  ['Office_Space', 'Number']\n",
      "Current best AdjR2:  0.42062561327487\n",
      "Current Candidates:  ['Enrollment', 'Distance', 'Income', 'Nearest']\n",
      "===============\n",
      "Current best model:  ['Office_Space', 'Number', 'Income']\n",
      "Current best AdjR2:  0.4540010624616706\n",
      "Current Candidates:  ['Enrollment', 'Distance', 'Nearest']\n",
      "===============\n",
      "Current best model:  ['Office_Space', 'Number', 'Income', 'Nearest']\n",
      "Current best AdjR2:  0.484982436769995\n",
      "Current Candidates:  ['Enrollment', 'Distance']\n",
      "===============\n",
      "Current best model:  ['Office_Space', 'Number', 'Income', 'Nearest', 'Enrollment']\n",
      "Current best AdjR2:  0.49125358421028986\n",
      "Current Candidates:  ['Distance']\n",
      "===============\n",
      "Current best model:  ['Office_Space', 'Number', 'Income', 'Nearest', 'Enrollment', 'Distance']\n",
      "Current best AdjR2:  0.4944204346348492\n",
      "best_adjr2 =  0.4944204346348492\n",
      "best_subset =  ['Office_Space', 'Number', 'Income', 'Nearest', 'Enrollment', 'Distance']\n",
      "                            OLS Regression Results                            \n",
      "==============================================================================\n",
      "Dep. Variable:                 Margin   R-squared:                       0.525\n",
      "Model:                            OLS   Adj. R-squared:                  0.494\n",
      "Method:                 Least Squares   F-statistic:                     17.14\n",
      "Date:                Sat, 12 Jun 2021   Prob (F-statistic):           3.03e-13\n",
      "Time:                        18:57:15   Log-Likelihood:                -308.96\n",
      "No. Observations:                 100   AIC:                             631.9\n",
      "Df Residuals:                      93   BIC:                             650.2\n",
      "Df Model:                           6                                         \n",
      "Covariance Type:            nonrobust                                         \n",
      "================================================================================\n",
      "                   coef    std err          t      P>|t|      [0.025      0.975]\n",
      "--------------------------------------------------------------------------------\n",
      "Intercept       38.1386      6.993      5.454      0.000      24.252      52.025\n",
      "Office_Space     0.0198      0.003      5.796      0.000       0.013       0.027\n",
      "Number          -0.0076      0.001     -6.069      0.000      -0.010      -0.005\n",
      "Income           0.4131      0.140      2.960      0.004       0.136       0.690\n",
      "Nearest          1.6462      0.633      2.601      0.011       0.390       2.903\n",
      "Enrollment       0.2118      0.133      1.587      0.116      -0.053       0.477\n",
      "Distance        -0.2253      0.179     -1.260      0.211      -0.580       0.130\n",
      "==============================================================================\n",
      "Omnibus:                        1.437   Durbin-Watson:                   2.126\n",
      "Prob(Omnibus):                  0.487   Jarque-Bera (JB):                1.471\n",
      "Skew:                          -0.223   Prob(JB):                        0.479\n",
      "Kurtosis:                       2.607   Cond. No.                     3.88e+04\n",
      "==============================================================================\n",
      "\n",
      "Notes:\n",
      "[1] Standard Errors assume that the covariance matrix of the errors is correctly specified.\n",
      "[2] The condition number is large, 3.88e+04. This might indicate that there are\n",
      "strong multicollinearity or other numerical problems.\n"
     ]
    }
   ],
   "source": [
    "forward_selection(input_df = df, depv = 'Margin', indepv = xnames)"
   ]
  },
  {
   "cell_type": "markdown",
   "metadata": {},
   "source": [
    "### (b) 17.17 regression  "
   ]
  },
  {
   "cell_type": "code",
   "execution_count": 49,
   "metadata": {},
   "outputs": [
    {
     "name": "stdout",
     "output_type": "stream",
     "text": [
      "                            OLS Regression Results                            \n",
      "==============================================================================\n",
      "Dep. Variable:                 Margin   R-squared:                       0.525\n",
      "Model:                            OLS   Adj. R-squared:                  0.494\n",
      "Method:                 Least Squares   F-statistic:                     17.14\n",
      "Date:                Sat, 12 Jun 2021   Prob (F-statistic):           3.03e-13\n",
      "Time:                        18:57:15   Log-Likelihood:                -308.96\n",
      "No. Observations:                 100   AIC:                             631.9\n",
      "Df Residuals:                      93   BIC:                             650.2\n",
      "Df Model:                           6                                         \n",
      "Covariance Type:            nonrobust                                         \n",
      "================================================================================\n",
      "                   coef    std err          t      P>|t|      [0.025      0.975]\n",
      "--------------------------------------------------------------------------------\n",
      "const           38.1386      6.993      5.454      0.000      24.252      52.025\n",
      "Number          -0.0076      0.001     -6.069      0.000      -0.010      -0.005\n",
      "Nearest          1.6462      0.633      2.601      0.011       0.390       2.903\n",
      "Office_Space     0.0198      0.003      5.796      0.000       0.013       0.027\n",
      "Enrollment       0.2118      0.133      1.587      0.116      -0.053       0.477\n",
      "Income           0.4131      0.140      2.960      0.004       0.136       0.690\n",
      "Distance        -0.2253      0.179     -1.260      0.211      -0.580       0.130\n",
      "==============================================================================\n",
      "Omnibus:                        1.437   Durbin-Watson:                   2.126\n",
      "Prob(Omnibus):                  0.487   Jarque-Bera (JB):                1.471\n",
      "Skew:                          -0.223   Prob(JB):                        0.479\n",
      "Kurtosis:                       2.607   Cond. No.                     3.88e+04\n",
      "==============================================================================\n",
      "\n",
      "Notes:\n",
      "[1] Standard Errors assume that the covariance matrix of the errors is correctly specified.\n",
      "[2] The condition number is large, 3.88e+04. This might indicate that there are\n",
      "strong multicollinearity or other numerical problems.\n"
     ]
    }
   ],
   "source": [
    "y = df['Margin']\n",
    "X_ar = np.array([df['Number'], df['Nearest'], df['Office_Space'], df['Enrollment'], df['Income'], df['Distance']])\n",
    "X_T =X_ar.T\n",
    "X = pd.DataFrame(X_T,columns = xnames)\n",
    "X = sm.add_constant(X)\n",
    "\n",
    "olsmod = sm.OLS(y, X)\n",
    "result = olsmod.fit()\n",
    "print(result.summary())"
   ]
  },
  {
   "cell_type": "code",
   "execution_count": 50,
   "metadata": {},
   "outputs": [
    {
     "name": "stdout",
     "output_type": "stream",
     "text": [
      "Estimated model: y = 38.1386 - 0.0076 x1 + 1.6462 x2 + 0.0198 x3 + 0.2118 x4 + 0.4131 x5 - 0.2253 x6 "
     ]
    }
   ],
   "source": [
    "print(\"Estimated model: y = %0.4f\" % (result.params[0]), end = ' ')\n",
    "for c, x in zip(result.params[1:], list(range(1,len(xnames)+1))):\n",
    "    print('+', end = '') if c> 0 else print('-', end = '')\n",
    "    print(\" %0.4f x%d \" % (abs(c), x), end = '') "
   ]
  },
  {
   "cell_type": "markdown",
   "metadata": {},
   "source": [
    "### Requirements check. \n",
    "#### Multicollinearity  \n",
    "No correlation between independent variables is larger than 0.7.  \n",
    "And no variable has different signs for correlation coefficients and coefficients.  \n",
    "Thus, Multicollinearity prolblem doesnt exist.  "
   ]
  },
  {
   "cell_type": "code",
   "execution_count": 51,
   "metadata": {},
   "outputs": [],
   "source": [
    "st, data, ss2 = sso.summary_table(result, alpha=0.05)\n",
    "#Predicted value\n",
    "y_pre = data[:, 2]\n",
    "#Studentized Residual\n",
    "SD = data[:, 10]"
   ]
  },
  {
   "cell_type": "markdown",
   "metadata": {},
   "source": [
    "#### Normality\n",
    "H0 : Normal distributed  \n",
    "H1 : Not normal distributed "
   ]
  },
  {
   "cell_type": "code",
   "execution_count": 52,
   "metadata": {},
   "outputs": [
    {
     "name": "stdout",
     "output_type": "stream",
     "text": [
      "Shapiro Test: Statistics=0.982497, p=0.207033\n"
     ]
    }
   ],
   "source": [
    "stat, p = stats.shapiro(SD)\n",
    "print('Shapiro Test: Statistics=%f, p=%f' % (stat, p))"
   ]
  },
  {
   "cell_type": "markdown",
   "metadata": {},
   "source": [
    "Since p-value > alpha = 0.05, we can not reject H0 at significance level at alpha = 0.05.  \n",
    "There is no evidence to show that it is not normally distributed.  \n",
    "#### Homoscedasticity\n",
    "H0 : Homoscedasticity  \n",
    "H1 : Not Homoscedasticity"
   ]
  },
  {
   "cell_type": "code",
   "execution_count": 53,
   "metadata": {},
   "outputs": [
    {
     "data": {
      "image/png": "[encoded data removed]",
      "text/plain": [
       "<Figure size 360x240 with 1 Axes>"
      ]
     },
     "metadata": {
      "needs_background": "light"
     },
     "output_type": "display_data"
    }
   ],
   "source": [
    "plt.plot(y_pre, SD, 'o', color = 'gray')\n",
    "plt.axhline(y=2, color = 'red', lw = 0.8)\n",
    "plt.axhline(y=0, color = 'blue')\n",
    "plt.axhline(y=-2, color = 'red', lw = 0.8)\n",
    "plt.title('Standardized Residual Plot')\n",
    "plt.xlabel('Predicted y value')\n",
    "plt.ylabel('Standardized Residual')\n",
    "plt.show()"
   ]
  },
  {
   "cell_type": "markdown",
   "metadata": {},
   "source": [
    "We do not reject H0. We can assume the variation is constant and the mean is around 0.\n",
    "#### Independence\n",
    "H0 : Independence  \n",
    "H1 : Not independence  "
   ]
  },
  {
   "cell_type": "code",
   "execution_count": 54,
   "metadata": {},
   "outputs": [
    {
     "data": {
      "image/png": "[encoded data removed]",
      "text/plain": [
       "<Figure size 360x240 with 1 Axes>"
      ]
     },
     "metadata": {
      "needs_background": "light"
     },
     "output_type": "display_data"
    },
    {
     "name": "stdout",
     "output_type": "stream",
     "text": [
      "runs =  48\n",
      "n1 =  50\n",
      "n2 =  50\n",
      "runs_exp =  51.0\n",
      "stan_dev =  4.97468338163091\n",
      "z =  -0.603053454834441\n",
      "pval_z =  0.5464731290798559\n",
      "p_value for Z-statistic=  0.5464731290798559\n"
     ]
    }
   ],
   "source": [
    "Id = data[:, 0]\n",
    "plt.plot(Id, SD, 'o', color = 'gray')\n",
    "plt.axhline(y=0, color = 'blue')\n",
    "plt.axhline(y=2, color = 'red')\n",
    "plt.axhline(y=-2, color = 'red')\n",
    "plt.title('Standardized Residual Plot')\n",
    "plt.xlabel('Observation No.')\n",
    "plt.ylabel('Standardized Residual')\n",
    "plt.show()\n",
    "\n",
    "SD_median = statistics.median(SD)\n",
    "Z_pval = runsTest(SD, SD_median) \n",
    "print('p_value for Z-statistic= ', Z_pval)"
   ]
  },
  {
   "cell_type": "markdown",
   "metadata": {},
   "source": [
    "Since n1>20 and n2>20, we apply run test with normal dist.  \n",
    "The p-value>alpha = 0.05, we can not reject H0.  \n",
    "Thus, there is no evidence to infer the sample is not random selected.  \n",
    "\n",
    "#### Autocorreltaion\n",
    "H0: The data are not first-order correlated  \n",
    "H1: The data are first-order correlated  \n"
   ]
  },
  {
   "cell_type": "code",
   "execution_count": 55,
   "metadata": {},
   "outputs": [
    {
     "name": "stdout",
     "output_type": "stream",
     "text": [
      "x_square_sum =  99.88581315094798\n",
      "size =  100\n",
      "x_d =  [0. 0. 0. 0. 0. 0. 0. 0. 0. 0. 0. 0. 0. 0. 0. 0. 0. 0. 0. 0. 0. 0. 0. 0.\n",
      " 0. 0. 0. 0. 0. 0. 0. 0. 0. 0. 0. 0. 0. 0. 0. 0. 0. 0. 0. 0. 0. 0. 0. 0.\n",
      " 0. 0. 0. 0. 0. 0. 0. 0. 0. 0. 0. 0. 0. 0. 0. 0. 0. 0. 0. 0. 0. 0. 0. 0.\n",
      " 0. 0. 0. 0. 0. 0. 0. 0. 0. 0. 0. 0. 0. 0. 0. 0. 0. 0. 0. 0. 0. 0. 0. 0.\n",
      " 0. 0. 0. 0.]\n",
      "x_d =  [ 0.         -3.78510899  3.39592379 -3.03695165  3.03518566  0.22820085\n",
      " -2.21045556  1.5472977  -1.35782229 -0.86072658  1.77462208 -0.59824753\n",
      "  0.07189745  1.14328682 -1.39381589  1.30704295 -0.27348915 -0.28094632\n",
      "  0.8096803  -2.77404481  1.62827365 -0.10750944  0.84852338  0.29069858\n",
      "  0.0453651  -1.3451199   1.33792462 -1.24918811  1.00965129 -1.16886172\n",
      "  0.6613829  -0.14382197 -0.24906064  0.95876997 -2.41651492  2.57603982\n",
      " -2.29801097  3.2771887  -2.49556443  1.44133925 -1.49095663  1.28175192\n",
      " -0.55947094 -0.34930893 -0.0534034  -1.75660778  2.23634579  0.12951622\n",
      "  1.27717579 -3.11174346  0.57343505 -0.0373771   0.98813191 -0.35566278\n",
      " -0.25872508  1.62375346 -0.14448765 -1.25657156  0.22191051 -0.37625237\n",
      "  1.39778124  0.49619267 -0.53012075  0.64410457 -1.03218718 -2.1921726\n",
      "  1.70930836  1.95449543 -0.94896691 -0.36510612 -0.12263058  0.02562811\n",
      "  0.56049745 -0.76320205 -0.58181387 -1.04001529  1.24252392 -0.13025726\n",
      "  1.09988918 -0.04833087 -0.90841818 -0.09527765  0.13305558 -0.9326559\n",
      " -0.10456258  1.03831322 -1.60610517  3.06505527 -0.14195485 -2.23127754\n",
      "  0.45453089 -0.53772044  1.16747149  1.05119843  1.37545822 -1.79693477\n",
      " -2.69956298  0.34948121  2.15278087 -0.99934486]\n",
      "d =  2.1289390131271597\n",
      "2.1289390131271597\n"
     ]
    }
   ],
   "source": [
    "d = Durbin_Watson_test(SD)\n",
    "print(d)"
   ]
  },
  {
   "cell_type": "markdown",
   "metadata": {},
   "source": [
    "size = 100, k = 7, dL = 1.4895, dU = 1.7413  \n",
    "Since dU < d= 2.1289390131271597 < 4-dU, we can not reject H0.  \n",
    "Thus, there is not enough evidence to infer that first order auto-correlation exist."
   ]
  },
  {
   "cell_type": "markdown",
   "metadata": {},
   "source": [
    "#### Outliers "
   ]
  },
  {
   "cell_type": "code",
   "execution_count": 56,
   "metadata": {},
   "outputs": [
    {
     "name": "stdout",
     "output_type": "stream",
     "text": [
      "Outliers by SD = \n",
      "\n",
      "1    -2.310721\n",
      "45   -2.110574\n",
      "94    2.501603\n",
      "Name: SD, dtype: float64\n"
     ]
    }
   ],
   "source": [
    "df_c = pd.DataFrame(SD,columns = ['SD'])\n",
    "filter = (df_c['SD'] < -2) | (df_c['SD'] > 2)\n",
    "print(\"Outliers by SD = \\n\")\n",
    "print(df_c['SD'].loc[filter])"
   ]
  },
  {
   "cell_type": "markdown",
   "metadata": {},
   "source": [
    "#### Influential Observations"
   ]
  },
  {
   "cell_type": "code",
   "execution_count": 57,
   "metadata": {},
   "outputs": [
    {
     "name": "stdout",
     "output_type": "stream",
     "text": [
      "h_level =  0.21\n",
      " \n",
      "\n",
      "Influential Observations by hi = \n",
      "\n",
      "Series([], Name: hii, dtype: float64)\n"
     ]
    }
   ],
   "source": [
    "X = np.array(X)\n",
    "H = np.matmul(X, np.linalg.solve(np.matmul(X.T, X), X.T))\n",
    "df['hii'] = np.diagonal(H)\n",
    "df_h = pd.DataFrame(df['hii'])\n",
    "k = result.df_model\n",
    "n = len(df_h['hii'])\n",
    "h_level = 3 * (k+1) / n \n",
    "print(\"h_level = \", h_level)\n",
    "print(\" \\n\")\n",
    "filter = (df_h['hii'] > h_level )\n",
    "print(\"Influential Observations by hi = \\n\")\n",
    "print(df_h['hii'].loc[filter])"
   ]
  },
  {
   "cell_type": "code",
   "execution_count": 58,
   "metadata": {},
   "outputs": [
    {
     "name": "stdout",
     "output_type": "stream",
     "text": [
      "Influential Observations by Cook's Distances = \n",
      "\n",
      "Series([], Name: CD, dtype: float64)\n"
     ]
    }
   ],
   "source": [
    "s2_e = result.mse_resid\n",
    "k = result.df_model\n",
    "y_a = data[:, 1]\n",
    "y_f = data[:, 2]\n",
    "h_i = df['hii']\n",
    "CD_arr = np.square(y_a - y_f) / s2_e / (k - 1) * h_i / np.square(1 - h_i)\n",
    "CD = np.array(CD_arr)\n",
    "df_cd = pd.DataFrame(CD,columns = ['CD'])\n",
    "filter = (df_cd['CD'] > 1 )\n",
    "print(\"Influential Observations by Cook's Distances = \\n\")\n",
    "print(df_cd['CD'].loc[filter])"
   ]
  },
  {
   "cell_type": "markdown",
   "metadata": {},
   "source": [
    "The results from two methods are the same."
   ]
  },
  {
   "cell_type": "markdown",
   "metadata": {},
   "source": [
    "# 18.47   \n",
    "X(independent variable) - BA(x1), ERA(x2), I1(x3)   \n",
    "y(dependent variable) - Win Pct(%)  \n",
    "x1 = batting average   \n",
    "x2 = earned run average.  \n",
    "I1 = 1 if fired manager, = 0 otherwise  "
   ]
  },
  {
   "cell_type": "code",
   "execution_count": 59,
   "metadata": {},
   "outputs": [
    {
     "name": "stdout",
     "output_type": "stream",
     "text": [
      "Dataset(head):\n"
     ]
    },
    {
     "data": {
      "text/html": [
       "<div>\n",
       "<style scoped>\n",
       "    .dataframe tbody tr th:only-of-type {\n",
       "        vertical-align: middle;\n",
       "    }\n",
       "\n",
       "    .dataframe tbody tr th {\n",
       "        vertical-align: top;\n",
       "    }\n",
       "\n",
       "    .dataframe thead th {\n",
       "        text-align: right;\n",
       "    }\n",
       "</style>\n",
       "<table border=\"1\" class=\"dataframe\">\n",
       "  <thead>\n",
       "    <tr style=\"text-align: right;\">\n",
       "      <th></th>\n",
       "      <th>Win Pct</th>\n",
       "      <th>BA</th>\n",
       "      <th>ERA</th>\n",
       "      <th>Fired</th>\n",
       "    </tr>\n",
       "  </thead>\n",
       "  <tbody>\n",
       "    <tr>\n",
       "      <th>0</th>\n",
       "      <td>0.512</td>\n",
       "      <td>0.255</td>\n",
       "      <td>3.92</td>\n",
       "      <td>1</td>\n",
       "    </tr>\n",
       "    <tr>\n",
       "      <th>1</th>\n",
       "      <td>0.463</td>\n",
       "      <td>0.262</td>\n",
       "      <td>3.07</td>\n",
       "      <td>0</td>\n",
       "    </tr>\n",
       "    <tr>\n",
       "      <th>2</th>\n",
       "      <td>0.601</td>\n",
       "      <td>0.279</td>\n",
       "      <td>4.31</td>\n",
       "      <td>0</td>\n",
       "    </tr>\n",
       "    <tr>\n",
       "      <th>3</th>\n",
       "      <td>0.457</td>\n",
       "      <td>0.253</td>\n",
       "      <td>3.30</td>\n",
       "      <td>1</td>\n",
       "    </tr>\n",
       "    <tr>\n",
       "      <th>4</th>\n",
       "      <td>0.550</td>\n",
       "      <td>0.280</td>\n",
       "      <td>3.88</td>\n",
       "      <td>0</td>\n",
       "    </tr>\n",
       "  </tbody>\n",
       "</table>\n",
       "</div>"
      ],
      "text/plain": [
       "   Win Pct     BA   ERA  Fired\n",
       "0    0.512  0.255  3.92      1\n",
       "1    0.463  0.262  3.07      0\n",
       "2    0.601  0.279  4.31      0\n",
       "3    0.457  0.253  3.30      1\n",
       "4    0.550  0.280  3.88      0"
      ]
     },
     "metadata": {},
     "output_type": "display_data"
    },
    {
     "name": "stdout",
     "output_type": "stream",
     "text": [
      "Dataset(tail):\n"
     ]
    },
    {
     "data": {
      "text/html": [
       "<div>\n",
       "<style scoped>\n",
       "    .dataframe tbody tr th:only-of-type {\n",
       "        vertical-align: middle;\n",
       "    }\n",
       "\n",
       "    .dataframe tbody tr th {\n",
       "        vertical-align: top;\n",
       "    }\n",
       "\n",
       "    .dataframe thead th {\n",
       "        text-align: right;\n",
       "    }\n",
       "</style>\n",
       "<table border=\"1\" class=\"dataframe\">\n",
       "  <thead>\n",
       "    <tr style=\"text-align: right;\">\n",
       "      <th></th>\n",
       "      <th>Win Pct</th>\n",
       "      <th>BA</th>\n",
       "      <th>ERA</th>\n",
       "      <th>Fired</th>\n",
       "    </tr>\n",
       "  </thead>\n",
       "  <tbody>\n",
       "    <tr>\n",
       "      <th>45</th>\n",
       "      <td>0.480</td>\n",
       "      <td>0.271</td>\n",
       "      <td>3.07</td>\n",
       "      <td>0</td>\n",
       "    </tr>\n",
       "    <tr>\n",
       "      <th>46</th>\n",
       "      <td>0.522</td>\n",
       "      <td>0.270</td>\n",
       "      <td>3.79</td>\n",
       "      <td>0</td>\n",
       "    </tr>\n",
       "    <tr>\n",
       "      <th>47</th>\n",
       "      <td>0.411</td>\n",
       "      <td>0.263</td>\n",
       "      <td>2.29</td>\n",
       "      <td>0</td>\n",
       "    </tr>\n",
       "    <tr>\n",
       "      <th>48</th>\n",
       "      <td>0.577</td>\n",
       "      <td>0.259</td>\n",
       "      <td>3.70</td>\n",
       "      <td>0</td>\n",
       "    </tr>\n",
       "    <tr>\n",
       "      <th>49</th>\n",
       "      <td>0.558</td>\n",
       "      <td>0.271</td>\n",
       "      <td>4.31</td>\n",
       "      <td>0</td>\n",
       "    </tr>\n",
       "  </tbody>\n",
       "</table>\n",
       "</div>"
      ],
      "text/plain": [
       "    Win Pct     BA   ERA  Fired\n",
       "45    0.480  0.271  3.07      0\n",
       "46    0.522  0.270  3.79      0\n",
       "47    0.411  0.263  2.29      0\n",
       "48    0.577  0.259  3.70      0\n",
       "49    0.558  0.271  4.31      0"
      ]
     },
     "metadata": {},
     "output_type": "display_data"
    }
   ],
   "source": [
    "#讀取資料集\n",
    "df = pd.read_excel('Xr18-47.xlsx')\n",
    "print('Dataset(head):')\n",
    "display(df.head())\n",
    "print('Dataset(tail):')\n",
    "display(df.tail())"
   ]
  },
  {
   "cell_type": "code",
   "execution_count": 60,
   "metadata": {},
   "outputs": [
    {
     "data": {
      "image/png": "[encoded data removed]",
      "text/plain": [
       "<Figure size 360x240 with 1 Axes>"
      ]
     },
     "metadata": {
      "needs_background": "light"
     },
     "output_type": "display_data"
    }
   ],
   "source": [
    "df_I10 = df[df.Fired == 0]\n",
    "df_I11 = df[df.Fired == 1]\n",
    "\n",
    "_ = sns.regplot(x='BA', y= 'Win Pct', data = df_I10, color = 'green', ci = None)\n",
    "_ = sns.regplot(x='BA', y= 'Win Pct', data = df_I11, color = 'orange', ci = None)\n",
    "\n",
    "plt.legend(labels=['I1 = 0', 'I1 = 1'])\n",
    "plt.title('Scatter Plot for Winning Percentage')\n",
    "plt.xlabel('BA')\n",
    "plt.ylabel('Win Pct')\n",
    "plt.show()"
   ]
  },
  {
   "cell_type": "code",
   "execution_count": 61,
   "metadata": {},
   "outputs": [
    {
     "data": {
      "image/png": "[encoded data removed]",
      "text/plain": [
       "<Figure size 360x240 with 1 Axes>"
      ]
     },
     "metadata": {
      "needs_background": "light"
     },
     "output_type": "display_data"
    }
   ],
   "source": [
    "df_I10 = df[df.Fired == 0]\n",
    "df_I11 = df[df.Fired == 1]\n",
    "\n",
    "_ = sns.regplot(x='ERA', y= 'Win Pct', data = df_I10, color = 'green', ci = None)\n",
    "_ = sns.regplot(x='ERA', y= 'Win Pct', data = df_I11, color = 'orange', ci = None)\n",
    "\n",
    "plt.legend(labels=['I1 = 0', 'I1 = 1'])\n",
    "plt.title('Scatter Plot for Winning Percentage')\n",
    "plt.xlabel('ERA')\n",
    "plt.ylabel('Win Pct')\n",
    "plt.show()"
   ]
  },
  {
   "cell_type": "code",
   "execution_count": 62,
   "metadata": {},
   "outputs": [
    {
     "data": {
      "image/png": "[encoded data removed]",
      "text/plain": [
       "<Figure size 360x240 with 2 Axes>"
      ]
     },
     "metadata": {
      "needs_background": "light"
     },
     "output_type": "display_data"
    }
   ],
   "source": [
    "corr = df.corr()\n",
    "_ = sns.heatmap(corr, annot=True)"
   ]
  },
  {
   "cell_type": "markdown",
   "metadata": {},
   "source": [
    "Win Pct = $\\beta 0 $ + $\\beta 1 $ x1 + $\\beta 2 $ x2 + $\\beta 3 $ x3 + $\\epsilon$"
   ]
  },
  {
   "cell_type": "code",
   "execution_count": 63,
   "metadata": {},
   "outputs": [
    {
     "name": "stdout",
     "output_type": "stream",
     "text": [
      "                            OLS Regression Results                            \n",
      "==============================================================================\n",
      "Dep. Variable:                Win Pct   R-squared:                       0.874\n",
      "Model:                            OLS   Adj. R-squared:                  0.865\n",
      "Method:                 Least Squares   F-statistic:                     106.0\n",
      "Date:                Sat, 12 Jun 2021   Prob (F-statistic):           1.12e-20\n",
      "Time:                        18:57:15   Log-Likelihood:                 131.15\n",
      "No. Observations:                  50   AIC:                            -254.3\n",
      "Df Residuals:                      46   BIC:                            -246.7\n",
      "Df Model:                           3                                         \n",
      "Covariance Type:            nonrobust                                         \n",
      "==============================================================================\n",
      "                 coef    std err          t      P>|t|      [0.025      0.975]\n",
      "------------------------------------------------------------------------------\n",
      "const          0.3571      0.059      6.030      0.000       0.238       0.476\n",
      "BA            -0.4005      0.236     -1.698      0.096      -0.875       0.074\n",
      "ERA            0.0764      0.005     15.984      0.000       0.067       0.086\n",
      "Fired         -0.0509      0.006     -8.608      0.000      -0.063      -0.039\n",
      "==============================================================================\n",
      "Omnibus:                        3.434   Durbin-Watson:                   2.402\n",
      "Prob(Omnibus):                  0.180   Jarque-Bera (JB):                3.102\n",
      "Skew:                          -0.091   Prob(JB):                        0.212\n",
      "Kurtosis:                       4.207   Cond. No.                         356.\n",
      "==============================================================================\n",
      "\n",
      "Notes:\n",
      "[1] Standard Errors assume that the covariance matrix of the errors is correctly specified.\n"
     ]
    }
   ],
   "source": [
    "y = df['Win Pct']\n",
    "xnames = ['BA', 'ERA', 'Fired']\n",
    "X_ar = np.array([df['BA'], df['ERA'], df['Fired']])\n",
    "X_T =X_ar.T\n",
    "X = pd.DataFrame(X_T,columns = xnames)\n",
    "X = sm.add_constant(X)\n",
    "\n",
    "olsmod = sm.OLS(y, X)\n",
    "result = olsmod.fit()\n",
    "print(result.summary())"
   ]
  },
  {
   "cell_type": "code",
   "execution_count": 64,
   "metadata": {},
   "outputs": [
    {
     "name": "stdout",
     "output_type": "stream",
     "text": [
      "Estimated model: y = 0.3571 - 0.4005 x1 + 0.0764 x2 - 0.0509 x3 "
     ]
    }
   ],
   "source": [
    "print(\"Estimated model: y = %0.4f\" % (result.params[0]), end = ' ')\n",
    "for c, x in zip(result.params[1:], list(range(1,len(xnames)+1))):\n",
    "    print('+', end = '') if c> 0 else print('-', end = '')\n",
    "    print(\" %0.4f x%d \" % (abs(c), x), end = '') "
   ]
  },
  {
   "cell_type": "markdown",
   "metadata": {},
   "source": [
    "### Requirements check. \n",
    "#### Multicollinearity  \n",
    "No correlation between indenpendent variables is larger than 0.7.  \n",
    "But the signs for BA's correlation coefficients and coefficients are different.  \n",
    "Thus, Multicollinearity prolblem exists.  "
   ]
  },
  {
   "cell_type": "code",
   "execution_count": 65,
   "metadata": {},
   "outputs": [],
   "source": [
    "st, data, ss2 = sso.summary_table(result, alpha=0.05)\n",
    "#Predicted value\n",
    "y_pre = data[:, 2]\n",
    "#Studentized Residual\n",
    "SD = data[:, 10]"
   ]
  },
  {
   "cell_type": "markdown",
   "metadata": {},
   "source": [
    "#### Normality\n",
    "H0 : Normal distributed  \n",
    "H1 : Not normal distributed "
   ]
  },
  {
   "cell_type": "code",
   "execution_count": 66,
   "metadata": {},
   "outputs": [
    {
     "name": "stdout",
     "output_type": "stream",
     "text": [
      "Shapiro Test: Statistics=0.963031, p=0.119084\n"
     ]
    }
   ],
   "source": [
    "stat, p = stats.shapiro(SD)\n",
    "print('Shapiro Test: Statistics=%f, p=%f' % (stat, p))"
   ]
  },
  {
   "cell_type": "markdown",
   "metadata": {},
   "source": [
    "Since p-value > alpha = 0.05, we can not reject H0 at significance level at alpha = 0.05.  \n",
    "There is no evidence to show that it is not normally distributed.  \n",
    "#### Homoscedasticity\n",
    "H0 : Homoscedasticity  \n",
    "H1 : Not Homoscedasticity"
   ]
  },
  {
   "cell_type": "code",
   "execution_count": 67,
   "metadata": {},
   "outputs": [
    {
     "data": {
      "image/png": "[encoded data removed]",
      "text/plain": [
       "<Figure size 360x240 with 1 Axes>"
      ]
     },
     "metadata": {
      "needs_background": "light"
     },
     "output_type": "display_data"
    }
   ],
   "source": [
    "plt.plot(y_pre, SD, 'o', color = 'gray')\n",
    "plt.axhline(y=2, color = 'red', lw = 0.8)\n",
    "plt.axhline(y=0, color = 'blue')\n",
    "plt.axhline(y=-2, color = 'red', lw = 0.8)\n",
    "plt.title('Standardized Residual Plot')\n",
    "plt.xlabel('Predicted y value')\n",
    "plt.ylabel('Standardized Residual')\n",
    "plt.show()"
   ]
  },
  {
   "cell_type": "markdown",
   "metadata": {},
   "source": [
    "We do not reject H0. We can assume the variation is constant and the mean is around 0.\n",
    "#### Independence\n",
    "H0 : Independence  \n",
    "H1 : Not independence  "
   ]
  },
  {
   "cell_type": "code",
   "execution_count": 68,
   "metadata": {},
   "outputs": [
    {
     "data": {
      "image/png": "[encoded data removed]",
      "text/plain": [
       "<Figure size 360x240 with 1 Axes>"
      ]
     },
     "metadata": {
      "needs_background": "light"
     },
     "output_type": "display_data"
    },
    {
     "name": "stdout",
     "output_type": "stream",
     "text": [
      "runs =  30\n",
      "n1 =  25\n",
      "n2 =  25\n",
      "runs_exp =  26.0\n",
      "stan_dev =  3.499271061118826\n",
      "z =  1.1430952132988164\n",
      "pval_z =  0.2529990614746843\n",
      "p_value for Z-statistic=  0.2529990614746843\n"
     ]
    }
   ],
   "source": [
    "Id = data[:, 0]\n",
    "plt.plot(Id, SD, 'o', color = 'gray')\n",
    "plt.axhline(y=0, color = 'blue')\n",
    "plt.axhline(y=2, color = 'red')\n",
    "plt.axhline(y=-2, color = 'red')\n",
    "plt.title('Standardized Residual Plot')\n",
    "plt.xlabel('Observation No.')\n",
    "plt.ylabel('Standardized Residual')\n",
    "plt.show()\n",
    "\n",
    "SD_median = statistics.median(SD)\n",
    "Z_pval = runsTest(SD, SD_median) \n",
    "print('p_value for Z-statistic= ', Z_pval)"
   ]
  },
  {
   "cell_type": "markdown",
   "metadata": {},
   "source": [
    "Since n1>20 and n2>20, we apply run test with normal dist.  \n",
    "The p-value>alpha = 0.05, we can not reject H0.  \n",
    "Thus, there is no evidence to infer the sample is not random selected.  \n",
    "\n",
    "#### Autocorreltaion\n",
    "H0: The data are not first-order correlated  \n",
    "H1: The data are first-order correlated  "
   ]
  },
  {
   "cell_type": "code",
   "execution_count": 69,
   "metadata": {},
   "outputs": [
    {
     "name": "stdout",
     "output_type": "stream",
     "text": [
      "x_square_sum =  50.160718736498104\n",
      "size =  50\n",
      "x_d =  [0. 0. 0. 0. 0. 0. 0. 0. 0. 0. 0. 0. 0. 0. 0. 0. 0. 0. 0. 0. 0. 0. 0. 0.\n",
      " 0. 0. 0. 0. 0. 0. 0. 0. 0. 0. 0. 0. 0. 0. 0. 0. 0. 0. 0. 0. 0. 0. 0. 0.\n",
      " 0. 0.]\n",
      "x_d =  [ 0.00000000e+00 -1.80276317e+00  2.81932743e+00 -1.49560333e+00\n",
      "  4.84298858e-01 -1.16039688e+00  1.68469208e+00 -4.36112736e+00\n",
      "  3.42711871e+00  5.15912268e-01 -8.51440974e-01  3.65201863e-01\n",
      " -4.68730251e-01 -1.08544934e+00  2.60977740e+00 -6.36874245e-01\n",
      " -1.14734362e+00  1.71339468e-01  8.21031773e-01 -9.69283752e-01\n",
      "  5.97106277e-01 -1.17659464e+00  1.23838198e+00  1.37833163e-01\n",
      "  4.49980247e-01 -1.03458168e+00  1.18967489e+00 -1.38284217e+00\n",
      " -7.73457952e-02  1.24453643e+00 -8.86980123e-01  7.00388024e-01\n",
      "  7.70338740e-02  2.20189523e-01 -1.35050179e+00  9.08819808e-01\n",
      " -5.77134969e-01 -2.66757248e-01  2.55589749e+00 -2.40961558e+00\n",
      "  1.45665876e+00  4.68431700e-01  7.29889926e-01 -2.61770501e+00\n",
      " -7.97780069e-01  1.02945951e+00 -7.44477625e-01 -2.28726147e-03\n",
      "  3.19745208e+00 -3.39808143e+00]\n",
      "d =  2.4169999256216084\n",
      "2.4169999256216084\n"
     ]
    }
   ],
   "source": [
    "d = Durbin_Watson_test(SD)\n",
    "print(d)"
   ]
  },
  {
   "cell_type": "markdown",
   "metadata": {},
   "source": [
    "size = 50, k = 4, dL = 1.3385, dU = 1.5884  \n",
    "Since dU < d= 2.4169999256216084 < 4-dU, we can not reject H0.  \n",
    "Thus, there is not enough evidence to infer that first order auto-correlation exist."
   ]
  },
  {
   "cell_type": "markdown",
   "metadata": {},
   "source": [
    "#### Outliers "
   ]
  },
  {
   "cell_type": "code",
   "execution_count": 70,
   "metadata": {},
   "outputs": [
    {
     "name": "stdout",
     "output_type": "stream",
     "text": [
      "Outliers by SD = \n",
      "\n",
      "7    -3.360761\n",
      "42    2.202966\n",
      "48    2.267628\n",
      "Name: SD, dtype: float64\n"
     ]
    }
   ],
   "source": [
    "df_c = pd.DataFrame(SD,columns = ['SD'])\n",
    "filter = (df_c['SD'] < -2) | (df_c['SD'] > 2)\n",
    "print(\"Outliers by SD = \\n\")\n",
    "print(df_c['SD'].loc[filter])"
   ]
  },
  {
   "cell_type": "markdown",
   "metadata": {},
   "source": [
    "#### Influential Observations"
   ]
  },
  {
   "cell_type": "code",
   "execution_count": 71,
   "metadata": {},
   "outputs": [
    {
     "name": "stdout",
     "output_type": "stream",
     "text": [
      "h_level =  0.24\n",
      " \n",
      "\n",
      "Influential Observations by hi = \n",
      "\n",
      "Series([], Name: hii, dtype: float64)\n"
     ]
    }
   ],
   "source": [
    "X = np.array(X)\n",
    "H = np.matmul(X, np.linalg.solve(np.matmul(X.T, X), X.T))\n",
    "df['hii'] = np.diagonal(H)\n",
    "df_h = pd.DataFrame(df['hii'])\n",
    "k = result.df_model\n",
    "n = len(df_h['hii'])\n",
    "h_level = 3 * (k+1) / n \n",
    "print(\"h_level = \", h_level)\n",
    "print(\" \\n\")\n",
    "filter = (df_h['hii'] > h_level )\n",
    "print(\"Influential Observations by hi = \\n\")\n",
    "print(df_h['hii'].loc[filter])"
   ]
  },
  {
   "cell_type": "code",
   "execution_count": 72,
   "metadata": {},
   "outputs": [
    {
     "name": "stdout",
     "output_type": "stream",
     "text": [
      "Influential Observations by Cook's Distances = \n",
      "\n",
      "7    1.03295\n",
      "Name: CD, dtype: float64\n"
     ]
    }
   ],
   "source": [
    "s2_e = result.mse_resid\n",
    "k = result.df_model\n",
    "y_a = data[:, 1]\n",
    "y_f = data[:, 2]\n",
    "h_i = df['hii']\n",
    "CD_arr = np.square(y_a - y_f) / s2_e / (k - 1) * h_i / np.square(1 - h_i)\n",
    "CD = np.array(CD_arr)\n",
    "df_cd = pd.DataFrame(CD,columns = ['CD'])\n",
    "filter = (df_cd['CD'] > 1 )\n",
    "print(\"Influential Observations by Cook's Distances = \\n\")\n",
    "print(df_cd['CD'].loc[filter])"
   ]
  },
  {
   "cell_type": "markdown",
   "metadata": {},
   "source": [
    "### (b)  \n",
    "H0 : $\\beta 3$  = 0   \n",
    "H1 : $\\beta 3$  < 0   \n",
    "$\\alpha$ = 0.05  \n",
    "Since p-value 0/2 = 0, we can reject H0 at significance level at alpha = 0.05.  \n",
    "There is enough evidence to infer that a team that fires its manager within 12 months wins less frequently than other teams."
   ]
  }
 ],
 "metadata": {
  "kernelspec": {
   "display_name": "Python 3",
   "language": "python",
   "name": "python3"
  },
  "language_info": {
   "codemirror_mode": {
    "name": "ipython",
    "version": 3
   },
   "file_extension": ".py",
   "mimetype": "text/x-python",
   "name": "python",
   "nbconvert_exporter": "python",
   "pygments_lexer": "ipython3",
   "version": "3.8.5"
  }
 },
 "nbformat": 4,
 "nbformat_minor": 4
}
