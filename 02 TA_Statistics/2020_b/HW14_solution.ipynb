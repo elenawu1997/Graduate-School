{
 "cells": [
  {
   "cell_type": "code",
   "execution_count": 1,
   "metadata": {},
   "outputs": [],
   "source": [
    "#載入所需函示庫\n",
    "\n",
    "#載入所需函示庫\n",
    "from matplotlib import pyplot as plt\n",
    "%matplotlib inline\n",
    "# 設定圖形大小; DPI越大圖越大\n",
    "plt.rcParams[\"figure.dpi\"] = 60\n",
    "import seaborn as sns\n",
    "import pandas as pd\n",
    "import numpy as np\n",
    "import scipy.stats as stats\n",
    "import statsmodels.api as sm\n",
    "import statsmodels.stats.api as sms\n",
    "import statsmodels.formula.api as smf\n",
    "import statsmodels.stats.multicomp as smm\n",
    "import statsmodels.stats.outliers_influence as sso\n",
    "import statsmodels\n",
    "import statistics\n",
    "import math\n",
    "\n",
    "import warnings\n",
    "warnings.filterwarnings(\"ignore\")"
   ]
  },
  {
   "cell_type": "code",
   "execution_count": 2,
   "metadata": {},
   "outputs": [],
   "source": [
    "def Durbin_Watson_test(x):\n",
    "    x_square_sum = np.vdot(x, x)\n",
    "    print(\"x_square_sum = \", x_square_sum)\n",
    "    size = x.size\n",
    "    print(\"size = \", size)\n",
    "    x_d = np.zeros((size))\n",
    "    print(\"x_d = \", x_d)\n",
    "    l_size = size - 1\n",
    "    for i in range(l_size):\n",
    "        x_d[i + 1] = x[i + 1] - x[i]\n",
    "    print(\"x_d = \", x_d)\n",
    "    d = np.vdot(x_d, x_d) / x_square_sum\n",
    "    print(\"d = \", d)\n",
    "    return(d)"
   ]
  },
  {
   "cell_type": "code",
   "execution_count": 3,
   "metadata": {},
   "outputs": [],
   "source": [
    "def runsTest(l, l_median): \n",
    "    runs, n1, n2 = 1, 0, 0\n",
    "    if(l[0]) >= l_median:\n",
    "        n1 += 1   \n",
    "    else:\n",
    "        n2 += 1   \n",
    "    for i in range(1, len(l)): \n",
    "        if (l[i] >= l_median and l[i-1] < l_median) or (l[i] < l_median and l[i-1] >= l_median):\n",
    "            runs += 1  \n",
    "        if(l[i]) >= l_median: \n",
    "            n1 += 1   \n",
    "        else: \n",
    "            n2 += 1   \n",
    "    runs_exp = ((2*n1*n2)/(n1+n2)) + 1\n",
    "    stan_dev = math.sqrt((2*n1*n2*(2*n1*n2-n1-n2))/(((n1+n2)**2)*(n1+n2-1))) \n",
    "    z = (runs-runs_exp)/stan_dev\n",
    "    pval_z = stats.norm.sf(abs(z)) * 2\n",
    "    print('runs = ', runs)\n",
    "    print('n1 = ', n1)\n",
    "    print('n2 = ', n2)\n",
    "    print('runs_exp = ', runs_exp)\n",
    "    print('stan_dev = ', stan_dev)\n",
    "    print('z = ', z)\n",
    "    print('pval_z = ', pval_z)\n",
    "    return pval_z"
   ]
  },
  {
   "cell_type": "code",
   "execution_count": 4,
   "metadata": {},
   "outputs": [],
   "source": [
    "def SI_MA(y_v, n):\n",
    "    y_v_MA_a = np.zeros(len(y_v))\n",
    "    y_v_MA_a[:] = np.nan\n",
    "    mvlen = n\n",
    "    if n % 2 == 0:\n",
    "        halfwin = int(mvlen / 2)\n",
    "        y_v_MA_ta = np.zeros(len(y_v))\n",
    "        for i in range(halfwin, len(y_v) - halfwin + 1):\n",
    "            y_v_MA_ta[i] = np.mean(y_v[(i-halfwin): (i+halfwin)])\n",
    "        for ii in range(halfwin, len(y_v) - halfwin):\n",
    "            y_v_MA_a[ii] = np.mean(y_v_MA_ta[(ii): (ii+2)])\n",
    "    else:\n",
    "        halfwin = int((mvlen - 1) / 2)\n",
    "        for i in range(halfwin, len(y_v) - halfwin):\n",
    "            y_v_MA_a[i] = np.mean(y_v[(i-halfwin): (i+halfwin+1)])\n",
    "    SI_MA_a = np.zeros(len(y_v))\n",
    "    SI_MA_a[:] = np.nan\n",
    "    SI_MA_a = y_v / y_v_MA_a    \n",
    "    SI_id_s = np.arange(1,len(y_v)+1)\n",
    "    SI_id = SI_id_s - np.floor(SI_id_s / n) * n\n",
    "    SI_id[np.where((SI_id[:] == 0))] = n\n",
    "    SI_MA_a_df = pd.DataFrame({'SIMA': SI_MA_a, 'SIid': SI_id})\n",
    "    SI_MA_u = np.zeros(n)\n",
    "    for j in range(1,n+1):\n",
    "        SI_MA_u[j-1] = SI_MA_a_df['SIMA'][SI_MA_a_df['SIid'] == j].dropna().mean()  \n",
    "    SI_MA = SI_MA_u / sum(SI_MA_u) * n\n",
    "    print('Seasonal Index:', SI_MA)  \n",
    "    y_v_SI_MA = np.zeros(len(y_v))\n",
    "    DSI_y_v = np.zeros(len(y_v))\n",
    "    for k in range(0,len(y_v)):\n",
    "        Idd = int(SI_MA_a_df['SIid'][k] - 1)\n",
    "        y_v_SI_MA[k] = SI_MA[Idd]\n",
    "        DSI_y_v[k] = y_v[k] / SI_MA[Idd]\n",
    "    print('Deseasonalized Data:', DSI_y_v)\n",
    "    SI_MA_result_a = np.array([SI_MA_a_df['SIid'], y_v_SI_MA, y_v, DSI_y_v])\n",
    "    SI_MA_result_df = pd.DataFrame(SI_MA_result_a.T, columns = ['SID', 'SeaIdx', 'orig', 'Des_D'])\n",
    "    return {\"ma_ind\":SI_MA, \"SI_MA_res\":SI_MA_result_df}"
   ]
  },
  {
   "cell_type": "code",
   "execution_count": 5,
   "metadata": {},
   "outputs": [],
   "source": [
    "def SI_LR(y_v, n):\n",
    "    y_data = y_v\n",
    "    X_data_ar = np.arange(1, len(y_v)+1)\n",
    "    X_data_T = X_data_ar.T\n",
    "    X_data = pd.DataFrame(X_data_T,columns = ['Time'])\n",
    "    X_data = sm.add_constant(X_data)\n",
    "    olsmod = sm.OLS(y_data, X_data)\n",
    "    result_reg = olsmod.fit()\n",
    "    st, data, ss2 = sso.summary_table(result_reg, alpha=0.05)\n",
    "    y_v_LR_a = data[:, 2]\n",
    "    SI_LR_a = y_v / y_v_LR_a\n",
    "    SI_id_s = np.arange(1,len(y_v)+1)\n",
    "    SI_id = SI_id_s - np.floor(SI_id_s / n) * n\n",
    "    SI_id[np.where((SI_id[:] == 0))] = n\n",
    "    SI_LR_a_df = pd.DataFrame({'SILR': SI_LR_a, 'SIid': SI_id})\n",
    "    SI_LR_u = np.zeros(n)\n",
    "    for j in range(1,n+1):\n",
    "        SI_LR_u[j-1] = SI_LR_a_df['SILR'][SI_LR_a_df['SIid'] == j].dropna().mean()\n",
    "    SI_LR = SI_LR_u / sum(SI_LR_u) * n\n",
    "    print('Seasonal Index:', SI_LR)\n",
    "    print('\\n')\n",
    "    y_v_SI_LR = np.zeros(len(y_v))\n",
    "    DSI_y_v = np.zeros(len(y_v))\n",
    "    for k in range(0,len(y_v)):\n",
    "        Idd = int(SI_LR_a_df['SIid'][k] - 1)\n",
    "        y_v_SI_LR[k] = SI_LR[Idd]\n",
    "        DSI_y_v[k] = y_v[k] / SI_LR[Idd]\n",
    "    print('Deseasonalized Data:', DSI_y_v)\n",
    "    SI_LR_result_a = np.array([SI_LR_a_df['SIid'], y_v_SI_LR, y_v, DSI_y_v])\n",
    "    SI_LR_result_df = pd.DataFrame(SI_LR_result_a.T, columns = ['SID', 'SeaIdx', 'orig', 'Des_D'])\n",
    "    return {\"LR_ind\":SI_LR, \"SI_LR_res\":SI_LR_result_df}"
   ]
  },
  {
   "cell_type": "code",
   "execution_count": 6,
   "metadata": {},
   "outputs": [],
   "source": [
    "def ErrMetrix(y_v, f_v):\n",
    "    y_v_n = pd.DataFrame({'orig': y_v})\n",
    "    f_v_n = pd.DataFrame({'forecast': f_v})\n",
    "    err1 = (y_v_n['orig'] - f_v_n['forecast']).dropna().values\n",
    "    err1p = ((y_v_n['orig'] - f_v_n['forecast'])/ y_v_n['orig']).dropna().values\n",
    "    MAD = round(np.absolute(err1).mean(),6)\n",
    "    MSE = round(np.mean(err1 * err1),6)\n",
    "    RMSE = round(np.sqrt(np.mean(err1 * err1)),6)\n",
    "    MAPE = round(np.absolute(err1p).mean() * 100, 6)\n",
    "    print(\"MAD = \", MAD)\n",
    "    print(\"MSE = \", MSE)\n",
    "    print(\"RMSE = \", RMSE)\n",
    "    print(\"MAPE = \", MAPE, \"%\")\n",
    "    return MAD, MSE, RMSE, MAPE"
   ]
  },
  {
   "cell_type": "code",
   "execution_count": 7,
   "metadata": {},
   "outputs": [
    {
     "name": "stdout",
     "output_type": "stream",
     "text": [
      "Head of dataset:\n"
     ]
    },
    {
     "data": {
      "text/html": [
       "<div>\n",
       "<style scoped>\n",
       "    .dataframe tbody tr th:only-of-type {\n",
       "        vertical-align: middle;\n",
       "    }\n",
       "\n",
       "    .dataframe tbody tr th {\n",
       "        vertical-align: top;\n",
       "    }\n",
       "\n",
       "    .dataframe thead th {\n",
       "        text-align: right;\n",
       "    }\n",
       "</style>\n",
       "<table border=\"1\" class=\"dataframe\">\n",
       "  <thead>\n",
       "    <tr style=\"text-align: right;\">\n",
       "      <th></th>\n",
       "      <th>Year</th>\n",
       "      <th>Month</th>\n",
       "      <th>Billions_of_miles</th>\n",
       "    </tr>\n",
       "  </thead>\n",
       "  <tbody>\n",
       "    <tr>\n",
       "      <th>0</th>\n",
       "      <td>2003</td>\n",
       "      <td>1</td>\n",
       "      <td>223</td>\n",
       "    </tr>\n",
       "    <tr>\n",
       "      <th>1</th>\n",
       "      <td>2003</td>\n",
       "      <td>2</td>\n",
       "      <td>214</td>\n",
       "    </tr>\n",
       "    <tr>\n",
       "      <th>2</th>\n",
       "      <td>2003</td>\n",
       "      <td>3</td>\n",
       "      <td>251</td>\n",
       "    </tr>\n",
       "    <tr>\n",
       "      <th>3</th>\n",
       "      <td>2003</td>\n",
       "      <td>4</td>\n",
       "      <td>251</td>\n",
       "    </tr>\n",
       "    <tr>\n",
       "      <th>4</th>\n",
       "      <td>2003</td>\n",
       "      <td>5</td>\n",
       "      <td>256</td>\n",
       "    </tr>\n",
       "  </tbody>\n",
       "</table>\n",
       "</div>"
      ],
      "text/plain": [
       "   Year  Month  Billions_of_miles\n",
       "0  2003      1                223\n",
       "1  2003      2                214\n",
       "2  2003      3                251\n",
       "3  2003      4                251\n",
       "4  2003      5                256"
      ]
     },
     "metadata": {},
     "output_type": "display_data"
    },
    {
     "name": "stdout",
     "output_type": "stream",
     "text": [
      "Tail of dataset:\n"
     ]
    },
    {
     "data": {
      "text/html": [
       "<div>\n",
       "<style scoped>\n",
       "    .dataframe tbody tr th:only-of-type {\n",
       "        vertical-align: middle;\n",
       "    }\n",
       "\n",
       "    .dataframe tbody tr th {\n",
       "        vertical-align: top;\n",
       "    }\n",
       "\n",
       "    .dataframe thead th {\n",
       "        text-align: right;\n",
       "    }\n",
       "</style>\n",
       "<table border=\"1\" class=\"dataframe\">\n",
       "  <thead>\n",
       "    <tr style=\"text-align: right;\">\n",
       "      <th></th>\n",
       "      <th>Year</th>\n",
       "      <th>Month</th>\n",
       "      <th>Billions_of_miles</th>\n",
       "    </tr>\n",
       "  </thead>\n",
       "  <tbody>\n",
       "    <tr>\n",
       "      <th>31</th>\n",
       "      <td>2005</td>\n",
       "      <td>8</td>\n",
       "      <td>265</td>\n",
       "    </tr>\n",
       "    <tr>\n",
       "      <th>32</th>\n",
       "      <td>2005</td>\n",
       "      <td>9</td>\n",
       "      <td>245</td>\n",
       "    </tr>\n",
       "    <tr>\n",
       "      <th>33</th>\n",
       "      <td>2005</td>\n",
       "      <td>10</td>\n",
       "      <td>257</td>\n",
       "    </tr>\n",
       "    <tr>\n",
       "      <th>34</th>\n",
       "      <td>2005</td>\n",
       "      <td>11</td>\n",
       "      <td>245</td>\n",
       "    </tr>\n",
       "    <tr>\n",
       "      <th>35</th>\n",
       "      <td>2005</td>\n",
       "      <td>12</td>\n",
       "      <td>245</td>\n",
       "    </tr>\n",
       "  </tbody>\n",
       "</table>\n",
       "</div>"
      ],
      "text/plain": [
       "    Year  Month  Billions_of_miles\n",
       "31  2005      8                265\n",
       "32  2005      9                245\n",
       "33  2005     10                257\n",
       "34  2005     11                245\n",
       "35  2005     12                245"
      ]
     },
     "metadata": {},
     "output_type": "display_data"
    }
   ],
   "source": [
    "df = pd.read_excel('Time_Series_Traffic_V.xlsx')\n",
    "print('Head of dataset:')\n",
    "display(df.head())\n",
    "print(\"Tail of dataset:\")\n",
    "display(df.tail())"
   ]
  },
  {
   "cell_type": "code",
   "execution_count": 8,
   "metadata": {},
   "outputs": [
    {
     "name": "stdout",
     "output_type": "stream",
     "text": [
      "Head of dataset:\n"
     ]
    },
    {
     "data": {
      "text/html": [
       "<div>\n",
       "<style scoped>\n",
       "    .dataframe tbody tr th:only-of-type {\n",
       "        vertical-align: middle;\n",
       "    }\n",
       "\n",
       "    .dataframe tbody tr th {\n",
       "        vertical-align: top;\n",
       "    }\n",
       "\n",
       "    .dataframe thead th {\n",
       "        text-align: right;\n",
       "    }\n",
       "</style>\n",
       "<table border=\"1\" class=\"dataframe\">\n",
       "  <thead>\n",
       "    <tr style=\"text-align: right;\">\n",
       "      <th></th>\n",
       "      <th>Year</th>\n",
       "      <th>Month</th>\n",
       "      <th>Billions_of_miles</th>\n",
       "      <th>t</th>\n",
       "    </tr>\n",
       "  </thead>\n",
       "  <tbody>\n",
       "    <tr>\n",
       "      <th>0</th>\n",
       "      <td>2003</td>\n",
       "      <td>1</td>\n",
       "      <td>223</td>\n",
       "      <td>0</td>\n",
       "    </tr>\n",
       "    <tr>\n",
       "      <th>1</th>\n",
       "      <td>2003</td>\n",
       "      <td>2</td>\n",
       "      <td>214</td>\n",
       "      <td>1</td>\n",
       "    </tr>\n",
       "    <tr>\n",
       "      <th>2</th>\n",
       "      <td>2003</td>\n",
       "      <td>3</td>\n",
       "      <td>251</td>\n",
       "      <td>2</td>\n",
       "    </tr>\n",
       "    <tr>\n",
       "      <th>3</th>\n",
       "      <td>2003</td>\n",
       "      <td>4</td>\n",
       "      <td>251</td>\n",
       "      <td>3</td>\n",
       "    </tr>\n",
       "    <tr>\n",
       "      <th>4</th>\n",
       "      <td>2003</td>\n",
       "      <td>5</td>\n",
       "      <td>256</td>\n",
       "      <td>4</td>\n",
       "    </tr>\n",
       "  </tbody>\n",
       "</table>\n",
       "</div>"
      ],
      "text/plain": [
       "   Year  Month  Billions_of_miles  t\n",
       "0  2003      1                223  0\n",
       "1  2003      2                214  1\n",
       "2  2003      3                251  2\n",
       "3  2003      4                251  3\n",
       "4  2003      5                256  4"
      ]
     },
     "metadata": {},
     "output_type": "display_data"
    },
    {
     "name": "stdout",
     "output_type": "stream",
     "text": [
      "Tail of dataset:\n"
     ]
    },
    {
     "data": {
      "text/html": [
       "<div>\n",
       "<style scoped>\n",
       "    .dataframe tbody tr th:only-of-type {\n",
       "        vertical-align: middle;\n",
       "    }\n",
       "\n",
       "    .dataframe tbody tr th {\n",
       "        vertical-align: top;\n",
       "    }\n",
       "\n",
       "    .dataframe thead th {\n",
       "        text-align: right;\n",
       "    }\n",
       "</style>\n",
       "<table border=\"1\" class=\"dataframe\">\n",
       "  <thead>\n",
       "    <tr style=\"text-align: right;\">\n",
       "      <th></th>\n",
       "      <th>Year</th>\n",
       "      <th>Month</th>\n",
       "      <th>Billions_of_miles</th>\n",
       "      <th>t</th>\n",
       "    </tr>\n",
       "  </thead>\n",
       "  <tbody>\n",
       "    <tr>\n",
       "      <th>31</th>\n",
       "      <td>2005</td>\n",
       "      <td>8</td>\n",
       "      <td>265</td>\n",
       "      <td>31</td>\n",
       "    </tr>\n",
       "    <tr>\n",
       "      <th>32</th>\n",
       "      <td>2005</td>\n",
       "      <td>9</td>\n",
       "      <td>245</td>\n",
       "      <td>32</td>\n",
       "    </tr>\n",
       "    <tr>\n",
       "      <th>33</th>\n",
       "      <td>2005</td>\n",
       "      <td>10</td>\n",
       "      <td>257</td>\n",
       "      <td>33</td>\n",
       "    </tr>\n",
       "    <tr>\n",
       "      <th>34</th>\n",
       "      <td>2005</td>\n",
       "      <td>11</td>\n",
       "      <td>245</td>\n",
       "      <td>34</td>\n",
       "    </tr>\n",
       "    <tr>\n",
       "      <th>35</th>\n",
       "      <td>2005</td>\n",
       "      <td>12</td>\n",
       "      <td>245</td>\n",
       "      <td>35</td>\n",
       "    </tr>\n",
       "  </tbody>\n",
       "</table>\n",
       "</div>"
      ],
      "text/plain": [
       "    Year  Month  Billions_of_miles   t\n",
       "31  2005      8                265  31\n",
       "32  2005      9                245  32\n",
       "33  2005     10                257  33\n",
       "34  2005     11                245  34\n",
       "35  2005     12                245  35"
      ]
     },
     "metadata": {},
     "output_type": "display_data"
    }
   ],
   "source": [
    "#調整期數從0開始\n",
    "df[\"t\"] = list(range(0,len(df)))\n",
    "print('Head of dataset:')\n",
    "display(df.head())\n",
    "print(\"Tail of dataset:\")\n",
    "display(df.tail())"
   ]
  },
  {
   "cell_type": "code",
   "execution_count": 10,
   "metadata": {},
   "outputs": [
    {
     "data": {
      "image/png": "[encoded data removed]",
      "text/plain": [
       "<Figure size 360x240 with 1 Axes>"
      ]
     },
     "metadata": {
      "needs_background": "light"
     },
     "output_type": "display_data"
    }
   ],
   "source": [
    "#確認season內的期數與data相符\n",
    "plt.plot(df['t'], df['Billions_of_miles'])\n",
    "plt.ylim(0, max(df['Billions_of_miles'])+5)\n",
    "plt.xlabel('time')\n",
    "plt.ylabel('Accounts receivable')\n",
    "plt.title('Line Chart for Accounts receivable')\n",
    "plt.show()"
   ]
  },
  {
   "cell_type": "markdown",
   "metadata": {},
   "source": [
    "According to the plot above, we can check that there are 4 periods in one season."
   ]
  },
  {
   "cell_type": "markdown",
   "metadata": {},
   "source": [
    "# CMV"
   ]
  },
  {
   "cell_type": "code",
   "execution_count": 11,
   "metadata": {},
   "outputs": [
    {
     "name": "stdout",
     "output_type": "stream",
     "text": [
      "Seasonal Index: [0.91235306 0.8802234  1.01868366 1.00217758 1.05185252 1.05354091\n",
      " 1.07325905 1.0599714  0.9724309  1.01868221 0.97184137 0.98498395]\n",
      "Deseasonalized Data: [244.42292242 243.12009993 246.39641386 250.45461499 243.38012634\n",
      " 243.93926918 246.91149784 247.1764801  248.86087037 250.32340609\n",
      " 246.95388394 249.7502624  243.3268555  247.66440087 246.39641386\n",
      " 248.45896068 247.18294081 248.68516936 247.84323935 248.11990178\n",
      " 246.80416896 245.41510401 249.01183297 246.70452749 253.19145775\n",
      " 248.8004761  250.32304994 248.45896068 250.03505167 248.68516936\n",
      " 243.18453184 250.00674514 251.94592248 252.28672693 252.09875652\n",
      " 248.73501743]\n",
      "                            OLS Regression Results                            \n",
      "==============================================================================\n",
      "Dep. Variable:                  Des_D   R-squared:                       0.278\n",
      "Model:                            OLS   Adj. R-squared:                  0.257\n",
      "Method:                 Least Squares   F-statistic:                     13.08\n",
      "Date:                Tue, 15 Jun 2021   Prob (F-statistic):           0.000955\n",
      "Time:                        20:52:34   Log-Likelihood:                -79.959\n",
      "No. Observations:                  36   AIC:                             163.9\n",
      "Df Residuals:                      34   BIC:                             167.1\n",
      "Df Model:                           1                                         \n",
      "Covariance Type:            nonrobust                                         \n",
      "==============================================================================\n",
      "                 coef    std err          t      P>|t|      [0.025      0.975]\n",
      "------------------------------------------------------------------------------\n",
      "const        245.5875      0.749    327.740      0.000     244.065     247.110\n",
      "t              0.1332      0.037      3.617      0.001       0.058       0.208\n",
      "==============================================================================\n",
      "Omnibus:                        2.291   Durbin-Watson:                   2.054\n",
      "Prob(Omnibus):                  0.318   Jarque-Bera (JB):                1.189\n",
      "Skew:                          -0.327   Prob(JB):                        0.552\n",
      "Kurtosis:                       3.604   Cond. No.                         39.9\n",
      "==============================================================================\n",
      "\n",
      "Notes:\n",
      "[1] Standard Errors assume that the covariance matrix of the errors is correctly specified.\n"
     ]
    },
    {
     "data": {
      "image/png": "[encoded data removed]",
      "text/plain": [
       "<Figure size 360x240 with 1 Axes>"
      ]
     },
     "metadata": {
      "needs_background": "light"
     },
     "output_type": "display_data"
    }
   ],
   "source": [
    "#Seasonal index 與 deseasonalizing\n",
    "df_SIMA = pd.DataFrame(columns=[\"ma_ind\", \"SI_MA_res\"])\n",
    "df_SIMA = SI_MA(df['Billions_of_miles'], 12)\n",
    "\n",
    "#SI\n",
    "df_MA_Idx = df_SIMA[\"ma_ind\"]\n",
    "#各期Quarter, SI, ori, des\n",
    "df_MA_Result = df_SIMA[\"SI_MA_res\"]\n",
    "\n",
    "#利用Des和Period(t)跑regression\n",
    "y_data_df_MA = df_MA_Result['Des_D']\n",
    "X_data_ar_df = np.array(df['t'])\n",
    "X_data_ar_df_T = X_data_ar_df.T\n",
    "X_data_df = pd.DataFrame(X_data_ar_df_T, columns = ['t'])\n",
    "X_data_df = sm.add_constant(X_data_df)\n",
    "olsmod_df_MA = sm.OLS(y_data_df_MA, X_data_df)\n",
    "result_reg_df_MA = olsmod_df_MA.fit()\n",
    "print(result_reg_df_MA.summary())\n",
    "\n",
    "#linear regression之於各期的結果（desensonalized）\n",
    "df_MA_st_2, df_MA_data_2, df_MA_ss2_2 = sso.summary_table(result_reg_df_MA, alpha=0.05)\n",
    "df_MA_y_pre_2 = df_MA_data_2[:, 2]\n",
    "des_pre_df_MA = df_MA_y_pre_2\n",
    "#print(des_pre_df4_MA)\n",
    "\n",
    "plt.plot(df['t'], df_MA_Result['orig'])\n",
    "plt.plot(df['t'], df_MA_Result['Des_D'])\n",
    "plt.plot(df['t'], des_pre_df_MA)\n",
    "plt.legend(labels=['org', 'Des_data', 'Line_pre'])\n",
    "plt.xlabel('Time(Period)')\n",
    "plt.ylabel('Accounts receivable(in $million)')\n",
    "plt.title('Accounts receivable')\n",
    "plt.show()"
   ]
  },
  {
   "cell_type": "markdown",
   "metadata": {},
   "source": [
    "### Requirements check. "
   ]
  },
  {
   "cell_type": "code",
   "execution_count": 12,
   "metadata": {},
   "outputs": [],
   "source": [
    "data = df_MA_data_2\n",
    "y_pre = data[:, 2]\n",
    "SD = data[:, 10]"
   ]
  },
  {
   "cell_type": "markdown",
   "metadata": {},
   "source": [
    "#### Normality\n",
    "H0 : Normal distributed  \n",
    "H1 : Not normal distributed "
   ]
  },
  {
   "cell_type": "code",
   "execution_count": 13,
   "metadata": {},
   "outputs": [
    {
     "name": "stdout",
     "output_type": "stream",
     "text": [
      "Shapiro Test: Statistics=0.977908, p=0.674404\n"
     ]
    }
   ],
   "source": [
    "stat, p = stats.shapiro(SD)\n",
    "print('Shapiro Test: Statistics=%f, p=%f' % (stat, p))"
   ]
  },
  {
   "cell_type": "markdown",
   "metadata": {},
   "source": [
    "Since p-value > alpha = 0.05, we can not reject H0 at significance level at alpha = 0.05.  \n",
    "There is no evidence to show that it is not normally distributed.  \n",
    "#### Homoscedasticity\n",
    "H0 : Homoscedasticity  \n",
    "H1 : Not Homoscedasticity"
   ]
  },
  {
   "cell_type": "code",
   "execution_count": 14,
   "metadata": {},
   "outputs": [
    {
     "data": {
      "image/png": "[encoded data removed]",
      "text/plain": [
       "<Figure size 360x240 with 1 Axes>"
      ]
     },
     "metadata": {
      "needs_background": "light"
     },
     "output_type": "display_data"
    }
   ],
   "source": [
    "plt.plot(y_pre, SD, 'o', color = 'gray')\n",
    "plt.axhline(y=2, color = 'red', lw = 0.8)\n",
    "plt.axhline(y=0, color = 'blue')\n",
    "plt.axhline(y=-2, color = 'red', lw = 0.8)\n",
    "plt.title('Standardized Residual Plot')\n",
    "plt.xlabel('Predicted y value')\n",
    "plt.ylabel('Standardized Residual')\n",
    "plt.show()"
   ]
  },
  {
   "cell_type": "markdown",
   "metadata": {},
   "source": [
    "We do not reject H0. We can assume the variation is constant and the mean is around 0.\n",
    "#### Independence\n",
    "H0 : Independence  \n",
    "H1 : Not independence  "
   ]
  },
  {
   "cell_type": "code",
   "execution_count": 15,
   "metadata": {},
   "outputs": [
    {
     "data": {
      "image/png": "[encoded data removed]",
      "text/plain": [
       "<Figure size 360x240 with 1 Axes>"
      ]
     },
     "metadata": {
      "needs_background": "light"
     },
     "output_type": "display_data"
    },
    {
     "name": "stdout",
     "output_type": "stream",
     "text": [
      "runs =  23\n",
      "n1 =  18\n",
      "n2 =  18\n",
      "runs_exp =  19.0\n",
      "stan_dev =  2.9568322818274866\n",
      "z =  1.3527990831890464\n",
      "pval_z =  0.17611982574413676\n",
      "p_value for Z-statistic=  0.17611982574413676\n"
     ]
    }
   ],
   "source": [
    "Id = data[:, 0]\n",
    "plt.plot(Id, SD, 'o', color = 'gray')\n",
    "plt.axhline(y=0, color = 'blue')\n",
    "plt.axhline(y=2, color = 'red')\n",
    "plt.axhline(y=-2, color = 'red')\n",
    "plt.title('Standardized Residual Plot')\n",
    "plt.xlabel('Observation No.')\n",
    "plt.ylabel('Standardized Residual')\n",
    "plt.show()\n",
    "\n",
    "SD_median = statistics.median(SD)\n",
    "Z_pval = runsTest(SD, SD_median) \n",
    "print('p_value for Z-statistic= ', Z_pval)"
   ]
  },
  {
   "cell_type": "markdown",
   "metadata": {},
   "source": [
    "Since n1<=20 and n2<=20, we check with run table.  \n",
    "lower bound = 4 < runs = 7 < upper bound = 14  \n",
    "Thus, there is no evidence to infer the sample is not random selected.  \n",
    "#### According to the results above, all requirements are satisfied\n",
    "#### Autocorreltaion  \n",
    "H0: The data are not first-order correlated  \n",
    "H1: The data are first-order correlated  "
   ]
  },
  {
   "cell_type": "code",
   "execution_count": 16,
   "metadata": {},
   "outputs": [
    {
     "name": "stdout",
     "output_type": "stream",
     "text": [
      "x_square_sum =  36.203956526564234\n",
      "size =  36\n",
      "x_d =  [0. 0. 0. 0. 0. 0. 0. 0. 0. 0. 0. 0. 0. 0. 0. 0. 0. 0. 0. 0. 0. 0. 0. 0.\n",
      " 0. 0. 0. 0. 0. 0. 0. 0. 0. 0. 0. 0.]\n",
      "x_d =  [ 0.         -0.65615949  1.44078615  1.78384423 -3.27280301  0.19671777\n",
      "  1.28060147  0.05840242  0.69303103  0.59075066 -1.56293006  1.18349817\n",
      " -2.91100928  1.86522505 -0.62035915  0.85368054 -0.62313     0.6050755\n",
      " -0.43092578  0.06340666 -0.6408191  -0.67429853  1.53329185 -1.08252652\n",
      "  2.82222697 -2.01064256  0.61982948 -0.89196546  0.64626552 -0.66619318\n",
      " -2.54392384  3.01951961  0.821785    0.09884914 -0.1425373  -1.60761123]\n",
      "d =  2.0462195176496825\n",
      "2.0462195176496825\n"
     ]
    }
   ],
   "source": [
    "d = Durbin_Watson_test(SD)\n",
    "print(d)"
   ]
  },
  {
   "cell_type": "markdown",
   "metadata": {},
   "source": [
    "size = 16, k = 2(includes intercept), dL = 0.98013, dU = 1.23538  \n",
    "Since dU < d= 1.381325671272503 < 4-dU, we can not reject H0.  \n",
    "Thus, there is not enough evidence to infer that first order auto-correlation exist.  \n",
    "We dont need to apply Autoregression model."
   ]
  },
  {
   "cell_type": "code",
   "execution_count": 18,
   "metadata": {},
   "outputs": [
    {
     "name": "stdout",
     "output_type": "stream",
     "text": [
      "New Des Prediction [250.38210682 250.51529093 250.64847504 250.78165915 250.91484326\n",
      " 251.04802736 251.18121147 251.31439558 251.44757969 251.5807638\n",
      " 251.71394791 251.84713202]\n",
      "New Seasonal Prediction [228.4368801  220.50942013 255.33150523 251.32775633 263.925411\n",
      " 264.48936757 269.5825088  266.38607207 244.51539607 256.28084793\n",
      " 244.62602707 248.06538292]\n"
     ]
    }
   ],
   "source": [
    "#predict for the next year\n",
    "Sea_pre_df_MA = des_pre_df_MA * df_MA_Result['SeaIdx']\n",
    "New_t_2 = np.arange(36, 48, 1)\n",
    "Total_t_2 = np.append(df['t'], New_t_2)\n",
    "New_t_2 = sm.add_constant(New_t_2)\n",
    "df_MA_des_pre_New_t_2 = result_reg_df_MA.predict(New_t_2)\n",
    "print('New Des Prediction', df_MA_des_pre_New_t_2)\n",
    "df_MA_Sea_pre_New_t_2 = df_MA_des_pre_New_t_2 * df_MA_Idx\n",
    "print('New Seasonal Prediction', df_MA_Sea_pre_New_t_2)\n",
    "New_Nan = np.zeros(New_t_2.shape[0])\n",
    "New_Nan[:] = np.nan"
   ]
  },
  {
   "cell_type": "code",
   "execution_count": 19,
   "metadata": {},
   "outputs": [
    {
     "data": {
      "image/png": "[encoded data removed]",
      "text/plain": [
       "<Figure size 360x240 with 1 Axes>"
      ]
     },
     "metadata": {
      "needs_background": "light"
     },
     "output_type": "display_data"
    }
   ],
   "source": [
    "df_MA_New_orig_2 = np.append(df_MA_Result['orig'], New_Nan)\n",
    "df_MA_New_Des_D_2 = np.append(df_MA_Result['Des_D'], New_Nan)\n",
    "df_MA_New_des_pre_2 = np.append(des_pre_df_MA, df_MA_des_pre_New_t_2)\n",
    "df_MA_New_Sea_pre_2 = np.append(Sea_pre_df_MA, df_MA_Sea_pre_New_t_2)\n",
    "df_MA_S_a = np.array([Total_t_2, df_MA_New_orig_2, df_MA_New_Des_D_2, df_MA_New_des_pre_2, df_MA_New_Sea_pre_2])\n",
    "df_MA_S_df = pd.DataFrame(df_MA_S_a.T, columns=['time', 'org', 'Des_data', 'Line_pre', 'Seasonal Pre'])\n",
    "#display(df_MA_S_df)\n",
    "\n",
    "plt.plot(Total_t_2, df_MA_New_orig_2)\n",
    "plt.plot(Total_t_2, df_MA_New_Des_D_2)\n",
    "plt.plot(Total_t_2, df_MA_New_des_pre_2)\n",
    "plt.plot(Total_t_2, df_MA_New_Sea_pre_2)\n",
    "plt.legend(labels=['org', 'Des_data', 'Line_pre', 'Seasonal Pre'])\n",
    "plt.xlabel('time')\n",
    "plt.ylabel('Accounts receivable')\n",
    "plt.title('Line Chart for Accounts receivable')\n",
    "plt.show()"
   ]
  },
  {
   "cell_type": "markdown",
   "metadata": {},
   "source": [
    "# SLR"
   ]
  },
  {
   "cell_type": "code",
   "execution_count": 20,
   "metadata": {},
   "outputs": [
    {
     "name": "stdout",
     "output_type": "stream",
     "text": [
      "Seasonal Index: [0.91443713 0.87968778 1.02182126 1.01000768 1.04913471 1.05069963\n",
      " 1.06448165 1.06049671 0.97484484 1.02067129 0.97266246 0.98105487]\n",
      "\n",
      "\n",
      "Deseasonalized Data: [243.86586446 243.26812755 245.6398284  248.51296284 244.01060972\n",
      " 244.59892579 248.9474583  247.0540423  248.24463358 249.83557591\n",
      " 246.74541287 250.75050181 242.77229556 247.81519536 245.6398284\n",
      " 246.53277987 247.82327549 249.35765976 249.88688267 247.99699666\n",
      " 246.19302504 244.93683913 248.80162464 247.69256886 252.61441565\n",
      " 248.95196231 249.55440734 246.53277987 250.68277483 249.35765976\n",
      " 245.18976082 249.88290538 251.32204639 251.79507062 251.8859423\n",
      " 249.73119083]\n",
      "                            OLS Regression Results                            \n",
      "==============================================================================\n",
      "Dep. Variable:                  Des_D   R-squared:                       0.335\n",
      "Model:                            OLS   Adj. R-squared:                  0.316\n",
      "Method:                 Least Squares   F-statistic:                     17.15\n",
      "Date:                Tue, 15 Jun 2021   Prob (F-statistic):           0.000215\n",
      "Time:                        20:53:06   Log-Likelihood:                -77.228\n",
      "No. Observations:                  36   AIC:                             158.5\n",
      "Df Residuals:                      34   BIC:                             161.6\n",
      "Df Model:                           1                                         \n",
      "Covariance Type:            nonrobust                                         \n",
      "==============================================================================\n",
      "                 coef    std err          t      P>|t|      [0.025      0.975]\n",
      "------------------------------------------------------------------------------\n",
      "const        245.4269      0.695    353.346      0.000     244.015     246.838\n",
      "t              0.1414      0.034      4.142      0.000       0.072       0.211\n",
      "==============================================================================\n",
      "Omnibus:                        0.433   Durbin-Watson:                   2.092\n",
      "Prob(Omnibus):                  0.805   Jarque-Bera (JB):                0.552\n",
      "Skew:                          -0.221   Prob(JB):                        0.759\n",
      "Kurtosis:                       2.584   Cond. No.                         39.9\n",
      "==============================================================================\n",
      "\n",
      "Notes:\n",
      "[1] Standard Errors assume that the covariance matrix of the errors is correctly specified.\n",
      "[245.42686308 245.56822302 245.70958295 245.85094289 245.99230283\n",
      " 246.13366276 246.2750227  246.41638264 246.55774257 246.69910251\n",
      " 246.84046245 246.98182238 247.12318232 247.26454226 247.4059022\n",
      " 247.54726213 247.68862207 247.82998201 247.97134194 248.11270188\n",
      " 248.25406182 248.39542175 248.53678169 248.67814163 248.81950156\n",
      " 248.9608615  249.10222144 249.24358137 249.38494131 249.52630125\n",
      " 249.66766118 249.80902112 249.95038106 250.09174099 250.23310093\n",
      " 250.37446087]\n"
     ]
    },
    {
     "data": {
      "image/png": "[encoded data removed]",
      "text/plain": [
       "<Figure size 360x240 with 1 Axes>"
      ]
     },
     "metadata": {
      "needs_background": "light"
     },
     "output_type": "display_data"
    }
   ],
   "source": [
    "df_SILR = pd.DataFrame(columns=[\"LR_ind\", \"SI_LR_res\"])\n",
    "df_SILR = SI_LR(df['Billions_of_miles'], 12)\n",
    "df_LR_Idx = df_SILR[\"LR_ind\"]\n",
    "df_LR_Result = df_SILR[\"SI_LR_res\"]\n",
    "y_data_df_LR = df_LR_Result['Des_D']\n",
    "X_data_ar_df = np.array(df['t'])\n",
    "X_data_ar_df_T = X_data_ar_df.T\n",
    "X_data_df = pd.DataFrame(X_data_ar_df_T, columns = ['t'])\n",
    "X_data_df = sm.add_constant(X_data_df)\n",
    "olsmod_df_LR = sm.OLS(y_data_df_LR, X_data_df)\n",
    "result_reg_df_LR = olsmod_df_LR.fit()\n",
    "print(result_reg_df_LR.summary())\n",
    "df_LR_st_2, df_LR_st_data_2, df_LR_st_ss2_2 = sso.summary_table(result_reg_df_LR, alpha=0.05)\n",
    "df_LR_st_y_pre_2 = df_LR_st_data_2[:, 2]\n",
    "df_LR_st_SD_2 = df_LR_st_data_2[:, 10]\n",
    "des_pre_df_LR = df_LR_st_y_pre_2\n",
    "print(des_pre_df_LR)\n",
    "plt.plot(df['t'], df_LR_Result['orig'])\n",
    "plt.plot(df['t'], df_LR_Result['Des_D'])\n",
    "plt.plot(df['t'], des_pre_df_LR)\n",
    "plt.legend(labels=['org', 'Des_data', 'Line_pre'])\n",
    "plt.xlabel('time')\n",
    "plt.ylabel('Accounts receivable')\n",
    "plt.title('Line Chart for Accounts receivable')\n",
    "plt.show()"
   ]
  },
  {
   "cell_type": "markdown",
   "metadata": {},
   "source": [
    "### Requirements check. "
   ]
  },
  {
   "cell_type": "code",
   "execution_count": 21,
   "metadata": {},
   "outputs": [],
   "source": [
    "data = df_LR_st_data_2\n",
    "y_pre = data[:, 2]\n",
    "SD = data[:, 10]"
   ]
  },
  {
   "cell_type": "markdown",
   "metadata": {},
   "source": [
    "#### Normality\n",
    "H0 : Normal distributed  \n",
    "H1 : Not normal distributed "
   ]
  },
  {
   "cell_type": "code",
   "execution_count": 22,
   "metadata": {},
   "outputs": [
    {
     "name": "stdout",
     "output_type": "stream",
     "text": [
      "Shapiro Test: Statistics=0.979473, p=0.727632\n"
     ]
    }
   ],
   "source": [
    "stat, p = stats.shapiro(SD)\n",
    "print('Shapiro Test: Statistics=%f, p=%f' % (stat, p))"
   ]
  },
  {
   "cell_type": "markdown",
   "metadata": {},
   "source": [
    "Since p-value > alpha = 0.05, we can not reject H0 at significance level at alpha = 0.05.  \n",
    "There is no evidence to show that it is not normally distributed.  \n",
    "#### Homoscedasticity\n",
    "H0 : Homoscedasticity  \n",
    "H1 : Not Homoscedasticity"
   ]
  },
  {
   "cell_type": "code",
   "execution_count": 23,
   "metadata": {},
   "outputs": [
    {
     "data": {
      "image/png": "[encoded data removed]",
      "text/plain": [
       "<Figure size 360x240 with 1 Axes>"
      ]
     },
     "metadata": {
      "needs_background": "light"
     },
     "output_type": "display_data"
    }
   ],
   "source": [
    "plt.plot(y_pre, SD, 'o', color = 'gray')\n",
    "plt.axhline(y=2, color = 'red', lw = 0.8)\n",
    "plt.axhline(y=0, color = 'blue')\n",
    "plt.axhline(y=-2, color = 'red', lw = 0.8)\n",
    "plt.title('Standardized Residual Plot')\n",
    "plt.xlabel('Predicted y value')\n",
    "plt.ylabel('Standardized Residual')\n",
    "plt.show()"
   ]
  },
  {
   "cell_type": "markdown",
   "metadata": {},
   "source": [
    "We do not reject H0. We can assume the variation is constant and the mean is around 0.\n",
    "#### Independence\n",
    "H0 : Independence  \n",
    "H1 : Not independence  "
   ]
  },
  {
   "cell_type": "code",
   "execution_count": 24,
   "metadata": {},
   "outputs": [
    {
     "data": {
      "image/png": "[encoded data removed]",
      "text/plain": [
       "<Figure size 360x240 with 1 Axes>"
      ]
     },
     "metadata": {
      "needs_background": "light"
     },
     "output_type": "display_data"
    },
    {
     "name": "stdout",
     "output_type": "stream",
     "text": [
      "runs =  21\n",
      "n1 =  18\n",
      "n2 =  18\n",
      "runs_exp =  19.0\n",
      "stan_dev =  2.9568322818274866\n",
      "z =  0.6763995415945232\n",
      "pval_z =  0.4987870082234577\n",
      "p_value for Z-statistic=  0.4987870082234577\n"
     ]
    }
   ],
   "source": [
    "Id = data[:, 0]\n",
    "plt.plot(Id, SD, 'o', color = 'gray')\n",
    "plt.axhline(y=0, color = 'blue')\n",
    "plt.axhline(y=2, color = 'red')\n",
    "plt.axhline(y=-2, color = 'red')\n",
    "plt.title('Standardized Residual Plot')\n",
    "plt.xlabel('Observation No.')\n",
    "plt.ylabel('Standardized Residual')\n",
    "plt.show()\n",
    "\n",
    "SD_median = statistics.median(SD)\n",
    "Z_pval = runsTest(SD, SD_median) \n",
    "print('p_value for Z-statistic= ', Z_pval)"
   ]
  },
  {
   "cell_type": "markdown",
   "metadata": {},
   "source": [
    "Since n1<=20 and n2<=20, we check with run table.  \n",
    "lower bound = 4 < runs = 7 < upper bound = 14  \n",
    "Thus, there is no evidence to infer the sample is not random selected.  \n",
    "#### According to the results above, all requirements are satisfied  \n",
    "#### Autocorreltaion  \n",
    "H0: The data are not first-order correlated  \n",
    "H1: The data are first-order correlated  "
   ]
  },
  {
   "cell_type": "code",
   "execution_count": 25,
   "metadata": {},
   "outputs": [
    {
     "name": "stdout",
     "output_type": "stream",
     "text": [
      "x_square_sum =  35.8987742206997\n",
      "size =  36\n",
      "x_d =  [0. 0. 0. 0. 0. 0. 0. 0. 0. 0. 0. 0. 0. 0. 0. 0. 0. 0. 0. 0. 0. 0. 0. 0.\n",
      " 0. 0. 0. 0. 0. 0. 0. 0. 0. 0. 0. 0.]\n",
      "x_d =  [ 0.         -0.36201648  1.10398912  1.3403432  -2.27439463  0.22111698\n",
      "  2.04428294 -0.98844408  0.50546459  0.69580932 -1.55546793  1.85249384\n",
      " -3.88946384  2.3458542  -1.10656631  0.35928655  0.54826601  0.66412422\n",
      "  0.18491837 -0.96843572 -0.92822722 -0.66814126  1.77814969 -0.59836387\n",
      "  2.29117702 -1.82369049  0.22194448 -1.52575682  1.93605717 -0.70981505\n",
      " -2.09855333  2.21650406  0.63682799  0.16624983 -0.0211652  -1.13793904]\n",
      "d =  2.0861793217078417\n",
      "2.0861793217078417\n"
     ]
    }
   ],
   "source": [
    "d = Durbin_Watson_test(SD)\n",
    "print(d)"
   ]
  },
  {
   "cell_type": "markdown",
   "metadata": {},
   "source": [
    "size = 16, k = 2(includes intercept), dL = 0.98013, dU = 1.23538  \n",
    "Since dU < d= 1.347975870976776 < 4-dU, we can not reject H0.  \n",
    "Thus, there is not enough evidence to infer that first order auto-correlation exist.  \n",
    "We dont need to apply Autoregression model."
   ]
  },
  {
   "cell_type": "code",
   "execution_count": 27,
   "metadata": {},
   "outputs": [
    {
     "name": "stdout",
     "output_type": "stream",
     "text": [
      "New Des Prediction [250.51582081 250.65718074 250.79854068 250.93990062 251.08126055\n",
      " 251.22262049 251.36398043 251.50534036 251.6467003  251.78806024\n",
      " 251.92942017 252.07078011]\n",
      "New Seasonal Prediction [229.08096696 220.50005982 256.2712819  253.45122578 263.41806521\n",
      " 263.95951355 267.57234345 266.72058696 245.31648719 256.9928447\n",
      " 245.04228929 247.29526545]\n"
     ]
    },
    {
     "data": {
      "image/png": "[encoded data removed]",
      "text/plain": [
       "<Figure size 360x240 with 1 Axes>"
      ]
     },
     "metadata": {
      "needs_background": "light"
     },
     "output_type": "display_data"
    }
   ],
   "source": [
    "Sea_pre_df_LR = des_pre_df_LR * df_LR_Result['SeaIdx']\n",
    "New_t_2 = np.arange(36, 48, 1)\n",
    "Total_t_2 = np.append(df['t'], New_t_2)\n",
    "New_t_2 = sm.add_constant(New_t_2)\n",
    "df_LR_st_des_pre_New_t_2 = result_reg_df_LR.predict(New_t_2)\n",
    "print('New Des Prediction', df_LR_st_des_pre_New_t_2)\n",
    "df_LR_st_Sea_pre_New_t_2 = df_LR_st_des_pre_New_t_2 * df_LR_Idx\n",
    "print('New Seasonal Prediction', df_LR_st_Sea_pre_New_t_2)\n",
    "New_Nan = np.zeros(New_t_2.shape[0])\n",
    "New_Nan[:] = np.nan\n",
    "\n",
    "df_LR_st_New_orig_2 = np.append(df_LR_Result['orig'], New_Nan)\n",
    "df_LR_st_New_Des_D_2 = np.append(df_LR_Result['Des_D'], New_Nan)\n",
    "df_LR_st_New_des_pre_2 = np.append(des_pre_df_LR, df_LR_st_des_pre_New_t_2)\n",
    "df_LR_st_New_Sea_pre_2 = np.append(Sea_pre_df_LR, df_LR_st_Sea_pre_New_t_2)\n",
    "plt.plot(Total_t_2, df_LR_st_New_orig_2)\n",
    "plt.plot(Total_t_2, df_LR_st_New_Des_D_2)\n",
    "plt.plot(Total_t_2, df_LR_st_New_des_pre_2)\n",
    "plt.plot(Total_t_2, df_LR_st_New_Sea_pre_2)\n",
    "plt.legend(labels=['org', 'Des_data', 'Line_pre', 'Seasonal Pre'])\n",
    "plt.xlabel('time')\n",
    "plt.ylabel('Accounts receivable')\n",
    "plt.title('Line Chart for Accounts receivable')\n",
    "plt.show()"
   ]
  },
  {
   "cell_type": "markdown",
   "metadata": {},
   "source": [
    "# Dummy"
   ]
  },
  {
   "cell_type": "code",
   "execution_count": 43,
   "metadata": {},
   "outputs": [
    {
     "name": "stdout",
     "output_type": "stream",
     "text": [
      "                            OLS Regression Results                            \n",
      "==============================================================================\n",
      "Dep. Variable:      Billions_of_miles   R-squared:                       0.981\n",
      "Model:                            OLS   Adj. R-squared:                  0.971\n",
      "Method:                 Least Squares   F-statistic:                     98.06\n",
      "Date:                Tue, 15 Jun 2021   Prob (F-statistic):           8.49e-17\n",
      "Time:                        21:03:07   Log-Likelihood:                -75.651\n",
      "No. Observations:                  36   AIC:                             177.3\n",
      "Df Residuals:                      23   BIC:                             197.9\n",
      "Df Model:                          12                                         \n",
      "Covariance Type:            nonrobust                                         \n",
      "==============================================================================\n",
      "                 coef    std err          t      P>|t|      [0.025      0.975]\n",
      "------------------------------------------------------------------------------\n",
      "const        241.8715      1.727    140.090      0.000     238.300     245.443\n",
      "t              0.1215      0.042      2.886      0.008       0.034       0.209\n",
      "Month_1      -17.9965      2.074     -8.678      0.000     -22.286     -13.707\n",
      "Month_2      -26.4514      2.065    -12.811      0.000     -30.723     -22.180\n",
      "Month_3        8.7604      2.057      4.260      0.000       4.506      13.015\n",
      "Month_4        5.9722      2.049      2.914      0.008       1.733      10.211\n",
      "Month_5       15.8507      2.043      7.760      0.000      11.625      20.076\n",
      "Month_6       16.3958      2.037      8.049      0.000      12.182      20.610\n",
      "Month_7       19.9410      2.032      9.812      0.000      15.737      24.145\n",
      "Month_8       19.1528      2.028      9.443      0.000      14.957      23.349\n",
      "Month_9       -1.9688      2.025     -0.972      0.341      -6.158       2.221\n",
      "Month_10       9.5764      2.023      4.734      0.000       5.391      13.761\n",
      "Month_11      -2.2118      2.022     -1.094      0.285      -6.394       1.971\n",
      "==============================================================================\n",
      "Omnibus:                        0.450   Durbin-Watson:                   2.185\n",
      "Prob(Omnibus):                  0.798   Jarque-Bera (JB):                0.552\n",
      "Skew:                          -0.231   Prob(JB):                        0.759\n",
      "Kurtosis:                       2.608   Cond. No.                         259.\n",
      "==============================================================================\n",
      "\n",
      "Notes:\n",
      "[1] Standard Errors assume that the covariance matrix of the errors is correctly specified.\n",
      "[223.875      215.54166667 250.875      248.20833333 258.20833333\n",
      " 258.875      262.54166667 261.875      240.875      252.54166667\n",
      " 240.875      243.20833333 225.33333333 217.         252.33333333\n",
      " 249.66666667 259.66666667 260.33333333 264.         263.33333333\n",
      " 242.33333333 254.         242.33333333 244.66666667 226.79166667\n",
      " 218.45833333 253.79166667 251.125      261.125      261.79166667\n",
      " 265.45833333 264.79166667 243.79166667 255.45833333 243.79166667\n",
      " 246.125     ]\n"
     ]
    },
    {
     "data": {
      "image/png": "[encoded data removed]",
      "text/plain": [
       "<Figure size 360x240 with 1 Axes>"
      ]
     },
     "metadata": {
      "needs_background": "light"
     },
     "output_type": "display_data"
    }
   ],
   "source": [
    "#轉換Quarter to Dummy variables\n",
    "Quarter_dummy = pd.get_dummies(df['Month'], prefix = 'Month')\n",
    "df_d = pd.concat([df, Quarter_dummy], axis = 1)\n",
    "df_d.head()\n",
    "y_data_df_d = df_d['Billions_of_miles']\n",
    "X_data_ar_df_d = np.array([df_d['t'], df_d['Month_1'], df_d['Month_2'], df_d['Month_3'], df_d['Month_4']  , df_d['Month_5'], df_d['Month_6'], df_d['Month_7'], df_d['Month_8'] , df_d['Month_9'], df_d['Month_10'], df_d['Month_11']])\n",
    "X_data_ar_df_d_T = X_data_ar_df_d.T\n",
    "X_data_df_d = pd.DataFrame(X_data_ar_df_d_T, columns = ['t', 'Month_1', 'Month_2', 'Month_3', 'Month_4', 'Month_5', 'Month_6', 'Month_7', 'Month_8', 'Month_9', 'Month_10', 'Month_11'])\n",
    "X_data_df_d = sm.add_constant(X_data_df_d)\n",
    "\n",
    "#regression\n",
    "olsmod_df_d_DM = sm.OLS(y_data_df_d, X_data_df_d)\n",
    "result_reg_df_d_DM = olsmod_df_d_DM.fit()\n",
    "print(result_reg_df_d_DM.summary())\n",
    "df_d_DM_st, df_d_DM_data, df_d_DM_ss2 = sso.summary_table(result_reg_df_d_DM, alpha=0.05)\n",
    "\n",
    "#regression results\n",
    "df_d_DM_y_pre = df_d_DM_data[:, 2]\n",
    "df_d_DM_SD = df_d_DM_data[:, 10]\n",
    "des_pre_df_d_DM = df_d_DM_y_pre\n",
    "print(des_pre_df_d_DM)\n",
    "plt.plot(df_d['t'], df_d['Billions_of_miles'])\n",
    "plt.plot(df_d['t'], des_pre_df_d_DM)\n",
    "plt.legend(labels=['org', 'Line_pre'])\n",
    "plt.xlabel('time')\n",
    "plt.ylabel('Accounts receivable')\n",
    "plt.title('Line Chart for Accounts receivable')\n",
    "plt.show()"
   ]
  },
  {
   "cell_type": "markdown",
   "metadata": {},
   "source": [
    "### Requirements check. "
   ]
  },
  {
   "cell_type": "code",
   "execution_count": 44,
   "metadata": {},
   "outputs": [],
   "source": [
    "data = df_d_DM_data\n",
    "y_pre = data[:, 2]\n",
    "SD = data[:, 10]"
   ]
  },
  {
   "cell_type": "markdown",
   "metadata": {},
   "source": [
    "#### Normality\n",
    "H0 : Normal distributed  \n",
    "H1 : Not normal distributed "
   ]
  },
  {
   "cell_type": "code",
   "execution_count": 45,
   "metadata": {},
   "outputs": [
    {
     "name": "stdout",
     "output_type": "stream",
     "text": [
      "Shapiro Test: Statistics=0.987975, p=0.957633\n"
     ]
    }
   ],
   "source": [
    "stat, p = stats.shapiro(SD)\n",
    "print('Shapiro Test: Statistics=%f, p=%f' % (stat, p))"
   ]
  },
  {
   "cell_type": "markdown",
   "metadata": {},
   "source": [
    "Since p-value > alpha = 0.05, we can not reject H0 at significance level at alpha = 0.05.  \n",
    "There is no evidence to show that it is not normally distributed.  \n",
    "#### Homoscedasticity\n",
    "H0 : Homoscedasticity  \n",
    "H1 : Not Homoscedasticity"
   ]
  },
  {
   "cell_type": "code",
   "execution_count": 46,
   "metadata": {},
   "outputs": [
    {
     "data": {
      "image/png": "[encoded data removed]",
      "text/plain": [
       "<Figure size 360x240 with 1 Axes>"
      ]
     },
     "metadata": {
      "needs_background": "light"
     },
     "output_type": "display_data"
    }
   ],
   "source": [
    "plt.plot(y_pre, SD, 'o', color = 'gray')\n",
    "plt.axhline(y=2, color = 'red', lw = 0.8)\n",
    "plt.axhline(y=0, color = 'blue')\n",
    "plt.axhline(y=-2, color = 'red', lw = 0.8)\n",
    "plt.title('Standardized Residual Plot')\n",
    "plt.xlabel('Predicted y value')\n",
    "plt.ylabel('Standardized Residual')\n",
    "plt.show()"
   ]
  },
  {
   "cell_type": "markdown",
   "metadata": {},
   "source": [
    "We do not reject H0. We can assume the variation is constant and the mean is around 0.\n",
    "#### Independence\n",
    "H0 : Independence  \n",
    "H1 : Not independence  "
   ]
  },
  {
   "cell_type": "code",
   "execution_count": 47,
   "metadata": {},
   "outputs": [
    {
     "data": {
      "image/png": "[encoded data removed]",
      "text/plain": [
       "<Figure size 360x240 with 1 Axes>"
      ]
     },
     "metadata": {
      "needs_background": "light"
     },
     "output_type": "display_data"
    },
    {
     "name": "stdout",
     "output_type": "stream",
     "text": [
      "runs =  19\n",
      "n1 =  18\n",
      "n2 =  18\n",
      "runs_exp =  19.0\n",
      "stan_dev =  2.9568322818274866\n",
      "z =  0.0\n",
      "pval_z =  1.0\n",
      "p_value for Z-statistic=  1.0\n"
     ]
    }
   ],
   "source": [
    "Id = data[:, 0]\n",
    "plt.plot(Id, SD, 'o', color = 'gray')\n",
    "plt.axhline(y=0, color = 'blue')\n",
    "plt.axhline(y=2, color = 'red')\n",
    "plt.axhline(y=-2, color = 'red')\n",
    "plt.title('Standardized Residual Plot')\n",
    "plt.xlabel('Observation No.')\n",
    "plt.ylabel('Standardized Residual')\n",
    "plt.show()\n",
    "\n",
    "SD_median = statistics.median(SD)\n",
    "Z_pval = runsTest(SD, SD_median) \n",
    "print('p_value for Z-statistic= ', Z_pval)"
   ]
  },
  {
   "cell_type": "markdown",
   "metadata": {},
   "source": [
    "Since n1<=20 and n2<=20, we check with run table.  \n",
    "lower bound = 4 < runs = 7 < upper bound = 14  \n",
    "Thus, there is no evidence to infer the sample is not random selected.  \n",
    "#### According to the results above, all requirements are satisfied  \n",
    "#### Autocorreltaion  \n",
    "H0: The data are not first-order correlated  \n",
    "H1: The data are first-order correlated  "
   ]
  },
  {
   "cell_type": "code",
   "execution_count": 48,
   "metadata": {},
   "outputs": [
    {
     "name": "stdout",
     "output_type": "stream",
     "text": [
      "x_square_sum =  36.05486254803435\n",
      "size =  36\n",
      "x_d =  [0. 0. 0. 0. 0. 0. 0. 0. 0. 0. 0. 0. 0. 0. 0. 0. 0. 0. 0. 0. 0. 0. 0. 0.\n",
      " 0. 0. 0. 0. 0. 0. 0. 0. 0. 0. 0. 0.]\n",
      "x_d =  [ 0.         -0.34063343  0.85158358  1.36253373 -2.55475075  0.17031672\n",
      "  2.21411732 -1.19221702  0.51095015  0.68126687 -1.70316717  1.87348388\n",
      " -3.07548702  2.14380988 -1.15435916  0.3298169   0.49472536  0.65963381\n",
      "  0.16490845 -1.15435916 -0.98945071 -0.82454226  1.81399297 -0.65963381\n",
      "  2.97479081 -1.87348388  0.34063343 -1.70316717  2.0438006  -0.85158358\n",
      " -2.38443404  2.38443404  0.51095015  0.17031672 -0.17031672 -1.19221702]\n",
      "d =  2.191746137265235\n",
      "2.191746137265235\n"
     ]
    }
   ],
   "source": [
    "d = Durbin_Watson_test(SD)\n",
    "print(d)"
   ]
  },
  {
   "cell_type": "markdown",
   "metadata": {},
   "source": [
    "size = 16, k = 2(includes intercept), dL = 0.98013, dU = 1.23538  \n",
    "Since dU < d= 1.7757423389509335 < 4-dU, we can not reject H0.  \n",
    "Thus, there is not enough evidence to infer that first order auto-correlation exist.  \n",
    "We dont need to apply Autoregression model."
   ]
  },
  {
   "cell_type": "code",
   "execution_count": 53,
   "metadata": {},
   "outputs": [
    {
     "name": "stdout",
     "output_type": "stream",
     "text": [
      "[228.25       219.91666667 255.25       252.58333333 262.58333333\n",
      " 263.25       266.91666667 266.25       245.25       256.91666667\n",
      " 245.25       247.58333333]\n"
     ]
    },
    {
     "data": {
      "image/png": "[encoded data removed]",
      "text/plain": [
       "<Figure size 360x240 with 1 Axes>"
      ]
     },
     "metadata": {
      "needs_background": "light"
     },
     "output_type": "display_data"
    }
   ],
   "source": [
    "New_t_2 = np.array([[36, 1, 0, 0, 0, 0, 0, 0, 0, 0, 0, 0],\n",
    "                    [37, 0, 1, 0, 0, 0, 0, 0, 0, 0, 0, 0],\n",
    "                    [38, 0, 0, 1, 0, 0, 0, 0, 0, 0, 0, 0], \n",
    "                    [39, 0, 0, 0, 1, 0, 0, 0, 0, 0, 0, 0],\n",
    "                    [40, 0, 0, 0, 0, 1, 0, 0, 0, 0, 0, 0],\n",
    "                    [41, 0, 0, 0, 0, 0, 1, 0, 0, 0, 0, 0],\n",
    "                    [42, 0, 0, 0, 0, 0, 0, 1, 0, 0, 0, 0],\n",
    "                    [43, 0, 0, 0, 0, 0, 0, 0, 1, 0, 0, 0],\n",
    "                    [44, 0, 0, 0, 0, 0, 0, 0, 0, 1, 0, 0],\n",
    "                    [45, 0, 0, 0, 0, 0, 0, 0, 0, 0, 1, 0],\n",
    "                    [46, 0, 0, 0, 0, 0, 0, 0, 0, 0, 0, 1],\n",
    "                    [47, 0, 0, 0, 0, 0, 0, 0, 0, 0, 0, 0]])\n",
    "Total_t_2 = np.append(df_d['t'], New_t_2[:,0])\n",
    "New_t_2 = sm.add_constant(New_t_2)\n",
    "df_d_DM_pre_New_t = result_reg_df_d_DM.predict(New_t_2)\n",
    "print(df_d_DM_pre_New_t)\n",
    "New_Nan = np.zeros(New_t_2.shape[0])\n",
    "New_Nan[:] = np.nan\n",
    "\n",
    "df_d_DM_New_orig = np.append(df_d['Billions_of_miles'], New_Nan)\n",
    "df_d_DM_New_pre = np.append(des_pre_df_d_DM, df_d_DM_pre_New_t)\n",
    "plt.plot(Total_t_2, df_d_DM_New_orig)\n",
    "plt.plot(Total_t_2, df_d_DM_New_pre)\n",
    "plt.legend(labels=['org', 'Line_pre'])\n",
    "plt.xlabel('time')\n",
    "plt.ylabel('Accounts receivable')\n",
    "plt.title('Line Chart for Accounts receivable')\n",
    "plt.show()\n",
    "\n"
   ]
  },
  {
   "cell_type": "markdown",
   "metadata": {},
   "source": [
    "# Comparison"
   ]
  },
  {
   "cell_type": "code",
   "execution_count": 51,
   "metadata": {},
   "outputs": [
    {
     "name": "stdout",
     "output_type": "stream",
     "text": [
      "Error Metrics for Seasonal Index by Moving Average\n",
      "MAD =  1.674725\n",
      "MSE =  4.984779\n",
      "RMSE =  2.232662\n",
      "MAPE =  0.679629 %\n",
      "\n",
      "\n",
      "Error Metrics for Seasonal Index by LR\n",
      "MAD =  1.622203\n",
      "MSE =  4.229626\n",
      "RMSE =  2.056605\n",
      "MAPE =  0.657645 %\n",
      "\n",
      "\n",
      "Error Metrics for LR Dummy\n",
      "MAD =  1.615741\n",
      "MSE =  3.915509\n",
      "RMSE =  1.978765\n",
      "MAPE =  0.655271 %\n"
     ]
    }
   ],
   "source": [
    "print('Error Metrics for Seasonal Index by Moving Average')\n",
    "MA_Err_M = ErrMetrix(df['Billions_of_miles'], Sea_pre_df_MA)\n",
    "print('\\n')\n",
    "print('Error Metrics for Seasonal Index by LR')\n",
    "LR_Err_M = ErrMetrix(df['Billions_of_miles'], Sea_pre_df_LR)\n",
    "print('\\n')\n",
    "print('Error Metrics for LR Dummy')\n",
    "DM_Err_M = ErrMetrix(df['Billions_of_miles'], des_pre_df_d_DM)"
   ]
  },
  {
   "cell_type": "code",
   "execution_count": 52,
   "metadata": {},
   "outputs": [
    {
     "name": "stdout",
     "output_type": "stream",
     "text": [
      "dataset:\n"
     ]
    },
    {
     "data": {
      "text/html": [
       "<div>\n",
       "<style scoped>\n",
       "    .dataframe tbody tr th:only-of-type {\n",
       "        vertical-align: middle;\n",
       "    }\n",
       "\n",
       "    .dataframe tbody tr th {\n",
       "        vertical-align: top;\n",
       "    }\n",
       "\n",
       "    .dataframe thead th {\n",
       "        text-align: right;\n",
       "    }\n",
       "</style>\n",
       "<table border=\"1\" class=\"dataframe\">\n",
       "  <thead>\n",
       "    <tr style=\"text-align: right;\">\n",
       "      <th></th>\n",
       "      <th>ErrM</th>\n",
       "      <th>SIMA</th>\n",
       "      <th>SILR</th>\n",
       "      <th>Dummy</th>\n",
       "    </tr>\n",
       "  </thead>\n",
       "  <tbody>\n",
       "    <tr>\n",
       "      <th>0</th>\n",
       "      <td>MAD</td>\n",
       "      <td>1.674725</td>\n",
       "      <td>1.622203</td>\n",
       "      <td>1.615741</td>\n",
       "    </tr>\n",
       "    <tr>\n",
       "      <th>1</th>\n",
       "      <td>MSE</td>\n",
       "      <td>4.984779</td>\n",
       "      <td>4.229626</td>\n",
       "      <td>3.915509</td>\n",
       "    </tr>\n",
       "    <tr>\n",
       "      <th>2</th>\n",
       "      <td>RMSE</td>\n",
       "      <td>2.232662</td>\n",
       "      <td>2.056605</td>\n",
       "      <td>1.978765</td>\n",
       "    </tr>\n",
       "    <tr>\n",
       "      <th>3</th>\n",
       "      <td>MAPE</td>\n",
       "      <td>0.679629</td>\n",
       "      <td>0.657645</td>\n",
       "      <td>0.655271</td>\n",
       "    </tr>\n",
       "  </tbody>\n",
       "</table>\n",
       "</div>"
      ],
      "text/plain": [
       "   ErrM      SIMA      SILR     Dummy\n",
       "0   MAD  1.674725  1.622203  1.615741\n",
       "1   MSE  4.984779  4.229626  3.915509\n",
       "2  RMSE  2.232662  2.056605  1.978765\n",
       "3  MAPE  0.679629  0.657645  0.655271"
      ]
     },
     "metadata": {},
     "output_type": "display_data"
    }
   ],
   "source": [
    "ErrM_id = ['MAD', 'MSE', 'RMSE', 'MAPE']\n",
    "ErrM_a = np.array([ErrM_id, MA_Err_M, LR_Err_M, DM_Err_M])\n",
    "ErrM_df = pd.DataFrame(ErrM_a.T, columns = ['ErrM', 'SIMA', 'SILR', 'Dummy'])\n",
    "print('dataset:')\n",
    "display(ErrM_df)"
   ]
  },
  {
   "cell_type": "markdown",
   "metadata": {},
   "source": [
    "#### According to the table above, we can see that SILR performs the best no matter which measurement method we use."
   ]
  }
 ],
 "metadata": {
  "kernelspec": {
   "display_name": "Python 3",
   "language": "python",
   "name": "python3"
  },
  "language_info": {
   "codemirror_mode": {
    "name": "ipython",
    "version": 3
   },
   "file_extension": ".py",
   "mimetype": "text/x-python",
   "name": "python",
   "nbconvert_exporter": "python",
   "pygments_lexer": "ipython3",
   "version": "3.8.5"
  }
 },
 "nbformat": 4,
 "nbformat_minor": 4
}
