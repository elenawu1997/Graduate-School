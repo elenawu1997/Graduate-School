{
 "cells": [
  {
   "cell_type": "code",
   "execution_count": 1,
   "metadata": {},
   "outputs": [],
   "source": [
    "#載入所需函示庫\n",
    "\n",
    "from matplotlib import pyplot as plt\n",
    "%matplotlib inline\n",
    "# 設定圖形大小; DPI越大圖越大\n",
    "plt.rcParams[\"figure.dpi\"] = 60\n",
    "\n",
    "import pandas as pd\n",
    "import numpy as np\n",
    "import scipy.stats as stats\n",
    "import statsmodels.api as sm\n",
    "import statsmodels.stats.api as sms\n",
    "import statsmodels.formula.api as smf\n",
    "import statsmodels.stats.multicomp as smm\n",
    "import statsmodels\n",
    "import statsmodels.stats.libqsturng"
   ]
  },
  {
   "cell_type": "markdown",
   "metadata": {},
   "source": [
    "### 評分標準\n",
    "\n",
    "#### 14.11~14.22 (共6小題，每小題10%)  \n",
    "- 3% Condition1_Normal Distribution ：H0H1 1%, 檢定過程1%, reject H0 or not 0.5%, conclusion 0.5% (畫圖則圖2%, conclusion1%) \n",
    "- 3% Condition2_Equal Variances &ensp; &ensp; ：H0H1 1%, 檢定過程1%, reject H0 or not 0.5%, conclusion 0.5%\n",
    "- 1% Condition3_Independence  \n",
    "- 3% ANOVA test &ensp; &ensp; &ensp; &ensp; &ensp; &ensp; &ensp; &ensp; &ensp; &ensp; &ensp; &ensp; ：H0H1 1%, 檢定過程1%, reject H0 or not 0.5%, conclusion 0.5%\n",
    "- 若H0H1中有用到 $\\mu_1 , \\mu_2 , \\mu_3 , \\mu_4  $ 等，但未註記1,2,3,4為何，該小題扣0.5% \n",
    "\n",
    "#### 14.57(20%)\n",
    "- (a)(b)(c)各6%，H0H1 1%, 計算 3%, reject H0 1%, conclusion 1%\n",
    "\n",
    "#### 14.63(20%)\n",
    "- (a)10%，標準同14.11~14.22\n",
    "- (b)(c)各5%，H0H1 1%, 計算 2%, reject H0 1%, conclusion 1%"
   ]
  },
  {
   "cell_type": "markdown",
   "metadata": {},
   "source": [
    "### 14.11 (10%)\n",
    "\n",
    "Let treatment \"Less than HS\", \"HS grad\", \"Some college\", \"College grad\" be treatment1, treatment2, treatment3, treatment4 respectively.  \n",
    "Alpha = 0.05 for all hypthesis tests."
   ]
  },
  {
   "cell_type": "code",
   "execution_count": 2,
   "metadata": {},
   "outputs": [
    {
     "name": "stdout",
     "output_type": "stream",
     "text": [
      "Head of dataset:\n"
     ]
    },
    {
     "data": {
      "text/html": [
       "<div>\n",
       "<style scoped>\n",
       "    .dataframe tbody tr th:only-of-type {\n",
       "        vertical-align: middle;\n",
       "    }\n",
       "\n",
       "    .dataframe tbody tr th {\n",
       "        vertical-align: top;\n",
       "    }\n",
       "\n",
       "    .dataframe thead th {\n",
       "        text-align: right;\n",
       "    }\n",
       "</style>\n",
       "<table border=\"1\" class=\"dataframe\">\n",
       "  <thead>\n",
       "    <tr style=\"text-align: right;\">\n",
       "      <th></th>\n",
       "      <th>Less than HS</th>\n",
       "      <th>HS grad</th>\n",
       "      <th>Some college</th>\n",
       "      <th>College grad</th>\n",
       "    </tr>\n",
       "  </thead>\n",
       "  <tbody>\n",
       "    <tr>\n",
       "      <th>0</th>\n",
       "      <td>193.0</td>\n",
       "      <td>189.0</td>\n",
       "      <td>211</td>\n",
       "      <td>269.0</td>\n",
       "    </tr>\n",
       "    <tr>\n",
       "      <th>1</th>\n",
       "      <td>231.0</td>\n",
       "      <td>182.0</td>\n",
       "      <td>183</td>\n",
       "      <td>243.0</td>\n",
       "    </tr>\n",
       "    <tr>\n",
       "      <th>2</th>\n",
       "      <td>195.0</td>\n",
       "      <td>209.0</td>\n",
       "      <td>203</td>\n",
       "      <td>187.0</td>\n",
       "    </tr>\n",
       "    <tr>\n",
       "      <th>3</th>\n",
       "      <td>189.0</td>\n",
       "      <td>197.0</td>\n",
       "      <td>214</td>\n",
       "      <td>170.0</td>\n",
       "    </tr>\n",
       "    <tr>\n",
       "      <th>4</th>\n",
       "      <td>200.0</td>\n",
       "      <td>215.0</td>\n",
       "      <td>150</td>\n",
       "      <td>272.0</td>\n",
       "    </tr>\n",
       "  </tbody>\n",
       "</table>\n",
       "</div>"
      ],
      "text/plain": [
       "   Less than HS  HS grad  Some college  College grad\n",
       "0         193.0    189.0           211         269.0\n",
       "1         231.0    182.0           183         243.0\n",
       "2         195.0    209.0           203         187.0\n",
       "3         189.0    197.0           214         170.0\n",
       "4         200.0    215.0           150         272.0"
      ]
     },
     "metadata": {},
     "output_type": "display_data"
    },
    {
     "name": "stdout",
     "output_type": "stream",
     "text": [
      "Tail of dataset:\n"
     ]
    },
    {
     "data": {
      "text/html": [
       "<div>\n",
       "<style scoped>\n",
       "    .dataframe tbody tr th:only-of-type {\n",
       "        vertical-align: middle;\n",
       "    }\n",
       "\n",
       "    .dataframe tbody tr th {\n",
       "        vertical-align: top;\n",
       "    }\n",
       "\n",
       "    .dataframe thead th {\n",
       "        text-align: right;\n",
       "    }\n",
       "</style>\n",
       "<table border=\"1\" class=\"dataframe\">\n",
       "  <thead>\n",
       "    <tr style=\"text-align: right;\">\n",
       "      <th></th>\n",
       "      <th>Less than HS</th>\n",
       "      <th>HS grad</th>\n",
       "      <th>Some college</th>\n",
       "      <th>College grad</th>\n",
       "    </tr>\n",
       "  </thead>\n",
       "  <tbody>\n",
       "    <tr>\n",
       "      <th>81</th>\n",
       "      <td>NaN</td>\n",
       "      <td>NaN</td>\n",
       "      <td>260</td>\n",
       "      <td>NaN</td>\n",
       "    </tr>\n",
       "    <tr>\n",
       "      <th>82</th>\n",
       "      <td>NaN</td>\n",
       "      <td>NaN</td>\n",
       "      <td>249</td>\n",
       "      <td>NaN</td>\n",
       "    </tr>\n",
       "    <tr>\n",
       "      <th>83</th>\n",
       "      <td>NaN</td>\n",
       "      <td>NaN</td>\n",
       "      <td>203</td>\n",
       "      <td>NaN</td>\n",
       "    </tr>\n",
       "    <tr>\n",
       "      <th>84</th>\n",
       "      <td>NaN</td>\n",
       "      <td>NaN</td>\n",
       "      <td>239</td>\n",
       "      <td>NaN</td>\n",
       "    </tr>\n",
       "    <tr>\n",
       "      <th>85</th>\n",
       "      <td>NaN</td>\n",
       "      <td>NaN</td>\n",
       "      <td>185</td>\n",
       "      <td>NaN</td>\n",
       "    </tr>\n",
       "  </tbody>\n",
       "</table>\n",
       "</div>"
      ],
      "text/plain": [
       "    Less than HS  HS grad  Some college  College grad\n",
       "81           NaN      NaN           260           NaN\n",
       "82           NaN      NaN           249           NaN\n",
       "83           NaN      NaN           203           NaN\n",
       "84           NaN      NaN           239           NaN\n",
       "85           NaN      NaN           185           NaN"
      ]
     },
     "metadata": {},
     "output_type": "display_data"
    }
   ],
   "source": [
    "data11 = pd.read_excel(\"Xr14-11.xlsx\")\n",
    "print('Head of dataset:')\n",
    "display(data11.head())\n",
    "\n",
    "print(\"Tail of dataset:\")\n",
    "display(data11.tail())"
   ]
  },
  {
   "cell_type": "code",
   "execution_count": 3,
   "metadata": {},
   "outputs": [
    {
     "data": {
      "text/plain": [
       "['Less than HS', 'HS grad', 'Some college', 'College grad']"
      ]
     },
     "execution_count": 3,
     "metadata": {},
     "output_type": "execute_result"
    }
   ],
   "source": [
    "cols = list(data11.columns.values)\n",
    "cols"
   ]
  },
  {
   "cell_type": "code",
   "execution_count": 4,
   "metadata": {},
   "outputs": [],
   "source": [
    "unit = \"score\"\n",
    "treatments = ['LessHS', 'HS', 'SomeCollege', 'College']\n",
    "\n",
    "#wide_to_long假設同樣資料在不同因素下的名稱有相同的字頭，因此我們要改欄位名稱。\n",
    "df11 = data11.rename(columns = {cols[0]: unit+'_'+treatments[0], cols[1]: unit+'_'+treatments[1], \\\n",
    "                                cols[2]: unit+'_'+treatments[2], cols[3]: unit+'_'+treatments[3]})\n",
    "\n",
    "#需要一個ID欄位\n",
    "df11[\"id\"] = df11.index\n",
    "\n",
    "#呼叫wide_to_long(); 文件請見: https://pandas.pydata.org/pandas-docs/stable/reference/api/pandas.wide_to_long.html\n",
    "df11w = pd.wide_to_long(df11, [unit], sep = \"_\", suffix = '\\w+', i=\"id\", j=\"factor\").reset_index()\n",
    "df11w = df11w[~np.isnan(df11w[unit])]\n",
    "\n",
    "#移除id行\n",
    "df = df11w.drop(columns=['id'])"
   ]
  },
  {
   "cell_type": "code",
   "execution_count": 5,
   "metadata": {},
   "outputs": [
    {
     "data": {
      "text/html": [
       "<div>\n",
       "<style scoped>\n",
       "    .dataframe tbody tr th:only-of-type {\n",
       "        vertical-align: middle;\n",
       "    }\n",
       "\n",
       "    .dataframe tbody tr th {\n",
       "        vertical-align: top;\n",
       "    }\n",
       "\n",
       "    .dataframe thead tr th {\n",
       "        text-align: left;\n",
       "    }\n",
       "\n",
       "    .dataframe thead tr:last-of-type th {\n",
       "        text-align: right;\n",
       "    }\n",
       "</style>\n",
       "<table border=\"1\" class=\"dataframe\">\n",
       "  <thead>\n",
       "    <tr>\n",
       "      <th></th>\n",
       "      <th colspan=\"8\" halign=\"left\">score</th>\n",
       "    </tr>\n",
       "    <tr>\n",
       "      <th></th>\n",
       "      <th>count</th>\n",
       "      <th>mean</th>\n",
       "      <th>std</th>\n",
       "      <th>min</th>\n",
       "      <th>25%</th>\n",
       "      <th>50%</th>\n",
       "      <th>75%</th>\n",
       "      <th>max</th>\n",
       "    </tr>\n",
       "    <tr>\n",
       "      <th>factor</th>\n",
       "      <th></th>\n",
       "      <th></th>\n",
       "      <th></th>\n",
       "      <th></th>\n",
       "      <th></th>\n",
       "      <th></th>\n",
       "      <th></th>\n",
       "      <th></th>\n",
       "    </tr>\n",
       "  </thead>\n",
       "  <tbody>\n",
       "    <tr>\n",
       "      <th>College</th>\n",
       "      <td>79.0</td>\n",
       "      <td>232.670886</td>\n",
       "      <td>32.860514</td>\n",
       "      <td>136.0</td>\n",
       "      <td>210.0</td>\n",
       "      <td>241.0</td>\n",
       "      <td>253.0</td>\n",
       "      <td>309.0</td>\n",
       "    </tr>\n",
       "    <tr>\n",
       "      <th>HS</th>\n",
       "      <td>73.0</td>\n",
       "      <td>207.780822</td>\n",
       "      <td>29.344811</td>\n",
       "      <td>143.0</td>\n",
       "      <td>187.0</td>\n",
       "      <td>210.0</td>\n",
       "      <td>222.0</td>\n",
       "      <td>269.0</td>\n",
       "    </tr>\n",
       "    <tr>\n",
       "      <th>LessHS</th>\n",
       "      <td>41.0</td>\n",
       "      <td>196.829268</td>\n",
       "      <td>30.233179</td>\n",
       "      <td>139.0</td>\n",
       "      <td>175.0</td>\n",
       "      <td>194.0</td>\n",
       "      <td>211.0</td>\n",
       "      <td>278.0</td>\n",
       "    </tr>\n",
       "    <tr>\n",
       "      <th>SomeCollege</th>\n",
       "      <td>86.0</td>\n",
       "      <td>223.383721</td>\n",
       "      <td>34.575125</td>\n",
       "      <td>150.0</td>\n",
       "      <td>199.5</td>\n",
       "      <td>223.0</td>\n",
       "      <td>249.0</td>\n",
       "      <td>304.0</td>\n",
       "    </tr>\n",
       "  </tbody>\n",
       "</table>\n",
       "</div>"
      ],
      "text/plain": [
       "            score                                                          \n",
       "            count        mean        std    min    25%    50%    75%    max\n",
       "factor                                                                     \n",
       "College      79.0  232.670886  32.860514  136.0  210.0  241.0  253.0  309.0\n",
       "HS           73.0  207.780822  29.344811  143.0  187.0  210.0  222.0  269.0\n",
       "LessHS       41.0  196.829268  30.233179  139.0  175.0  194.0  211.0  278.0\n",
       "SomeCollege  86.0  223.383721  34.575125  150.0  199.5  223.0  249.0  304.0"
      ]
     },
     "execution_count": 5,
     "metadata": {},
     "output_type": "execute_result"
    }
   ],
   "source": [
    "#看看不同factor下的summary statistics\n",
    "df.groupby(['factor']).describe()"
   ]
  },
  {
   "cell_type": "markdown",
   "metadata": {},
   "source": [
    "#### Condition1: 使用Shapiro Test檢查分布是否為常態  \n",
    "H0: Normal distribution  \n",
    "H1: Not Normal distribution  "
   ]
  },
  {
   "cell_type": "code",
   "execution_count": 6,
   "metadata": {},
   "outputs": [
    {
     "name": "stdout",
     "output_type": "stream",
     "text": [
      "LessHS          : Statistics=0.9778, p=0.5932\n",
      "HS              : Statistics=0.9826, p=0.4125\n",
      "SomeCollege     : Statistics=0.9893, p=0.7096\n",
      "College         : Statistics=0.9813, p=0.3014\n"
     ]
    }
   ],
   "source": [
    "for i in range(len(treatments)):\n",
    "    stat, p = stats.shapiro(df[unit][df['factor'] == treatments[i]])\n",
    "    print('%-15s : Statistics=%.4f, p=%.4f' % (treatments[i], stat, p))"
   ]
  },
  {
   "cell_type": "markdown",
   "metadata": {},
   "source": [
    "Since each p-value above is larger than 0.05, for each factor, we can not reject the null hypothesis at a significance level of 0.05.  \n",
    "Thus, the data satisfies the condition that all treatsments are Normal Distribution."
   ]
  },
  {
   "cell_type": "markdown",
   "metadata": {},
   "source": [
    "#### Condition2: Bartlett's Tests for Equal Variance  \n",
    "H0: $\\sigma_1^2 = \\sigma_2^2 = \\sigma_3^2 = \\sigma_4^2$ <br>\n",
    "H1: At least two variances are different"
   ]
  },
  {
   "cell_type": "code",
   "execution_count": 7,
   "metadata": {},
   "outputs": [
    {
     "data": {
      "text/plain": [
       "BartlettResult(statistic=2.4244513470943465, pvalue=0.4890992428018036)"
      ]
     },
     "execution_count": 7,
     "metadata": {},
     "output_type": "execute_result"
    }
   ],
   "source": [
    "stats.bartlett(*(df[unit][df['factor'] == treatments[i]] for i in range(len(treatments))))"
   ]
  },
  {
   "cell_type": "markdown",
   "metadata": {},
   "source": [
    "Since the p-value above is larger than 0.05, we can not reject the null hypothesis at a significance level of 0.05.  \n",
    "Thus, the data satisfies the condition that all treatsments have Equal Variances."
   ]
  },
  {
   "cell_type": "markdown",
   "metadata": {},
   "source": [
    "#### Condition3: According to the problem discription, the observations are independent."
   ]
  },
  {
   "cell_type": "markdown",
   "metadata": {},
   "source": [
    "#### Apply ANOVA Test for mean equality  \n",
    "$H_0: \\mu_1 = \\mu_2 = \\mu_3 = \\mu_4$ <br>\n",
    "$H_1$: At least two means differ"
   ]
  },
  {
   "cell_type": "code",
   "execution_count": 8,
   "metadata": {},
   "outputs": [
    {
     "data": {
      "text/html": [
       "<div>\n",
       "<style scoped>\n",
       "    .dataframe tbody tr th:only-of-type {\n",
       "        vertical-align: middle;\n",
       "    }\n",
       "\n",
       "    .dataframe tbody tr th {\n",
       "        vertical-align: top;\n",
       "    }\n",
       "\n",
       "    .dataframe thead th {\n",
       "        text-align: right;\n",
       "    }\n",
       "</style>\n",
       "<table border=\"1\" class=\"dataframe\">\n",
       "  <thead>\n",
       "    <tr style=\"text-align: right;\">\n",
       "      <th></th>\n",
       "      <th>sum_sq</th>\n",
       "      <th>df</th>\n",
       "      <th>F</th>\n",
       "      <th>PR(&gt;F)</th>\n",
       "    </tr>\n",
       "  </thead>\n",
       "  <tbody>\n",
       "    <tr>\n",
       "      <th>C(factor)</th>\n",
       "      <td>45495.692333</td>\n",
       "      <td>3.0</td>\n",
       "      <td>14.663985</td>\n",
       "      <td>6.927991e-09</td>\n",
       "    </tr>\n",
       "    <tr>\n",
       "      <th>Residual</th>\n",
       "      <td>284400.078276</td>\n",
       "      <td>275.0</td>\n",
       "      <td>NaN</td>\n",
       "      <td>NaN</td>\n",
       "    </tr>\n",
       "  </tbody>\n",
       "</table>\n",
       "</div>"
      ],
      "text/plain": [
       "                  sum_sq     df          F        PR(>F)\n",
       "C(factor)   45495.692333    3.0  14.663985  6.927991e-09\n",
       "Residual   284400.078276  275.0        NaN           NaN"
      ]
     },
     "execution_count": 8,
     "metadata": {},
     "output_type": "execute_result"
    }
   ],
   "source": [
    "results = smf.ols( unit + ' ~ C(factor)', data=df).fit()\n",
    "#results.summary()\n",
    "aov_table = sms.anova_lm(results, typ=2)\n",
    "aov_table"
   ]
  },
  {
   "cell_type": "markdown",
   "metadata": {},
   "source": [
    "Since the p-value above is less than 0.05, we reject the null hypothesis at a significance level of 0.05.  \n",
    "Thus, we conclude that at least one of the mean scores is different from the others."
   ]
  },
  {
   "cell_type": "markdown",
   "metadata": {},
   "source": [
    "### 14.17 (20%) (每小題10%)\n",
    "\n",
    "Let treatment \"Group1\", \"Group2\", \"Group3\" be treatment1, treatment2, treatment3 respectively.  \n",
    "Alpha = 0.05 for all hypthesis tests."
   ]
  },
  {
   "cell_type": "code",
   "execution_count": 9,
   "metadata": {},
   "outputs": [
    {
     "name": "stdout",
     "output_type": "stream",
     "text": [
      "Head of dataset:\n"
     ]
    },
    {
     "data": {
      "text/html": [
       "<div>\n",
       "<style scoped>\n",
       "    .dataframe tbody tr th:only-of-type {\n",
       "        vertical-align: middle;\n",
       "    }\n",
       "\n",
       "    .dataframe tbody tr th {\n",
       "        vertical-align: top;\n",
       "    }\n",
       "\n",
       "    .dataframe thead th {\n",
       "        text-align: right;\n",
       "    }\n",
       "</style>\n",
       "<table border=\"1\" class=\"dataframe\">\n",
       "  <thead>\n",
       "    <tr style=\"text-align: right;\">\n",
       "      <th></th>\n",
       "      <th>Size-Group 1</th>\n",
       "      <th>Size-Group 2</th>\n",
       "      <th>Size-Group 3</th>\n",
       "      <th>Nicotine-Group 1</th>\n",
       "      <th>Nicotine-Group 2</th>\n",
       "      <th>Nicotine-Group 3</th>\n",
       "    </tr>\n",
       "  </thead>\n",
       "  <tbody>\n",
       "    <tr>\n",
       "      <th>0</th>\n",
       "      <td>15.43</td>\n",
       "      <td>13.50</td>\n",
       "      <td>11.17</td>\n",
       "      <td>18.34</td>\n",
       "      <td>18.17</td>\n",
       "      <td>4.87</td>\n",
       "    </tr>\n",
       "    <tr>\n",
       "      <th>1</th>\n",
       "      <td>37.34</td>\n",
       "      <td>25.73</td>\n",
       "      <td>10.90</td>\n",
       "      <td>17.26</td>\n",
       "      <td>13.10</td>\n",
       "      <td>13.64</td>\n",
       "    </tr>\n",
       "    <tr>\n",
       "      <th>2</th>\n",
       "      <td>25.98</td>\n",
       "      <td>22.90</td>\n",
       "      <td>21.09</td>\n",
       "      <td>11.26</td>\n",
       "      <td>15.29</td>\n",
       "      <td>12.56</td>\n",
       "    </tr>\n",
       "    <tr>\n",
       "      <th>3</th>\n",
       "      <td>20.44</td>\n",
       "      <td>33.02</td>\n",
       "      <td>10.52</td>\n",
       "      <td>20.09</td>\n",
       "      <td>14.44</td>\n",
       "      <td>10.66</td>\n",
       "    </tr>\n",
       "    <tr>\n",
       "      <th>4</th>\n",
       "      <td>18.76</td>\n",
       "      <td>34.46</td>\n",
       "      <td>22.65</td>\n",
       "      <td>13.71</td>\n",
       "      <td>15.35</td>\n",
       "      <td>7.72</td>\n",
       "    </tr>\n",
       "  </tbody>\n",
       "</table>\n",
       "</div>"
      ],
      "text/plain": [
       "   Size-Group 1  Size-Group 2  Size-Group 3  Nicotine-Group 1  \\\n",
       "0         15.43         13.50         11.17             18.34   \n",
       "1         37.34         25.73         10.90             17.26   \n",
       "2         25.98         22.90         21.09             11.26   \n",
       "3         20.44         33.02         10.52             20.09   \n",
       "4         18.76         34.46         22.65             13.71   \n",
       "\n",
       "   Nicotine-Group 2  Nicotine-Group 3  \n",
       "0             18.17              4.87  \n",
       "1             13.10             13.64  \n",
       "2             15.29             12.56  \n",
       "3             14.44             10.66  \n",
       "4             15.35              7.72  "
      ]
     },
     "metadata": {},
     "output_type": "display_data"
    },
    {
     "name": "stdout",
     "output_type": "stream",
     "text": [
      "Tail of dataset:\n"
     ]
    },
    {
     "data": {
      "text/html": [
       "<div>\n",
       "<style scoped>\n",
       "    .dataframe tbody tr th:only-of-type {\n",
       "        vertical-align: middle;\n",
       "    }\n",
       "\n",
       "    .dataframe tbody tr th {\n",
       "        vertical-align: top;\n",
       "    }\n",
       "\n",
       "    .dataframe thead th {\n",
       "        text-align: right;\n",
       "    }\n",
       "</style>\n",
       "<table border=\"1\" class=\"dataframe\">\n",
       "  <thead>\n",
       "    <tr style=\"text-align: right;\">\n",
       "      <th></th>\n",
       "      <th>Size-Group 1</th>\n",
       "      <th>Size-Group 2</th>\n",
       "      <th>Size-Group 3</th>\n",
       "      <th>Nicotine-Group 1</th>\n",
       "      <th>Nicotine-Group 2</th>\n",
       "      <th>Nicotine-Group 3</th>\n",
       "    </tr>\n",
       "  </thead>\n",
       "  <tbody>\n",
       "    <tr>\n",
       "      <th>45</th>\n",
       "      <td>27.96</td>\n",
       "      <td>25.60</td>\n",
       "      <td>15.21</td>\n",
       "      <td>17.83</td>\n",
       "      <td>14.46</td>\n",
       "      <td>11.37</td>\n",
       "    </tr>\n",
       "    <tr>\n",
       "      <th>46</th>\n",
       "      <td>21.10</td>\n",
       "      <td>12.70</td>\n",
       "      <td>27.89</td>\n",
       "      <td>19.75</td>\n",
       "      <td>14.49</td>\n",
       "      <td>9.02</td>\n",
       "    </tr>\n",
       "    <tr>\n",
       "      <th>47</th>\n",
       "      <td>27.92</td>\n",
       "      <td>21.56</td>\n",
       "      <td>24.56</td>\n",
       "      <td>17.42</td>\n",
       "      <td>13.91</td>\n",
       "      <td>11.97</td>\n",
       "    </tr>\n",
       "    <tr>\n",
       "      <th>48</th>\n",
       "      <td>32.14</td>\n",
       "      <td>24.61</td>\n",
       "      <td>28.16</td>\n",
       "      <td>15.04</td>\n",
       "      <td>12.07</td>\n",
       "      <td>11.05</td>\n",
       "    </tr>\n",
       "    <tr>\n",
       "      <th>49</th>\n",
       "      <td>39.55</td>\n",
       "      <td>27.52</td>\n",
       "      <td>19.78</td>\n",
       "      <td>14.94</td>\n",
       "      <td>14.06</td>\n",
       "      <td>11.20</td>\n",
       "    </tr>\n",
       "  </tbody>\n",
       "</table>\n",
       "</div>"
      ],
      "text/plain": [
       "    Size-Group 1  Size-Group 2  Size-Group 3  Nicotine-Group 1  \\\n",
       "45         27.96         25.60         15.21             17.83   \n",
       "46         21.10         12.70         27.89             19.75   \n",
       "47         27.92         21.56         24.56             17.42   \n",
       "48         32.14         24.61         28.16             15.04   \n",
       "49         39.55         27.52         19.78             14.94   \n",
       "\n",
       "    Nicotine-Group 2  Nicotine-Group 3  \n",
       "45             14.46             11.37  \n",
       "46             14.49              9.02  \n",
       "47             13.91             11.97  \n",
       "48             12.07             11.05  \n",
       "49             14.06             11.20  "
      ]
     },
     "metadata": {},
     "output_type": "display_data"
    }
   ],
   "source": [
    "data17 = pd.read_excel(\"Xr14-17.xlsx\")\n",
    "\n",
    "print('Head of dataset:')\n",
    "display(data17.head())\n",
    "\n",
    "print(\"Tail of dataset:\")\n",
    "display(data17.tail())"
   ]
  },
  {
   "cell_type": "code",
   "execution_count": 10,
   "metadata": {},
   "outputs": [],
   "source": [
    "#根據a,b兩小題，分成兩份data\n",
    "\n",
    "data17_a = data17[list(data17.columns)[:3]]\n",
    "data17_b = data17[list(data17.columns)[3:]]"
   ]
  },
  {
   "cell_type": "markdown",
   "metadata": {},
   "source": [
    "### 14.17(a)"
   ]
  },
  {
   "cell_type": "code",
   "execution_count": 11,
   "metadata": {},
   "outputs": [
    {
     "data": {
      "text/plain": [
       "['Size-Group 1', 'Size-Group 2', 'Size-Group 3']"
      ]
     },
     "execution_count": 11,
     "metadata": {},
     "output_type": "execute_result"
    }
   ],
   "source": [
    "cols = list(data17_a.columns.values)\n",
    "cols"
   ]
  },
  {
   "cell_type": "code",
   "execution_count": 12,
   "metadata": {},
   "outputs": [],
   "source": [
    "unit = \"Size\"\n",
    "treatments = ['Group1', 'Group2', 'Group3']\n",
    "\n",
    "#wide_to_long假設同樣資料在不同因素下的名稱有相同的字頭，因此我們要改欄位名稱。\n",
    "df17_a = data17_a.rename(columns = {cols[0]: unit+'_'+treatments[0], cols[1]: unit+'_'+treatments[1], cols[2]: unit+'_'+treatments[2]})\n",
    "\n",
    "#需要一個ID欄位\n",
    "df17_a[\"id\"] = df17_a.index\n",
    "\n",
    "#呼叫wide_to_long(); 文件請見: https://pandas.pydata.org/pandas-docs/stable/reference/api/pandas.wide_to_long.html\n",
    "df17_aw = pd.wide_to_long(df17_a, [unit], sep = \"_\", suffix = '\\w+', i=\"id\", j=\"factor\").reset_index()\n",
    "\n",
    "#移除id行\n",
    "df = df17_aw.drop(columns=['id'])"
   ]
  },
  {
   "cell_type": "code",
   "execution_count": 13,
   "metadata": {},
   "outputs": [
    {
     "data": {
      "text/html": [
       "<div>\n",
       "<style scoped>\n",
       "    .dataframe tbody tr th:only-of-type {\n",
       "        vertical-align: middle;\n",
       "    }\n",
       "\n",
       "    .dataframe tbody tr th {\n",
       "        vertical-align: top;\n",
       "    }\n",
       "\n",
       "    .dataframe thead tr th {\n",
       "        text-align: left;\n",
       "    }\n",
       "\n",
       "    .dataframe thead tr:last-of-type th {\n",
       "        text-align: right;\n",
       "    }\n",
       "</style>\n",
       "<table border=\"1\" class=\"dataframe\">\n",
       "  <thead>\n",
       "    <tr>\n",
       "      <th></th>\n",
       "      <th colspan=\"8\" halign=\"left\">Size</th>\n",
       "    </tr>\n",
       "    <tr>\n",
       "      <th></th>\n",
       "      <th>count</th>\n",
       "      <th>mean</th>\n",
       "      <th>std</th>\n",
       "      <th>min</th>\n",
       "      <th>25%</th>\n",
       "      <th>50%</th>\n",
       "      <th>75%</th>\n",
       "      <th>max</th>\n",
       "    </tr>\n",
       "    <tr>\n",
       "      <th>factor</th>\n",
       "      <th></th>\n",
       "      <th></th>\n",
       "      <th></th>\n",
       "      <th></th>\n",
       "      <th></th>\n",
       "      <th></th>\n",
       "      <th></th>\n",
       "      <th></th>\n",
       "    </tr>\n",
       "  </thead>\n",
       "  <tbody>\n",
       "    <tr>\n",
       "      <th>Group1</th>\n",
       "      <td>50.0</td>\n",
       "      <td>24.9680</td>\n",
       "      <td>6.944855</td>\n",
       "      <td>13.49</td>\n",
       "      <td>19.5775</td>\n",
       "      <td>25.35</td>\n",
       "      <td>29.465</td>\n",
       "      <td>39.81</td>\n",
       "    </tr>\n",
       "    <tr>\n",
       "      <th>Group2</th>\n",
       "      <td>50.0</td>\n",
       "      <td>21.6474</td>\n",
       "      <td>7.385159</td>\n",
       "      <td>4.91</td>\n",
       "      <td>15.3500</td>\n",
       "      <td>22.89</td>\n",
       "      <td>26.230</td>\n",
       "      <td>35.39</td>\n",
       "    </tr>\n",
       "    <tr>\n",
       "      <th>Group3</th>\n",
       "      <td>50.0</td>\n",
       "      <td>17.8446</td>\n",
       "      <td>5.818502</td>\n",
       "      <td>2.64</td>\n",
       "      <td>14.2100</td>\n",
       "      <td>16.88</td>\n",
       "      <td>21.600</td>\n",
       "      <td>29.16</td>\n",
       "    </tr>\n",
       "  </tbody>\n",
       "</table>\n",
       "</div>"
      ],
      "text/plain": [
       "        Size                                                         \n",
       "       count     mean       std    min      25%    50%     75%    max\n",
       "factor                                                               \n",
       "Group1  50.0  24.9680  6.944855  13.49  19.5775  25.35  29.465  39.81\n",
       "Group2  50.0  21.6474  7.385159   4.91  15.3500  22.89  26.230  35.39\n",
       "Group3  50.0  17.8446  5.818502   2.64  14.2100  16.88  21.600  29.16"
      ]
     },
     "execution_count": 13,
     "metadata": {},
     "output_type": "execute_result"
    }
   ],
   "source": [
    "#看看不同factor下的summary statistics\n",
    "df.groupby(['factor']).describe()"
   ]
  },
  {
   "cell_type": "markdown",
   "metadata": {},
   "source": [
    "#### Condition1: 使用Shapiro Test檢查分布是否為常態  \n",
    "H0: Normal distribution  \n",
    "H1: Not Normal distribution  "
   ]
  },
  {
   "cell_type": "code",
   "execution_count": 14,
   "metadata": {},
   "outputs": [
    {
     "name": "stdout",
     "output_type": "stream",
     "text": [
      "Group1          : Statistics=0.9699, p=0.2291\n",
      "Group2          : Statistics=0.9785, p=0.4925\n",
      "Group3          : Statistics=0.9792, p=0.5184\n"
     ]
    }
   ],
   "source": [
    "for i in range(len(treatments)):\n",
    "    stat, p = stats.shapiro(df[unit][df['factor'] == treatments[i]])\n",
    "    print('%-15s : Statistics=%.4f, p=%.4f' % (treatments[i], stat, p))"
   ]
  },
  {
   "cell_type": "markdown",
   "metadata": {},
   "source": [
    "Since each p-value above is larger than 0.05, for each factor, we can not reject the null hypothesis at a significance level of 0.05.  \n",
    "Thus, the data satisfies the condition that all treatsments are Normal Distribution."
   ]
  },
  {
   "cell_type": "markdown",
   "metadata": {},
   "source": [
    "#### Condition2: Bartlett's Tests for Equal Variance  \n",
    "H0: $\\sigma_1^2 = \\sigma_2^2 = \\sigma_3^2  $ <br>\n",
    "H1: At least two variances are different"
   ]
  },
  {
   "cell_type": "code",
   "execution_count": 15,
   "metadata": {},
   "outputs": [
    {
     "data": {
      "text/plain": [
       "BartlettResult(statistic=2.859391024454145, pvalue=0.23938179997915682)"
      ]
     },
     "execution_count": 15,
     "metadata": {},
     "output_type": "execute_result"
    }
   ],
   "source": [
    "stats.bartlett(*(df[unit][df['factor'] == treatments[i]] for i in range(len(treatments))))"
   ]
  },
  {
   "cell_type": "markdown",
   "metadata": {},
   "source": [
    "Since the p-value above is larger than 0.05, we can not reject the null hypothesis at a significance level of 0.05.  \n",
    "Thus, the data satisfies the condition that all treatsments have Equal Variances."
   ]
  },
  {
   "cell_type": "markdown",
   "metadata": {},
   "source": [
    "#### Condition3: According to the problem discription, the observations are independent."
   ]
  },
  {
   "cell_type": "markdown",
   "metadata": {},
   "source": [
    "#### Apply ANOVA Test for mean equality  \n",
    "$H_0: \\mu_1 = \\mu_2 = \\mu_3  $ <br>\n",
    "$H_1$: At least two means differ"
   ]
  },
  {
   "cell_type": "code",
   "execution_count": 16,
   "metadata": {},
   "outputs": [
    {
     "data": {
      "text/html": [
       "<div>\n",
       "<style scoped>\n",
       "    .dataframe tbody tr th:only-of-type {\n",
       "        vertical-align: middle;\n",
       "    }\n",
       "\n",
       "    .dataframe tbody tr th {\n",
       "        vertical-align: top;\n",
       "    }\n",
       "\n",
       "    .dataframe thead th {\n",
       "        text-align: right;\n",
       "    }\n",
       "</style>\n",
       "<table border=\"1\" class=\"dataframe\">\n",
       "  <thead>\n",
       "    <tr style=\"text-align: right;\">\n",
       "      <th></th>\n",
       "      <th>sum_sq</th>\n",
       "      <th>df</th>\n",
       "      <th>F</th>\n",
       "      <th>PR(&gt;F)</th>\n",
       "    </tr>\n",
       "  </thead>\n",
       "  <tbody>\n",
       "    <tr>\n",
       "      <th>C(factor)</th>\n",
       "      <td>1270.508329</td>\n",
       "      <td>2.0</td>\n",
       "      <td>13.948698</td>\n",
       "      <td>0.000003</td>\n",
       "    </tr>\n",
       "    <tr>\n",
       "      <th>Residual</th>\n",
       "      <td>6694.700804</td>\n",
       "      <td>147.0</td>\n",
       "      <td>NaN</td>\n",
       "      <td>NaN</td>\n",
       "    </tr>\n",
       "  </tbody>\n",
       "</table>\n",
       "</div>"
      ],
      "text/plain": [
       "                sum_sq     df          F    PR(>F)\n",
       "C(factor)  1270.508329    2.0  13.948698  0.000003\n",
       "Residual   6694.700804  147.0        NaN       NaN"
      ]
     },
     "execution_count": 16,
     "metadata": {},
     "output_type": "execute_result"
    }
   ],
   "source": [
    "results = smf.ols( unit + ' ~ C(factor)', data=df).fit()\n",
    "#results.summary()\n",
    "aov_table = sms.anova_lm(results, typ=2)\n",
    "aov_table"
   ]
  },
  {
   "cell_type": "markdown",
   "metadata": {},
   "source": [
    "Since the p-value above is less than 0.05, we reject the null hypothesis at a significance level of 0.05.  \n",
    "Thus, we conclude that at least one of the mean size is different from the others."
   ]
  },
  {
   "cell_type": "markdown",
   "metadata": {},
   "source": [
    "### 14.17(b)"
   ]
  },
  {
   "cell_type": "code",
   "execution_count": 17,
   "metadata": {},
   "outputs": [
    {
     "data": {
      "text/plain": [
       "['Nicotine-Group 1', 'Nicotine-Group 2', 'Nicotine-Group 3']"
      ]
     },
     "execution_count": 17,
     "metadata": {},
     "output_type": "execute_result"
    }
   ],
   "source": [
    "cols = list(data17_b.columns.values)\n",
    "cols"
   ]
  },
  {
   "cell_type": "code",
   "execution_count": 18,
   "metadata": {},
   "outputs": [],
   "source": [
    "unit = \"Nicotine\"\n",
    "treatments = ['Group1', 'Group2', 'Group3']\n",
    "\n",
    "#wide_to_long假設同樣資料在不同因素下的名稱有相同的字頭，因此我們要改欄位名稱。\n",
    "df17_b = data17_b.rename(columns = {cols[0]: unit+'_'+treatments[0], cols[1]: unit+'_'+treatments[1], cols[2]: unit+'_'+treatments[2]})\n",
    "\n",
    "#需要一個ID欄位\n",
    "df17_b[\"id\"] = df17_b.index\n",
    "\n",
    "#呼叫wide_to_long(); 文件請見: https://pandas.pydata.org/pandas-docs/stable/reference/api/pandas.wide_to_long.html\n",
    "df17_bw = pd.wide_to_long(df17_b, [unit], sep = \"_\", suffix = '\\w+', i=\"id\", j=\"factor\").reset_index()\n",
    "\n",
    "#移除id行\n",
    "df = df17_bw.drop(columns=['id'])"
   ]
  },
  {
   "cell_type": "code",
   "execution_count": 19,
   "metadata": {},
   "outputs": [
    {
     "data": {
      "text/html": [
       "<div>\n",
       "<style scoped>\n",
       "    .dataframe tbody tr th:only-of-type {\n",
       "        vertical-align: middle;\n",
       "    }\n",
       "\n",
       "    .dataframe tbody tr th {\n",
       "        vertical-align: top;\n",
       "    }\n",
       "\n",
       "    .dataframe thead tr th {\n",
       "        text-align: left;\n",
       "    }\n",
       "\n",
       "    .dataframe thead tr:last-of-type th {\n",
       "        text-align: right;\n",
       "    }\n",
       "</style>\n",
       "<table border=\"1\" class=\"dataframe\">\n",
       "  <thead>\n",
       "    <tr>\n",
       "      <th></th>\n",
       "      <th colspan=\"8\" halign=\"left\">Nicotine</th>\n",
       "    </tr>\n",
       "    <tr>\n",
       "      <th></th>\n",
       "      <th>count</th>\n",
       "      <th>mean</th>\n",
       "      <th>std</th>\n",
       "      <th>min</th>\n",
       "      <th>25%</th>\n",
       "      <th>50%</th>\n",
       "      <th>75%</th>\n",
       "      <th>max</th>\n",
       "    </tr>\n",
       "    <tr>\n",
       "      <th>factor</th>\n",
       "      <th></th>\n",
       "      <th></th>\n",
       "      <th></th>\n",
       "      <th></th>\n",
       "      <th></th>\n",
       "      <th></th>\n",
       "      <th></th>\n",
       "      <th></th>\n",
       "    </tr>\n",
       "  </thead>\n",
       "  <tbody>\n",
       "    <tr>\n",
       "      <th>Group1</th>\n",
       "      <td>50.0</td>\n",
       "      <td>15.5234</td>\n",
       "      <td>1.927604</td>\n",
       "      <td>11.26</td>\n",
       "      <td>14.2125</td>\n",
       "      <td>15.705</td>\n",
       "      <td>16.5575</td>\n",
       "      <td>20.09</td>\n",
       "    </tr>\n",
       "    <tr>\n",
       "      <th>Group2</th>\n",
       "      <td>50.0</td>\n",
       "      <td>13.3854</td>\n",
       "      <td>1.895423</td>\n",
       "      <td>4.87</td>\n",
       "      <td>12.7650</td>\n",
       "      <td>13.405</td>\n",
       "      <td>14.4825</td>\n",
       "      <td>18.17</td>\n",
       "    </tr>\n",
       "    <tr>\n",
       "      <th>Group3</th>\n",
       "      <td>50.0</td>\n",
       "      <td>10.0764</td>\n",
       "      <td>1.955812</td>\n",
       "      <td>4.87</td>\n",
       "      <td>9.0400</td>\n",
       "      <td>10.630</td>\n",
       "      <td>11.3525</td>\n",
       "      <td>13.64</td>\n",
       "    </tr>\n",
       "  </tbody>\n",
       "</table>\n",
       "</div>"
      ],
      "text/plain": [
       "       Nicotine                                                           \n",
       "          count     mean       std    min      25%     50%      75%    max\n",
       "factor                                                                    \n",
       "Group1     50.0  15.5234  1.927604  11.26  14.2125  15.705  16.5575  20.09\n",
       "Group2     50.0  13.3854  1.895423   4.87  12.7650  13.405  14.4825  18.17\n",
       "Group3     50.0  10.0764  1.955812   4.87   9.0400  10.630  11.3525  13.64"
      ]
     },
     "execution_count": 19,
     "metadata": {},
     "output_type": "execute_result"
    }
   ],
   "source": [
    "#看看不同factor下的summary statistics\n",
    "df.groupby(['factor']).describe()"
   ]
  },
  {
   "cell_type": "markdown",
   "metadata": {},
   "source": [
    "#### Condition1: 使用Shapiro Test檢查分布是否為常態  \n",
    "H0: Normal distribution  \n",
    "H1: Not Normal distribution  "
   ]
  },
  {
   "cell_type": "code",
   "execution_count": 20,
   "metadata": {},
   "outputs": [
    {
     "name": "stdout",
     "output_type": "stream",
     "text": [
      "Group1          : Statistics=0.9879, p=0.8849\n",
      "Group2          : Statistics=0.8689, p=0.0001\n",
      "Group3          : Statistics=0.9455, p=0.0224\n"
     ]
    }
   ],
   "source": [
    "for i in range(len(treatments)):\n",
    "    stat, p = stats.shapiro(df[unit][df['factor'] == treatments[i]])\n",
    "    print('%-15s : Statistics=%.4f, p=%.4f' % (treatments[i], stat, p))"
   ]
  },
  {
   "cell_type": "markdown",
   "metadata": {},
   "source": [
    "The p-value of Group1 is greater than 0.05, we dont reject the null hypothesis for Group1 at a significance level of 0.05.  \n",
    "However, the p-values of Group2 and Group3 are less than 0.05, we reject the null hypothesis for Group2 amd Group3 at a significance level of 0.05.  \n",
    "Thus, the data doesnt satisfy the condition that all treatsments are Normal Distribution.  \n",
    "We can double check the result by applying QQplot."
   ]
  },
  {
   "cell_type": "markdown",
   "metadata": {},
   "source": [
    "#### Condition1-2: 使用QQplot檢查分布是否為常態  "
   ]
  },
  {
   "cell_type": "code",
   "execution_count": 21,
   "metadata": {},
   "outputs": [
    {
     "data": {
      "image/png": "[encoded data removed]",
      "text/plain": [
       "<Figure size 360x240 with 1 Axes>"
      ]
     },
     "metadata": {
      "needs_background": "light"
     },
     "output_type": "display_data"
    },
    {
     "data": {
      "image/png": "[encoded data removed]",
      "text/plain": [
       "<Figure size 360x240 with 1 Axes>"
      ]
     },
     "metadata": {
      "needs_background": "light"
     },
     "output_type": "display_data"
    },
    {
     "data": {
      "image/png": "[encoded data removed]",
      "text/plain": [
       "<Figure size 360x240 with 1 Axes>"
      ]
     },
     "metadata": {
      "needs_background": "light"
     },
     "output_type": "display_data"
    }
   ],
   "source": [
    "for i in range(len(treatments)):\n",
    "    fig = sm.qqplot(df[unit][df['factor'] == treatments[i]], stats.norm, fit=True, line='45')\n",
    "    plt.title(treatments[i])\n",
    "plt.show()"
   ]
  },
  {
   "cell_type": "markdown",
   "metadata": {},
   "source": [
    "According to the QQplots above, Group2 and Group3 are close to normal distribution."
   ]
  },
  {
   "cell_type": "markdown",
   "metadata": {},
   "source": [
    "#### Condition2: Bartlett's Tests for Equal Variance  \n",
    "H0: $\\sigma_1^2 = \\sigma_2^2 = \\sigma_3^2  $ <br>\n",
    "H1: At least two variances are different"
   ]
  },
  {
   "cell_type": "code",
   "execution_count": 22,
   "metadata": {},
   "outputs": [
    {
     "data": {
      "text/plain": [
       "BartlettResult(statistic=0.04781076857982709, pvalue=0.9763780860936427)"
      ]
     },
     "execution_count": 22,
     "metadata": {},
     "output_type": "execute_result"
    }
   ],
   "source": [
    "stats.bartlett(*(df[unit][df['factor'] == treatments[i]] for i in range(len(treatments))))"
   ]
  },
  {
   "cell_type": "markdown",
   "metadata": {},
   "source": [
    "Since the p-value above is larger than 0.05, we can not reject the null hypothesis at a significance level of 0.05.  \n",
    "Thus, the data satisfies the condition that all treatsments have Equal Variances."
   ]
  },
  {
   "cell_type": "markdown",
   "metadata": {},
   "source": [
    "#### Condition3: According to the problem discription, the observations are independent."
   ]
  },
  {
   "cell_type": "markdown",
   "metadata": {},
   "source": [
    "#### Apply ANOVA Test for mean equality  \n",
    "$H_0: \\mu_1 = \\mu_2 = \\mu_3  $ <br>\n",
    "$H_1$: At least two means differ"
   ]
  },
  {
   "cell_type": "code",
   "execution_count": 23,
   "metadata": {},
   "outputs": [
    {
     "data": {
      "text/html": [
       "<div>\n",
       "<style scoped>\n",
       "    .dataframe tbody tr th:only-of-type {\n",
       "        vertical-align: middle;\n",
       "    }\n",
       "\n",
       "    .dataframe tbody tr th {\n",
       "        vertical-align: top;\n",
       "    }\n",
       "\n",
       "    .dataframe thead th {\n",
       "        text-align: right;\n",
       "    }\n",
       "</style>\n",
       "<table border=\"1\" class=\"dataframe\">\n",
       "  <thead>\n",
       "    <tr style=\"text-align: right;\">\n",
       "      <th></th>\n",
       "      <th>sum_sq</th>\n",
       "      <th>df</th>\n",
       "      <th>F</th>\n",
       "      <th>PR(&gt;F)</th>\n",
       "    </tr>\n",
       "  </thead>\n",
       "  <tbody>\n",
       "    <tr>\n",
       "      <th>C(factor)</th>\n",
       "      <td>753.172233</td>\n",
       "      <td>2.0</td>\n",
       "      <td>101.473928</td>\n",
       "      <td>2.058633e-28</td>\n",
       "    </tr>\n",
       "    <tr>\n",
       "      <th>Residual</th>\n",
       "      <td>545.540716</td>\n",
       "      <td>147.0</td>\n",
       "      <td>NaN</td>\n",
       "      <td>NaN</td>\n",
       "    </tr>\n",
       "  </tbody>\n",
       "</table>\n",
       "</div>"
      ],
      "text/plain": [
       "               sum_sq     df           F        PR(>F)\n",
       "C(factor)  753.172233    2.0  101.473928  2.058633e-28\n",
       "Residual   545.540716  147.0         NaN           NaN"
      ]
     },
     "execution_count": 23,
     "metadata": {},
     "output_type": "execute_result"
    }
   ],
   "source": [
    "results = smf.ols( unit + ' ~ C(factor)', data=df).fit()\n",
    "#results.summary()\n",
    "aov_table = sms.anova_lm(results, typ=2)\n",
    "aov_table"
   ]
  },
  {
   "cell_type": "markdown",
   "metadata": {},
   "source": [
    "Since the p-value above is less than 0.05, we reject the null hypothesis at a significance level of 0.05.  \n",
    "Thus, we conclude that at least one of the mean size is different from the others.  "
   ]
  },
  {
   "cell_type": "markdown",
   "metadata": {},
   "source": [
    "### 14.22 (30%) (每小題10%)\n",
    "\n",
    "Let treatment \"US\", \"Canada\", \"UK\" be treatment1, treatment2, treatment3 respectively.  \n",
    "Alpha = 0.05 for all hypthesis tests."
   ]
  },
  {
   "cell_type": "code",
   "execution_count": 24,
   "metadata": {},
   "outputs": [
    {
     "name": "stdout",
     "output_type": "stream",
     "text": [
      "Head of dataset:\n"
     ]
    },
    {
     "data": {
      "text/html": [
       "<div>\n",
       "<style scoped>\n",
       "    .dataframe tbody tr th:only-of-type {\n",
       "        vertical-align: middle;\n",
       "    }\n",
       "\n",
       "    .dataframe tbody tr th {\n",
       "        vertical-align: top;\n",
       "    }\n",
       "\n",
       "    .dataframe thead th {\n",
       "        text-align: right;\n",
       "    }\n",
       "</style>\n",
       "<table border=\"1\" class=\"dataframe\">\n",
       "  <thead>\n",
       "    <tr style=\"text-align: right;\">\n",
       "      <th></th>\n",
       "      <th>US Reading</th>\n",
       "      <th>Canada Reading</th>\n",
       "      <th>UK Reading</th>\n",
       "      <th>US Math</th>\n",
       "      <th>Canada Math</th>\n",
       "      <th>UK Math</th>\n",
       "      <th>US Science</th>\n",
       "      <th>Canada Science</th>\n",
       "      <th>UK Science</th>\n",
       "    </tr>\n",
       "  </thead>\n",
       "  <tbody>\n",
       "    <tr>\n",
       "      <th>0</th>\n",
       "      <td>500</td>\n",
       "      <td>552.0</td>\n",
       "      <td>509.0</td>\n",
       "      <td>494</td>\n",
       "      <td>530.0</td>\n",
       "      <td>505.0</td>\n",
       "      <td>488</td>\n",
       "      <td>526.0</td>\n",
       "      <td>518.0</td>\n",
       "    </tr>\n",
       "    <tr>\n",
       "      <th>1</th>\n",
       "      <td>481</td>\n",
       "      <td>468.0</td>\n",
       "      <td>452.0</td>\n",
       "      <td>456</td>\n",
       "      <td>562.0</td>\n",
       "      <td>527.0</td>\n",
       "      <td>501</td>\n",
       "      <td>547.0</td>\n",
       "      <td>519.0</td>\n",
       "    </tr>\n",
       "    <tr>\n",
       "      <th>2</th>\n",
       "      <td>503</td>\n",
       "      <td>494.0</td>\n",
       "      <td>504.0</td>\n",
       "      <td>485</td>\n",
       "      <td>536.0</td>\n",
       "      <td>515.0</td>\n",
       "      <td>492</td>\n",
       "      <td>577.0</td>\n",
       "      <td>515.0</td>\n",
       "    </tr>\n",
       "    <tr>\n",
       "      <th>3</th>\n",
       "      <td>488</td>\n",
       "      <td>505.0</td>\n",
       "      <td>489.0</td>\n",
       "      <td>511</td>\n",
       "      <td>523.0</td>\n",
       "      <td>559.0</td>\n",
       "      <td>486</td>\n",
       "      <td>536.0</td>\n",
       "      <td>599.0</td>\n",
       "    </tr>\n",
       "    <tr>\n",
       "      <th>4</th>\n",
       "      <td>468</td>\n",
       "      <td>524.0</td>\n",
       "      <td>462.0</td>\n",
       "      <td>499</td>\n",
       "      <td>597.0</td>\n",
       "      <td>445.0</td>\n",
       "      <td>518</td>\n",
       "      <td>500.0</td>\n",
       "      <td>523.0</td>\n",
       "    </tr>\n",
       "  </tbody>\n",
       "</table>\n",
       "</div>"
      ],
      "text/plain": [
       "   US Reading  Canada Reading  UK Reading  US Math  Canada Math  UK Math  \\\n",
       "0         500           552.0       509.0      494        530.0    505.0   \n",
       "1         481           468.0       452.0      456        562.0    527.0   \n",
       "2         503           494.0       504.0      485        536.0    515.0   \n",
       "3         488           505.0       489.0      511        523.0    559.0   \n",
       "4         468           524.0       462.0      499        597.0    445.0   \n",
       "\n",
       "   US Science  Canada Science  UK Science  \n",
       "0         488           526.0       518.0  \n",
       "1         501           547.0       519.0  \n",
       "2         492           577.0       515.0  \n",
       "3         486           536.0       599.0  \n",
       "4         518           500.0       523.0  "
      ]
     },
     "metadata": {},
     "output_type": "display_data"
    },
    {
     "name": "stdout",
     "output_type": "stream",
     "text": [
      "Tail of dataset:\n"
     ]
    },
    {
     "data": {
      "text/html": [
       "<div>\n",
       "<style scoped>\n",
       "    .dataframe tbody tr th:only-of-type {\n",
       "        vertical-align: middle;\n",
       "    }\n",
       "\n",
       "    .dataframe tbody tr th {\n",
       "        vertical-align: top;\n",
       "    }\n",
       "\n",
       "    .dataframe thead th {\n",
       "        text-align: right;\n",
       "    }\n",
       "</style>\n",
       "<table border=\"1\" class=\"dataframe\">\n",
       "  <thead>\n",
       "    <tr style=\"text-align: right;\">\n",
       "      <th></th>\n",
       "      <th>US Reading</th>\n",
       "      <th>Canada Reading</th>\n",
       "      <th>UK Reading</th>\n",
       "      <th>US Math</th>\n",
       "      <th>Canada Math</th>\n",
       "      <th>UK Math</th>\n",
       "      <th>US Science</th>\n",
       "      <th>Canada Science</th>\n",
       "      <th>UK Science</th>\n",
       "    </tr>\n",
       "  </thead>\n",
       "  <tbody>\n",
       "    <tr>\n",
       "      <th>619</th>\n",
       "      <td>518</td>\n",
       "      <td>NaN</td>\n",
       "      <td>NaN</td>\n",
       "      <td>489</td>\n",
       "      <td>NaN</td>\n",
       "      <td>NaN</td>\n",
       "      <td>527</td>\n",
       "      <td>NaN</td>\n",
       "      <td>NaN</td>\n",
       "    </tr>\n",
       "    <tr>\n",
       "      <th>620</th>\n",
       "      <td>464</td>\n",
       "      <td>NaN</td>\n",
       "      <td>NaN</td>\n",
       "      <td>492</td>\n",
       "      <td>NaN</td>\n",
       "      <td>NaN</td>\n",
       "      <td>497</td>\n",
       "      <td>NaN</td>\n",
       "      <td>NaN</td>\n",
       "    </tr>\n",
       "    <tr>\n",
       "      <th>621</th>\n",
       "      <td>500</td>\n",
       "      <td>NaN</td>\n",
       "      <td>NaN</td>\n",
       "      <td>485</td>\n",
       "      <td>NaN</td>\n",
       "      <td>NaN</td>\n",
       "      <td>513</td>\n",
       "      <td>NaN</td>\n",
       "      <td>NaN</td>\n",
       "    </tr>\n",
       "    <tr>\n",
       "      <th>622</th>\n",
       "      <td>498</td>\n",
       "      <td>NaN</td>\n",
       "      <td>NaN</td>\n",
       "      <td>500</td>\n",
       "      <td>NaN</td>\n",
       "      <td>NaN</td>\n",
       "      <td>503</td>\n",
       "      <td>NaN</td>\n",
       "      <td>NaN</td>\n",
       "    </tr>\n",
       "    <tr>\n",
       "      <th>623</th>\n",
       "      <td>482</td>\n",
       "      <td>NaN</td>\n",
       "      <td>NaN</td>\n",
       "      <td>463</td>\n",
       "      <td>NaN</td>\n",
       "      <td>NaN</td>\n",
       "      <td>483</td>\n",
       "      <td>NaN</td>\n",
       "      <td>NaN</td>\n",
       "    </tr>\n",
       "  </tbody>\n",
       "</table>\n",
       "</div>"
      ],
      "text/plain": [
       "     US Reading  Canada Reading  UK Reading  US Math  Canada Math  UK Math  \\\n",
       "619         518             NaN         NaN      489          NaN      NaN   \n",
       "620         464             NaN         NaN      492          NaN      NaN   \n",
       "621         500             NaN         NaN      485          NaN      NaN   \n",
       "622         498             NaN         NaN      500          NaN      NaN   \n",
       "623         482             NaN         NaN      463          NaN      NaN   \n",
       "\n",
       "     US Science  Canada Science  UK Science  \n",
       "619         527             NaN         NaN  \n",
       "620         497             NaN         NaN  \n",
       "621         513             NaN         NaN  \n",
       "622         503             NaN         NaN  \n",
       "623         483             NaN         NaN  "
      ]
     },
     "metadata": {},
     "output_type": "display_data"
    }
   ],
   "source": [
    "data22 = pd.read_excel(\"Xr14-22.xlsx\")\n",
    "print('Head of dataset:')\n",
    "display(data22.head())\n",
    "\n",
    "print(\"Tail of dataset:\")\n",
    "display(data22.tail())"
   ]
  },
  {
   "cell_type": "code",
   "execution_count": 25,
   "metadata": {},
   "outputs": [],
   "source": [
    "#依照不同科目，分成三份data\n",
    "\n",
    "data22_a = data22[list(data22.columns)[:3]]\n",
    "data22_b = data22[list(data22.columns)[3:6]]\n",
    "data22_c = data22[list(data22.columns)[6:]]"
   ]
  },
  {
   "cell_type": "markdown",
   "metadata": {},
   "source": [
    "### 14.22(a)"
   ]
  },
  {
   "cell_type": "code",
   "execution_count": 26,
   "metadata": {},
   "outputs": [
    {
     "data": {
      "text/plain": [
       "['US Reading', 'Canada Reading', 'UK Reading']"
      ]
     },
     "execution_count": 26,
     "metadata": {},
     "output_type": "execute_result"
    }
   ],
   "source": [
    "cols = list(data22_a.columns.values)\n",
    "cols"
   ]
  },
  {
   "cell_type": "code",
   "execution_count": 27,
   "metadata": {},
   "outputs": [],
   "source": [
    "unit = \"Reading\"\n",
    "treatments = ['US', 'Canada', 'UK']\n",
    "\n",
    "#wide_to_long假設同樣資料在不同因素下的名稱有相同的字頭，因此我們要改欄位名稱。\n",
    "df22_a = data22_a.rename(columns = {cols[0]: unit+'_'+treatments[0], cols[1]: unit+'_'+treatments[1], cols[2]: unit+'_'+treatments[2]})\n",
    "\n",
    "#需要一個ID欄位\n",
    "df22_a[\"id\"] = df22_a.index\n",
    "\n",
    "#呼叫wide_to_long(); 文件請見: https://pandas.pydata.org/pandas-docs/stable/reference/api/pandas.wide_to_long.html\n",
    "df22_aw = pd.wide_to_long(df22_a, [unit], sep = \"_\", suffix = '\\w+', i=\"id\", j=\"factor\").reset_index()\n",
    "df22_aw = df22_aw[~np.isnan(df22_aw[unit])]\n",
    "\n",
    "#移除id行\n",
    "df = df22_aw.drop(columns=['id'])"
   ]
  },
  {
   "cell_type": "code",
   "execution_count": 28,
   "metadata": {},
   "outputs": [
    {
     "data": {
      "text/html": [
       "<div>\n",
       "<style scoped>\n",
       "    .dataframe tbody tr th:only-of-type {\n",
       "        vertical-align: middle;\n",
       "    }\n",
       "\n",
       "    .dataframe tbody tr th {\n",
       "        vertical-align: top;\n",
       "    }\n",
       "\n",
       "    .dataframe thead tr th {\n",
       "        text-align: left;\n",
       "    }\n",
       "\n",
       "    .dataframe thead tr:last-of-type th {\n",
       "        text-align: right;\n",
       "    }\n",
       "</style>\n",
       "<table border=\"1\" class=\"dataframe\">\n",
       "  <thead>\n",
       "    <tr>\n",
       "      <th></th>\n",
       "      <th colspan=\"8\" halign=\"left\">Reading</th>\n",
       "    </tr>\n",
       "    <tr>\n",
       "      <th></th>\n",
       "      <th>count</th>\n",
       "      <th>mean</th>\n",
       "      <th>std</th>\n",
       "      <th>min</th>\n",
       "      <th>25%</th>\n",
       "      <th>50%</th>\n",
       "      <th>75%</th>\n",
       "      <th>max</th>\n",
       "    </tr>\n",
       "    <tr>\n",
       "      <th>factor</th>\n",
       "      <th></th>\n",
       "      <th></th>\n",
       "      <th></th>\n",
       "      <th></th>\n",
       "      <th></th>\n",
       "      <th></th>\n",
       "      <th></th>\n",
       "      <th></th>\n",
       "    </tr>\n",
       "  </thead>\n",
       "  <tbody>\n",
       "    <tr>\n",
       "      <th>Canada</th>\n",
       "      <td>409.0</td>\n",
       "      <td>524.386308</td>\n",
       "      <td>26.198103</td>\n",
       "      <td>452.0</td>\n",
       "      <td>505.0</td>\n",
       "      <td>523.0</td>\n",
       "      <td>542.0</td>\n",
       "      <td>596.0</td>\n",
       "    </tr>\n",
       "    <tr>\n",
       "      <th>UK</th>\n",
       "      <td>498.0</td>\n",
       "      <td>493.785141</td>\n",
       "      <td>24.663286</td>\n",
       "      <td>413.0</td>\n",
       "      <td>479.0</td>\n",
       "      <td>497.0</td>\n",
       "      <td>510.0</td>\n",
       "      <td>572.0</td>\n",
       "    </tr>\n",
       "    <tr>\n",
       "      <th>US</th>\n",
       "      <td>624.0</td>\n",
       "      <td>500.272436</td>\n",
       "      <td>24.733757</td>\n",
       "      <td>406.0</td>\n",
       "      <td>484.0</td>\n",
       "      <td>500.0</td>\n",
       "      <td>517.0</td>\n",
       "      <td>567.0</td>\n",
       "    </tr>\n",
       "  </tbody>\n",
       "</table>\n",
       "</div>"
      ],
      "text/plain": [
       "       Reading                                                          \n",
       "         count        mean        std    min    25%    50%    75%    max\n",
       "factor                                                                  \n",
       "Canada   409.0  524.386308  26.198103  452.0  505.0  523.0  542.0  596.0\n",
       "UK       498.0  493.785141  24.663286  413.0  479.0  497.0  510.0  572.0\n",
       "US       624.0  500.272436  24.733757  406.0  484.0  500.0  517.0  567.0"
      ]
     },
     "execution_count": 28,
     "metadata": {},
     "output_type": "execute_result"
    }
   ],
   "source": [
    "#看看不同factor下的summary statistics\n",
    "df.groupby(['factor']).describe()"
   ]
  },
  {
   "cell_type": "markdown",
   "metadata": {},
   "source": [
    "#### Condition1: 使用Shapiro Test檢查分布是否為常態  \n",
    "H0: Normal distribution  \n",
    "H1: Not Normal distribution  "
   ]
  },
  {
   "cell_type": "code",
   "execution_count": 29,
   "metadata": {},
   "outputs": [
    {
     "name": "stdout",
     "output_type": "stream",
     "text": [
      "US              : Statistics=0.9968, p=0.2499\n",
      "Canada          : Statistics=0.9956, p=0.3163\n",
      "UK              : Statistics=0.9887, p=0.0007\n"
     ]
    }
   ],
   "source": [
    "for i in range(len(treatments)):\n",
    "    stat, p = stats.shapiro(df[unit][df['factor'] == treatments[i]])\n",
    "    print('%-15s : Statistics=%.4f, p=%.4f' % (treatments[i], stat, p))"
   ]
  },
  {
   "cell_type": "markdown",
   "metadata": {},
   "source": [
    "The p-values of US and Canada are greater than 0.05, we dont reject the null hypothesis for US and Canada at a significance level of 0.05.  \n",
    "However, p-value of UK is less than 0.05, we reject the null hypothesis for UK at a significance level of 0.05.  \n",
    "Thus, the data doesnt satisfy the condition that all treatsments are Normal Distribution.  \n",
    "We can double check the result by applying QQplot."
   ]
  },
  {
   "cell_type": "markdown",
   "metadata": {},
   "source": [
    "#### Condition1-2: 使用QQplot檢查分布是否為常態  "
   ]
  },
  {
   "cell_type": "code",
   "execution_count": 30,
   "metadata": {},
   "outputs": [
    {
     "data": {
      "image/png": "[encoded data removed]",
      "text/plain": [
       "<Figure size 360x240 with 1 Axes>"
      ]
     },
     "metadata": {
      "needs_background": "light"
     },
     "output_type": "display_data"
    },
    {
     "data": {
      "image/png": "[encoded data removed]",
      "text/plain": [
       "<Figure size 360x240 with 1 Axes>"
      ]
     },
     "metadata": {
      "needs_background": "light"
     },
     "output_type": "display_data"
    },
    {
     "data": {
      "image/png": "[encoded data removed]",
      "text/plain": [
       "<Figure size 360x240 with 1 Axes>"
      ]
     },
     "metadata": {
      "needs_background": "light"
     },
     "output_type": "display_data"
    }
   ],
   "source": [
    "for i in range(len(treatments)):\n",
    "    fig = sm.qqplot(df[unit][df['factor'] == treatments[i]], stats.norm, fit=True, line='45')\n",
    "    plt.title(treatments[i])\n",
    "plt.show()"
   ]
  },
  {
   "cell_type": "markdown",
   "metadata": {},
   "source": [
    "Since Shapiro Test might be biased when the sample size is large, we double check the distribution using QQplot.  \n",
    "According to the QQplots above, all of them seem like normal distribution.  \n",
    "Thus, the data satisfies the condition that all treatsments are Normal Distribution.  "
   ]
  },
  {
   "cell_type": "markdown",
   "metadata": {},
   "source": [
    "#### Condition2: Bartlett's Tests for Equal Variance  \n",
    "H0: $\\sigma_1^2 = \\sigma_2^2 = \\sigma_3^2  $ <br>\n",
    "H1: At least two variances are different"
   ]
  },
  {
   "cell_type": "code",
   "execution_count": 31,
   "metadata": {},
   "outputs": [
    {
     "data": {
      "text/plain": [
       "BartlettResult(statistic=2.1065784569498787, pvalue=0.3487886148209796)"
      ]
     },
     "execution_count": 31,
     "metadata": {},
     "output_type": "execute_result"
    }
   ],
   "source": [
    "stats.bartlett(*(df[unit][df['factor'] == treatments[i]] for i in range(len(treatments))))"
   ]
  },
  {
   "cell_type": "markdown",
   "metadata": {},
   "source": [
    "Since the p-value above is larger than 0.05, we can not reject the null hypothesis at a significance level of 0.05.  \n",
    "Thus, the data satisfies the condition that all treatsments have Equal Variances."
   ]
  },
  {
   "cell_type": "markdown",
   "metadata": {},
   "source": [
    "#### Condition3: According to the problem discription, the observations are independent."
   ]
  },
  {
   "cell_type": "markdown",
   "metadata": {},
   "source": [
    "#### Apply ANOVA Test for mean equality  \n",
    "$H_0: \\mu_1 = \\mu_2 = \\mu_3  $ <br>\n",
    "$H_1$: At least two means differ"
   ]
  },
  {
   "cell_type": "code",
   "execution_count": 32,
   "metadata": {},
   "outputs": [
    {
     "data": {
      "text/html": [
       "<div>\n",
       "<style scoped>\n",
       "    .dataframe tbody tr th:only-of-type {\n",
       "        vertical-align: middle;\n",
       "    }\n",
       "\n",
       "    .dataframe tbody tr th {\n",
       "        vertical-align: top;\n",
       "    }\n",
       "\n",
       "    .dataframe thead th {\n",
       "        text-align: right;\n",
       "    }\n",
       "</style>\n",
       "<table border=\"1\" class=\"dataframe\">\n",
       "  <thead>\n",
       "    <tr style=\"text-align: right;\">\n",
       "      <th></th>\n",
       "      <th>sum_sq</th>\n",
       "      <th>df</th>\n",
       "      <th>F</th>\n",
       "      <th>PR(&gt;F)</th>\n",
       "    </tr>\n",
       "  </thead>\n",
       "  <tbody>\n",
       "    <tr>\n",
       "      <th>C(factor)</th>\n",
       "      <td>230055.473983</td>\n",
       "      <td>2.0</td>\n",
       "      <td>182.427052</td>\n",
       "      <td>8.969061e-72</td>\n",
       "    </tr>\n",
       "    <tr>\n",
       "      <th>Residual</th>\n",
       "      <td>963466.659263</td>\n",
       "      <td>1528.0</td>\n",
       "      <td>NaN</td>\n",
       "      <td>NaN</td>\n",
       "    </tr>\n",
       "  </tbody>\n",
       "</table>\n",
       "</div>"
      ],
      "text/plain": [
       "                  sum_sq      df           F        PR(>F)\n",
       "C(factor)  230055.473983     2.0  182.427052  8.969061e-72\n",
       "Residual   963466.659263  1528.0         NaN           NaN"
      ]
     },
     "execution_count": 32,
     "metadata": {},
     "output_type": "execute_result"
    }
   ],
   "source": [
    "results = smf.ols( unit + ' ~ C(factor)', data=df).fit()\n",
    "#results.summary()\n",
    "aov_table = sms.anova_lm(results, typ=2)\n",
    "aov_table"
   ]
  },
  {
   "cell_type": "markdown",
   "metadata": {},
   "source": [
    "Since the p-value above is less than 0.05, we reject the null hypothesis at a significance level of 0.05.  \n",
    "Thus, we conclude that at least one of the mean scores is different from the others."
   ]
  },
  {
   "cell_type": "markdown",
   "metadata": {},
   "source": [
    "### 14.22(b)"
   ]
  },
  {
   "cell_type": "code",
   "execution_count": 33,
   "metadata": {},
   "outputs": [
    {
     "data": {
      "text/plain": [
       "['US Math', 'Canada Math', 'UK Math']"
      ]
     },
     "execution_count": 33,
     "metadata": {},
     "output_type": "execute_result"
    }
   ],
   "source": [
    "cols = list(data22_b.columns.values)\n",
    "cols"
   ]
  },
  {
   "cell_type": "code",
   "execution_count": 34,
   "metadata": {},
   "outputs": [],
   "source": [
    "unit = \"Math\"\n",
    "treatments = ['US', 'Canada', 'UK']\n",
    "\n",
    "#wide_to_long假設同樣資料在不同因素下的名稱有相同的字頭，因此我們要改欄位名稱。\n",
    "df22_b = data22_b.rename(columns = {cols[0]: unit+'_'+treatments[0], cols[1]: unit+'_'+treatments[1], cols[2]: unit+'_'+treatments[2]})\n",
    "\n",
    "#需要一個ID欄位\n",
    "df22_b[\"id\"] = df22_b.index\n",
    "\n",
    "#呼叫wide_to_long(); 文件請見: https://pandas.pydata.org/pandas-docs/stable/reference/api/pandas.wide_to_long.html\n",
    "df22_bw = pd.wide_to_long(df22_b, [unit], sep = \"_\", suffix = '\\w+', i=\"id\", j=\"factor\").reset_index()\n",
    "df22_bw = df22_bw[~np.isnan(df22_bw[unit])]\n",
    "\n",
    "#移除id行\n",
    "df = df22_bw.drop(columns=['id'])"
   ]
  },
  {
   "cell_type": "code",
   "execution_count": 35,
   "metadata": {},
   "outputs": [
    {
     "data": {
      "text/html": [
       "<div>\n",
       "<style scoped>\n",
       "    .dataframe tbody tr th:only-of-type {\n",
       "        vertical-align: middle;\n",
       "    }\n",
       "\n",
       "    .dataframe tbody tr th {\n",
       "        vertical-align: top;\n",
       "    }\n",
       "\n",
       "    .dataframe thead tr th {\n",
       "        text-align: left;\n",
       "    }\n",
       "\n",
       "    .dataframe thead tr:last-of-type th {\n",
       "        text-align: right;\n",
       "    }\n",
       "</style>\n",
       "<table border=\"1\" class=\"dataframe\">\n",
       "  <thead>\n",
       "    <tr>\n",
       "      <th></th>\n",
       "      <th colspan=\"8\" halign=\"left\">Math</th>\n",
       "    </tr>\n",
       "    <tr>\n",
       "      <th></th>\n",
       "      <th>count</th>\n",
       "      <th>mean</th>\n",
       "      <th>std</th>\n",
       "      <th>min</th>\n",
       "      <th>25%</th>\n",
       "      <th>50%</th>\n",
       "      <th>75%</th>\n",
       "      <th>max</th>\n",
       "    </tr>\n",
       "    <tr>\n",
       "      <th>factor</th>\n",
       "      <th></th>\n",
       "      <th></th>\n",
       "      <th></th>\n",
       "      <th></th>\n",
       "      <th></th>\n",
       "      <th></th>\n",
       "      <th></th>\n",
       "      <th></th>\n",
       "    </tr>\n",
       "  </thead>\n",
       "  <tbody>\n",
       "    <tr>\n",
       "      <th>Canada</th>\n",
       "      <td>409.0</td>\n",
       "      <td>527.474328</td>\n",
       "      <td>25.573614</td>\n",
       "      <td>462.0</td>\n",
       "      <td>510.0</td>\n",
       "      <td>527.0</td>\n",
       "      <td>545.0</td>\n",
       "      <td>597.0</td>\n",
       "    </tr>\n",
       "    <tr>\n",
       "      <th>UK</th>\n",
       "      <td>498.0</td>\n",
       "      <td>492.042169</td>\n",
       "      <td>25.461539</td>\n",
       "      <td>418.0</td>\n",
       "      <td>476.0</td>\n",
       "      <td>492.0</td>\n",
       "      <td>508.0</td>\n",
       "      <td>559.0</td>\n",
       "    </tr>\n",
       "    <tr>\n",
       "      <th>US</th>\n",
       "      <td>624.0</td>\n",
       "      <td>486.631410</td>\n",
       "      <td>24.888877</td>\n",
       "      <td>408.0</td>\n",
       "      <td>470.0</td>\n",
       "      <td>486.0</td>\n",
       "      <td>503.0</td>\n",
       "      <td>568.0</td>\n",
       "    </tr>\n",
       "  </tbody>\n",
       "</table>\n",
       "</div>"
      ],
      "text/plain": [
       "         Math                                                          \n",
       "        count        mean        std    min    25%    50%    75%    max\n",
       "factor                                                                 \n",
       "Canada  409.0  527.474328  25.573614  462.0  510.0  527.0  545.0  597.0\n",
       "UK      498.0  492.042169  25.461539  418.0  476.0  492.0  508.0  559.0\n",
       "US      624.0  486.631410  24.888877  408.0  470.0  486.0  503.0  568.0"
      ]
     },
     "execution_count": 35,
     "metadata": {},
     "output_type": "execute_result"
    }
   ],
   "source": [
    "#看看不同factor下的summary statistics\n",
    "df.groupby(['factor']).describe()"
   ]
  },
  {
   "cell_type": "markdown",
   "metadata": {},
   "source": [
    "#### Condition1: 使用Shapiro Test檢查分布是否為常態  \n",
    "H0: Normal distribution  \n",
    "H1: Not Normal distribution  "
   ]
  },
  {
   "cell_type": "code",
   "execution_count": 36,
   "metadata": {},
   "outputs": [
    {
     "name": "stdout",
     "output_type": "stream",
     "text": [
      "US              : Statistics=0.9987, p=0.9339\n",
      "Canada          : Statistics=0.9968, p=0.6082\n",
      "UK              : Statistics=0.9965, p=0.3462\n"
     ]
    }
   ],
   "source": [
    "for i in range(len(treatments)):\n",
    "    stat, p = stats.shapiro(df[unit][df['factor'] == treatments[i]])\n",
    "    print('%-15s : Statistics=%.4f, p=%.4f' % (treatments[i], stat, p))"
   ]
  },
  {
   "cell_type": "markdown",
   "metadata": {},
   "source": [
    "Since each p-value above is larger than 0.05, for each factor, we can not reject the null hypothesis at a significance level of 0.05.  \n",
    "Thus, the data satisfies the condition that all treatsments are Normal Distribution."
   ]
  },
  {
   "cell_type": "markdown",
   "metadata": {},
   "source": [
    "#### Condition2: Bartlett's Tests for Equal Variance  \n",
    "H0: $\\sigma_1^2 = \\sigma_2^2 = \\sigma_3^2  $ <br>\n",
    "H1: At least two variances are different"
   ]
  },
  {
   "cell_type": "code",
   "execution_count": 37,
   "metadata": {},
   "outputs": [
    {
     "data": {
      "text/plain": [
       "BartlettResult(statistic=0.458251322927984, pvalue=0.7952285976363944)"
      ]
     },
     "execution_count": 37,
     "metadata": {},
     "output_type": "execute_result"
    }
   ],
   "source": [
    "stats.bartlett(*(df[unit][df['factor'] == treatments[i]] for i in range(len(treatments))))"
   ]
  },
  {
   "cell_type": "markdown",
   "metadata": {},
   "source": [
    "Since the p-value above is larger than 0.05, we can not reject the null hypothesis at a significance level of 0.05.  \n",
    "Thus, the data satisfies the condition that all treatsments have Equal Variances."
   ]
  },
  {
   "cell_type": "markdown",
   "metadata": {},
   "source": [
    "#### Condition3: According to the problem discription, the observations are independent."
   ]
  },
  {
   "cell_type": "markdown",
   "metadata": {},
   "source": [
    "#### Apply ANOVA Test for mean equality  \n",
    "$H_0: \\mu_1 = \\mu_2 = \\mu_3  $ <br>\n",
    "$H_1$: At least two means differ"
   ]
  },
  {
   "cell_type": "code",
   "execution_count": 38,
   "metadata": {},
   "outputs": [
    {
     "data": {
      "text/html": [
       "<div>\n",
       "<style scoped>\n",
       "    .dataframe tbody tr th:only-of-type {\n",
       "        vertical-align: middle;\n",
       "    }\n",
       "\n",
       "    .dataframe tbody tr th {\n",
       "        vertical-align: top;\n",
       "    }\n",
       "\n",
       "    .dataframe thead th {\n",
       "        text-align: right;\n",
       "    }\n",
       "</style>\n",
       "<table border=\"1\" class=\"dataframe\">\n",
       "  <thead>\n",
       "    <tr style=\"text-align: right;\">\n",
       "      <th></th>\n",
       "      <th>sum_sq</th>\n",
       "      <th>df</th>\n",
       "      <th>F</th>\n",
       "      <th>PR(&gt;F)</th>\n",
       "    </tr>\n",
       "  </thead>\n",
       "  <tbody>\n",
       "    <tr>\n",
       "      <th>C(factor)</th>\n",
       "      <td>451041.661801</td>\n",
       "      <td>2.0</td>\n",
       "      <td>353.447092</td>\n",
       "      <td>6.885271e-127</td>\n",
       "    </tr>\n",
       "    <tr>\n",
       "      <th>Residual</th>\n",
       "      <td>974957.319257</td>\n",
       "      <td>1528.0</td>\n",
       "      <td>NaN</td>\n",
       "      <td>NaN</td>\n",
       "    </tr>\n",
       "  </tbody>\n",
       "</table>\n",
       "</div>"
      ],
      "text/plain": [
       "                  sum_sq      df           F         PR(>F)\n",
       "C(factor)  451041.661801     2.0  353.447092  6.885271e-127\n",
       "Residual   974957.319257  1528.0         NaN            NaN"
      ]
     },
     "execution_count": 38,
     "metadata": {},
     "output_type": "execute_result"
    }
   ],
   "source": [
    "results = smf.ols( unit + ' ~ C(factor)', data=df).fit()\n",
    "#results.summary()\n",
    "aov_table = sms.anova_lm(results, typ=2)\n",
    "aov_table"
   ]
  },
  {
   "cell_type": "markdown",
   "metadata": {},
   "source": [
    "Since the p-value above is less than 0.05, we reject the null hypothesis at a significance level of 0.05.  \n",
    "Thus, we conclude that at least one of the mean scores is different from the others.  "
   ]
  },
  {
   "cell_type": "markdown",
   "metadata": {},
   "source": [
    "### 14.22(c)"
   ]
  },
  {
   "cell_type": "code",
   "execution_count": 39,
   "metadata": {},
   "outputs": [
    {
     "data": {
      "text/plain": [
       "['US Science', 'Canada Science', 'UK Science']"
      ]
     },
     "execution_count": 39,
     "metadata": {},
     "output_type": "execute_result"
    }
   ],
   "source": [
    "cols = list(data22_c.columns.values)\n",
    "cols"
   ]
  },
  {
   "cell_type": "code",
   "execution_count": 40,
   "metadata": {},
   "outputs": [],
   "source": [
    "unit = \"Science\"\n",
    "treatments = ['US', 'Canada', 'UK']\n",
    "\n",
    "#wide_to_long假設同樣資料在不同因素下的名稱有相同的字頭，因此我們要改欄位名稱。\n",
    "df22_c = data22_c.rename(columns = {cols[0]: unit+'_'+treatments[0], cols[1]: unit+'_'+treatments[1], cols[2]: unit+'_'+treatments[2]})\n",
    "\n",
    "#需要一個ID欄位\n",
    "df22_c[\"id\"] = df22_c.index\n",
    "\n",
    "#呼叫wide_to_long(); 文件請見: https://pandas.pydata.org/pandas-docs/stable/reference/api/pandas.wide_to_long.html\n",
    "df22_cw = pd.wide_to_long(df22_c, [unit], sep = \"_\", suffix = '\\w+', i=\"id\", j=\"factor\").reset_index()\n",
    "df22_cw = df22_cw[~np.isnan(df22_cw[unit])]\n",
    "\n",
    "#移除id行\n",
    "df = df22_cw.drop(columns=['id'])"
   ]
  },
  {
   "cell_type": "code",
   "execution_count": 41,
   "metadata": {},
   "outputs": [
    {
     "data": {
      "text/html": [
       "<div>\n",
       "<style scoped>\n",
       "    .dataframe tbody tr th:only-of-type {\n",
       "        vertical-align: middle;\n",
       "    }\n",
       "\n",
       "    .dataframe tbody tr th {\n",
       "        vertical-align: top;\n",
       "    }\n",
       "\n",
       "    .dataframe thead tr th {\n",
       "        text-align: left;\n",
       "    }\n",
       "\n",
       "    .dataframe thead tr:last-of-type th {\n",
       "        text-align: right;\n",
       "    }\n",
       "</style>\n",
       "<table border=\"1\" class=\"dataframe\">\n",
       "  <thead>\n",
       "    <tr>\n",
       "      <th></th>\n",
       "      <th colspan=\"8\" halign=\"left\">Science</th>\n",
       "    </tr>\n",
       "    <tr>\n",
       "      <th></th>\n",
       "      <th>count</th>\n",
       "      <th>mean</th>\n",
       "      <th>std</th>\n",
       "      <th>min</th>\n",
       "      <th>25%</th>\n",
       "      <th>50%</th>\n",
       "      <th>75%</th>\n",
       "      <th>max</th>\n",
       "    </tr>\n",
       "    <tr>\n",
       "      <th>factor</th>\n",
       "      <th></th>\n",
       "      <th></th>\n",
       "      <th></th>\n",
       "      <th></th>\n",
       "      <th></th>\n",
       "      <th></th>\n",
       "      <th></th>\n",
       "      <th></th>\n",
       "    </tr>\n",
       "  </thead>\n",
       "  <tbody>\n",
       "    <tr>\n",
       "      <th>Canada</th>\n",
       "      <td>409.0</td>\n",
       "      <td>528.855746</td>\n",
       "      <td>29.702549</td>\n",
       "      <td>446.0</td>\n",
       "      <td>510.00</td>\n",
       "      <td>530.0</td>\n",
       "      <td>548.0</td>\n",
       "      <td>612.0</td>\n",
       "    </tr>\n",
       "    <tr>\n",
       "      <th>UK</th>\n",
       "      <td>498.0</td>\n",
       "      <td>513.889558</td>\n",
       "      <td>26.757835</td>\n",
       "      <td>444.0</td>\n",
       "      <td>495.25</td>\n",
       "      <td>514.0</td>\n",
       "      <td>532.0</td>\n",
       "      <td>608.0</td>\n",
       "    </tr>\n",
       "    <tr>\n",
       "      <th>US</th>\n",
       "      <td>624.0</td>\n",
       "      <td>502.022436</td>\n",
       "      <td>25.676644</td>\n",
       "      <td>428.0</td>\n",
       "      <td>485.00</td>\n",
       "      <td>502.0</td>\n",
       "      <td>517.0</td>\n",
       "      <td>605.0</td>\n",
       "    </tr>\n",
       "  </tbody>\n",
       "</table>\n",
       "</div>"
      ],
      "text/plain": [
       "       Science                                                           \n",
       "         count        mean        std    min     25%    50%    75%    max\n",
       "factor                                                                   \n",
       "Canada   409.0  528.855746  29.702549  446.0  510.00  530.0  548.0  612.0\n",
       "UK       498.0  513.889558  26.757835  444.0  495.25  514.0  532.0  608.0\n",
       "US       624.0  502.022436  25.676644  428.0  485.00  502.0  517.0  605.0"
      ]
     },
     "execution_count": 41,
     "metadata": {},
     "output_type": "execute_result"
    }
   ],
   "source": [
    "#看看不同factor下的summary statistics\n",
    "df.groupby(['factor']).describe()"
   ]
  },
  {
   "cell_type": "markdown",
   "metadata": {},
   "source": [
    "#### Condition1: 使用Shapiro Test檢查分布是否為常態  \n",
    "H0: Normal distribution  \n",
    "H1: Not Normal distribution  "
   ]
  },
  {
   "cell_type": "code",
   "execution_count": 42,
   "metadata": {},
   "outputs": [
    {
     "name": "stdout",
     "output_type": "stream",
     "text": [
      "US              : Statistics=0.9937, p=0.0106\n",
      "Canada          : Statistics=0.9970, p=0.6551\n",
      "UK              : Statistics=0.9944, p=0.0670\n"
     ]
    }
   ],
   "source": [
    "for i in range(len(treatments)):\n",
    "    stat, p = stats.shapiro(df[unit][df['factor'] == treatments[i]])\n",
    "    print('%-15s : Statistics=%.4f, p=%.4f' % (treatments[i], stat, p))"
   ]
  },
  {
   "cell_type": "markdown",
   "metadata": {},
   "source": [
    "The p-values of UK and Canada are greater than 0.05, we dont reject the null hypothesis for UK and Canada at a significance level of 0.05.  \n",
    "However, p-value of US is less than 0.05, we reject the null hypothesis for US at a significance level of 0.05.  \n",
    "Thus, the data doesnt satisfy the condition that all treatsments are Normal Distribution.  \n",
    "We can double check the result by applying QQplot."
   ]
  },
  {
   "cell_type": "markdown",
   "metadata": {},
   "source": [
    "#### Condition1-2: 使用QQplot檢查分布是否為常態  "
   ]
  },
  {
   "cell_type": "code",
   "execution_count": 43,
   "metadata": {},
   "outputs": [
    {
     "data": {
      "image/png": "[encoded data removed]",
      "text/plain": [
       "<Figure size 360x240 with 1 Axes>"
      ]
     },
     "metadata": {
      "needs_background": "light"
     },
     "output_type": "display_data"
    },
    {
     "data": {
      "image/png": "[encoded data removed]",
      "text/plain": [
       "<Figure size 360x240 with 1 Axes>"
      ]
     },
     "metadata": {
      "needs_background": "light"
     },
     "output_type": "display_data"
    },
    {
     "data": {
      "image/png": "[encoded data removed]",
      "text/plain": [
       "<Figure size 360x240 with 1 Axes>"
      ]
     },
     "metadata": {
      "needs_background": "light"
     },
     "output_type": "display_data"
    }
   ],
   "source": [
    "for i in range(len(treatments)):\n",
    "    fig = sm.qqplot(df[unit][df['factor'] == treatments[i]], stats.norm, fit=True, line='45')\n",
    "    plt.title(treatments[i])\n",
    "plt.show()"
   ]
  },
  {
   "cell_type": "markdown",
   "metadata": {},
   "source": [
    "Since Shapiro Test might be biased when the sample size is large, we double check the distribution using QQplot.  \n",
    "According to the QQplots above, all of them seem like normal distribution.  \n",
    "Thus, the data satisfies the condition that all treatsments are Normal Distribution.  "
   ]
  },
  {
   "cell_type": "markdown",
   "metadata": {},
   "source": [
    "#### Condition2: Bartlett's Tests for Equal Variance  \n",
    "H0: $\\sigma_1^2 = \\sigma_2^2 = \\sigma_3^2  $ <br>\n",
    "H1: At least two variances are different"
   ]
  },
  {
   "cell_type": "code",
   "execution_count": 44,
   "metadata": {},
   "outputs": [
    {
     "data": {
      "text/plain": [
       "BartlettResult(statistic=10.938592097299118, pvalue=0.004214197704239352)"
      ]
     },
     "execution_count": 44,
     "metadata": {},
     "output_type": "execute_result"
    }
   ],
   "source": [
    "stats.bartlett(*(df[unit][df['factor'] == treatments[i]] for i in range(len(treatments))))"
   ]
  },
  {
   "cell_type": "markdown",
   "metadata": {},
   "source": [
    "Since the p-value above is less than 0.05, we reject the null hypothesis at a significance level of 0.05.  \n",
    "Thus, the data doesnt satisfy the condition that all treatsments have Equal Variances, which means the result of ANOVA test might be doubtful."
   ]
  },
  {
   "cell_type": "markdown",
   "metadata": {},
   "source": [
    "#### Condition3: According to the problem discription, the observations are independent."
   ]
  },
  {
   "cell_type": "markdown",
   "metadata": {},
   "source": [
    "#### Apply ANOVA Test for mean equality  \n",
    "$H_0: \\mu_1 = \\mu_2 = \\mu_3  $ <br>\n",
    "$H_1$: At least two means differ"
   ]
  },
  {
   "cell_type": "code",
   "execution_count": 45,
   "metadata": {},
   "outputs": [
    {
     "data": {
      "text/html": [
       "<div>\n",
       "<style scoped>\n",
       "    .dataframe tbody tr th:only-of-type {\n",
       "        vertical-align: middle;\n",
       "    }\n",
       "\n",
       "    .dataframe tbody tr th {\n",
       "        vertical-align: top;\n",
       "    }\n",
       "\n",
       "    .dataframe thead th {\n",
       "        text-align: right;\n",
       "    }\n",
       "</style>\n",
       "<table border=\"1\" class=\"dataframe\">\n",
       "  <thead>\n",
       "    <tr style=\"text-align: right;\">\n",
       "      <th></th>\n",
       "      <th>sum_sq</th>\n",
       "      <th>df</th>\n",
       "      <th>F</th>\n",
       "      <th>PR(&gt;F)</th>\n",
       "    </tr>\n",
       "  </thead>\n",
       "  <tbody>\n",
       "    <tr>\n",
       "      <th>C(factor)</th>\n",
       "      <td>1.784109e+05</td>\n",
       "      <td>2.0</td>\n",
       "      <td>120.995739</td>\n",
       "      <td>1.660598e-49</td>\n",
       "    </tr>\n",
       "    <tr>\n",
       "      <th>Residual</th>\n",
       "      <td>1.126535e+06</td>\n",
       "      <td>1528.0</td>\n",
       "      <td>NaN</td>\n",
       "      <td>NaN</td>\n",
       "    </tr>\n",
       "  </tbody>\n",
       "</table>\n",
       "</div>"
      ],
      "text/plain": [
       "                 sum_sq      df           F        PR(>F)\n",
       "C(factor)  1.784109e+05     2.0  120.995739  1.660598e-49\n",
       "Residual   1.126535e+06  1528.0         NaN           NaN"
      ]
     },
     "execution_count": 45,
     "metadata": {},
     "output_type": "execute_result"
    }
   ],
   "source": [
    "results = smf.ols( unit + ' ~ C(factor)', data=df).fit()\n",
    "#results.summary()\n",
    "aov_table = sms.anova_lm(results, typ=2)\n",
    "aov_table"
   ]
  },
  {
   "cell_type": "markdown",
   "metadata": {},
   "source": [
    "Since the p-value above is less than 0.05, we reject the null hypothesis at a significance level of 0.05.  \n",
    "Thus, we conclude that at least one of the mean scores is different from the others.  \n",
    "However, the data doesnt satisfy the condition that all treatsments have Equal Variances, which means the result of ANOVA test might be doubtful."
   ]
  },
  {
   "cell_type": "markdown",
   "metadata": {},
   "source": [
    "### 14.57 (20%)"
   ]
  },
  {
   "cell_type": "code",
   "execution_count": 67,
   "metadata": {},
   "outputs": [
    {
     "data": {
      "text/html": [
       "<div>\n",
       "<style scoped>\n",
       "    .dataframe tbody tr th:only-of-type {\n",
       "        vertical-align: middle;\n",
       "    }\n",
       "\n",
       "    .dataframe tbody tr th {\n",
       "        vertical-align: top;\n",
       "    }\n",
       "\n",
       "    .dataframe thead th {\n",
       "        text-align: right;\n",
       "    }\n",
       "</style>\n",
       "<table border=\"1\" class=\"dataframe\">\n",
       "  <thead>\n",
       "    <tr style=\"text-align: right;\">\n",
       "      <th></th>\n",
       "      <th>treatment</th>\n",
       "      <th>mean</th>\n",
       "      <th>sample size</th>\n",
       "    </tr>\n",
       "  </thead>\n",
       "  <tbody>\n",
       "    <tr>\n",
       "      <th>0</th>\n",
       "      <td>X1</td>\n",
       "      <td>128.7</td>\n",
       "      <td>10</td>\n",
       "    </tr>\n",
       "    <tr>\n",
       "      <th>1</th>\n",
       "      <td>X2</td>\n",
       "      <td>101.4</td>\n",
       "      <td>10</td>\n",
       "    </tr>\n",
       "    <tr>\n",
       "      <th>2</th>\n",
       "      <td>X3</td>\n",
       "      <td>133.7</td>\n",
       "      <td>10</td>\n",
       "    </tr>\n",
       "  </tbody>\n",
       "</table>\n",
       "</div>"
      ],
      "text/plain": [
       "  treatment   mean  sample size\n",
       "0        X1  128.7           10\n",
       "1        X2  101.4           10\n",
       "2        X3  133.7           10"
      ]
     },
     "execution_count": 67,
     "metadata": {},
     "output_type": "execute_result"
    }
   ],
   "source": [
    "#題目給的資訊\n",
    "k = 3\n",
    "MSE = 700\n",
    "\n",
    "data = [['X1',128.7, 10], ['X2',101.4, 10],['X3',133.7, 10]]\n",
    "df = pd.DataFrame(data,columns = ['treatment', 'mean', 'sample size'])\n",
    "df"
   ]
  },
  {
   "cell_type": "markdown",
   "metadata": {},
   "source": [
    "### 14.57(a)(b)\n",
    "$H_0: \\mu_i = \\mu_j $  , where  i, j in [1, 3] <br> \n",
    "$H_1$: The two means differ"
   ]
  },
  {
   "cell_type": "code",
   "execution_count": 70,
   "metadata": {},
   "outputs": [],
   "source": [
    "# a function for applying LSD and Bonferroni\n",
    "\n",
    "def LSD(df, k):\n",
    "    v = df['sample size'].sum() - k\n",
    "\n",
    "    #LSD\n",
    "    alpha = 0.05\n",
    "    t = stats.t.ppf(1-alpha/2, v)\n",
    "\n",
    "    #Bonferroni\n",
    "    C = k*(k-1)/2\n",
    "    alphaC = 0.05/C\n",
    "    tb =  stats.t.ppf(1-alphaC/2, v)\n",
    "    \n",
    "    summary = []\n",
    "    for i in range(k):\n",
    "        for j in range((i+1), k):\n",
    "            difference = abs( df['mean'][i] - df['mean'][j] )\n",
    "\n",
    "            LSD = t * ( MSE * (1/df['sample size'][i] + 1/df['sample size'][j])) ** (1/2) \n",
    "            \n",
    "            rejectLSD = bool((difference - LSD)>0)\n",
    "            print(difference, LSD, rejectLSD)\n",
    "\n",
    "            BA = tb * ( MSE * (1/df['sample size'][i] + 1/df['sample size'][j])) ** (1/2) \n",
    "            rejectBA = bool((difference - BA)>0)\n",
    "\n",
    "            summary.append([df['treatment'][i], df['treatment'][j], df['mean'][i], df['mean'][j], difference, \\\n",
    "                            LSD, rejectLSD, BA, rejectBA ])\n",
    "    df2 = pd.DataFrame(summary, columns = ['treatment1','treatment2', 'mean1', 'mean2', 'difference', 'LSD', 'LSD rejectH0', 'BA', 'BA rejectH0'])\n",
    "    \n",
    "    return df2"
   ]
  },
  {
   "cell_type": "code",
   "execution_count": 71,
   "metadata": {},
   "outputs": [
    {
     "name": "stdout",
     "output_type": "stream",
     "text": [
      "27.299999999999983 24.277586073791696 True\n",
      "5.0 24.277586073791696 False\n",
      "32.29999999999998 24.277586073791696 True\n"
     ]
    },
    {
     "data": {
      "text/html": [
       "<div>\n",
       "<style scoped>\n",
       "    .dataframe tbody tr th:only-of-type {\n",
       "        vertical-align: middle;\n",
       "    }\n",
       "\n",
       "    .dataframe tbody tr th {\n",
       "        vertical-align: top;\n",
       "    }\n",
       "\n",
       "    .dataframe thead th {\n",
       "        text-align: right;\n",
       "    }\n",
       "</style>\n",
       "<table border=\"1\" class=\"dataframe\">\n",
       "  <thead>\n",
       "    <tr style=\"text-align: right;\">\n",
       "      <th></th>\n",
       "      <th>treatment1</th>\n",
       "      <th>treatment2</th>\n",
       "      <th>mean1</th>\n",
       "      <th>mean2</th>\n",
       "      <th>difference</th>\n",
       "      <th>LSD</th>\n",
       "      <th>LSD rejectH0</th>\n",
       "      <th>BA</th>\n",
       "      <th>BA rejectH0</th>\n",
       "    </tr>\n",
       "  </thead>\n",
       "  <tbody>\n",
       "    <tr>\n",
       "      <th>0</th>\n",
       "      <td>X1</td>\n",
       "      <td>X2</td>\n",
       "      <td>128.7</td>\n",
       "      <td>101.4</td>\n",
       "      <td>27.3</td>\n",
       "      <td>24.277586</td>\n",
       "      <td>True</td>\n",
       "      <td>30.2011</td>\n",
       "      <td>False</td>\n",
       "    </tr>\n",
       "    <tr>\n",
       "      <th>1</th>\n",
       "      <td>X1</td>\n",
       "      <td>X3</td>\n",
       "      <td>128.7</td>\n",
       "      <td>133.7</td>\n",
       "      <td>5.0</td>\n",
       "      <td>24.277586</td>\n",
       "      <td>False</td>\n",
       "      <td>30.2011</td>\n",
       "      <td>False</td>\n",
       "    </tr>\n",
       "    <tr>\n",
       "      <th>2</th>\n",
       "      <td>X2</td>\n",
       "      <td>X3</td>\n",
       "      <td>101.4</td>\n",
       "      <td>133.7</td>\n",
       "      <td>32.3</td>\n",
       "      <td>24.277586</td>\n",
       "      <td>True</td>\n",
       "      <td>30.2011</td>\n",
       "      <td>True</td>\n",
       "    </tr>\n",
       "  </tbody>\n",
       "</table>\n",
       "</div>"
      ],
      "text/plain": [
       "  treatment1 treatment2  mean1  mean2  difference        LSD  LSD rejectH0  \\\n",
       "0         X1         X2  128.7  101.4        27.3  24.277586          True   \n",
       "1         X1         X3  128.7  133.7         5.0  24.277586         False   \n",
       "2         X2         X3  101.4  133.7        32.3  24.277586          True   \n",
       "\n",
       "        BA  BA rejectH0  \n",
       "0  30.2011        False  \n",
       "1  30.2011        False  \n",
       "2  30.2011         True  "
      ]
     },
     "execution_count": 71,
     "metadata": {},
     "output_type": "execute_result"
    }
   ],
   "source": [
    "LSD(df,k)"
   ]
  },
  {
   "cell_type": "markdown",
   "metadata": {},
   "source": [
    "(a)  \n",
    "According to the table above, the pair of (X1,X2) and (X2,X3) reject H0 at a significance level = 0.05 using LSD method.  \n",
    "Thus, we can conclude that X2 has a different mean.\n",
    "\n",
    "(b)  \n",
    "According to the table above, the pair of (X2,X3) reject H0 at a significance level = 0.05 using Bonferroni method.  \n",
    "Thus, we can conclude that X2 and X3 have different means."
   ]
  },
  {
   "cell_type": "markdown",
   "metadata": {},
   "source": [
    "### 14.57(c)\n",
    "$H_0: \\mu_i = \\mu_j $  , where  i, j in [1, 3] <br> \n",
    "$H_1$: The two means differ"
   ]
  },
  {
   "cell_type": "code",
   "execution_count": 72,
   "metadata": {},
   "outputs": [
    {
     "data": {
      "text/plain": [
       "29.331374947080647"
      ]
     },
     "execution_count": 72,
     "metadata": {},
     "output_type": "execute_result"
    }
   ],
   "source": [
    "#quantile function\n",
    "v = df['sample size'].sum() - k\n",
    "q = statsmodels.stats.libqsturng.qsturng(0.95, k, v)\n",
    "omega = q * ((MSE/10)**(1/2))\n",
    "omega"
   ]
  },
  {
   "cell_type": "markdown",
   "metadata": {},
   "source": [
    "#### Multiple Comparison"
   ]
  },
  {
   "cell_type": "code",
   "execution_count": 73,
   "metadata": {},
   "outputs": [
    {
     "data": {
      "text/html": [
       "<div>\n",
       "<style scoped>\n",
       "    .dataframe tbody tr th:only-of-type {\n",
       "        vertical-align: middle;\n",
       "    }\n",
       "\n",
       "    .dataframe tbody tr th {\n",
       "        vertical-align: top;\n",
       "    }\n",
       "\n",
       "    .dataframe thead th {\n",
       "        text-align: right;\n",
       "    }\n",
       "</style>\n",
       "<table border=\"1\" class=\"dataframe\">\n",
       "  <thead>\n",
       "    <tr style=\"text-align: right;\">\n",
       "      <th></th>\n",
       "      <th>treatment1</th>\n",
       "      <th>treatment2</th>\n",
       "      <th>mean1</th>\n",
       "      <th>mean2</th>\n",
       "      <th>difference</th>\n",
       "      <th>omega</th>\n",
       "      <th>rejectH0</th>\n",
       "    </tr>\n",
       "  </thead>\n",
       "  <tbody>\n",
       "    <tr>\n",
       "      <th>0</th>\n",
       "      <td>X1</td>\n",
       "      <td>X2</td>\n",
       "      <td>128.7</td>\n",
       "      <td>101.4</td>\n",
       "      <td>27.3</td>\n",
       "      <td>29.331375</td>\n",
       "      <td>False</td>\n",
       "    </tr>\n",
       "    <tr>\n",
       "      <th>1</th>\n",
       "      <td>X1</td>\n",
       "      <td>X3</td>\n",
       "      <td>128.7</td>\n",
       "      <td>133.7</td>\n",
       "      <td>5.0</td>\n",
       "      <td>29.331375</td>\n",
       "      <td>False</td>\n",
       "    </tr>\n",
       "    <tr>\n",
       "      <th>2</th>\n",
       "      <td>X2</td>\n",
       "      <td>X3</td>\n",
       "      <td>101.4</td>\n",
       "      <td>133.7</td>\n",
       "      <td>32.3</td>\n",
       "      <td>29.331375</td>\n",
       "      <td>True</td>\n",
       "    </tr>\n",
       "  </tbody>\n",
       "</table>\n",
       "</div>"
      ],
      "text/plain": [
       "  treatment1 treatment2  mean1  mean2  difference      omega  rejectH0\n",
       "0         X1         X2  128.7  101.4        27.3  29.331375     False\n",
       "1         X1         X3  128.7  133.7         5.0  29.331375     False\n",
       "2         X2         X3  101.4  133.7        32.3  29.331375      True"
      ]
     },
     "execution_count": 73,
     "metadata": {},
     "output_type": "execute_result"
    }
   ],
   "source": [
    "summary = []\n",
    "for i in range(k):\n",
    "    for j in range((i+1), k):\n",
    "        difference = abs( df['mean'][i] - df['mean'][j] )\n",
    "        \n",
    "        omega = q * ((MSE/10)**(1/2))\n",
    "        reject = bool((difference - omega)>0)\n",
    "\n",
    "        summary.append([df['treatment'][i], df['treatment'][j], df['mean'][i], df['mean'][j], difference, omega, reject])\n",
    "df2 = pd.DataFrame(summary, columns = ['treatment1','treatment2', 'mean1', 'mean2', 'difference', 'omega', 'rejectH0'])\n",
    "df2"
   ]
  },
  {
   "cell_type": "markdown",
   "metadata": {},
   "source": [
    "According to the table above, the pair of (X2,X3) reject H0 at a significance level = 0.05.  \n",
    "Thus, we can conclude that X2 and X3 have different means."
   ]
  },
  {
   "cell_type": "markdown",
   "metadata": {},
   "source": [
    "### 14.63 (20%)\n",
    "\n",
    "Let treatment \"Flare A\", \"Flare B\", \"Flare C\", \"Flare D\" be treatment1, treatment2, treatment3, treatment4 respectively.  \n",
    "Alpha = 0.05 for all hypthesis tests."
   ]
  },
  {
   "cell_type": "code",
   "execution_count": 74,
   "metadata": {},
   "outputs": [
    {
     "name": "stdout",
     "output_type": "stream",
     "text": [
      "Head of dataset:\n"
     ]
    },
    {
     "data": {
      "text/html": [
       "<div>\n",
       "<style scoped>\n",
       "    .dataframe tbody tr th:only-of-type {\n",
       "        vertical-align: middle;\n",
       "    }\n",
       "\n",
       "    .dataframe tbody tr th {\n",
       "        vertical-align: top;\n",
       "    }\n",
       "\n",
       "    .dataframe thead th {\n",
       "        text-align: right;\n",
       "    }\n",
       "</style>\n",
       "<table border=\"1\" class=\"dataframe\">\n",
       "  <thead>\n",
       "    <tr style=\"text-align: right;\">\n",
       "      <th></th>\n",
       "      <th>Flare A</th>\n",
       "      <th>Flare B</th>\n",
       "      <th>Flare C</th>\n",
       "      <th>Flare D</th>\n",
       "    </tr>\n",
       "  </thead>\n",
       "  <tbody>\n",
       "    <tr>\n",
       "      <th>0</th>\n",
       "      <td>51</td>\n",
       "      <td>45</td>\n",
       "      <td>58</td>\n",
       "      <td>60</td>\n",
       "    </tr>\n",
       "    <tr>\n",
       "      <th>1</th>\n",
       "      <td>66</td>\n",
       "      <td>61</td>\n",
       "      <td>71</td>\n",
       "      <td>35</td>\n",
       "    </tr>\n",
       "    <tr>\n",
       "      <th>2</th>\n",
       "      <td>76</td>\n",
       "      <td>48</td>\n",
       "      <td>64</td>\n",
       "      <td>59</td>\n",
       "    </tr>\n",
       "    <tr>\n",
       "      <th>3</th>\n",
       "      <td>60</td>\n",
       "      <td>57</td>\n",
       "      <td>59</td>\n",
       "      <td>50</td>\n",
       "    </tr>\n",
       "    <tr>\n",
       "      <th>4</th>\n",
       "      <td>51</td>\n",
       "      <td>49</td>\n",
       "      <td>67</td>\n",
       "      <td>55</td>\n",
       "    </tr>\n",
       "  </tbody>\n",
       "</table>\n",
       "</div>"
      ],
      "text/plain": [
       "   Flare A  Flare B  Flare C  Flare D\n",
       "0       51       45       58       60\n",
       "1       66       61       71       35\n",
       "2       76       48       64       59\n",
       "3       60       57       59       50\n",
       "4       51       49       67       55"
      ]
     },
     "metadata": {},
     "output_type": "display_data"
    },
    {
     "name": "stdout",
     "output_type": "stream",
     "text": [
      "Tail of dataset:\n"
     ]
    },
    {
     "data": {
      "text/html": [
       "<div>\n",
       "<style scoped>\n",
       "    .dataframe tbody tr th:only-of-type {\n",
       "        vertical-align: middle;\n",
       "    }\n",
       "\n",
       "    .dataframe tbody tr th {\n",
       "        vertical-align: top;\n",
       "    }\n",
       "\n",
       "    .dataframe thead th {\n",
       "        text-align: right;\n",
       "    }\n",
       "</style>\n",
       "<table border=\"1\" class=\"dataframe\">\n",
       "  <thead>\n",
       "    <tr style=\"text-align: right;\">\n",
       "      <th></th>\n",
       "      <th>Flare A</th>\n",
       "      <th>Flare B</th>\n",
       "      <th>Flare C</th>\n",
       "      <th>Flare D</th>\n",
       "    </tr>\n",
       "  </thead>\n",
       "  <tbody>\n",
       "    <tr>\n",
       "      <th>5</th>\n",
       "      <td>58</td>\n",
       "      <td>72</td>\n",
       "      <td>60</td>\n",
       "      <td>48</td>\n",
       "    </tr>\n",
       "    <tr>\n",
       "      <th>6</th>\n",
       "      <td>59</td>\n",
       "      <td>55</td>\n",
       "      <td>60</td>\n",
       "      <td>54</td>\n",
       "    </tr>\n",
       "    <tr>\n",
       "      <th>7</th>\n",
       "      <td>71</td>\n",
       "      <td>58</td>\n",
       "      <td>60</td>\n",
       "      <td>41</td>\n",
       "    </tr>\n",
       "    <tr>\n",
       "      <th>8</th>\n",
       "      <td>71</td>\n",
       "      <td>65</td>\n",
       "      <td>64</td>\n",
       "      <td>53</td>\n",
       "    </tr>\n",
       "    <tr>\n",
       "      <th>9</th>\n",
       "      <td>53</td>\n",
       "      <td>63</td>\n",
       "      <td>55</td>\n",
       "      <td>63</td>\n",
       "    </tr>\n",
       "  </tbody>\n",
       "</table>\n",
       "</div>"
      ],
      "text/plain": [
       "   Flare A  Flare B  Flare C  Flare D\n",
       "5       58       72       60       48\n",
       "6       59       55       60       54\n",
       "7       71       58       60       41\n",
       "8       71       65       64       53\n",
       "9       53       63       55       63"
      ]
     },
     "metadata": {},
     "output_type": "display_data"
    }
   ],
   "source": [
    "data63 = pd.read_excel(\"Xr14-63.xlsx\")\n",
    "print('Head of dataset:')\n",
    "display(data63.head())\n",
    "\n",
    "print(\"Tail of dataset:\")\n",
    "display(data63.tail())"
   ]
  },
  {
   "cell_type": "code",
   "execution_count": 75,
   "metadata": {},
   "outputs": [
    {
     "data": {
      "text/plain": [
       "['Flare A', 'Flare B', 'Flare C', 'Flare D']"
      ]
     },
     "execution_count": 75,
     "metadata": {},
     "output_type": "execute_result"
    }
   ],
   "source": [
    "cols = list(data63.columns.values)\n",
    "cols"
   ]
  },
  {
   "cell_type": "code",
   "execution_count": 76,
   "metadata": {},
   "outputs": [],
   "source": [
    "unit = \"Flare\"\n",
    "treatments = ['A', 'B', 'C', 'D']\n",
    "\n",
    "#wide_to_long假設同樣資料在不同因素下的名稱有相同的字頭，因此我們要改欄位名稱。\n",
    "df63 = data63.rename(columns = {cols[0]: unit+'_'+treatments[0], cols[1]: unit+'_'+treatments[1], \\\n",
    "                                cols[2]: unit+'_'+treatments[2], cols[3]: unit+'_'+treatments[3]})\n",
    "\n",
    "#需要一個ID欄位\n",
    "df63[\"id\"] = df63.index\n",
    "\n",
    "#呼叫wide_to_long(); 文件請見: https://pandas.pydata.org/pandas-docs/stable/reference/api/pandas.wide_to_long.html\n",
    "df63w = pd.wide_to_long(df63, [unit], sep = \"_\", suffix = '\\w+', i=\"id\", j=\"factor\").reset_index()\n",
    "df63w = df63w[~np.isnan(df63w[unit])]\n",
    "\n",
    "#移除id行\n",
    "df = df63w.drop(columns=['id'])"
   ]
  },
  {
   "cell_type": "code",
   "execution_count": 77,
   "metadata": {},
   "outputs": [
    {
     "data": {
      "text/html": [
       "<div>\n",
       "<style scoped>\n",
       "    .dataframe tbody tr th:only-of-type {\n",
       "        vertical-align: middle;\n",
       "    }\n",
       "\n",
       "    .dataframe tbody tr th {\n",
       "        vertical-align: top;\n",
       "    }\n",
       "\n",
       "    .dataframe thead tr th {\n",
       "        text-align: left;\n",
       "    }\n",
       "\n",
       "    .dataframe thead tr:last-of-type th {\n",
       "        text-align: right;\n",
       "    }\n",
       "</style>\n",
       "<table border=\"1\" class=\"dataframe\">\n",
       "  <thead>\n",
       "    <tr>\n",
       "      <th></th>\n",
       "      <th colspan=\"8\" halign=\"left\">Flare</th>\n",
       "    </tr>\n",
       "    <tr>\n",
       "      <th></th>\n",
       "      <th>count</th>\n",
       "      <th>mean</th>\n",
       "      <th>std</th>\n",
       "      <th>min</th>\n",
       "      <th>25%</th>\n",
       "      <th>50%</th>\n",
       "      <th>75%</th>\n",
       "      <th>max</th>\n",
       "    </tr>\n",
       "    <tr>\n",
       "      <th>factor</th>\n",
       "      <th></th>\n",
       "      <th></th>\n",
       "      <th></th>\n",
       "      <th></th>\n",
       "      <th></th>\n",
       "      <th></th>\n",
       "      <th></th>\n",
       "      <th></th>\n",
       "    </tr>\n",
       "  </thead>\n",
       "  <tbody>\n",
       "    <tr>\n",
       "      <th>A</th>\n",
       "      <td>10.0</td>\n",
       "      <td>61.6</td>\n",
       "      <td>8.971560</td>\n",
       "      <td>51.0</td>\n",
       "      <td>54.25</td>\n",
       "      <td>59.5</td>\n",
       "      <td>69.75</td>\n",
       "      <td>76.0</td>\n",
       "    </tr>\n",
       "    <tr>\n",
       "      <th>B</th>\n",
       "      <td>10.0</td>\n",
       "      <td>57.3</td>\n",
       "      <td>8.393781</td>\n",
       "      <td>45.0</td>\n",
       "      <td>50.50</td>\n",
       "      <td>57.5</td>\n",
       "      <td>62.50</td>\n",
       "      <td>72.0</td>\n",
       "    </tr>\n",
       "    <tr>\n",
       "      <th>C</th>\n",
       "      <td>10.0</td>\n",
       "      <td>61.8</td>\n",
       "      <td>4.709329</td>\n",
       "      <td>55.0</td>\n",
       "      <td>59.25</td>\n",
       "      <td>60.0</td>\n",
       "      <td>64.00</td>\n",
       "      <td>71.0</td>\n",
       "    </tr>\n",
       "    <tr>\n",
       "      <th>D</th>\n",
       "      <td>10.0</td>\n",
       "      <td>51.8</td>\n",
       "      <td>8.676917</td>\n",
       "      <td>35.0</td>\n",
       "      <td>48.50</td>\n",
       "      <td>53.5</td>\n",
       "      <td>58.00</td>\n",
       "      <td>63.0</td>\n",
       "    </tr>\n",
       "  </tbody>\n",
       "</table>\n",
       "</div>"
      ],
      "text/plain": [
       "       Flare                                                \n",
       "       count  mean       std   min    25%   50%    75%   max\n",
       "factor                                                      \n",
       "A       10.0  61.6  8.971560  51.0  54.25  59.5  69.75  76.0\n",
       "B       10.0  57.3  8.393781  45.0  50.50  57.5  62.50  72.0\n",
       "C       10.0  61.8  4.709329  55.0  59.25  60.0  64.00  71.0\n",
       "D       10.0  51.8  8.676917  35.0  48.50  53.5  58.00  63.0"
      ]
     },
     "execution_count": 77,
     "metadata": {},
     "output_type": "execute_result"
    }
   ],
   "source": [
    "#看看不同factor下的summary statistics\n",
    "df.groupby(['factor']).describe()"
   ]
  },
  {
   "cell_type": "markdown",
   "metadata": {},
   "source": [
    "### 14.63(a)"
   ]
  },
  {
   "cell_type": "markdown",
   "metadata": {},
   "source": [
    "#### Condition1: 使用Shapiro Test檢查分布是否為常態  \n",
    "H0: Normal distribution  \n",
    "H1: Not Normal distribution  "
   ]
  },
  {
   "cell_type": "code",
   "execution_count": 78,
   "metadata": {},
   "outputs": [
    {
     "name": "stdout",
     "output_type": "stream",
     "text": [
      "A               : Statistics=0.9191, p=0.3495\n",
      "B               : Statistics=0.9747, p=0.9305\n",
      "C               : Statistics=0.9408, p=0.5614\n",
      "D               : Statistics=0.9466, p=0.6286\n"
     ]
    }
   ],
   "source": [
    "for i in range(len(treatments)):\n",
    "    stat, p = stats.shapiro(df[unit][df['factor'] == treatments[i]])\n",
    "    print('%-15s : Statistics=%.4f, p=%.4f' % (treatments[i], stat, p))"
   ]
  },
  {
   "cell_type": "markdown",
   "metadata": {},
   "source": [
    "Since each p-value above is larger than 0.05, for each factor, we can not reject the null hypothesis at a significance level of 0.05.  \n",
    "Thus, the data satisfies the condition that all treatsments are Normal Distribution."
   ]
  },
  {
   "cell_type": "markdown",
   "metadata": {},
   "source": [
    "#### Condition2: Bartlett's Tests for Equal Variance  \n",
    "H0: $\\sigma_1^2 = \\sigma_2^2 = \\sigma_3^2 = \\sigma_4^2$ <br>\n",
    "H1: At least two variances are different"
   ]
  },
  {
   "cell_type": "code",
   "execution_count": 79,
   "metadata": {},
   "outputs": [
    {
     "data": {
      "text/plain": [
       "BartlettResult(statistic=3.88488856825932, pvalue=0.27416536871965236)"
      ]
     },
     "execution_count": 79,
     "metadata": {},
     "output_type": "execute_result"
    }
   ],
   "source": [
    "stats.bartlett(*(df[unit][df['factor'] == treatments[i]] for i in range(len(treatments))))"
   ]
  },
  {
   "cell_type": "markdown",
   "metadata": {},
   "source": [
    "Since the p-value above is larger than 0.05, we can not reject the null hypothesis at a significance level of 0.05.  \n",
    "Thus, the data satisfies the condition that all treatsments have Equal Variances."
   ]
  },
  {
   "cell_type": "markdown",
   "metadata": {},
   "source": [
    "#### Condition3: According to the problem discription, the observations are independent."
   ]
  },
  {
   "cell_type": "markdown",
   "metadata": {},
   "source": [
    "#### Apply ANOVA Test for mean equality  \n",
    "$H_0: \\mu_1 = \\mu_2 = \\mu_3 = \\mu_4$ <br>\n",
    "$H_1$: At least two means differ"
   ]
  },
  {
   "cell_type": "code",
   "execution_count": 80,
   "metadata": {},
   "outputs": [
    {
     "data": {
      "text/plain": [
       "F_onewayResult(statistic=3.556872567875833, pvalue=0.023642279407972023)"
      ]
     },
     "execution_count": 80,
     "metadata": {},
     "output_type": "execute_result"
    }
   ],
   "source": [
    "stats.f_oneway(*(df[unit][df['factor'] == treatments[i]] for i in range(len(treatments))))"
   ]
  },
  {
   "cell_type": "markdown",
   "metadata": {},
   "source": [
    "Since the p-value above is less than 0.05, we reject the null hypothesis at a significance level of 0.05.  \n",
    "Thus, we conclude that at least one of the mean time is different from the others."
   ]
  },
  {
   "cell_type": "markdown",
   "metadata": {},
   "source": [
    "### 14.63(b)\n",
    "$H_0: \\mu_i = \\mu_j $  , where  i, j in [1, 4] <br> \n",
    "$H_1$: The two means differ"
   ]
  },
  {
   "cell_type": "code",
   "execution_count": 81,
   "metadata": {},
   "outputs": [],
   "source": [
    "des = pd.DataFrame((group.describe().rename(columns={'score':name}).squeeze()\n",
    "                         for name, group in df.groupby('factor')), index=['A','B','C','D'])"
   ]
  },
  {
   "cell_type": "code",
   "execution_count": 82,
   "metadata": {},
   "outputs": [
    {
     "data": {
      "text/html": [
       "<div>\n",
       "<style scoped>\n",
       "    .dataframe tbody tr th:only-of-type {\n",
       "        vertical-align: middle;\n",
       "    }\n",
       "\n",
       "    .dataframe tbody tr th {\n",
       "        vertical-align: top;\n",
       "    }\n",
       "\n",
       "    .dataframe thead th {\n",
       "        text-align: right;\n",
       "    }\n",
       "</style>\n",
       "<table border=\"1\" class=\"dataframe\">\n",
       "  <thead>\n",
       "    <tr style=\"text-align: right;\">\n",
       "      <th></th>\n",
       "      <th>count</th>\n",
       "      <th>mean</th>\n",
       "      <th>std</th>\n",
       "      <th>min</th>\n",
       "      <th>25%</th>\n",
       "      <th>50%</th>\n",
       "      <th>75%</th>\n",
       "      <th>max</th>\n",
       "    </tr>\n",
       "  </thead>\n",
       "  <tbody>\n",
       "    <tr>\n",
       "      <th>A</th>\n",
       "      <td>10.0</td>\n",
       "      <td>61.6</td>\n",
       "      <td>8.971560</td>\n",
       "      <td>51.0</td>\n",
       "      <td>54.25</td>\n",
       "      <td>59.5</td>\n",
       "      <td>69.75</td>\n",
       "      <td>76.0</td>\n",
       "    </tr>\n",
       "    <tr>\n",
       "      <th>B</th>\n",
       "      <td>10.0</td>\n",
       "      <td>57.3</td>\n",
       "      <td>8.393781</td>\n",
       "      <td>45.0</td>\n",
       "      <td>50.50</td>\n",
       "      <td>57.5</td>\n",
       "      <td>62.50</td>\n",
       "      <td>72.0</td>\n",
       "    </tr>\n",
       "    <tr>\n",
       "      <th>C</th>\n",
       "      <td>10.0</td>\n",
       "      <td>61.8</td>\n",
       "      <td>4.709329</td>\n",
       "      <td>55.0</td>\n",
       "      <td>59.25</td>\n",
       "      <td>60.0</td>\n",
       "      <td>64.00</td>\n",
       "      <td>71.0</td>\n",
       "    </tr>\n",
       "    <tr>\n",
       "      <th>D</th>\n",
       "      <td>10.0</td>\n",
       "      <td>51.8</td>\n",
       "      <td>8.676917</td>\n",
       "      <td>35.0</td>\n",
       "      <td>48.50</td>\n",
       "      <td>53.5</td>\n",
       "      <td>58.00</td>\n",
       "      <td>63.0</td>\n",
       "    </tr>\n",
       "  </tbody>\n",
       "</table>\n",
       "</div>"
      ],
      "text/plain": [
       "   count  mean       std   min    25%   50%    75%   max\n",
       "A   10.0  61.6  8.971560  51.0  54.25  59.5  69.75  76.0\n",
       "B   10.0  57.3  8.393781  45.0  50.50  57.5  62.50  72.0\n",
       "C   10.0  61.8  4.709329  55.0  59.25  60.0  64.00  71.0\n",
       "D   10.0  51.8  8.676917  35.0  48.50  53.5  58.00  63.0"
      ]
     },
     "execution_count": 82,
     "metadata": {},
     "output_type": "execute_result"
    }
   ],
   "source": [
    "des"
   ]
  },
  {
   "cell_type": "code",
   "execution_count": 83,
   "metadata": {},
   "outputs": [
    {
     "data": {
      "text/html": [
       "<div>\n",
       "<style scoped>\n",
       "    .dataframe tbody tr th:only-of-type {\n",
       "        vertical-align: middle;\n",
       "    }\n",
       "\n",
       "    .dataframe tbody tr th {\n",
       "        vertical-align: top;\n",
       "    }\n",
       "\n",
       "    .dataframe thead th {\n",
       "        text-align: right;\n",
       "    }\n",
       "</style>\n",
       "<table border=\"1\" class=\"dataframe\">\n",
       "  <thead>\n",
       "    <tr style=\"text-align: right;\">\n",
       "      <th></th>\n",
       "      <th>treatment</th>\n",
       "      <th>mean</th>\n",
       "      <th>sample size</th>\n",
       "    </tr>\n",
       "  </thead>\n",
       "  <tbody>\n",
       "    <tr>\n",
       "      <th>0</th>\n",
       "      <td>A</td>\n",
       "      <td>61.6</td>\n",
       "      <td>10.0</td>\n",
       "    </tr>\n",
       "    <tr>\n",
       "      <th>1</th>\n",
       "      <td>B</td>\n",
       "      <td>57.3</td>\n",
       "      <td>10.0</td>\n",
       "    </tr>\n",
       "    <tr>\n",
       "      <th>2</th>\n",
       "      <td>C</td>\n",
       "      <td>61.8</td>\n",
       "      <td>10.0</td>\n",
       "    </tr>\n",
       "    <tr>\n",
       "      <th>3</th>\n",
       "      <td>D</td>\n",
       "      <td>51.8</td>\n",
       "      <td>10.0</td>\n",
       "    </tr>\n",
       "  </tbody>\n",
       "</table>\n",
       "</div>"
      ],
      "text/plain": [
       "  treatment  mean  sample size\n",
       "0         A  61.6         10.0\n",
       "1         B  57.3         10.0\n",
       "2         C  61.8         10.0\n",
       "3         D  51.8         10.0"
      ]
     },
     "execution_count": 83,
     "metadata": {},
     "output_type": "execute_result"
    }
   ],
   "source": [
    "k = 4\n",
    "\n",
    "SSE = (df.groupby(['factor']).var() * (10-1)).sum()      \n",
    "\n",
    "data = []\n",
    "for i in range(k):\n",
    "    data.append([des.index[i], des['mean'][i], des['count'][i]])\n",
    "df2 = pd.DataFrame(data,columns = ['treatment', 'mean', 'sample size'])\n",
    "df2"
   ]
  },
  {
   "cell_type": "code",
   "execution_count": 84,
   "metadata": {},
   "outputs": [
    {
     "name": "stdout",
     "output_type": "stream",
     "text": [
      "4.300000000000004 23.99673183485211 False\n",
      "0.19999999999999574 23.99673183485211 False\n",
      "9.800000000000004 23.99673183485211 False\n",
      "4.5 23.99673183485211 False\n",
      "5.5 23.99673183485211 False\n",
      "10.0 23.99673183485211 False\n"
     ]
    },
    {
     "data": {
      "text/html": [
       "<div>\n",
       "<style scoped>\n",
       "    .dataframe tbody tr th:only-of-type {\n",
       "        vertical-align: middle;\n",
       "    }\n",
       "\n",
       "    .dataframe tbody tr th {\n",
       "        vertical-align: top;\n",
       "    }\n",
       "\n",
       "    .dataframe thead th {\n",
       "        text-align: right;\n",
       "    }\n",
       "</style>\n",
       "<table border=\"1\" class=\"dataframe\">\n",
       "  <thead>\n",
       "    <tr style=\"text-align: right;\">\n",
       "      <th></th>\n",
       "      <th>treatment1</th>\n",
       "      <th>treatment2</th>\n",
       "      <th>mean1</th>\n",
       "      <th>mean2</th>\n",
       "      <th>difference</th>\n",
       "      <th>LSD</th>\n",
       "      <th>LSD rejectH0</th>\n",
       "      <th>BA</th>\n",
       "      <th>BA rejectH0</th>\n",
       "    </tr>\n",
       "  </thead>\n",
       "  <tbody>\n",
       "    <tr>\n",
       "      <th>0</th>\n",
       "      <td>A</td>\n",
       "      <td>B</td>\n",
       "      <td>61.6</td>\n",
       "      <td>57.3</td>\n",
       "      <td>4.3</td>\n",
       "      <td>23.996732</td>\n",
       "      <td>False</td>\n",
       "      <td>33.035058</td>\n",
       "      <td>False</td>\n",
       "    </tr>\n",
       "    <tr>\n",
       "      <th>1</th>\n",
       "      <td>A</td>\n",
       "      <td>C</td>\n",
       "      <td>61.6</td>\n",
       "      <td>61.8</td>\n",
       "      <td>0.2</td>\n",
       "      <td>23.996732</td>\n",
       "      <td>False</td>\n",
       "      <td>33.035058</td>\n",
       "      <td>False</td>\n",
       "    </tr>\n",
       "    <tr>\n",
       "      <th>2</th>\n",
       "      <td>A</td>\n",
       "      <td>D</td>\n",
       "      <td>61.6</td>\n",
       "      <td>51.8</td>\n",
       "      <td>9.8</td>\n",
       "      <td>23.996732</td>\n",
       "      <td>False</td>\n",
       "      <td>33.035058</td>\n",
       "      <td>False</td>\n",
       "    </tr>\n",
       "    <tr>\n",
       "      <th>3</th>\n",
       "      <td>B</td>\n",
       "      <td>C</td>\n",
       "      <td>57.3</td>\n",
       "      <td>61.8</td>\n",
       "      <td>4.5</td>\n",
       "      <td>23.996732</td>\n",
       "      <td>False</td>\n",
       "      <td>33.035058</td>\n",
       "      <td>False</td>\n",
       "    </tr>\n",
       "    <tr>\n",
       "      <th>4</th>\n",
       "      <td>B</td>\n",
       "      <td>D</td>\n",
       "      <td>57.3</td>\n",
       "      <td>51.8</td>\n",
       "      <td>5.5</td>\n",
       "      <td>23.996732</td>\n",
       "      <td>False</td>\n",
       "      <td>33.035058</td>\n",
       "      <td>False</td>\n",
       "    </tr>\n",
       "    <tr>\n",
       "      <th>5</th>\n",
       "      <td>C</td>\n",
       "      <td>D</td>\n",
       "      <td>61.8</td>\n",
       "      <td>51.8</td>\n",
       "      <td>10.0</td>\n",
       "      <td>23.996732</td>\n",
       "      <td>False</td>\n",
       "      <td>33.035058</td>\n",
       "      <td>False</td>\n",
       "    </tr>\n",
       "  </tbody>\n",
       "</table>\n",
       "</div>"
      ],
      "text/plain": [
       "  treatment1 treatment2  mean1  mean2  difference        LSD  LSD rejectH0  \\\n",
       "0          A          B   61.6   57.3         4.3  23.996732         False   \n",
       "1          A          C   61.6   61.8         0.2  23.996732         False   \n",
       "2          A          D   61.6   51.8         9.8  23.996732         False   \n",
       "3          B          C   57.3   61.8         4.5  23.996732         False   \n",
       "4          B          D   57.3   51.8         5.5  23.996732         False   \n",
       "5          C          D   61.8   51.8        10.0  23.996732         False   \n",
       "\n",
       "          BA  BA rejectH0  \n",
       "0  33.035058        False  \n",
       "1  33.035058        False  \n",
       "2  33.035058        False  \n",
       "3  33.035058        False  \n",
       "4  33.035058        False  \n",
       "5  33.035058        False  "
      ]
     },
     "execution_count": 84,
     "metadata": {},
     "output_type": "execute_result"
    }
   ],
   "source": [
    "LSD(df2,k)"
   ]
  },
  {
   "cell_type": "markdown",
   "metadata": {},
   "source": [
    "According to the table above, the pair of flare C and flare D reject H0 at a significance level = 0.05/6 using Bonferroni Method.  \n",
    "Thus, we can conclude that flare C and D have different means and meanC is larger than meanD."
   ]
  },
  {
   "cell_type": "markdown",
   "metadata": {},
   "source": [
    "### 14.63(c)\n",
    "$H_0: \\mu_i = \\mu_j $  , where  i, j in [1, 4] <br> \n",
    "$H_1$: The two means differ"
   ]
  },
  {
   "cell_type": "code",
   "execution_count": 62,
   "metadata": {},
   "outputs": [
    {
     "data": {
      "text/plain": [
       "31.86701487355894"
      ]
     },
     "execution_count": 62,
     "metadata": {},
     "output_type": "execute_result"
    }
   ],
   "source": [
    "#quantile function\n",
    "v = df2['sample size'].sum() - k\n",
    "q = statsmodels.stats.libqsturng.qsturng(0.95, k, v)\n",
    "omega = q * ((MSE/10)**(1/2))\n",
    "omega"
   ]
  },
  {
   "cell_type": "markdown",
   "metadata": {},
   "source": [
    "#### Multiple Comparison"
   ]
  },
  {
   "cell_type": "code",
   "execution_count": 63,
   "metadata": {},
   "outputs": [
    {
     "name": "stdout",
     "output_type": "stream",
     "text": [
      " Multiple Comparison of Means - Tukey HSD, FWER=0.05 \n",
      "=====================================================\n",
      "group1 group2 meandiff p-adj   lower    upper  reject\n",
      "-----------------------------------------------------\n",
      "     A      B     -4.3 0.6062 -13.7918  5.1918  False\n",
      "     A      C      0.2    0.9  -9.2918  9.6918  False\n",
      "     A      D     -9.8 0.0408 -19.2918 -0.3082   True\n",
      "     B      C      4.5 0.5748  -4.9918 13.9918  False\n",
      "     B      D     -5.5 0.4147 -14.9918  3.9918  False\n",
      "     C      D    -10.0 0.0357 -19.4918 -0.5082   True\n",
      "-----------------------------------------------------\n"
     ]
    }
   ],
   "source": [
    "mc = smm.MultiComparison(df['Flare'], df['factor'])\n",
    "print(mc.tukeyhsd().summary())"
   ]
  },
  {
   "cell_type": "markdown",
   "metadata": {},
   "source": [
    "According to the table above, the pair of flare (A,D) and flare (C,D) reject H0 at a significance level = 0.05.  \n",
    "Thus, we can conclude that those two pairs have different means."
   ]
  }
 ],
 "metadata": {
  "kernelspec": {
   "display_name": "Python 3",
   "language": "python",
   "name": "python3"
  },
  "language_info": {
   "codemirror_mode": {
    "name": "ipython",
    "version": 3
   },
   "file_extension": ".py",
   "mimetype": "text/x-python",
   "name": "python",
   "nbconvert_exporter": "python",
   "pygments_lexer": "ipython3",
   "version": "3.8.5"
  }
 },
 "nbformat": 4,
 "nbformat_minor": 4
}
