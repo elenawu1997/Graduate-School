{
 "cells": [
  {
   "cell_type": "code",
   "execution_count": 1,
   "metadata": {},
   "outputs": [],
   "source": [
    "#載入所需函示庫\n",
    "\n",
    "#載入所需函示庫\n",
    "from matplotlib import pyplot as plt\n",
    "%matplotlib inline\n",
    "# 設定圖形大小; DPI越大圖越大\n",
    "plt.rcParams[\"figure.dpi\"] = 100\n",
    "import seaborn as sns\n",
    "import pandas as pd\n",
    "import numpy as np\n",
    "import scipy.stats as stats\n",
    "import statsmodels.api as sm\n",
    "import statsmodels.stats.api as sms\n",
    "import statsmodels.formula.api as smf\n",
    "import statsmodels.stats.multicomp as smm\n",
    "import statsmodels.stats.outliers_influence as sso\n",
    "import statsmodels"
   ]
  },
  {
   "cell_type": "markdown",
   "metadata": {},
   "source": [
    "### 作答注意事項\n",
    "\n",
    "1. 未定義自變數因變數，全錯（16.9, 16.13, 16.45）  \n",
    "    並且這應該是在畫散佈圖、做線性回歸前就定義好的，否則你到底在對什麼問題做分析呢？（所以也不可用回歸的結論來說你的X,y分別是什麼）  \n",
    "    （16.9, 16.13, 16.45以外的題目因為都是接續的照理來說也要全錯，不過因為是第一次作業，所以這次只全扣以上三題分數，其他沒因此扣分）\n",
    "2. 畫完散佈圖才能做線性回歸  \n",
    "    （你沒有確定過線性關係，怎麼能做線性回歸呢？)\n",
    "3. 畫完散佈圖應說明你從圖中得到的資訊（線性關係）  \n",
    "    （不然不知道你畫的圖是想表示什麼，就像以前畫完histogram也要說你得到常態分配的資訊一樣）\n",
    "4. 任何關於linear的檢驗都應先用散佈圖驗證線性關係，確認散佈圖後才可以用b1或相關係數的t 檢定來做強度或方向的測試，不可單用 “b1” 或 “相關係數” 說明線性關係  \n",
    "    所以16.31, 16.41等提到linear的題目，都應先畫散佈圖確認線性關係，或是也可以說根據16.9/16.13的散佈圖已經確認過線性關係...等。  \n",
    "    (由於這是第一次作業，只要16.9, 16.13有畫散佈圖就不扣分，下次開始扣分。)\n"
   ]
  },
  {
   "cell_type": "code",
   "execution_count": 2,
   "metadata": {},
   "outputs": [],
   "source": [
    "def c_of_c_test(r, n):\n",
    "    t_value = r * ((n-2)/(1 - r**2)) ** 0.5\n",
    "    t_critical = stats.t.ppf(0.975, n - 2)\n",
    "    pval = stats.t.sf(np.abs(t_value), n - 2)*2\n",
    "    print('r = ', r)\n",
    "    print('t_critical = ', t_critical)\n",
    "    print('t = ', t_value)\n",
    "    print('p_value = ', pval)\n",
    "    return t_valu"
   ]
  },
  {
   "cell_type": "markdown",
   "metadata": {},
   "source": [
    "## 16.9 (20%) (scatter plot 5%, explanation of plot 5%, summary 5%, explanation of coefficient 5%)\n",
    "X(independent variable) - Age  \n",
    "y(dependent variable) - Employment(Number of weeks on the job)"
   ]
  },
  {
   "cell_type": "code",
   "execution_count": 3,
   "metadata": {},
   "outputs": [
    {
     "name": "stdout",
     "output_type": "stream",
     "text": [
      "Dataset:\n"
     ]
    },
    {
     "data": {
      "text/html": [
       "<div>\n",
       "<style scoped>\n",
       "    .dataframe tbody tr th:only-of-type {\n",
       "        vertical-align: middle;\n",
       "    }\n",
       "\n",
       "    .dataframe tbody tr th {\n",
       "        vertical-align: top;\n",
       "    }\n",
       "\n",
       "    .dataframe thead th {\n",
       "        text-align: right;\n",
       "    }\n",
       "</style>\n",
       "<table border=\"1\" class=\"dataframe\">\n",
       "  <thead>\n",
       "    <tr style=\"text-align: right;\">\n",
       "      <th></th>\n",
       "      <th>Age</th>\n",
       "      <th>Employment</th>\n",
       "    </tr>\n",
       "  </thead>\n",
       "  <tbody>\n",
       "    <tr>\n",
       "      <th>0</th>\n",
       "      <td>37</td>\n",
       "      <td>22</td>\n",
       "    </tr>\n",
       "    <tr>\n",
       "      <th>1</th>\n",
       "      <td>33</td>\n",
       "      <td>27</td>\n",
       "    </tr>\n",
       "    <tr>\n",
       "      <th>2</th>\n",
       "      <td>53</td>\n",
       "      <td>27</td>\n",
       "    </tr>\n",
       "    <tr>\n",
       "      <th>3</th>\n",
       "      <td>29</td>\n",
       "      <td>27</td>\n",
       "    </tr>\n",
       "    <tr>\n",
       "      <th>4</th>\n",
       "      <td>24</td>\n",
       "      <td>29</td>\n",
       "    </tr>\n",
       "    <tr>\n",
       "      <th>...</th>\n",
       "      <td>...</td>\n",
       "      <td>...</td>\n",
       "    </tr>\n",
       "    <tr>\n",
       "      <th>75</th>\n",
       "      <td>32</td>\n",
       "      <td>27</td>\n",
       "    </tr>\n",
       "    <tr>\n",
       "      <th>76</th>\n",
       "      <td>48</td>\n",
       "      <td>26</td>\n",
       "    </tr>\n",
       "    <tr>\n",
       "      <th>77</th>\n",
       "      <td>51</td>\n",
       "      <td>26</td>\n",
       "    </tr>\n",
       "    <tr>\n",
       "      <th>78</th>\n",
       "      <td>42</td>\n",
       "      <td>26</td>\n",
       "    </tr>\n",
       "    <tr>\n",
       "      <th>79</th>\n",
       "      <td>39</td>\n",
       "      <td>26</td>\n",
       "    </tr>\n",
       "  </tbody>\n",
       "</table>\n",
       "<p>80 rows × 2 columns</p>\n",
       "</div>"
      ],
      "text/plain": [
       "    Age  Employment\n",
       "0    37          22\n",
       "1    33          27\n",
       "2    53          27\n",
       "3    29          27\n",
       "4    24          29\n",
       "..  ...         ...\n",
       "75   32          27\n",
       "76   48          26\n",
       "77   51          26\n",
       "78   42          26\n",
       "79   39          26\n",
       "\n",
       "[80 rows x 2 columns]"
      ]
     },
     "metadata": {},
     "output_type": "display_data"
    }
   ],
   "source": [
    "#讀取資料集\n",
    "df16_9 = pd.read_excel('Xr16-09.xlsx')\n",
    "print('Dataset:')\n",
    "display(df16_9)"
   ]
  },
  {
   "cell_type": "code",
   "execution_count": 4,
   "metadata": {},
   "outputs": [
    {
     "data": {
      "image/png": "[encoded data removed]",
      "text/plain": [
       "<Figure size 600x400 with 1 Axes>"
      ]
     },
     "metadata": {
      "needs_background": "light"
     },
     "output_type": "display_data"
    }
   ],
   "source": [
    "_ = sns.regplot(x='Age', y= 'Employment', data = df16_9, color = 'b', ci = None)\n",
    "plt.title('Scatter Plot for Work Period')\n",
    "plt.xlabel('Age')\n",
    "plt.ylabel('Number of weeks on the job')\n",
    "plt.show()"
   ]
  },
  {
   "cell_type": "markdown",
   "metadata": {},
   "source": [
    "According to the scatter plot, we can see that there is linear relationship between Age and Job tenure. Thus, we can apply Simple linear regression with OLS."
   ]
  },
  {
   "cell_type": "code",
   "execution_count": 5,
   "metadata": {},
   "outputs": [
    {
     "name": "stdout",
     "output_type": "stream",
     "text": [
      "                            OLS Regression Results                            \n",
      "==============================================================================\n",
      "Dep. Variable:             Employment   R-squared:                       0.188\n",
      "Model:                            OLS   Adj. R-squared:                  0.178\n",
      "Method:                 Least Squares   F-statistic:                     18.10\n",
      "Date:                Tue, 15 Jun 2021   Prob (F-statistic):           5.77e-05\n",
      "Time:                        15:46:24   Log-Likelihood:                -160.11\n",
      "No. Observations:                  80   AIC:                             324.2\n",
      "Df Residuals:                      78   BIC:                             329.0\n",
      "Df Model:                           1                                         \n",
      "Covariance Type:            nonrobust                                         \n",
      "==============================================================================\n",
      "                 coef    std err          t      P>|t|      [0.025      0.975]\n",
      "------------------------------------------------------------------------------\n",
      "Intercept     30.6331      1.044     29.338      0.000      28.554      32.712\n",
      "Age           -0.1169      0.027     -4.255      0.000      -0.172      -0.062\n",
      "==============================================================================\n",
      "Omnibus:                        0.889   Durbin-Watson:                   1.768\n",
      "Prob(Omnibus):                  0.641   Jarque-Bera (JB):                0.414\n",
      "Skew:                          -0.125   Prob(JB):                        0.813\n",
      "Kurtosis:                       3.249   Cond. No.                         196.\n",
      "==============================================================================\n",
      "\n",
      "Notes:\n",
      "[1] Standard Errors assume that the covariance matrix of the errors is correctly specified.\n",
      "Estimated model: y = 30.6331 + -0.1169 x\n"
     ]
    }
   ],
   "source": [
    "# Fit regression model \n",
    "df16_result1 = smf.ols('Employment~ Age', data=df16_9).fit()\n",
    "# Inspect the results\n",
    "print(df16_result1.summary())\n",
    "\n",
    "b1_1 = df16_result1.params[1]\n",
    "b0_1 = df16_result1.params[0]\n",
    "print(\"Estimated model: y = %0.4f + %0.4f x\" % (b0_1, b1_1))"
   ]
  },
  {
   "cell_type": "markdown",
   "metadata": {},
   "source": [
    "#### (a) Regression line: $\\hat{y}$ = 30.6331 – 0.1169x  \n",
    "#### (b) The slope coefficient indicates that for each additional year of age, the job tenure decreases on average by .1169.  b0= 30.63 is the y-intercept."
   ]
  },
  {
   "cell_type": "markdown",
   "metadata": {},
   "source": [
    "## 16.13  (20%) (scatter plot 5%, explanation of plot 5%, summary 5%, explanation of coefficient 5%)\n",
    "X(independent variable) - Hours(Number of hours the engine has been run)  \n",
    "y(dependent variable) - Price(in$1000s)"
   ]
  },
  {
   "cell_type": "code",
   "execution_count": 6,
   "metadata": {},
   "outputs": [
    {
     "name": "stdout",
     "output_type": "stream",
     "text": [
      "Head of dataset:\n"
     ]
    },
    {
     "data": {
      "text/html": [
       "<div>\n",
       "<style scoped>\n",
       "    .dataframe tbody tr th:only-of-type {\n",
       "        vertical-align: middle;\n",
       "    }\n",
       "\n",
       "    .dataframe tbody tr th {\n",
       "        vertical-align: top;\n",
       "    }\n",
       "\n",
       "    .dataframe thead th {\n",
       "        text-align: right;\n",
       "    }\n",
       "</style>\n",
       "<table border=\"1\" class=\"dataframe\">\n",
       "  <thead>\n",
       "    <tr style=\"text-align: right;\">\n",
       "      <th></th>\n",
       "      <th>Hours</th>\n",
       "      <th>Price</th>\n",
       "    </tr>\n",
       "  </thead>\n",
       "  <tbody>\n",
       "    <tr>\n",
       "      <th>0</th>\n",
       "      <td>1043</td>\n",
       "      <td>25</td>\n",
       "    </tr>\n",
       "    <tr>\n",
       "      <th>1</th>\n",
       "      <td>1269</td>\n",
       "      <td>30</td>\n",
       "    </tr>\n",
       "    <tr>\n",
       "      <th>2</th>\n",
       "      <td>895</td>\n",
       "      <td>26</td>\n",
       "    </tr>\n",
       "    <tr>\n",
       "      <th>3</th>\n",
       "      <td>986</td>\n",
       "      <td>29</td>\n",
       "    </tr>\n",
       "    <tr>\n",
       "      <th>4</th>\n",
       "      <td>853</td>\n",
       "      <td>28</td>\n",
       "    </tr>\n",
       "  </tbody>\n",
       "</table>\n",
       "</div>"
      ],
      "text/plain": [
       "   Hours  Price\n",
       "0   1043     25\n",
       "1   1269     30\n",
       "2    895     26\n",
       "3    986     29\n",
       "4    853     28"
      ]
     },
     "metadata": {},
     "output_type": "display_data"
    },
    {
     "name": "stdout",
     "output_type": "stream",
     "text": [
      "Tail of dataset:\n"
     ]
    },
    {
     "data": {
      "text/html": [
       "<div>\n",
       "<style scoped>\n",
       "    .dataframe tbody tr th:only-of-type {\n",
       "        vertical-align: middle;\n",
       "    }\n",
       "\n",
       "    .dataframe tbody tr th {\n",
       "        vertical-align: top;\n",
       "    }\n",
       "\n",
       "    .dataframe thead th {\n",
       "        text-align: right;\n",
       "    }\n",
       "</style>\n",
       "<table border=\"1\" class=\"dataframe\">\n",
       "  <thead>\n",
       "    <tr style=\"text-align: right;\">\n",
       "      <th></th>\n",
       "      <th>Hours</th>\n",
       "      <th>Price</th>\n",
       "    </tr>\n",
       "  </thead>\n",
       "  <tbody>\n",
       "    <tr>\n",
       "      <th>55</th>\n",
       "      <td>1259</td>\n",
       "      <td>28</td>\n",
       "    </tr>\n",
       "    <tr>\n",
       "      <th>56</th>\n",
       "      <td>1183</td>\n",
       "      <td>29</td>\n",
       "    </tr>\n",
       "    <tr>\n",
       "      <th>57</th>\n",
       "      <td>1118</td>\n",
       "      <td>27</td>\n",
       "    </tr>\n",
       "    <tr>\n",
       "      <th>58</th>\n",
       "      <td>1610</td>\n",
       "      <td>28</td>\n",
       "    </tr>\n",
       "    <tr>\n",
       "      <th>59</th>\n",
       "      <td>1661</td>\n",
       "      <td>26</td>\n",
       "    </tr>\n",
       "  </tbody>\n",
       "</table>\n",
       "</div>"
      ],
      "text/plain": [
       "    Hours  Price\n",
       "55   1259     28\n",
       "56   1183     29\n",
       "57   1118     27\n",
       "58   1610     28\n",
       "59   1661     26"
      ]
     },
     "metadata": {},
     "output_type": "display_data"
    }
   ],
   "source": [
    "#讀取資料集\n",
    "df16_13 = pd.read_excel('Xr16-13.xlsx')\n",
    "print('Head of dataset:')\n",
    "display(df16_13.head())\n",
    "print('Tail of dataset:')\n",
    "display(df16_13.tail())"
   ]
  },
  {
   "cell_type": "code",
   "execution_count": 7,
   "metadata": {},
   "outputs": [
    {
     "data": {
      "image/png": "[encoded data removed]",
      "text/plain": [
       "<Figure size 600x400 with 1 Axes>"
      ]
     },
     "metadata": {
      "needs_background": "light"
     },
     "output_type": "display_data"
    }
   ],
   "source": [
    "_ = sns.regplot(x='Hours', y= 'Price', data = df16_13, color = 'b', ci = None)\n",
    "plt.title('Scatter Plot for Boat Price')\n",
    "plt.xlabel('Number of hours the engine has been run')\n",
    "plt.ylabel('Price(in$1000s)')\n",
    "plt.show()"
   ]
  },
  {
   "cell_type": "markdown",
   "metadata": {},
   "source": [
    "According to the scatter plot, we can see that there is linear relationship between Price and Running time.  Thus, we can apply Simple linear regression with OLS."
   ]
  },
  {
   "cell_type": "code",
   "execution_count": 8,
   "metadata": {},
   "outputs": [
    {
     "name": "stdout",
     "output_type": "stream",
     "text": [
      "OLS regression summary: alpha(two tail) = 0.05\n",
      "\n",
      "                            OLS Regression Results                            \n",
      "==============================================================================\n",
      "Dep. Variable:                  Price   R-squared:                       0.031\n",
      "Model:                            OLS   Adj. R-squared:                  0.015\n",
      "Method:                 Least Squares   F-statistic:                     1.869\n",
      "Date:                Tue, 15 Jun 2021   Prob (F-statistic):              0.177\n",
      "Time:                        15:46:24   Log-Likelihood:                -122.30\n",
      "No. Observations:                  60   AIC:                             248.6\n",
      "Df Residuals:                      58   BIC:                             252.8\n",
      "Df Model:                           1                                         \n",
      "Covariance Type:            nonrobust                                         \n",
      "==============================================================================\n",
      "                 coef    std err          t      P>|t|      [0.025      0.975]\n",
      "------------------------------------------------------------------------------\n",
      "Intercept     29.3912      1.237     23.757      0.000      26.915      31.868\n",
      "Hours         -0.0014      0.001     -1.367      0.177      -0.003       0.001\n",
      "==============================================================================\n",
      "Omnibus:                        1.626   Durbin-Watson:                   2.336\n",
      "Prob(Omnibus):                  0.443   Jarque-Bera (JB):                0.892\n",
      "Skew:                           0.154   Prob(JB):                        0.640\n",
      "Kurtosis:                       3.512   Cond. No.                     6.20e+03\n",
      "==============================================================================\n",
      "\n",
      "Notes:\n",
      "[1] Standard Errors assume that the covariance matrix of the errors is correctly specified.\n",
      "[2] The condition number is large, 6.2e+03. This might indicate that there are\n",
      "strong multicollinearity or other numerical problems.\n",
      "Estimated model: y = 29.3912 + -0.0014 x\n"
     ]
    }
   ],
   "source": [
    "# Fit regression model \n",
    "df16_result2 = smf.ols('Price~ Hours', data=df16_13).fit()\n",
    "# Inspect the results\n",
    "print(\"OLS regression summary: alpha(two tail) = 0.05\\n\")\n",
    "print(df16_result2.summary())\n",
    "\n",
    "b1_2 = df16_result2.params[1]\n",
    "b0_2 = df16_result2.params[0]\n",
    "print(\"Estimated model: y = %0.4f + %0.4f x\" % (b0_2, b1_2))"
   ]
  },
  {
   "cell_type": "markdown",
   "metadata": {},
   "source": [
    "Regression line: $\\hat{y}$  = 29.3912–.0014x  \n",
    "For each additional hour the price decreases on average by .00138 thousand dollars or $1.38\n"
   ]
  },
  {
   "cell_type": "markdown",
   "metadata": {},
   "source": [
    "## 16.21  (10%)\n",
    "For each number of hours prices are normally distributed with constant variance and a mean that is a linear function of the number of hour."
   ]
  },
  {
   "cell_type": "markdown",
   "metadata": {},
   "source": [
    "## 16.31 (10%) (5% for each statistics)\n",
    "We have shown the linear relationship using the scatter plot before.  "
   ]
  },
  {
   "cell_type": "code",
   "execution_count": 9,
   "metadata": {},
   "outputs": [
    {
     "name": "stdout",
     "output_type": "stream",
     "text": [
      "MSE:  3.2876088644528787\n",
      "Standard errors:  1.8131764570644742\n",
      "Y_bar:  26.275\n"
     ]
    }
   ],
   "source": [
    "s2_e = df16_result1.mse_resid\n",
    "print('MSE: ', s2_e)\n",
    "s_e = df16_result1.mse_resid ** 0.5\n",
    "print('Standard errors: ', s_e)\n",
    "y_bar = df16_9[\"Employment\"].mean()\n",
    "print('Y_bar: ', y_bar)"
   ]
  },
  {
   "cell_type": "markdown",
   "metadata": {},
   "source": [
    "Compared to y_bar = 26.275, Se = 1.813 is relatively small. Hence our linear regression model of job tenure as a function of Age is good "
   ]
  },
  {
   "cell_type": "code",
   "execution_count": 10,
   "metadata": {},
   "outputs": [
    {
     "name": "stdout",
     "output_type": "stream",
     "text": [
      "R2 =  0.18837318744318876\n",
      "r =  -0.4340198007501372\n"
     ]
    }
   ],
   "source": [
    "R2 = df16_result1.rsquared\n",
    "print(\"R2 = \", R2)\n",
    "R = np.sign(b1_1)*R2**0.5\n",
    "print(\"r = \", R)"
   ]
  },
  {
   "cell_type": "markdown",
   "metadata": {},
   "source": [
    "R2 = 0.19 which means about 19% of the variation in the emplyment is explained by the variation in age. The rest(81%) remains unexplained by this model.  \n",
    "r = -0.434, 0.25<|r|<0.5, Hence there is a moderately weak negative linear relationship between the job tenure and age."
   ]
  },
  {
   "cell_type": "markdown",
   "metadata": {},
   "source": [
    "## 16.35 (10%)\n",
    "H0: b1 >= 0  \n",
    "H1: b1 < 0  \n",
    "alpha = 0.05 (one tail)  \n",
    "According to the table in 16.13. The pvalue of Hours/2 = 0.0885 > alpha = 0.05.  \n",
    "Thus, we can not reject the null hypothesis at a significance level of 0.05.  \n",
    "There is not enough evidence to infer that as hours of engine use increase the price decreases."
   ]
  },
  {
   "cell_type": "markdown",
   "metadata": {},
   "source": [
    "## 16.41 (10%) \n",
    "H0: r >= 0  \n",
    "H1: r < 0  \n",
    "alpha = 0.05 (one tail)"
   ]
  },
  {
   "cell_type": "code",
   "execution_count": 11,
   "metadata": {},
   "outputs": [],
   "source": [
    "def r_ttest(r, n, alpha):\n",
    "    t_value = r * ((n-2)/(1 - r**2)) ** 0.5\n",
    "    LCL = stats.t.ppf(alpha/2, n - 2)\n",
    "    UCL = stats.t.ppf(1-alpha/2, n - 2)\n",
    "    print('t = ', t_value)\n",
    "    print('t_LCL = ', LCL)\n",
    "    print('t_UCL = ', UCL)\n",
    "    return t_value, LCL, UCL"
   ]
  },
  {
   "cell_type": "code",
   "execution_count": 22,
   "metadata": {},
   "outputs": [
    {
     "name": "stdout",
     "output_type": "stream",
     "text": [
      "R2 =  0.031210742423356752\n",
      "r =  -0.17666562320767656\n",
      "t =  -1.36694609701437\n",
      "t_LCL =  -1.6715527621536728\n",
      "t_UCL =  1.671552762153672\n"
     ]
    }
   ],
   "source": [
    "R2 = df16_result2.rsquared\n",
    "print(\"R2 = \", R2)\n",
    "r = np.sign(b1_2)*R2**0.5\n",
    "print(\"r = \", r)\n",
    "\n",
    "n = len(df16_13)\n",
    "alpha = 0.1\n",
    "\n",
    "t_value, LCL, UCL = r_ttest(r, n, alpha)"
   ]
  },
  {
   "cell_type": "markdown",
   "metadata": {},
   "source": [
    "We have shown the linear relationship using the scatter plot before.  \n",
    "The t statistics of Hours (-1.367) > LCL of Hours at alpha = 0.05 (-1.67).  \n",
    "Thus, we can not reject the null hypothesis at a significance level of 0.05.  \n",
    "There is not enough evidence to infer a negative linear relationship."
   ]
  },
  {
   "cell_type": "markdown",
   "metadata": {},
   "source": [
    "## 16.45 (20%)  (scatter plot 5%, explanation of plot 5%, (a) 5%, (b) 5%)\n",
    "X(independent variable) - Education(years of Education)  \n",
    "y(dependent variable) - Time spent on the Internet in a tipycal day day(assume unit=minutes)"
   ]
  },
  {
   "cell_type": "code",
   "execution_count": 13,
   "metadata": {},
   "outputs": [
    {
     "name": "stdout",
     "output_type": "stream",
     "text": [
      "Head of dataset:\n"
     ]
    },
    {
     "data": {
      "text/html": [
       "<div>\n",
       "<style scoped>\n",
       "    .dataframe tbody tr th:only-of-type {\n",
       "        vertical-align: middle;\n",
       "    }\n",
       "\n",
       "    .dataframe tbody tr th {\n",
       "        vertical-align: top;\n",
       "    }\n",
       "\n",
       "    .dataframe thead th {\n",
       "        text-align: right;\n",
       "    }\n",
       "</style>\n",
       "<table border=\"1\" class=\"dataframe\">\n",
       "  <thead>\n",
       "    <tr style=\"text-align: right;\">\n",
       "      <th></th>\n",
       "      <th>Education</th>\n",
       "      <th>Time</th>\n",
       "    </tr>\n",
       "  </thead>\n",
       "  <tbody>\n",
       "    <tr>\n",
       "      <th>0</th>\n",
       "      <td>13</td>\n",
       "      <td>80</td>\n",
       "    </tr>\n",
       "    <tr>\n",
       "      <th>1</th>\n",
       "      <td>12</td>\n",
       "      <td>80</td>\n",
       "    </tr>\n",
       "    <tr>\n",
       "      <th>2</th>\n",
       "      <td>16</td>\n",
       "      <td>90</td>\n",
       "    </tr>\n",
       "    <tr>\n",
       "      <th>3</th>\n",
       "      <td>12</td>\n",
       "      <td>100</td>\n",
       "    </tr>\n",
       "    <tr>\n",
       "      <th>4</th>\n",
       "      <td>16</td>\n",
       "      <td>90</td>\n",
       "    </tr>\n",
       "  </tbody>\n",
       "</table>\n",
       "</div>"
      ],
      "text/plain": [
       "   Education  Time\n",
       "0         13    80\n",
       "1         12    80\n",
       "2         16    90\n",
       "3         12   100\n",
       "4         16    90"
      ]
     },
     "metadata": {},
     "output_type": "display_data"
    },
    {
     "name": "stdout",
     "output_type": "stream",
     "text": [
      "Tail of dataset:\n"
     ]
    },
    {
     "data": {
      "text/html": [
       "<div>\n",
       "<style scoped>\n",
       "    .dataframe tbody tr th:only-of-type {\n",
       "        vertical-align: middle;\n",
       "    }\n",
       "\n",
       "    .dataframe tbody tr th {\n",
       "        vertical-align: top;\n",
       "    }\n",
       "\n",
       "    .dataframe thead th {\n",
       "        text-align: right;\n",
       "    }\n",
       "</style>\n",
       "<table border=\"1\" class=\"dataframe\">\n",
       "  <thead>\n",
       "    <tr style=\"text-align: right;\">\n",
       "      <th></th>\n",
       "      <th>Education</th>\n",
       "      <th>Time</th>\n",
       "    </tr>\n",
       "  </thead>\n",
       "  <tbody>\n",
       "    <tr>\n",
       "      <th>195</th>\n",
       "      <td>12</td>\n",
       "      <td>80</td>\n",
       "    </tr>\n",
       "    <tr>\n",
       "      <th>196</th>\n",
       "      <td>14</td>\n",
       "      <td>70</td>\n",
       "    </tr>\n",
       "    <tr>\n",
       "      <th>197</th>\n",
       "      <td>12</td>\n",
       "      <td>70</td>\n",
       "    </tr>\n",
       "    <tr>\n",
       "      <th>198</th>\n",
       "      <td>15</td>\n",
       "      <td>100</td>\n",
       "    </tr>\n",
       "    <tr>\n",
       "      <th>199</th>\n",
       "      <td>12</td>\n",
       "      <td>90</td>\n",
       "    </tr>\n",
       "  </tbody>\n",
       "</table>\n",
       "</div>"
      ],
      "text/plain": [
       "     Education  Time\n",
       "195         12    80\n",
       "196         14    70\n",
       "197         12    70\n",
       "198         15   100\n",
       "199         12    90"
      ]
     },
     "metadata": {},
     "output_type": "display_data"
    }
   ],
   "source": [
    "#讀取資料集\n",
    "df16_45 = pd.read_excel('Xr16-45.xlsx')\n",
    "print('Head of dataset:')\n",
    "display(df16_45.head())\n",
    "print('Tail of dataset:')\n",
    "display(df16_45.tail())"
   ]
  },
  {
   "cell_type": "code",
   "execution_count": 14,
   "metadata": {},
   "outputs": [
    {
     "data": {
      "image/png": "[encoded data removed]",
      "text/plain": [
       "<Figure size 600x400 with 1 Axes>"
      ]
     },
     "metadata": {
      "needs_background": "light"
     },
     "output_type": "display_data"
    }
   ],
   "source": [
    "_ = sns.regplot(x='Time', y= 'Education', data = df16_45, color = 'b', ci = None)\n",
    "plt.title('Scatter Plot for Time on the Internet')\n",
    "plt.xlabel('years of Education')\n",
    "plt.ylabel('Time spent on the Internet')\n",
    "plt.show()"
   ]
  },
  {
   "cell_type": "markdown",
   "metadata": {},
   "source": [
    "#### According to the scatter plot, we can see that there is linear relationship between Education and Time on Internet.  Thus, we can apply Simple linear regression with OLS."
   ]
  },
  {
   "cell_type": "code",
   "execution_count": 15,
   "metadata": {},
   "outputs": [
    {
     "name": "stdout",
     "output_type": "stream",
     "text": [
      "OLS regression summary: alpha(two tail) = 0.05\n",
      "\n",
      "                            OLS Regression Results                            \n",
      "==============================================================================\n",
      "Dep. Variable:                   Time   R-squared:                       0.392\n",
      "Model:                            OLS   Adj. R-squared:                  0.389\n",
      "Method:                 Least Squares   F-statistic:                     127.7\n",
      "Date:                Tue, 15 Jun 2021   Prob (F-statistic):           3.56e-23\n",
      "Time:                        15:46:24   Log-Likelihood:                -836.86\n",
      "No. Observations:                 200   AIC:                             1678.\n",
      "Df Residuals:                     198   BIC:                             1684.\n",
      "Df Model:                           1                                         \n",
      "Covariance Type:            nonrobust                                         \n",
      "==============================================================================\n",
      "                 coef    std err          t      P>|t|      [0.025      0.975]\n",
      "------------------------------------------------------------------------------\n",
      "Intercept     10.3931      6.972      1.491      0.138      -3.357      24.143\n",
      "Education      5.5600      0.492     11.301      0.000       4.590       6.530\n",
      "==============================================================================\n",
      "Omnibus:                        0.674   Durbin-Watson:                   2.052\n",
      "Prob(Omnibus):                  0.714   Jarque-Bera (JB):                0.537\n",
      "Skew:                           0.126   Prob(JB):                        0.764\n",
      "Kurtosis:                       3.032   Cond. No.                         88.0\n",
      "==============================================================================\n",
      "\n",
      "Notes:\n",
      "[1] Standard Errors assume that the covariance matrix of the errors is correctly specified.\n",
      "Estimated model: y = 10.3931 + 5.5600 x\n"
     ]
    }
   ],
   "source": [
    "# Fit regression model \n",
    "df16_result3 = smf.ols('Time~ Education', data=df16_45).fit()\n",
    "# Inspect the results\n",
    "print(\"OLS regression summary: alpha(two tail) = 0.05\\n\")\n",
    "print(df16_result3.summary())\n",
    "b1_3 = df16_result3.params[1]\n",
    "b0_3 = df16_result3.params[0]\n",
    "print(\"Estimated model: y = %0.4f + %0.4f x\" % (b0_3, b1_3))"
   ]
  },
  {
   "cell_type": "markdown",
   "metadata": {},
   "source": [
    "### (a)\n",
    "H0 : r = 0  \n",
    "H1 : r != 0  \n",
    "alpha = 0.05 (two-tail)  "
   ]
  },
  {
   "cell_type": "code",
   "execution_count": 16,
   "metadata": {},
   "outputs": [
    {
     "name": "stdout",
     "output_type": "stream",
     "text": [
      "R2 =  0.392105743052653\n",
      "r =  0.6261834739536433\n",
      "t =  11.301085914436873\n",
      "t_LCL =  -1.972017477833896\n",
      "t_UCL =  1.9720174778338955\n"
     ]
    }
   ],
   "source": [
    "R2 = df16_result3.rsquared\n",
    "print(\"R2 = \", R2)\n",
    "r = np.sign(b1_3)*R2**0.5\n",
    "print(\"r = \", r)\n",
    "\n",
    "n = len(df16_45)\n",
    "alpha = 0.05\n",
    "t_value, LCL, UCL = r_ttest(r, n, alpha)"
   ]
  },
  {
   "cell_type": "markdown",
   "metadata": {},
   "source": [
    "We have shown the linear relationship using the scatter plot before.  \n",
    "The t statistics(11.30) > UCL(1.97) at alpha = 0.05. We can reject the null hypothesis at a significance level of 0.05.  \n",
    "Thus, there is enough evidence to conclude that there is a linear relationship between the two variables."
   ]
  },
  {
   "cell_type": "markdown",
   "metadata": {},
   "source": [
    "### (b)\n",
    "According to the table above, LCL of Education = 4.59 and UCL of Education = 6.53."
   ]
  }
 ],
 "metadata": {
  "kernelspec": {
   "display_name": "Python 3",
   "language": "python",
   "name": "python3"
  },
  "language_info": {
   "codemirror_mode": {
    "name": "ipython",
    "version": 3
   },
   "file_extension": ".py",
   "mimetype": "text/x-python",
   "name": "python",
   "nbconvert_exporter": "python",
   "pygments_lexer": "ipython3",
   "version": "3.8.5"
  }
 },
 "nbformat": 4,
 "nbformat_minor": 4
}
