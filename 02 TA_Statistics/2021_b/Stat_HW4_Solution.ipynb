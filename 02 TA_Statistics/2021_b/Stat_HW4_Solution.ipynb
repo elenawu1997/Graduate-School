{
 "cells": [
  {
   "cell_type": "code",
   "execution_count": 12,
   "metadata": {},
   "outputs": [],
   "source": [
    "#載入所需函示庫\n",
    "\n",
    "from matplotlib import pyplot as plt\n",
    "%matplotlib inline\n",
    "# 設定圖形大小; DPI越大圖越大\n",
    "plt.rcParams[\"figure.dpi\"] = 80\n",
    "\n",
    "import pandas as pd\n",
    "import numpy as np\n",
    "import scipy.stats as stats\n",
    "import statsmodels.api as sm\n",
    "import statsmodels.stats.api as sms\n",
    "import statsmodels.formula.api as smf\n",
    "import statsmodels.stats.multicomp as smm\n",
    "import statsmodels"
   ]
  },
  {
   "cell_type": "markdown",
   "metadata": {},
   "source": [
    "### 任何檢定(含ANOVA、常態、equal var)都須包含\n",
    "- H0H1：兩者都須清楚寫出，不只一個factor時，ANOVA的H0 不可以只寫all means equal，而要寫出是針對哪個factor\n",
    "- 計算過程(本章則為ANOVA表)\n",
    "- reject H0 or not? 判斷標準? (pvalue>0.05...等)\n",
    "- conclusion"
   ]
  },
  {
   "cell_type": "markdown",
   "metadata": {},
   "source": [
    "# Exercise 14.90  (16%)\n",
    "- Hypothesis 2%  \n",
    "- ANOVA Table 5%\n",
    "- Interpretation 3%\n",
    "- Check Condition: Normality assumption 3% \n",
    "- Check Condition: Equal variance assumption 3%"
   ]
  },
  {
   "cell_type": "code",
   "execution_count": 26,
   "metadata": {},
   "outputs": [
    {
     "name": "stdout",
     "output_type": "stream",
     "text": [
      "Head of data\n"
     ]
    },
    {
     "data": {
      "text/html": [
       "<div>\n",
       "<style scoped>\n",
       "    .dataframe tbody tr th:only-of-type {\n",
       "        vertical-align: middle;\n",
       "    }\n",
       "\n",
       "    .dataframe tbody tr th {\n",
       "        vertical-align: top;\n",
       "    }\n",
       "\n",
       "    .dataframe thead th {\n",
       "        text-align: right;\n",
       "    }\n",
       "</style>\n",
       "<table border=\"1\" class=\"dataframe\">\n",
       "  <thead>\n",
       "    <tr style=\"text-align: right;\">\n",
       "      <th></th>\n",
       "      <th>Unnamed: 0</th>\n",
       "      <th>Diet 1</th>\n",
       "      <th>Diet 2</th>\n",
       "      <th>Diet 3</th>\n",
       "      <th>Diet 4</th>\n",
       "    </tr>\n",
       "  </thead>\n",
       "  <tbody>\n",
       "    <tr>\n",
       "      <th>0</th>\n",
       "      <td>Block 1</td>\n",
       "      <td>5</td>\n",
       "      <td>2</td>\n",
       "      <td>6</td>\n",
       "      <td>8</td>\n",
       "    </tr>\n",
       "    <tr>\n",
       "      <th>1</th>\n",
       "      <td>Block 2</td>\n",
       "      <td>4</td>\n",
       "      <td>7</td>\n",
       "      <td>8</td>\n",
       "      <td>10</td>\n",
       "    </tr>\n",
       "    <tr>\n",
       "      <th>2</th>\n",
       "      <td>Block 3</td>\n",
       "      <td>6</td>\n",
       "      <td>12</td>\n",
       "      <td>9</td>\n",
       "      <td>2</td>\n",
       "    </tr>\n",
       "    <tr>\n",
       "      <th>3</th>\n",
       "      <td>Block 4</td>\n",
       "      <td>7</td>\n",
       "      <td>11</td>\n",
       "      <td>16</td>\n",
       "      <td>7</td>\n",
       "    </tr>\n",
       "    <tr>\n",
       "      <th>4</th>\n",
       "      <td>Block 5</td>\n",
       "      <td>9</td>\n",
       "      <td>8</td>\n",
       "      <td>15</td>\n",
       "      <td>14</td>\n",
       "    </tr>\n",
       "  </tbody>\n",
       "</table>\n",
       "</div>"
      ],
      "text/plain": [
       "  Unnamed: 0  Diet 1  Diet 2  Diet 3  Diet 4\n",
       "0    Block 1       5       2       6       8\n",
       "1    Block 2       4       7       8      10\n",
       "2    Block 3       6      12       9       2\n",
       "3    Block 4       7      11      16       7\n",
       "4    Block 5       9       8      15      14"
      ]
     },
     "metadata": {},
     "output_type": "display_data"
    },
    {
     "name": "stdout",
     "output_type": "stream",
     "text": [
      "Tail of data\n"
     ]
    },
    {
     "data": {
      "text/html": [
       "<div>\n",
       "<style scoped>\n",
       "    .dataframe tbody tr th:only-of-type {\n",
       "        vertical-align: middle;\n",
       "    }\n",
       "\n",
       "    .dataframe tbody tr th {\n",
       "        vertical-align: top;\n",
       "    }\n",
       "\n",
       "    .dataframe thead th {\n",
       "        text-align: right;\n",
       "    }\n",
       "</style>\n",
       "<table border=\"1\" class=\"dataframe\">\n",
       "  <thead>\n",
       "    <tr style=\"text-align: right;\">\n",
       "      <th></th>\n",
       "      <th>Unnamed: 0</th>\n",
       "      <th>Diet 1</th>\n",
       "      <th>Diet 2</th>\n",
       "      <th>Diet 3</th>\n",
       "      <th>Diet 4</th>\n",
       "    </tr>\n",
       "  </thead>\n",
       "  <tbody>\n",
       "    <tr>\n",
       "      <th>0</th>\n",
       "      <td>Block 1</td>\n",
       "      <td>5</td>\n",
       "      <td>2</td>\n",
       "      <td>6</td>\n",
       "      <td>8</td>\n",
       "    </tr>\n",
       "    <tr>\n",
       "      <th>1</th>\n",
       "      <td>Block 2</td>\n",
       "      <td>4</td>\n",
       "      <td>7</td>\n",
       "      <td>8</td>\n",
       "      <td>10</td>\n",
       "    </tr>\n",
       "    <tr>\n",
       "      <th>2</th>\n",
       "      <td>Block 3</td>\n",
       "      <td>6</td>\n",
       "      <td>12</td>\n",
       "      <td>9</td>\n",
       "      <td>2</td>\n",
       "    </tr>\n",
       "    <tr>\n",
       "      <th>3</th>\n",
       "      <td>Block 4</td>\n",
       "      <td>7</td>\n",
       "      <td>11</td>\n",
       "      <td>16</td>\n",
       "      <td>7</td>\n",
       "    </tr>\n",
       "    <tr>\n",
       "      <th>4</th>\n",
       "      <td>Block 5</td>\n",
       "      <td>9</td>\n",
       "      <td>8</td>\n",
       "      <td>15</td>\n",
       "      <td>14</td>\n",
       "    </tr>\n",
       "  </tbody>\n",
       "</table>\n",
       "</div>"
      ],
      "text/plain": [
       "  Unnamed: 0  Diet 1  Diet 2  Diet 3  Diet 4\n",
       "0    Block 1       5       2       6       8\n",
       "1    Block 2       4       7       8      10\n",
       "2    Block 3       6      12       9       2\n",
       "3    Block 4       7      11      16       7\n",
       "4    Block 5       9       8      15      14"
      ]
     },
     "metadata": {},
     "output_type": "display_data"
    }
   ],
   "source": [
    "#讀取資料集\n",
    "df_xr1490 = pd.read_excel('Xr14-90.xlsx')\n",
    "print(\"Head of data\")\n",
    "display(df_xr1490.head())\n",
    "print(\"Tail of data\")\n",
    "display(df_xr1490.tail())"
   ]
  },
  {
   "cell_type": "code",
   "execution_count": 27,
   "metadata": {
    "collapsed": true,
    "jupyter": {
     "outputs_hidden": true,
     "source_hidden": true
    }
   },
   "outputs": [
    {
     "name": "stdout",
     "output_type": "stream",
     "text": [
      "Head of data\n"
     ]
    },
    {
     "data": {
      "text/html": [
       "<div>\n",
       "<style scoped>\n",
       "    .dataframe tbody tr th:only-of-type {\n",
       "        vertical-align: middle;\n",
       "    }\n",
       "\n",
       "    .dataframe tbody tr th {\n",
       "        vertical-align: top;\n",
       "    }\n",
       "\n",
       "    .dataframe thead th {\n",
       "        text-align: right;\n",
       "    }\n",
       "</style>\n",
       "<table border=\"1\" class=\"dataframe\">\n",
       "  <thead>\n",
       "    <tr style=\"text-align: right;\">\n",
       "      <th></th>\n",
       "      <th>id</th>\n",
       "      <th>factor</th>\n",
       "      <th>pounds</th>\n",
       "    </tr>\n",
       "  </thead>\n",
       "  <tbody>\n",
       "    <tr>\n",
       "      <th>0</th>\n",
       "      <td>0</td>\n",
       "      <td>one</td>\n",
       "      <td>5</td>\n",
       "    </tr>\n",
       "    <tr>\n",
       "      <th>1</th>\n",
       "      <td>1</td>\n",
       "      <td>one</td>\n",
       "      <td>4</td>\n",
       "    </tr>\n",
       "    <tr>\n",
       "      <th>2</th>\n",
       "      <td>2</td>\n",
       "      <td>one</td>\n",
       "      <td>6</td>\n",
       "    </tr>\n",
       "    <tr>\n",
       "      <th>3</th>\n",
       "      <td>3</td>\n",
       "      <td>one</td>\n",
       "      <td>7</td>\n",
       "    </tr>\n",
       "    <tr>\n",
       "      <th>4</th>\n",
       "      <td>4</td>\n",
       "      <td>one</td>\n",
       "      <td>9</td>\n",
       "    </tr>\n",
       "  </tbody>\n",
       "</table>\n",
       "</div>"
      ],
      "text/plain": [
       "   id factor  pounds\n",
       "0   0    one       5\n",
       "1   1    one       4\n",
       "2   2    one       6\n",
       "3   3    one       7\n",
       "4   4    one       9"
      ]
     },
     "metadata": {},
     "output_type": "display_data"
    },
    {
     "name": "stdout",
     "output_type": "stream",
     "text": [
      "Tail of data\n"
     ]
    },
    {
     "data": {
      "text/html": [
       "<div>\n",
       "<style scoped>\n",
       "    .dataframe tbody tr th:only-of-type {\n",
       "        vertical-align: middle;\n",
       "    }\n",
       "\n",
       "    .dataframe tbody tr th {\n",
       "        vertical-align: top;\n",
       "    }\n",
       "\n",
       "    .dataframe thead th {\n",
       "        text-align: right;\n",
       "    }\n",
       "</style>\n",
       "<table border=\"1\" class=\"dataframe\">\n",
       "  <thead>\n",
       "    <tr style=\"text-align: right;\">\n",
       "      <th></th>\n",
       "      <th>id</th>\n",
       "      <th>factor</th>\n",
       "      <th>pounds</th>\n",
       "    </tr>\n",
       "  </thead>\n",
       "  <tbody>\n",
       "    <tr>\n",
       "      <th>15</th>\n",
       "      <td>0</td>\n",
       "      <td>four</td>\n",
       "      <td>8</td>\n",
       "    </tr>\n",
       "    <tr>\n",
       "      <th>16</th>\n",
       "      <td>1</td>\n",
       "      <td>four</td>\n",
       "      <td>10</td>\n",
       "    </tr>\n",
       "    <tr>\n",
       "      <th>17</th>\n",
       "      <td>2</td>\n",
       "      <td>four</td>\n",
       "      <td>2</td>\n",
       "    </tr>\n",
       "    <tr>\n",
       "      <th>18</th>\n",
       "      <td>3</td>\n",
       "      <td>four</td>\n",
       "      <td>7</td>\n",
       "    </tr>\n",
       "    <tr>\n",
       "      <th>19</th>\n",
       "      <td>4</td>\n",
       "      <td>four</td>\n",
       "      <td>14</td>\n",
       "    </tr>\n",
       "  </tbody>\n",
       "</table>\n",
       "</div>"
      ],
      "text/plain": [
       "    id factor  pounds\n",
       "15   0   four       8\n",
       "16   1   four      10\n",
       "17   2   four       2\n",
       "18   3   four       7\n",
       "19   4   four      14"
      ]
     },
     "metadata": {},
     "output_type": "display_data"
    }
   ],
   "source": [
    "df_xr1490=df_xr1490.drop([\"Unnamed: 0\"], axis = 1)\n",
    "df_xr1490=df_xr1490.rename(columns = {\"Diet 1\": \"pounds_one\", \n",
    "                                        \"Diet 2\": \"pounds_two\", \n",
    "                                        \"Diet 3\": \"pounds_three\", \n",
    "                                        \"Diet 4\": \"pounds_four\"})  \n",
    "df_xr1490[\"id\"] = df_xr1490.index\n",
    "df_xr1490_2 = pd.wide_to_long(df_xr1490, [\"pounds\"], sep = \"_\", suffix = '\\w+', i=\"id\", j=\"factor\").reset_index()\n",
    "print(\"Head of data\")\n",
    "display(df_xr1490_2.head())\n",
    "print(\"Tail of data\")\n",
    "display(df_xr1490_2.tail())"
   ]
  },
  {
   "cell_type": "markdown",
   "metadata": {},
   "source": [
    "### Hypothesis (2%)  \n",
    "H0: µ1 = µ2 = µ3 = µ4  \n",
    "H1: At least two means differ  \n",
    "µi: the mean of diet i"
   ]
  },
  {
   "cell_type": "markdown",
   "metadata": {},
   "source": [
    "### ANOVA table (5%) & Interpretation (3%)"
   ]
  },
  {
   "cell_type": "code",
   "execution_count": 6,
   "metadata": {
    "jupyter": {
     "source_hidden": true
    }
   },
   "outputs": [
    {
     "data": {
      "text/html": [
       "<div>\n",
       "<style scoped>\n",
       "    .dataframe tbody tr th:only-of-type {\n",
       "        vertical-align: middle;\n",
       "    }\n",
       "\n",
       "    .dataframe tbody tr th {\n",
       "        vertical-align: top;\n",
       "    }\n",
       "\n",
       "    .dataframe thead th {\n",
       "        text-align: right;\n",
       "    }\n",
       "</style>\n",
       "<table border=\"1\" class=\"dataframe\">\n",
       "  <thead>\n",
       "    <tr style=\"text-align: right;\">\n",
       "      <th></th>\n",
       "      <th>sum_sq</th>\n",
       "      <th>df</th>\n",
       "      <th>F</th>\n",
       "      <th>PR(&gt;F)</th>\n",
       "    </tr>\n",
       "  </thead>\n",
       "  <tbody>\n",
       "    <tr>\n",
       "      <th>C(factor)</th>\n",
       "      <td>53.8</td>\n",
       "      <td>3.0</td>\n",
       "      <td>1.652842</td>\n",
       "      <td>0.229629</td>\n",
       "    </tr>\n",
       "    <tr>\n",
       "      <th>C(id)</th>\n",
       "      <td>102.2</td>\n",
       "      <td>4.0</td>\n",
       "      <td>2.354839</td>\n",
       "      <td>0.112507</td>\n",
       "    </tr>\n",
       "    <tr>\n",
       "      <th>Residual</th>\n",
       "      <td>130.2</td>\n",
       "      <td>12.0</td>\n",
       "      <td>NaN</td>\n",
       "      <td>NaN</td>\n",
       "    </tr>\n",
       "  </tbody>\n",
       "</table>\n",
       "</div>"
      ],
      "text/plain": [
       "           sum_sq    df         F    PR(>F)\n",
       "C(factor)    53.8   3.0  1.652842  0.229629\n",
       "C(id)       102.2   4.0  2.354839  0.112507\n",
       "Residual    130.2  12.0       NaN       NaN"
      ]
     },
     "execution_count": 6,
     "metadata": {},
     "output_type": "execute_result"
    }
   ],
   "source": [
    "results = smf.ols('pounds ~ C(factor) + C(id)', data=df_xr1490_2).fit()\n",
    "aov_table = sms.anova_lm(results, typ=2)\n",
    "aov_table"
   ]
  },
  {
   "cell_type": "markdown",
   "metadata": {},
   "source": [
    "p-value=0.2296 (>0.01).  \n",
    "Cannot reject H0.  \n",
    "There is not enough evidence to conclude there are differences between the four diets."
   ]
  },
  {
   "cell_type": "markdown",
   "metadata": {},
   "source": [
    "### Check Condition: Normality assumption (3%)  \n",
    "H0: The distribution is normal.  \n",
    "H1: The distribution is not normal.  "
   ]
  },
  {
   "cell_type": "code",
   "execution_count": 13,
   "metadata": {
    "jupyter": {
     "source_hidden": true
    }
   },
   "outputs": [
    {
     "data": {
      "image/png": "[encoded data removed]",
      "text/plain": [
       "<Figure size 480x320 with 1 Axes>"
      ]
     },
     "metadata": {
      "needs_background": "light"
     },
     "output_type": "display_data"
    }
   ],
   "source": [
    "_ = plt.hist(results.resid, bins = 'auto')"
   ]
  },
  {
   "cell_type": "code",
   "execution_count": 14,
   "metadata": {
    "jupyter": {
     "source_hidden": true
    }
   },
   "outputs": [
    {
     "data": {
      "image/png": "[encoded data removed]",
      "text/plain": [
       "<Figure size 480x320 with 1 Axes>"
      ]
     },
     "metadata": {
      "needs_background": "light"
     },
     "output_type": "display_data"
    }
   ],
   "source": [
    "fig = sm.qqplot(results.resid, stats.norm, fit=True, line='45')"
   ]
  },
  {
   "cell_type": "code",
   "execution_count": 15,
   "metadata": {},
   "outputs": [
    {
     "name": "stdout",
     "output_type": "stream",
     "text": [
      "Statistics=0.9826, p=0.9630\n"
     ]
    }
   ],
   "source": [
    "stat, p = stats.shapiro(results.resid)\n",
    "print('Statistics=%.4f, p=%.4f' % (stat, p))"
   ]
  },
  {
   "cell_type": "markdown",
   "metadata": {},
   "source": [
    "Based on histogram, Q-Q Plot and the p-value of Shapiro-Wilk test (0.9630)>0.01, we cannot reject H0.  \n",
    "So, we conclude that the normality assumption is not violated."
   ]
  },
  {
   "cell_type": "markdown",
   "metadata": {},
   "source": [
    "### Check Condition: Equal variance assumption (3%)  \n",
    "H0: Variance of different treatment groups are equal.  \n",
    "H1: At least two treatment groups have different variance."
   ]
  },
  {
   "cell_type": "code",
   "execution_count": 16,
   "metadata": {
    "jupyter": {
     "source_hidden": true
    }
   },
   "outputs": [
    {
     "data": {
      "text/plain": [
       "BartlettResult(statistic=4.290136711862412, pvalue=0.23179100656950255)"
      ]
     },
     "execution_count": 16,
     "metadata": {},
     "output_type": "execute_result"
    }
   ],
   "source": [
    "df_xr1490_2['resid'] = results.resid\n",
    "\n",
    "stats.bartlett(df_xr1490_2['resid'][df_xr1490_2['factor'] == 'one'], \n",
    "               df_xr1490_2['resid'][df_xr1490_2['factor'] == 'two'],\n",
    "               df_xr1490_2['resid'][df_xr1490_2['factor'] == 'three'],\n",
    "               df_xr1490_2['resid'][df_xr1490_2['factor'] == 'four'])"
   ]
  },
  {
   "cell_type": "markdown",
   "metadata": {},
   "source": [
    "The p-value of Bartlett's Test is 0.2318 > 0.01. As a result, we cannot reject H0.  \n",
    "The result suggest that equal variance assumption is not violated."
   ]
  },
  {
   "cell_type": "markdown",
   "metadata": {},
   "source": [
    "# Exercise 14.96 (21%)  \n",
    "- Hypothesis (a) 2%  \n",
    "- Hypothesis (b) 2%  \n",
    "- ANOVA Table 5%\n",
    "- Interpretation (a) 3%\n",
    "- Interpretation (b) 3%\n",
    "- Check Condition: Normality assumption 3%\n",
    "- Check Condition: Equal variance assumption 3%"
   ]
  },
  {
   "cell_type": "code",
   "execution_count": 37,
   "metadata": {},
   "outputs": [
    {
     "name": "stdout",
     "output_type": "stream",
     "text": [
      "Head of data\n"
     ]
    },
    {
     "data": {
      "text/html": [
       "<div>\n",
       "<style scoped>\n",
       "    .dataframe tbody tr th:only-of-type {\n",
       "        vertical-align: middle;\n",
       "    }\n",
       "\n",
       "    .dataframe tbody tr th {\n",
       "        vertical-align: top;\n",
       "    }\n",
       "\n",
       "    .dataframe thead th {\n",
       "        text-align: right;\n",
       "    }\n",
       "</style>\n",
       "<table border=\"1\" class=\"dataframe\">\n",
       "  <thead>\n",
       "    <tr style=\"text-align: right;\">\n",
       "      <th></th>\n",
       "      <th>Age</th>\n",
       "      <th>General</th>\n",
       "      <th>Internal</th>\n",
       "      <th>Surgery</th>\n",
       "      <th>Pediatrics</th>\n",
       "      <th>Obs/Gyn</th>\n",
       "    </tr>\n",
       "  </thead>\n",
       "  <tbody>\n",
       "    <tr>\n",
       "      <th>0</th>\n",
       "      <td>30</td>\n",
       "      <td>54.0</td>\n",
       "      <td>56.7</td>\n",
       "      <td>55.7</td>\n",
       "      <td>58.3</td>\n",
       "      <td>60.6</td>\n",
       "    </tr>\n",
       "    <tr>\n",
       "      <th>1</th>\n",
       "      <td>31</td>\n",
       "      <td>54.9</td>\n",
       "      <td>61.8</td>\n",
       "      <td>61.5</td>\n",
       "      <td>50.7</td>\n",
       "      <td>65.2</td>\n",
       "    </tr>\n",
       "    <tr>\n",
       "      <th>2</th>\n",
       "      <td>32</td>\n",
       "      <td>55.5</td>\n",
       "      <td>46.6</td>\n",
       "      <td>59.5</td>\n",
       "      <td>56.4</td>\n",
       "      <td>63.2</td>\n",
       "    </tr>\n",
       "    <tr>\n",
       "      <th>3</th>\n",
       "      <td>33</td>\n",
       "      <td>37.0</td>\n",
       "      <td>44.6</td>\n",
       "      <td>40.8</td>\n",
       "      <td>51.4</td>\n",
       "      <td>37.3</td>\n",
       "    </tr>\n",
       "    <tr>\n",
       "      <th>4</th>\n",
       "      <td>34</td>\n",
       "      <td>52.0</td>\n",
       "      <td>63.8</td>\n",
       "      <td>44.9</td>\n",
       "      <td>52.5</td>\n",
       "      <td>56.6</td>\n",
       "    </tr>\n",
       "  </tbody>\n",
       "</table>\n",
       "</div>"
      ],
      "text/plain": [
       "   Age  General  Internal   Surgery  Pediatrics  Obs/Gyn\n",
       "0   30     54.0       56.7     55.7        58.3     60.6\n",
       "1   31     54.9       61.8     61.5        50.7     65.2\n",
       "2   32     55.5       46.6     59.5        56.4     63.2\n",
       "3   33     37.0       44.6     40.8        51.4     37.3\n",
       "4   34     52.0       63.8     44.9        52.5     56.6"
      ]
     },
     "metadata": {},
     "output_type": "display_data"
    },
    {
     "name": "stdout",
     "output_type": "stream",
     "text": [
      "Tail of data\n"
     ]
    },
    {
     "data": {
      "text/html": [
       "<div>\n",
       "<style scoped>\n",
       "    .dataframe tbody tr th:only-of-type {\n",
       "        vertical-align: middle;\n",
       "    }\n",
       "\n",
       "    .dataframe tbody tr th {\n",
       "        vertical-align: top;\n",
       "    }\n",
       "\n",
       "    .dataframe thead th {\n",
       "        text-align: right;\n",
       "    }\n",
       "</style>\n",
       "<table border=\"1\" class=\"dataframe\">\n",
       "  <thead>\n",
       "    <tr style=\"text-align: right;\">\n",
       "      <th></th>\n",
       "      <th>Age</th>\n",
       "      <th>General</th>\n",
       "      <th>Internal</th>\n",
       "      <th>Surgery</th>\n",
       "      <th>Pediatrics</th>\n",
       "      <th>Obs/Gyn</th>\n",
       "    </tr>\n",
       "  </thead>\n",
       "  <tbody>\n",
       "    <tr>\n",
       "      <th>31</th>\n",
       "      <td>61</td>\n",
       "      <td>61.3</td>\n",
       "      <td>56.9</td>\n",
       "      <td>70.2</td>\n",
       "      <td>58.0</td>\n",
       "      <td>68.0</td>\n",
       "    </tr>\n",
       "    <tr>\n",
       "      <th>32</th>\n",
       "      <td>62</td>\n",
       "      <td>58.7</td>\n",
       "      <td>62.0</td>\n",
       "      <td>65.2</td>\n",
       "      <td>59.3</td>\n",
       "      <td>74.2</td>\n",
       "    </tr>\n",
       "    <tr>\n",
       "      <th>33</th>\n",
       "      <td>63</td>\n",
       "      <td>47.7</td>\n",
       "      <td>37.6</td>\n",
       "      <td>44.9</td>\n",
       "      <td>47.3</td>\n",
       "      <td>57.9</td>\n",
       "    </tr>\n",
       "    <tr>\n",
       "      <th>34</th>\n",
       "      <td>64</td>\n",
       "      <td>53.5</td>\n",
       "      <td>47.1</td>\n",
       "      <td>61.7</td>\n",
       "      <td>53.5</td>\n",
       "      <td>55.0</td>\n",
       "    </tr>\n",
       "    <tr>\n",
       "      <th>35</th>\n",
       "      <td>65</td>\n",
       "      <td>56.2</td>\n",
       "      <td>57.0</td>\n",
       "      <td>58.1</td>\n",
       "      <td>54.1</td>\n",
       "      <td>66.0</td>\n",
       "    </tr>\n",
       "  </tbody>\n",
       "</table>\n",
       "</div>"
      ],
      "text/plain": [
       "    Age  General  Internal   Surgery  Pediatrics  Obs/Gyn\n",
       "31   61     61.3       56.9     70.2        58.0     68.0\n",
       "32   62     58.7       62.0     65.2        59.3     74.2\n",
       "33   63     47.7       37.6     44.9        47.3     57.9\n",
       "34   64     53.5       47.1     61.7        53.5     55.0\n",
       "35   65     56.2       57.0     58.1        54.1     66.0"
      ]
     },
     "metadata": {},
     "output_type": "display_data"
    }
   ],
   "source": [
    "#讀取資料集\n",
    "df_xr1496 = pd.read_excel('Xr14-96.xlsx')\n",
    "print(\"Head of data\")\n",
    "display(df_xr1496.head())\n",
    "print(\"Tail of data\")\n",
    "display(df_xr1496.tail())"
   ]
  },
  {
   "cell_type": "code",
   "execution_count": 38,
   "metadata": {},
   "outputs": [
    {
     "name": "stdout",
     "output_type": "stream",
     "text": [
      "Head of data\n"
     ]
    },
    {
     "data": {
      "text/html": [
       "<div>\n",
       "<style scoped>\n",
       "    .dataframe tbody tr th:only-of-type {\n",
       "        vertical-align: middle;\n",
       "    }\n",
       "\n",
       "    .dataframe tbody tr th {\n",
       "        vertical-align: top;\n",
       "    }\n",
       "\n",
       "    .dataframe thead th {\n",
       "        text-align: right;\n",
       "    }\n",
       "</style>\n",
       "<table border=\"1\" class=\"dataframe\">\n",
       "  <thead>\n",
       "    <tr style=\"text-align: right;\">\n",
       "      <th></th>\n",
       "      <th>id</th>\n",
       "      <th>factor</th>\n",
       "      <th>specialties</th>\n",
       "    </tr>\n",
       "  </thead>\n",
       "  <tbody>\n",
       "    <tr>\n",
       "      <th>0</th>\n",
       "      <td>0</td>\n",
       "      <td>General</td>\n",
       "      <td>54.0</td>\n",
       "    </tr>\n",
       "    <tr>\n",
       "      <th>1</th>\n",
       "      <td>1</td>\n",
       "      <td>General</td>\n",
       "      <td>54.9</td>\n",
       "    </tr>\n",
       "    <tr>\n",
       "      <th>2</th>\n",
       "      <td>2</td>\n",
       "      <td>General</td>\n",
       "      <td>55.5</td>\n",
       "    </tr>\n",
       "    <tr>\n",
       "      <th>3</th>\n",
       "      <td>3</td>\n",
       "      <td>General</td>\n",
       "      <td>37.0</td>\n",
       "    </tr>\n",
       "    <tr>\n",
       "      <th>4</th>\n",
       "      <td>4</td>\n",
       "      <td>General</td>\n",
       "      <td>52.0</td>\n",
       "    </tr>\n",
       "  </tbody>\n",
       "</table>\n",
       "</div>"
      ],
      "text/plain": [
       "   id   factor  specialties\n",
       "0   0  General         54.0\n",
       "1   1  General         54.9\n",
       "2   2  General         55.5\n",
       "3   3  General         37.0\n",
       "4   4  General         52.0"
      ]
     },
     "metadata": {},
     "output_type": "display_data"
    },
    {
     "name": "stdout",
     "output_type": "stream",
     "text": [
      "Tail of data\n"
     ]
    },
    {
     "data": {
      "text/html": [
       "<div>\n",
       "<style scoped>\n",
       "    .dataframe tbody tr th:only-of-type {\n",
       "        vertical-align: middle;\n",
       "    }\n",
       "\n",
       "    .dataframe tbody tr th {\n",
       "        vertical-align: top;\n",
       "    }\n",
       "\n",
       "    .dataframe thead th {\n",
       "        text-align: right;\n",
       "    }\n",
       "</style>\n",
       "<table border=\"1\" class=\"dataframe\">\n",
       "  <thead>\n",
       "    <tr style=\"text-align: right;\">\n",
       "      <th></th>\n",
       "      <th>id</th>\n",
       "      <th>factor</th>\n",
       "      <th>specialties</th>\n",
       "    </tr>\n",
       "  </thead>\n",
       "  <tbody>\n",
       "    <tr>\n",
       "      <th>175</th>\n",
       "      <td>31</td>\n",
       "      <td>ObsGyn</td>\n",
       "      <td>68.0</td>\n",
       "    </tr>\n",
       "    <tr>\n",
       "      <th>176</th>\n",
       "      <td>32</td>\n",
       "      <td>ObsGyn</td>\n",
       "      <td>74.2</td>\n",
       "    </tr>\n",
       "    <tr>\n",
       "      <th>177</th>\n",
       "      <td>33</td>\n",
       "      <td>ObsGyn</td>\n",
       "      <td>57.9</td>\n",
       "    </tr>\n",
       "    <tr>\n",
       "      <th>178</th>\n",
       "      <td>34</td>\n",
       "      <td>ObsGyn</td>\n",
       "      <td>55.0</td>\n",
       "    </tr>\n",
       "    <tr>\n",
       "      <th>179</th>\n",
       "      <td>35</td>\n",
       "      <td>ObsGyn</td>\n",
       "      <td>66.0</td>\n",
       "    </tr>\n",
       "  </tbody>\n",
       "</table>\n",
       "</div>"
      ],
      "text/plain": [
       "     id  factor  specialties\n",
       "175  31  ObsGyn         68.0\n",
       "176  32  ObsGyn         74.2\n",
       "177  33  ObsGyn         57.9\n",
       "178  34  ObsGyn         55.0\n",
       "179  35  ObsGyn         66.0"
      ]
     },
     "metadata": {},
     "output_type": "display_data"
    }
   ],
   "source": [
    "df_xr1496=df_xr1496.drop([\"Age\"], axis = 1)\n",
    "df_xr1496=df_xr1496.rename(columns = {\"General\": \"specialties_General\", \n",
    "                                        \"Internal \": \"specialties_Internal\",  \n",
    "                                        \"Surgery\": \"specialties_Surgery\",\n",
    "                                        \"Pediatrics\": \"specialties_Pediatrics\",\n",
    "                                        \"Obs/Gyn\": \"specialties_ObsGyn\",})  \n",
    "df_xr1496[\"id\"] = df_xr1496.index\n",
    "\n",
    "df_xr1496_2 = pd.wide_to_long(df_xr1496, [\"specialties\"], sep = \"_\", suffix = '\\w+', i=\"id\", j=\"factor\").reset_index()\n",
    "print(\"Head of data\")\n",
    "display(df_xr1496_2.head())\n",
    "print(\"Tail of data\")\n",
    "display(df_xr1496_2.tail())"
   ]
  },
  {
   "cell_type": "markdown",
   "metadata": {},
   "source": [
    "### ANOVA table (5%)"
   ]
  },
  {
   "cell_type": "code",
   "execution_count": 39,
   "metadata": {
    "jupyter": {
     "source_hidden": true
    }
   },
   "outputs": [
    {
     "data": {
      "text/html": [
       "<div>\n",
       "<style scoped>\n",
       "    .dataframe tbody tr th:only-of-type {\n",
       "        vertical-align: middle;\n",
       "    }\n",
       "\n",
       "    .dataframe tbody tr th {\n",
       "        vertical-align: top;\n",
       "    }\n",
       "\n",
       "    .dataframe thead th {\n",
       "        text-align: right;\n",
       "    }\n",
       "</style>\n",
       "<table border=\"1\" class=\"dataframe\">\n",
       "  <thead>\n",
       "    <tr style=\"text-align: right;\">\n",
       "      <th></th>\n",
       "      <th>sum_sq</th>\n",
       "      <th>df</th>\n",
       "      <th>F</th>\n",
       "      <th>PR(&gt;F)</th>\n",
       "    </tr>\n",
       "  </thead>\n",
       "  <tbody>\n",
       "    <tr>\n",
       "      <th>C(factor)</th>\n",
       "      <td>1406.390222</td>\n",
       "      <td>4.0</td>\n",
       "      <td>10.715019</td>\n",
       "      <td>1.322412e-07</td>\n",
       "    </tr>\n",
       "    <tr>\n",
       "      <th>C(id)</th>\n",
       "      <td>7309.684000</td>\n",
       "      <td>35.0</td>\n",
       "      <td>6.364696</td>\n",
       "      <td>9.352614e-16</td>\n",
       "    </tr>\n",
       "    <tr>\n",
       "      <th>Residual</th>\n",
       "      <td>4593.893778</td>\n",
       "      <td>140.0</td>\n",
       "      <td>NaN</td>\n",
       "      <td>NaN</td>\n",
       "    </tr>\n",
       "  </tbody>\n",
       "</table>\n",
       "</div>"
      ],
      "text/plain": [
       "                sum_sq     df          F        PR(>F)\n",
       "C(factor)  1406.390222    4.0  10.715019  1.322412e-07\n",
       "C(id)      7309.684000   35.0   6.364696  9.352614e-16\n",
       "Residual   4593.893778  140.0        NaN           NaN"
      ]
     },
     "execution_count": 39,
     "metadata": {},
     "output_type": "execute_result"
    }
   ],
   "source": [
    "results = smf.ols('specialties ~ C(factor) + C(id)', data=df_xr1496_2).fit()\n",
    "aov_table = sms.anova_lm(results, typ=2)\n",
    "aov_table"
   ]
  },
  {
   "cell_type": "markdown",
   "metadata": {},
   "source": [
    "### a. (hypothesis 2%, interpretation 3%)\n",
    "H0: µ_General = µ_Internal = µ_Surgery = µ_Pediatrics = µ_Obs/Gyn   \n",
    "H1: At least two means differ   \n",
    "Since p-value = 0. < 0.05, we reject H0.  \n",
    "There is enough evidence to infer differences between medical specialties.\n",
    "\n",
    "### b. (hypothesis 2%, interpretation 3%)\n",
    "H0: µ30 = µ31 = ... = µ65   \n",
    "H1: At least two means differ   \n",
    "µi: the mean of age = i  \n",
    "Since p-value = 0. < 0.05, we reject H0.  \n",
    "There is sufficient evidence to indicate that there are differences between the physicians’ ages, which tells us that this experimental design is recommended."
   ]
  },
  {
   "cell_type": "markdown",
   "metadata": {},
   "source": [
    "### Check Condition: Normality assumption (3%)  \n",
    "H0: The distribution is normal.  \n",
    "H1: The distribution is not normal.  "
   ]
  },
  {
   "cell_type": "code",
   "execution_count": 40,
   "metadata": {},
   "outputs": [
    {
     "data": {
      "image/png": "[encoded data removed]",
      "text/plain": [
       "<Figure size 480x320 with 1 Axes>"
      ]
     },
     "metadata": {
      "needs_background": "light"
     },
     "output_type": "display_data"
    }
   ],
   "source": [
    "_ = plt.hist(results.resid, bins = 'auto')"
   ]
  },
  {
   "cell_type": "code",
   "execution_count": 41,
   "metadata": {},
   "outputs": [
    {
     "data": {
      "image/png": "[encoded data removed]",
      "text/plain": [
       "<Figure size 480x320 with 1 Axes>"
      ]
     },
     "metadata": {
      "needs_background": "light"
     },
     "output_type": "display_data"
    }
   ],
   "source": [
    "fig = sm.qqplot(results.resid, stats.norm, fit=True, line='45')"
   ]
  },
  {
   "cell_type": "code",
   "execution_count": 42,
   "metadata": {
    "jupyter": {
     "source_hidden": true
    }
   },
   "outputs": [
    {
     "name": "stdout",
     "output_type": "stream",
     "text": [
      "Statistics=0.9917, p=0.3865\n"
     ]
    }
   ],
   "source": [
    "stat, p = stats.shapiro(results.resid)\n",
    "print('Statistics=%.4f, p=%.4f' % (stat, p))"
   ]
  },
  {
   "cell_type": "markdown",
   "metadata": {},
   "source": [
    "Based on histogram, Q-Q Plot and the p-value of Shapiro-Wilk test (0.3865)>0.05, we cannot reject H0.  \n",
    "So, we conclude that the normality assumption is not violated."
   ]
  },
  {
   "cell_type": "markdown",
   "metadata": {},
   "source": [
    "### Check Condition: Equal variance assumption (3%)  \n",
    "H0: Variance of different treatment groups are equal.  \n",
    "H1: At least two treatment groups have different variance."
   ]
  },
  {
   "cell_type": "code",
   "execution_count": 46,
   "metadata": {
    "jupyter": {
     "source_hidden": true
    }
   },
   "outputs": [
    {
     "data": {
      "text/plain": [
       "BartlettResult(statistic=27.22976687785466, pvalue=1.7861856941412227e-05)"
      ]
     },
     "execution_count": 46,
     "metadata": {},
     "output_type": "execute_result"
    }
   ],
   "source": [
    "df_xr1496_2['resid'] = results.resid\n",
    "\n",
    "stats.bartlett(df_xr1496_2['resid'][df_xr1496_2['factor'] == 'General'], \n",
    "               df_xr1496_2['resid'][df_xr1496_2['factor'] == 'Internal'],\n",
    "               df_xr1496_2['resid'][df_xr1496_2['factor'] == 'Surgery'],\n",
    "               df_xr1496_2['resid'][df_xr1496_2['factor'] == 'Pediatrics'],\n",
    "               df_xr1496_2['resid'][df_xr1496_2['factor'] == 'ObsGyn'])"
   ]
  },
  {
   "cell_type": "markdown",
   "metadata": {},
   "source": [
    "The p-value of Bartlett's Test is 0 < 0.05. As a result, we reject H0.  \n",
    "The result suggest that equal variance assumption is violated.  \n",
    "Thus, there are few points of concern regarding to the result of ANOVA."
   ]
  },
  {
   "cell_type": "markdown",
   "metadata": {},
   "source": [
    "# Exercise 14.106 (31%)\n",
    "- (a) 1%\n",
    "- (b) 1%\n",
    "- (c) 2%\n",
    "- ANOVA Table 5%\n",
    "- (d) Hypothesis 2%, Interpretation 3%\n",
    "- (e) Hypothesis 2%, Interpretation 3%\n",
    "- (f) Hypothesis 2%, Interpretation 3%  \n",
    "- Check Condition: Normality assumption 3%\n",
    "- Check Condition: Equal variance assumption 3%\n",
    "- Check Condition: Independence 1%"
   ]
  },
  {
   "cell_type": "code",
   "execution_count": 60,
   "metadata": {
    "jupyter": {
     "source_hidden": true
    }
   },
   "outputs": [
    {
     "name": "stderr",
     "output_type": "stream",
     "text": [
      "/Users/wuyunwei/opt/anaconda3/lib/python3.8/site-packages/openpyxl/worksheet/header_footer.py:48: UserWarning: Cannot parse header or footer so it will be ignored\n",
      "  warn(\"\"\"Cannot parse header or footer so it will be ignored\"\"\")\n"
     ]
    },
    {
     "data": {
      "text/html": [
       "<div>\n",
       "<style scoped>\n",
       "    .dataframe tbody tr th:only-of-type {\n",
       "        vertical-align: middle;\n",
       "    }\n",
       "\n",
       "    .dataframe tbody tr th {\n",
       "        vertical-align: top;\n",
       "    }\n",
       "\n",
       "    .dataframe thead th {\n",
       "        text-align: right;\n",
       "    }\n",
       "</style>\n",
       "<table border=\"1\" class=\"dataframe\">\n",
       "  <thead>\n",
       "    <tr style=\"text-align: right;\">\n",
       "      <th></th>\n",
       "      <th>id</th>\n",
       "      <th>form</th>\n",
       "      <th>income</th>\n",
       "      <th>time</th>\n",
       "    </tr>\n",
       "  </thead>\n",
       "  <tbody>\n",
       "    <tr>\n",
       "      <th>0</th>\n",
       "      <td>0</td>\n",
       "      <td>form1</td>\n",
       "      <td>1</td>\n",
       "      <td>43</td>\n",
       "    </tr>\n",
       "    <tr>\n",
       "      <th>1</th>\n",
       "      <td>1</td>\n",
       "      <td>form1</td>\n",
       "      <td>1</td>\n",
       "      <td>57</td>\n",
       "    </tr>\n",
       "    <tr>\n",
       "      <th>2</th>\n",
       "      <td>2</td>\n",
       "      <td>form1</td>\n",
       "      <td>1</td>\n",
       "      <td>53</td>\n",
       "    </tr>\n",
       "    <tr>\n",
       "      <th>3</th>\n",
       "      <td>3</td>\n",
       "      <td>form1</td>\n",
       "      <td>1</td>\n",
       "      <td>58</td>\n",
       "    </tr>\n",
       "    <tr>\n",
       "      <th>4</th>\n",
       "      <td>4</td>\n",
       "      <td>form1</td>\n",
       "      <td>1</td>\n",
       "      <td>72</td>\n",
       "    </tr>\n",
       "    <tr>\n",
       "      <th>...</th>\n",
       "      <td>...</td>\n",
       "      <td>...</td>\n",
       "      <td>...</td>\n",
       "      <td>...</td>\n",
       "    </tr>\n",
       "    <tr>\n",
       "      <th>115</th>\n",
       "      <td>25</td>\n",
       "      <td>form4</td>\n",
       "      <td>3</td>\n",
       "      <td>158</td>\n",
       "    </tr>\n",
       "    <tr>\n",
       "      <th>116</th>\n",
       "      <td>26</td>\n",
       "      <td>form4</td>\n",
       "      <td>3</td>\n",
       "      <td>92</td>\n",
       "    </tr>\n",
       "    <tr>\n",
       "      <th>117</th>\n",
       "      <td>27</td>\n",
       "      <td>form4</td>\n",
       "      <td>3</td>\n",
       "      <td>38</td>\n",
       "    </tr>\n",
       "    <tr>\n",
       "      <th>118</th>\n",
       "      <td>28</td>\n",
       "      <td>form4</td>\n",
       "      <td>3</td>\n",
       "      <td>158</td>\n",
       "    </tr>\n",
       "    <tr>\n",
       "      <th>119</th>\n",
       "      <td>29</td>\n",
       "      <td>form4</td>\n",
       "      <td>3</td>\n",
       "      <td>74</td>\n",
       "    </tr>\n",
       "  </tbody>\n",
       "</table>\n",
       "<p>120 rows × 4 columns</p>\n",
       "</div>"
      ],
      "text/plain": [
       "     id   form  income  time\n",
       "0     0  form1       1    43\n",
       "1     1  form1       1    57\n",
       "2     2  form1       1    53\n",
       "3     3  form1       1    58\n",
       "4     4  form1       1    72\n",
       "..   ..    ...     ...   ...\n",
       "115  25  form4       3   158\n",
       "116  26  form4       3    92\n",
       "117  27  form4       3    38\n",
       "118  28  form4       3   158\n",
       "119  29  form4       3    74\n",
       "\n",
       "[120 rows x 4 columns]"
      ]
     },
     "execution_count": 60,
     "metadata": {},
     "output_type": "execute_result"
    }
   ],
   "source": [
    "#讀取資料集\n",
    "df_xr14106 = pd.read_excel('Xr14-106.xlsx')\n",
    "df_xr14106=df_xr14106.rename(columns = {\"Group\": \"income\", \n",
    "                                        \"Form 1\": \"time_form1\",  \n",
    "                                        \"Form 2\": \"time_form2\",  \n",
    "                                        \"Form 3\": \"time_form3\",  \n",
    "                                        \"Form 4\": \"time_form4\"})  \n",
    "df_xr14106[\"id\"] = df_xr14106.index\n",
    "df_xr14106_2 = pd.wide_to_long(df_xr14106, [\"time\"], sep = \"_\", suffix = '\\w+', i=\"id\", j=\"form\").reset_index()\n",
    "df_xr14106_2"
   ]
  },
  {
   "cell_type": "markdown",
   "metadata": {},
   "source": [
    "### a. (1%)  \n",
    "There are 12 treatments.  \n",
    "### b. (1%)  \n",
    "There are two factors:  \n",
    "Factor A: tax form  \n",
    "Factor B: Income bracket  \n",
    "### c. (2%)  \n",
    "Tax form: 4 levels  \n",
    "Income bracket: 3 levels   "
   ]
  },
  {
   "cell_type": "markdown",
   "metadata": {},
   "source": [
    "### ANOVA table (5%)"
   ]
  },
  {
   "cell_type": "code",
   "execution_count": 61,
   "metadata": {
    "jupyter": {
     "source_hidden": true
    }
   },
   "outputs": [
    {
     "data": {
      "text/html": [
       "<div>\n",
       "<style scoped>\n",
       "    .dataframe tbody tr th:only-of-type {\n",
       "        vertical-align: middle;\n",
       "    }\n",
       "\n",
       "    .dataframe tbody tr th {\n",
       "        vertical-align: top;\n",
       "    }\n",
       "\n",
       "    .dataframe thead th {\n",
       "        text-align: right;\n",
       "    }\n",
       "</style>\n",
       "<table border=\"1\" class=\"dataframe\">\n",
       "  <thead>\n",
       "    <tr style=\"text-align: right;\">\n",
       "      <th></th>\n",
       "      <th>sum_sq</th>\n",
       "      <th>df</th>\n",
       "      <th>F</th>\n",
       "      <th>PR(&gt;F)</th>\n",
       "    </tr>\n",
       "  </thead>\n",
       "  <tbody>\n",
       "    <tr>\n",
       "      <th>C(form)</th>\n",
       "      <td>6279.866667</td>\n",
       "      <td>3.0</td>\n",
       "      <td>2.562717</td>\n",
       "      <td>0.058572</td>\n",
       "    </tr>\n",
       "    <tr>\n",
       "      <th>C(income)</th>\n",
       "      <td>6718.716667</td>\n",
       "      <td>2.0</td>\n",
       "      <td>4.112707</td>\n",
       "      <td>0.018994</td>\n",
       "    </tr>\n",
       "    <tr>\n",
       "      <th>C(form):C(income)</th>\n",
       "      <td>5101.883333</td>\n",
       "      <td>6.0</td>\n",
       "      <td>1.041000</td>\n",
       "      <td>0.402973</td>\n",
       "    </tr>\n",
       "    <tr>\n",
       "      <th>Residual</th>\n",
       "      <td>88217.000000</td>\n",
       "      <td>108.0</td>\n",
       "      <td>NaN</td>\n",
       "      <td>NaN</td>\n",
       "    </tr>\n",
       "  </tbody>\n",
       "</table>\n",
       "</div>"
      ],
      "text/plain": [
       "                         sum_sq     df         F    PR(>F)\n",
       "C(form)             6279.866667    3.0  2.562717  0.058572\n",
       "C(income)           6718.716667    2.0  4.112707  0.018994\n",
       "C(form):C(income)   5101.883333    6.0  1.041000  0.402973\n",
       "Residual           88217.000000  108.0       NaN       NaN"
      ]
     },
     "execution_count": 61,
     "metadata": {},
     "output_type": "execute_result"
    }
   ],
   "source": [
    "results = smf.ols('time ~ C(form) + C(income) + C(form):C(income)', data=df_xr14106_2).fit()\n",
    "\n",
    "aov_table = sms.anova_lm(results, typ=2)\n",
    "aov_table"
   ]
  },
  {
   "cell_type": "markdown",
   "metadata": {},
   "source": [
    "### d. Hypothesis (2%) & Interpretation (3%)  \n",
    "H0: Factor A and B do not interact to affect the mean response.  \n",
    "H1: Factor A and B interact to affect the mean response.  \n",
    "p-value=0.4030 (>0.05)  \n",
    "Cannot reject H0  \n",
    "There is not enough evidence to conclude that forms and income groups interact  \n",
    "### e. Hypothesis (2%) & Interpretation (3%)  \n",
    "H0: The means of different forms (form1 ~ form4) are all the same.  \n",
    "H1: At least two means differ  \n",
    "p-value=0.0586. (>0.05)  \n",
    "Cannot reject H0  \n",
    "There is not enough evidence to conclude that differences exist between the four forms.  \n",
    "### f. Hypothesis (2%) & Interpretation (3%)  \n",
    "H0: The means of different income brackets (lowest, middle, highest) are all the same.  \n",
    "H1: At least two means differ  \n",
    "p-value=0.0190. (<0.05)  \n",
    "Reject H0  \n",
    "There is enough evidence to conclude that differences exist between the different income brackets.  "
   ]
  },
  {
   "cell_type": "markdown",
   "metadata": {},
   "source": [
    "### Check Condition: Normality assumption (3%)  \n",
    "H0: The distribution is normal.  \n",
    "H1: The distribution is not normal.  "
   ]
  },
  {
   "cell_type": "code",
   "execution_count": 62,
   "metadata": {},
   "outputs": [
    {
     "data": {
      "image/png": "[encoded data removed]",
      "text/plain": [
       "<Figure size 480x320 with 1 Axes>"
      ]
     },
     "metadata": {
      "needs_background": "light"
     },
     "output_type": "display_data"
    }
   ],
   "source": [
    "_ = plt.hist(results.resid, bins = 'auto')"
   ]
  },
  {
   "cell_type": "code",
   "execution_count": 63,
   "metadata": {},
   "outputs": [
    {
     "data": {
      "image/png": "[encoded data removed]",
      "text/plain": [
       "<Figure size 480x320 with 1 Axes>"
      ]
     },
     "metadata": {
      "needs_background": "light"
     },
     "output_type": "display_data"
    }
   ],
   "source": [
    "fig = sm.qqplot(results.resid, stats.norm, fit=True, line='45')"
   ]
  },
  {
   "cell_type": "code",
   "execution_count": 64,
   "metadata": {},
   "outputs": [
    {
     "name": "stdout",
     "output_type": "stream",
     "text": [
      "Statistics=0.9941, p=0.8968\n"
     ]
    }
   ],
   "source": [
    "stat, p = stats.shapiro(results.resid)\n",
    "print('Statistics=%.4f, p=%.4f' % (stat, p))"
   ]
  },
  {
   "cell_type": "markdown",
   "metadata": {},
   "source": [
    "Based on histogram, Q-Q Plot and the p-value of Shapiro-Wilk test (0.8968)>0.05, we cannot reject H0.  \n",
    "So, we conclude that the normality assumption is not violated."
   ]
  },
  {
   "cell_type": "markdown",
   "metadata": {},
   "source": [
    "### Check Condition: Equal variance assumption (3%)  \n",
    "H0: Variance of different treatment groups are equal.  \n",
    "H1: At least two treatment groups have different variance."
   ]
  },
  {
   "cell_type": "code",
   "execution_count": 66,
   "metadata": {},
   "outputs": [
    {
     "name": "stdout",
     "output_type": "stream",
     "text": [
      "List of all levels: \n",
      " ['form1_1' 'form1_2' 'form1_3' 'form2_1' 'form2_2' 'form2_3' 'form3_1'\n",
      " 'form3_2' 'form3_3' 'form4_1' 'form4_2' 'form4_3']\n"
     ]
    },
    {
     "data": {
      "text/plain": [
       "BartlettResult(statistic=6.33671175693431, pvalue=0.8499800287699081)"
      ]
     },
     "execution_count": 66,
     "metadata": {},
     "output_type": "execute_result"
    }
   ],
   "source": [
    "df_xr14106_2['resid'] = results.resid\n",
    "\n",
    "df_xr14106_2['form_income'] = df_xr14106_2['form'] + \"_\" + df_xr14106_2['income'].apply(str) \n",
    "all_level = df_xr14106_2['form_income'].unique()\n",
    "print(\"List of all levels: \\n\", all_level)\n",
    "\n",
    "data_list = []\n",
    "for alevel in all_level:\n",
    "    data_list.append(df_xr14106_2['resid'][df_xr14106_2['form_income'] == alevel])\n",
    "    \n",
    "#Conduct Bartlett's Test\n",
    "stats.bartlett(*data_list)"
   ]
  },
  {
   "cell_type": "markdown",
   "metadata": {},
   "source": [
    "The p-value of Bartlett's Test is 0.85 >0.05. As a result, we cannot reject H0.  \n",
    "The result suggest that equal variance assumption is not violated.\n",
    "### Check Condition: Independence (1%)  \n",
    "Since the patients are randomly chosen, the samples are independent.st is 0.8500, which is not significant. As a result, we cannot reject H0.  \n",
    "The result suggest that equal variance assumption is not violated."
   ]
  },
  {
   "cell_type": "markdown",
   "metadata": {},
   "source": [
    "# Exercise 14.108 (31%) \n",
    "- (a) 1%  \n",
    "- (b) 1%  \n",
    "- (c) 2%  \n",
    "- ANOVA Table 5%\n",
    "- (d-schedule) Hypothesis 2%, Interpretation 3%\n",
    "- (d-drug) Hypothesis 2%, Interpretation 3%\n",
    "- (d-interaction) Hypothesis 2%, Interpretation 3%  \n",
    "- Check Condition: Normality assumption 3%\n",
    "- Check Condition: Equal variance assumption 3% \n",
    "- Check Condition: Independence 1%"
   ]
  },
  {
   "cell_type": "code",
   "execution_count": 23,
   "metadata": {},
   "outputs": [
    {
     "name": "stderr",
     "output_type": "stream",
     "text": [
      "/Users/wuyunwei/opt/anaconda3/lib/python3.8/site-packages/openpyxl/worksheet/header_footer.py:48: UserWarning: Cannot parse header or footer so it will be ignored\n",
      "  warn(\"\"\"Cannot parse header or footer so it will be ignored\"\"\")\n"
     ]
    },
    {
     "data": {
      "text/html": [
       "<div>\n",
       "<style scoped>\n",
       "    .dataframe tbody tr th:only-of-type {\n",
       "        vertical-align: middle;\n",
       "    }\n",
       "\n",
       "    .dataframe tbody tr th {\n",
       "        vertical-align: top;\n",
       "    }\n",
       "\n",
       "    .dataframe thead th {\n",
       "        text-align: right;\n",
       "    }\n",
       "</style>\n",
       "<table border=\"1\" class=\"dataframe\">\n",
       "  <thead>\n",
       "    <tr style=\"text-align: right;\">\n",
       "      <th></th>\n",
       "      <th>Schedule</th>\n",
       "      <th>Drug 1</th>\n",
       "      <th>Drug 2</th>\n",
       "      <th>Drug 3</th>\n",
       "      <th>Drug 4</th>\n",
       "    </tr>\n",
       "  </thead>\n",
       "  <tbody>\n",
       "    <tr>\n",
       "      <th>0</th>\n",
       "      <td>Week</td>\n",
       "      <td>17</td>\n",
       "      <td>24</td>\n",
       "      <td>14</td>\n",
       "      <td>10</td>\n",
       "    </tr>\n",
       "    <tr>\n",
       "      <th>1</th>\n",
       "      <td>Week</td>\n",
       "      <td>6</td>\n",
       "      <td>15</td>\n",
       "      <td>9</td>\n",
       "      <td>-1</td>\n",
       "    </tr>\n",
       "    <tr>\n",
       "      <th>2</th>\n",
       "      <td>Week</td>\n",
       "      <td>10</td>\n",
       "      <td>10</td>\n",
       "      <td>12</td>\n",
       "      <td>0</td>\n",
       "    </tr>\n",
       "    <tr>\n",
       "      <th>3</th>\n",
       "      <td>Week</td>\n",
       "      <td>12</td>\n",
       "      <td>16</td>\n",
       "      <td>0</td>\n",
       "      <td>3</td>\n",
       "    </tr>\n",
       "    <tr>\n",
       "      <th>4</th>\n",
       "      <td>Week</td>\n",
       "      <td>14</td>\n",
       "      <td>14</td>\n",
       "      <td>6</td>\n",
       "      <td>-1</td>\n",
       "    </tr>\n",
       "    <tr>\n",
       "      <th>5</th>\n",
       "      <td>Two Days</td>\n",
       "      <td>18</td>\n",
       "      <td>-2</td>\n",
       "      <td>20</td>\n",
       "      <td>-2</td>\n",
       "    </tr>\n",
       "    <tr>\n",
       "      <th>6</th>\n",
       "      <td>Two Days</td>\n",
       "      <td>9</td>\n",
       "      <td>0</td>\n",
       "      <td>16</td>\n",
       "      <td>7</td>\n",
       "    </tr>\n",
       "    <tr>\n",
       "      <th>7</th>\n",
       "      <td>Two Days</td>\n",
       "      <td>17</td>\n",
       "      <td>17</td>\n",
       "      <td>12</td>\n",
       "      <td>10</td>\n",
       "    </tr>\n",
       "    <tr>\n",
       "      <th>8</th>\n",
       "      <td>Two Days</td>\n",
       "      <td>21</td>\n",
       "      <td>2</td>\n",
       "      <td>17</td>\n",
       "      <td>6</td>\n",
       "    </tr>\n",
       "    <tr>\n",
       "      <th>9</th>\n",
       "      <td>Two Days</td>\n",
       "      <td>15</td>\n",
       "      <td>6</td>\n",
       "      <td>18</td>\n",
       "      <td>7</td>\n",
       "    </tr>\n",
       "  </tbody>\n",
       "</table>\n",
       "</div>"
      ],
      "text/plain": [
       "   Schedule  Drug 1  Drug 2  Drug 3  Drug 4\n",
       "0      Week      17      24      14      10\n",
       "1      Week       6      15       9      -1\n",
       "2      Week      10      10      12       0\n",
       "3      Week      12      16       0       3\n",
       "4      Week      14      14       6      -1\n",
       "5  Two Days      18      -2      20      -2\n",
       "6  Two Days       9       0      16       7\n",
       "7  Two Days      17      17      12      10\n",
       "8  Two Days      21       2      17       6\n",
       "9  Two Days      15       6      18       7"
      ]
     },
     "execution_count": 23,
     "metadata": {},
     "output_type": "execute_result"
    }
   ],
   "source": [
    "#讀取資料集\n",
    "df_xr14108 = pd.read_excel('Xr14-108.xlsx')\n",
    "df_xr14108"
   ]
  },
  {
   "cell_type": "markdown",
   "metadata": {},
   "source": [
    "### a. (1%)  \n",
    "There are two factors:  \n",
    "Factor A: drug mixture  \n",
    "Factor B: schedule  \n",
    "### b. (1%)  \n",
    "The response variable is the improvement index.  \n",
    "### c. (2%)  \n",
    "There are a = 4 drug mixtures and b = 2 schedules.  "
   ]
  },
  {
   "cell_type": "code",
   "execution_count": 47,
   "metadata": {
    "collapsed": true,
    "jupyter": {
     "outputs_hidden": true,
     "source_hidden": true
    }
   },
   "outputs": [
    {
     "name": "stdout",
     "output_type": "stream",
     "text": [
      "Head of data\n"
     ]
    },
    {
     "data": {
      "text/html": [
       "<div>\n",
       "<style scoped>\n",
       "    .dataframe tbody tr th:only-of-type {\n",
       "        vertical-align: middle;\n",
       "    }\n",
       "\n",
       "    .dataframe tbody tr th {\n",
       "        vertical-align: top;\n",
       "    }\n",
       "\n",
       "    .dataframe thead th {\n",
       "        text-align: right;\n",
       "    }\n",
       "</style>\n",
       "<table border=\"1\" class=\"dataframe\">\n",
       "  <thead>\n",
       "    <tr style=\"text-align: right;\">\n",
       "      <th></th>\n",
       "      <th>id</th>\n",
       "      <th>Drug</th>\n",
       "      <th>Schedule</th>\n",
       "      <th>index</th>\n",
       "    </tr>\n",
       "  </thead>\n",
       "  <tbody>\n",
       "    <tr>\n",
       "      <th>0</th>\n",
       "      <td>0</td>\n",
       "      <td>drug1</td>\n",
       "      <td>Week</td>\n",
       "      <td>17</td>\n",
       "    </tr>\n",
       "    <tr>\n",
       "      <th>1</th>\n",
       "      <td>1</td>\n",
       "      <td>drug1</td>\n",
       "      <td>Week</td>\n",
       "      <td>6</td>\n",
       "    </tr>\n",
       "    <tr>\n",
       "      <th>2</th>\n",
       "      <td>2</td>\n",
       "      <td>drug1</td>\n",
       "      <td>Week</td>\n",
       "      <td>10</td>\n",
       "    </tr>\n",
       "    <tr>\n",
       "      <th>3</th>\n",
       "      <td>3</td>\n",
       "      <td>drug1</td>\n",
       "      <td>Week</td>\n",
       "      <td>12</td>\n",
       "    </tr>\n",
       "    <tr>\n",
       "      <th>4</th>\n",
       "      <td>4</td>\n",
       "      <td>drug1</td>\n",
       "      <td>Week</td>\n",
       "      <td>14</td>\n",
       "    </tr>\n",
       "  </tbody>\n",
       "</table>\n",
       "</div>"
      ],
      "text/plain": [
       "   id   Drug Schedule  index\n",
       "0   0  drug1     Week     17\n",
       "1   1  drug1     Week      6\n",
       "2   2  drug1     Week     10\n",
       "3   3  drug1     Week     12\n",
       "4   4  drug1     Week     14"
      ]
     },
     "metadata": {},
     "output_type": "display_data"
    },
    {
     "name": "stdout",
     "output_type": "stream",
     "text": [
      "Tail of data\n"
     ]
    },
    {
     "data": {
      "text/html": [
       "<div>\n",
       "<style scoped>\n",
       "    .dataframe tbody tr th:only-of-type {\n",
       "        vertical-align: middle;\n",
       "    }\n",
       "\n",
       "    .dataframe tbody tr th {\n",
       "        vertical-align: top;\n",
       "    }\n",
       "\n",
       "    .dataframe thead th {\n",
       "        text-align: right;\n",
       "    }\n",
       "</style>\n",
       "<table border=\"1\" class=\"dataframe\">\n",
       "  <thead>\n",
       "    <tr style=\"text-align: right;\">\n",
       "      <th></th>\n",
       "      <th>id</th>\n",
       "      <th>Drug</th>\n",
       "      <th>Schedule</th>\n",
       "      <th>index</th>\n",
       "    </tr>\n",
       "  </thead>\n",
       "  <tbody>\n",
       "    <tr>\n",
       "      <th>35</th>\n",
       "      <td>5</td>\n",
       "      <td>drug4</td>\n",
       "      <td>Two Days</td>\n",
       "      <td>-2</td>\n",
       "    </tr>\n",
       "    <tr>\n",
       "      <th>36</th>\n",
       "      <td>6</td>\n",
       "      <td>drug4</td>\n",
       "      <td>Two Days</td>\n",
       "      <td>7</td>\n",
       "    </tr>\n",
       "    <tr>\n",
       "      <th>37</th>\n",
       "      <td>7</td>\n",
       "      <td>drug4</td>\n",
       "      <td>Two Days</td>\n",
       "      <td>10</td>\n",
       "    </tr>\n",
       "    <tr>\n",
       "      <th>38</th>\n",
       "      <td>8</td>\n",
       "      <td>drug4</td>\n",
       "      <td>Two Days</td>\n",
       "      <td>6</td>\n",
       "    </tr>\n",
       "    <tr>\n",
       "      <th>39</th>\n",
       "      <td>9</td>\n",
       "      <td>drug4</td>\n",
       "      <td>Two Days</td>\n",
       "      <td>7</td>\n",
       "    </tr>\n",
       "  </tbody>\n",
       "</table>\n",
       "</div>"
      ],
      "text/plain": [
       "    id   Drug  Schedule  index\n",
       "35   5  drug4  Two Days     -2\n",
       "36   6  drug4  Two Days      7\n",
       "37   7  drug4  Two Days     10\n",
       "38   8  drug4  Two Days      6\n",
       "39   9  drug4  Two Days      7"
      ]
     },
     "metadata": {},
     "output_type": "display_data"
    }
   ],
   "source": [
    "df_xr14108=df_xr14108.rename(columns = {\"Drug 1\": \"index_drug1\",  \n",
    "                                        \"Drug 2\": \"index_drug2\",  \n",
    "                                        \"Drug 3\": \"index_drug3\",  \n",
    "                                        \"Drug 4\": \"index_drug4\"})  \n",
    "df_xr14108[\"id\"] = df_xr14108.index\n",
    "df_xr14108_2 = pd.wide_to_long(df_xr14108, [\"index\"], sep = \"_\", suffix = '\\w+', i=\"id\", j=\"Drug\").reset_index()\n",
    "print(\"Head of data\")\n",
    "display(df_xr14108_2.head())\n",
    "print(\"Tail of data\")\n",
    "display(df_xr14108_2.tail())"
   ]
  },
  {
   "cell_type": "markdown",
   "metadata": {},
   "source": [
    "### ANOVA table (5%)"
   ]
  },
  {
   "cell_type": "code",
   "execution_count": 48,
   "metadata": {
    "jupyter": {
     "source_hidden": true
    }
   },
   "outputs": [
    {
     "data": {
      "text/html": [
       "<div>\n",
       "<style scoped>\n",
       "    .dataframe tbody tr th:only-of-type {\n",
       "        vertical-align: middle;\n",
       "    }\n",
       "\n",
       "    .dataframe tbody tr th {\n",
       "        vertical-align: top;\n",
       "    }\n",
       "\n",
       "    .dataframe thead th {\n",
       "        text-align: right;\n",
       "    }\n",
       "</style>\n",
       "<table border=\"1\" class=\"dataframe\">\n",
       "  <thead>\n",
       "    <tr style=\"text-align: right;\">\n",
       "      <th></th>\n",
       "      <th>sum_sq</th>\n",
       "      <th>df</th>\n",
       "      <th>F</th>\n",
       "      <th>PR(&gt;F)</th>\n",
       "    </tr>\n",
       "  </thead>\n",
       "  <tbody>\n",
       "    <tr>\n",
       "      <th>C(Drug)</th>\n",
       "      <td>581.8</td>\n",
       "      <td>3.0</td>\n",
       "      <td>7.711067</td>\n",
       "      <td>0.000516</td>\n",
       "    </tr>\n",
       "    <tr>\n",
       "      <th>C(Schedule)</th>\n",
       "      <td>14.4</td>\n",
       "      <td>1.0</td>\n",
       "      <td>0.572565</td>\n",
       "      <td>0.454777</td>\n",
       "    </tr>\n",
       "    <tr>\n",
       "      <th>C(Drug):C(Schedule)</th>\n",
       "      <td>548.6</td>\n",
       "      <td>3.0</td>\n",
       "      <td>7.271040</td>\n",
       "      <td>0.000749</td>\n",
       "    </tr>\n",
       "    <tr>\n",
       "      <th>Residual</th>\n",
       "      <td>804.8</td>\n",
       "      <td>32.0</td>\n",
       "      <td>NaN</td>\n",
       "      <td>NaN</td>\n",
       "    </tr>\n",
       "  </tbody>\n",
       "</table>\n",
       "</div>"
      ],
      "text/plain": [
       "                     sum_sq    df         F    PR(>F)\n",
       "C(Drug)               581.8   3.0  7.711067  0.000516\n",
       "C(Schedule)            14.4   1.0  0.572565  0.454777\n",
       "C(Drug):C(Schedule)   548.6   3.0  7.271040  0.000749\n",
       "Residual              804.8  32.0       NaN       NaN"
      ]
     },
     "execution_count": 48,
     "metadata": {},
     "output_type": "execute_result"
    }
   ],
   "source": [
    "results = smf.ols('index ~ C(Drug) + C(Schedule) + C(Drug):C(Schedule)', data=df_xr14108_2).fit()\n",
    "\n",
    "aov_table = sms.anova_lm(results, typ=2)\n",
    "aov_table"
   ]
  },
  {
   "cell_type": "markdown",
   "metadata": {},
   "source": [
    "### d. (schedule) Hypothesis (2%) & Interpretation (3%)   \n",
    "H0: The means of different schedules (Two days and Week) are all the same.  \n",
    "H1: At least two means differ  \n",
    "p-value=0.4548. (>0.05)  \n",
    "Cannot reject H0  \n",
    "There is not enough evidence to conclude that differences exist between the two schedules.  \n",
    "### d. (drug) Hypothesis (2%) & Interpretation (3%)  \n",
    "H0: The means of different drug mixtures (drug mixture 1 ~ drug mixture 4) are all the same.  \n",
    "H1: At least two means differ  \n",
    "p-value=0.0005. (<0.05)    \n",
    "Reject H0  \n",
    "There is enough evidence to conclude that differences exist between the different drug mixtures.  \n",
    "### d. (interaction) Hypothesis (2%) & Interpretation (3%)\n",
    "H0: Factor A and B do not interact to affect the mean response.  \n",
    "H1: Factor A and B interact to affect the mean response.  \n",
    "p-value=0.0007 (<0.05)  \n",
    "Reject H0  \n",
    "There is enough evidence to conclude that schedules and drug mixtures interact.\n",
    "Because there is evidence of iteraction, the tests of the factors are irrelevant.  \n",
    "There may or not be differences between the levels of factor A and of the levels of factor B.   \n",
    "(本次作業中，如果有特別強調這點，則兩個因子的假設檢定可以忽略不寫；但若沒提到這點就直接忽略，另外兩個假設檢定的分數就會被扣掉)"
   ]
  },
  {
   "cell_type": "markdown",
   "metadata": {},
   "source": [
    "### Check Condition: Normality assumption (3%)  \n",
    "H0: The distribution is normal.  \n",
    "H1: The distribution is not normal.  "
   ]
  },
  {
   "cell_type": "code",
   "execution_count": 49,
   "metadata": {},
   "outputs": [
    {
     "data": {
      "image/png": "[encoded data removed]",
      "text/plain": [
       "<Figure size 480x320 with 1 Axes>"
      ]
     },
     "metadata": {
      "needs_background": "light"
     },
     "output_type": "display_data"
    }
   ],
   "source": [
    "_ = plt.hist(results.resid, bins = 'auto')"
   ]
  },
  {
   "cell_type": "code",
   "execution_count": 50,
   "metadata": {},
   "outputs": [
    {
     "data": {
      "image/png": "[encoded data removed]",
      "text/plain": [
       "<Figure size 480x320 with 1 Axes>"
      ]
     },
     "metadata": {
      "needs_background": "light"
     },
     "output_type": "display_data"
    }
   ],
   "source": [
    "fig = sm.qqplot(results.resid, stats.norm, fit=True, line='45')"
   ]
  },
  {
   "cell_type": "code",
   "execution_count": 51,
   "metadata": {},
   "outputs": [
    {
     "name": "stdout",
     "output_type": "stream",
     "text": [
      "Statistics=0.9786, p=0.6375\n"
     ]
    }
   ],
   "source": [
    "stat, p = stats.shapiro(results.resid)\n",
    "print('Statistics=%.4f, p=%.4f' % (stat, p))"
   ]
  },
  {
   "cell_type": "markdown",
   "metadata": {},
   "source": [
    "Based on histogram, Q-Q Plot and the p-value of Shapiro-Wilk test (0.6375)>0.05, we cannot reject H0.  \n",
    "So, we conclude that the normality assumption is not violated."
   ]
  },
  {
   "cell_type": "markdown",
   "metadata": {},
   "source": [
    "### Check Condition: Equal variance assumption (3%)  \n",
    "H0: Variance of different treatment groups are equal.  \n",
    "H1: At least two treatment groups have different variance."
   ]
  },
  {
   "cell_type": "code",
   "execution_count": 57,
   "metadata": {},
   "outputs": [
    {
     "name": "stdout",
     "output_type": "stream",
     "text": [
      "List of all levels: \n",
      " ['drug1_Week' 'drug1_Two Days' 'drug2_Week' 'drug2_Two Days' 'drug3_Week'\n",
      " 'drug3_Two Days' 'drug4_Week' 'drug4_Two Days']\n"
     ]
    },
    {
     "data": {
      "text/plain": [
       "BartlettResult(statistic=3.592773434657972, pvalue=0.8253035753523124)"
      ]
     },
     "execution_count": 57,
     "metadata": {},
     "output_type": "execute_result"
    }
   ],
   "source": [
    "df_xr14108_2['resid'] = results.resid\n",
    "\n",
    "df_xr14108_2['drug_schedule'] = df_xr14108_2['Drug'] + \"_\" + df_xr14108_2['Schedule'].apply(str) \n",
    "all_level = df_xr14108_2['drug_schedule'].unique()\n",
    "print(\"List of all levels: \\n\", all_level)\n",
    "\n",
    "data_list = []\n",
    "for alevel in all_level:\n",
    "    data_list.append(df_xr14108_2['resid'][df_xr14108_2['drug_schedule'] == alevel])\n",
    "    \n",
    "#Conduct Bartlett's Test\n",
    "stats.bartlett(*data_list)"
   ]
  },
  {
   "cell_type": "markdown",
   "metadata": {},
   "source": [
    "The p-value of Bartlett's Test is 0.8253 >0.05, which is not significant. As a result, we cannot reject H0.  \n",
    "The result suggest that equal variance assumption is not violated."
   ]
  },
  {
   "cell_type": "markdown",
   "metadata": {},
   "source": [
    "### Check Condition: Independence (1%)  \n",
    "Since the patients are randomly chosen, the samples are independent.\n"
   ]
  },
  {
   "cell_type": "code",
   "execution_count": null,
   "metadata": {},
   "outputs": [],
   "source": []
  }
 ],
 "metadata": {
  "kernelspec": {
   "display_name": "Python 3",
   "language": "python",
   "name": "python3"
  },
  "language_info": {
   "codemirror_mode": {
    "name": "ipython",
    "version": 3
   },
   "file_extension": ".py",
   "mimetype": "text/x-python",
   "name": "python",
   "nbconvert_exporter": "python",
   "pygments_lexer": "ipython3",
   "version": "3.8.5"
  }
 },
 "nbformat": 4,
 "nbformat_minor": 4
}
