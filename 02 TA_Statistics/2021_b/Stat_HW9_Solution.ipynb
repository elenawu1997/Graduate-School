{
 "cells": [
  {
   "cell_type": "code",
   "execution_count": null,
   "metadata": {},
   "outputs": [],
   "source": []
  },
  {
   "cell_type": "markdown",
   "metadata": {},
   "source": [
    "# HW09\n",
    "### 評分標準：\n",
    " - 17.1 每個項目(小題or檢定)2%，其餘題目每個項目3%\n",
    " - 有錯的部分扣1分，扣到該項目扣完為止。\n",
    " \n",
    "### 批改符號說明：\n",
    " - show them/ not clear 表說明不夠清楚，e.g. coefficient的檢驗沒有明確說明p-value的值\n",
    " - 17.9 or 17.15 在(a)小題處被畫一個大圈-3分：沒有畫散佈圖\n",
    " \n",
    "### 常見錯誤：\n",
    " - 16.117 是算 residual 而不是 standard residual\n",
    " \n",
    " - 16.133/ 17.1/ 17.9/ 17.15 沒有畫散佈圖\n",
    " - 16.133/ 17.1/ 17.9/ 17.15 畫了散佈圖，沒有說明你判斷該圖是否有線性關係 (但這次只有16.133有扣分)\n",
    " - 16.133 沒有做 residual analysis：雖題目沒有要求，但本次作業老師要求要完整做完7步驟\n",
    " - 16.133 Run Test n1, n2 皆< 20 ，應利用run test 表檢查 rejected region，而非用常態方法。\n",
    " - 16.133(d) 因為檢驗完發現為非線性關係且R^2過低，應無法使用此模型。\n",
    " \n",
    " - 17.1(h)(i) 注意資料與題目單位不同\n"
   ]
  },
  {
   "cell_type": "code",
   "execution_count": 1,
   "metadata": {},
   "outputs": [],
   "source": [
    "#載入所需函示庫\n",
    "from matplotlib import pyplot as plt\n",
    "%matplotlib inline\n",
    "# 設定圖形大小; DPI越大圖越大\n",
    "plt.rcParams[\"figure.dpi\"] = 60\n",
    "import seaborn as sns\n",
    "import pandas as pd\n",
    "import numpy as np\n",
    "import scipy.stats as stats\n",
    "import statsmodels.api as sm\n",
    "import statsmodels.stats.api as sms\n",
    "import statsmodels.formula.api as smf\n",
    "import statsmodels.stats.multicomp as smm\n",
    "import statsmodels.stats.outliers_influence as sso\n",
    "import statsmodels\n",
    "\n",
    "import math\n",
    "import statistics\n"
   ]
  },
  {
   "cell_type": "code",
   "execution_count": 2,
   "metadata": {},
   "outputs": [],
   "source": [
    "def Normality(SD):\n",
    "    print('Normality test for errors using Shapiro Test')\n",
    "    print(' - H0: Errors are normally distributed.')\n",
    "    print(' - H1: Errors are not normally distributed.\\n')\n",
    "    stat, p = stats.shapiro(SD)\n",
    "    print('pvalue of Shapiro Test =', p)\n",
    "    if p < 0.05:\n",
    "        print('\\nSince p-value < 0.05, we reject H0 and conclude errors are not normally distributed.')\n",
    "    else:\n",
    "        print('\\nSince p-value > 0.05, we do not reject H0 and we may conclude errors are normally distributed.')"
   ]
  },
  {
   "cell_type": "code",
   "execution_count": 3,
   "metadata": {},
   "outputs": [],
   "source": [
    "def Homoscedasticity(data, xlabel):\n",
    "    print('Homoscedasticity Test')\n",
    "    print(' - H0: Homoscedasticity')\n",
    "    print(' - H1: Heteroscedasticity\\n')\n",
    "    y_pre = data[:, 2]\n",
    "    SD = data[:, 10]\n",
    "    plt.plot(y_pre, SD, 'o', color = 'gray')\n",
    "    plt.axhline(y=0, color = 'blue')\n",
    "    plt.axhline(y=2, color = 'red')\n",
    "    plt.axhline(y=-2, color = 'red')\n",
    "    plt.title('Standardized Residual Plot')\n",
    "    plt.xlabel(xlabel)\n",
    "    plt.ylabel('Standardized Residual')\n",
    "    plt.show()\n"
   ]
  },
  {
   "cell_type": "code",
   "execution_count": 4,
   "metadata": {},
   "outputs": [],
   "source": [
    "def Randomness(SD):\n",
    "    print('Randomness Test using Runs Test')\n",
    "    print(' - H0: Randomness exists.')\n",
    "    print(' - H1: Randomness does not exist\\n')\n",
    "    \n",
    "    SD_median = statistics.median(SD)\n",
    "    \n",
    "    runs, n1, n2 = 1, 0, 0\n",
    "    if(SD[0]) >= SD_median:\n",
    "        n1 += 1   \n",
    "    else:\n",
    "        n2 += 1     \n",
    "    # Checking for start of new run \n",
    "    for i in range(len(SD)): \n",
    "        # no. of runs \n",
    "        if (SD[i] >= SD_median and SD[i-1] < SD_median) or (SD[i] < SD_median and SD[i-1] >= SD_median):\n",
    "            runs += 1  \n",
    "            # print(i, runs)\n",
    "        # no. of positive values \n",
    "        if(SD[i]) >= SD_median: \n",
    "            n1 += 1   \n",
    "        # no. of negative values \n",
    "        else: \n",
    "            n2 += 1   \n",
    "    runs_exp = ((2*n1*n2)/(n1+n2)) + 1\n",
    "    stan_dev = math.sqrt((2*n1*n2*(2*n1*n2-n1-n2))/(((n1+n2)**2)*(n1+n2-1))) \n",
    "    z = (runs-runs_exp)/stan_dev\n",
    "    pval_z = stats.norm.sf(abs(z)) * 2\n",
    "    print('runs = ', runs)\n",
    "    print('n1 = ', n1)\n",
    "    print('n2 = ', n2)\n",
    "    if n1>20 or n2>20:\n",
    "        print('\\nruns_exp = ', runs_exp)\n",
    "        print('stan_dev = ', stan_dev)\n",
    "        print('z = ', z)\n",
    "        print('pval_z = ', pval_z)\n",
    "        \n",
    "        if pval_z < 0.05:\n",
    "            print('\\nSince p-value < 0.05, we reject H0 and conclude randomness does not exist.')\n",
    "        else:\n",
    "            print('\\nSince p-value > 0.05, we do not reject H0 and we may conclude randomness exists.')\n",
    "    else:\n",
    "        print('Since both n1 and n2 < 20, we check the Run Test table.')"
   ]
  },
  {
   "cell_type": "code",
   "execution_count": 5,
   "metadata": {},
   "outputs": [],
   "source": [
    "def Outlier(SD):\n",
    "    df = pd.DataFrame(SD,columns = ['SD'])\n",
    "    filter = (df['SD'] < -2) | (df['SD'] > 2)\n",
    "    outliers = df['SD'].loc[filter]\n",
    "    ids = outliers.index\n",
    "    ids = [n+1 for n in ids]\n",
    "    \n",
    "    print(\"Outliers by SD = \\n\")\n",
    "    print(outliers)\n",
    "    \n",
    "    if len(ids)== 0:\n",
    "        print(\"\\nThere isnt any oulier.\")\n",
    "    else:\n",
    "        print(\"\\nSample\", ids, \"are outliers.\")"
   ]
  },
  {
   "cell_type": "code",
   "execution_count": 6,
   "metadata": {},
   "outputs": [],
   "source": [
    "def Influential(x_data, y_data):\n",
    "    x_data = x_data.values\n",
    "    y_data = y_data.values\n",
    "    cov_mat = np.cov(y_data, x_data)\n",
    "    x_data_bar = x_data.mean()\n",
    "    data_nobs = len(x_data)\n",
    "    h_val = 1 / data_nobs + (x_data - x_data_bar) ** 2 / (data_nobs - 1) / cov_mat[1,1]\n",
    "    df = pd.DataFrame(h_val,columns = ['hi'])\n",
    "    filter = (df['hi'] > 6 / data_nobs )\n",
    "    influs = df['hi'].loc[filter]\n",
    "    ids = influs.index\n",
    "    ids = [n+1 for n in ids]\n",
    "    \n",
    "    print(\"Influential Observations by hi = \\n\")\n",
    "    print(influs)\n",
    "    \n",
    "    if len(ids)== 0:\n",
    "        print(\"\\nThere isnt any influential observation.\")\n",
    "    else:\n",
    "        print(\"\\nSample\", ids, \"are influential observations.\")\n"
   ]
  },
  {
   "cell_type": "code",
   "execution_count": 7,
   "metadata": {},
   "outputs": [],
   "source": [
    "def CI_PI_regression(xdata, yval, x1, a):\n",
    "    \n",
    "    X_data_T = xdata.T\n",
    "    X_data2 = sm.add_constant(X_data_T)\n",
    "    olsmod = sm.OLS(yval, X_data2)\n",
    "    result_reg = olsmod.fit()\n",
    "    y_head = np.dot(result_reg.params, x1)\n",
    "    \n",
    "    (t_minus, t_plus) = stats.t.interval(alpha = (1.0 - a), df = result_reg.df_resid )\n",
    "    core1 = (result_reg.mse_resid * np.matmul(x1, np.linalg.solve(np.matmul(X_data2.T, X_data2), x1))) ** 0.5\n",
    "\n",
    "    lower_bound = y_head +  t_minus * core1\n",
    "    upper_bound = y_head +  t_plus * core1\n",
    "    \n",
    "    core2 = (result_reg.mse_resid * (1 + np.matmul(x1, np.linalg.solve(np.matmul(X_data2.T, X_data2), x1)))) ** 0.5\n",
    "    lower_bound2 = y_head +  t_minus * core2\n",
    "    upper_bound2 = y_head +  t_plus * core2\n",
    "    \n",
    "    CI = [lower_bound, upper_bound]\n",
    "    PI = [lower_bound2, upper_bound2]\n",
    "    return CI, PI"
   ]
  },
  {
   "cell_type": "markdown",
   "metadata": {},
   "source": [
    "## 16.117 (12%)  \n",
    "### (Predicted y 3%, Residuals 3%, Outlier 3%, Influential observations 3%)"
   ]
  },
  {
   "cell_type": "code",
   "execution_count": 8,
   "metadata": {},
   "outputs": [
    {
     "name": "stdout",
     "output_type": "stream",
     "text": [
      "Estimated model: y = -100678.1723 + 1513.3276 x\n"
     ]
    }
   ],
   "source": [
    "df16_5 = pd.read_excel('Xr16-05.xlsx')\n",
    "df16_result1 = smf.ols('Beers~ Temperature', data=df16_5).fit()\n",
    "# Inspect the results\n",
    "b1_1 = df16_result1.params[1]\n",
    "b0_1 = df16_result1.params[0]\n",
    "print(\"Estimated model: y = %0.4f + %0.4f x\" % (b0_1, b1_1))"
   ]
  },
  {
   "cell_type": "code",
   "execution_count": 9,
   "metadata": {},
   "outputs": [
    {
     "data": {
      "text/html": [
       "<div>\n",
       "<style scoped>\n",
       "    .dataframe tbody tr th:only-of-type {\n",
       "        vertical-align: middle;\n",
       "    }\n",
       "\n",
       "    .dataframe tbody tr th {\n",
       "        vertical-align: top;\n",
       "    }\n",
       "\n",
       "    .dataframe thead th {\n",
       "        text-align: right;\n",
       "    }\n",
       "</style>\n",
       "<table border=\"1\" class=\"dataframe\">\n",
       "  <thead>\n",
       "    <tr style=\"text-align: right;\">\n",
       "      <th></th>\n",
       "      <th>Temperature</th>\n",
       "      <th>Beers</th>\n",
       "      <th>Predicted y</th>\n",
       "      <th>Residuals</th>\n",
       "    </tr>\n",
       "  </thead>\n",
       "  <tbody>\n",
       "    <tr>\n",
       "      <th>0</th>\n",
       "      <td>80</td>\n",
       "      <td>20533</td>\n",
       "      <td>20388.036197</td>\n",
       "      <td>144.963803</td>\n",
       "    </tr>\n",
       "    <tr>\n",
       "      <th>1</th>\n",
       "      <td>68</td>\n",
       "      <td>1439</td>\n",
       "      <td>2228.104926</td>\n",
       "      <td>-789.104926</td>\n",
       "    </tr>\n",
       "    <tr>\n",
       "      <th>2</th>\n",
       "      <td>78</td>\n",
       "      <td>13829</td>\n",
       "      <td>17361.380985</td>\n",
       "      <td>-3532.380985</td>\n",
       "    </tr>\n",
       "    <tr>\n",
       "      <th>3</th>\n",
       "      <td>79</td>\n",
       "      <td>21286</td>\n",
       "      <td>18874.708591</td>\n",
       "      <td>2411.291409</td>\n",
       "    </tr>\n",
       "    <tr>\n",
       "      <th>4</th>\n",
       "      <td>87</td>\n",
       "      <td>30985</td>\n",
       "      <td>30981.329439</td>\n",
       "      <td>3.670561</td>\n",
       "    </tr>\n",
       "    <tr>\n",
       "      <th>5</th>\n",
       "      <td>74</td>\n",
       "      <td>17187</td>\n",
       "      <td>11308.070561</td>\n",
       "      <td>5878.929439</td>\n",
       "    </tr>\n",
       "    <tr>\n",
       "      <th>6</th>\n",
       "      <td>86</td>\n",
       "      <td>30240</td>\n",
       "      <td>29468.001833</td>\n",
       "      <td>771.998167</td>\n",
       "    </tr>\n",
       "    <tr>\n",
       "      <th>7</th>\n",
       "      <td>92</td>\n",
       "      <td>37596</td>\n",
       "      <td>38547.967468</td>\n",
       "      <td>-951.967468</td>\n",
       "    </tr>\n",
       "    <tr>\n",
       "      <th>8</th>\n",
       "      <td>77</td>\n",
       "      <td>9610</td>\n",
       "      <td>15848.053379</td>\n",
       "      <td>-6238.053379</td>\n",
       "    </tr>\n",
       "    <tr>\n",
       "      <th>9</th>\n",
       "      <td>84</td>\n",
       "      <td>28742</td>\n",
       "      <td>26441.346621</td>\n",
       "      <td>2300.653379</td>\n",
       "    </tr>\n",
       "  </tbody>\n",
       "</table>\n",
       "</div>"
      ],
      "text/plain": [
       "   Temperature  Beers   Predicted y    Residuals\n",
       "0           80  20533  20388.036197   144.963803\n",
       "1           68   1439   2228.104926  -789.104926\n",
       "2           78  13829  17361.380985 -3532.380985\n",
       "3           79  21286  18874.708591  2411.291409\n",
       "4           87  30985  30981.329439     3.670561\n",
       "5           74  17187  11308.070561  5878.929439\n",
       "6           86  30240  29468.001833   771.998167\n",
       "7           92  37596  38547.967468  -951.967468\n",
       "8           77   9610  15848.053379 -6238.053379\n",
       "9           84  28742  26441.346621  2300.653379"
      ]
     },
     "execution_count": 9,
     "metadata": {},
     "output_type": "execute_result"
    }
   ],
   "source": [
    "df16_5[\"Predicted y\"] = b0_1 + b1_1 * df16_5[\"Temperature\"]\n",
    "df16_5[\"Residuals\"] = df16_5[\"Beers\"] - df16_5[\"Predicted y\"] \n",
    "df16_5"
   ]
  },
  {
   "cell_type": "code",
   "execution_count": 10,
   "metadata": {},
   "outputs": [
    {
     "data": {
      "image/png": "[encoded data removed]",
      "text/plain": [
       "<Figure size 360x240 with 1 Axes>"
      ]
     },
     "metadata": {
      "needs_background": "light"
     },
     "output_type": "display_data"
    }
   ],
   "source": [
    "_ = sns.regplot(x='Predicted y', y= 'Residuals', data = df16_5, color = 'b', ci = None)\n",
    "plt.title('Scatter Plot for Predicted y and Residuals')\n",
    "plt.xlabel('Predicted y')\n",
    "plt.ylabel('Residuals')\n",
    "plt.show()"
   ]
  },
  {
   "cell_type": "code",
   "execution_count": 11,
   "metadata": {},
   "outputs": [
    {
     "name": "stdout",
     "output_type": "stream",
     "text": [
      "Outliers by SD = \n",
      "\n",
      "Series([], Name: SD, dtype: float64)\n",
      "\n",
      "There isnt any oulier.\n"
     ]
    }
   ],
   "source": [
    "st5, data5, ss5 = sso.summary_table(df16_result1, alpha=0.05)\n",
    "SD5 = data5[:, 10]\n",
    "Outlier(SD5)"
   ]
  },
  {
   "cell_type": "code",
   "execution_count": 12,
   "metadata": {},
   "outputs": [
    {
     "name": "stdout",
     "output_type": "stream",
     "text": [
      "Influential Observations by hi = \n",
      "\n",
      "Series([], Name: hi, dtype: float64)\n",
      "\n",
      "There isnt any influential observation.\n"
     ]
    }
   ],
   "source": [
    "Influential(df16_5[\"Temperature\"],df16_5[\"Beers\"])"
   ]
  },
  {
   "cell_type": "markdown",
   "metadata": {},
   "source": [
    "## 16.127 (15%)\n",
    "### (Normality 3%, Homoscedasticity 3%, Randomness 3%, Outlier 3%, Influential observations 3%)"
   ]
  },
  {
   "cell_type": "code",
   "execution_count": 13,
   "metadata": {},
   "outputs": [],
   "source": [
    "df16_15 = pd.read_excel('Xr16-15.xlsx')\n",
    "df16_result2 = smf.ols('Food~ Income', data=df16_15).fit()\n",
    "st15, data15, ss15 = sso.summary_table(df16_result2, alpha=0.05)\n",
    "SD15 = data15[:, 10]"
   ]
  },
  {
   "cell_type": "code",
   "execution_count": 14,
   "metadata": {},
   "outputs": [
    {
     "name": "stdout",
     "output_type": "stream",
     "text": [
      "Normality test for errors using Shapiro Test\n",
      " - H0: Errors are normally distributed.\n",
      " - H1: Errors are not normally distributed.\n",
      "\n",
      "pvalue of Shapiro Test = 0.520470380783081\n",
      "\n",
      "Since p-value > 0.05, we do not reject H0 and we may conclude errors are normally distributed.\n"
     ]
    }
   ],
   "source": [
    "Normality(SD15)"
   ]
  },
  {
   "cell_type": "code",
   "execution_count": 15,
   "metadata": {},
   "outputs": [
    {
     "name": "stdout",
     "output_type": "stream",
     "text": [
      "Homoscedasticity Test\n",
      " - H0: Homoscedasticity\n",
      " - H1: Heteroscedasticity\n",
      "\n"
     ]
    },
    {
     "data": {
      "image/png": "[encoded data removed]",
      "text/plain": [
       "<Figure size 360x240 with 1 Axes>"
      ]
     },
     "metadata": {
      "needs_background": "light"
     },
     "output_type": "display_data"
    }
   ],
   "source": [
    "Homoscedasticity(data15, \"Income\")"
   ]
  },
  {
   "cell_type": "markdown",
   "metadata": {},
   "source": [
    "According to the figure, we do not rejected H0.  \n",
    "We can assume that the variation is constant and the mean is around 0."
   ]
  },
  {
   "cell_type": "code",
   "execution_count": 16,
   "metadata": {},
   "outputs": [
    {
     "name": "stdout",
     "output_type": "stream",
     "text": [
      "Randomness Test using Runs Test\n",
      " - H0: Randomness exists.\n",
      " - H1: Randomness does not exist\n",
      "\n",
      "runs =  77\n",
      "n1 =  75\n",
      "n2 =  76\n",
      "\n",
      "runs_exp =  76.49668874172185\n",
      "stan_dev =  6.1233179035675915\n",
      "z =  0.08219583993587927\n",
      "pval_z =  0.9344909815035417\n",
      "\n",
      "Since p-value > 0.05, we do not reject H0 and we may conclude randomness exists.\n"
     ]
    }
   ],
   "source": [
    "Randomness(SD15)"
   ]
  },
  {
   "cell_type": "code",
   "execution_count": 17,
   "metadata": {},
   "outputs": [
    {
     "name": "stdout",
     "output_type": "stream",
     "text": [
      "Outliers by SD = \n",
      "\n",
      "22    -2.860008\n",
      "75     2.498397\n",
      "115   -3.015479\n",
      "120    2.466531\n",
      "144    2.615022\n",
      "Name: SD, dtype: float64\n",
      "\n",
      "Sample [23, 76, 116, 121, 145] are outliers.\n"
     ]
    }
   ],
   "source": [
    "Outlier(SD15)"
   ]
  },
  {
   "cell_type": "code",
   "execution_count": 18,
   "metadata": {},
   "outputs": [
    {
     "name": "stdout",
     "output_type": "stream",
     "text": [
      "Influential Observations by hi = \n",
      "\n",
      "4     0.050967\n",
      "9     0.044775\n",
      "41    0.064161\n",
      "51    0.047319\n",
      "67    0.041397\n",
      "Name: hi, dtype: float64\n",
      "\n",
      "Sample [5, 10, 42, 52, 68] are influential observations.\n"
     ]
    }
   ],
   "source": [
    "Influential(df16_15[\"Income\"],df16_15[\"Food\"])"
   ]
  },
  {
   "cell_type": "markdown",
   "metadata": {},
   "source": [
    "## 16.133 (24%)\n",
    "### (散佈圖 3%, a, b, c, d 各3%, Residual Analysis 各3%)"
   ]
  },
  {
   "cell_type": "markdown",
   "metadata": {},
   "source": [
    "X(independent variable) - Fetilizer  \n",
    "y(dependent variable) - Yield"
   ]
  },
  {
   "cell_type": "code",
   "execution_count": 19,
   "metadata": {},
   "outputs": [
    {
     "name": "stderr",
     "output_type": "stream",
     "text": [
      "/Users/wuyunwei/opt/anaconda3/lib/python3.8/site-packages/openpyxl/worksheet/header_footer.py:48: UserWarning: Cannot parse header or footer so it will be ignored\n",
      "  warn(\"\"\"Cannot parse header or footer so it will be ignored\"\"\")\n"
     ]
    },
    {
     "data": {
      "image/png": "[encoded data removed]",
      "text/plain": [
       "<Figure size 360x240 with 1 Axes>"
      ]
     },
     "metadata": {
      "needs_background": "light"
     },
     "output_type": "display_data"
    }
   ],
   "source": [
    "df16_133 = pd.read_excel('Xr16-133.xlsx')\n",
    "_ = sns.regplot(x='Fetilizer', y= 'Yield', data = df16_133, color = 'b', ci = None)\n",
    "plt.title('Scatter Plot for Fetilizer and Yield')\n",
    "plt.xlabel('Fetilizer')\n",
    "plt.ylabel('Yield')\n",
    "plt.show()"
   ]
  },
  {
   "cell_type": "markdown",
   "metadata": {},
   "source": [
    "According to the scatter plot, it seems to be a little linear relationship between Yield and Fetilizer."
   ]
  },
  {
   "cell_type": "code",
   "execution_count": 20,
   "metadata": {},
   "outputs": [
    {
     "name": "stdout",
     "output_type": "stream",
     "text": [
      "                            OLS Regression Results                            \n",
      "==============================================================================\n",
      "Dep. Variable:                  Yield   R-squared:                       0.060\n",
      "Model:                            OLS   Adj. R-squared:                  0.026\n",
      "Method:                 Least Squares   F-statistic:                     1.772\n",
      "Date:                Wed, 04 May 2022   Prob (F-statistic):              0.194\n",
      "Time:                        04:17:12   Log-Likelihood:                -169.57\n",
      "No. Observations:                  30   AIC:                             343.1\n",
      "Df Residuals:                      28   BIC:                             345.9\n",
      "Df Model:                           1                                         \n",
      "Covariance Type:            nonrobust                                         \n",
      "==============================================================================\n",
      "                 coef    std err          t      P>|t|      [0.025      0.975]\n",
      "------------------------------------------------------------------------------\n",
      "Intercept    281.8000     30.561      9.221      0.000     219.199     344.401\n",
      "Fetilizer      0.1227      0.092      1.331      0.194      -0.066       0.311\n",
      "==============================================================================\n",
      "Omnibus:                        1.878   Durbin-Watson:                   1.700\n",
      "Prob(Omnibus):                  0.391   Jarque-Bera (JB):                1.708\n",
      "Skew:                          -0.528   Prob(JB):                        0.426\n",
      "Kurtosis:                       2.499   Cond. No.                         778.\n",
      "==============================================================================\n",
      "\n",
      "Notes:\n",
      "[1] Standard Errors assume that the covariance matrix of the errors is correctly specified.\n"
     ]
    }
   ],
   "source": [
    "# Fit regression model \n",
    "df16_result3 = smf.ols('Yield~ Fetilizer', data=df16_133).fit()\n",
    "\n",
    "# Inspect the results\n",
    "print(df16_result3.summary())"
   ]
  },
  {
   "cell_type": "markdown",
   "metadata": {},
   "source": [
    "### (a)"
   ]
  },
  {
   "cell_type": "code",
   "execution_count": 21,
   "metadata": {},
   "outputs": [
    {
     "name": "stdout",
     "output_type": "stream",
     "text": [
      "Estimated model: y = 281.8000 + 0.1227 x\n"
     ]
    }
   ],
   "source": [
    "# Inspect the results\n",
    "b1_1 = df16_result3.params[1]\n",
    "b0_1 = df16_result3.params[0]\n",
    "print(\"Estimated model: y = %0.4f + %0.4f x\" % (b0_1, b1_1))"
   ]
  },
  {
   "cell_type": "markdown",
   "metadata": {},
   "source": [
    "#### Interpretation\n",
    "The slope is .123, which tells us that for each additional unit of fertilizer, corn yield increases on average by .123. The y-intercept is 281.7, which has no real meaning."
   ]
  },
  {
   "cell_type": "markdown",
   "metadata": {},
   "source": [
    "### (b)  \n",
    "H0: β1 = 0  \n",
    "H1: β1 != 0  \n",
    "According to the table. The pvalue is 0.194 > alpha = 0.05.  \n",
    "Thus, we cannot reject the null hypothesis at a significance level of 0.05.  \n",
    "There is no evidence of a linear relationship between Fertilizer and Yield.  \n",
    "### (c)"
   ]
  },
  {
   "cell_type": "code",
   "execution_count": 22,
   "metadata": {},
   "outputs": [
    {
     "name": "stdout",
     "output_type": "stream",
     "text": [
      "r^2 =  0.05952603868594741\n"
     ]
    }
   ],
   "source": [
    "r2 = df16_result3.rsquared\n",
    "print(\"r^2 = \", r2) # coefficient of determination"
   ]
  },
  {
   "cell_type": "markdown",
   "metadata": {},
   "source": [
    "5.95% of the variation in corn yield is explained by the variation in amount of fertilizer. \n",
    "### (d)\n",
    "The model is too poor to be used to predict. (原因合理即可，eg (c)R square太低、(b)非線性)"
   ]
  },
  {
   "cell_type": "markdown",
   "metadata": {},
   "source": [
    "### (Residual analysis)"
   ]
  },
  {
   "cell_type": "code",
   "execution_count": 23,
   "metadata": {},
   "outputs": [],
   "source": [
    "# studentized residual\n",
    "st133, data133, ss133 = sso.summary_table(df16_result3, alpha=0.05)\n",
    "SD133 = data133[:, 10]"
   ]
  },
  {
   "cell_type": "code",
   "execution_count": 24,
   "metadata": {},
   "outputs": [
    {
     "name": "stdout",
     "output_type": "stream",
     "text": [
      "Normality test for errors using Shapiro Test\n",
      " - H0: Errors are normally distributed.\n",
      " - H1: Errors are not normally distributed.\n",
      "\n",
      "pvalue of Shapiro Test = 0.2068082094192505\n",
      "\n",
      "Since p-value > 0.05, we do not reject H0 and we may conclude errors are normally distributed.\n"
     ]
    }
   ],
   "source": [
    "Normality(SD133)"
   ]
  },
  {
   "cell_type": "code",
   "execution_count": 25,
   "metadata": {},
   "outputs": [
    {
     "name": "stdout",
     "output_type": "stream",
     "text": [
      "Homoscedasticity Test\n",
      " - H0: Homoscedasticity\n",
      " - H1: Heteroscedasticity\n",
      "\n"
     ]
    },
    {
     "data": {
      "image/png": "[encoded data removed]",
      "text/plain": [
       "<Figure size 360x240 with 1 Axes>"
      ]
     },
     "metadata": {
      "needs_background": "light"
     },
     "output_type": "display_data"
    }
   ],
   "source": [
    "Homoscedasticity(data133, \"Fetilizer\")"
   ]
  },
  {
   "cell_type": "markdown",
   "metadata": {},
   "source": [
    "According to the figure, we do not rejected H0.  \n",
    "We can assume that the variation is constant and the mean is around 0."
   ]
  },
  {
   "cell_type": "code",
   "execution_count": 26,
   "metadata": {},
   "outputs": [
    {
     "name": "stdout",
     "output_type": "stream",
     "text": [
      "Randomness Test using Runs Test\n",
      " - H0: Randomness exists.\n",
      " - H1: Randomness does not exist\n",
      "\n",
      "runs =  19\n",
      "n1 =  15\n",
      "n2 =  16\n",
      "Since both n1 and n2 < 20, we check the Run Test table.\n"
     ]
    }
   ],
   "source": [
    "Randomness(SD133)"
   ]
  },
  {
   "cell_type": "markdown",
   "metadata": {},
   "source": [
    "After checking the Run Test table, we reject H0 if runs <= 10 or runs >=23.  \n",
    "Since  10 < runs = 19 < 23, we do not reject H0 and we may conclude Randomness exists."
   ]
  },
  {
   "cell_type": "markdown",
   "metadata": {},
   "source": [
    "## 17.1 (20%)\n",
    "### (散佈圖 2%, a, b, c, d, e, f, g, h, i 各2%)"
   ]
  },
  {
   "cell_type": "code",
   "execution_count": 27,
   "metadata": {},
   "outputs": [
    {
     "name": "stdout",
     "output_type": "stream",
     "text": [
      "Head of dataset:\n"
     ]
    },
    {
     "data": {
      "text/html": [
       "<div>\n",
       "<style scoped>\n",
       "    .dataframe tbody tr th:only-of-type {\n",
       "        vertical-align: middle;\n",
       "    }\n",
       "\n",
       "    .dataframe tbody tr th {\n",
       "        vertical-align: top;\n",
       "    }\n",
       "\n",
       "    .dataframe thead th {\n",
       "        text-align: right;\n",
       "    }\n",
       "</style>\n",
       "<table border=\"1\" class=\"dataframe\">\n",
       "  <thead>\n",
       "    <tr style=\"text-align: right;\">\n",
       "      <th></th>\n",
       "      <th>Price</th>\n",
       "      <th>Lot size</th>\n",
       "      <th>Trees</th>\n",
       "      <th>Distance</th>\n",
       "    </tr>\n",
       "  </thead>\n",
       "  <tbody>\n",
       "    <tr>\n",
       "      <th>0</th>\n",
       "      <td>105.4</td>\n",
       "      <td>41.2</td>\n",
       "      <td>24</td>\n",
       "      <td>42</td>\n",
       "    </tr>\n",
       "    <tr>\n",
       "      <th>1</th>\n",
       "      <td>91.2</td>\n",
       "      <td>44.8</td>\n",
       "      <td>5</td>\n",
       "      <td>71</td>\n",
       "    </tr>\n",
       "    <tr>\n",
       "      <th>2</th>\n",
       "      <td>183.3</td>\n",
       "      <td>21.3</td>\n",
       "      <td>72</td>\n",
       "      <td>43</td>\n",
       "    </tr>\n",
       "    <tr>\n",
       "      <th>3</th>\n",
       "      <td>93.8</td>\n",
       "      <td>43.9</td>\n",
       "      <td>58</td>\n",
       "      <td>14</td>\n",
       "    </tr>\n",
       "    <tr>\n",
       "      <th>4</th>\n",
       "      <td>207.5</td>\n",
       "      <td>57.7</td>\n",
       "      <td>52</td>\n",
       "      <td>12</td>\n",
       "    </tr>\n",
       "  </tbody>\n",
       "</table>\n",
       "</div>"
      ],
      "text/plain": [
       "   Price  Lot size  Trees  Distance\n",
       "0  105.4      41.2     24        42\n",
       "1   91.2      44.8      5        71\n",
       "2  183.3      21.3     72        43\n",
       "3   93.8      43.9     58        14\n",
       "4  207.5      57.7     52        12"
      ]
     },
     "metadata": {},
     "output_type": "display_data"
    },
    {
     "name": "stdout",
     "output_type": "stream",
     "text": [
      "Tail of dataset:\n"
     ]
    },
    {
     "data": {
      "text/html": [
       "<div>\n",
       "<style scoped>\n",
       "    .dataframe tbody tr th:only-of-type {\n",
       "        vertical-align: middle;\n",
       "    }\n",
       "\n",
       "    .dataframe tbody tr th {\n",
       "        vertical-align: top;\n",
       "    }\n",
       "\n",
       "    .dataframe thead th {\n",
       "        text-align: right;\n",
       "    }\n",
       "</style>\n",
       "<table border=\"1\" class=\"dataframe\">\n",
       "  <thead>\n",
       "    <tr style=\"text-align: right;\">\n",
       "      <th></th>\n",
       "      <th>Price</th>\n",
       "      <th>Lot size</th>\n",
       "      <th>Trees</th>\n",
       "      <th>Distance</th>\n",
       "    </tr>\n",
       "  </thead>\n",
       "  <tbody>\n",
       "    <tr>\n",
       "      <th>55</th>\n",
       "      <td>27.9</td>\n",
       "      <td>40.0</td>\n",
       "      <td>52</td>\n",
       "      <td>84</td>\n",
       "    </tr>\n",
       "    <tr>\n",
       "      <th>56</th>\n",
       "      <td>103.5</td>\n",
       "      <td>46.6</td>\n",
       "      <td>26</td>\n",
       "      <td>70</td>\n",
       "    </tr>\n",
       "    <tr>\n",
       "      <th>57</th>\n",
       "      <td>107.0</td>\n",
       "      <td>23.2</td>\n",
       "      <td>11</td>\n",
       "      <td>83</td>\n",
       "    </tr>\n",
       "    <tr>\n",
       "      <th>58</th>\n",
       "      <td>51.6</td>\n",
       "      <td>46.4</td>\n",
       "      <td>53</td>\n",
       "      <td>44</td>\n",
       "    </tr>\n",
       "    <tr>\n",
       "      <th>59</th>\n",
       "      <td>133.4</td>\n",
       "      <td>32.1</td>\n",
       "      <td>55</td>\n",
       "      <td>98</td>\n",
       "    </tr>\n",
       "  </tbody>\n",
       "</table>\n",
       "</div>"
      ],
      "text/plain": [
       "    Price  Lot size  Trees  Distance\n",
       "55   27.9      40.0     52        84\n",
       "56  103.5      46.6     26        70\n",
       "57  107.0      23.2     11        83\n",
       "58   51.6      46.4     53        44\n",
       "59  133.4      32.1     55        98"
      ]
     },
     "metadata": {},
     "output_type": "display_data"
    }
   ],
   "source": [
    "df17_1 = pd.read_excel('Xr17-01.xlsx')\n",
    "print('Head of dataset:')\n",
    "display(df17_1.head())\n",
    "print(\"Tail of dataset:\")\n",
    "display(df17_1.tail())\n"
   ]
  },
  {
   "cell_type": "markdown",
   "metadata": {},
   "source": [
    "Independent variable:  \n",
    "X1: Lot size  \n",
    "x2: Trees  \n",
    "x3: Distance  \n",
    "Dependent variable (y): Prcie"
   ]
  },
  {
   "cell_type": "code",
   "execution_count": 28,
   "metadata": {},
   "outputs": [
    {
     "data": {
      "image/png": "[encoded data removed]",
      "text/plain": [
       "<Figure size 360x240 with 1 Axes>"
      ]
     },
     "metadata": {
      "needs_background": "light"
     },
     "output_type": "display_data"
    },
    {
     "data": {
      "image/png": "[encoded data removed]",
      "text/plain": [
       "<Figure size 360x240 with 1 Axes>"
      ]
     },
     "metadata": {
      "needs_background": "light"
     },
     "output_type": "display_data"
    },
    {
     "data": {
      "image/png": "[encoded data removed]",
      "text/plain": [
       "<Figure size 360x240 with 1 Axes>"
      ]
     },
     "metadata": {
      "needs_background": "light"
     },
     "output_type": "display_data"
    }
   ],
   "source": [
    "y_var = df17_1['Price'].values\n",
    "xnames = df17_1.columns[1:]\n",
    "for aname in xnames:\n",
    "    x_var = df17_1[aname].values\n",
    "    _ = sns.regplot(x = x_var, y = y_var, data = df17_1, color = 'b', ci = None)\n",
    "    #_ = plt.plot(x, y, 'o', color = 'b')\n",
    "    plt.xlabel(aname)\n",
    "    plt.ylabel('Price')\n",
    "    plt.title('Scatter Plot for Price and ' +aname)\n",
    "    plt.show()\n"
   ]
  },
  {
   "cell_type": "markdown",
   "metadata": {},
   "source": [
    "According to the scatter plot, all independet variables seem to have linear relationship with Price."
   ]
  },
  {
   "cell_type": "code",
   "execution_count": 29,
   "metadata": {},
   "outputs": [
    {
     "data": {
      "image/png": "[encoded data removed]",
      "text/plain": [
       "<Figure size 360x240 with 2 Axes>"
      ]
     },
     "metadata": {
      "needs_background": "light"
     },
     "output_type": "display_data"
    }
   ],
   "source": [
    "df17_1a = df17_1[df17_1.columns]\n",
    "corr1 = df17_1a.corr()\n",
    "_ = sns.heatmap(corr1, annot=True)"
   ]
  },
  {
   "cell_type": "code",
   "execution_count": 30,
   "metadata": {},
   "outputs": [
    {
     "name": "stdout",
     "output_type": "stream",
     "text": [
      "                            OLS Regression Results                            \n",
      "==============================================================================\n",
      "Dep. Variable:                  Price   R-squared:                       0.242\n",
      "Model:                            OLS   Adj. R-squared:                  0.202\n",
      "Method:                 Least Squares   F-statistic:                     5.975\n",
      "Date:                Wed, 04 May 2022   Prob (F-statistic):            0.00132\n",
      "Time:                        04:17:13   Log-Likelihood:                -304.76\n",
      "No. Observations:                  60   AIC:                             617.5\n",
      "Df Residuals:                      56   BIC:                             625.9\n",
      "Df Model:                           3                                         \n",
      "Covariance Type:            nonrobust                                         \n",
      "==============================================================================\n",
      "                 coef    std err          t      P>|t|      [0.025      0.975]\n",
      "------------------------------------------------------------------------------\n",
      "const         51.3912     23.517      2.185      0.033       4.282      98.500\n",
      "Lot size       0.6999      0.559      1.252      0.216      -0.420       1.819\n",
      "Trees          0.6788      0.229      2.960      0.004       0.219       1.138\n",
      "Distance      -0.3784      0.195     -1.938      0.058      -0.769       0.013\n",
      "==============================================================================\n",
      "Omnibus:                        3.807   Durbin-Watson:                   2.175\n",
      "Prob(Omnibus):                  0.149   Jarque-Bera (JB):                2.258\n",
      "Skew:                           0.245   Prob(JB):                        0.323\n",
      "Kurtosis:                       2.186   Cond. No.                         350.\n",
      "==============================================================================\n",
      "\n",
      "Notes:\n",
      "[1] Standard Errors assume that the covariance matrix of the errors is correctly specified.\n"
     ]
    },
    {
     "name": "stderr",
     "output_type": "stream",
     "text": [
      "/Users/wuyunwei/opt/anaconda3/lib/python3.8/site-packages/statsmodels/tsa/tsatools.py:142: FutureWarning: In a future version of pandas all arguments of concat except for the argument 'objs' will be keyword-only\n",
      "  x = pd.concat(x[::order], 1)\n"
     ]
    }
   ],
   "source": [
    "y_data = df17_1['Price']\n",
    "X_data_ar = np.array([df17_1['Lot size'], df17_1['Trees'], df17_1['Distance']])\n",
    "X_data_T = X_data_ar.T\n",
    "X_data = pd.DataFrame(X_data_T,columns = df17_1.columns[1:])\n",
    "X_data2 = sm.add_constant(X_data)\n",
    "olsmod = sm.OLS(y_data, X_data2)\n",
    "result_reg = olsmod.fit()\n",
    "print(result_reg.summary())"
   ]
  },
  {
   "cell_type": "markdown",
   "metadata": {},
   "source": [
    "### (a)"
   ]
  },
  {
   "cell_type": "code",
   "execution_count": 31,
   "metadata": {},
   "outputs": [
    {
     "name": "stdout",
     "output_type": "stream",
     "text": [
      "Estimated model: y = 51.3912 + 0.6999 x1 + 0.6788 x2 + -0.3784 x3\n"
     ]
    }
   ],
   "source": [
    "# Inspect the results\n",
    "b1_3 = result_reg.params[3]\n",
    "b1_2 = result_reg.params[2]\n",
    "b1_1 = result_reg.params[1]\n",
    "b0_1 = result_reg.params[0]\n",
    "print(\"Estimated model: y = %0.4f + %0.4f x1 + %0.4f x2 + %0.4f x3\" % (b0_1, b1_1, b1_2, b1_3))"
   ]
  },
  {
   "cell_type": "markdown",
   "metadata": {},
   "source": [
    "### (b)"
   ]
  },
  {
   "cell_type": "code",
   "execution_count": 32,
   "metadata": {},
   "outputs": [
    {
     "name": "stdout",
     "output_type": "stream",
     "text": [
      "standard error =  40.24352944532851\n"
     ]
    }
   ],
   "source": [
    "print(\"standard error = \", result_reg.mse_resid ** 0.5)"
   ]
  },
  {
   "cell_type": "markdown",
   "metadata": {},
   "source": [
    "It is an estimate of the standard deviation of the error variable."
   ]
  },
  {
   "cell_type": "markdown",
   "metadata": {},
   "source": [
    "### (c)"
   ]
  },
  {
   "cell_type": "code",
   "execution_count": 33,
   "metadata": {},
   "outputs": [
    {
     "name": "stdout",
     "output_type": "stream",
     "text": [
      "r^2 =  0.24247188773540485\n"
     ]
    }
   ],
   "source": [
    "r2 = result_reg.rsquared\n",
    "print(\"r^2 = \", r2)"
   ]
  },
  {
   "cell_type": "markdown",
   "metadata": {},
   "source": [
    "24.25% of the variation in prices is explained by the model."
   ]
  },
  {
   "cell_type": "markdown",
   "metadata": {},
   "source": [
    "### (d)"
   ]
  },
  {
   "cell_type": "code",
   "execution_count": 34,
   "metadata": {},
   "outputs": [
    {
     "name": "stdout",
     "output_type": "stream",
     "text": [
      "adjusted r^2 =  0.2018900245783729\n"
     ]
    }
   ],
   "source": [
    "r2_adj = result_reg.rsquared_adj\n",
    "print(\"adjusted r^2 = \", r2_adj)"
   ]
  },
  {
   "cell_type": "markdown",
   "metadata": {},
   "source": [
    " The coefficient of determination adjusted for degrees of freedom is .2019. It differs from  because it includes an adjustment for the number of independent variables."
   ]
  },
  {
   "cell_type": "markdown",
   "metadata": {},
   "source": [
    "### (e)  \n",
    "H0: beta_1 = beta_2 = beta_3 = 0  \n",
    "H1: At least one of the betas != 0"
   ]
  },
  {
   "cell_type": "code",
   "execution_count": 35,
   "metadata": {},
   "outputs": [
    {
     "name": "stdout",
     "output_type": "stream",
     "text": [
      "F test =  <F test: F=array([[5.97488309]]), p=0.0013153712505549735, df_denom=56, df_num=3>\n"
     ]
    }
   ],
   "source": [
    "A = np.identity(len(result_reg.params))\n",
    "A = A[1:,:]\n",
    "print(\"F test = \", result_reg.f_test(A))"
   ]
  },
  {
   "cell_type": "markdown",
   "metadata": {},
   "source": [
    "Since p-value = 0.0013 < alpha = 0.05, we can reject H0.  \n",
    "There is enough evidence to conclude that the model is valid."
   ]
  },
  {
   "cell_type": "markdown",
   "metadata": {},
   "source": [
    "### (f)  \n",
    "b1 = .700; for each addition thousand square feet the price on average increases by .700 thousand dollars provided that the other variables remain constant.  \n",
    "b2 = .679; for each addition tree the price on average increases by .679 thousand dollars provided that the other variables remain constant.  \n",
    "b3 = –.378; for each addition foot from the lake the price on average decreases by .378 thousand dollars provided that the other variables remain constant.  \n"
   ]
  },
  {
   "cell_type": "markdown",
   "metadata": {},
   "source": [
    "### (g)  \n",
    "H0: βi = 0 for i = 1, 2, 3  \n",
    "H1: βi ≠ 0 for i = 1, 2, 3\n",
    "\n",
    "According to the OLS Regression Results Summary Table,   \n",
    "i = 1: pvalue of lot size = 0.216 > 0.05. We do not reject H0.  \n",
    "i = 2: pvalue of Trees    = 0.004 < 0.05. We reject H0.  \n",
    "i = 3: pvalue of Distance = 0.058 > 0.05. We do not reject H0.  \n",
    "Thus, only for the number of trees is there enough evidence to infer a linear relationship with price."
   ]
  },
  {
   "cell_type": "markdown",
   "metadata": {},
   "source": [
    "### (h)"
   ]
  },
  {
   "cell_type": "code",
   "execution_count": 36,
   "metadata": {},
   "outputs": [
    {
     "name": "stdout",
     "output_type": "stream",
     "text": [
      "Predicted sell =  [35.497890144786126, 172.24017117301867] (thousand dollar)\n"
     ]
    }
   ],
   "source": [
    "x1 = [1, 40, 50, 25]\n",
    "CI, PI = CI_PI_regression(X_data_ar, y_data, x1, 0.1)\n",
    "print(\"Predicted sell = \", PI, \"(thousand dollar)\")"
   ]
  },
  {
   "cell_type": "markdown",
   "metadata": {},
   "source": [
    "### (i)"
   ]
  },
  {
   "cell_type": "code",
   "execution_count": 37,
   "metadata": {},
   "outputs": [
    {
     "name": "stdout",
     "output_type": "stream",
     "text": [
      "Estimated average price =  [39.290885357615366, 90.3041360033556] (thousand dollar)\n"
     ]
    }
   ],
   "source": [
    "x1 = [1, 50, 10, 75]\n",
    "CI, PI = CI_PI_regression(X_data_ar, y_data, x1, 0.1)\n",
    "print(\"Estimated average price = \", CI, \"(thousand dollar)\")"
   ]
  },
  {
   "cell_type": "markdown",
   "metadata": {},
   "source": [
    "## 17.9 (15%)  \n",
    "### (散佈圖 3%, a, b, c, d 各3%)¶"
   ]
  },
  {
   "cell_type": "code",
   "execution_count": 38,
   "metadata": {},
   "outputs": [
    {
     "name": "stdout",
     "output_type": "stream",
     "text": [
      "Head of dataset:\n"
     ]
    },
    {
     "name": "stderr",
     "output_type": "stream",
     "text": [
      "/Users/wuyunwei/opt/anaconda3/lib/python3.8/site-packages/openpyxl/worksheet/header_footer.py:48: UserWarning: Cannot parse header or footer so it will be ignored\n",
      "  warn(\"\"\"Cannot parse header or footer so it will be ignored\"\"\")\n"
     ]
    },
    {
     "data": {
      "text/html": [
       "<div>\n",
       "<style scoped>\n",
       "    .dataframe tbody tr th:only-of-type {\n",
       "        vertical-align: middle;\n",
       "    }\n",
       "\n",
       "    .dataframe tbody tr th {\n",
       "        vertical-align: top;\n",
       "    }\n",
       "\n",
       "    .dataframe thead th {\n",
       "        text-align: right;\n",
       "    }\n",
       "</style>\n",
       "<table border=\"1\" class=\"dataframe\">\n",
       "  <thead>\n",
       "    <tr style=\"text-align: right;\">\n",
       "      <th></th>\n",
       "      <th>Test Score</th>\n",
       "      <th>Math Degree</th>\n",
       "      <th>Age</th>\n",
       "      <th>Income</th>\n",
       "    </tr>\n",
       "  </thead>\n",
       "  <tbody>\n",
       "    <tr>\n",
       "      <th>0</th>\n",
       "      <td>73.9</td>\n",
       "      <td>77</td>\n",
       "      <td>52</td>\n",
       "      <td>44.4</td>\n",
       "    </tr>\n",
       "    <tr>\n",
       "      <th>1</th>\n",
       "      <td>59.4</td>\n",
       "      <td>48</td>\n",
       "      <td>32</td>\n",
       "      <td>49.0</td>\n",
       "    </tr>\n",
       "    <tr>\n",
       "      <th>2</th>\n",
       "      <td>64.6</td>\n",
       "      <td>33</td>\n",
       "      <td>50</td>\n",
       "      <td>52.6</td>\n",
       "    </tr>\n",
       "    <tr>\n",
       "      <th>3</th>\n",
       "      <td>59.8</td>\n",
       "      <td>25</td>\n",
       "      <td>43</td>\n",
       "      <td>39.6</td>\n",
       "    </tr>\n",
       "    <tr>\n",
       "      <th>4</th>\n",
       "      <td>58.8</td>\n",
       "      <td>25</td>\n",
       "      <td>40</td>\n",
       "      <td>40.7</td>\n",
       "    </tr>\n",
       "  </tbody>\n",
       "</table>\n",
       "</div>"
      ],
      "text/plain": [
       "   Test Score  Math Degree  Age  Income\n",
       "0        73.9           77   52    44.4\n",
       "1        59.4           48   32    49.0\n",
       "2        64.6           33   50    52.6\n",
       "3        59.8           25   43    39.6\n",
       "4        58.8           25   40    40.7"
      ]
     },
     "metadata": {},
     "output_type": "display_data"
    },
    {
     "name": "stdout",
     "output_type": "stream",
     "text": [
      "Tail of dataset:\n"
     ]
    },
    {
     "data": {
      "text/html": [
       "<div>\n",
       "<style scoped>\n",
       "    .dataframe tbody tr th:only-of-type {\n",
       "        vertical-align: middle;\n",
       "    }\n",
       "\n",
       "    .dataframe tbody tr th {\n",
       "        vertical-align: top;\n",
       "    }\n",
       "\n",
       "    .dataframe thead th {\n",
       "        text-align: right;\n",
       "    }\n",
       "</style>\n",
       "<table border=\"1\" class=\"dataframe\">\n",
       "  <thead>\n",
       "    <tr style=\"text-align: right;\">\n",
       "      <th></th>\n",
       "      <th>Test Score</th>\n",
       "      <th>Math Degree</th>\n",
       "      <th>Age</th>\n",
       "      <th>Income</th>\n",
       "    </tr>\n",
       "  </thead>\n",
       "  <tbody>\n",
       "    <tr>\n",
       "      <th>35</th>\n",
       "      <td>71.7</td>\n",
       "      <td>57</td>\n",
       "      <td>59</td>\n",
       "      <td>55.1</td>\n",
       "    </tr>\n",
       "    <tr>\n",
       "      <th>36</th>\n",
       "      <td>68.8</td>\n",
       "      <td>41</td>\n",
       "      <td>40</td>\n",
       "      <td>33.7</td>\n",
       "    </tr>\n",
       "    <tr>\n",
       "      <th>37</th>\n",
       "      <td>45.0</td>\n",
       "      <td>27</td>\n",
       "      <td>40</td>\n",
       "      <td>19.8</td>\n",
       "    </tr>\n",
       "    <tr>\n",
       "      <th>38</th>\n",
       "      <td>61.9</td>\n",
       "      <td>37</td>\n",
       "      <td>44</td>\n",
       "      <td>48.2</td>\n",
       "    </tr>\n",
       "    <tr>\n",
       "      <th>39</th>\n",
       "      <td>56.0</td>\n",
       "      <td>36</td>\n",
       "      <td>56</td>\n",
       "      <td>55.9</td>\n",
       "    </tr>\n",
       "  </tbody>\n",
       "</table>\n",
       "</div>"
      ],
      "text/plain": [
       "    Test Score  Math Degree  Age  Income\n",
       "35        71.7           57   59    55.1\n",
       "36        68.8           41   40    33.7\n",
       "37        45.0           27   40    19.8\n",
       "38        61.9           37   44    48.2\n",
       "39        56.0           36   56    55.9"
      ]
     },
     "metadata": {},
     "output_type": "display_data"
    }
   ],
   "source": [
    "df17_9 = pd.read_excel('Xr17-09.xlsx')\n",
    "print('Head of dataset:')\n",
    "display(df17_9.head())\n",
    "print(\"Tail of dataset:\")\n",
    "display(df17_9.tail())"
   ]
  },
  {
   "cell_type": "markdown",
   "metadata": {},
   "source": [
    "Independent variable:  \n",
    "X1: Math Degree  \n",
    "x2: Age  \n",
    "x3: Income  \n",
    "Dependent variable (y): Test Score"
   ]
  },
  {
   "cell_type": "code",
   "execution_count": 39,
   "metadata": {},
   "outputs": [
    {
     "data": {
      "image/png": "[encoded data removed]",
      "text/plain": [
       "<Figure size 360x240 with 1 Axes>"
      ]
     },
     "metadata": {
      "needs_background": "light"
     },
     "output_type": "display_data"
    },
    {
     "data": {
      "image/png": "[encoded data removed]",
      "text/plain": [
       "<Figure size 360x240 with 1 Axes>"
      ]
     },
     "metadata": {
      "needs_background": "light"
     },
     "output_type": "display_data"
    },
    {
     "data": {
      "image/png": "[encoded data removed]",
      "text/plain": [
       "<Figure size 360x240 with 1 Axes>"
      ]
     },
     "metadata": {
      "needs_background": "light"
     },
     "output_type": "display_data"
    }
   ],
   "source": [
    "y_var = df17_9['Test Score'].values\n",
    "xnames = df17_9.columns[1:]\n",
    "for aname in xnames:\n",
    "    x_var = df17_9[aname].values\n",
    "    _ = sns.regplot(x = x_var, y = y_var, data = df17_9, color = 'b', ci = None)\n",
    "    #_ = plt.plot(x, y, 'o', color = 'b')\n",
    "    plt.xlabel(aname)\n",
    "    plt.ylabel('Test Score')\n",
    "    plt.title('Scatter Plot for Test Score and ' +aname)\n",
    "    plt.show()\n"
   ]
  },
  {
   "cell_type": "markdown",
   "metadata": {},
   "source": [
    "According to the scatter plot, all independet variables seem to have linear relationship with Test Score."
   ]
  },
  {
   "cell_type": "code",
   "execution_count": 40,
   "metadata": {},
   "outputs": [
    {
     "data": {
      "image/png": "[encoded data removed]",
      "text/plain": [
       "<Figure size 360x240 with 2 Axes>"
      ]
     },
     "metadata": {
      "needs_background": "light"
     },
     "output_type": "display_data"
    }
   ],
   "source": [
    "df17_9a = df17_9[df17_9.columns]\n",
    "corr1 = df17_9a.corr()\n",
    "_ = sns.heatmap(corr1, annot=True)"
   ]
  },
  {
   "cell_type": "code",
   "execution_count": 41,
   "metadata": {},
   "outputs": [
    {
     "name": "stdout",
     "output_type": "stream",
     "text": [
      "                            OLS Regression Results                            \n",
      "==============================================================================\n",
      "Dep. Variable:             Test Score   R-squared:                       0.357\n",
      "Model:                            OLS   Adj. R-squared:                  0.303\n",
      "Method:                 Least Squares   F-statistic:                     6.663\n",
      "Date:                Wed, 04 May 2022   Prob (F-statistic):            0.00108\n",
      "Time:                        04:17:13   Log-Likelihood:                -136.43\n",
      "No. Observations:                  40   AIC:                             280.9\n",
      "Df Residuals:                      36   BIC:                             287.6\n",
      "Df Model:                           3                                         \n",
      "Covariance Type:            nonrobust                                         \n",
      "===============================================================================\n",
      "                  coef    std err          t      P>|t|      [0.025      0.975]\n",
      "-------------------------------------------------------------------------------\n",
      "const          35.6776      7.279      4.902      0.000      20.915      50.440\n",
      "Math Degree     0.2475      0.070      3.543      0.001       0.106       0.389\n",
      "Age             0.2448      0.185      1.322      0.195      -0.131       0.620\n",
      "Income          0.1333      0.153      0.872      0.389      -0.177       0.443\n",
      "==============================================================================\n",
      "Omnibus:                        1.116   Durbin-Watson:                   1.537\n",
      "Prob(Omnibus):                  0.572   Jarque-Bera (JB):                0.480\n",
      "Skew:                          -0.241   Prob(JB):                        0.787\n",
      "Kurtosis:                       3.236   Cond. No.                         459.\n",
      "==============================================================================\n",
      "\n",
      "Notes:\n",
      "[1] Standard Errors assume that the covariance matrix of the errors is correctly specified.\n"
     ]
    },
    {
     "name": "stderr",
     "output_type": "stream",
     "text": [
      "/Users/wuyunwei/opt/anaconda3/lib/python3.8/site-packages/statsmodels/tsa/tsatools.py:142: FutureWarning: In a future version of pandas all arguments of concat except for the argument 'objs' will be keyword-only\n",
      "  x = pd.concat(x[::order], 1)\n"
     ]
    }
   ],
   "source": [
    "y_data = df17_9['Test Score']\n",
    "X_data_ar = np.array([df17_9['Math Degree'], df17_9['Age'], df17_9['Income']])\n",
    "X_data_T = X_data_ar.T\n",
    "X_data = pd.DataFrame(X_data_T,columns = df17_9.columns[1:])\n",
    "X_data2 = sm.add_constant(X_data)\n",
    "olsmod = sm.OLS(y_data, X_data2)\n",
    "result_reg = olsmod.fit()\n",
    "print(result_reg.summary())"
   ]
  },
  {
   "cell_type": "markdown",
   "metadata": {},
   "source": [
    "### (a)"
   ]
  },
  {
   "cell_type": "code",
   "execution_count": 42,
   "metadata": {},
   "outputs": [
    {
     "name": "stdout",
     "output_type": "stream",
     "text": [
      "Estimated model: y = 35.6776 + 0.2475 x1 + 0.2448 x2 + 0.1333 x3\n"
     ]
    }
   ],
   "source": [
    "# Inspect the results\n",
    "b1_3 = result_reg.params[3]\n",
    "b1_2 = result_reg.params[2]\n",
    "b1_1 = result_reg.params[1]\n",
    "b0_1 = result_reg.params[0]\n",
    "print(\"Estimated model: y = %0.4f + %0.4f x1 + %0.4f x2 + %0.4f x3\" % (b0_1, b1_1, b1_2, b1_3))"
   ]
  },
  {
   "cell_type": "markdown",
   "metadata": {},
   "source": [
    "### (b)  \n",
    "H0: beta_1 = beta_2 = beta_3 = 0  \n",
    "H1: At least one of the betas != 0"
   ]
  },
  {
   "cell_type": "code",
   "execution_count": 43,
   "metadata": {},
   "outputs": [
    {
     "name": "stdout",
     "output_type": "stream",
     "text": [
      "F test =  <F test: F=array([[6.66312516]]), p=0.0010769247208052384, df_denom=36, df_num=3>\n"
     ]
    }
   ],
   "source": [
    "A = np.identity(len(result_reg.params))\n",
    "A = A[1:,:]\n",
    "print(\"F test = \", result_reg.f_test(A))"
   ]
  },
  {
   "cell_type": "markdown",
   "metadata": {},
   "source": [
    "Since p-value = 0.0011 < alpha = 0.05, we can reject H0.  \n",
    "There is enough evidence to conclude that the model is valid."
   ]
  },
  {
   "cell_type": "markdown",
   "metadata": {},
   "source": [
    "### (c)  \n",
    "b1 = .247; for each one percentage point increase in the proportion of teachers with mathematics degrees the test score increases on average by .247 provided the other variables are constant.  \n",
    "b2 = .245; for each one year increase in mean age test score increases on average by .245 provided the other variables are constant .  \n",
    "b3 = .135; for each one thousand dollar increase in salary test score increases on average by .135 provided the other variables are constant.  \n",
    " \n",
    "H0: βi = 0 for i = 1, 2, 3  \n",
    "H1: βi ≠ 0 for i = 1, 2, 3\n",
    "\n",
    "According to the OLS Regression Results Summary Table,   \n",
    "i = 1: pvalue of Math Degree = 0.001 < 0.05. We reject H0.  \n",
    "i = 2: pvalue of Age         = 0.195 > 0.05. We do not reject H0.  \n",
    "i = 3: pvalue of Income      = 0.389 > 0.05. We do not reject H0.  \n",
    "Thus, the proportion of teachers with at least one mathematics degree is linearly related to test scores and the other two variables appear to be unrelated."
   ]
  },
  {
   "cell_type": "markdown",
   "metadata": {},
   "source": [
    "### (d)"
   ]
  },
  {
   "cell_type": "code",
   "execution_count": 44,
   "metadata": {},
   "outputs": [
    {
     "name": "stdout",
     "output_type": "stream",
     "text": [
      "Predicted Test Score =  [49.01506162299047, 81.02022674886392]\n"
     ]
    }
   ],
   "source": [
    "x1 = [1, 50, 43, 48.3]\n",
    "CI, PI = CI_PI_regression(X_data_ar, y_data, x1, 0.05)\n",
    "print(\"Predicted Test Score = \", PI )"
   ]
  },
  {
   "cell_type": "markdown",
   "metadata": {},
   "source": [
    "## 17.15 (12%)  \n",
    "### (散佈圖 3%, a, b, c, 各3%)¶"
   ]
  },
  {
   "cell_type": "code",
   "execution_count": 45,
   "metadata": {},
   "outputs": [
    {
     "name": "stdout",
     "output_type": "stream",
     "text": [
      "Head of dataset:\n"
     ]
    },
    {
     "data": {
      "text/html": [
       "<div>\n",
       "<style scoped>\n",
       "    .dataframe tbody tr th:only-of-type {\n",
       "        vertical-align: middle;\n",
       "    }\n",
       "\n",
       "    .dataframe tbody tr th {\n",
       "        vertical-align: top;\n",
       "    }\n",
       "\n",
       "    .dataframe thead th {\n",
       "        text-align: right;\n",
       "    }\n",
       "</style>\n",
       "<table border=\"1\" class=\"dataframe\">\n",
       "  <thead>\n",
       "    <tr style=\"text-align: right;\">\n",
       "      <th></th>\n",
       "      <th>DEFINITE</th>\n",
       "      <th>AGE</th>\n",
       "      <th>EDUC</th>\n",
       "      <th>INCOME</th>\n",
       "    </tr>\n",
       "  </thead>\n",
       "  <tbody>\n",
       "    <tr>\n",
       "      <th>0</th>\n",
       "      <td>10</td>\n",
       "      <td>34</td>\n",
       "      <td>13</td>\n",
       "      <td>127500</td>\n",
       "    </tr>\n",
       "    <tr>\n",
       "      <th>1</th>\n",
       "      <td>10</td>\n",
       "      <td>58</td>\n",
       "      <td>12</td>\n",
       "      <td>16000</td>\n",
       "    </tr>\n",
       "    <tr>\n",
       "      <th>2</th>\n",
       "      <td>10</td>\n",
       "      <td>39</td>\n",
       "      <td>16</td>\n",
       "      <td>32500</td>\n",
       "    </tr>\n",
       "    <tr>\n",
       "      <th>3</th>\n",
       "      <td>5</td>\n",
       "      <td>49</td>\n",
       "      <td>12</td>\n",
       "      <td>23500</td>\n",
       "    </tr>\n",
       "    <tr>\n",
       "      <th>4</th>\n",
       "      <td>10</td>\n",
       "      <td>72</td>\n",
       "      <td>16</td>\n",
       "      <td>82500</td>\n",
       "    </tr>\n",
       "  </tbody>\n",
       "</table>\n",
       "</div>"
      ],
      "text/plain": [
       "   DEFINITE  AGE  EDUC  INCOME\n",
       "0        10   34    13  127500\n",
       "1        10   58    12   16000\n",
       "2        10   39    16   32500\n",
       "3         5   49    12   23500\n",
       "4        10   72    16   82500"
      ]
     },
     "metadata": {},
     "output_type": "display_data"
    },
    {
     "name": "stdout",
     "output_type": "stream",
     "text": [
      "Tail of dataset:\n"
     ]
    },
    {
     "data": {
      "text/html": [
       "<div>\n",
       "<style scoped>\n",
       "    .dataframe tbody tr th:only-of-type {\n",
       "        vertical-align: middle;\n",
       "    }\n",
       "\n",
       "    .dataframe tbody tr th {\n",
       "        vertical-align: top;\n",
       "    }\n",
       "\n",
       "    .dataframe thead th {\n",
       "        text-align: right;\n",
       "    }\n",
       "</style>\n",
       "<table border=\"1\" class=\"dataframe\">\n",
       "  <thead>\n",
       "    <tr style=\"text-align: right;\">\n",
       "      <th></th>\n",
       "      <th>DEFINITE</th>\n",
       "      <th>AGE</th>\n",
       "      <th>EDUC</th>\n",
       "      <th>INCOME</th>\n",
       "    </tr>\n",
       "  </thead>\n",
       "  <tbody>\n",
       "    <tr>\n",
       "      <th>1657</th>\n",
       "      <td>6</td>\n",
       "      <td>33</td>\n",
       "      <td>12</td>\n",
       "      <td>27500</td>\n",
       "    </tr>\n",
       "    <tr>\n",
       "      <th>1658</th>\n",
       "      <td>2</td>\n",
       "      <td>28</td>\n",
       "      <td>12</td>\n",
       "      <td>8750</td>\n",
       "    </tr>\n",
       "    <tr>\n",
       "      <th>1659</th>\n",
       "      <td>8</td>\n",
       "      <td>39</td>\n",
       "      <td>13</td>\n",
       "      <td>42500</td>\n",
       "    </tr>\n",
       "    <tr>\n",
       "      <th>1660</th>\n",
       "      <td>8</td>\n",
       "      <td>64</td>\n",
       "      <td>12</td>\n",
       "      <td>175000</td>\n",
       "    </tr>\n",
       "    <tr>\n",
       "      <th>1661</th>\n",
       "      <td>1</td>\n",
       "      <td>34</td>\n",
       "      <td>10</td>\n",
       "      <td>1500</td>\n",
       "    </tr>\n",
       "  </tbody>\n",
       "</table>\n",
       "</div>"
      ],
      "text/plain": [
       "      DEFINITE  AGE  EDUC  INCOME\n",
       "1657         6   33    12   27500\n",
       "1658         2   28    12    8750\n",
       "1659         8   39    13   42500\n",
       "1660         8   64    12  175000\n",
       "1661         1   34    10    1500"
      ]
     },
     "metadata": {},
     "output_type": "display_data"
    }
   ],
   "source": [
    "df17_15 = pd.read_excel('Xr17-15.xlsx')\n",
    "print('Head of dataset:')\n",
    "display(df17_15.head())\n",
    "print(\"Tail of dataset:\")\n",
    "display(df17_15.tail())"
   ]
  },
  {
   "cell_type": "markdown",
   "metadata": {},
   "source": [
    "Independent variable:  \n",
    "X1: Age  \n",
    "x2: Education  \n",
    "x3: Income  \n",
    "Dependent variable (y): Definite"
   ]
  },
  {
   "cell_type": "code",
   "execution_count": 46,
   "metadata": {},
   "outputs": [
    {
     "data": {
      "image/png": "[encoded data removed]",
      "text/plain": [
       "<Figure size 360x240 with 1 Axes>"
      ]
     },
     "metadata": {
      "needs_background": "light"
     },
     "output_type": "display_data"
    },
    {
     "data": {
      "image/png": "[encoded data removed]",
      "text/plain": [
       "<Figure size 360x240 with 1 Axes>"
      ]
     },
     "metadata": {
      "needs_background": "light"
     },
     "output_type": "display_data"
    },
    {
     "data": {
      "image/png": "[encoded data removed]",
      "text/plain": [
       "<Figure size 360x240 with 1 Axes>"
      ]
     },
     "metadata": {
      "needs_background": "light"
     },
     "output_type": "display_data"
    }
   ],
   "source": [
    "y_var = df17_15['DEFINITE'].values\n",
    "xnames = df17_15.columns[1:]\n",
    "for aname in xnames:\n",
    "    x_var = df17_15[aname].values\n",
    "    _ = sns.regplot(x = x_var, y = y_var, data = df17_15, color = 'b', ci = None)\n",
    "    #_ = plt.plot(x, y, 'o', color = 'b')\n",
    "    plt.xlabel(aname)\n",
    "    plt.ylabel('DEFINITE')\n",
    "    plt.title('Scatter Plot for DEFINITE and ' +aname)\n",
    "    plt.show()\n"
   ]
  },
  {
   "cell_type": "markdown",
   "metadata": {},
   "source": [
    "According to the scatter plot, all independet variables seem to have little linear relationship with DEFINITE."
   ]
  },
  {
   "cell_type": "code",
   "execution_count": 47,
   "metadata": {},
   "outputs": [
    {
     "data": {
      "image/png": "[encoded data removed]",
      "text/plain": [
       "<Figure size 360x240 with 2 Axes>"
      ]
     },
     "metadata": {
      "needs_background": "light"
     },
     "output_type": "display_data"
    }
   ],
   "source": [
    "df17_15a = df17_15[df17_15.columns]\n",
    "corr1 = df17_15a.corr()\n",
    "_ = sns.heatmap(corr1, annot=True)"
   ]
  },
  {
   "cell_type": "code",
   "execution_count": 48,
   "metadata": {},
   "outputs": [
    {
     "name": "stdout",
     "output_type": "stream",
     "text": [
      "                            OLS Regression Results                            \n",
      "==============================================================================\n",
      "Dep. Variable:               DEFINITE   R-squared:                       0.070\n",
      "Model:                            OLS   Adj. R-squared:                  0.069\n",
      "Method:                 Least Squares   F-statistic:                     41.92\n",
      "Date:                Wed, 04 May 2022   Prob (F-statistic):           4.15e-26\n",
      "Time:                        04:17:14   Log-Likelihood:                -4116.4\n",
      "No. Observations:                1662   AIC:                             8241.\n",
      "Df Residuals:                    1658   BIC:                             8263.\n",
      "Df Model:                           3                                         \n",
      "Covariance Type:            nonrobust                                         \n",
      "==============================================================================\n",
      "                 coef    std err          t      P>|t|      [0.025      0.975]\n",
      "------------------------------------------------------------------------------\n",
      "const          3.0230      0.461      6.553      0.000       2.118       3.928\n",
      "AGE            0.0289      0.004      6.930      0.000       0.021       0.037\n",
      "EDUC           0.2461      0.031      8.068      0.000       0.186       0.306\n",
      "INCOME      3.745e-06   2.18e-06      1.719      0.086   -5.28e-07    8.02e-06\n",
      "==============================================================================\n",
      "Omnibus:                      248.030   Durbin-Watson:                   1.875\n",
      "Prob(Omnibus):                  0.000   Jarque-Bera (JB):              368.770\n",
      "Skew:                          -1.142   Prob(JB):                     8.37e-81\n",
      "Kurtosis:                       3.335   Cond. No.                     3.24e+05\n",
      "==============================================================================\n",
      "\n",
      "Notes:\n",
      "[1] Standard Errors assume that the covariance matrix of the errors is correctly specified.\n",
      "[2] The condition number is large, 3.24e+05. This might indicate that there are\n",
      "strong multicollinearity or other numerical problems.\n"
     ]
    },
    {
     "name": "stderr",
     "output_type": "stream",
     "text": [
      "/Users/wuyunwei/opt/anaconda3/lib/python3.8/site-packages/statsmodels/tsa/tsatools.py:142: FutureWarning: In a future version of pandas all arguments of concat except for the argument 'objs' will be keyword-only\n",
      "  x = pd.concat(x[::order], 1)\n"
     ]
    }
   ],
   "source": [
    "y_data = df17_15['DEFINITE']\n",
    "X_data_ar = np.array([df17_15['AGE'], df17_15['EDUC'], df17_15['INCOME']])\n",
    "X_data_T = X_data_ar.T\n",
    "X_data = pd.DataFrame(X_data_T,columns = df17_15.columns[1:])\n",
    "X_data2 = sm.add_constant(X_data)\n",
    "olsmod = sm.OLS(y_data, X_data2)\n",
    "result_reg = olsmod.fit()\n",
    "print(result_reg.summary())"
   ]
  },
  {
   "cell_type": "markdown",
   "metadata": {},
   "source": [
    "### (a)"
   ]
  },
  {
   "cell_type": "code",
   "execution_count": 49,
   "metadata": {},
   "outputs": [
    {
     "name": "stdout",
     "output_type": "stream",
     "text": [
      "Estimated model: y = 3.0230 + 0.0289 x1 + 0.2461 x2 + 0.0000 x3\n"
     ]
    }
   ],
   "source": [
    "# Inspect the results\n",
    "b1_3 = result_reg.params[3]\n",
    "b1_2 = result_reg.params[2]\n",
    "b1_1 = result_reg.params[1]\n",
    "b0_1 = result_reg.params[0]\n",
    "print(\"Estimated model: y = %0.4f + %0.4f x1 + %0.4f x2 + %0.4f x3\" % (b0_1, b1_1, b1_2, b1_3))"
   ]
  },
  {
   "cell_type": "markdown",
   "metadata": {},
   "source": [
    "### (b)  \n",
    "H0: beta_1 = beta_2 = beta_3 = 0  \n",
    "H1: At least one of the betas != 0"
   ]
  },
  {
   "cell_type": "code",
   "execution_count": 50,
   "metadata": {},
   "outputs": [
    {
     "name": "stdout",
     "output_type": "stream",
     "text": [
      "F test =  <F test: F=array([[41.91820083]]), p=4.151461915530292e-26, df_denom=1.66e+03, df_num=3>\n"
     ]
    }
   ],
   "source": [
    "A = np.identity(len(result_reg.params))\n",
    "A = A[1:,:]\n",
    "print(\"F test = \", result_reg.f_test(A))"
   ]
  },
  {
   "cell_type": "markdown",
   "metadata": {},
   "source": [
    "Since p-value = 0 < alpha = 0.05, we can reject H0.  \n",
    "There is enough evidence to conclude that the model is valid."
   ]
  },
  {
   "cell_type": "markdown",
   "metadata": {},
   "source": [
    "### (c)   \n",
    "H0: βi = 0 for i = 1, 2, 3  \n",
    "H1: βi ≠ 0 for i = 1, 2, 3\n",
    "\n",
    "According to the OLS Regression Results Summary Table,   \n",
    "i = 1: pvalue of Age       = 0 < 0.05. We reject H0.  \n",
    "i = 2: pvalue of Education = 0 < 0.05. We reject H0.  \n",
    "i = 3: pvalue of Income    = 0.086 > 0.05. We do not reject H0.  \n",
    "Thus, AGE and EDUC are linearly related to DEFINITE and INCOME isnt."
   ]
  }
 ],
 "metadata": {
  "kernelspec": {
   "display_name": "Python 3",
   "language": "python",
   "name": "python3"
  },
  "language_info": {
   "codemirror_mode": {
    "name": "ipython",
    "version": 3
   },
   "file_extension": ".py",
   "mimetype": "text/x-python",
   "name": "python",
   "nbconvert_exporter": "python",
   "pygments_lexer": "ipython3",
   "version": "3.8.5"
  }
 },
 "nbformat": 4,
 "nbformat_minor": 4
}
