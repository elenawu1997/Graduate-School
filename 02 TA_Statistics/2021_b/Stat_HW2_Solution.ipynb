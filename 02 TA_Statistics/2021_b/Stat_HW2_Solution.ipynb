{
 "cells": [
  {
   "cell_type": "code",
   "execution_count": 1,
   "metadata": {},
   "outputs": [],
   "source": [
    "import scipy.stats as stats\n",
    "import statistics \n",
    "import matplotlib.pyplot as plt\n",
    "import numpy as np\n",
    "import pandas as pd\n",
    "import math"
   ]
  },
  {
   "cell_type": "markdown",
   "metadata": {},
   "source": [
    "## 評分標準  \n",
    "- 沒寫H0H1 -2%  \n",
    "- 沒寫mu_D / mu1, mu2 定義 -2% （eg mu1表去年、mu2表今年平均等, 13.100因題目本身已有分company1, 2 故可不用寫）  \n",
    "- 沒寫reject H0 or not, why -2%  \n",
    "- 沒寫conclusion -2%"
   ]
  },
  {
   "cell_type": "markdown",
   "metadata": {},
   "source": [
    "## 13.95 (25%) (a:5%, c:5%, d:5%)  \n",
    "Let mu1 be mu of last year and mu2 be mu of this year  "
   ]
  },
  {
   "cell_type": "code",
   "execution_count": 2,
   "metadata": {},
   "outputs": [],
   "source": [
    "df95 = pd.read_excel('Xr13-95.xlsx')\n",
    "\n",
    "this = df95['This Year'].values\n",
    "last = df95['Last Year'].values\n",
    "\n",
    "difference = this - last\n",
    "\n",
    "n = difference.shape[0]\n",
    "df = n-1"
   ]
  },
  {
   "cell_type": "code",
   "execution_count": 3,
   "metadata": {},
   "outputs": [
    {
     "name": "stdout",
     "output_type": "stream",
     "text": [
      "Check for normality\n"
     ]
    },
    {
     "data": {
      "image/png": "[encoded data removed]",
      "text/plain": [
       "<Figure size 432x288 with 1 Axes>"
      ]
     },
     "metadata": {
      "needs_background": "light"
     },
     "output_type": "display_data"
    }
   ],
   "source": [
    "print(\"Check for normality\")\n",
    "_ = plt.hist(difference, bins = \"auto\")"
   ]
  },
  {
   "cell_type": "markdown",
   "metadata": {},
   "source": [
    "The distribution is roughly bell-shaped. We can proceed with the assumption that sample mean is t-distributed."
   ]
  },
  {
   "cell_type": "markdown",
   "metadata": {},
   "source": [
    "#### (a)"
   ]
  },
  {
   "cell_type": "code",
   "execution_count": 4,
   "metadata": {},
   "outputs": [
    {
     "name": "stdout",
     "output_type": "stream",
     "text": [
      "LCL =  27.9109927892535\n",
      "UCL =  11.5890072107465\n"
     ]
    }
   ],
   "source": [
    "t_CL =  stats.t.ppf(q=.05,df=df) * (difference.var(ddof=1)**0.5)/(n**0.5)\n",
    "LCL = difference.mean() - t_CL\n",
    "UCL = difference.mean() + t_CL\n",
    "print(\"LCL = \", LCL)\n",
    "print(\"UCL = \", UCL)"
   ]
  },
  {
   "cell_type": "markdown",
   "metadata": {},
   "source": [
    "#### (b)  \n",
    "H0: (mu2 – mu1) = 0  \n",
    "H1: (mu2 – mu1) > 0  "
   ]
  },
  {
   "cell_type": "code",
   "execution_count": 5,
   "metadata": {},
   "outputs": [
    {
     "name": "stdout",
     "output_type": "stream",
     "text": [
      "t-value = 4.077479844595904\n",
      "p_value (right tail) = 0.0001\n"
     ]
    }
   ],
   "source": [
    "t_value = difference.mean() / (difference.var(ddof=1)**0.5)*(n**0.5)\n",
    "print(\"t-value =\",t_value)\n",
    "\n",
    "ptmp = stats.t.cdf(t_value,df)\n",
    "p_value_right = 1-ptmp\n",
    "print(f\"p_value (right tail) = {p_value_right:.4f}\")"
   ]
  },
  {
   "cell_type": "markdown",
   "metadata": {},
   "source": [
    "Since pvalue < significance level = 0.05, we reject H0.  \n",
    "There is enough evidence to conclude that companies that advertise in the Yellow Pages have higher sales than companies that do not."
   ]
  },
  {
   "cell_type": "markdown",
   "metadata": {},
   "source": [
    "#### (c)  \n",
    "The histogram of the differences is bell shaped.\n",
    "#### (d)  \n",
    "No, because we expect a great deal of variation between stores.\n"
   ]
  },
  {
   "cell_type": "markdown",
   "metadata": {},
   "source": [
    "## 13.100 (25%)  \n",
    "Let mu1 be mu of company 1 and mu2 be mu of company 2  \n",
    "H0: (mu1 – mu2) = 0  \n",
    "H1: (mu1 – mu2) > 0  "
   ]
  },
  {
   "cell_type": "code",
   "execution_count": 6,
   "metadata": {
    "jupyter": {
     "source_hidden": true
    }
   },
   "outputs": [],
   "source": [
    "df100 = pd.read_excel('Xr13-100.xlsx')\n",
    "\n",
    "one = df100['Company 1'].values\n",
    "two = df100['Company 2'].values\n",
    "\n",
    "difference = one - two"
   ]
  },
  {
   "cell_type": "code",
   "execution_count": 7,
   "metadata": {
    "jupyter": {
     "source_hidden": true
    }
   },
   "outputs": [
    {
     "name": "stdout",
     "output_type": "stream",
     "text": [
      "Check for normality\n"
     ]
    },
    {
     "data": {
      "image/png": "[encoded data removed]",
      "text/plain": [
       "<Figure size 432x288 with 1 Axes>"
      ]
     },
     "metadata": {
      "needs_background": "light"
     },
     "output_type": "display_data"
    }
   ],
   "source": [
    "print(\"Check for normality\")\n",
    "_ = plt.hist(difference, bins = \"auto\")"
   ]
  },
  {
   "cell_type": "markdown",
   "metadata": {},
   "source": [
    "The distribution is roughly bell-shaped. We can proceed with the assumption that sample mean is t-distributed."
   ]
  },
  {
   "cell_type": "code",
   "execution_count": 8,
   "metadata": {},
   "outputs": [
    {
     "name": "stdout",
     "output_type": "stream",
     "text": [
      "t-value = 2.0824367210956813\n",
      "p_value (right tail) = 0.0210\n"
     ]
    }
   ],
   "source": [
    "n=difference.shape[0]\n",
    "df=n-1\n",
    "\n",
    "t_value = difference.mean() / (difference.var(ddof=1)**0.5)*(n**0.5)\n",
    "print(\"t-value =\",t_value)\n",
    "\n",
    "ptmp=stats.t.cdf(t_value,df)\n",
    "p_value_right=1-ptmp\n",
    "print(f\"p_value (right tail) = {p_value_right:.4f}\")"
   ]
  },
  {
   "cell_type": "markdown",
   "metadata": {},
   "source": [
    "Since pvalue < significance level = 0.05, we reject H0.  \n",
    "There is enough evidence to infer that company 1’s calculated tax payable is higher than company 2’s."
   ]
  },
  {
   "cell_type": "markdown",
   "metadata": {},
   "source": [
    "## 13.130 (25%)  \n",
    "Let p1 be extended warranty rate of regular, p2 be extended warranty rate of sale.  \n",
    "H0: (p1 – p2) = 0  \n",
    "H1: (p1 – p2) > 0  "
   ]
  },
  {
   "cell_type": "code",
   "execution_count": 9,
   "metadata": {},
   "outputs": [
    {
     "name": "stdout",
     "output_type": "stream",
     "text": [
      "Check for normality.\n",
      "check p1: True\n",
      "check p2: True\n"
     ]
    }
   ],
   "source": [
    "n1 = 229\n",
    "n2 = 178\n",
    "\n",
    "p1 = 47/n1\n",
    "p2 = 25/n2\n",
    "\n",
    "print(\"Check for normality.\")\n",
    "print(\"check p1:\", bool(p1*n1 > 5))\n",
    "print(\"check p2:\", bool(p2*n2 > 5))"
   ]
  },
  {
   "cell_type": "code",
   "execution_count": 10,
   "metadata": {},
   "outputs": [
    {
     "name": "stdout",
     "output_type": "stream",
     "text": [
      "p1 = 0.2052\n",
      "p2 = 0.1404\n",
      "sd_p_pool = 0.0381\n",
      "z-value = 1.6992\n",
      "p-value = 0.0446\n"
     ]
    }
   ],
   "source": [
    "p_pool = (47+25)/(n1+n2)\n",
    "\n",
    "sd_p_pool = (p_pool * (1-p_pool) * (1/n1 + 1/n2))**0.5\n",
    "z_value = (p1-p2)/sd_p_pool\n",
    "\n",
    "print(f\"p1 = {p1:.4f}\")\n",
    "print(f\"p2 = {p2:.4f}\")\n",
    "print(f\"sd_p_pool = {sd_p_pool:.4f}\")\n",
    "print(f\"z-value = {z_value:.4f}\")\n",
    "p_value = 1 - stats.norm.cdf(z_value)\n",
    "print(f\"p-value = {p_value:.4f}\")"
   ]
  },
  {
   "cell_type": "markdown",
   "metadata": {},
   "source": [
    "P-value=0.0446 (<0.1), reject H0  \n",
    "So, there is enough evidence to conclude that those who paid the regular price are more likely to buy an extended warranty."
   ]
  },
  {
   "cell_type": "markdown",
   "metadata": {},
   "source": [
    "## 13.156 (25%)  \n",
    "Let p1 be callback rate of no religion and p2 be callback rate of religion.  \n",
    "H0: (p1 – p2) = 0  \n",
    "H1: (p1 – p2) > 0  "
   ]
  },
  {
   "cell_type": "code",
   "execution_count": 11,
   "metadata": {},
   "outputs": [
    {
     "name": "stdout",
     "output_type": "stream",
     "text": [
      "Check for normality.\n",
      "check p1: True\n",
      "check p2: True\n"
     ]
    }
   ],
   "source": [
    "df156 = pd.read_excel('Xr13-156.xlsx')\n",
    "\n",
    "NO = df156['No religion'].dropna()\n",
    "YES = df156['Religion'].dropna()\n",
    "\n",
    "n_NO = NO.shape[0]\n",
    "n_YES = YES.shape[0]\n",
    "\n",
    "NO = NO==1\n",
    "YES = YES==1\n",
    "\n",
    "p1 = NO.mean()\n",
    "p2 = YES.mean()\n",
    "\n",
    "print(\"Check for normality.\")\n",
    "print(\"check p1:\", bool(NO.mean()*n_NO > 5))\n",
    "print(\"check p2:\", bool(YES.mean()*n_YES > 5))"
   ]
  },
  {
   "cell_type": "code",
   "execution_count": 12,
   "metadata": {},
   "outputs": [
    {
     "name": "stdout",
     "output_type": "stream",
     "text": [
      "p1 = 0.0850\n",
      "p2 = 0.0750\n",
      "sd_p_pool = 0.0068\n",
      "z-value = 1.4744\n",
      "p-value (right tail) = 0.0702\n"
     ]
    }
   ],
   "source": [
    "all = np.concatenate([NO, YES])\n",
    "p_pool = all.mean()\n",
    "\n",
    "sd_p_pool = (p_pool * (1-p_pool) * (1/n_NO + 1/n_YES))**0.5\n",
    "z_value = (p1-p2)/sd_p_pool\n",
    "\n",
    "print(f\"p1 = {p1:.4f}\")\n",
    "print(f\"p2 = {p2:.4f}\")\n",
    "print(f\"sd_p_pool = {sd_p_pool:.4f}\")\n",
    "print(f\"z-value = {z_value:.4f}\")\n",
    "p_value = (1 - stats.norm.cdf(z_value))\n",
    "print(f\"p-value (right tail) = {p_value:.4f}\")"
   ]
  },
  {
   "cell_type": "markdown",
   "metadata": {},
   "source": [
    "Since p-value > 0.05, we do not rehect H0.  \n",
    "There is not enough evidence to infer that including a reference to religious activity reduces the probability of a callback."
   ]
  },
  {
   "cell_type": "code",
   "execution_count": null,
   "metadata": {},
   "outputs": [],
   "source": []
  }
 ],
 "metadata": {
  "kernelspec": {
   "display_name": "Python 3",
   "language": "python",
   "name": "python3"
  },
  "language_info": {
   "codemirror_mode": {
    "name": "ipython",
    "version": 3
   },
   "file_extension": ".py",
   "mimetype": "text/x-python",
   "name": "python",
   "nbconvert_exporter": "python",
   "pygments_lexer": "ipython3",
   "version": "3.8.5"
  }
 },
 "nbformat": 4,
 "nbformat_minor": 4
}
