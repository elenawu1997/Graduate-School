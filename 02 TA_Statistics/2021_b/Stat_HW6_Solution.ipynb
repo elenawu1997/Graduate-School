{
 "cells": [
  {
   "cell_type": "code",
   "execution_count": 1,
   "metadata": {},
   "outputs": [],
   "source": [
    "#載入所需函示庫\n",
    "\n",
    "from matplotlib import pyplot as plt\n",
    "%matplotlib inline\n",
    "# 設定圖形大小; DPI越大圖越大\n",
    "plt.rcParams[\"figure.dpi\"] = 120\n",
    "\n",
    "import pandas as pd\n",
    "import numpy as np\n",
    "import scipy.stats as stats\n",
    "import statsmodels.api as sm\n",
    "import statsmodels.stats.api as sms\n",
    "import statsmodels.formula.api as smf\n",
    "import statsmodels.stats.multicomp as smm\n",
    "import statsmodels"
   ]
  },
  {
   "cell_type": "markdown",
   "metadata": {},
   "source": [
    "## Exercise 19.16  \n",
    "### hypothesis (10%)  \n",
    "H0: The two population locations are the same  \n",
    "H1: The location of population 1 is different from the location of population 2  \n",
    "population 1: day shift  \n",
    "population 2: night shift  "
   ]
  },
  {
   "cell_type": "code",
   "execution_count": 5,
   "metadata": {},
   "outputs": [
    {
     "data": {
      "text/html": [
       "<div>\n",
       "<style scoped>\n",
       "    .dataframe tbody tr th:only-of-type {\n",
       "        vertical-align: middle;\n",
       "    }\n",
       "\n",
       "    .dataframe tbody tr th {\n",
       "        vertical-align: top;\n",
       "    }\n",
       "\n",
       "    .dataframe thead th {\n",
       "        text-align: right;\n",
       "    }\n",
       "</style>\n",
       "<table border=\"1\" class=\"dataframe\">\n",
       "  <thead>\n",
       "    <tr style=\"text-align: right;\">\n",
       "      <th></th>\n",
       "      <th>Day</th>\n",
       "      <th>Night</th>\n",
       "    </tr>\n",
       "  </thead>\n",
       "  <tbody>\n",
       "    <tr>\n",
       "      <th>0</th>\n",
       "      <td>2</td>\n",
       "      <td>2.0</td>\n",
       "    </tr>\n",
       "    <tr>\n",
       "      <th>1</th>\n",
       "      <td>4</td>\n",
       "      <td>2.0</td>\n",
       "    </tr>\n",
       "    <tr>\n",
       "      <th>2</th>\n",
       "      <td>2</td>\n",
       "      <td>2.0</td>\n",
       "    </tr>\n",
       "    <tr>\n",
       "      <th>3</th>\n",
       "      <td>4</td>\n",
       "      <td>4.0</td>\n",
       "    </tr>\n",
       "    <tr>\n",
       "      <th>4</th>\n",
       "      <td>1</td>\n",
       "      <td>3.0</td>\n",
       "    </tr>\n",
       "    <tr>\n",
       "      <th>...</th>\n",
       "      <td>...</td>\n",
       "      <td>...</td>\n",
       "    </tr>\n",
       "    <tr>\n",
       "      <th>177</th>\n",
       "      <td>3</td>\n",
       "      <td>NaN</td>\n",
       "    </tr>\n",
       "    <tr>\n",
       "      <th>178</th>\n",
       "      <td>4</td>\n",
       "      <td>NaN</td>\n",
       "    </tr>\n",
       "    <tr>\n",
       "      <th>179</th>\n",
       "      <td>4</td>\n",
       "      <td>NaN</td>\n",
       "    </tr>\n",
       "    <tr>\n",
       "      <th>180</th>\n",
       "      <td>3</td>\n",
       "      <td>NaN</td>\n",
       "    </tr>\n",
       "    <tr>\n",
       "      <th>181</th>\n",
       "      <td>3</td>\n",
       "      <td>NaN</td>\n",
       "    </tr>\n",
       "  </tbody>\n",
       "</table>\n",
       "<p>182 rows × 2 columns</p>\n",
       "</div>"
      ],
      "text/plain": [
       "     Day  Night\n",
       "0      2    2.0\n",
       "1      4    2.0\n",
       "2      2    2.0\n",
       "3      4    4.0\n",
       "4      1    3.0\n",
       "..   ...    ...\n",
       "177    3    NaN\n",
       "178    4    NaN\n",
       "179    4    NaN\n",
       "180    3    NaN\n",
       "181    3    NaN\n",
       "\n",
       "[182 rows x 2 columns]"
      ]
     },
     "execution_count": 5,
     "metadata": {},
     "output_type": "execute_result"
    }
   ],
   "source": [
    "#讀取資料集\n",
    "df_xr1916 = pd.read_excel('Xr19-16.xlsx')\n",
    "df_xr1916"
   ]
  },
  {
   "cell_type": "markdown",
   "metadata": {},
   "source": [
    "### p-value (or statistic value) (10%)"
   ]
  },
  {
   "cell_type": "code",
   "execution_count": 18,
   "metadata": {},
   "outputs": [
    {
     "data": {
      "text/plain": [
       "MannwhitneyuResult(statistic=15572.5, pvalue=0.392990186062222)"
      ]
     },
     "execution_count": 18,
     "metadata": {},
     "output_type": "execute_result"
    }
   ],
   "source": [
    "# Mann-Whitney U Test\n",
    "\n",
    "stats.mannwhitneyu(df_xr1916['Day'],df_xr1916['Night'].dropna(),alternative = 'two-sided')"
   ]
  },
  {
   "cell_type": "code",
   "execution_count": 4,
   "metadata": {},
   "outputs": [
    {
     "name": "stdout",
     "output_type": "stream",
     "text": [
      "T (Sum of Ranks) =  32225.5\n",
      "E(T) =  31486.0\n",
      "Sigma_T =  924.861971683703\n",
      "z value =  0.7995787724450891\n",
      "p-value =  0.4239548904136825\n"
     ]
    }
   ],
   "source": [
    "# Z-Test \n",
    "\n",
    "# 將所有數值放在一起排序\n",
    "tmp1=df_xr1916.values.reshape(-1)\n",
    "tmp1.sort()\n",
    "tmp1\n",
    "\n",
    "#做出Rank\n",
    "df_xr1916_2=pd.DataFrame({'value':tmp1})\n",
    "df_xr1916_2['rank'] = df_xr1916_2.index + 1\n",
    "df_xr1916_2.head(10)\n",
    "\n",
    "# 將同數值的Rank平均\n",
    "value2rank=df_xr1916_2.groupby('value').mean().reset_index()\n",
    "value2rank\n",
    "\n",
    "# Compute Sum of Ranks\n",
    "samp1=pd.DataFrame({'value': df_xr1916['Day'].values})\n",
    "samp1=pd.merge(samp1,value2rank)\n",
    "T=samp1['rank'].sum()\n",
    "\n",
    "#compute mean and standard deviation\n",
    "n1=df_xr1916['Day'].dropna().shape[0]\n",
    "n2=df_xr1916['Night'].dropna().shape[0]\n",
    "ET=n1*(n1+n2+1)/2 \n",
    "SigmaT=(n1*n2*(n1+n2+1)/12) ** 0.5\n",
    "z=(T-ET)/SigmaT\n",
    "\n",
    "#compute p-value\n",
    "#note that we are doing a two-tailed test\n",
    "pvalue = 1 - stats.norm.cdf(z)\n",
    "if pvalue > 0.5:\n",
    "    pvalue = stats.norm.cdf(z)\n",
    "pvalue = pvalue * 2\n",
    "\n",
    "print(\"T (Sum of Ranks) = \", T)\n",
    "print(\"E(T) = \", ET)\n",
    "print(\"Sigma_T = \", SigmaT)\n",
    "print(\"z value = \", z)\n",
    "print(\"p-value = \", pvalue)"
   ]
  },
  {
   "cell_type": "markdown",
   "metadata": {},
   "source": [
    "### interpretation (10%)  \n",
    "P-value=0.4240 (>0.05)  \n",
    "Cannot reject H0  \n",
    "There is not enough evidence to infer that the night and day shifts rate the service differently.  \n",
    "## Exercise 19.45  \n",
    "### hypothesis (10%)  \n",
    "H0: The two population locations are the same  \n",
    "H1: The location of population 1 is to the right of the location of population 2  \n",
    "population 1: European car  \n",
    "population 2: North American car  "
   ]
  },
  {
   "cell_type": "code",
   "execution_count": 6,
   "metadata": {},
   "outputs": [
    {
     "data": {
      "text/html": [
       "<div>\n",
       "<style scoped>\n",
       "    .dataframe tbody tr th:only-of-type {\n",
       "        vertical-align: middle;\n",
       "    }\n",
       "\n",
       "    .dataframe tbody tr th {\n",
       "        vertical-align: top;\n",
       "    }\n",
       "\n",
       "    .dataframe thead th {\n",
       "        text-align: right;\n",
       "    }\n",
       "</style>\n",
       "<table border=\"1\" class=\"dataframe\">\n",
       "  <thead>\n",
       "    <tr style=\"text-align: right;\">\n",
       "      <th></th>\n",
       "      <th>European</th>\n",
       "      <th>American</th>\n",
       "    </tr>\n",
       "  </thead>\n",
       "  <tbody>\n",
       "    <tr>\n",
       "      <th>0</th>\n",
       "      <td>28</td>\n",
       "      <td>53</td>\n",
       "    </tr>\n",
       "    <tr>\n",
       "      <th>1</th>\n",
       "      <td>24</td>\n",
       "      <td>6</td>\n",
       "    </tr>\n",
       "    <tr>\n",
       "      <th>2</th>\n",
       "      <td>95</td>\n",
       "      <td>53</td>\n",
       "    </tr>\n",
       "    <tr>\n",
       "      <th>3</th>\n",
       "      <td>28</td>\n",
       "      <td>24</td>\n",
       "    </tr>\n",
       "    <tr>\n",
       "      <th>4</th>\n",
       "      <td>24</td>\n",
       "      <td>6</td>\n",
       "    </tr>\n",
       "    <tr>\n",
       "      <th>5</th>\n",
       "      <td>95</td>\n",
       "      <td>28</td>\n",
       "    </tr>\n",
       "    <tr>\n",
       "      <th>6</th>\n",
       "      <td>24</td>\n",
       "      <td>28</td>\n",
       "    </tr>\n",
       "    <tr>\n",
       "      <th>7</th>\n",
       "      <td>53</td>\n",
       "      <td>24</td>\n",
       "    </tr>\n",
       "    <tr>\n",
       "      <th>8</th>\n",
       "      <td>53</td>\n",
       "      <td>24</td>\n",
       "    </tr>\n",
       "    <tr>\n",
       "      <th>9</th>\n",
       "      <td>24</td>\n",
       "      <td>24</td>\n",
       "    </tr>\n",
       "    <tr>\n",
       "      <th>10</th>\n",
       "      <td>24</td>\n",
       "      <td>6</td>\n",
       "    </tr>\n",
       "    <tr>\n",
       "      <th>11</th>\n",
       "      <td>28</td>\n",
       "      <td>53</td>\n",
       "    </tr>\n",
       "    <tr>\n",
       "      <th>12</th>\n",
       "      <td>24</td>\n",
       "      <td>6</td>\n",
       "    </tr>\n",
       "    <tr>\n",
       "      <th>13</th>\n",
       "      <td>28</td>\n",
       "      <td>53</td>\n",
       "    </tr>\n",
       "    <tr>\n",
       "      <th>14</th>\n",
       "      <td>24</td>\n",
       "      <td>6</td>\n",
       "    </tr>\n",
       "    <tr>\n",
       "      <th>15</th>\n",
       "      <td>53</td>\n",
       "      <td>28</td>\n",
       "    </tr>\n",
       "    <tr>\n",
       "      <th>16</th>\n",
       "      <td>95</td>\n",
       "      <td>53</td>\n",
       "    </tr>\n",
       "    <tr>\n",
       "      <th>17</th>\n",
       "      <td>24</td>\n",
       "      <td>28</td>\n",
       "    </tr>\n",
       "    <tr>\n",
       "      <th>18</th>\n",
       "      <td>95</td>\n",
       "      <td>53</td>\n",
       "    </tr>\n",
       "    <tr>\n",
       "      <th>19</th>\n",
       "      <td>28</td>\n",
       "      <td>6</td>\n",
       "    </tr>\n",
       "    <tr>\n",
       "      <th>20</th>\n",
       "      <td>53</td>\n",
       "      <td>24</td>\n",
       "    </tr>\n",
       "    <tr>\n",
       "      <th>21</th>\n",
       "      <td>28</td>\n",
       "      <td>28</td>\n",
       "    </tr>\n",
       "    <tr>\n",
       "      <th>22</th>\n",
       "      <td>28</td>\n",
       "      <td>53</td>\n",
       "    </tr>\n",
       "    <tr>\n",
       "      <th>23</th>\n",
       "      <td>95</td>\n",
       "      <td>24</td>\n",
       "    </tr>\n",
       "    <tr>\n",
       "      <th>24</th>\n",
       "      <td>95</td>\n",
       "      <td>28</td>\n",
       "    </tr>\n",
       "  </tbody>\n",
       "</table>\n",
       "</div>"
      ],
      "text/plain": [
       "    European  American\n",
       "0         28        53\n",
       "1         24         6\n",
       "2         95        53\n",
       "3         28        24\n",
       "4         24         6\n",
       "5         95        28\n",
       "6         24        28\n",
       "7         53        24\n",
       "8         53        24\n",
       "9         24        24\n",
       "10        24         6\n",
       "11        28        53\n",
       "12        24         6\n",
       "13        28        53\n",
       "14        24         6\n",
       "15        53        28\n",
       "16        95        53\n",
       "17        24        28\n",
       "18        95        53\n",
       "19        28         6\n",
       "20        53        24\n",
       "21        28        28\n",
       "22        28        53\n",
       "23        95        24\n",
       "24        95        28"
      ]
     },
     "execution_count": 6,
     "metadata": {},
     "output_type": "execute_result"
    }
   ],
   "source": [
    "#讀取資料集\n",
    "df_xr1945 = pd.read_excel('Xr19-45.xlsx')\n",
    "df_xr1945"
   ]
  },
  {
   "cell_type": "code",
   "execution_count": 28,
   "metadata": {},
   "outputs": [
    {
     "data": {
      "text/plain": [
       "array([-25,  18,  42,   4,  18,  67,  -4,  29,  29,  18, -25,  18, -25,\n",
       "        18,  25,  42,  -4,  42,  22,  29, -25,  71,  67])"
      ]
     },
     "execution_count": 28,
     "metadata": {},
     "output_type": "execute_result"
    }
   ],
   "source": [
    "df_xr1945['diff']=df_xr1945['European']-df_xr1945['American']\n",
    "ind1=~(df_xr1945['diff'] == 0)\n",
    "diff1=df_xr1945['diff'][ind1].values\n",
    "diff1"
   ]
  },
  {
   "cell_type": "code",
   "execution_count": 9,
   "metadata": {},
   "outputs": [
    {
     "name": "stdout",
     "output_type": "stream",
     "text": [
      "z value =  2.2936585546278225\n",
      "p-value =  0.010905059571861164\n"
     ]
    }
   ],
   "source": [
    "# The Sign Test\n",
    "x=np.sum(diff1>0)\n",
    "n=np.size(diff1)\n",
    "p=0.5\n",
    "z=(x-n*p)/(n*p*(1-p))**0.5\n",
    "\n",
    "#Right tail test\n",
    "pvalue = 1 - stats.norm.cdf(z)\n",
    "\n",
    "print(\"z value = \", z)\n",
    "print(\"p-value = \", pvalue)"
   ]
  },
  {
   "cell_type": "code",
   "execution_count": 40,
   "metadata": {},
   "outputs": [],
   "source": [
    "df_test = df_xr1945[df_xr1945['European']!= df_xr1945['American']].reset_index()"
   ]
  },
  {
   "cell_type": "code",
   "execution_count": 32,
   "metadata": {},
   "outputs": [
    {
     "data": {
      "text/plain": [
       "WilcoxonResult(statistic=224.0, pvalue=0.0037260055541992188)"
      ]
     },
     "execution_count": 32,
     "metadata": {},
     "output_type": "execute_result"
    }
   ],
   "source": [
    "stats.wilcoxon(df_test['European'], df_test['American'], alternative='greater')"
   ]
  },
  {
   "cell_type": "code",
   "execution_count": 39,
   "metadata": {},
   "outputs": [
    {
     "data": {
      "text/plain": [
       "WilcoxonResult(statistic=224.0, pvalue=0.004348529900383603)"
      ]
     },
     "execution_count": 39,
     "metadata": {},
     "output_type": "execute_result"
    }
   ],
   "source": [
    "# Wilcoxon Signed-Rank Test\n",
    "stats.wilcoxon(df_xr1945['European'], df_xr1945['American'], alternative='greater')"
   ]
  },
  {
   "cell_type": "code",
   "execution_count": 29,
   "metadata": {},
   "outputs": [
    {
     "name": "stdout",
     "output_type": "stream",
     "text": [
      "T (Sum of Ranks) = 224.0000\n",
      "E(T) = 138.0000\n",
      "Sigma_T = 32.8786\n",
      "z value = 2.6157\n",
      "p-value = 0.0045\n"
     ]
    }
   ],
   "source": [
    "# z-test\n",
    "diff1_abs = np.abs(diff1)\n",
    "diff1_abs.sort()\n",
    "diff1_abs = pd.DataFrame({'diff_abs': diff1_abs})\n",
    "diff1_abs['rank'] = diff1_abs.index + 1\n",
    "diffabs2rank = diff1_abs.groupby('diff_abs').mean().reset_index()\n",
    "\n",
    "sum1 = pd.DataFrame({'diff': diff1, 'diff_abs': np.abs(diff1)})\n",
    "sum1 = pd.merge(sum1, diffabs2rank)\n",
    "ind2 = sum1['diff'].values > 0\n",
    "T = sum1['rank'][ind2].sum()\n",
    "\n",
    "n = sum1.shape[0]\n",
    "ET = n*(n + 1) / 4 \n",
    "SigmaT = (n*(n + 1) * (2 * n + 1) / 24) ** 0.5\n",
    "\n",
    "z = (T - ET) / SigmaT\n",
    "# Right tail test\n",
    "pvalue = 1 - stats.norm.cdf(z)\n",
    "\n",
    "print(f\"T (Sum of Ranks) = {T:.4f}\")\n",
    "print(f\"E(T) = {ET:.4f}\")\n",
    "print(f\"Sigma_T = {SigmaT:.4f}\")\n",
    "print(f\"z value = {z:.4f}\")\n",
    "print(f\"p-value = {pvalue:.4f}\")"
   ]
  },
  {
   "cell_type": "markdown",
   "metadata": {},
   "source": [
    "### a. (10%)  \n",
    "P-value=0.0109 (<0.05)  \n",
    "Reject H0  \n",
    "There is enough evidence to infer that the European car is perceived to be more comfortable.  \n",
    "### b. (10%)  \n",
    "The results are identical. In sign test, we only care about the sign of the difference. Therefore, all codes that preserve the order produce the same results.\n",
    "## Exercise 19.56  \n",
    "### hypothesis (10%)  \n",
    "H0: The two population locations are the same  \n",
    "H1: The location of population 1 is to the right of the location of population 2  \n",
    "population 1: Grades of students from High School 1  \n",
    "population 2: Grades of students from High School 2"
   ]
  },
  {
   "cell_type": "code",
   "execution_count": 19,
   "metadata": {},
   "outputs": [
    {
     "data": {
      "text/html": [
       "<div>\n",
       "<style scoped>\n",
       "    .dataframe tbody tr th:only-of-type {\n",
       "        vertical-align: middle;\n",
       "    }\n",
       "\n",
       "    .dataframe tbody tr th {\n",
       "        vertical-align: top;\n",
       "    }\n",
       "\n",
       "    .dataframe thead th {\n",
       "        text-align: right;\n",
       "    }\n",
       "</style>\n",
       "<table border=\"1\" class=\"dataframe\">\n",
       "  <thead>\n",
       "    <tr style=\"text-align: right;\">\n",
       "      <th></th>\n",
       "      <th>High School 1</th>\n",
       "      <th>High School 2</th>\n",
       "    </tr>\n",
       "  </thead>\n",
       "  <tbody>\n",
       "    <tr>\n",
       "      <th>0</th>\n",
       "      <td>2</td>\n",
       "      <td>3</td>\n",
       "    </tr>\n",
       "    <tr>\n",
       "      <th>1</th>\n",
       "      <td>4</td>\n",
       "      <td>3</td>\n",
       "    </tr>\n",
       "    <tr>\n",
       "      <th>2</th>\n",
       "      <td>3</td>\n",
       "      <td>2</td>\n",
       "    </tr>\n",
       "    <tr>\n",
       "      <th>3</th>\n",
       "      <td>3</td>\n",
       "      <td>3</td>\n",
       "    </tr>\n",
       "    <tr>\n",
       "      <th>4</th>\n",
       "      <td>3</td>\n",
       "      <td>3</td>\n",
       "    </tr>\n",
       "    <tr>\n",
       "      <th>...</th>\n",
       "      <td>...</td>\n",
       "      <td>...</td>\n",
       "    </tr>\n",
       "    <tr>\n",
       "      <th>95</th>\n",
       "      <td>4</td>\n",
       "      <td>4</td>\n",
       "    </tr>\n",
       "    <tr>\n",
       "      <th>96</th>\n",
       "      <td>2</td>\n",
       "      <td>1</td>\n",
       "    </tr>\n",
       "    <tr>\n",
       "      <th>97</th>\n",
       "      <td>3</td>\n",
       "      <td>3</td>\n",
       "    </tr>\n",
       "    <tr>\n",
       "      <th>98</th>\n",
       "      <td>2</td>\n",
       "      <td>3</td>\n",
       "    </tr>\n",
       "    <tr>\n",
       "      <th>99</th>\n",
       "      <td>1</td>\n",
       "      <td>1</td>\n",
       "    </tr>\n",
       "  </tbody>\n",
       "</table>\n",
       "<p>100 rows × 2 columns</p>\n",
       "</div>"
      ],
      "text/plain": [
       "    High School 1  High School 2\n",
       "0               2              3\n",
       "1               4              3\n",
       "2               3              2\n",
       "3               3              3\n",
       "4               3              3\n",
       "..            ...            ...\n",
       "95              4              4\n",
       "96              2              1\n",
       "97              3              3\n",
       "98              2              3\n",
       "99              1              1\n",
       "\n",
       "[100 rows x 2 columns]"
      ]
     },
     "execution_count": 19,
     "metadata": {},
     "output_type": "execute_result"
    }
   ],
   "source": [
    "#讀取資料集\n",
    "df_xr1956 = pd.read_excel('Xr19-56.xlsx')\n",
    "df_xr1956"
   ]
  },
  {
   "cell_type": "code",
   "execution_count": 20,
   "metadata": {},
   "outputs": [
    {
     "data": {
      "text/plain": [
       "array([-1,  1,  1, -1, -1, -1,  1,  1,  1, -1,  1, -2,  1,  1, -1, -1,  1,\n",
       "        1,  1,  1,  1,  1,  1,  1,  1,  1,  1, -1,  1,  1, -1,  1, -1, -1,\n",
       "        1, -1,  1, -1, -1,  1, -1, -1, -1,  1,  1, -1,  1, -1,  1,  1,  1,\n",
       "        1, -1])"
      ]
     },
     "execution_count": 20,
     "metadata": {},
     "output_type": "execute_result"
    }
   ],
   "source": [
    "df_xr1956['diff']=df_xr1956['High School 1']-df_xr1956['High School 2']\n",
    "ind1=~(df_xr1956['diff'] == 0)\n",
    "diff1=df_xr1956['diff'][ind1].values\n",
    "diff1"
   ]
  },
  {
   "cell_type": "markdown",
   "metadata": {},
   "source": [
    "### p-value (or statistic value) (10%)"
   ]
  },
  {
   "cell_type": "code",
   "execution_count": 21,
   "metadata": {},
   "outputs": [
    {
     "name": "stdout",
     "output_type": "stream",
     "text": [
      "z value =  1.5109662034355793\n",
      "p-value =  0.06539853090342929\n"
     ]
    }
   ],
   "source": [
    "# The Sign Test\n",
    "\n",
    "x=np.sum(diff1>0)\n",
    "n=np.size(diff1)\n",
    "p=0.5\n",
    "z=(x-n*p)/(n*p*(1-p))**0.5\n",
    "\n",
    "#Right tail test\n",
    "pvalue = 1 - stats.norm.cdf(z)\n",
    "\n",
    "print(\"z value = \", z)\n",
    "print(\"p-value = \", pvalue)"
   ]
  },
  {
   "cell_type": "code",
   "execution_count": 22,
   "metadata": {},
   "outputs": [
    {
     "data": {
      "text/plain": [
       "WilcoxonResult(statistic=848.0, pvalue=0.09072460386071024)"
      ]
     },
     "execution_count": 22,
     "metadata": {},
     "output_type": "execute_result"
    }
   ],
   "source": [
    "# Wilcoxon Signed-Rank Test\n",
    "stats.wilcoxon(df_xr1956['High School 1'], df_xr1956['High School 2'], alternative='greater')"
   ]
  },
  {
   "cell_type": "code",
   "execution_count": 23,
   "metadata": {},
   "outputs": [
    {
     "name": "stdout",
     "output_type": "stream",
     "text": [
      "T (Sum of Ranks) = 848.0000\n",
      "E(T) = 715.5000\n",
      "Sigma_T = 112.9591\n",
      "z value = 1.1730\n",
      "p-value = 0.1204\n"
     ]
    }
   ],
   "source": [
    "# z-test\n",
    "diff1_abs = np.abs(diff1)\n",
    "diff1_abs.sort()\n",
    "diff1_abs = pd.DataFrame({'diff_abs': diff1_abs})\n",
    "diff1_abs['rank'] = diff1_abs.index + 1\n",
    "diffabs2rank = diff1_abs.groupby('diff_abs').mean().reset_index()\n",
    "\n",
    "sum1 = pd.DataFrame({'diff': diff1, 'diff_abs': np.abs(diff1)})\n",
    "sum1 = pd.merge(sum1, diffabs2rank)\n",
    "ind2 = sum1['diff'].values > 0\n",
    "T = sum1['rank'][ind2].sum()\n",
    "\n",
    "n = sum1.shape[0]\n",
    "ET = n*(n + 1) / 4 \n",
    "SigmaT = (n*(n + 1) * (2 * n + 1) / 24) ** 0.5\n",
    "\n",
    "z = (T - ET) / SigmaT\n",
    "# Right tail test\n",
    "pvalue = 1 - stats.norm.cdf(z)\n",
    "\n",
    "print(f\"T (Sum of Ranks) = {T:.4f}\")\n",
    "print(f\"E(T) = {ET:.4f}\")\n",
    "print(f\"Sigma_T = {SigmaT:.4f}\")\n",
    "print(f\"z value = {z:.4f}\")\n",
    "print(f\"p-value = {pvalue:.4f}\")"
   ]
  },
  {
   "cell_type": "markdown",
   "metadata": {},
   "source": [
    "### interpretation (10%)  \n",
    "P-value=0.0654 (>0.05)  \n",
    "Cannot reject H0  \n",
    "There is not enough evidence to infer that preference should be given to students for high school 1."
   ]
  },
  {
   "cell_type": "code",
   "execution_count": null,
   "metadata": {},
   "outputs": [],
   "source": []
  }
 ],
 "metadata": {
  "kernelspec": {
   "display_name": "Python 3",
   "language": "python",
   "name": "python3"
  },
  "language_info": {
   "codemirror_mode": {
    "name": "ipython",
    "version": 3
   },
   "file_extension": ".py",
   "mimetype": "text/x-python",
   "name": "python",
   "nbconvert_exporter": "python",
   "pygments_lexer": "ipython3",
   "version": "3.8.5"
  }
 },
 "nbformat": 4,
 "nbformat_minor": 4
}
