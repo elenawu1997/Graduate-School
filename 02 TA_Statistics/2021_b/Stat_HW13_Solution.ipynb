{
 "cells": [
  {
   "cell_type": "code",
   "execution_count": 1,
   "metadata": {},
   "outputs": [],
   "source": [
    "#載入所需函示庫\n",
    "\n",
    "#載入所需函示庫\n",
    "from matplotlib import pyplot as plt\n",
    "%matplotlib inline\n",
    "# 設定圖形大小; DPI越大圖越大\n",
    "plt.rcParams[\"figure.dpi\"] = 60\n",
    "import seaborn as sns\n",
    "import pandas as pd\n",
    "import numpy as np\n",
    "import scipy.stats as stats\n",
    "import statsmodels.api as sm\n",
    "import statsmodels.stats.api as sms\n",
    "import statsmodels.formula.api as smf\n",
    "import statsmodels.stats.multicomp as smm\n",
    "import statsmodels.stats.outliers_influence as sso\n",
    "import statsmodels\n",
    "import statistics\n",
    "import math\n",
    "\n",
    "import warnings\n",
    "warnings.filterwarnings(\"ignore\")"
   ]
  },
  {
   "cell_type": "code",
   "execution_count": 2,
   "metadata": {},
   "outputs": [],
   "source": [
    "def SI_MA(y_v, n):\n",
    "    y_v_MA_a = np.zeros(len(y_v))\n",
    "    y_v_MA_a[:] = np.nan\n",
    "    mvlen = n\n",
    "    if n % 2 == 0:\n",
    "        halfwin = int(mvlen / 2)\n",
    "        y_v_MA_ta = np.zeros(len(y_v))\n",
    "        for i in range(halfwin, len(y_v) - halfwin + 1):\n",
    "            y_v_MA_ta[i] = np.mean(y_v[(i-halfwin): (i+halfwin)])\n",
    "        for ii in range(halfwin, len(y_v) - halfwin):\n",
    "            y_v_MA_a[ii] = np.mean(y_v_MA_ta[(ii): (ii+2)])\n",
    "    else:\n",
    "        halfwin = int((mvlen - 1) / 2)\n",
    "        for i in range(halfwin, len(y_v) - halfwin):\n",
    "            y_v_MA_a[i] = np.mean(y_v[(i-halfwin): (i+halfwin+1)])\n",
    "    SI_MA_a = np.zeros(len(y_v))\n",
    "    SI_MA_a[:] = np.nan\n",
    "    SI_MA_a = y_v / y_v_MA_a    \n",
    "    SI_id_s = np.arange(1,len(y_v)+1)\n",
    "    SI_id = SI_id_s - np.floor(SI_id_s / n) * n\n",
    "    SI_id[np.where((SI_id[:] == 0))] = n\n",
    "    SI_MA_a_df = pd.DataFrame({'SIMA': SI_MA_a, 'SIid': SI_id})\n",
    "    SI_MA_u = np.zeros(n)\n",
    "    for j in range(1,n+1):\n",
    "        SI_MA_u[j-1] = SI_MA_a_df['SIMA'][SI_MA_a_df['SIid'] == j].dropna().mean()  \n",
    "    SI_MA = SI_MA_u / sum(SI_MA_u) * n\n",
    "    print('Seasonal Index:', SI_MA)  \n",
    "    y_v_SI_MA = np.zeros(len(y_v))\n",
    "    DSI_y_v = np.zeros(len(y_v))\n",
    "    for k in range(0,len(y_v)):\n",
    "        Idd = int(SI_MA_a_df['SIid'][k] - 1)\n",
    "        y_v_SI_MA[k] = SI_MA[Idd]\n",
    "        DSI_y_v[k] = y_v[k] / SI_MA[Idd]\n",
    "    print('Deseasonalized Data:', DSI_y_v)\n",
    "    SI_MA_result_a = np.array([SI_MA_a_df['SIid'], y_v_SI_MA, y_v, DSI_y_v])\n",
    "    SI_MA_result_df = pd.DataFrame(SI_MA_result_a.T, columns = ['SID', 'SeaIdx', 'orig', 'Des_D'])\n",
    "    return {\"ma_ind\":SI_MA, \"SI_MA_res\":SI_MA_result_df}"
   ]
  },
  {
   "cell_type": "code",
   "execution_count": 3,
   "metadata": {},
   "outputs": [],
   "source": [
    "def SI_LR(y_v, n):\n",
    "    y_data = y_v\n",
    "    X_data_ar = np.arange(1, len(y_v)+1)\n",
    "    X_data_T = X_data_ar.T\n",
    "    X_data = pd.DataFrame(X_data_T,columns = ['Time'])\n",
    "    X_data = sm.add_constant(X_data)\n",
    "    olsmod = sm.OLS(y_data, X_data)\n",
    "    result_reg = olsmod.fit()\n",
    "    st, data, ss2 = sso.summary_table(result_reg, alpha=0.05)\n",
    "    y_v_LR_a = data[:, 2]\n",
    "    SI_LR_a = y_v / y_v_LR_a\n",
    "    SI_id_s = np.arange(1,len(y_v)+1)\n",
    "    SI_id = SI_id_s - np.floor(SI_id_s / n) * n\n",
    "    SI_id[np.where((SI_id[:] == 0))] = n\n",
    "    SI_LR_a_df = pd.DataFrame({'SILR': SI_LR_a, 'SIid': SI_id})\n",
    "    SI_LR_u = np.zeros(n)\n",
    "    for j in range(1,n+1):\n",
    "        SI_LR_u[j-1] = SI_LR_a_df['SILR'][SI_LR_a_df['SIid'] == j].dropna().mean()\n",
    "    SI_LR = SI_LR_u / sum(SI_LR_u) * n\n",
    "    print('Seasonal Index:', SI_LR)\n",
    "    print('\\n')\n",
    "    y_v_SI_LR = np.zeros(len(y_v))\n",
    "    DSI_y_v = np.zeros(len(y_v))\n",
    "    for k in range(0,len(y_v)):\n",
    "        Idd = int(SI_LR_a_df['SIid'][k] - 1)\n",
    "        y_v_SI_LR[k] = SI_LR[Idd]\n",
    "        DSI_y_v[k] = y_v[k] / SI_LR[Idd]\n",
    "    print('Deseasonalized Data:', DSI_y_v)\n",
    "    SI_LR_result_a = np.array([SI_LR_a_df['SIid'], y_v_SI_LR, y_v, DSI_y_v])\n",
    "    SI_LR_result_df = pd.DataFrame(SI_LR_result_a.T, columns = ['SID', 'SeaIdx', 'orig', 'Des_D'])\n",
    "    return {\"LR_ind\":SI_LR, \"SI_LR_res\":SI_LR_result_df}"
   ]
  },
  {
   "cell_type": "code",
   "execution_count": 4,
   "metadata": {},
   "outputs": [],
   "source": [
    "def ErrMetrix(y_v, f_v):\n",
    "    y_v_n = pd.DataFrame({'orig': y_v})\n",
    "    f_v_n = pd.DataFrame({'forecast': f_v})\n",
    "    err1 = (y_v_n['orig'] - f_v_n['forecast']).dropna().values\n",
    "    err1p = ((y_v_n['orig'] - f_v_n['forecast'])/ y_v_n['orig']).dropna().values\n",
    "    MAD = round(np.absolute(err1).mean(),6)\n",
    "    MSE = round(np.mean(err1 * err1),6)\n",
    "    RMSE = round(np.sqrt(np.mean(err1 * err1)),6)\n",
    "    MAPE = round(np.absolute(err1p).mean() * 100, 6)\n",
    "    print(\"MAD = \", MAD)\n",
    "    print(\"MSE = \", MSE)\n",
    "    print(\"RMSE = \", RMSE)\n",
    "    print(\"MAPE = \", MAPE, \"%\")\n",
    "    return MAD, MSE, RMSE, MAPE"
   ]
  },
  {
   "cell_type": "code",
   "execution_count": 5,
   "metadata": {},
   "outputs": [
    {
     "name": "stdout",
     "output_type": "stream",
     "text": [
      "Head of dataset:\n"
     ]
    },
    {
     "data": {
      "text/html": [
       "<div>\n",
       "<style scoped>\n",
       "    .dataframe tbody tr th:only-of-type {\n",
       "        vertical-align: middle;\n",
       "    }\n",
       "\n",
       "    .dataframe tbody tr th {\n",
       "        vertical-align: top;\n",
       "    }\n",
       "\n",
       "    .dataframe thead th {\n",
       "        text-align: right;\n",
       "    }\n",
       "</style>\n",
       "<table border=\"1\" class=\"dataframe\">\n",
       "  <thead>\n",
       "    <tr style=\"text-align: right;\">\n",
       "      <th></th>\n",
       "      <th>Year</th>\n",
       "      <th>Quarter</th>\n",
       "      <th>Sales</th>\n",
       "    </tr>\n",
       "  </thead>\n",
       "  <tbody>\n",
       "    <tr>\n",
       "      <th>0</th>\n",
       "      <td>2013</td>\n",
       "      <td>1</td>\n",
       "      <td>18</td>\n",
       "    </tr>\n",
       "    <tr>\n",
       "      <th>1</th>\n",
       "      <td>2013</td>\n",
       "      <td>2</td>\n",
       "      <td>22</td>\n",
       "    </tr>\n",
       "    <tr>\n",
       "      <th>2</th>\n",
       "      <td>2013</td>\n",
       "      <td>3</td>\n",
       "      <td>27</td>\n",
       "    </tr>\n",
       "    <tr>\n",
       "      <th>3</th>\n",
       "      <td>2013</td>\n",
       "      <td>4</td>\n",
       "      <td>31</td>\n",
       "    </tr>\n",
       "    <tr>\n",
       "      <th>4</th>\n",
       "      <td>2014</td>\n",
       "      <td>1</td>\n",
       "      <td>33</td>\n",
       "    </tr>\n",
       "  </tbody>\n",
       "</table>\n",
       "</div>"
      ],
      "text/plain": [
       "   Year  Quarter  Sales\n",
       "0  2013        1     18\n",
       "1  2013        2     22\n",
       "2  2013        3     27\n",
       "3  2013        4     31\n",
       "4  2014        1     33"
      ]
     },
     "metadata": {},
     "output_type": "display_data"
    },
    {
     "name": "stdout",
     "output_type": "stream",
     "text": [
      "Tail of dataset:\n"
     ]
    },
    {
     "data": {
      "text/html": [
       "<div>\n",
       "<style scoped>\n",
       "    .dataframe tbody tr th:only-of-type {\n",
       "        vertical-align: middle;\n",
       "    }\n",
       "\n",
       "    .dataframe tbody tr th {\n",
       "        vertical-align: top;\n",
       "    }\n",
       "\n",
       "    .dataframe thead th {\n",
       "        text-align: right;\n",
       "    }\n",
       "</style>\n",
       "<table border=\"1\" class=\"dataframe\">\n",
       "  <thead>\n",
       "    <tr style=\"text-align: right;\">\n",
       "      <th></th>\n",
       "      <th>Year</th>\n",
       "      <th>Quarter</th>\n",
       "      <th>Sales</th>\n",
       "    </tr>\n",
       "  </thead>\n",
       "  <tbody>\n",
       "    <tr>\n",
       "      <th>11</th>\n",
       "      <td>2015</td>\n",
       "      <td>4</td>\n",
       "      <td>29</td>\n",
       "    </tr>\n",
       "    <tr>\n",
       "      <th>12</th>\n",
       "      <td>2016</td>\n",
       "      <td>1</td>\n",
       "      <td>41</td>\n",
       "    </tr>\n",
       "    <tr>\n",
       "      <th>13</th>\n",
       "      <td>2016</td>\n",
       "      <td>2</td>\n",
       "      <td>33</td>\n",
       "    </tr>\n",
       "    <tr>\n",
       "      <th>14</th>\n",
       "      <td>2016</td>\n",
       "      <td>3</td>\n",
       "      <td>52</td>\n",
       "    </tr>\n",
       "    <tr>\n",
       "      <th>15</th>\n",
       "      <td>2016</td>\n",
       "      <td>4</td>\n",
       "      <td>45</td>\n",
       "    </tr>\n",
       "  </tbody>\n",
       "</table>\n",
       "</div>"
      ],
      "text/plain": [
       "    Year  Quarter  Sales\n",
       "11  2015        4     29\n",
       "12  2016        1     41\n",
       "13  2016        2     33\n",
       "14  2016        3     52\n",
       "15  2016        4     45"
      ]
     },
     "metadata": {},
     "output_type": "display_data"
    }
   ],
   "source": [
    "df = pd.read_excel('Xr20-15.xlsx')\n",
    "print('Head of dataset:')\n",
    "display(df.head())\n",
    "print(\"Tail of dataset:\")\n",
    "display(df.tail())"
   ]
  },
  {
   "cell_type": "code",
   "execution_count": 6,
   "metadata": {},
   "outputs": [
    {
     "name": "stdout",
     "output_type": "stream",
     "text": [
      "Head of dataset:\n"
     ]
    },
    {
     "data": {
      "text/html": [
       "<div>\n",
       "<style scoped>\n",
       "    .dataframe tbody tr th:only-of-type {\n",
       "        vertical-align: middle;\n",
       "    }\n",
       "\n",
       "    .dataframe tbody tr th {\n",
       "        vertical-align: top;\n",
       "    }\n",
       "\n",
       "    .dataframe thead th {\n",
       "        text-align: right;\n",
       "    }\n",
       "</style>\n",
       "<table border=\"1\" class=\"dataframe\">\n",
       "  <thead>\n",
       "    <tr style=\"text-align: right;\">\n",
       "      <th></th>\n",
       "      <th>Year</th>\n",
       "      <th>Quarter</th>\n",
       "      <th>Sales</th>\n",
       "      <th>t</th>\n",
       "    </tr>\n",
       "  </thead>\n",
       "  <tbody>\n",
       "    <tr>\n",
       "      <th>0</th>\n",
       "      <td>2013</td>\n",
       "      <td>1</td>\n",
       "      <td>18</td>\n",
       "      <td>0</td>\n",
       "    </tr>\n",
       "    <tr>\n",
       "      <th>1</th>\n",
       "      <td>2013</td>\n",
       "      <td>2</td>\n",
       "      <td>22</td>\n",
       "      <td>1</td>\n",
       "    </tr>\n",
       "    <tr>\n",
       "      <th>2</th>\n",
       "      <td>2013</td>\n",
       "      <td>3</td>\n",
       "      <td>27</td>\n",
       "      <td>2</td>\n",
       "    </tr>\n",
       "    <tr>\n",
       "      <th>3</th>\n",
       "      <td>2013</td>\n",
       "      <td>4</td>\n",
       "      <td>31</td>\n",
       "      <td>3</td>\n",
       "    </tr>\n",
       "    <tr>\n",
       "      <th>4</th>\n",
       "      <td>2014</td>\n",
       "      <td>1</td>\n",
       "      <td>33</td>\n",
       "      <td>4</td>\n",
       "    </tr>\n",
       "  </tbody>\n",
       "</table>\n",
       "</div>"
      ],
      "text/plain": [
       "   Year  Quarter  Sales  t\n",
       "0  2013        1     18  0\n",
       "1  2013        2     22  1\n",
       "2  2013        3     27  2\n",
       "3  2013        4     31  3\n",
       "4  2014        1     33  4"
      ]
     },
     "metadata": {},
     "output_type": "display_data"
    },
    {
     "name": "stdout",
     "output_type": "stream",
     "text": [
      "Tail of dataset:\n"
     ]
    },
    {
     "data": {
      "text/html": [
       "<div>\n",
       "<style scoped>\n",
       "    .dataframe tbody tr th:only-of-type {\n",
       "        vertical-align: middle;\n",
       "    }\n",
       "\n",
       "    .dataframe tbody tr th {\n",
       "        vertical-align: top;\n",
       "    }\n",
       "\n",
       "    .dataframe thead th {\n",
       "        text-align: right;\n",
       "    }\n",
       "</style>\n",
       "<table border=\"1\" class=\"dataframe\">\n",
       "  <thead>\n",
       "    <tr style=\"text-align: right;\">\n",
       "      <th></th>\n",
       "      <th>Year</th>\n",
       "      <th>Quarter</th>\n",
       "      <th>Sales</th>\n",
       "      <th>t</th>\n",
       "    </tr>\n",
       "  </thead>\n",
       "  <tbody>\n",
       "    <tr>\n",
       "      <th>11</th>\n",
       "      <td>2015</td>\n",
       "      <td>4</td>\n",
       "      <td>29</td>\n",
       "      <td>11</td>\n",
       "    </tr>\n",
       "    <tr>\n",
       "      <th>12</th>\n",
       "      <td>2016</td>\n",
       "      <td>1</td>\n",
       "      <td>41</td>\n",
       "      <td>12</td>\n",
       "    </tr>\n",
       "    <tr>\n",
       "      <th>13</th>\n",
       "      <td>2016</td>\n",
       "      <td>2</td>\n",
       "      <td>33</td>\n",
       "      <td>13</td>\n",
       "    </tr>\n",
       "    <tr>\n",
       "      <th>14</th>\n",
       "      <td>2016</td>\n",
       "      <td>3</td>\n",
       "      <td>52</td>\n",
       "      <td>14</td>\n",
       "    </tr>\n",
       "    <tr>\n",
       "      <th>15</th>\n",
       "      <td>2016</td>\n",
       "      <td>4</td>\n",
       "      <td>45</td>\n",
       "      <td>15</td>\n",
       "    </tr>\n",
       "  </tbody>\n",
       "</table>\n",
       "</div>"
      ],
      "text/plain": [
       "    Year  Quarter  Sales   t\n",
       "11  2015        4     29  11\n",
       "12  2016        1     41  12\n",
       "13  2016        2     33  13\n",
       "14  2016        3     52  14\n",
       "15  2016        4     45  15"
      ]
     },
     "metadata": {},
     "output_type": "display_data"
    }
   ],
   "source": [
    "#調整期數從0開始\n",
    "df[\"t\"] = df.index\n",
    "print('Head of dataset:')\n",
    "display(df.head())\n",
    "print(\"Tail of dataset:\")\n",
    "display(df.tail())"
   ]
  },
  {
   "cell_type": "code",
   "execution_count": 7,
   "metadata": {},
   "outputs": [
    {
     "data": {
      "image/png": "[encoded data removed]",
      "text/plain": [
       "<Figure size 360x240 with 1 Axes>"
      ]
     },
     "metadata": {
      "needs_background": "light"
     },
     "output_type": "display_data"
    }
   ],
   "source": [
    "#確認season內的期數與data相符\n",
    "plt.plot(df['t'], df['Sales'])\n",
    "plt.ylim(0, max(df['Sales'])+5)\n",
    "plt.xlabel('time')\n",
    "plt.ylabel('Sales')\n",
    "plt.title('Line Chart for Sales')\n",
    "plt.show()"
   ]
  },
  {
   "cell_type": "markdown",
   "metadata": {},
   "source": [
    "According to the plot above, we can check that there are 4 periods in one season."
   ]
  },
  {
   "cell_type": "markdown",
   "metadata": {},
   "source": [
    "# CMV"
   ]
  },
  {
   "cell_type": "code",
   "execution_count": 8,
   "metadata": {},
   "outputs": [
    {
     "name": "stdout",
     "output_type": "stream",
     "text": [
      "Seasonal Index: [1.00415522 0.85879739 1.2075961  0.92945129]\n",
      "Deseasonalized Data: [17.92551558 25.61721815 22.358469   33.35301181 32.86344523 23.28838014\n",
      " 31.4674749  27.97349378 24.89654942 41.91908424 36.43602356 31.2012046\n",
      " 40.83034105 38.42582722 43.06075512 48.4156623 ]\n",
      "                            OLS Regression Results                            \n",
      "==============================================================================\n",
      "Dep. Variable:                  Des_D   R-squared:                       0.681\n",
      "Model:                            OLS   Adj. R-squared:                  0.658\n",
      "Method:                 Least Squares   F-statistic:                     29.86\n",
      "Date:                Wed, 25 May 2022   Prob (F-statistic):           8.34e-05\n",
      "Time:                        04:11:03   Log-Likelihood:                -47.434\n",
      "No. Observations:                  16   AIC:                             98.87\n",
      "Df Residuals:                      14   BIC:                             100.4\n",
      "Df Model:                           1                                         \n",
      "Covariance Type:            nonrobust                                         \n",
      "==============================================================================\n",
      "                 coef    std err          t      P>|t|      [0.025      0.975]\n",
      "------------------------------------------------------------------------------\n",
      "const         21.3564      2.394      8.920      0.000      16.221      26.492\n",
      "t              1.4861      0.272      5.464      0.000       0.903       2.069\n",
      "==============================================================================\n",
      "Omnibus:                        0.895   Durbin-Watson:                   2.299\n",
      "Prob(Omnibus):                  0.639   Jarque-Bera (JB):                0.687\n",
      "Skew:                          -0.017   Prob(JB):                        0.709\n",
      "Kurtosis:                       1.986   Cond. No.                         17.0\n",
      "==============================================================================\n",
      "\n",
      "Notes:\n",
      "[1] Standard Errors assume that the covariance matrix of the errors is correctly specified.\n"
     ]
    },
    {
     "data": {
      "image/png": "[encoded data removed]",
      "text/plain": [
       "<Figure size 360x240 with 1 Axes>"
      ]
     },
     "metadata": {
      "needs_background": "light"
     },
     "output_type": "display_data"
    }
   ],
   "source": [
    "#Seasonal index 與 deseasonalizing\n",
    "df_SIMA = pd.DataFrame(columns=[\"ma_ind\", \"SI_MA_res\"])\n",
    "df_SIMA = SI_MA(df['Sales'], 4)\n",
    "\n",
    "#SI\n",
    "df_MA_Idx = df_SIMA[\"ma_ind\"]\n",
    "#各期Quarter, SI, ori, des\n",
    "df_MA_Result = df_SIMA[\"SI_MA_res\"]\n",
    "\n",
    "#利用Des和Period(t)跑regression\n",
    "y_data_df_MA = df_MA_Result['Des_D']\n",
    "X_data_ar_df = np.array(df['t'])\n",
    "X_data_ar_df_T = X_data_ar_df.T\n",
    "X_data_df = pd.DataFrame(X_data_ar_df_T, columns = ['t'])\n",
    "X_data_df = sm.add_constant(X_data_df)\n",
    "olsmod_df_MA = sm.OLS(y_data_df_MA, X_data_df)\n",
    "result_reg_df_MA = olsmod_df_MA.fit()\n",
    "print(result_reg_df_MA.summary())\n",
    "\n",
    "#linear regression之於各期的結果（desensonalized）\n",
    "df_MA_st_2, df_MA_data_2, df_MA_ss2_2 = sso.summary_table(result_reg_df_MA, alpha=0.05)\n",
    "df_MA_y_pre_2 = df_MA_data_2[:, 2]\n",
    "des_pre_df_MA = df_MA_y_pre_2\n",
    "#print(des_pre_df4_MA)\n",
    "\n",
    "plt.plot(df['t'], df_MA_Result['orig'])\n",
    "plt.plot(df['t'], df_MA_Result['Des_D'])\n",
    "plt.plot(df['t'], des_pre_df_MA)\n",
    "plt.legend(labels=['org', 'Des_data', 'Line_pre'])\n",
    "plt.xlabel('Time(Period)')\n",
    "plt.ylabel('Sales')\n",
    "plt.title('Sales')\n",
    "plt.show()"
   ]
  },
  {
   "cell_type": "code",
   "execution_count": 9,
   "metadata": {},
   "outputs": [
    {
     "name": "stdout",
     "output_type": "stream",
     "text": [
      "New Des Prediction [45.13372227 46.61980389 48.10588551 49.59196713]\n",
      "New Seasonal Prediction [45.32126271 40.03696575 58.09247979 46.09331804]\n"
     ]
    },
    {
     "data": {
      "text/html": [
       "<div>\n",
       "<style scoped>\n",
       "    .dataframe tbody tr th:only-of-type {\n",
       "        vertical-align: middle;\n",
       "    }\n",
       "\n",
       "    .dataframe tbody tr th {\n",
       "        vertical-align: top;\n",
       "    }\n",
       "\n",
       "    .dataframe thead th {\n",
       "        text-align: right;\n",
       "    }\n",
       "</style>\n",
       "<table border=\"1\" class=\"dataframe\">\n",
       "  <thead>\n",
       "    <tr style=\"text-align: right;\">\n",
       "      <th></th>\n",
       "      <th>time</th>\n",
       "      <th>org</th>\n",
       "      <th>Des_data</th>\n",
       "      <th>Line_pre</th>\n",
       "      <th>Seasonal Pre</th>\n",
       "    </tr>\n",
       "  </thead>\n",
       "  <tbody>\n",
       "    <tr>\n",
       "      <th>0</th>\n",
       "      <td>0.0</td>\n",
       "      <td>18.0</td>\n",
       "      <td>17.925516</td>\n",
       "      <td>21.356416</td>\n",
       "      <td>21.445157</td>\n",
       "    </tr>\n",
       "    <tr>\n",
       "      <th>1</th>\n",
       "      <td>1.0</td>\n",
       "      <td>22.0</td>\n",
       "      <td>25.617218</td>\n",
       "      <td>22.842498</td>\n",
       "      <td>19.617078</td>\n",
       "    </tr>\n",
       "    <tr>\n",
       "      <th>2</th>\n",
       "      <td>2.0</td>\n",
       "      <td>27.0</td>\n",
       "      <td>22.358469</td>\n",
       "      <td>24.328580</td>\n",
       "      <td>29.379098</td>\n",
       "    </tr>\n",
       "    <tr>\n",
       "      <th>3</th>\n",
       "      <td>3.0</td>\n",
       "      <td>31.0</td>\n",
       "      <td>33.353012</td>\n",
       "      <td>25.814661</td>\n",
       "      <td>23.993470</td>\n",
       "    </tr>\n",
       "    <tr>\n",
       "      <th>4</th>\n",
       "      <td>4.0</td>\n",
       "      <td>33.0</td>\n",
       "      <td>32.863445</td>\n",
       "      <td>27.300743</td>\n",
       "      <td>27.414183</td>\n",
       "    </tr>\n",
       "    <tr>\n",
       "      <th>5</th>\n",
       "      <td>5.0</td>\n",
       "      <td>20.0</td>\n",
       "      <td>23.288380</td>\n",
       "      <td>28.786824</td>\n",
       "      <td>24.722050</td>\n",
       "    </tr>\n",
       "    <tr>\n",
       "      <th>6</th>\n",
       "      <td>6.0</td>\n",
       "      <td>38.0</td>\n",
       "      <td>31.467475</td>\n",
       "      <td>30.272906</td>\n",
       "      <td>36.557443</td>\n",
       "    </tr>\n",
       "    <tr>\n",
       "      <th>7</th>\n",
       "      <td>7.0</td>\n",
       "      <td>26.0</td>\n",
       "      <td>27.973494</td>\n",
       "      <td>31.758988</td>\n",
       "      <td>29.518432</td>\n",
       "    </tr>\n",
       "    <tr>\n",
       "      <th>8</th>\n",
       "      <td>8.0</td>\n",
       "      <td>25.0</td>\n",
       "      <td>24.896549</td>\n",
       "      <td>33.245069</td>\n",
       "      <td>33.383210</td>\n",
       "    </tr>\n",
       "    <tr>\n",
       "      <th>9</th>\n",
       "      <td>9.0</td>\n",
       "      <td>36.0</td>\n",
       "      <td>41.919084</td>\n",
       "      <td>34.731151</td>\n",
       "      <td>29.827022</td>\n",
       "    </tr>\n",
       "    <tr>\n",
       "      <th>10</th>\n",
       "      <td>10.0</td>\n",
       "      <td>44.0</td>\n",
       "      <td>36.436024</td>\n",
       "      <td>36.217233</td>\n",
       "      <td>43.735789</td>\n",
       "    </tr>\n",
       "    <tr>\n",
       "      <th>11</th>\n",
       "      <td>11.0</td>\n",
       "      <td>29.0</td>\n",
       "      <td>31.201205</td>\n",
       "      <td>37.703314</td>\n",
       "      <td>35.043394</td>\n",
       "    </tr>\n",
       "    <tr>\n",
       "      <th>12</th>\n",
       "      <td>12.0</td>\n",
       "      <td>41.0</td>\n",
       "      <td>40.830341</td>\n",
       "      <td>39.189396</td>\n",
       "      <td>39.352236</td>\n",
       "    </tr>\n",
       "    <tr>\n",
       "      <th>13</th>\n",
       "      <td>13.0</td>\n",
       "      <td>33.0</td>\n",
       "      <td>38.425827</td>\n",
       "      <td>40.675477</td>\n",
       "      <td>34.931994</td>\n",
       "    </tr>\n",
       "    <tr>\n",
       "      <th>14</th>\n",
       "      <td>14.0</td>\n",
       "      <td>52.0</td>\n",
       "      <td>43.060755</td>\n",
       "      <td>42.161559</td>\n",
       "      <td>50.914134</td>\n",
       "    </tr>\n",
       "    <tr>\n",
       "      <th>15</th>\n",
       "      <td>15.0</td>\n",
       "      <td>45.0</td>\n",
       "      <td>48.415662</td>\n",
       "      <td>43.647641</td>\n",
       "      <td>40.568356</td>\n",
       "    </tr>\n",
       "    <tr>\n",
       "      <th>16</th>\n",
       "      <td>16.0</td>\n",
       "      <td>NaN</td>\n",
       "      <td>NaN</td>\n",
       "      <td>45.133722</td>\n",
       "      <td>45.321263</td>\n",
       "    </tr>\n",
       "    <tr>\n",
       "      <th>17</th>\n",
       "      <td>17.0</td>\n",
       "      <td>NaN</td>\n",
       "      <td>NaN</td>\n",
       "      <td>46.619804</td>\n",
       "      <td>40.036966</td>\n",
       "    </tr>\n",
       "    <tr>\n",
       "      <th>18</th>\n",
       "      <td>18.0</td>\n",
       "      <td>NaN</td>\n",
       "      <td>NaN</td>\n",
       "      <td>48.105886</td>\n",
       "      <td>58.092480</td>\n",
       "    </tr>\n",
       "    <tr>\n",
       "      <th>19</th>\n",
       "      <td>19.0</td>\n",
       "      <td>NaN</td>\n",
       "      <td>NaN</td>\n",
       "      <td>49.591967</td>\n",
       "      <td>46.093318</td>\n",
       "    </tr>\n",
       "  </tbody>\n",
       "</table>\n",
       "</div>"
      ],
      "text/plain": [
       "    time   org   Des_data   Line_pre  Seasonal Pre\n",
       "0    0.0  18.0  17.925516  21.356416     21.445157\n",
       "1    1.0  22.0  25.617218  22.842498     19.617078\n",
       "2    2.0  27.0  22.358469  24.328580     29.379098\n",
       "3    3.0  31.0  33.353012  25.814661     23.993470\n",
       "4    4.0  33.0  32.863445  27.300743     27.414183\n",
       "5    5.0  20.0  23.288380  28.786824     24.722050\n",
       "6    6.0  38.0  31.467475  30.272906     36.557443\n",
       "7    7.0  26.0  27.973494  31.758988     29.518432\n",
       "8    8.0  25.0  24.896549  33.245069     33.383210\n",
       "9    9.0  36.0  41.919084  34.731151     29.827022\n",
       "10  10.0  44.0  36.436024  36.217233     43.735789\n",
       "11  11.0  29.0  31.201205  37.703314     35.043394\n",
       "12  12.0  41.0  40.830341  39.189396     39.352236\n",
       "13  13.0  33.0  38.425827  40.675477     34.931994\n",
       "14  14.0  52.0  43.060755  42.161559     50.914134\n",
       "15  15.0  45.0  48.415662  43.647641     40.568356\n",
       "16  16.0   NaN        NaN  45.133722     45.321263\n",
       "17  17.0   NaN        NaN  46.619804     40.036966\n",
       "18  18.0   NaN        NaN  48.105886     58.092480\n",
       "19  19.0   NaN        NaN  49.591967     46.093318"
      ]
     },
     "metadata": {},
     "output_type": "display_data"
    },
    {
     "data": {
      "image/png": "[encoded data removed]",
      "text/plain": [
       "<Figure size 360x240 with 1 Axes>"
      ]
     },
     "metadata": {
      "needs_background": "light"
     },
     "output_type": "display_data"
    }
   ],
   "source": [
    "#predict for the next year\n",
    "Sea_pre_df_MA = des_pre_df_MA * df_MA_Result['SeaIdx']\n",
    "New_t_2 = np.arange(16, 20, 1)\n",
    "Total_t_2 = np.append(df['t'], New_t_2)\n",
    "New_t_2 = sm.add_constant(New_t_2)\n",
    "df_MA_des_pre_New_t_2 = result_reg_df_MA.predict(New_t_2)\n",
    "print('New Des Prediction', df_MA_des_pre_New_t_2)\n",
    "df_MA_Sea_pre_New_t_2 = df_MA_des_pre_New_t_2 * df_MA_Idx\n",
    "print('New Seasonal Prediction', df_MA_Sea_pre_New_t_2)\n",
    "New_Nan = np.zeros(New_t_2.shape[0])\n",
    "New_Nan[:] = np.nan\n",
    "\n",
    "\n",
    "df_MA_New_orig_2 = np.append(df_MA_Result['orig'], New_Nan)\n",
    "df_MA_New_Des_D_2 = np.append(df_MA_Result['Des_D'], New_Nan)\n",
    "df_MA_New_des_pre_2 = np.append(des_pre_df_MA, df_MA_des_pre_New_t_2)\n",
    "df_MA_New_Sea_pre_2 = np.append(Sea_pre_df_MA, df_MA_Sea_pre_New_t_2)\n",
    "df_MA_S_a = np.array([Total_t_2, df_MA_New_orig_2, df_MA_New_Des_D_2, df_MA_New_des_pre_2, df_MA_New_Sea_pre_2])\n",
    "df_MA_S_df = pd.DataFrame(df_MA_S_a.T, columns=['time', 'org', 'Des_data', 'Line_pre', 'Seasonal Pre'])\n",
    "display(df_MA_S_df)\n",
    "\n",
    "plt.plot(Total_t_2, df_MA_New_orig_2)\n",
    "plt.plot(Total_t_2, df_MA_New_Des_D_2)\n",
    "plt.plot(Total_t_2, df_MA_New_des_pre_2)\n",
    "plt.plot(Total_t_2, df_MA_New_Sea_pre_2)\n",
    "plt.legend(labels=['org', 'Des_data', 'Line_pre', 'Seasonal Pre'])\n",
    "plt.xlabel('time')\n",
    "plt.ylabel('Sales')\n",
    "plt.title('Line Chart for Sales')\n",
    "plt.show()"
   ]
  },
  {
   "cell_type": "markdown",
   "metadata": {},
   "source": [
    "### Prediction for the 4 quarters in 2017 are: [45.32126271 40.03696575 58.09247979 46.09331804]"
   ]
  },
  {
   "cell_type": "markdown",
   "metadata": {},
   "source": [
    "# SLR"
   ]
  },
  {
   "cell_type": "code",
   "execution_count": 10,
   "metadata": {},
   "outputs": [
    {
     "name": "stdout",
     "output_type": "stream",
     "text": [
      "Seasonal Index: [0.96499553 0.87769799 1.2031015  0.95420497]\n",
      "\n",
      "\n",
      "Deseasonalized Data: [18.65293607 25.06556948 22.44199673 32.48777878 34.19704946 22.78688135\n",
      " 31.58503243 27.24781446 25.90685565 41.01638642 36.57214281 30.39179305\n",
      " 42.48724327 37.59835422 43.22162332 47.15967887]\n",
      "                            OLS Regression Results                            \n",
      "==============================================================================\n",
      "Dep. Variable:                  Des_D   R-squared:                       0.675\n",
      "Model:                            OLS   Adj. R-squared:                  0.652\n",
      "Method:                 Least Squares   F-statistic:                     29.11\n",
      "Date:                Wed, 25 May 2022   Prob (F-statistic):           9.44e-05\n",
      "Time:                        04:11:03   Log-Likelihood:                -47.301\n",
      "No. Observations:                  16   AIC:                             98.60\n",
      "Df Residuals:                      14   BIC:                             100.1\n",
      "Df Model:                           1                                         \n",
      "Covariance Type:            nonrobust                                         \n",
      "==============================================================================\n",
      "                 coef    std err          t      P>|t|      [0.025      0.975]\n",
      "------------------------------------------------------------------------------\n",
      "const         21.5116      2.374      9.059      0.000      16.419      26.604\n",
      "t              1.4553      0.270      5.395      0.000       0.877       2.034\n",
      "==============================================================================\n",
      "Omnibus:                        2.123   Durbin-Watson:                   2.404\n",
      "Prob(Omnibus):                  0.346   Jarque-Bera (JB):                0.997\n",
      "Skew:                          -0.070   Prob(JB):                        0.608\n",
      "Kurtosis:                       1.785   Cond. No.                         17.0\n",
      "==============================================================================\n",
      "\n",
      "Notes:\n",
      "[1] Standard Errors assume that the covariance matrix of the errors is correctly specified.\n"
     ]
    },
    {
     "data": {
      "image/png": "[encoded data removed]",
      "text/plain": [
       "<Figure size 360x240 with 1 Axes>"
      ]
     },
     "metadata": {
      "needs_background": "light"
     },
     "output_type": "display_data"
    }
   ],
   "source": [
    "df_SILR = pd.DataFrame(columns=[\"LR_ind\", \"SI_LR_res\"])\n",
    "df_SILR = SI_LR(df['Sales'], 4)\n",
    "df_LR_Idx = df_SILR[\"LR_ind\"]\n",
    "df_LR_Result = df_SILR[\"SI_LR_res\"]\n",
    "y_data_df_LR = df_LR_Result['Des_D']\n",
    "X_data_ar_df = np.array(df['t'])\n",
    "X_data_ar_df_T = X_data_ar_df.T\n",
    "X_data_df = pd.DataFrame(X_data_ar_df_T, columns = ['t'])\n",
    "X_data_df = sm.add_constant(X_data_df)\n",
    "olsmod_df_LR = sm.OLS(y_data_df_LR, X_data_df)\n",
    "result_reg_df_LR = olsmod_df_LR.fit()\n",
    "print(result_reg_df_LR.summary())\n",
    "\n",
    "\n",
    "df_LR_st_2, df_LR_st_data_2, df_LR_st_ss2_2 = sso.summary_table(result_reg_df_LR, alpha=0.05)\n",
    "df_LR_st_y_pre_2 = df_LR_st_data_2[:, 2]\n",
    "df_LR_st_SD_2 = df_LR_st_data_2[:, 10]\n",
    "des_pre_df_LR = df_LR_st_y_pre_2\n",
    "\n",
    "\n",
    "plt.plot(df['t'], df_LR_Result['orig'])\n",
    "plt.plot(df['t'], df_LR_Result['Des_D'])\n",
    "plt.plot(df['t'], des_pre_df_LR)\n",
    "plt.legend(labels=['org', 'Des_data', 'Line_pre'])\n",
    "plt.xlabel('time')\n",
    "plt.ylabel('Sales')\n",
    "plt.title('Line Chart for Sales')\n",
    "plt.show()"
   ]
  },
  {
   "cell_type": "code",
   "execution_count": 11,
   "metadata": {},
   "outputs": [
    {
     "name": "stdout",
     "output_type": "stream",
     "text": [
      "New Des Prediction [44.79604065 46.25131649 47.70659233 49.16186817]\n",
      "New Seasonal Prediction [43.22797916 40.59468761 57.39587296 46.91049898]\n"
     ]
    },
    {
     "data": {
      "image/png": "[encoded data removed]",
      "text/plain": [
       "<Figure size 360x240 with 1 Axes>"
      ]
     },
     "metadata": {
      "needs_background": "light"
     },
     "output_type": "display_data"
    }
   ],
   "source": [
    "Sea_pre_df_LR = des_pre_df_LR * df_LR_Result['SeaIdx']\n",
    "New_t_2 = np.arange(16, 20, 1)\n",
    "Total_t_2 = np.append(df['t'], New_t_2)\n",
    "New_t_2 = sm.add_constant(New_t_2)\n",
    "df_LR_st_des_pre_New_t_2 = result_reg_df_LR.predict(New_t_2)\n",
    "print('New Des Prediction', df_LR_st_des_pre_New_t_2)\n",
    "df_LR_st_Sea_pre_New_t_2 = df_LR_st_des_pre_New_t_2 * df_LR_Idx\n",
    "print('New Seasonal Prediction', df_LR_st_Sea_pre_New_t_2)\n",
    "New_Nan = np.zeros(New_t_2.shape[0])\n",
    "New_Nan[:] = np.nan\n",
    "\n",
    "df_LR_st_New_orig_2 = np.append(df_LR_Result['orig'], New_Nan)\n",
    "df_LR_st_New_Des_D_2 = np.append(df_LR_Result['Des_D'], New_Nan)\n",
    "df_LR_st_New_des_pre_2 = np.append(des_pre_df_LR, df_LR_st_des_pre_New_t_2)\n",
    "df_LR_st_New_Sea_pre_2 = np.append(Sea_pre_df_LR, df_LR_st_Sea_pre_New_t_2)\n",
    "plt.plot(Total_t_2, df_LR_st_New_orig_2)\n",
    "plt.plot(Total_t_2, df_LR_st_New_Des_D_2)\n",
    "plt.plot(Total_t_2, df_LR_st_New_des_pre_2)\n",
    "plt.plot(Total_t_2, df_LR_st_New_Sea_pre_2)\n",
    "plt.legend(labels=['org', 'Des_data', 'Line_pre', 'Seasonal Pre'])\n",
    "plt.xlabel('time')\n",
    "plt.ylabel('Sales')\n",
    "plt.title('Line Chart for Sales')\n",
    "plt.show()"
   ]
  },
  {
   "cell_type": "markdown",
   "metadata": {},
   "source": [
    "### Prediction for the 4 quarters in 2017 are: [43.22797916 40.59468761 57.39587296 46.91049898]"
   ]
  },
  {
   "cell_type": "markdown",
   "metadata": {},
   "source": [
    "# Dummy"
   ]
  },
  {
   "cell_type": "code",
   "execution_count": 12,
   "metadata": {},
   "outputs": [
    {
     "name": "stdout",
     "output_type": "stream",
     "text": [
      "                            OLS Regression Results                            \n",
      "==============================================================================\n",
      "Dep. Variable:                  Sales   R-squared:                       0.762\n",
      "Model:                            OLS   Adj. R-squared:                  0.675\n",
      "Method:                 Least Squares   F-statistic:                     8.782\n",
      "Date:                Wed, 25 May 2022   Prob (F-statistic):            0.00195\n",
      "Time:                        04:11:03   Log-Likelihood:                -47.031\n",
      "No. Observations:                  16   AIC:                             104.1\n",
      "Df Residuals:                      11   BIC:                             107.9\n",
      "Df Model:                           4                                         \n",
      "Covariance Type:            nonrobust                                         \n",
      "==============================================================================\n",
      "                 coef    std err          t      P>|t|      [0.025      0.975]\n",
      "------------------------------------------------------------------------------\n",
      "const         19.4750      3.913      4.977      0.000      10.862      28.088\n",
      "t              1.4750      0.308      4.783      0.001       0.796       2.154\n",
      "Quarter_1      0.9250      4.009      0.231      0.822      -7.899       9.749\n",
      "Quarter_2     -2.0500      3.950     -0.519      0.614     -10.743       6.643\n",
      "Quarter_3      8.9750      3.913      2.294      0.043       0.362      17.588\n",
      "==============================================================================\n",
      "Omnibus:                        3.163   Durbin-Watson:                   2.458\n",
      "Prob(Omnibus):                  0.206   Jarque-Bera (JB):                1.175\n",
      "Skew:                          -0.038   Prob(JB):                        0.556\n",
      "Kurtosis:                       1.675   Cond. No.                         41.4\n",
      "==============================================================================\n",
      "\n",
      "Notes:\n",
      "[1] Standard Errors assume that the covariance matrix of the errors is correctly specified.\n",
      "[20.4 18.9 31.4 23.9 26.3 24.8 37.3 29.8 32.2 30.7 43.2 35.7 38.1 36.6\n",
      " 49.1 41.6]\n"
     ]
    },
    {
     "data": {
      "image/png": "[encoded data removed]",
      "text/plain": [
       "<Figure size 360x240 with 1 Axes>"
      ]
     },
     "metadata": {
      "needs_background": "light"
     },
     "output_type": "display_data"
    }
   ],
   "source": [
    "#轉換Quarter to Dummy variables\n",
    "Quarter_dummy = pd.get_dummies(df['Quarter'], prefix = 'Quarter')\n",
    "df_d = pd.concat([df, Quarter_dummy], axis = 1)\n",
    "df_d.head()\n",
    "y_data_df_d = df_d['Sales']\n",
    "X_data_ar_df_d = np.array([df_d['t'], df_d['Quarter_1'], df_d['Quarter_2'], df_d['Quarter_3']])\n",
    "X_data_ar_df_d_T = X_data_ar_df_d.T\n",
    "X_data_df_d = pd.DataFrame(X_data_ar_df_d_T, columns = ['t', 'Quarter_1', 'Quarter_2', 'Quarter_3'])\n",
    "X_data_df_d = sm.add_constant(X_data_df_d)\n",
    "\n",
    "#regression\n",
    "olsmod_df_d_DM = sm.OLS(y_data_df_d, X_data_df_d)\n",
    "result_reg_df_d_DM = olsmod_df_d_DM.fit()\n",
    "print(result_reg_df_d_DM.summary())\n",
    "df_d_DM_st, df_d_DM_data, df_d_DM_ss2 = sso.summary_table(result_reg_df_d_DM, alpha=0.05)\n",
    "\n",
    "#regression results\n",
    "df_d_DM_y_pre = df_d_DM_data[:, 2]\n",
    "df_d_DM_SD = df_d_DM_data[:, 10]\n",
    "des_pre_df_d_DM = df_d_DM_y_pre\n",
    "print(des_pre_df_d_DM)\n",
    "plt.plot(df_d['t'], df_d['Sales'])\n",
    "plt.plot(df_d['t'], des_pre_df_d_DM)\n",
    "plt.legend(labels=['org', 'Line_pre'])\n",
    "plt.xlabel('time')\n",
    "plt.ylabel('Sales')\n",
    "plt.title('Line Chart for Sales')\n",
    "plt.show()"
   ]
  },
  {
   "cell_type": "code",
   "execution_count": 19,
   "metadata": {},
   "outputs": [
    {
     "name": "stdout",
     "output_type": "stream",
     "text": [
      "DM_pre: [44.  42.5 55.  47.5]\n"
     ]
    },
    {
     "data": {
      "image/png": "[encoded data removed]",
      "text/plain": [
       "<Figure size 360x240 with 1 Axes>"
      ]
     },
     "metadata": {
      "needs_background": "light"
     },
     "output_type": "display_data"
    }
   ],
   "source": [
    "New_t_2 = np.array([[16, 1, 0, 0],\n",
    "                    [17, 0, 1, 0],\n",
    "                    [18, 0, 0, 1], \n",
    "                    [19, 0, 0, 0]])\n",
    "Total_t_2 = np.append(df_d['t'], New_t_2[:,0])\n",
    "New_t_2 = sm.add_constant(New_t_2)\n",
    "df_d_DM_pre_New_t = result_reg_df_d_DM.predict(New_t_2)\n",
    "print('DM_pre:', df_d_DM_pre_New_t)\n",
    "\n",
    "New_Nan = np.zeros(New_t_2.shape[0])\n",
    "New_Nan[:] = np.nan\n",
    "\n",
    "df_d_DM_New_orig = np.append(df_d['Sales'], New_Nan)\n",
    "df_d_DM_New_pre = np.append(des_pre_df_d_DM, df_d_DM_pre_New_t)\n",
    "plt.plot(Total_t_2, df_d_DM_New_orig)\n",
    "plt.plot(Total_t_2, df_d_DM_New_pre)\n",
    "plt.legend(labels=['org', 'Line_pre'])\n",
    "plt.xlabel('time')\n",
    "plt.ylabel('Sales')\n",
    "plt.title('Line Chart for Sales')\n",
    "plt.show()"
   ]
  },
  {
   "cell_type": "markdown",
   "metadata": {},
   "source": [
    "### Prediction for the 4 quarters in 2017 are: [44.  42.5 55.  47.5]"
   ]
  },
  {
   "cell_type": "markdown",
   "metadata": {},
   "source": [
    "# Comparison"
   ]
  },
  {
   "cell_type": "code",
   "execution_count": 20,
   "metadata": {},
   "outputs": [
    {
     "name": "stdout",
     "output_type": "stream",
     "text": [
      "Error Metrics for Seasonal Index by Moving Average\n",
      "MAD =  3.777726\n",
      "MSE =  19.531313\n",
      "RMSE =  4.419425\n",
      "MAPE =  13.323721 %\n",
      "\n",
      "\n",
      "Error Metrics for Seasonal Index by LR\n",
      "MAD =  3.887417\n",
      "MSE =  19.338802\n",
      "RMSE =  4.39759\n",
      "MAPE =  13.455253 %\n",
      "\n",
      "\n",
      "Error Metrics for LR Dummy\n",
      "MAD =  4.1125\n",
      "MSE =  20.925\n",
      "RMSE =  4.574385\n",
      "MAPE =  14.18393 %\n"
     ]
    }
   ],
   "source": [
    "print('Error Metrics for Seasonal Index by Moving Average')\n",
    "MA_Err_M = ErrMetrix(df['Sales'], Sea_pre_df_MA)\n",
    "print('\\n')\n",
    "print('Error Metrics for Seasonal Index by LR')\n",
    "LR_Err_M = ErrMetrix(df['Sales'], Sea_pre_df_LR)\n",
    "print('\\n')\n",
    "print('Error Metrics for LR Dummy')\n",
    "DM_Err_M = ErrMetrix(df['Sales'], des_pre_df_d_DM)"
   ]
  },
  {
   "cell_type": "code",
   "execution_count": 21,
   "metadata": {},
   "outputs": [
    {
     "data": {
      "text/html": [
       "<div>\n",
       "<style scoped>\n",
       "    .dataframe tbody tr th:only-of-type {\n",
       "        vertical-align: middle;\n",
       "    }\n",
       "\n",
       "    .dataframe tbody tr th {\n",
       "        vertical-align: top;\n",
       "    }\n",
       "\n",
       "    .dataframe thead th {\n",
       "        text-align: right;\n",
       "    }\n",
       "</style>\n",
       "<table border=\"1\" class=\"dataframe\">\n",
       "  <thead>\n",
       "    <tr style=\"text-align: right;\">\n",
       "      <th></th>\n",
       "      <th>ErrM</th>\n",
       "      <th>CMA</th>\n",
       "      <th>SLR</th>\n",
       "      <th>Dummy</th>\n",
       "    </tr>\n",
       "  </thead>\n",
       "  <tbody>\n",
       "    <tr>\n",
       "      <th>0</th>\n",
       "      <td>MAD</td>\n",
       "      <td>3.777726</td>\n",
       "      <td>3.887417</td>\n",
       "      <td>4.1125</td>\n",
       "    </tr>\n",
       "    <tr>\n",
       "      <th>1</th>\n",
       "      <td>MSE</td>\n",
       "      <td>19.531313</td>\n",
       "      <td>19.338802</td>\n",
       "      <td>20.925</td>\n",
       "    </tr>\n",
       "    <tr>\n",
       "      <th>2</th>\n",
       "      <td>RMSE</td>\n",
       "      <td>4.419425</td>\n",
       "      <td>4.39759</td>\n",
       "      <td>4.574385</td>\n",
       "    </tr>\n",
       "    <tr>\n",
       "      <th>3</th>\n",
       "      <td>MAPE</td>\n",
       "      <td>13.323721</td>\n",
       "      <td>13.455253</td>\n",
       "      <td>14.18393</td>\n",
       "    </tr>\n",
       "  </tbody>\n",
       "</table>\n",
       "</div>"
      ],
      "text/plain": [
       "   ErrM        CMA        SLR     Dummy\n",
       "0   MAD   3.777726   3.887417    4.1125\n",
       "1   MSE  19.531313  19.338802    20.925\n",
       "2  RMSE   4.419425    4.39759  4.574385\n",
       "3  MAPE  13.323721  13.455253  14.18393"
      ]
     },
     "metadata": {},
     "output_type": "display_data"
    }
   ],
   "source": [
    "ErrM_id = ['MAD', 'MSE', 'RMSE', 'MAPE']\n",
    "ErrM_a = np.array([ErrM_id, MA_Err_M, LR_Err_M, DM_Err_M])\n",
    "ErrM_df = pd.DataFrame(ErrM_a.T, columns = ['ErrM', 'CMA', 'SLR', 'Dummy'])\n",
    "display(ErrM_df)"
   ]
  },
  {
   "cell_type": "markdown",
   "metadata": {},
   "source": [
    "#### According to the table above, we can see that CMA performs the best on MAD amd MAPE, while SLR performs the bext on MSE (RMSE)."
   ]
  },
  {
   "cell_type": "code",
   "execution_count": null,
   "metadata": {},
   "outputs": [],
   "source": []
  }
 ],
 "metadata": {
  "kernelspec": {
   "display_name": "Python 3",
   "language": "python",
   "name": "python3"
  },
  "language_info": {
   "codemirror_mode": {
    "name": "ipython",
    "version": 3
   },
   "file_extension": ".py",
   "mimetype": "text/x-python",
   "name": "python",
   "nbconvert_exporter": "python",
   "pygments_lexer": "ipython3",
   "version": "3.8.5"
  }
 },
 "nbformat": 4,
 "nbformat_minor": 4
}
