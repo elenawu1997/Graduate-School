{
 "cells": [
  {
   "cell_type": "markdown",
   "metadata": {},
   "source": [
    "## HW09 Solution"
   ]
  },
  {
   "cell_type": "code",
   "execution_count": 2,
   "metadata": {},
   "outputs": [],
   "source": [
    "import scipy.stats as stats\n",
    "import statistics \n",
    "import matplotlib.pyplot as plt\n",
    "import numpy as np\n",
    "import pandas as pd\n",
    "import math"
   ]
  },
  {
   "cell_type": "code",
   "execution_count": 3,
   "metadata": {},
   "outputs": [],
   "source": [
    "#calculate Sampling Distribution of the mean for P(X<...) or P(X<=...)\n",
    "def pvalue (n, mu, s, x):\n",
    "\n",
    "    s_n = s/(n**0.5)\n",
    "    nd = stats.norm(mu, s_n)\n",
    "    \n",
    "    z = (x-mu)/s_n\n",
    "    return z, nd.cdf(x)"
   ]
  },
  {
   "cell_type": "code",
   "execution_count": 4,
   "metadata": {},
   "outputs": [],
   "source": [
    "def type2pvalue_h1larger(meanh0, psigma , nsize ,alpha, meanh1 ):\n",
    "    \n",
    "    #calculate z cirtical value\n",
    "    zcv = stats.norm.ppf(1-alpha)\n",
    "    print(f\"z critical value = {zcv:.4f}\")\n",
    "    \n",
    "    #calculate x cirtical value\n",
    "    xcv = meanh0 + zcv * psigma / (nsize ** 0.5)\n",
    "    print(f\"x critical value = {xcv:.4f}\")\n",
    "    \n",
    "    #calculate p value\n",
    "    ztype2 = (xcv - meanh1) / (psigma / (nsize ** 0.5))\n",
    "    type2p = stats.norm.cdf(ztype2)\n",
    "    print(f\"P(typeII) = {type2p:.4f}\")"
   ]
  },
  {
   "cell_type": "code",
   "execution_count": 5,
   "metadata": {},
   "outputs": [],
   "source": [
    "def type2pvalue_h1smaller(meanh0, psigma , nsize ,alpha, meanh1 ):\n",
    "    \n",
    "    #calculate z cirtical value\n",
    "    zcv = stats.norm.ppf(alpha)\n",
    "    print(f\"z critical value = {zcv:.4f}\")\n",
    "    \n",
    "    #calculate x cirtical value\n",
    "    xcv = meanh0 + zcv * psigma / (nsize ** 0.5)\n",
    "    print(f\"x critical value = {xcv:.4f}\")\n",
    "    \n",
    "    #calculate p value\n",
    "    ztype2 = (xcv - meanh1) / (psigma / (nsize ** 0.5))\n",
    "    type2p = 1-stats.norm.cdf(ztype2)\n",
    "    print(f\"P(typeII) = {type2p:.4f}\")"
   ]
  },
  {
   "cell_type": "markdown",
   "metadata": {},
   "source": [
    "## 11.57  (20%) (H0H1 3%, 是否reject H0及原因(pvalue, critical value等) 3%, 結論 3%)  \n",
    "let mu be mean monthly expenditures on bakery products for all Americans  \n",
    "H0: mu = 30  \n",
    "H1: mu != 30  \n",
    "-> (two tail)  \n",
    "alpha = 0.1"
   ]
  },
  {
   "cell_type": "code",
   "execution_count": 6,
   "metadata": {},
   "outputs": [
    {
     "data": {
      "text/html": [
       "<div>\n",
       "<style scoped>\n",
       "    .dataframe tbody tr th:only-of-type {\n",
       "        vertical-align: middle;\n",
       "    }\n",
       "\n",
       "    .dataframe tbody tr th {\n",
       "        vertical-align: top;\n",
       "    }\n",
       "\n",
       "    .dataframe thead th {\n",
       "        text-align: right;\n",
       "    }\n",
       "</style>\n",
       "<table border=\"1\" class=\"dataframe\">\n",
       "  <thead>\n",
       "    <tr style=\"text-align: right;\">\n",
       "      <th></th>\n",
       "      <th>Bakery</th>\n",
       "    </tr>\n",
       "  </thead>\n",
       "  <tbody>\n",
       "    <tr>\n",
       "      <th>0</th>\n",
       "      <td>37.90</td>\n",
       "    </tr>\n",
       "    <tr>\n",
       "      <th>1</th>\n",
       "      <td>22.54</td>\n",
       "    </tr>\n",
       "    <tr>\n",
       "      <th>2</th>\n",
       "      <td>29.77</td>\n",
       "    </tr>\n",
       "    <tr>\n",
       "      <th>3</th>\n",
       "      <td>26.15</td>\n",
       "    </tr>\n",
       "    <tr>\n",
       "      <th>4</th>\n",
       "      <td>33.08</td>\n",
       "    </tr>\n",
       "    <tr>\n",
       "      <th>...</th>\n",
       "      <td>...</td>\n",
       "    </tr>\n",
       "    <tr>\n",
       "      <th>272</th>\n",
       "      <td>31.67</td>\n",
       "    </tr>\n",
       "    <tr>\n",
       "      <th>273</th>\n",
       "      <td>34.05</td>\n",
       "    </tr>\n",
       "    <tr>\n",
       "      <th>274</th>\n",
       "      <td>24.11</td>\n",
       "    </tr>\n",
       "    <tr>\n",
       "      <th>275</th>\n",
       "      <td>31.73</td>\n",
       "    </tr>\n",
       "    <tr>\n",
       "      <th>276</th>\n",
       "      <td>31.50</td>\n",
       "    </tr>\n",
       "  </tbody>\n",
       "</table>\n",
       "<p>277 rows × 1 columns</p>\n",
       "</div>"
      ],
      "text/plain": [
       "     Bakery \n",
       "0      37.90\n",
       "1      22.54\n",
       "2      29.77\n",
       "3      26.15\n",
       "4      33.08\n",
       "..       ...\n",
       "272    31.67\n",
       "273    34.05\n",
       "274    24.11\n",
       "275    31.73\n",
       "276    31.50\n",
       "\n",
       "[277 rows x 1 columns]"
      ]
     },
     "execution_count": 6,
     "metadata": {},
     "output_type": "execute_result"
    }
   ],
   "source": [
    "df57 = pd.read_excel(\"Xr11-57.xlsx\")\n",
    "df57"
   ]
  },
  {
   "cell_type": "code",
   "execution_count": 13,
   "metadata": {},
   "outputs": [
    {
     "name": "stdout",
     "output_type": "stream",
     "text": [
      "-1.6298433802188443\n",
      "pvalue = 0.10313460274341513\n"
     ]
    }
   ],
   "source": [
    "n = len(df57)\n",
    "x = df57[\"Bakery \"].mean()\n",
    "mu = 30\n",
    "s = 5\n",
    "z, p = pvalue (n, mu, s, x)\n",
    "\n",
    "#two-tail\n",
    "print(z)\n",
    "print('pvalue =', p*2)"
   ]
  },
  {
   "cell_type": "markdown",
   "metadata": {},
   "source": [
    "Since pvalue > significance level = 0.1, we do not reject H0.  \n",
    "There is not enough evidence to infer that the average mean monthly expenditures on bakery products is not equal to $30."
   ]
  },
  {
   "cell_type": "markdown",
   "metadata": {},
   "source": [
    "## 11.58  (20%) (H0H1 3%, 是否reject H0及原因(pvalue, critical value等) 3%, 結論 3%)  \n",
    "let mu be mean amount for all Americans with 401k investments.  \n",
    "H0: mu <= 125000  \n",
    "H1: mu > 125000  \n",
    "-> (right tail)  \n",
    "alpha = 0.05"
   ]
  },
  {
   "cell_type": "code",
   "execution_count": 8,
   "metadata": {
    "collapsed": true,
    "jupyter": {
     "outputs_hidden": true,
     "source_hidden": true
    }
   },
   "outputs": [
    {
     "data": {
      "text/html": [
       "<div>\n",
       "<style scoped>\n",
       "    .dataframe tbody tr th:only-of-type {\n",
       "        vertical-align: middle;\n",
       "    }\n",
       "\n",
       "    .dataframe tbody tr th {\n",
       "        vertical-align: top;\n",
       "    }\n",
       "\n",
       "    .dataframe thead th {\n",
       "        text-align: right;\n",
       "    }\n",
       "</style>\n",
       "<table border=\"1\" class=\"dataframe\">\n",
       "  <thead>\n",
       "    <tr style=\"text-align: right;\">\n",
       "      <th></th>\n",
       "      <th>Value 401k</th>\n",
       "    </tr>\n",
       "  </thead>\n",
       "  <tbody>\n",
       "    <tr>\n",
       "      <th>0</th>\n",
       "      <td>119038</td>\n",
       "    </tr>\n",
       "    <tr>\n",
       "      <th>1</th>\n",
       "      <td>133669</td>\n",
       "    </tr>\n",
       "    <tr>\n",
       "      <th>2</th>\n",
       "      <td>172148</td>\n",
       "    </tr>\n",
       "    <tr>\n",
       "      <th>3</th>\n",
       "      <td>136831</td>\n",
       "    </tr>\n",
       "    <tr>\n",
       "      <th>4</th>\n",
       "      <td>83680</td>\n",
       "    </tr>\n",
       "    <tr>\n",
       "      <th>...</th>\n",
       "      <td>...</td>\n",
       "    </tr>\n",
       "    <tr>\n",
       "      <th>405</th>\n",
       "      <td>150991</td>\n",
       "    </tr>\n",
       "    <tr>\n",
       "      <th>406</th>\n",
       "      <td>128422</td>\n",
       "    </tr>\n",
       "    <tr>\n",
       "      <th>407</th>\n",
       "      <td>103749</td>\n",
       "    </tr>\n",
       "    <tr>\n",
       "      <th>408</th>\n",
       "      <td>101507</td>\n",
       "    </tr>\n",
       "    <tr>\n",
       "      <th>409</th>\n",
       "      <td>129772</td>\n",
       "    </tr>\n",
       "  </tbody>\n",
       "</table>\n",
       "<p>410 rows × 1 columns</p>\n",
       "</div>"
      ],
      "text/plain": [
       "     Value 401k\n",
       "0        119038\n",
       "1        133669\n",
       "2        172148\n",
       "3        136831\n",
       "4         83680\n",
       "..          ...\n",
       "405      150991\n",
       "406      128422\n",
       "407      103749\n",
       "408      101507\n",
       "409      129772\n",
       "\n",
       "[410 rows x 1 columns]"
      ]
     },
     "execution_count": 8,
     "metadata": {},
     "output_type": "execute_result"
    }
   ],
   "source": [
    "df58 = pd.read_excel(\"Xr11-58.xlsx\")\n",
    "df58"
   ]
  },
  {
   "cell_type": "code",
   "execution_count": 15,
   "metadata": {},
   "outputs": [
    {
     "name": "stdout",
     "output_type": "stream",
     "text": [
      "1.4877835086269933\n",
      "pvalue = 0.06840399808083741\n"
     ]
    }
   ],
   "source": [
    "n = len(df58)\n",
    "x = df58[\"Value 401k\"].mean()\n",
    "mu = 125000\n",
    "s = 25000\n",
    "z, p = pvalue (n, mu, s, x)\n",
    "\n",
    "#\n",
    "print(z)\n",
    "print('pvalue =', 1-p)"
   ]
  },
  {
   "cell_type": "markdown",
   "metadata": {},
   "source": [
    "Since pvalue > significance level = 0.05, we do not reject H0.  \n",
    "There is not enough evidence to infer that mean value of 401k accounts is greater than $125,000."
   ]
  },
  {
   "cell_type": "markdown",
   "metadata": {},
   "source": [
    "## 11.60 (10%)"
   ]
  },
  {
   "cell_type": "code",
   "execution_count": 6,
   "metadata": {},
   "outputs": [
    {
     "name": "stdout",
     "output_type": "stream",
     "text": [
      "z critical value = 2.3263\n",
      "x critical value = 1023.2635\n",
      "P(typeII) = 0.0038\n"
     ]
    }
   ],
   "source": [
    "meanh0 = 1000\n",
    "psigma = 50\n",
    "nsize = 25\n",
    "alpha = 0.01\n",
    "meanh1 = 1050\n",
    "\n",
    "type2pvalue_h1larger(meanh0, psigma , nsize ,alpha, meanh1 )"
   ]
  },
  {
   "cell_type": "markdown",
   "metadata": {},
   "source": [
    "## 11.77 (35%) ((i)(ii)(iii) P(type II)各10%，the lowest probability of a type II error 5%)"
   ]
  },
  {
   "cell_type": "code",
   "execution_count": 11,
   "metadata": {},
   "outputs": [
    {
     "name": "stdout",
     "output_type": "stream",
     "text": [
      "(i)\n",
      "z critical value = -2.3263\n",
      "x critical value = 9.3021\n",
      "P(typeII) = 0.1570\n"
     ]
    }
   ],
   "source": [
    "meanh0 = 10\n",
    "psigma = 3\n",
    "nsize = 25\n",
    "alpha = 0.01\n",
    "meanh1 = 9\n",
    "\n",
    "print('(i)')\n",
    "nsize = 100\n",
    "alpha = 0.01\n",
    "type2pvalue_h1smaller(meanh0, psigma , nsize ,alpha, meanh1 )"
   ]
  },
  {
   "cell_type": "code",
   "execution_count": 12,
   "metadata": {
    "jupyter": {
     "source_hidden": true
    }
   },
   "outputs": [
    {
     "name": "stdout",
     "output_type": "stream",
     "text": [
      "(ii)\n",
      "z critical value = -1.6449\n",
      "x critical value = 9.4302\n",
      "P(typeII) = 0.1071\n"
     ]
    }
   ],
   "source": [
    "print('(ii)')\n",
    "nsize = 75\n",
    "alpha = 0.05\n",
    "type2pvalue_h1smaller(meanh0, psigma , nsize ,alpha, meanh1 )"
   ]
  },
  {
   "cell_type": "code",
   "execution_count": 13,
   "metadata": {
    "jupyter": {
     "source_hidden": true
    }
   },
   "outputs": [
    {
     "name": "stdout",
     "output_type": "stream",
     "text": [
      "(iii)\n",
      "z critical value = -1.2816\n",
      "x critical value = 9.4563\n",
      "P(typeII) = 0.1411\n"
     ]
    }
   ],
   "source": [
    "print('(iii)')\n",
    "nsize = 50\n",
    "alpha = 0.1\n",
    "type2pvalue_h1smaller(meanh0, psigma , nsize ,alpha, meanh1 )"
   ]
  },
  {
   "cell_type": "markdown",
   "metadata": {},
   "source": [
    "#### Plan ii has the lowest probability of a type II error."
   ]
  },
  {
   "cell_type": "markdown",
   "metadata": {},
   "source": [
    "## 11.78 (15%) (沒寫potential cost-5%)"
   ]
  },
  {
   "cell_type": "markdown",
   "metadata": {},
   "source": [
    "H0: the mean wind velocity <= 20 mph (the site is not feasible)  \n",
    "H1: the mean wind velocity > 20 mph (the site is feasible)  \n",
    "A Type I error occurs when we conclude that the site is feasible when it is not.  \n",
    "The consequence of this decision is to conduct further testing.  \n",
    "A Type II error occurs when we do not conclude that a site is feasible when it actually is.  \n",
    "We will do no further testing on this site, and as a result we will not build on a good site.  \n",
    "If there are few other possible sits, this could be an expensive mistake."
   ]
  },
  {
   "cell_type": "code",
   "execution_count": null,
   "metadata": {},
   "outputs": [],
   "source": []
  }
 ],
 "metadata": {
  "kernelspec": {
   "display_name": "Python 3",
   "language": "python",
   "name": "python3"
  },
  "language_info": {
   "codemirror_mode": {
    "name": "ipython",
    "version": 3
   },
   "file_extension": ".py",
   "mimetype": "text/x-python",
   "name": "python",
   "nbconvert_exporter": "python",
   "pygments_lexer": "ipython3",
   "version": "3.8.5"
  }
 },
 "nbformat": 4,
 "nbformat_minor": 4
}
