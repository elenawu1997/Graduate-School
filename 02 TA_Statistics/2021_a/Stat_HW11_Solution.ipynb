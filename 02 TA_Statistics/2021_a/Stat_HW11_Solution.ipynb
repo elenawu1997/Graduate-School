{
 "cells": [
  {
   "cell_type": "code",
   "execution_count": 35,
   "metadata": {},
   "outputs": [],
   "source": [
    "import scipy.stats as stats\n",
    "import statistics \n",
    "import matplotlib.pyplot as plt\n",
    "import numpy as np\n",
    "import pandas as pd\n",
    "import math"
   ]
  },
  {
   "cell_type": "code",
   "execution_count": 36,
   "metadata": {},
   "outputs": [],
   "source": [
    "#calculate Sampling Distribution of a proportion for P(X<...) or P(X<=...)\n",
    "def SamplingProportionCDF (n, p, x):\n",
    "\n",
    "    s = (p*(1-p)/n)**0.5\n",
    "    nd = stats.norm(p, s)\n",
    "\n",
    "    print(\"P(p =\", p, \", s =\", s, \", x<=\", x, \")=\", nd.cdf(x))\n",
    "    return nd.cdf(x)"
   ]
  },
  {
   "cell_type": "markdown",
   "metadata": {},
   "source": [
    "### 12.98"
   ]
  },
  {
   "cell_type": "code",
   "execution_count": 37,
   "metadata": {},
   "outputs": [
    {
     "name": "stdout",
     "output_type": "stream",
     "text": [
      "p = 0.17\n",
      "UCL = 0.2068113379137441\n",
      "LCL = 0.1331886620862559\n"
     ]
    }
   ],
   "source": [
    "p = 68/400\n",
    "s = (p*(1-p)/400)**0.5\n",
    "print(\"p =\", p)\n",
    "\n",
    "z_r = stats.norm.ppf(1-0.05/2)\n",
    "UCL = p + z_r*s\n",
    "print(\"UCL =\", UCL)\n",
    "\n",
    "z_l = stats.norm.ppf(0.05/2)\n",
    "LCL = p + z_l*s\n",
    "print(\"LCL =\", LCL)"
   ]
  },
  {
   "cell_type": "markdown",
   "metadata": {},
   "source": [
    "### 12.102"
   ]
  },
  {
   "cell_type": "code",
   "execution_count": 38,
   "metadata": {},
   "outputs": [
    {
     "name": "stdout",
     "output_type": "stream",
     "text": [
      "p = 0.007712082262210797\n",
      "UCL = 0.019136838886447564\n",
      "LCL = -0.0037126743620259726\n"
     ]
    }
   ],
   "source": [
    "p = (1+2)/ (385+4)\n",
    "s = (p*(1-p)/(385+4))**0.5\n",
    "print(\"p =\", p)\n",
    "\n",
    "z_r = stats.norm.ppf(1-0.01/2)\n",
    "UCL = p + z_r*s\n",
    "print(\"UCL =\", UCL)\n",
    "\n",
    "z_l = stats.norm.ppf(0.01/2)\n",
    "LCL = p + z_l*s\n",
    "print(\"LCL =\", LCL)"
   ]
  },
  {
   "cell_type": "markdown",
   "metadata": {},
   "source": [
    "Since the result shouldn't be negative, LCL = 0."
   ]
  },
  {
   "cell_type": "markdown",
   "metadata": {},
   "source": [
    "### 12.108\n",
    "let p be the satisfaction rate  \n",
    "H0: p >= 0.9   \n",
    "H1: p<0.9  \n",
    "-> (left tail)  \n",
    "alpha = 0.05"
   ]
  },
  {
   "cell_type": "code",
   "execution_count": 39,
   "metadata": {},
   "outputs": [
    {
     "data": {
      "text/html": [
       "<div>\n",
       "<style scoped>\n",
       "    .dataframe tbody tr th:only-of-type {\n",
       "        vertical-align: middle;\n",
       "    }\n",
       "\n",
       "    .dataframe tbody tr th {\n",
       "        vertical-align: top;\n",
       "    }\n",
       "\n",
       "    .dataframe thead th {\n",
       "        text-align: right;\n",
       "    }\n",
       "</style>\n",
       "<table border=\"1\" class=\"dataframe\">\n",
       "  <thead>\n",
       "    <tr style=\"text-align: right;\">\n",
       "      <th></th>\n",
       "      <th>Satisfied</th>\n",
       "    </tr>\n",
       "  </thead>\n",
       "  <tbody>\n",
       "    <tr>\n",
       "      <th>0</th>\n",
       "      <td>1</td>\n",
       "    </tr>\n",
       "    <tr>\n",
       "      <th>1</th>\n",
       "      <td>1</td>\n",
       "    </tr>\n",
       "    <tr>\n",
       "      <th>2</th>\n",
       "      <td>1</td>\n",
       "    </tr>\n",
       "    <tr>\n",
       "      <th>3</th>\n",
       "      <td>1</td>\n",
       "    </tr>\n",
       "    <tr>\n",
       "      <th>4</th>\n",
       "      <td>1</td>\n",
       "    </tr>\n",
       "    <tr>\n",
       "      <th>...</th>\n",
       "      <td>...</td>\n",
       "    </tr>\n",
       "    <tr>\n",
       "      <th>172</th>\n",
       "      <td>1</td>\n",
       "    </tr>\n",
       "    <tr>\n",
       "      <th>173</th>\n",
       "      <td>1</td>\n",
       "    </tr>\n",
       "    <tr>\n",
       "      <th>174</th>\n",
       "      <td>1</td>\n",
       "    </tr>\n",
       "    <tr>\n",
       "      <th>175</th>\n",
       "      <td>2</td>\n",
       "    </tr>\n",
       "    <tr>\n",
       "      <th>176</th>\n",
       "      <td>2</td>\n",
       "    </tr>\n",
       "  </tbody>\n",
       "</table>\n",
       "<p>177 rows × 1 columns</p>\n",
       "</div>"
      ],
      "text/plain": [
       "     Satisfied\n",
       "0            1\n",
       "1            1\n",
       "2            1\n",
       "3            1\n",
       "4            1\n",
       "..         ...\n",
       "172          1\n",
       "173          1\n",
       "174          1\n",
       "175          2\n",
       "176          2\n",
       "\n",
       "[177 rows x 1 columns]"
      ]
     },
     "execution_count": 39,
     "metadata": {},
     "output_type": "execute_result"
    }
   ],
   "source": [
    "df108 = pd.read_excel(\"Xr12-108.xlsx\")\n",
    "df108"
   ]
  },
  {
   "cell_type": "code",
   "execution_count": 40,
   "metadata": {},
   "outputs": [
    {
     "name": "stdout",
     "output_type": "stream",
     "text": [
      "P(p = 0.9 , s = 0.022549380840084864 , x<= 0.864406779661017 )= 0.05723036878185201\n"
     ]
    },
    {
     "data": {
      "text/plain": [
       "0.05723036878185201"
      ]
     },
     "execution_count": 40,
     "metadata": {},
     "output_type": "execute_result"
    }
   ],
   "source": [
    "n = len(df108)\n",
    "x = len(df108[df108[\"Satisfied\"]==1])/n\n",
    "SamplingProportionCDF (n, 0.9, x)"
   ]
  },
  {
   "cell_type": "markdown",
   "metadata": {},
   "source": [
    "Since pvalue > significance level = 0.05, we do not reject H0.  \n",
    "There is not enough evidence to infer that the satisfaction rate is less than 90%."
   ]
  },
  {
   "cell_type": "markdown",
   "metadata": {},
   "source": [
    "### 12.137"
   ]
  },
  {
   "cell_type": "code",
   "execution_count": 41,
   "metadata": {},
   "outputs": [
    {
     "data": {
      "text/html": [
       "<div>\n",
       "<style scoped>\n",
       "    .dataframe tbody tr th:only-of-type {\n",
       "        vertical-align: middle;\n",
       "    }\n",
       "\n",
       "    .dataframe tbody tr th {\n",
       "        vertical-align: top;\n",
       "    }\n",
       "\n",
       "    .dataframe thead th {\n",
       "        text-align: right;\n",
       "    }\n",
       "</style>\n",
       "<table border=\"1\" class=\"dataframe\">\n",
       "  <thead>\n",
       "    <tr style=\"text-align: right;\">\n",
       "      <th></th>\n",
       "      <th>Distance</th>\n",
       "    </tr>\n",
       "  </thead>\n",
       "  <tbody>\n",
       "    <tr>\n",
       "      <th>0</th>\n",
       "      <td>727</td>\n",
       "    </tr>\n",
       "    <tr>\n",
       "      <th>1</th>\n",
       "      <td>498</td>\n",
       "    </tr>\n",
       "    <tr>\n",
       "      <th>2</th>\n",
       "      <td>843</td>\n",
       "    </tr>\n",
       "    <tr>\n",
       "      <th>3</th>\n",
       "      <td>518</td>\n",
       "    </tr>\n",
       "    <tr>\n",
       "      <th>4</th>\n",
       "      <td>676</td>\n",
       "    </tr>\n",
       "    <tr>\n",
       "      <th>...</th>\n",
       "      <td>...</td>\n",
       "    </tr>\n",
       "    <tr>\n",
       "      <th>178</th>\n",
       "      <td>823</td>\n",
       "    </tr>\n",
       "    <tr>\n",
       "      <th>179</th>\n",
       "      <td>782</td>\n",
       "    </tr>\n",
       "    <tr>\n",
       "      <th>180</th>\n",
       "      <td>474</td>\n",
       "    </tr>\n",
       "    <tr>\n",
       "      <th>181</th>\n",
       "      <td>525</td>\n",
       "    </tr>\n",
       "    <tr>\n",
       "      <th>182</th>\n",
       "      <td>400</td>\n",
       "    </tr>\n",
       "  </tbody>\n",
       "</table>\n",
       "<p>183 rows × 1 columns</p>\n",
       "</div>"
      ],
      "text/plain": [
       "     Distance\n",
       "0         727\n",
       "1         498\n",
       "2         843\n",
       "3         518\n",
       "4         676\n",
       "..        ...\n",
       "178       823\n",
       "179       782\n",
       "180       474\n",
       "181       525\n",
       "182       400\n",
       "\n",
       "[183 rows x 1 columns]"
      ]
     },
     "execution_count": 41,
     "metadata": {},
     "output_type": "execute_result"
    }
   ],
   "source": [
    "df137 = pd.read_excel(\"Xr12-137.xlsx\")\n",
    "df137"
   ]
  },
  {
   "cell_type": "code",
   "execution_count": 42,
   "metadata": {},
   "outputs": [
    {
     "name": "stdout",
     "output_type": "stream",
     "text": [
      "mean = 730.639344262295\n",
      "UCL = 760.0166026657811\n",
      "LCL = 701.262085858809\n"
     ]
    }
   ],
   "source": [
    "mean = df137[\"Distance\"].mean()\n",
    "s = df137[\"Distance\"].std()\n",
    "n = len(df137)\n",
    "print(\"mean =\", mean)\n",
    "\n",
    "z_r = stats.t.ppf(1-0.05/2,df=n-1)\n",
    "UCL = mean + z_r*s/(n**0.5)\n",
    "print(\"UCL =\", UCL)\n",
    "\n",
    "z_l = stats.t.ppf(0.05/2,df=n-1)\n",
    "LCL = mean + z_l*s/(n**0.5)\n",
    "print(\"LCL =\", LCL)"
   ]
  }
 ],
 "metadata": {
  "kernelspec": {
   "display_name": "Python 3",
   "language": "python",
   "name": "python3"
  },
  "language_info": {
   "codemirror_mode": {
    "name": "ipython",
    "version": 3
   },
   "file_extension": ".py",
   "mimetype": "text/x-python",
   "name": "python",
   "nbconvert_exporter": "python",
   "pygments_lexer": "ipython3",
   "version": "3.8.5"
  }
 },
 "nbformat": 4,
 "nbformat_minor": 4
}
