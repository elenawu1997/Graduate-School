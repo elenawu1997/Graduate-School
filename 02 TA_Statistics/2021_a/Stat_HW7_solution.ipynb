{
 "cells": [
  {
   "cell_type": "code",
   "execution_count": 1,
   "metadata": {},
   "outputs": [],
   "source": [
    "import scipy.stats as stats"
   ]
  },
  {
   "cell_type": "code",
   "execution_count": 2,
   "metadata": {},
   "outputs": [],
   "source": [
    "#calculate Sampling Distribution of the mean for P(X<...) or P(X<=...)\n",
    "def SamplingMeanCDF (n, mu, s, x):\n",
    "\n",
    "    s = s/(n**0.5)\n",
    "    nd = stats.norm(mu, s)\n",
    "\n",
    "    print(\"P(mu =\", mu, \", s =\", s, \", x<=\", x, \")=\", nd.cdf(x))\n",
    "    return nd.cdf(x)"
   ]
  },
  {
   "cell_type": "code",
   "execution_count": 3,
   "metadata": {},
   "outputs": [],
   "source": [
    "#calculate Sampling Distribution of a proportion for P(X<...) or P(X<=...)\n",
    "def SamplingProportionCDF (n, p, x):\n",
    "\n",
    "    s = (p*(1-p)/n)**0.5\n",
    "    nd = stats.norm(p, s)\n",
    "\n",
    "    print(\"P(p =\", p, \", s =\", s, \", x<=\", x, \")=\", nd.cdf(x))\n",
    "    return nd.cdf(x)"
   ]
  },
  {
   "cell_type": "code",
   "execution_count": 4,
   "metadata": {},
   "outputs": [],
   "source": [
    "#calculate Sampling Distribution of the Difference Between Two Means for P(X1-X2<...) or P(X1-X2<=...)\n",
    "def SamplingTwoMeanCDF (n, mu1, s1, mu2, s2, x):\n",
    "\n",
    "    mu = mu1 - mu2\n",
    "    s = (s1**2/n + s2**2/n)**0.5\n",
    "    nd = stats.norm(mu, s)\n",
    "\n",
    "    print(\"P(mu =\", mu, \", s =\", s, \", x<=\", x, \")=\", nd.cdf(x))\n",
    "    return nd.cdf(x)"
   ]
  },
  {
   "cell_type": "markdown",
   "metadata": {},
   "source": [
    "## Exercise 9.32 (a.15% b.5%)"
   ]
  },
  {
   "cell_type": "code",
   "execution_count": 17,
   "metadata": {},
   "outputs": [
    {
     "name": "stdout",
     "output_type": "stream",
     "text": [
      "P(mu = 6.05 , s = 0.03 , x<= 5.97 )= 0.003830380567589705\n",
      "a = P(x<=5.97) =  0.003830380567589705\n"
     ]
    }
   ],
   "source": [
    "print('a = P(x<=5.97) = ',SamplingMeanCDF (36, 6.05, 0.18, 5.97))"
   ]
  },
  {
   "cell_type": "markdown",
   "metadata": {},
   "source": [
    "b It appears to be false.(解釋部分略)"
   ]
  },
  {
   "cell_type": "markdown",
   "metadata": {},
   "source": [
    "## Exercise 9.36 (15%)"
   ]
  },
  {
   "cell_type": "code",
   "execution_count": 7,
   "metadata": {},
   "outputs": [
    {
     "name": "stdout",
     "output_type": "stream",
     "text": [
      "P(mu = 4.8 , s = 0.16782927833565472 , x<= 5 )= 0.8833080373247593\n",
      "1-P(x<=5) =  0.11669196267524073\n"
     ]
    }
   ],
   "source": [
    "print('1-P(x<=5) = ',1-SamplingMeanCDF (60, 4.8, 1.3, 5))"
   ]
  },
  {
   "cell_type": "markdown",
   "metadata": {},
   "source": [
    "## Exercise 9.52 (a.15% b.5%)"
   ]
  },
  {
   "cell_type": "code",
   "execution_count": 10,
   "metadata": {},
   "outputs": [
    {
     "name": "stdout",
     "output_type": "stream",
     "text": [
      "P(p = 0.5 , s = 0.020412414523193152 , x<= 0.45 )= 0.0071529392177148285\n",
      "P(x<=0.45) =  0.0071529392177148285\n"
     ]
    }
   ],
   "source": [
    "print('P(x<=0.45) = ',SamplingProportionCDF (600, 0.5, 0.45))"
   ]
  },
  {
   "cell_type": "markdown",
   "metadata": {},
   "source": [
    "b The claim appears to be false.(解釋部分略)"
   ]
  },
  {
   "cell_type": "markdown",
   "metadata": {},
   "source": [
    "## Exercise 9.58 (15%)"
   ]
  },
  {
   "cell_type": "code",
   "execution_count": 11,
   "metadata": {},
   "outputs": [
    {
     "name": "stdout",
     "output_type": "stream",
     "text": [
      "P(p = 0.2 , s = 0.01788854381999832 , x<= 0.22 )= 0.8682237613585135\n",
      "1-P(x<=0.22) =  0.13177623864148647\n"
     ]
    }
   ],
   "source": [
    "print('1-P(x<=0.22) = ',1-SamplingProportionCDF (500, 0.2, 0.22))"
   ]
  },
  {
   "cell_type": "markdown",
   "metadata": {},
   "source": [
    "## Exercise 9.61 (15%)"
   ]
  },
  {
   "cell_type": "code",
   "execution_count": 15,
   "metadata": {},
   "outputs": [
    {
     "name": "stdout",
     "output_type": "stream",
     "text": [
      "P(mu = 10 , s = 12.349089035228468 , x<= 25 )= 0.8877529603407661\n",
      "1-P(x1-x2<=25) =  0.11224703965923388\n"
     ]
    }
   ],
   "source": [
    "print('1-P(x1-x2<=25) = ', 1-SamplingTwoMeanCDF (10, 280, 25, 270, 30, 25))"
   ]
  },
  {
   "cell_type": "markdown",
   "metadata": {},
   "source": [
    "## Exercise 9.68  (15%)"
   ]
  },
  {
   "cell_type": "code",
   "execution_count": 14,
   "metadata": {},
   "outputs": [
    {
     "name": "stdout",
     "output_type": "stream",
     "text": [
      "P(mu = -0.040000000000000036 , s = 0.07810249675906655 , x<= 0 )= 0.6957261154461136\n",
      "1-P(x1-x2<=0) =  0.3042738845538864\n"
     ]
    }
   ],
   "source": [
    "print('1-P(x1-x2<=0) = ', 1-SamplingTwoMeanCDF (4, 0.73, 0.12, 0.77, 0.10, 0))"
   ]
  }
 ],
 "metadata": {
  "kernelspec": {
   "display_name": "Python 3",
   "language": "python",
   "name": "python3"
  },
  "language_info": {
   "codemirror_mode": {
    "name": "ipython",
    "version": 3
   },
   "file_extension": ".py",
   "mimetype": "text/x-python",
   "name": "python",
   "nbconvert_exporter": "python",
   "pygments_lexer": "ipython3",
   "version": "3.8.5"
  }
 },
 "nbformat": 4,
 "nbformat_minor": 4
}
