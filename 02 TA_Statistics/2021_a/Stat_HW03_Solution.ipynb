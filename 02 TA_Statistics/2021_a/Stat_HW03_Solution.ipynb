{
 "cells": [
  {
   "cell_type": "markdown",
   "metadata": {},
   "source": [
    "## HW03 Solution"
   ]
  },
  {
   "cell_type": "code",
   "execution_count": 19,
   "metadata": {},
   "outputs": [],
   "source": [
    "import pandas as pd\n",
    "import numpy as np\n",
    "import math\n",
    "from scipy.stats import moment\n",
    "import seaborn as sns\n",
    "import matplotlib.pyplot as plt\n"
   ]
  },
  {
   "cell_type": "markdown",
   "metadata": {},
   "source": [
    "### Exercise 4.35  (9%：每小題各3%)\n",
    "Since the data has a bell-shaped distribution, we can apply the Empirical Rule.  \n",
    "(46, 54) = (mean - s, mean + s) contains approximately 68% of the measurements.  \n",
    "(42, 58) = (mean-2s, mean+2s) contains approximately 95% of the measurements.  \n",
    "(38, 62) = (mean-3s, mean+3s) contains approximately 99.7% of the measurements.  "
   ]
  },
  {
   "cell_type": "markdown",
   "metadata": {},
   "source": [
    "### Exercise 4.41  (15%：每個var, std各2%, (b)3%)\n",
    "此題data為樣本，假設資料單位為 m  \n",
    "(a)"
   ]
  },
  {
   "cell_type": "code",
   "execution_count": 2,
   "metadata": {},
   "outputs": [
    {
     "name": "stdout",
     "output_type": "stream",
     "text": [
      "var of Punter 1 = 40.21591836734694 m2\n",
      "var of Punter 2 = 14.806530612244902 m2\n",
      "var of Punter 3 = 3.633061224489794 m2\n",
      "\n",
      "\n",
      "std of Punter 1 = 6.341602192454753 m\n",
      "std of Punter 2 = 3.847925494632777 m\n",
      "std of Punter 3 = 1.9060590821088925 m\n"
     ]
    }
   ],
   "source": [
    "df41 = pd.read_excel('Xr04-41.xlsx')\n",
    "\n",
    "print(\"var of Punter 1 =\", df41[\"Punter 1\"].var(),\"m2\")\n",
    "print(\"var of Punter 2 =\", df41[\"Punter 2\"].var(),\"m2\")\n",
    "print(\"var of Punter 3 =\", df41[\"Punter 3\"].var(),\"m2\")\n",
    "print(\"\\n\")\n",
    "print(\"std of Punter 1 =\", df41[\"Punter 1\"].std(),\"m\")\n",
    "print(\"std of Punter 2 =\", df41[\"Punter 2\"].std(),\"m\")\n",
    "print(\"std of Punter 3 =\", df41[\"Punter 3\"].std(),\"m\")"
   ]
  },
  {
   "cell_type": "markdown",
   "metadata": {},
   "source": [
    "(b) (略)"
   ]
  },
  {
   "cell_type": "markdown",
   "metadata": {},
   "source": [
    "### Exercise 4.47  (9%：mean, std, describe各3%)\n",
    "假設資料單位為dollar"
   ]
  },
  {
   "cell_type": "code",
   "execution_count": 3,
   "metadata": {},
   "outputs": [
    {
     "name": "stdout",
     "output_type": "stream",
     "text": [
      "mean of Property tax = 1937.3162857142854 dollars\n",
      "std of Property tax = 949.9909560675101 dollars\n"
     ]
    }
   ],
   "source": [
    "df47 = pd.read_excel('Xr04-47.xlsx')\n",
    "\n",
    "print(\"mean of Property tax =\", df47[\"Property tax\"].mean(),\"dollars\")\n",
    "print(\"std of Property tax =\", df47[\"Property tax\"].std(),\"dollars\")"
   ]
  },
  {
   "cell_type": "markdown",
   "metadata": {},
   "source": [
    "Describe: 大多答案包含利用Chebyshev定理推論數值區間、利用positive skewed的前提推斷mean, median, mode大小等。"
   ]
  },
  {
   "cell_type": "markdown",
   "metadata": {},
   "source": [
    "### Exercise 4.61   (9%：每小題各3%)"
   ]
  },
  {
   "cell_type": "code",
   "execution_count": 16,
   "metadata": {},
   "outputs": [],
   "source": [
    "def percentile(data1, p):\n",
    "    if type(data1) == np.ndarray:        \n",
    "        alldata = data1.copy()\n",
    "        data1 = data1.copy()\n",
    "    else:\n",
    "        alldata = data1.values.copy()\n",
    "        data1 = data1.values.copy()\n",
    "    alldata.sort()\n",
    "    n = alldata.size\n",
    "    l = (n + 1) * p / 100 - 1\n",
    "    f_l = math.floor(l)\n",
    "    c_l = math.ceil(l)\n",
    "    percentile_v = alldata[f_l] + (alldata[c_l] - alldata[f_l]) * (l - f_l)\n",
    "    return percentile_v"
   ]
  },
  {
   "cell_type": "code",
   "execution_count": 5,
   "metadata": {},
   "outputs": [
    {
     "name": "stdout",
     "output_type": "stream",
     "text": [
      "Q1 =  13.05\n",
      "Q2 =  14.7\n",
      "Q3 =  15.600000000000001\n"
     ]
    }
   ],
   "source": [
    "r61 = np.array([10.5, 14.7, 15.3, 17.7, 15.9, 12.2, 10.0, 14.1, 13.9, 18.5, 13.9, 15.1, 14.7])\n",
    "\n",
    "p25 = percentile(r61, 25)\n",
    "p50 = percentile(r61, 50)\n",
    "p75 = percentile(r61, 75)\n",
    "\n",
    "print(\"Q1 = \", p25)\n",
    "print(\"Q2 = \", p50)\n",
    "print(\"Q3 = \", p75)"
   ]
  },
  {
   "cell_type": "markdown",
   "metadata": {},
   "source": [
    "### Exercise 4.67  (3%)"
   ]
  },
  {
   "cell_type": "code",
   "execution_count": 9,
   "metadata": {},
   "outputs": [
    {
     "name": "stdout",
     "output_type": "stream",
     "text": [
      "The correct limit should be 75.0 mph\n"
     ]
    }
   ],
   "source": [
    "df67 = pd.read_excel('Xr04-67.xlsx')\n",
    "\n",
    "r67 = df67['Speeds'].to_numpy()\n",
    "p85 = percentile(r67, 85)\n",
    "\n",
    "print(\"The correct limit should be\", p85, 'mph')"
   ]
  },
  {
   "cell_type": "markdown",
   "metadata": {},
   "source": [
    "### Exercise 4.75   (12%：Q各3%，describe3%)"
   ]
  },
  {
   "cell_type": "code",
   "execution_count": 7,
   "metadata": {},
   "outputs": [],
   "source": [
    "df75 = pd.read_excel('Xr04-75.xlsx')"
   ]
  },
  {
   "cell_type": "code",
   "execution_count": 17,
   "metadata": {},
   "outputs": [
    {
     "name": "stdout",
     "output_type": "stream",
     "text": [
      "Q1 =  9836.97277836036 dollars\n",
      "Q2 =  12224.261765298434 dollars\n",
      "Q3 =  14597.98836724367 dollars\n"
     ]
    }
   ],
   "source": [
    "r75 = df75['Mortgage Deduction'].to_numpy()\n",
    "\n",
    "p25 = percentile(r75, 25)\n",
    "p50 = percentile(r75, 50)\n",
    "p75 = percentile(r75, 75)\n",
    "\n",
    "print(\"Q1 = \", p25, 'dollars')\n",
    "print(\"Q2 = \", p50, 'dollars')\n",
    "print(\"Q3 = \", p75, 'dollars')"
   ]
  },
  {
   "cell_type": "markdown",
   "metadata": {},
   "source": [
    "### Compute and interpret coefficients of Skewness and Kurtosis for 4.67 and 4.75  \n",
    "### 每題9%(skewness 3%，kurtosis 3%，interpret 3%(需提到Skewness and Kurtosis，只有一個則-1.5%))，共18%"
   ]
  },
  {
   "cell_type": "code",
   "execution_count": 2,
   "metadata": {},
   "outputs": [],
   "source": [
    "df67 = pd.read_excel('Xr04-67.xlsx')"
   ]
  },
  {
   "cell_type": "code",
   "execution_count": 3,
   "metadata": {},
   "outputs": [
    {
     "name": "stdout",
     "output_type": "stream",
     "text": [
      "skewness =  [0.11491526]\n",
      "kurtosis =  [3.53531935]\n"
     ]
    }
   ],
   "source": [
    "m2 = moment(df67, moment=2)\n",
    "m3 = moment(df67, moment=3)\n",
    "m4 = moment(df67, moment=4)\n",
    "skew_f = m3 / pow(pow(m2, 0.5), 3)\n",
    "print(\"skewness = \", skew_f)\n",
    "kurtosis_f = m4 / pow(m2, 2)\n",
    "print(\"kurtosis = \", kurtosis_f) "
   ]
  },
  {
   "cell_type": "code",
   "execution_count": 4,
   "metadata": {},
   "outputs": [],
   "source": [
    "df75 = pd.read_excel('Xr04-75.xlsx')"
   ]
  },
  {
   "cell_type": "code",
   "execution_count": 5,
   "metadata": {},
   "outputs": [
    {
     "name": "stdout",
     "output_type": "stream",
     "text": [
      "skewness =  [-0.02519243]\n",
      "kurtosis =  [2.68429489]\n"
     ]
    }
   ],
   "source": [
    "m2 = moment(df75, moment=2)\n",
    "m3 = moment(df75, moment=3)\n",
    "m4 = moment(df75, moment=4)\n",
    "skew_f = m3 / pow(pow(m2, 0.5), 3)\n",
    "print(\"skewness = \", skew_f)\n",
    "kurtosis_f = m4 / pow(m2, 2)\n",
    "print(\"kurtosis = \", kurtosis_f) "
   ]
  },
  {
   "cell_type": "markdown",
   "metadata": {},
   "source": [
    "### Compute and interpret covariance and r for 4.95 and 4.101\n",
    "### 每題12%(scatter plot 3%，covariance 3%，r 3%，interpret 3%(需提到covariance and r，只有一個則-1.5%))，共24%\n",
    "* 4.101有做'Home Attendance' 和'wins' 就算對\n",
    "* Correlation: positive/negative 0.5%, very/moderately weak/string 0.5%, linear relationship 0.5%"
   ]
  },
  {
   "cell_type": "code",
   "execution_count": 25,
   "metadata": {},
   "outputs": [],
   "source": [
    "df95 = pd.read_excel('Xr04-95.xlsx')"
   ]
  },
  {
   "cell_type": "code",
   "execution_count": 51,
   "metadata": {},
   "outputs": [],
   "source": [
    "def LinearRelationship(X, y, data, yunit = ''):\n",
    "    _ = sns.regplot(x= X, y= y, data = data, color = 'r', ci = None)\n",
    "    plt.title('Scatter Plot for ' + X +' vs.' + y)\n",
    "    if yunit:\n",
    "        plt.ylabel('Alcohol' + ' (' + yunit + ')')\n",
    "    plt.show()\n",
    "\n",
    "    #Compute the covariance matrix\n",
    "    cov_mat = np.cov(data[[X, y]].values, rowvar = False)\n",
    "    print(cov_mat)\n",
    "    print('covariance = ', cov_mat[1][0])\n",
    "\n",
    "    #Compute the correlation matrix\n",
    "    cor_mat = np.corrcoef(data[[X, y]].values, rowvar = False)\n",
    "    print('r = ', cor_mat[1][0])"
   ]
  },
  {
   "cell_type": "code",
   "execution_count": 47,
   "metadata": {},
   "outputs": [
    {
     "data": {
      "image/png": "[encoded data removed]",
      "text/plain": [
       "<Figure size 432x288 with 1 Axes>"
      ]
     },
     "metadata": {
      "needs_background": "light"
     },
     "output_type": "display_data"
    },
    {
     "name": "stdout",
     "output_type": "stream",
     "text": [
      "covariance =  531.5122314147967\n",
      "r =  0.514438703804137\n"
     ]
    }
   ],
   "source": [
    "LinearRelationship('Age', 'Alcohol ', df95, 'dollars')"
   ]
  },
  {
   "cell_type": "code",
   "execution_count": 48,
   "metadata": {},
   "outputs": [],
   "source": [
    "df101 = pd.read_excel('Xr04-101.xlsx')"
   ]
  },
  {
   "cell_type": "code",
   "execution_count": 52,
   "metadata": {},
   "outputs": [
    {
     "data": {
      "image/png": "[encoded data removed]",
      "text/plain": [
       "<Figure size 432x288 with 1 Axes>"
      ]
     },
     "metadata": {
      "needs_background": "light"
     },
     "output_type": "display_data"
    },
    {
     "name": "stdout",
     "output_type": "stream",
     "text": [
      "[[5.31794186e+07 4.00912816e+04]\n",
      " [4.00912816e+04 1.09274713e+02]]\n",
      "covariance =  40091.281609195394\n",
      "r =  0.5259183337997146\n"
     ]
    }
   ],
   "source": [
    "LinearRelationship('Home Attendance', 'Wins', df101)"
   ]
  },
  {
   "cell_type": "code",
   "execution_count": 50,
   "metadata": {},
   "outputs": [
    {
     "data": {
      "image/png": "[encoded data removed]",
      "text/plain": [
       "<Figure size 432x288 with 1 Axes>"
      ]
     },
     "metadata": {
      "needs_background": "light"
     },
     "output_type": "display_data"
    },
    {
     "name": "stdout",
     "output_type": "stream",
     "text": [
      "covariance =  2283.9643678160924\n",
      "r =  0.111460523465819\n"
     ]
    }
   ],
   "source": [
    "LinearRelationship('Away Attendance', 'Wins', df101)"
   ]
  }
 ],
 "metadata": {
  "kernelspec": {
   "display_name": "Python 3",
   "language": "python",
   "name": "python3"
  },
  "language_info": {
   "codemirror_mode": {
    "name": "ipython",
    "version": 3
   },
   "file_extension": ".py",
   "mimetype": "text/x-python",
   "name": "python",
   "nbconvert_exporter": "python",
   "pygments_lexer": "ipython3",
   "version": "3.8.5"
  }
 },
 "nbformat": 4,
 "nbformat_minor": 4
}
