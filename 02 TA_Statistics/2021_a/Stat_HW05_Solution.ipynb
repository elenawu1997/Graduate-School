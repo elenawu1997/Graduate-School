{
 "cells": [
  {
   "cell_type": "code",
   "execution_count": 5,
   "metadata": {},
   "outputs": [],
   "source": [
    "import pandas as pd\n",
    "import numpy as np\n",
    "import scipy.stats as stats"
   ]
  },
  {
   "cell_type": "markdown",
   "metadata": {},
   "source": [
    "### 評分標準：  \n",
    "#### 本次作業共有33小題，每小題3%，若該小題內有不只一個問題，則錯一個扣1分，扣到3分扣完為止。"
   ]
  },
  {
   "cell_type": "markdown",
   "metadata": {},
   "source": [
    "## 7.7  \n",
    "#### (a) 若只有列出一串機率數字而沒有寫出對應的tv數，全錯。"
   ]
  },
  {
   "cell_type": "code",
   "execution_count": 2,
   "metadata": {},
   "outputs": [
    {
     "name": "stdout",
     "output_type": "stream",
     "text": [
      "probability of having 0 tv(s) is 0.011999881774563797\n",
      "probability of having 1 tv(s) is 0.31900178323366274\n",
      "probability of having 2 tv(s) is 0.37399631530723837\n",
      "probability of having 3 tv(s) is 0.19100304430498222\n",
      "probability of having 4 tv(s) is 0.07599925123890405\n",
      "probability of having 5 tv(s) is 0.02799972414064886\n"
     ]
    }
   ],
   "source": [
    "tv = [1218, 32379, 37961, 19387, 7714, 2842]\n",
    "tv_p = [t/sum(tv) for t in tv]\n",
    "for i in range(6):\n",
    "    print('probability of having', i, 'tv(s) is', tv_p[i])"
   ]
  },
  {
   "cell_type": "code",
   "execution_count": 3,
   "metadata": {},
   "outputs": [
    {
     "data": {
      "text/plain": [
       "[0.011999881774563797,\n",
       " 0.31900178323366274,\n",
       " 0.37399631530723837,\n",
       " 0.19100304430498222,\n",
       " 0.07599925123890405,\n",
       " 0.02799972414064886]"
      ]
     },
     "execution_count": 3,
     "metadata": {},
     "output_type": "execute_result"
    }
   ],
   "source": [
    "tv_p"
   ]
  },
  {
   "cell_type": "markdown",
   "metadata": {},
   "source": [
    "#### (b) 若只有列出一串機率數字而沒有寫出對應的tv數，全錯。  \n",
    "P(X<=2) = P(X=0) + P(X=1) + P(X=2)  \n",
    "P(X>2)  = 1 - P(X<=2) = 1 - P(X=0) - P(X=1) - P(X=2)  \n",
    "P(X>=4) = P(X=4) + P(X=5)"
   ]
  },
  {
   "cell_type": "code",
   "execution_count": 56,
   "metadata": {},
   "outputs": [
    {
     "name": "stdout",
     "output_type": "stream",
     "text": [
      "P(X<=2) =  0.7049979803154649\n",
      "P(X>2)  =  0.29500201968453504\n",
      "P(X>=4) =  0.10399897537955291\n"
     ]
    }
   ],
   "source": [
    "print('P(X<=2) = ', tv_p[0]+tv_p[1]+tv_p[2])\n",
    "print('P(X>2)  = ', 1- tv_p[0]-tv_p[1]-tv_p[2])\n",
    "print('P(X>=4) = ', tv_p[4]+tv_p[5])"
   ]
  },
  {
   "cell_type": "markdown",
   "metadata": {},
   "source": [
    "## 7.19"
   ]
  },
  {
   "cell_type": "code",
   "execution_count": 18,
   "metadata": {},
   "outputs": [],
   "source": [
    "X = [0, 1, 2, 3]\n",
    "P = [0.4, 0.3, 0.2, 0.1]"
   ]
  },
  {
   "cell_type": "markdown",
   "metadata": {},
   "source": [
    "#### (a)"
   ]
  },
  {
   "cell_type": "code",
   "execution_count": 19,
   "metadata": {},
   "outputs": [
    {
     "name": "stdout",
     "output_type": "stream",
     "text": [
      "mean =  1.0\n",
      "var  =  1.0\n",
      "std  =  1.0\n"
     ]
    }
   ],
   "source": [
    "mean1 = sum([a * b for a, b in zip(X, P)])\n",
    "var1 = sum([(a - mean1) ** 2 * b for a, b in zip(X, P)])\n",
    "std1 = var1 ** (1/2)\n",
    "\n",
    "print('mean = ', mean1)\n",
    "print('var  = ', var1)\n",
    "print('std  = ', std1)"
   ]
  },
  {
   "cell_type": "markdown",
   "metadata": {},
   "source": [
    "#### (b) 若Ｙ和機率分開寫沒有明確寫出對應關係-1%。"
   ]
  },
  {
   "cell_type": "code",
   "execution_count": 20,
   "metadata": {},
   "outputs": [
    {
     "name": "stdout",
     "output_type": "stream",
     "text": [
      "X = 0 maps to Y= 2 Probability = 0.4\n",
      "X = 1 maps to Y= 5 Probability = 0.3\n",
      "X = 2 maps to Y= 8 Probability = 0.2\n",
      "X = 3 maps to Y= 11 Probability = 0.1\n"
     ]
    }
   ],
   "source": [
    "Y = [(x * 3 + 2) for x in X]\n",
    "for i in range(4):\n",
    "    print('X =', X[i], 'maps to Y=', Y[i], 'Probability =', P[i])"
   ]
  },
  {
   "cell_type": "markdown",
   "metadata": {},
   "source": [
    "#### (c)"
   ]
  },
  {
   "cell_type": "code",
   "execution_count": 102,
   "metadata": {},
   "outputs": [
    {
     "name": "stdout",
     "output_type": "stream",
     "text": [
      "mean =  5.0\n",
      "var  =  9.0\n",
      "std  =  3.0\n"
     ]
    }
   ],
   "source": [
    "mean2 = sum([a * b for a, b in zip(Y, P)])\n",
    "var2 = sum([(a - mean2) ** 2 * b for a, b in zip(Y, P)])\n",
    "std2 = var2 ** (1/2)\n",
    "\n",
    "print('mean = ', mean2)\n",
    "print('var  = ', var2)\n",
    "print('std  = ', std2)"
   ]
  },
  {
   "cell_type": "markdown",
   "metadata": {},
   "source": [
    "#### (d) 若(c)有錯，但(d)有列出按照law算出E(Y), V(Y), std(Y)，則視為無法解釋same與否-1%\n",
    "E(Y) = E(3X + 2) = 3E(X) + 2  \n",
    "V(Y) = V(3X + 2) = V(3X) = 3^2 V(X)  \n",
    "std(Y) = V(Y)^(1/2) = (3^2 V(X))^(1/2) = 3 std(X)"
   ]
  },
  {
   "cell_type": "code",
   "execution_count": 103,
   "metadata": {},
   "outputs": [
    {
     "name": "stdout",
     "output_type": "stream",
     "text": [
      "Are means same?  True\n",
      "Are vars same?   True\n",
      "Are stds same?   True\n"
     ]
    }
   ],
   "source": [
    "print ('Are means same? ', mean2 == (3*mean1 +2))\n",
    "print ('Are vars same?  ', var2  == ((3**2)*var1))\n",
    "print ('Are stds same?  ', std2  == (3*std1))"
   ]
  },
  {
   "cell_type": "markdown",
   "metadata": {},
   "source": [
    "## 7.37\n",
    "#### 單位沒寫-1%"
   ]
  },
  {
   "cell_type": "code",
   "execution_count": 198,
   "metadata": {},
   "outputs": [
    {
     "name": "stdout",
     "output_type": "stream",
     "text": [
      "0.7 dollars\n"
     ]
    }
   ],
   "source": [
    "prize = [1000000, 200000, 50000, 10000, 1000]\n",
    "P = [(1/10000000), (1/1000000), (1/500000), (1/50000), (1/10000)]\n",
    "EV = sum([a * b for a, b in zip(prize, P)])\n",
    "print(EV, 'dollars')"
   ]
  },
  {
   "cell_type": "markdown",
   "metadata": {},
   "source": [
    "## 7.57  \n",
    "#### 請明確定義X,Y，才可以寫P(X=0)等敘述，這次先不扣分，下次開始扣分。\n",
    "\n",
    "Let Bottles of Liquor be X, and Cartons of Cigarettes be Y. \n",
    "#### (a)  \n",
    "P(X = 0) = P(X=0 and Y=0) + P(X=0 and Y=1)  \n",
    "P(X = 1) = P(X=1 and Y=0) + P(X=1 and Y=1)  "
   ]
  },
  {
   "cell_type": "code",
   "execution_count": 107,
   "metadata": {},
   "outputs": [
    {
     "name": "stdout",
     "output_type": "stream",
     "text": [
      "P(X = 0) = 0.72\n",
      "P(X = 1) = 0.28\n"
     ]
    }
   ],
   "source": [
    "print('P(X = 0) =', 0.63 + 0.09)\n",
    "print('P(X = 1) =', 0.18 + 0.10)"
   ]
  },
  {
   "cell_type": "markdown",
   "metadata": {},
   "source": [
    "#### (b)\n",
    "P(Y = 0) = P(X=0 and Y=0) + P(X=1 and Y=0)   \n",
    "P(Y = 1) = P(X=0 and Y=1) + P(X=1 and Y=1)"
   ]
  },
  {
   "cell_type": "code",
   "execution_count": 108,
   "metadata": {},
   "outputs": [
    {
     "name": "stdout",
     "output_type": "stream",
     "text": [
      "P(Y = 0) = 0.81\n",
      "P(Y = 1) = 0.19\n"
     ]
    }
   ],
   "source": [
    "print('P(Y = 0) =', 0.63 + 0.18)\n",
    "print('P(Y = 1) =', 0.09 + 0.10)"
   ]
  },
  {
   "cell_type": "markdown",
   "metadata": {},
   "source": [
    "#### (c) 單位沒寫-1%"
   ]
  },
  {
   "cell_type": "code",
   "execution_count": 21,
   "metadata": {},
   "outputs": [
    {
     "name": "stdout",
     "output_type": "stream",
     "text": [
      "mean =  0.28 (bottle)\n",
      "var  =  0.2016 (bottle^2)\n"
     ]
    }
   ],
   "source": [
    "mean_x = 0 * 0.72 + 1 * 0.28\n",
    "var_x = sum([(a - mean_x) ** 2 * b for a, b in zip([0, 1], [0.72, 0.28])])\n",
    "print('mean = ',mean_x, '(bottle)')\n",
    "print('var  = ', var_x, '(bottle^2)')"
   ]
  },
  {
   "cell_type": "markdown",
   "metadata": {},
   "source": [
    "#### (d) 單位沒寫-1%"
   ]
  },
  {
   "cell_type": "code",
   "execution_count": 22,
   "metadata": {},
   "outputs": [
    {
     "name": "stdout",
     "output_type": "stream",
     "text": [
      "mean =  0.19 (carton)\n",
      "var  =  0.15390000000000004 (carton^2)\n"
     ]
    }
   ],
   "source": [
    "mean_y = 0 * 0.81 + 1 * 0.19\n",
    "var_y = sum([(a - mean_y) ** 2 * b for a, b in zip([0, 1], [0.81, 0.19])])\n",
    "print('mean = ',mean_y, '(carton)')\n",
    "print('var  = ', var_y, '(carton^2)')"
   ]
  },
  {
   "cell_type": "markdown",
   "metadata": {},
   "source": [
    "#### (e)"
   ]
  },
  {
   "cell_type": "code",
   "execution_count": 24,
   "metadata": {},
   "outputs": [
    {
     "name": "stdout",
     "output_type": "stream",
     "text": [
      "covarieance =  0.0468\n",
      "coeffient of correlation =  0.2656937137768185\n"
     ]
    }
   ],
   "source": [
    "cov = 0*0*0.63 + 0*1*0.18 + 1*0*0.09 + 1*1*0.10 - mean_x*mean_y\n",
    "r = cov/ (var_x**(1/2)*var_y**(1/2))\n",
    "print('covarieance = ', cov)\n",
    "print('coeffient of correlation = ', r)"
   ]
  },
  {
   "cell_type": "markdown",
   "metadata": {},
   "source": [
    "## 7.63  \n",
    "\n",
    "#### 這大題需至少寫出判斷標準如Home>Visiting或是明確寫出P(x=1, y=0)等數字，只有列出數字相加或是用迴圈而看不出判斷標準的，視為計算過程說明不足，（會被寫上Why?）全扣。\n",
    "#### 直接寫P(1,0)或P(x=1, y=0)而沒有定義X, Y的，每小題-1%\n",
    "#### 這題不是條件機率\n",
    "\n",
    "Let Home team be X, and visiting team be Y. \n",
    "#### (a)  \n",
    "P(Home team wins) = P(X>Y)  \n",
    "= P(X=1 and Y=0) +  P(X=2 and Y=0) +  P(X=2 and Y=1) +  P(X=3 and Y=2) +  P(X=3 and Y=1) +  P(X=3 and Y=0)"
   ]
  },
  {
   "cell_type": "code",
   "execution_count": 200,
   "metadata": {},
   "outputs": [
    {
     "name": "stdout",
     "output_type": "stream",
     "text": [
      "P(Home team wins) = 0.38\n"
     ]
    }
   ],
   "source": [
    "print('P(Home team wins) =', 0.11 + 0.09 + 0.05 + 0.10 + 0.02 + 0.01)"
   ]
  },
  {
   "cell_type": "markdown",
   "metadata": {},
   "source": [
    "#### (b)\n",
    "P(tie) = P(X=Y) = P(X=0 and Y=0) +  P(X=1 and Y=1) +  P(X=2 and Y=2) +  P(X=3 and Y=3)"
   ]
  },
  {
   "cell_type": "code",
   "execution_count": 201,
   "metadata": {},
   "outputs": [
    {
     "name": "stdout",
     "output_type": "stream",
     "text": [
      "P(tie) = 0.28\n"
     ]
    }
   ],
   "source": [
    "print('P(tie) =', 0.14 + 0.10 + 0.04 + 0)"
   ]
  },
  {
   "cell_type": "markdown",
   "metadata": {},
   "source": [
    "#### (c)\n",
    "P(Visiting team wins) = P(X<Y)  \n",
    "= P(X=0 and Y=1) +  P(X=0 and Y=2) +  P(X=0 and Y=3) +  P(X=1 and Y=2) +  P(X=1 and Y=3) +  P(X=2 and Y=3)"
   ]
  },
  {
   "cell_type": "code",
   "execution_count": 202,
   "metadata": {},
   "outputs": [
    {
     "name": "stdout",
     "output_type": "stream",
     "text": [
      "P(Visiting team wins) = 0.34\n"
     ]
    }
   ],
   "source": [
    "print('P(Visiting team wins) =', 0.12 + 0.09 + 0.03 + 0.07 + 0.02 +0.01)"
   ]
  },
  {
   "cell_type": "markdown",
   "metadata": {},
   "source": [
    "## 7.73  \n",
    "#### (a)  \n",
    "She should choose stock 2 because its expected value is higher.  \n",
    "#### (b) 用std或cv看都可\n",
    "She should choose stock 1 because its standard deviation is smaller.  \n",
    "(CV的話則是選stock2)\n"
   ]
  },
  {
   "cell_type": "markdown",
   "metadata": {},
   "source": [
    "## 7.87(母體版)  \n",
    "#### 若(a), (b), (c) mean或std有錯，除了(a)(b)(c)算錯扣分以外，(d)小題會因前面算錯而無法看出mean或std的關係，再-1%。\n",
    "#### (d)需要完整寫出判斷的四個部分包含「mean」->「預期報酬」, 「std」->「風險」，若方向對但有漏掉任何一個，則是為答案不完整-1%。\n",
    "\n",
    "#### (a)"
   ]
  },
  {
   "cell_type": "code",
   "execution_count": 203,
   "metadata": {},
   "outputs": [],
   "source": [
    "df87 = pd.read_excel(\"Xr07-TSE.xlsx\")\n",
    "df_p = df87[[\"AEM\", \"BCE\", \"BMO\", \"DOL\"]]"
   ]
  },
  {
   "cell_type": "code",
   "execution_count": 9,
   "metadata": {},
   "outputs": [],
   "source": [
    "mean = df_p.mean()\n",
    "var = df_p.var(ddof = 0)\n",
    "cov_mat = np.cov(df_p.values,rowvar=False,ddof=0)"
   ]
  },
  {
   "cell_type": "code",
   "execution_count": 10,
   "metadata": {},
   "outputs": [
    {
     "name": "stdout",
     "output_type": "stream",
     "text": [
      "mean =  0.013124659552818262\n",
      "std  =  0.03642971471095417\n"
     ]
    }
   ],
   "source": [
    "weight = [0.25,0.25,0.25,0.25]\n",
    "\n",
    "mean_p = sum([a * b for a, b in zip(mean, weight)])\n",
    "\n",
    "var_p = 0\n",
    "for i in range(4):\n",
    "    var_p += (weight[i]**2) * var[i]\n",
    "    for j in range(i+1, 4):\n",
    "        var_p += 2 * weight[i] * weight[j] * cov_mat[i][j]\n",
    "        \n",
    "std_p = var_p ** (1/2)\n",
    "\n",
    "print('mean = ', mean_p)\n",
    "print('std  = ', std_p)"
   ]
  },
  {
   "cell_type": "markdown",
   "metadata": {},
   "source": [
    "#### (b)"
   ]
  },
  {
   "cell_type": "code",
   "execution_count": 11,
   "metadata": {},
   "outputs": [
    {
     "name": "stdout",
     "output_type": "stream",
     "text": [
      "mean =  0.011846535208133542\n",
      "std  =  0.042438994139488956\n"
     ]
    }
   ],
   "source": [
    "weight = [0.3,0.3,0.2,0.2]\n",
    "\n",
    "mean_p = sum([a * b for a, b in zip(mean, weight)])\n",
    "\n",
    "var_p = 0\n",
    "for i in range(4):\n",
    "    var_p += (weight[i]**2) * var[i]\n",
    "    for j in range(i+1, 4):\n",
    "        var_p += 2 * weight[i] * weight[j] * cov_mat[i][j]\n",
    "        \n",
    "std_p = var_p ** (1/2)\n",
    "\n",
    "print('mean = ', mean_p)\n",
    "print('std  = ', std_p)"
   ]
  },
  {
   "cell_type": "markdown",
   "metadata": {},
   "source": [
    "#### (c)"
   ]
  },
  {
   "cell_type": "code",
   "execution_count": 12,
   "metadata": {},
   "outputs": [
    {
     "name": "stdout",
     "output_type": "stream",
     "text": [
      "mean =  0.01274100721905979\n",
      "std  =  0.05310122217458354\n"
     ]
    }
   ],
   "source": [
    "weight = [0.4,0.15,0.15,0.3]\n",
    "\n",
    "mean_p = sum([a * b for a, b in zip(mean, weight)])\n",
    "\n",
    "var_p = 0\n",
    "for i in range(4):\n",
    "    var_p += (weight[i]**2) * var[i]\n",
    "    for j in range(i+1, 4):\n",
    "        var_p += 2 * weight[i] * weight[j] * cov_mat[i][j]\n",
    "        \n",
    "std_p = var_p ** (1/2)\n",
    "\n",
    "print('mean = ', mean_p)\n",
    "print('std  = ', std_p)"
   ]
  },
  {
   "cell_type": "markdown",
   "metadata": {},
   "source": [
    "#### (d)  \n",
    "(a) has the largest mean and the smallest standard deviation, which means the portfolio has the highest expected return with the least risk."
   ]
  },
  {
   "cell_type": "markdown",
   "metadata": {},
   "source": [
    "## 7.87(樣本版)   \n",
    "#### 若(a), (b), (c) mean或std有錯，除了(a)(b)(c)算錯扣分以外，(d)小題會因前面算錯而無法看出mean或std的關係，再-1%。\n",
    "#### (d)需要完整寫出判斷的四個部分包含「mean」->「預期報酬」, 「std」->「風險」，若方向對但有漏掉任何一個，則是為答案不完整-1%。\n",
    "\n",
    "#### (a)"
   ]
  },
  {
   "cell_type": "code",
   "execution_count": 13,
   "metadata": {},
   "outputs": [],
   "source": [
    "df87 = pd.read_excel(\"Xr07-TSE.xlsx\")\n",
    "df_p = df87[[\"AEM\", \"BCE\", \"BMO\", \"DOL\"]]"
   ]
  },
  {
   "cell_type": "code",
   "execution_count": 14,
   "metadata": {},
   "outputs": [],
   "source": [
    "mean = df_p.mean()\n",
    "var = df_p.var(ddof = 1)\n",
    "cov_mat = np.cov(df_p.values,rowvar=False,ddof=1)"
   ]
  },
  {
   "cell_type": "code",
   "execution_count": 15,
   "metadata": {},
   "outputs": [
    {
     "name": "stdout",
     "output_type": "stream",
     "text": [
      "mean =  0.013124659552818262\n",
      "std  =  0.036737143914178025\n"
     ]
    }
   ],
   "source": [
    "weight = [0.25,0.25,0.25,0.25]\n",
    "\n",
    "mean_p = sum([a * b for a, b in zip(mean, weight)])\n",
    "\n",
    "var_p = 0\n",
    "for i in range(4):\n",
    "    var_p += (weight[i]**2) * var[i]\n",
    "    for j in range(i+1, 4):\n",
    "        var_p += 2 * weight[i] * weight[j] * cov_mat[i][j]\n",
    "        \n",
    "std_p = var_p ** (1/2)\n",
    "\n",
    "print('mean = ', mean_p)\n",
    "print('std  = ', std_p)"
   ]
  },
  {
   "cell_type": "markdown",
   "metadata": {},
   "source": [
    "#### (b)"
   ]
  },
  {
   "cell_type": "code",
   "execution_count": 16,
   "metadata": {},
   "outputs": [
    {
     "name": "stdout",
     "output_type": "stream",
     "text": [
      "mean =  0.011846535208133542\n",
      "std  =  0.04279713546059027\n"
     ]
    }
   ],
   "source": [
    "weight = [0.3,0.3,0.2,0.2]\n",
    "\n",
    "mean_p = sum([a * b for a, b in zip(mean, weight)])\n",
    "\n",
    "var_p = 0\n",
    "for i in range(4):\n",
    "    var_p += (weight[i]**2) * var[i]\n",
    "    for j in range(i+1, 4):\n",
    "        var_p += 2 * weight[i] * weight[j] * cov_mat[i][j]\n",
    "        \n",
    "std_p = var_p ** (1/2)\n",
    "\n",
    "print('mean = ', mean_p)\n",
    "print('std  = ', std_p)"
   ]
  },
  {
   "cell_type": "markdown",
   "metadata": {},
   "source": [
    "#### (c)"
   ]
  },
  {
   "cell_type": "code",
   "execution_count": 17,
   "metadata": {},
   "outputs": [
    {
     "name": "stdout",
     "output_type": "stream",
     "text": [
      "mean =  0.01274100721905979\n",
      "std  =  0.05354934169879262\n"
     ]
    }
   ],
   "source": [
    "weight = [0.4,0.15,0.15,0.3]\n",
    "\n",
    "mean_p = sum([a * b for a, b in zip(mean, weight)])\n",
    "\n",
    "var_p = 0\n",
    "for i in range(4):\n",
    "    var_p += (weight[i]**2) * var[i]\n",
    "    for j in range(i+1, 4):\n",
    "        var_p += 2 * weight[i] * weight[j] * cov_mat[i][j]\n",
    "        \n",
    "std_p = var_p ** (1/2)\n",
    "\n",
    "print('mean = ', mean_p)\n",
    "print('std  = ', std_p)"
   ]
  },
  {
   "cell_type": "markdown",
   "metadata": {},
   "source": [
    "#### (d)  \n",
    "(a) has the largest mean and the smallest standard deviation, which means the portfolio has the highest expected return with the least risk."
   ]
  },
  {
   "cell_type": "markdown",
   "metadata": {},
   "source": [
    "## 7.111"
   ]
  },
  {
   "cell_type": "code",
   "execution_count": 189,
   "metadata": {},
   "outputs": [
    {
     "name": "stdout",
     "output_type": "stream",
     "text": [
      "(a) 0.9703300880644576\n",
      "(b) 0.010734297951536569\n",
      "(c) 0.041658350764812495\n"
     ]
    }
   ],
   "source": [
    "n = 25        \n",
    "p = 0.75       \n",
    "hh = stats.binom(n, p)\n",
    "print('(a)', 1 - hh.cdf(14))\n",
    "print('(b)', hh.cdf(13))\n",
    "print('(c)', hh.pmf(15))"
   ]
  },
  {
   "cell_type": "markdown",
   "metadata": {},
   "source": [
    "## 7.123"
   ]
  },
  {
   "cell_type": "code",
   "execution_count": 181,
   "metadata": {},
   "outputs": [],
   "source": [
    "P_g = 2/(18+18+2)\n",
    "P_r = 18/(18+18+2)\n",
    "P_b = 18/(18+18+2)"
   ]
  },
  {
   "cell_type": "code",
   "execution_count": 182,
   "metadata": {},
   "outputs": [
    {
     "name": "stdout",
     "output_type": "stream",
     "text": [
      "(a) 0.3817436946703421\n",
      "(b) 0.25880496502171735\n",
      "(c) 0.14355128565130537\n",
      "(d) 0.2967956822218818\n"
     ]
    }
   ],
   "source": [
    "n = 25\n",
    "p = P_g\n",
    "hh = stats.binom(n, p)\n",
    "print('(a)', 1 - hh.cdf(1))\n",
    "print('(b)', hh.cdf(0))\n",
    "\n",
    "p = P_b\n",
    "hh = stats.binom(n, p)\n",
    "print('(c)', 1 - hh.cdf(14))\n",
    "\n",
    "p = P_r\n",
    "hh = stats.binom(n, p)\n",
    "print('(d)', hh.cdf(10))"
   ]
  },
  {
   "cell_type": "markdown",
   "metadata": {},
   "source": [
    "## 7.131"
   ]
  },
  {
   "cell_type": "code",
   "execution_count": 188,
   "metadata": {},
   "outputs": [
    {
     "name": "stdout",
     "output_type": "stream",
     "text": [
      "(a) 0.173438327355808\n",
      "(b) 0.23884377019126307\n"
     ]
    }
   ],
   "source": [
    "mu = 1/3*14\n",
    "pp = stats.poisson(mu)\n",
    "print('(a)', pp.pmf(5))\n",
    "\n",
    "mu = 1/3\n",
    "pp = stats.poisson(mu)\n",
    "print('(b)', pp.pmf(1))"
   ]
  },
  {
   "cell_type": "markdown",
   "metadata": {},
   "source": [
    "## 7.137"
   ]
  },
  {
   "cell_type": "code",
   "execution_count": 190,
   "metadata": {},
   "outputs": [
    {
     "name": "stdout",
     "output_type": "stream",
     "text": [
      "(a) 0.10882198108584873\n",
      "(b) 0.0820849986238988\n",
      "(c) 0.7575761331330662\n"
     ]
    }
   ],
   "source": [
    "mu = 2.5\n",
    "pp = stats.poisson(mu)\n",
    "print('(a)', 1 - pp.cdf(4))\n",
    "print('(b)', pp.cdf(0))\n",
    "print('(c)', pp.cdf(3))"
   ]
  }
 ],
 "metadata": {
  "kernelspec": {
   "display_name": "Python 3",
   "language": "python",
   "name": "python3"
  },
  "language_info": {
   "codemirror_mode": {
    "name": "ipython",
    "version": 3
   },
   "file_extension": ".py",
   "mimetype": "text/x-python",
   "name": "python",
   "nbconvert_exporter": "python",
   "pygments_lexer": "ipython3",
   "version": "3.8.5"
  }
 },
 "nbformat": 4,
 "nbformat_minor": 4
}
